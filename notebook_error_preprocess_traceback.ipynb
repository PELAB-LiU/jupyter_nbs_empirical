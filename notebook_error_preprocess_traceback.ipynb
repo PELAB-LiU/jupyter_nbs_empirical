{
 "cells": [
  {
   "cell_type": "markdown",
   "id": "c9f1f785",
   "metadata": {},
   "source": [
    "## Parse the traceback column to readable texts"
   ]
  },
  {
   "cell_type": "markdown",
   "id": "1f60e92b",
   "metadata": {},
   "source": [
    "## 1. nb errors in Kaggle"
   ]
  },
  {
   "cell_type": "code",
   "execution_count": 1,
   "id": "33a52057",
   "metadata": {},
   "outputs": [],
   "source": [
    "import pandas as pd\n",
    "import util\n",
    "import config\n",
    "\n",
    "path_err = config.path_kaggle_error_process + '/nberror_k_p.xlsx'\n",
    "df_err = pd.read_excel(path_err)"
   ]
  },
  {
   "cell_type": "code",
   "execution_count": 10,
   "id": "bfd41de2",
   "metadata": {
    "scrolled": true
   },
   "outputs": [
    {
     "data": {
      "text/plain": [
       "['\\x1b[0;31m---------------------------------------------------------------------------\\x1b[0m',\n",
       " '\\x1b[0;31mKeyboardInterrupt\\x1b[0m                         Traceback (most recent call last)',\n",
       " '\\x1b[0;32m/tmp/ipykernel_17/2453302500.py\\x1b[0m in \\x1b[0;36m<module>\\x1b[0;34m\\x1b[0m\\n\\x1b[1;32m     20\\x1b[0m             \\x1b[0mdata\\x1b[0m \\x1b[0;34m=\\x1b[0m \\x1b[0mtensor\\x1b[0m\\x1b[0;34m(\\x1b[0m\\x1b[0mcurr_ct\\x1b[0m\\x1b[0;34m[\\x1b[0m\\x1b[0;34m...\\x1b[0m\\x1b[0;34m,\\x1b[0m\\x1b[0mcurr_slice\\x1b[0m\\x1b[0;34m]\\x1b[0m\\x1b[0;34m.\\x1b[0m\\x1b[0mastype\\x1b[0m\\x1b[0;34m(\\x1b[0m\\x1b[0mnp\\x1b[0m\\x1b[0;34m.\\x1b[0m\\x1b[0mfloat32\\x1b[0m\\x1b[0;34m)\\x1b[0m\\x1b[0;34m)\\x1b[0m\\x1b[0;34m\\x1b[0m\\x1b[0;34m\\x1b[0m\\x1b[0m\\n\\x1b[1;32m     21\\x1b[0m             \\x1b[0mmask\\x1b[0m \\x1b[0;34m=\\x1b[0m \\x1b[0mImage\\x1b[0m\\x1b[0;34m.\\x1b[0m\\x1b[0mfromarray\\x1b[0m\\x1b[0;34m(\\x1b[0m\\x1b[0mcurr_mask\\x1b[0m\\x1b[0;34m[\\x1b[0m\\x1b[0;34m...\\x1b[0m\\x1b[0;34m,\\x1b[0m\\x1b[0mcurr_slice\\x1b[0m\\x1b[0;34m]\\x1b[0m\\x1b[0;34m.\\x1b[0m\\x1b[0mastype\\x1b[0m\\x1b[0;34m(\\x1b[0m\\x1b[0;34m\\'uint8\\'\\x1b[0m\\x1b[0;34m)\\x1b[0m\\x1b[0;34m,\\x1b[0m \\x1b[0mmode\\x1b[0m\\x1b[0;34m=\\x1b[0m\\x1b[0;34m\"L\"\\x1b[0m\\x1b[0;34m)\\x1b[0m\\x1b[0;34m\\x1b[0m\\x1b[0;34m\\x1b[0m\\x1b[0m\\n\\x1b[0;32m---> 22\\x1b[0;31m             \\x1b[0mdata\\x1b[0m\\x1b[0;34m.\\x1b[0m\\x1b[0msave_jpg\\x1b[0m\\x1b[0;34m(\\x1b[0m\\x1b[0;34mf\"images/{curr_file_name}_slice_{curr_slice}.jpg\"\\x1b[0m\\x1b[0;34m,\\x1b[0m \\x1b[0;34m[\\x1b[0m\\x1b[0mdicom_windows\\x1b[0m\\x1b[0;34m.\\x1b[0m\\x1b[0mliver\\x1b[0m\\x1b[0;34m,\\x1b[0m\\x1b[0mdicom_windows\\x1b[0m\\x1b[0;34m.\\x1b[0m\\x1b[0mcustom\\x1b[0m\\x1b[0;34m]\\x1b[0m\\x1b[0;34m)\\x1b[0m\\x1b[0;34m\\x1b[0m\\x1b[0;34m\\x1b[0m\\x1b[0m\\n\\x1b[0m\\x1b[1;32m     23\\x1b[0m             \\x1b[0mmask\\x1b[0m\\x1b[0;34m.\\x1b[0m\\x1b[0msave\\x1b[0m\\x1b[0;34m(\\x1b[0m\\x1b[0;34mf\"masks/{curr_file_name}_slice_{curr_slice}.png\"\\x1b[0m\\x1b[0;34m)\\x1b[0m\\x1b[0;34m\\x1b[0m\\x1b[0;34m\\x1b[0m\\x1b[0m\\n\\x1b[1;32m     24\\x1b[0m \\x1b[0;32melse\\x1b[0m\\x1b[0;34m:\\x1b[0m\\x1b[0;34m\\x1b[0m\\x1b[0;34m\\x1b[0m\\x1b[0m\\n',\n",
       " \"\\x1b[0;32m/tmp/ipykernel_17/2916795404.py\\x1b[0m in \\x1b[0;36msave_jpg\\x1b[0;34m(x, path, wins, bins, quality)\\x1b[0m\\n\\x1b[1;32m     36\\x1b[0m     \\x1b[0mfn\\x1b[0m \\x1b[0;34m=\\x1b[0m \\x1b[0mPath\\x1b[0m\\x1b[0;34m(\\x1b[0m\\x1b[0mpath\\x1b[0m\\x1b[0;34m)\\x1b[0m\\x1b[0;34m.\\x1b[0m\\x1b[0mwith_suffix\\x1b[0m\\x1b[0;34m(\\x1b[0m\\x1b[0;34m'.jpg'\\x1b[0m\\x1b[0;34m)\\x1b[0m\\x1b[0;34m\\x1b[0m\\x1b[0;34m\\x1b[0m\\x1b[0m\\n\\x1b[1;32m     37\\x1b[0m     \\x1b[0mx\\x1b[0m \\x1b[0;34m=\\x1b[0m \\x1b[0;34m(\\x1b[0m\\x1b[0mx\\x1b[0m\\x1b[0;34m.\\x1b[0m\\x1b[0mto_nchan\\x1b[0m\\x1b[0;34m(\\x1b[0m\\x1b[0mwins\\x1b[0m\\x1b[0;34m,\\x1b[0m \\x1b[0mbins\\x1b[0m\\x1b[0;34m)\\x1b[0m\\x1b[0;34m*\\x1b[0m\\x1b[0;36m255\\x1b[0m\\x1b[0;34m)\\x1b[0m\\x1b[0;34m.\\x1b[0m\\x1b[0mbyte\\x1b[0m\\x1b[0;34m(\\x1b[0m\\x1b[0;34m)\\x1b[0m\\x1b[0;34m\\x1b[0m\\x1b[0;34m\\x1b[0m\\x1b[0m\\n\\x1b[0;32m---> 38\\x1b[0;31m     \\x1b[0mim\\x1b[0m \\x1b[0;34m=\\x1b[0m \\x1b[0mImage\\x1b[0m\\x1b[0;34m.\\x1b[0m\\x1b[0mfromarray\\x1b[0m\\x1b[0;34m(\\x1b[0m\\x1b[0mx\\x1b[0m\\x1b[0;34m.\\x1b[0m\\x1b[0mpermute\\x1b[0m\\x1b[0;34m(\\x1b[0m\\x1b[0;36m1\\x1b[0m\\x1b[0;34m,\\x1b[0m\\x1b[0;36m2\\x1b[0m\\x1b[0;34m,\\x1b[0m\\x1b[0;36m0\\x1b[0m\\x1b[0;34m)\\x1b[0m\\x1b[0;34m.\\x1b[0m\\x1b[0mnumpy\\x1b[0m\\x1b[0;34m(\\x1b[0m\\x1b[0;34m)\\x1b[0m\\x1b[0;34m,\\x1b[0m \\x1b[0mmode\\x1b[0m\\x1b[0;34m=\\x1b[0m\\x1b[0;34m[\\x1b[0m\\x1b[0;34m'RGB'\\x1b[0m\\x1b[0;34m,\\x1b[0m\\x1b[0;34m'CMYK'\\x1b[0m\\x1b[0;34m]\\x1b[0m\\x1b[0;34m[\\x1b[0m\\x1b[0mx\\x1b[0m\\x1b[0;34m.\\x1b[0m\\x1b[0mshape\\x1b[0m\\x1b[0;34m[\\x1b[0m\\x1b[0;36m0\\x1b[0m\\x1b[0;34m]\\x1b[0m\\x1b[0;34m==\\x1b[0m\\x1b[0;36m4\\x1b[0m\\x1b[0;34m]\\x1b[0m\\x1b[0;34m)\\x1b[0m\\x1b[0;34m\\x1b[0m\\x1b[0;34m\\x1b[0m\\x1b[0m\\n\\x1b[0m\\x1b[1;32m     39\\x1b[0m     \\x1b[0mim\\x1b[0m\\x1b[0;34m.\\x1b[0m\\x1b[0msave\\x1b[0m\\x1b[0;34m(\\x1b[0m\\x1b[0mfn\\x1b[0m\\x1b[0;34m,\\x1b[0m \\x1b[0mquality\\x1b[0m\\x1b[0;34m=\\x1b[0m\\x1b[0mquality\\x1b[0m\\x1b[0;34m)\\x1b[0m\\x1b[0;34m\\x1b[0m\\x1b[0;34m\\x1b[0m\\x1b[0m\\n\\x1b[1;32m     40\\x1b[0m \\x1b[0;34m\\x1b[0m\\x1b[0m\\n\",\n",
       " '\\x1b[0;32m/opt/conda/lib/python3.7/site-packages/PIL/Image.py\\x1b[0m in \\x1b[0;36mfromarray\\x1b[0;34m(obj, mode)\\x1b[0m\\n\\x1b[1;32m   2943\\x1b[0m     \\x1b[0;32mif\\x1b[0m \\x1b[0mstrides\\x1b[0m \\x1b[0;32mis\\x1b[0m \\x1b[0;32mnot\\x1b[0m \\x1b[0;32mNone\\x1b[0m\\x1b[0;34m:\\x1b[0m\\x1b[0;34m\\x1b[0m\\x1b[0;34m\\x1b[0m\\x1b[0m\\n\\x1b[1;32m   2944\\x1b[0m         \\x1b[0;32mif\\x1b[0m \\x1b[0mhasattr\\x1b[0m\\x1b[0;34m(\\x1b[0m\\x1b[0mobj\\x1b[0m\\x1b[0;34m,\\x1b[0m \\x1b[0;34m\"tobytes\"\\x1b[0m\\x1b[0;34m)\\x1b[0m\\x1b[0;34m:\\x1b[0m\\x1b[0;34m\\x1b[0m\\x1b[0;34m\\x1b[0m\\x1b[0m\\n\\x1b[0;32m-> 2945\\x1b[0;31m             \\x1b[0mobj\\x1b[0m \\x1b[0;34m=\\x1b[0m \\x1b[0mobj\\x1b[0m\\x1b[0;34m.\\x1b[0m\\x1b[0mtobytes\\x1b[0m\\x1b[0;34m(\\x1b[0m\\x1b[0;34m)\\x1b[0m\\x1b[0;34m\\x1b[0m\\x1b[0;34m\\x1b[0m\\x1b[0m\\n\\x1b[0m\\x1b[1;32m   2946\\x1b[0m         \\x1b[0;32melse\\x1b[0m\\x1b[0;34m:\\x1b[0m\\x1b[0;34m\\x1b[0m\\x1b[0;34m\\x1b[0m\\x1b[0m\\n\\x1b[1;32m   2947\\x1b[0m             \\x1b[0mobj\\x1b[0m \\x1b[0;34m=\\x1b[0m \\x1b[0mobj\\x1b[0m\\x1b[0;34m.\\x1b[0m\\x1b[0mtostring\\x1b[0m\\x1b[0;34m(\\x1b[0m\\x1b[0;34m)\\x1b[0m\\x1b[0;34m\\x1b[0m\\x1b[0;34m\\x1b[0m\\x1b[0m\\n',\n",
       " '\\x1b[0;31mKeyboardInterrupt\\x1b[0m: ']"
      ]
     },
     "execution_count": 10,
     "metadata": {},
     "output_type": "execute_result"
    }
   ],
   "source": [
    "# before\n",
    "util.list_traceback(df_err.traceback.iloc[109])"
   ]
  },
  {
   "cell_type": "code",
   "execution_count": 15,
   "id": "5041c2bf",
   "metadata": {},
   "outputs": [],
   "source": [
    "df_err['traceback'] = df_err['traceback'].map(util.parse_traceback)\n",
    "df_err.to_excel(config.path_kaggle_error_process+'/nberror_k_p.xlsx', index=False, engine='xlsxwriter')"
   ]
  },
  {
   "cell_type": "code",
   "execution_count": 13,
   "id": "3dc259ee",
   "metadata": {},
   "outputs": [
    {
     "name": "stdout",
     "output_type": "stream",
     "text": [
      "---------------------------------------------------------------------------\n",
      "KeyboardInterrupt                         Traceback (most recent call last)\n",
      "/tmp/ipykernel_17/2453302500.py in <module>\n",
      "     20             data = tensor(curr_ct[...,curr_slice].astype(np.float32))\n",
      "     21             mask = Image.fromarray(curr_mask[...,curr_slice].astype('uint8'), mode=\"L\")\n",
      "---> 22             data.save_jpg(f\"images/{curr_file_name}_slice_{curr_slice}.jpg\", [dicom_windows.liver,dicom_windows.custom])\n",
      "     23             mask.save(f\"masks/{curr_file_name}_slice_{curr_slice}.png\")\n",
      "     24 else:\n",
      "\n",
      "/tmp/ipykernel_17/2916795404.py in save_jpg(x, path, wins, bins, quality)\n",
      "     36     fn = Path(path).with_suffix('.jpg')\n",
      "     37     x = (x.to_nchan(wins, bins)*255).byte()\n",
      "---> 38     im = Image.fromarray(x.permute(1,2,0).numpy(), mode=['RGB','CMYK'][x.shape[0]==4])\n",
      "     39     im.save(fn, quality=quality)\n",
      "     40 \n",
      "\n",
      "/opt/conda/lib/python3.7/site-packages/PIL/Image.py in fromarray(obj, mode)\n",
      "   2943     if strides is not None:\n",
      "   2944         if hasattr(obj, \"tobytes\"):\n",
      "-> 2945             obj = obj.tobytes()\n",
      "   2946         else:\n",
      "   2947             obj = obj.tostring()\n",
      "\n",
      "KeyboardInterrupt: \n"
     ]
    }
   ],
   "source": [
    "# after\n",
    "util.print_traceback(df_err.traceback.iloc[109])"
   ]
  },
  {
   "cell_type": "markdown",
   "id": "32e802be",
   "metadata": {},
   "source": [
    "### 2. nb errors in Github"
   ]
  },
  {
   "cell_type": "code",
   "execution_count": 16,
   "id": "1a4b4583",
   "metadata": {},
   "outputs": [],
   "source": [
    "import pandas as pd\n",
    "import util\n",
    "import config\n",
    "\n",
    "df2_err = pd.read_excel(config.path_github_error_process + '/nberror_g_all_p.xlsx')\n",
    "df2_err['traceback'] = df2_err['traceback'].map(util.parse_traceback)\n",
    "df2_err.to_excel(config.path_github_error_process + '/nberror_g_all_p.xlsx', index=False, engine='xlsxwriter')"
   ]
  },
  {
   "cell_type": "code",
   "execution_count": 17,
   "id": "7f53ec1a",
   "metadata": {},
   "outputs": [
    {
     "name": "stdout",
     "output_type": "stream",
     "text": [
      "---------------------------------------------------------------------------\n",
      "AttributeError                            Traceback (most recent call last)\n",
      "<ipython-input-15-b82b732fff69> in <module>()\n",
      "----> 1 vectors.show()\n",
      "\n",
      "C:\\ProgramData\\Anaconda3\\lib\\site-packages\\scipy\\sparse\\base.py in __getattr__(self, attr)\n",
      "    645             return self.getnnz()\n",
      "    646         else:\n",
      "--> 647             raise AttributeError(attr + \" not found\")\n",
      "    648 \n",
      "    649     def transpose(self, axes=None, copy=False):\n",
      "\n",
      "AttributeError: show not found\n"
     ]
    }
   ],
   "source": [
    "util.print_traceback(df2_err.traceback.iloc[109])"
   ]
  },
  {
   "cell_type": "code",
   "execution_count": null,
   "id": "134411ed",
   "metadata": {},
   "outputs": [],
   "source": []
  }
 ],
 "metadata": {
  "kernelspec": {
   "display_name": "Python 3 (ipykernel)",
   "language": "python",
   "name": "python3"
  },
  "language_info": {
   "codemirror_mode": {
    "name": "ipython",
    "version": 3
   },
   "file_extension": ".py",
   "mimetype": "text/x-python",
   "name": "python",
   "nbconvert_exporter": "python",
   "pygments_lexer": "ipython3",
   "version": "3.11.5"
  }
 },
 "nbformat": 4,
 "nbformat_minor": 5
}
