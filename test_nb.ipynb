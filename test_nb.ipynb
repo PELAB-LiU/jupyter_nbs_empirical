{
 "cells": [
  {
   "cell_type": "code",
   "execution_count": 8,
   "id": "47460288-396c-4134-b033-37e6ea1e239d",
   "metadata": {
    "tags": []
   },
   "outputs": [],
   "source": [
    "import numpy as np\n",
    "import tensorflow as tf"
   ]
  },
  {
   "cell_type": "code",
   "execution_count": null,
   "outputs": [],
   "source": [
    "# runtime info for test case 1\n",
    "x = tf.constant([[1.0, 1.0], [1.0, 2.0], [1.0, 3.0]], dtype=tf.float64) \n",
    "y_ = tf.constant([1.0, 2.0, 3.0], dtype=tf.float64) #1x3\n",
    "w = tf.random.truncated_normal(shape=[2,1], stddev=0.1, dtype=tf.float64) "
   ],
   "metadata": {
    "collapsed": false
   },
   "id": "795faf0bbaab749c"
  },
  {
   "cell_type": "code",
   "execution_count": null,
   "outputs": [],
   "source": [
    "# test case 1\n",
    "y = tf.matmul(x, w) #3x1\n",
    "diff = y - y_ # 3x3\n",
    "error = tf.reduce_mean(tf.square(diff))"
   ],
   "metadata": {
    "collapsed": false
   },
   "id": "608f8bcbfc10f614"
  },
  {
   "cell_type": "code",
   "execution_count": null,
   "outputs": [],
   "source": [
    "# runtime info for test case 2\n",
    "x = tf.constant([[1.0, 1.0], [1.0, 2.0], [1.0, 3.0], [1.0, 2.0], [1.0, 2.0], [1.0, 2.0]], dtype=tf.float64) \n",
    "y = np.array([2,3])\n",
    "z = np.array([[1, 2, 3], [4, 5, 6]], np.int64)\n",
    "a:list=[1,2,3,4,5,6,7,8]\n",
    "b=(1,2,3)"
   ],
   "metadata": {
    "collapsed": false
   },
   "id": "2a2c0b42a5fcdc06"
  },
  {
   "cell_type": "code",
   "execution_count": 125,
   "id": "2a32675a-cae2-44e4-9260-fdfb470971e7",
   "metadata": {
    "tags": []
   },
   "outputs": [],
   "source": [
    "## test case 2 simple assignments, list, tuple, np.array, tf.tensor\n",
    "x = y\n",
    "x = y+x\n",
    "a[0:2]=[0,0]+[0,1]\n",
    "#b[0:2]=[0,0]+[0,1]\n",
    "#x[0:2]=[0,0]+[0,1]\n",
    "x[0]=2\n",
    "#a=(1,2)+1"
   ]
  },
  {
   "cell_type": "code",
   "execution_count": 46,
   "id": "ea690e14-2a28-4ed1-9e81-9a775cf67b0c",
   "metadata": {
    "tags": []
   },
   "outputs": [],
   "source": [
    "## test case 3 augassignments"
   ]
  },
  {
   "cell_type": "code",
   "execution_count": null,
   "id": "0479f0d7-3fb0-4dba-8b75-aec62594d55f",
   "metadata": {},
   "outputs": [],
   "source": []
  },
  {
   "cell_type": "code",
   "execution_count": null,
   "id": "cb6196b7-8e11-426f-99d9-0fdb45e5952b",
   "metadata": {},
   "outputs": [],
   "source": []
  }
 ],
 "metadata": {
  "kernelspec": {
   "display_name": "Python 3 (ipykernel)",
   "language": "python",
   "name": "python3"
  },
  "language_info": {
   "codemirror_mode": {
    "name": "ipython",
    "version": 3
   },
   "file_extension": ".py",
   "mimetype": "text/x-python",
   "name": "python",
   "nbconvert_exporter": "python",
   "pygments_lexer": "ipython3",
   "version": "3.10.12"
  }
 },
 "nbformat": 4,
 "nbformat_minor": 5
}
