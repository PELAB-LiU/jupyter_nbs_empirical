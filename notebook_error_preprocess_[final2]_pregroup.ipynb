{
 "cells": [
  {
   "cell_type": "markdown",
   "id": "a976ac74",
   "metadata": {},
   "source": [
    "## Finalize dataset for clustering"
   ]
  },
  {
   "cell_type": "markdown",
   "id": "4b94c86f",
   "metadata": {},
   "source": [
    "ML bugs\n",
    "\n",
    "Deduplicate (pregroup)"
   ]
  },
  {
   "cell_type": "code",
   "execution_count": 97,
   "id": "bbd7d691",
   "metadata": {
    "scrolled": true
   },
   "outputs": [],
   "source": [
    "# import cluster_util\n",
    "# import importlib\n",
    "# importlib.reload(cluster_util)\n",
    "# import cluster_util"
   ]
  },
  {
   "cell_type": "markdown",
   "id": "a58ec00d",
   "metadata": {},
   "source": [
    "## Pre-group error values based on similarity"
   ]
  },
  {
   "cell_type": "code",
   "execution_count": 1,
   "id": "26f34da2",
   "metadata": {},
   "outputs": [
    {
     "name": "stdout",
     "output_type": "stream",
     "text": [
      "path_default=WindowsPath('C:/Users/yirwa29/Downloads/Dataset-Nb')\n"
     ]
    }
   ],
   "source": [
    "import pandas as pd\n",
    "import json\n",
    "import config, util\n",
    "\n",
    "df_mlerr_k = pd.read_excel(config.path_kaggle_error_process.joinpath('nberror_k_eid_p_mlbugs.xlsx'))\n",
    "df_mlerr_g = pd.read_excel(config.path_github_error_process.joinpath('nberror_g_all_eid_p_mlbugs.xlsx'))"
   ]
  },
  {
   "cell_type": "code",
   "execution_count": 8,
   "id": "b22436ef",
   "metadata": {},
   "outputs": [
    {
     "data": {
      "text/plain": [
       "2532"
      ]
     },
     "execution_count": 8,
     "metadata": {},
     "output_type": "execute_result"
    }
   ],
   "source": [
    "# filter out non-mlbugs and bugs without error values\n",
    "df_mlerr_k_filtered = df_mlerr_k[(~df_mlerr_k.exp_mllib_extracted.isnull())&(~df_mlerr_k.evalue.isnull())]\n",
    "len(df_mlerr_k_filtered) "
   ]
  },
  {
   "cell_type": "code",
   "execution_count": 9,
   "id": "cc3b6d32",
   "metadata": {},
   "outputs": [
    {
     "data": {
      "text/plain": [
       "35854"
      ]
     },
     "execution_count": 9,
     "metadata": {},
     "output_type": "execute_result"
    }
   ],
   "source": [
    "df_mlerr_g_filtered = df_mlerr_g[(~df_mlerr_g.exp_mllib_extracted.isnull())&(~df_mlerr_g.evalue.isnull())]# &(df_mlerr_g.python_version==3))]\n",
    "len(df_mlerr_g_filtered) "
   ]
  },
  {
   "cell_type": "code",
   "execution_count": 11,
   "id": "498a6c76",
   "metadata": {},
   "outputs": [
    {
     "data": {
      "text/plain": [
       "38386"
      ]
     },
     "execution_count": 11,
     "metadata": {},
     "output_type": "execute_result"
    }
   ],
   "source": [
    "# join the two datasets\n",
    "df_mlerr_k_filtered.loc[:,\"nb_source\"] = config.NB_SOURCE[\"kaggle\"]\n",
    "df_mlerr_g_filtered.loc[:,\"nb_source\"] = config.NB_SOURCE[\"github\"]\n",
    "df_mlerr_mlbugs = pd.concat([df_mlerr_g_filtered, df_mlerr_k_filtered], ignore_index=True, sort=False)\n",
    "len(df_mlerr_mlbugs) "
   ]
  },
  {
   "cell_type": "code",
   "execution_count": 12,
   "id": "61b24cf8",
   "metadata": {},
   "outputs": [
    {
     "name": "stderr",
     "output_type": "stream",
     "text": [
      "C:\\Users\\yirwa29\\AppData\\Local\\anaconda3\\envs\\chatgpt\\Lib\\site-packages\\tqdm\\auto.py:21: TqdmWarning: IProgress not found. Please update jupyter and ipywidgets. See https://ipywidgets.readthedocs.io/en/stable/user_install.html\n",
      "  from .autonotebook import tqdm as notebook_tqdm\n"
     ]
    }
   ],
   "source": [
    "import cluster_util\n",
    "\n",
    "# for jaccard similarity\n",
    "df_mlerr_mlbugs[\"evalue_processed\"] = df_mlerr_mlbugs.evalue.apply(cluster_util.preprocess_text_similarity)\n",
    "# for hashing match\n",
    "df_mlerr_mlbugs[\"evalue_tokenized\"] = df_mlerr_mlbugs.evalue.apply(cluster_util.preprocess_text)\n",
    "df_mlerr_mlbugs[\"hash_evalue_tokenized\"] = df_mlerr_mlbugs.evalue_tokenized.apply(cluster_util.generateHash)"
   ]
  },
  {
   "cell_type": "code",
   "execution_count": 13,
   "id": "94cf85eb",
   "metadata": {},
   "outputs": [
    {
     "data": {
      "text/plain": [
       "36455"
      ]
     },
     "execution_count": 13,
     "metadata": {},
     "output_type": "execute_result"
    }
   ],
   "source": [
    "df_mlerr_mlbugs = df_mlerr_mlbugs[~(df_mlerr_mlbugs.evalue_processed=='')]\n",
    "# there is big drop\n",
    "# because of key errors. key errors tend to be only one word/the key(e.g., 'val_accuracy) in error values? \n",
    "# this will be excluded when pregrouping. preprocess_text_similarity() will delete words inside ''\n",
    "len(df_mlerr_mlbugs)"
   ]
  },
  {
   "cell_type": "code",
   "execution_count": 14,
   "id": "86e4df00",
   "metadata": {},
   "outputs": [],
   "source": [
    "from scipy.spatial import distance\n",
    "from itertools import combinations\n",
    "import numpy as np\n",
    "\n",
    "# word level similarity\n",
    "data_sets = [(row[\"hash_evalue_tokenized\"], set(row[\"evalue_processed\"].split(\" \"))) for _,row in df_mlerr_mlbugs.iterrows()]\n",
    "\n",
    "def similarity_check(t1,t2):\n",
    "    if t1[0]==t2[0]:\n",
    "        return 1\n",
    "    return cluster_util.jaccard_similarity(t1[1], t2[1])\n",
    "\n",
    "# hashing dup + jaccard similarity\n",
    "jaccard_generator = (similarity_check(row1, row2) for row1, row2 in combinations(data_sets, r=2))\n",
    "flattened_matrix = np.fromiter(jaccard_generator, dtype=np.float32)\n",
    "# expand flattened_matrix (upper triangle)\n",
    "sim_matrix = distance.squareform(flattened_matrix)\n",
    "# set ones at the diagonal\n",
    "sim_matrix += np.identity(len(df_mlerr_mlbugs))"
   ]
  },
  {
   "cell_type": "code",
   "execution_count": 15,
   "id": "f53c5039",
   "metadata": {},
   "outputs": [],
   "source": [
    "import numpy as np\n",
    "\n",
    "with open(config.path_default.joinpath(\"df_mlerr_mlbugs_sim_matrix_hash_jaccard.txt\"), 'wb') as f:\n",
    "    np.save(f, sim_matrix)\n",
    "    \n",
    "df_mlerr_mlbugs.to_excel(config.path_default.joinpath(\"df_mlerr_mlbugs.xlsx\"),\n",
    "                         index=False, engine='xlsxwriter')"
   ]
  },
  {
   "cell_type": "code",
   "execution_count": 16,
   "id": "e431c6c9",
   "metadata": {},
   "outputs": [
    {
     "data": {
      "text/plain": [
       "1.0"
      ]
     },
     "execution_count": 16,
     "metadata": {},
     "output_type": "execute_result"
    }
   ],
   "source": [
    "cluster_util.jaccard_similarity(set(cluster_util.preprocess_text_similarity(\"name 'x' is not defined\").split()),\n",
    "                                set(cluster_util.preprocess_text_similarity(\"name 'head' is not defined\").split()))"
   ]
  },
  {
   "cell_type": "code",
   "execution_count": 17,
   "id": "e19e9858",
   "metadata": {},
   "outputs": [
    {
     "data": {
      "text/plain": [
       "1.0"
      ]
     },
     "execution_count": 17,
     "metadata": {},
     "output_type": "execute_result"
    }
   ],
   "source": [
    "cluster_util.jaccard_similarity(set(cluster_util.preprocess_text_similarity(\"'GridSearchCV' object has no attribute 'best_params_'\").split()),\n",
    "                                set(cluster_util.preprocess_text_similarity(\"'Series' object has no attribute 'add'\").split()))"
   ]
  },
  {
   "cell_type": "code",
   "execution_count": 18,
   "id": "9d0c8d6e",
   "metadata": {},
   "outputs": [],
   "source": [
    "# build connect matrix\n",
    "connect_threshold = 0.7\n",
    "connect_matrix = (sim_matrix >= connect_threshold).astype(int)\n",
    "with open(config.path_default.joinpath(\"df_mlerr_mlbugs_connect_matrix_hash_jaccard.txt\"), 'wb') as f:\n",
    "    np.save(f, connect_matrix)"
   ]
  },
  {
   "cell_type": "code",
   "execution_count": 19,
   "id": "183382f1",
   "metadata": {},
   "outputs": [],
   "source": [
    "# build graph out of connect matrix, get connected subgroups=>clusters\n",
    "import networkx as nx\n",
    "\n",
    "G = nx.from_numpy_array(connect_matrix)\n",
    "subgraphs = nx.connected_components(G)\n",
    "res_pregroups = list(subgraphs)"
   ]
  },
  {
   "cell_type": "code",
   "execution_count": 20,
   "id": "9e8899fd",
   "metadata": {},
   "outputs": [],
   "source": [
    "res_labels = np.full(len(df_mlerr_mlbugs),-1)\n",
    "for cluster_id in range(len(res_pregroups)):\n",
    "    for index in res_pregroups[cluster_id]:\n",
    "        res_labels[index]=cluster_id\n",
    "df_mlerr_mlbugs[\"pregroup_cluster\"] = res_labels"
   ]
  },
  {
   "cell_type": "code",
   "execution_count": 21,
   "id": "a84b3318",
   "metadata": {},
   "outputs": [],
   "source": [
    "df_mlerr_mlbugs.to_excel(config.path_default.joinpath(\"df_mlerr_mlbugs_pregroup.xlsx\"),\n",
    "                         index=False, engine='xlsxwriter')"
   ]
  },
  {
   "cell_type": "markdown",
   "id": "99f84212",
   "metadata": {},
   "source": [
    "## Analyzing\n",
    "\n",
    "### overall"
   ]
  },
  {
   "cell_type": "code",
   "execution_count": 1,
   "id": "f9f40e48",
   "metadata": {},
   "outputs": [
    {
     "name": "stdout",
     "output_type": "stream",
     "text": [
      "path_default=WindowsPath('C:/Users/yirwa29/Downloads/Dataset-Nb')\n"
     ]
    }
   ],
   "source": [
    "import pandas as pd\n",
    "import config\n",
    "\n",
    "df_mlerr_mlbugs = pd.read_excel(config.path_default.joinpath('df_mlerr_mlbugs_pregroup.xlsx'))"
   ]
  },
  {
   "cell_type": "code",
   "execution_count": 22,
   "id": "3b7d18a9",
   "metadata": {},
   "outputs": [
    {
     "data": {
      "text/plain": [
       "<Axes: xlabel='pregroup_cluster'>"
      ]
     },
     "execution_count": 22,
     "metadata": {},
     "output_type": "execute_result"
    },
    {
     "data": {
      "image/png": "[encoded data removed]",
      "text/plain": [
       "<Figure size 1000x400 with 1 Axes>"
      ]
     },
     "metadata": {},
     "output_type": "display_data"
    }
   ],
   "source": [
    "df_mlerr_mlbugs_cluster_size = df_mlerr_mlbugs.groupby(\"pregroup_cluster\").size().sort_values(ascending=False)\n",
    "df_mlerr_mlbugs_cluster_size.iloc[:50].plot(kind=\"bar\", figsize=(10,4))"
   ]
  },
  {
   "cell_type": "code",
   "execution_count": 23,
   "id": "d23db468",
   "metadata": {
    "scrolled": true
   },
   "outputs": [
    {
     "name": "stdout",
     "output_type": "stream",
     "text": [
      "Top 0 cluster with size 10090. Exception types include:\n",
      "Example: name 'train_classifications' is not defined\n",
      "ename\n",
      "nameerror                 10079\n",
      "undefinedvariableerror       11\n",
      "Name: count, dtype: int64 \n",
      "\n",
      "Top 1 cluster with size 2549. Exception types include:\n",
      "Example: 'numpy.ndarray' object has no attribute 'obseru_smooth'\n",
      "ename\n",
      "attributeerror          2533\n",
      "moduleattributeerror      14\n",
      "typeerror                  1\n",
      "unknownerror               1\n",
      "Name: count, dtype: int64 \n",
      "\n",
      "Top 2 cluster with size 1339. Exception types include:\n",
      "Example: [Errno 2] No such file or directory: '0.png'\n",
      "ename\n",
      "filenotfounderror    1298\n",
      "notfounderror          21\n",
      "drivererror            11\n",
      "unknownerror            3\n",
      "ioerror                 2\n",
      "oserror                 2\n",
      "error                   1\n",
      "filecreateerror         1\n",
      "Name: count, dtype: int64 \n",
      "\n",
      "Top 3 cluster with size 734. Exception types include:\n",
      "Example: module 'numpy' has no attribute 'linespace'\n",
      "ename\n",
      "attributeerror    734\n",
      "Name: count, dtype: int64 \n",
      "\n",
      "Top 4 cluster with size 628. Exception types include:\n",
      "Example: [Errno 2] File b'data/outputs/CNNscore/WSI_CERAD_AREA.csv' does not exist: b'data/outputs/CNNscore/WSI_CERAD_AREA.csv'\n",
      "ename\n",
      "filenotfounderror    607\n",
      "oserror               10\n",
      "programmingerror       6\n",
      "ioerror                5\n",
      "Name: count, dtype: int64 \n",
      "\n",
      "Top 5 cluster with size 557. Exception types include:\n",
      "Example: operands could not be broadcast together with shapes (4,) (2,) \n",
      "ename\n",
      "valueerror    557\n",
      "Name: count, dtype: int64 \n",
      "\n",
      "Top 6 cluster with size 480. Exception types include:\n",
      "Example: could not convert string to float: 'Month'\n",
      "ename\n",
      "valueerror    477\n",
      "typeerror       3\n",
      "Name: count, dtype: int64 \n",
      "\n",
      "Top 7 cluster with size 449. Exception types include:\n",
      "Example: index 98 is out of bounds for axis 0 with size 91\n",
      "ename\n",
      "indexerror      439\n",
      "runtimeerror      8\n",
      "valueerror        2\n",
      "Name: count, dtype: int64 \n",
      "\n",
      "Top 8 cluster with size 326. Exception types include:\n",
      "Example: 'DataFrame' object is not callable\n",
      "ename\n",
      "typeerror    326\n",
      "Name: count, dtype: int64 \n",
      "\n",
      "Top 9 cluster with size 318. Exception types include:\n",
      "Example: \"['AREA' 'REG' 'DEV' 'Type' 'Coverage'] not found in axis\"\n",
      "ename\n",
      "keyerror    318\n",
      "Name: count, dtype: int64 \n",
      "\n",
      "Top 10 cluster with size 291. Exception types include:\n",
      "Example: __init__() got an unexpected keyword argument 'kernel'\n",
      "ename\n",
      "typeerror         288\n",
      "attributeerror      3\n",
      "Name: count, dtype: int64 \n",
      "\n",
      "Top 11 cluster with size 289. Exception types include:\n",
      "Example: list index out of range\n",
      "ename\n",
      "indexerror      280\n",
      "valueerror        5\n",
      "runtimeerror      3\n",
      "parsererror       1\n",
      "Name: count, dtype: int64 \n",
      "\n",
      "Top 12 cluster with size 270. Exception types include:\n",
      "Example: read_excel() missing 1 required positional argument: 'io'\n",
      "ename\n",
      "typeerror    270\n",
      "Name: count, dtype: int64 \n",
      "\n",
      "Top 13 cluster with size 263. Exception types include:\n",
      "Example: \"None of [Index(['Pclass_1', 'Pclass_2', 'Sex_female', 'Sib?', 'Par?', 'kmeans_-1.0',\\n       'kmeans_0.0', 'kmeans_1.0'],\\n      dtype='object')] are in the [columns]\"\n",
      "ename\n",
      "keyerror    263\n",
      "Name: count, dtype: int64 \n",
      "\n",
      "Top 14 cluster with size 255. Exception types include:\n",
      "Example: shapes (20,4096) and (3,4096) not aligned: 4096 (dim 1) != 3 (dim 0)\n",
      "ename\n",
      "valueerror    255\n",
      "Name: count, dtype: int64 \n",
      "\n",
      "Top 15 cluster with size 251. Exception types include:\n",
      "Example: unsupported operand type(s) for -: 'str' and 'str'\n",
      "ename\n",
      "typeerror    251\n",
      "Name: count, dtype: int64 \n",
      "\n",
      "Top 16 cluster with size 229. Exception types include:\n",
      "Example: cannot reshape array of size 16 into shape (2,9)\n",
      "ename\n",
      "valueerror    229\n",
      "Name: count, dtype: int64 \n",
      "\n",
      "Top 17 cluster with size 220. Exception types include:\n",
      "Example: Input contains NaN, infinity or a value too large for dtype('float64').\n",
      "ename\n",
      "valueerror    220\n",
      "Name: count, dtype: int64 \n",
      "\n",
      "Top 18 cluster with size 206. Exception types include:\n",
      "Example: Found input variables with inconsistent numbers of samples\n",
      "ename\n",
      "valueerror    206\n",
      "Name: count, dtype: int64 \n",
      "\n",
      "Top 19 cluster with size 198. Exception types include:\n",
      "Example: x and y must have same first dimension, but have shapes (0,) and (1,)\n",
      "ename\n",
      "valueerror    198\n",
      "Name: count, dtype: int64 \n",
      "\n",
      "Top 20 cluster with size 187. Exception types include:\n",
      "Example: \"['nn_prediction_conf'] not in index\"\n",
      "ename\n",
      "keyerror    187\n",
      "Name: count, dtype: int64 \n",
      "\n",
      "Top 21 cluster with size 182. Exception types include:\n",
      "Example: CUDA out of memory. Tried to allocate 392.00 MiB (GPU 0; 10.76 GiB total capacity; 9.66 GiB already allocated; 2.56 MiB free; 9.69 GiB reserved in total by PyTorch)\n",
      "ename\n",
      "runtimeerror    182\n",
      "Name: count, dtype: int64 \n",
      "\n",
      "Top 22 cluster with size 167. Exception types include:\n",
      "Example: Input 0 of layer gru_1 is incompatible with the layer: expected ndim=3, found ndim=2. Full shape received: (None, 100)\n",
      "ename\n",
      "valueerror    167\n",
      "Name: count, dtype: int64 \n",
      "\n",
      "Top 23 cluster with size 161. Exception types include:\n",
      "Example: Error when checking input: expected dense_1_input to have shape (784,) but got array with shape (28,)\n",
      "ename\n",
      "valueerror    160\n",
      "exception       1\n",
      "Name: count, dtype: int64 \n",
      "\n",
      "Top 24 cluster with size 155. Exception types include:\n",
      "Example: 'function' object is not subscriptable\n",
      "ename\n",
      "typeerror               152\n",
      "invalidargumenterror      3\n",
      "Name: count, dtype: int64 \n",
      "\n",
      "Top 25 cluster with size 136. Exception types include:\n",
      "Example: Singular matrix\n",
      "ename\n",
      "linalgerror    136\n",
      "Name: count, dtype: int64 \n",
      "\n",
      "Top 26 cluster with size 131. Exception types include:\n",
      "Example: '<' not supported between instances of 'float' and 'str'\n",
      "ename\n",
      "typeerror    131\n",
      "Name: count, dtype: int64 \n",
      "\n",
      "Top 27 cluster with size 130. Exception types include:\n",
      "Example: Expected 2D array, got 1D array instead:\n",
      "ename\n",
      "valueerror    130\n",
      "Name: count, dtype: int64 \n",
      "\n",
      "Top 28 cluster with size 129. Exception types include:\n",
      "Example: OpenCV(4.4.0) /tmp/pip-req-build-vu_aq9yd/opencv/modules/imgproc/src/resize.cpp:3929: error: (-215:Assertion failed) !ssize.empty() in function 'resize'\n",
      "ename\n",
      "error            128\n",
      "stopiteration      1\n",
      "Name: count, dtype: int64 \n",
      "\n",
      "Top 29 cluster with size 124. Exception types include:\n",
      "Example: Classification metrics can't handle a mix of multilabel-indicator and continuous-multioutput targets\n",
      "ename\n",
      "valueerror    124\n",
      "Name: count, dtype: int64 \n",
      "\n"
     ]
    }
   ],
   "source": [
    "# check some corelation with exception types\n",
    "for i in range(30):\n",
    "    cluster_id = df_mlerr_mlbugs_cluster_size.index[i]\n",
    "    cluster_size = df_mlerr_mlbugs_cluster_size.iloc[i]\n",
    "    print(\"Top {} cluster with size {}. Exception types include:\".format(i,cluster_size))\n",
    "    print(\"Example:\",df_mlerr_mlbugs[df_mlerr_mlbugs.pregroup_cluster==cluster_id].evalue.iloc[0])\n",
    "    print((df_mlerr_mlbugs[df_mlerr_mlbugs.pregroup_cluster==cluster_id].ename).value_counts(), \"\\n\")"
   ]
  },
  {
   "cell_type": "code",
   "execution_count": 24,
   "id": "451ff3b0",
   "metadata": {},
   "outputs": [
    {
     "name": "stdout",
     "output_type": "stream",
     "text": [
      "247\n",
      "0.8067480455355919\n"
     ]
    }
   ],
   "source": [
    "# print((df_mlerr_mlbugs_cluster_size.cumsum()/df_mlerr_mlbugs.eid.nunique()).searchsorted(0.8)) # num of clusters needed for cover certain percent of errors\n",
    "cutoff_cluster_size = 15\n",
    "print(sum(df_mlerr_mlbugs_cluster_size>=cutoff_cluster_size)) # num of clusters needed for cluster size over ceratin number\n",
    "print(sum(df_mlerr_mlbugs_cluster_size[df_mlerr_mlbugs_cluster_size>=cutoff_cluster_size])/df_mlerr_mlbugs.eid.nunique()) # percentage"
   ]
  },
  {
   "cell_type": "markdown",
   "id": "4f48ce6f",
   "metadata": {},
   "source": [
    "### separate to analyze github and kaggle and select top clusters"
   ]
  },
  {
   "cell_type": "code",
   "execution_count": 25,
   "id": "a2730a2b",
   "metadata": {},
   "outputs": [
    {
     "data": {
      "text/plain": [
       "<Axes: xlabel='pregroup_cluster'>"
      ]
     },
     "execution_count": 25,
     "metadata": {},
     "output_type": "execute_result"
    },
    {
     "data": {
      "image/png": "[encoded data removed]",
      "text/plain": [
       "<Figure size 1000x400 with 1 Axes>"
      ]
     },
     "metadata": {},
     "output_type": "display_data"
    }
   ],
   "source": [
    "# kaggle\n",
    "df_mlerr_mlbugs_k = df_mlerr_mlbugs[df_mlerr_mlbugs[\"nb_source\"]==config.NB_SOURCE[\"kaggle\"]].reset_index(drop=True)\n",
    "df_mlerr_mlbugs_cluster_size_k = df_mlerr_mlbugs_k.groupby(\"pregroup_cluster\").size().sort_values(ascending=False)\n",
    "df_mlerr_mlbugs_cluster_size_k.iloc[:50].plot(kind=\"bar\", figsize=(10,4))"
   ]
  },
  {
   "cell_type": "code",
   "execution_count": 26,
   "id": "651a991e",
   "metadata": {},
   "outputs": [
    {
     "name": "stdout",
     "output_type": "stream",
     "text": [
      "The knee point is at number: 110\n"
     ]
    },
    {
     "data": {
      "image/png": "[encoded data removed]",
      "text/plain": [
       "<Figure size 1000x400 with 1 Axes>"
      ]
     },
     "metadata": {},
     "output_type": "display_data"
    }
   ],
   "source": [
    "cumsum_percentage_k = df_mlerr_mlbugs_cluster_size_k.cumsum()/df_mlerr_mlbugs_k.eid.nunique()\n",
    "cluster_util.elbow_finder(cumsum_percentage_k, title = \"Knee point - Kaggle\")"
   ]
  },
  {
   "cell_type": "code",
   "execution_count": 27,
   "id": "7ff179c6",
   "metadata": {},
   "outputs": [
    {
     "name": "stdout",
     "output_type": "stream",
     "text": [
      "110\n",
      "0.7798475867908552\n"
     ]
    }
   ],
   "source": [
    "# print(cumsum_percentage_k.searchsorted(0.8)) # num of clusters needed for cover certain percent of errors\n",
    "\n",
    "cutoff_cluster_size_k = 4\n",
    "print(sum(df_mlerr_mlbugs_cluster_size_k>=cutoff_cluster_size_k)) # num of clusters needed for cluster size over ceratin number\n",
    "print(sum(df_mlerr_mlbugs_cluster_size_k[df_mlerr_mlbugs_cluster_size_k>=cutoff_cluster_size_k])/df_mlerr_mlbugs_k.eid.nunique()) # percentage"
   ]
  },
  {
   "cell_type": "code",
   "execution_count": 28,
   "id": "ffcea0fe",
   "metadata": {},
   "outputs": [
    {
     "data": {
      "text/plain": [
       "<Axes: xlabel='pregroup_cluster'>"
      ]
     },
     "execution_count": 28,
     "metadata": {},
     "output_type": "execute_result"
    },
    {
     "data": {
      "image/png": "[encoded data removed]",
      "text/plain": [
       "<Figure size 1000x400 with 1 Axes>"
      ]
     },
     "metadata": {},
     "output_type": "display_data"
    }
   ],
   "source": [
    "# github\n",
    "df_mlerr_mlbugs_g = df_mlerr_mlbugs[df_mlerr_mlbugs[\"nb_source\"]==config.NB_SOURCE[\"github\"]].reset_index(drop=True)\n",
    "df_mlerr_mlbugs_cluster_size_g = df_mlerr_mlbugs_g.groupby(\"pregroup_cluster\").size().sort_values(ascending=False)\n",
    "df_mlerr_mlbugs_cluster_size_g.iloc[:50].plot(kind=\"bar\", figsize=(10,4))"
   ]
  },
  {
   "cell_type": "code",
   "execution_count": 29,
   "id": "a0dc7445",
   "metadata": {},
   "outputs": [
    {
     "name": "stdout",
     "output_type": "stream",
     "text": [
      "The knee point is at number: 398\n"
     ]
    },
    {
     "data": {
      "image/png": "[encoded data removed]",
      "text/plain": [
       "<Figure size 1000x400 with 1 Axes>"
      ]
     },
     "metadata": {},
     "output_type": "display_data"
    }
   ],
   "source": [
    "cumsum_percentage_g = df_mlerr_mlbugs_cluster_size_g.cumsum()/df_mlerr_mlbugs_g.eid.nunique()\n",
    "cluster_util.elbow_finder(cumsum_percentage_g, title = \"Knee point - GitHub\")"
   ]
  },
  {
   "cell_type": "code",
   "execution_count": 30,
   "id": "29f2c807",
   "metadata": {},
   "outputs": [
    {
     "name": "stdout",
     "output_type": "stream",
     "text": [
      "398\n",
      "0.8534889860088581\n"
     ]
    }
   ],
   "source": [
    "# print(cumsum_percentage_g.searchsorted(0.85)) # num of clusters needed for cover certain percent of errors\n",
    "cutoff_cluster_size_g = 8\n",
    "print(sum(df_mlerr_mlbugs_cluster_size_g>=cutoff_cluster_size_g)) # num of clusters needed for cluster size over ceratin number\n",
    "print(sum(df_mlerr_mlbugs_cluster_size_g[df_mlerr_mlbugs_cluster_size_g>=cutoff_cluster_size_g])/df_mlerr_mlbugs_g.eid.nunique()) # percentage"
   ]
  },
  {
   "cell_type": "code",
   "execution_count": 31,
   "id": "9cc37240",
   "metadata": {},
   "outputs": [],
   "source": [
    "# take union\n",
    "selected_clusters = df_mlerr_mlbugs_cluster_size_g[df_mlerr_mlbugs_cluster_size_g>=cutoff_cluster_size_g].index.union(\n",
    "    df_mlerr_mlbugs_cluster_size_k[df_mlerr_mlbugs_cluster_size_k>=cutoff_cluster_size_k].index)\n",
    "df_mlerr_mlbugs_selected = df_mlerr_mlbugs[df_mlerr_mlbugs.pregroup_cluster.isin(selected_clusters)]"
   ]
  },
  {
   "cell_type": "code",
   "execution_count": 32,
   "id": "4c0f7300",
   "metadata": {},
   "outputs": [
    {
     "data": {
      "text/plain": [
       "Index([   0,    1,    2,    3,    4,    5,    6,    7,    8,    9,\n",
       "       ...\n",
       "       3176, 3183, 3189, 3195, 3226, 3229, 3255, 3262, 3268, 3271],\n",
       "      dtype='int32', name='pregroup_cluster', length=421)"
      ]
     },
     "execution_count": 32,
     "metadata": {},
     "output_type": "execute_result"
    }
   ],
   "source": [
    "selected_clusters"
   ]
  },
  {
   "cell_type": "code",
   "execution_count": 33,
   "id": "0288edd9",
   "metadata": {},
   "outputs": [
    {
     "data": {
      "text/plain": [
       "0.8552187628583184"
      ]
     },
     "execution_count": 33,
     "metadata": {},
     "output_type": "execute_result"
    }
   ],
   "source": [
    "# arrange based on selected clusters, sort\n",
    "selected_clusters_sorted = df_mlerr_mlbugs_selected.groupby('pregroup_cluster').size().sort_values(ascending=False)\n",
    "sum(selected_clusters_sorted)/df_mlerr_mlbugs.eid.nunique()"
   ]
  },
  {
   "cell_type": "code",
   "execution_count": 34,
   "id": "9f72276e",
   "metadata": {},
   "outputs": [],
   "source": [
    "# select max(30,cluster_size) samples per cluster for manual analysis\n",
    "\n",
    "df_mlerr_mlbugs_selected = None\n",
    "for sc_id, cluster_size in selected_clusters_sorted.items():\n",
    "    sample_size = min(30, cluster_size)\n",
    "    tmp = df_mlerr_mlbugs[df_mlerr_mlbugs.pregroup_cluster == sc_id].sample(n=sample_size, random_state=1)\n",
    "    if df_mlerr_mlbugs_selected is None:\n",
    "        df_mlerr_mlbugs_selected = tmp\n",
    "    else:\n",
    "        df_mlerr_mlbugs_selected = pd.concat([df_mlerr_mlbugs_selected, tmp], ignore_index=True)"
   ]
  },
  {
   "cell_type": "code",
   "execution_count": 35,
   "id": "55bc7ca0",
   "metadata": {},
   "outputs": [
    {
     "name": "stdout",
     "output_type": "stream",
     "text": [
      "8115\n",
      "8115\n"
     ]
    }
   ],
   "source": [
    "print(df_mlerr_mlbugs_selected.eid.nunique())\n",
    "print(sum(selected_clusters_sorted>=30)*30 + sum(selected_clusters_sorted[selected_clusters_sorted<30])) # should be"
   ]
  },
  {
   "cell_type": "code",
   "execution_count": 36,
   "id": "691258c5",
   "metadata": {},
   "outputs": [],
   "source": [
    "df_mlerr_mlbugs_selected.to_excel(config.path_default.joinpath(\"df_mlerr_mlbugs_pregroup_selected.xlsx\"), index=False, engine='xlsxwriter')"
   ]
  },
  {
   "cell_type": "code",
   "execution_count": 37,
   "id": "124aa46d",
   "metadata": {},
   "outputs": [
    {
     "data": {
      "text/plain": [
       "3311"
      ]
     },
     "execution_count": 37,
     "metadata": {},
     "output_type": "execute_result"
    }
   ],
   "source": [
    "# dedup version - 3311\n",
    "df_mlerr_mlbugs_unique = df_mlerr_mlbugs.drop_duplicates(subset=['pregroup_cluster'], keep='last')\n",
    "df_mlerr_mlbugs_unique.to_excel(config.path_default.joinpath(\"df_mlerr_mlbugs_pregroup_dedup.xlsx\"), index=False, engine='xlsxwriter')\n",
    "df_mlerr_mlbugs_unique.eid.nunique()"
   ]
  },
  {
   "cell_type": "code",
   "execution_count": null,
   "id": "189a4ce0",
   "metadata": {},
   "outputs": [],
   "source": []
  }
 ],
 "metadata": {
  "kernelspec": {
   "display_name": "Python 3 (ipykernel)",
   "language": "python",
   "name": "python3"
  },
  "language_info": {
   "codemirror_mode": {
    "name": "ipython",
    "version": 3
   },
   "file_extension": ".py",
   "mimetype": "text/x-python",
   "name": "python",
   "nbconvert_exporter": "python",
   "pygments_lexer": "ipython3",
   "version": "3.11.5"
  }
 },
 "nbformat": 4,
 "nbformat_minor": 5
}
