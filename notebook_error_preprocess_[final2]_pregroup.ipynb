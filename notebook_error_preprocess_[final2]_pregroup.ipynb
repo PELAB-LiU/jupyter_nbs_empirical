{
 "cells": [
  {
   "cell_type": "markdown",
   "id": "a976ac74",
   "metadata": {},
   "source": [
    "## Finalize dataset for clustering"
   ]
  },
  {
   "cell_type": "markdown",
   "id": "4b94c86f",
   "metadata": {},
   "source": [
    "ML bugs\n",
    "\n",
    "Deduplicate (pregroup)"
   ]
  },
  {
   "cell_type": "code",
   "execution_count": 27,
   "id": "bbd7d691",
   "metadata": {
    "scrolled": true
   },
   "outputs": [
    {
     "name": "stdout",
     "output_type": "stream",
     "text": [
      "path_default=WindowsPath('C:/Users/yirwa29/Downloads/Dataset-Nb')\n"
     ]
    }
   ],
   "source": [
    "# import config\n",
    "import importlib\n",
    "importlib.reload(config)\n",
    "import config"
   ]
  },
  {
   "cell_type": "markdown",
   "id": "a58ec00d",
   "metadata": {},
   "source": [
    "## Deduplicate error values"
   ]
  },
  {
   "cell_type": "code",
   "execution_count": 1,
   "id": "26f34da2",
   "metadata": {},
   "outputs": [
    {
     "name": "stdout",
     "output_type": "stream",
     "text": [
      "path_default=WindowsPath('C:/Users/yirwa29/Downloads/Dataset-Nb')\n"
     ]
    }
   ],
   "source": [
    "import pandas as pd\n",
    "import json\n",
    "import config, util\n",
    "\n",
    "df_mlerr_k = pd.read_excel(config.path_kaggle_error_process.joinpath('nberror_k_eid_p_mlbugs.xlsx'))\n",
    "df_mlerr_g = pd.read_excel(config.path_github_error_process.joinpath('nberror_g_all_eid_p_mlbugs.xlsx'))"
   ]
  },
  {
   "cell_type": "code",
   "execution_count": 2,
   "id": "b22436ef",
   "metadata": {},
   "outputs": [
    {
     "data": {
      "text/plain": [
       "2538"
      ]
     },
     "execution_count": 2,
     "metadata": {},
     "output_type": "execute_result"
    }
   ],
   "source": [
    "df_mlerr_k_filtered = df_mlerr_k[(~df_mlerr_k.exp_mllib_extracted.isnull())] # & (df_mlerr_k.ename==\"valueerror\")\n",
    "len(df_mlerr_k_filtered) "
   ]
  },
  {
   "cell_type": "code",
   "execution_count": 3,
   "id": "cc3b6d32",
   "metadata": {},
   "outputs": [
    {
     "data": {
      "text/plain": [
       "36139"
      ]
     },
     "execution_count": 3,
     "metadata": {},
     "output_type": "execute_result"
    }
   ],
   "source": [
    "df_mlerr_g_filtered = df_mlerr_g[(~df_mlerr_g.exp_mllib_extracted.isnull())]# & (df_mlerr_g.python_version==3) & df_mlerr_g.ename==\"valueerror\")]\n",
    "len(df_mlerr_g_filtered) "
   ]
  },
  {
   "cell_type": "code",
   "execution_count": 4,
   "id": "c10163d5",
   "metadata": {},
   "outputs": [
    {
     "name": "stderr",
     "output_type": "stream",
     "text": [
      "C:\\Users\\yirwa29\\AppData\\Local\\anaconda3\\envs\\chatgpt\\Lib\\site-packages\\tqdm\\auto.py:21: TqdmWarning: IProgress not found. Please update jupyter and ipywidgets. See https://ipywidgets.readthedocs.io/en/stable/user_install.html\n",
      "  from .autonotebook import tqdm as notebook_tqdm\n",
      "C:\\Users\\yirwa29\\AppData\\Local\\Temp\\ipykernel_26196\\2336269404.py:3: SettingWithCopyWarning: \n",
      "A value is trying to be set on a copy of a slice from a DataFrame.\n",
      "Try using .loc[row_indexer,col_indexer] = value instead\n",
      "\n",
      "See the caveats in the documentation: https://pandas.pydata.org/pandas-docs/stable/user_guide/indexing.html#returning-a-view-versus-a-copy\n",
      "  df_mlerr_k_filtered.loc[:,\"evalue_tokenized\"] = df_mlerr_k_filtered.evalue.apply(cluster_util.preprocess_text)\n"
     ]
    }
   ],
   "source": [
    "import cluster_util\n",
    "\n",
    "df_mlerr_k_filtered.loc[:,\"evalue_tokenized\"] = df_mlerr_k_filtered.evalue.apply(cluster_util.preprocess_text)"
   ]
  },
  {
   "cell_type": "code",
   "execution_count": 5,
   "id": "ae4a1bcf",
   "metadata": {},
   "outputs": [
    {
     "name": "stderr",
     "output_type": "stream",
     "text": [
      "C:\\Users\\yirwa29\\AppData\\Local\\Temp\\ipykernel_26196\\4212122726.py:1: SettingWithCopyWarning: \n",
      "A value is trying to be set on a copy of a slice from a DataFrame.\n",
      "Try using .loc[row_indexer,col_indexer] = value instead\n",
      "\n",
      "See the caveats in the documentation: https://pandas.pydata.org/pandas-docs/stable/user_guide/indexing.html#returning-a-view-versus-a-copy\n",
      "  df_mlerr_k_filtered.loc[:,\"hash_evalue_tokenized\"] = df_mlerr_k_filtered.evalue_tokenized.apply(cluster_util.generateHash)\n"
     ]
    },
    {
     "data": {
      "text/plain": [
       "1365"
      ]
     },
     "execution_count": 5,
     "metadata": {},
     "output_type": "execute_result"
    }
   ],
   "source": [
    "df_mlerr_k_filtered.loc[:,\"hash_evalue_tokenized\"] = df_mlerr_k_filtered.evalue_tokenized.apply(cluster_util.generateHash)\n",
    "df_mlerr_k_filtered.hash_evalue_tokenized.nunique()"
   ]
  },
  {
   "cell_type": "code",
   "execution_count": 6,
   "id": "d89c248f",
   "metadata": {},
   "outputs": [
    {
     "name": "stderr",
     "output_type": "stream",
     "text": [
      "C:\\Users\\yirwa29\\AppData\\Local\\Temp\\ipykernel_26196\\4166713845.py:1: SettingWithCopyWarning: \n",
      "A value is trying to be set on a copy of a slice from a DataFrame.\n",
      "Try using .loc[row_indexer,col_indexer] = value instead\n",
      "\n",
      "See the caveats in the documentation: https://pandas.pydata.org/pandas-docs/stable/user_guide/indexing.html#returning-a-view-versus-a-copy\n",
      "  df_mlerr_g_filtered.loc[:,\"evalue_tokenized\"] = df_mlerr_g_filtered.evalue.apply(cluster_util.preprocess_text)\n",
      "C:\\Users\\yirwa29\\AppData\\Local\\Temp\\ipykernel_26196\\4166713845.py:2: SettingWithCopyWarning: \n",
      "A value is trying to be set on a copy of a slice from a DataFrame.\n",
      "Try using .loc[row_indexer,col_indexer] = value instead\n",
      "\n",
      "See the caveats in the documentation: https://pandas.pydata.org/pandas-docs/stable/user_guide/indexing.html#returning-a-view-versus-a-copy\n",
      "  df_mlerr_g_filtered.loc[:,\"hash_evalue_tokenized\"] = df_mlerr_g_filtered.evalue_tokenized.apply(cluster_util.generateHash)\n"
     ]
    },
    {
     "data": {
      "text/plain": [
       "13153"
      ]
     },
     "execution_count": 6,
     "metadata": {},
     "output_type": "execute_result"
    }
   ],
   "source": [
    "df_mlerr_g_filtered.loc[:,\"evalue_tokenized\"] = df_mlerr_g_filtered.evalue.apply(cluster_util.preprocess_text)\n",
    "df_mlerr_g_filtered.loc[:,\"hash_evalue_tokenized\"] = df_mlerr_g_filtered.evalue_tokenized.apply(cluster_util.generateHash)\n",
    "df_mlerr_g_filtered.hash_evalue_tokenized.nunique()"
   ]
  },
  {
   "cell_type": "code",
   "execution_count": 7,
   "id": "d11e87e9",
   "metadata": {},
   "outputs": [],
   "source": [
    "df_mlerr_k_filtered_unique = df_mlerr_k_filtered.drop_duplicates(subset=['hash_evalue_tokenized'], keep='last')\n",
    "df_mlerr_g_filtered_unique = df_mlerr_g_filtered.drop_duplicates(subset=['hash_evalue_tokenized'], keep='last')"
   ]
  },
  {
   "cell_type": "code",
   "execution_count": 8,
   "id": "124aa46d",
   "metadata": {},
   "outputs": [],
   "source": [
    "df_mlerr_g_filtered.to_excel(config.path_github_error_analysis.joinpath(\"df_mlerr_g_mlbugs_filtered.xlsx\"),\n",
    "                                    index=False, engine='xlsxwriter')\n",
    "df_mlerr_k_filtered.to_excel(config.path_kaggle_error_analysis.joinpath(\"df_mlerr_k_mlbugs_filtered.xlsx\"), \n",
    "                                    index=False, engine='xlsxwriter')\n",
    "\n",
    "df_mlerr_g_filtered_unique.to_excel(config.path_github_error_analysis.joinpath(\"df_mlerr_g_mlbugs_filtered_dedup.xlsx\"),\n",
    "                                    index=False, engine='xlsxwriter')\n",
    "df_mlerr_k_filtered_unique.to_excel(config.path_kaggle_error_analysis.joinpath(\"df_mlerr_k_mlbugs_filtered_dedup.xlsx\"), \n",
    "                                    index=False, engine='xlsxwriter')"
   ]
  },
  {
   "cell_type": "code",
   "execution_count": null,
   "id": "189a4ce0",
   "metadata": {},
   "outputs": [],
   "source": []
  }
 ],
 "metadata": {
  "kernelspec": {
   "display_name": "Python 3 (ipykernel)",
   "language": "python",
   "name": "python3"
  },
  "language_info": {
   "codemirror_mode": {
    "name": "ipython",
    "version": 3
   },
   "file_extension": ".py",
   "mimetype": "text/x-python",
   "name": "python",
   "nbconvert_exporter": "python",
   "pygments_lexer": "ipython3",
   "version": "3.11.5"
  }
 },
 "nbformat": 4,
 "nbformat_minor": 5
}
