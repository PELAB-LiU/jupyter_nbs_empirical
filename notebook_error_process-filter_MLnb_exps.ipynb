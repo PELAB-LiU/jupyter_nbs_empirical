{
 "cells": [
  {
   "cell_type": "markdown",
   "id": "0d037800",
   "metadata": {},
   "source": [
    "# Notebook error process \n",
    "\n",
    "### filter out error notebooks with uninteresting exception types and error notebooks not using any of the top ML libraries"
   ]
  },
  {
   "cell_type": "markdown",
   "id": "c7518de1",
   "metadata": {},
   "source": [
    "### 1 mark only the ones using the selected libraries -> is_MLnb"
   ]
  },
  {
   "cell_type": "markdown",
   "id": "b09c90f0",
   "metadata": {},
   "source": [
    "\n",
    "### 1.1 nbs from github"
   ]
  },
  {
   "cell_type": "code",
   "execution_count": 1,
   "id": "08c5a4b1",
   "metadata": {},
   "outputs": [],
   "source": [
    "import pandas as pd\n",
    "import util\n",
    "import config\n",
    "\n",
    "df2_err = pd.read_excel(config.path_github_error_process+'/nberror_g_all_p.xlsx')\n",
    "df2_err[\"is_MLnb\"] = df2_err.lib_alias.apply(util.lib_alias_isML)"
   ]
  },
  {
   "cell_type": "code",
   "execution_count": 7,
   "id": "dbf472f8",
   "metadata": {},
   "outputs": [],
   "source": [
    "df2_err.to_excel(config.path_github_error_process+'/nberror_g_all_p.xlsx', index=False, engine=\"xlsxwriter\")"
   ]
  },
  {
   "cell_type": "code",
   "execution_count": 5,
   "id": "f505e9a2",
   "metadata": {},
   "outputs": [
    {
     "name": "stdout",
     "output_type": "stream",
     "text": [
      "80.32% of all the python GitHub notebooks(containing errors) use the selected ML libraries\n"
     ]
    }
   ],
   "source": [
    "print(\"{0:.2%} of all the python GitHub notebooks(containing errors) use the selected ML libraries\".format(sum(df2_err[[\"fname\",\"is_MLnb\"]].drop_duplicates().is_MLnb)/df2_err.fname.nunique()))"
   ]
  },
  {
   "cell_type": "markdown",
   "id": "b549953d",
   "metadata": {},
   "source": [
    "### 1.2 nbs from kaggle"
   ]
  },
  {
   "cell_type": "code",
   "execution_count": 1,
   "id": "ec9c1c4f",
   "metadata": {},
   "outputs": [],
   "source": [
    "import pandas as pd\n",
    "import util\n",
    "import config\n",
    "\n",
    "df_err = pd.read_excel(config.path_kaggle_error_process + '/nberror_k_p.xlsx')\n",
    "df_err[\"is_MLnb\"] = df_err.lib_alias.apply(util.lib_alias_isML)"
   ]
  },
  {
   "cell_type": "code",
   "execution_count": 3,
   "id": "2c782c67",
   "metadata": {
    "scrolled": true
   },
   "outputs": [
    {
     "name": "stdout",
     "output_type": "stream",
     "text": [
      "There are 93.45% of all error Kaggle notebooks using the selected ML libraries\n"
     ]
    }
   ],
   "source": [
    "print(\"There are {0:.2%} of all error Kaggle notebooks using the selected ML libraries\".format(sum(df_err[[\"fname\",\"is_MLnb\"]].drop_duplicates().is_MLnb)/df_err.fname.nunique()))"
   ]
  },
  {
   "cell_type": "code",
   "execution_count": 4,
   "id": "581352d8",
   "metadata": {},
   "outputs": [],
   "source": [
    "df_err.to_excel(config.path_kaggle_error_process + '/nberror_k_p.xlsx', index=False, engine=\"xlsxwriter\")"
   ]
  },
  {
   "cell_type": "code",
   "execution_count": 5,
   "id": "bde1df53",
   "metadata": {},
   "outputs": [
    {
     "data": {
      "text/html": [
       "<div>\n",
       "<style scoped>\n",
       "    .dataframe tbody tr th:only-of-type {\n",
       "        vertical-align: middle;\n",
       "    }\n",
       "\n",
       "    .dataframe tbody tr th {\n",
       "        vertical-align: top;\n",
       "    }\n",
       "\n",
       "    .dataframe thead th {\n",
       "        text-align: right;\n",
       "    }\n",
       "</style>\n",
       "<table border=\"1\" class=\"dataframe\">\n",
       "  <thead>\n",
       "    <tr style=\"text-align: right;\">\n",
       "      <th></th>\n",
       "      <th>fname</th>\n",
       "      <th>ename</th>\n",
       "      <th>evalue</th>\n",
       "      <th>traceback</th>\n",
       "      <th>ename_mapped</th>\n",
       "      <th>imports</th>\n",
       "      <th>lib_alias</th>\n",
       "      <th>is_MLnb</th>\n",
       "    </tr>\n",
       "  </thead>\n",
       "  <tbody>\n",
       "    <tr>\n",
       "      <th>0</th>\n",
       "      <td>aaronalbrecht_hardness-contest.ipynb</td>\n",
       "      <td>valueerror</td>\n",
       "      <td>The feature names should match those that were...</td>\n",
       "      <td>['\\x1b[1;31m----------------------------------...</td>\n",
       "      <td>valueerror</td>\n",
       "      <td>{('', 'numpy', 'np'), ('sklearn.model_selectio...</td>\n",
       "      <td>[['numpy', 'np'], ['sklearn', 'cross_val_score...</td>\n",
       "      <td>True</td>\n",
       "    </tr>\n",
       "    <tr>\n",
       "      <th>1</th>\n",
       "      <td>aaryaamoharir_resnet-50-my-version.ipynb</td>\n",
       "      <td>keyboardinterrupt</td>\n",
       "      <td>NaN</td>\n",
       "      <td>['\\x1b[0;31m----------------------------------...</td>\n",
       "      <td>keyboardinterrupt</td>\n",
       "      <td>{('tensorflow.keras.applications.resnet50', 'R...</td>\n",
       "      <td>[['tensorflow', 'ResNet50'], ['numpy', 'np'], ...</td>\n",
       "      <td>True</td>\n",
       "    </tr>\n",
       "    <tr>\n",
       "      <th>2</th>\n",
       "      <td>aaryaamoharir_resnet-50-version-2.ipynb</td>\n",
       "      <td>keyboardinterrupt</td>\n",
       "      <td>NaN</td>\n",
       "      <td>['\\x1b[0;31m----------------------------------...</td>\n",
       "      <td>keyboardinterrupt</td>\n",
       "      <td>{('tensorflow.keras.applications.resnet50', 'R...</td>\n",
       "      <td>[['tensorflow', 'ResNet50'], ['numpy', 'np'], ...</td>\n",
       "      <td>True</td>\n",
       "    </tr>\n",
       "    <tr>\n",
       "      <th>3</th>\n",
       "      <td>achintyabhat_activation-maximization.ipynb</td>\n",
       "      <td>typeerror</td>\n",
       "      <td>'AxesSubplot' object is not subscriptable</td>\n",
       "      <td>['\\x1b[0;31m----------------------------------...</td>\n",
       "      <td>typeerror</td>\n",
       "      <td>{('tf_keras_vis.activation_maximization.input_...</td>\n",
       "      <td>[['tf_keras_vis', 'Jitter,'], ['numpy', 'np'],...</td>\n",
       "      <td>True</td>\n",
       "    </tr>\n",
       "    <tr>\n",
       "      <th>4</th>\n",
       "      <td>adityabajaj03_dr-cnn.ipynb</td>\n",
       "      <td>keyerror</td>\n",
       "      <td>'val_categorical_accuracy'</td>\n",
       "      <td>['\\x1b[0;31m----------------------------------...</td>\n",
       "      <td>keyerror</td>\n",
       "      <td>{('', 'warnings', ''), ('glob', 'glob', ''), (...</td>\n",
       "      <td>[['warnings', 'warnings'], ['glob', 'glob'], [...</td>\n",
       "      <td>True</td>\n",
       "    </tr>\n",
       "    <tr>\n",
       "      <th>...</th>\n",
       "      <td>...</td>\n",
       "      <td>...</td>\n",
       "      <td>...</td>\n",
       "      <td>...</td>\n",
       "      <td>...</td>\n",
       "      <td>...</td>\n",
       "      <td>...</td>\n",
       "      <td>...</td>\n",
       "    </tr>\n",
       "    <tr>\n",
       "      <th>6771</th>\n",
       "      <td>yousifadel_notebook4e3ed6988b.ipynb</td>\n",
       "      <td>valueerror</td>\n",
       "      <td>in user code:\\n\\n    File \"/opt/conda/lib/pyth...</td>\n",
       "      <td>['\\x1b[0;31m----------------------------------...</td>\n",
       "      <td>valueerror</td>\n",
       "      <td>{('', 'warnings', ''), ('sklearn.naive_bayes',...</td>\n",
       "      <td>[['warnings', 'warnings'], ['sklearn', 'Multin...</td>\n",
       "      <td>True</td>\n",
       "    </tr>\n",
       "    <tr>\n",
       "      <th>6772</th>\n",
       "      <td>yyogita_exception-handling.ipynb</td>\n",
       "      <td>valueerror</td>\n",
       "      <td>invalid literal for int() with base 10: 'R'</td>\n",
       "      <td>['\\x1b[0;31m----------------------------------...</td>\n",
       "      <td>valueerror</td>\n",
       "      <td>set()</td>\n",
       "      <td>[]</td>\n",
       "      <td>False</td>\n",
       "    </tr>\n",
       "    <tr>\n",
       "      <th>6773</th>\n",
       "      <td>yyogita_exception-handling.ipynb</td>\n",
       "      <td>typeerror</td>\n",
       "      <td>unsupported operand type(s) for +: 'int' and '...</td>\n",
       "      <td>['\\x1b[0;31m----------------------------------...</td>\n",
       "      <td>typeerror</td>\n",
       "      <td>set()</td>\n",
       "      <td>[]</td>\n",
       "      <td>False</td>\n",
       "    </tr>\n",
       "    <tr>\n",
       "      <th>6774</th>\n",
       "      <td>zalyildirim_kurs-proje1.ipynb</td>\n",
       "      <td>syntaxerror</td>\n",
       "      <td>invalid syntax (247201396.py, line 1)</td>\n",
       "      <td>['\\x1b[0;36m  File \\x1b[0;32m\"/tmp/ipykernel_2...</td>\n",
       "      <td>syntaxerror</td>\n",
       "      <td>{('', 'numpy', 'np'), ('', 'os', ''), ('', 'pa...</td>\n",
       "      <td>[['numpy', 'np'], ['os', 'os'], ['pandas', 'pd']]</td>\n",
       "      <td>True</td>\n",
       "    </tr>\n",
       "    <tr>\n",
       "      <th>6775</th>\n",
       "      <td>zcyan2_notebook7f8930932e.ipynb</td>\n",
       "      <td>distutilsfileerror</td>\n",
       "      <td>cannot copy tree './CarND-LaneLines-P1/test_im...</td>\n",
       "      <td>['\\x1b[0;31m----------------------------------...</td>\n",
       "      <td>libspecificerrors</td>\n",
       "      <td>{('', 'numpy', 'np'), ('', 'math', ''), ('', '...</td>\n",
       "      <td>[['numpy', 'np'], ['math', 'math'], ['cv2', 'c...</td>\n",
       "      <td>True</td>\n",
       "    </tr>\n",
       "  </tbody>\n",
       "</table>\n",
       "<p>6776 rows × 8 columns</p>\n",
       "</div>"
      ],
      "text/plain": [
       "                                           fname               ename  \\\n",
       "0           aaronalbrecht_hardness-contest.ipynb          valueerror   \n",
       "1       aaryaamoharir_resnet-50-my-version.ipynb   keyboardinterrupt   \n",
       "2        aaryaamoharir_resnet-50-version-2.ipynb   keyboardinterrupt   \n",
       "3     achintyabhat_activation-maximization.ipynb           typeerror   \n",
       "4                     adityabajaj03_dr-cnn.ipynb            keyerror   \n",
       "...                                          ...                 ...   \n",
       "6771         yousifadel_notebook4e3ed6988b.ipynb          valueerror   \n",
       "6772            yyogita_exception-handling.ipynb          valueerror   \n",
       "6773            yyogita_exception-handling.ipynb           typeerror   \n",
       "6774               zalyildirim_kurs-proje1.ipynb         syntaxerror   \n",
       "6775             zcyan2_notebook7f8930932e.ipynb  distutilsfileerror   \n",
       "\n",
       "                                                 evalue  \\\n",
       "0     The feature names should match those that were...   \n",
       "1                                                   NaN   \n",
       "2                                                   NaN   \n",
       "3             'AxesSubplot' object is not subscriptable   \n",
       "4                            'val_categorical_accuracy'   \n",
       "...                                                 ...   \n",
       "6771  in user code:\\n\\n    File \"/opt/conda/lib/pyth...   \n",
       "6772        invalid literal for int() with base 10: 'R'   \n",
       "6773  unsupported operand type(s) for +: 'int' and '...   \n",
       "6774              invalid syntax (247201396.py, line 1)   \n",
       "6775  cannot copy tree './CarND-LaneLines-P1/test_im...   \n",
       "\n",
       "                                              traceback       ename_mapped  \\\n",
       "0     ['\\x1b[1;31m----------------------------------...         valueerror   \n",
       "1     ['\\x1b[0;31m----------------------------------...  keyboardinterrupt   \n",
       "2     ['\\x1b[0;31m----------------------------------...  keyboardinterrupt   \n",
       "3     ['\\x1b[0;31m----------------------------------...          typeerror   \n",
       "4     ['\\x1b[0;31m----------------------------------...           keyerror   \n",
       "...                                                 ...                ...   \n",
       "6771  ['\\x1b[0;31m----------------------------------...         valueerror   \n",
       "6772  ['\\x1b[0;31m----------------------------------...         valueerror   \n",
       "6773  ['\\x1b[0;31m----------------------------------...          typeerror   \n",
       "6774  ['\\x1b[0;36m  File \\x1b[0;32m\"/tmp/ipykernel_2...        syntaxerror   \n",
       "6775  ['\\x1b[0;31m----------------------------------...  libspecificerrors   \n",
       "\n",
       "                                                imports  \\\n",
       "0     {('', 'numpy', 'np'), ('sklearn.model_selectio...   \n",
       "1     {('tensorflow.keras.applications.resnet50', 'R...   \n",
       "2     {('tensorflow.keras.applications.resnet50', 'R...   \n",
       "3     {('tf_keras_vis.activation_maximization.input_...   \n",
       "4     {('', 'warnings', ''), ('glob', 'glob', ''), (...   \n",
       "...                                                 ...   \n",
       "6771  {('', 'warnings', ''), ('sklearn.naive_bayes',...   \n",
       "6772                                              set()   \n",
       "6773                                              set()   \n",
       "6774  {('', 'numpy', 'np'), ('', 'os', ''), ('', 'pa...   \n",
       "6775  {('', 'numpy', 'np'), ('', 'math', ''), ('', '...   \n",
       "\n",
       "                                              lib_alias  is_MLnb  \n",
       "0     [['numpy', 'np'], ['sklearn', 'cross_val_score...     True  \n",
       "1     [['tensorflow', 'ResNet50'], ['numpy', 'np'], ...     True  \n",
       "2     [['tensorflow', 'ResNet50'], ['numpy', 'np'], ...     True  \n",
       "3     [['tf_keras_vis', 'Jitter,'], ['numpy', 'np'],...     True  \n",
       "4     [['warnings', 'warnings'], ['glob', 'glob'], [...     True  \n",
       "...                                                 ...      ...  \n",
       "6771  [['warnings', 'warnings'], ['sklearn', 'Multin...     True  \n",
       "6772                                                 []    False  \n",
       "6773                                                 []    False  \n",
       "6774  [['numpy', 'np'], ['os', 'os'], ['pandas', 'pd']]     True  \n",
       "6775  [['numpy', 'np'], ['math', 'math'], ['cv2', 'c...     True  \n",
       "\n",
       "[6776 rows x 8 columns]"
      ]
     },
     "execution_count": 5,
     "metadata": {},
     "output_type": "execute_result"
    }
   ],
   "source": [
    "df_err"
   ]
  },
  {
   "cell_type": "markdown",
   "id": "88426529",
   "metadata": {},
   "source": [
    "### 2 mark the ones with uninteresting exception types -> is_relevant\n",
    "\n",
    "### 2.1 First, let us gather all the exception types appeared in both error dataset and select a list of uninteresting ones:\n",
    "\n",
    "https://liuonline-my.sharepoint.com/:x:/r/personal/yirwa29_liu_se/_layouts/15/Doc.aspx?sourcedoc=%7B55EB4974-57AF-46DF-A27E-83FEBAB67B69%7D&file=nberror_exception_types.xlsx&action=default&mobileredirect=true\n",
    "\n",
    "Write to **config.builtin_exps_excluded** when selected."
   ]
  },
  {
   "cell_type": "code",
   "execution_count": 1,
   "id": "a08ef1c5",
   "metadata": {},
   "outputs": [],
   "source": [
    "import pandas as pd\n",
    "import util\n",
    "import config\n",
    "\n",
    "df2_err = pd.read_excel(config.path_github_error_process+'/nberror_g_all_p.xlsx')\n",
    "df_err = pd.read_excel(config.path_kaggle_error_process + '/nberror_k_p.xlsx')"
   ]
  },
  {
   "cell_type": "code",
   "execution_count": 23,
   "id": "e1f1a80e",
   "metadata": {},
   "outputs": [],
   "source": [
    "df_tmp1 = df_err[[\"ename\", \"ename_mapped\"]].drop_duplicates().sort_values(by=['ename_mapped'])\n",
    "df_tmp2 = df2_err[[\"ename\", \"ename_mapped\"]].drop_duplicates().sort_values(by=['ename_mapped'])\n",
    "df_tmp3 = pd.merge(df_tmp1, df_tmp2, on=\"ename\", how=\"outer\")\n",
    "df_tmp3['ename_mapped'] = df_tmp3['ename_mapped_x'].fillna(df_tmp3['ename_mapped_y'])\n",
    "df_tmp3 = df_tmp3[[\"ename\", \"ename_mapped\"]]\n",
    "df_tmp3.to_excel(config.path_default + '/nberror_exception_types.xlsx', index=False, engine=\"xlsxwriter\")"
   ]
  },
  {
   "cell_type": "markdown",
   "id": "b278c574",
   "metadata": {},
   "source": [
    "### 2.2 process nbs from kaggle and github"
   ]
  },
  {
   "cell_type": "code",
   "execution_count": 29,
   "id": "05bcbe54",
   "metadata": {},
   "outputs": [],
   "source": [
    "df_err[\"is_relevant\"] = ~df_err.ename_mapped.isin(config.builtin_exps_excluded)\n",
    "df2_err[\"is_relevant\"] = ~df2_err.ename_mapped.isin(config.builtin_exps_excluded)"
   ]
  },
  {
   "cell_type": "code",
   "execution_count": 32,
   "id": "ec91fe77",
   "metadata": {},
   "outputs": [
    {
     "name": "stdout",
     "output_type": "stream",
     "text": [
      "There are 52.91% of all errors in Kaggle notebooks have relevant exception types\n",
      "There are 57.26% of all errors in GitHub notebooks have relevant exception types\n"
     ]
    }
   ],
   "source": [
    "print(\"There are {0:.2%} of all errors in Kaggle notebooks have relevant exception types\".format(sum(df_err.is_relevant)/len(df_err)))\n",
    "print(\"There are {0:.2%} of all errors in GitHub notebooks have relevant exception types\".format(sum(df2_err.is_relevant)/len(df2_err)))"
   ]
  },
  {
   "cell_type": "code",
   "execution_count": 33,
   "id": "50b29a7d",
   "metadata": {},
   "outputs": [],
   "source": [
    "df_err.to_excel(config.path_kaggle_error_process + '/nberror_k_p.xlsx', index=False, engine=\"xlsxwriter\")\n",
    "df2_err.to_excel(config.path_github_error_process+'/nberror_g_all_p.xlsx', index=False, engine=\"xlsxwriter\")"
   ]
  },
  {
   "cell_type": "markdown",
   "id": "ededa827",
   "metadata": {},
   "source": [
    "### 3 Statistics if filtering out all the errors that are not from ML notebooks and all errors that are not relevant exceptions"
   ]
  },
  {
   "cell_type": "code",
   "execution_count": null,
   "id": "d33e1bdf",
   "metadata": {},
   "outputs": [],
   "source": [
    "import pandas as pd\n",
    "import util\n",
    "import config\n",
    "\n",
    "df2_err = pd.read_excel(config.path_github_error_process+'/nberror_g_all_p.xlsx')\n",
    "df_err = pd.read_ezxcel(config.path_kaggle_error_process + '/nberror_k_p.xlsx')"
   ]
  },
  {
   "cell_type": "code",
   "execution_count": 41,
   "id": "377b5213",
   "metadata": {},
   "outputs": [],
   "source": [
    "df2_err_filtered = df2_err[df2_err.is_MLnb&df2_err.is_relevant]\n",
    "df_err_filtered = df_err[df_err.is_MLnb&df_err.is_relevant]"
   ]
  },
  {
   "cell_type": "code",
   "execution_count": 43,
   "id": "25773286",
   "metadata": {},
   "outputs": [
    {
     "name": "stdout",
     "output_type": "stream",
     "text": [
      "There are 47.00%(3185, 2268 notebooks) of all errors in Kaggle notebooks remains\n",
      "There are 41.55%(73659, 50665 notebooks)  of all errors in GitHub notebooks remains\n"
     ]
    }
   ],
   "source": [
    "print(\"There are {0:.2%}({1}, {2} notebooks) of all errors in Kaggle notebooks remains\".format(len(df_err_filtered)/len(df_err), len(df_err_filtered), df_err_filtered.fname.nunique()))\n",
    "print(\"There are {0:.2%}({1}, {2} notebooks)  of all errors in GitHub notebooks remains\".format(len(df2_err_filtered)/len(df2_err), len(df2_err_filtered), df2_err_filtered.fname.nunique()))"
   ]
  },
  {
   "cell_type": "code",
   "execution_count": 44,
   "id": "fc90016c",
   "metadata": {},
   "outputs": [
    {
     "data": {
      "text/plain": [
       "Index(['fname', 'ename', 'evalue', 'traceback', 'ename_mapped', 'imports',\n",
       "       'lib_alias', 'is_MLnb', 'is_relevant'],\n",
       "      dtype='object')"
      ]
     },
     "execution_count": 44,
     "metadata": {},
     "output_type": "execute_result"
    }
   ],
   "source": [
    "df_err.columns"
   ]
  }
 ],
 "metadata": {
  "kernelspec": {
   "display_name": "Python 3 (ipykernel)",
   "language": "python",
   "name": "python3"
  },
  "language_info": {
   "codemirror_mode": {
    "name": "ipython",
    "version": 3
   },
   "file_extension": ".py",
   "mimetype": "text/x-python",
   "name": "python",
   "nbconvert_exporter": "python",
   "pygments_lexer": "ipython3",
   "version": "3.11.5"
  }
 },
 "nbformat": 4,
 "nbformat_minor": 5
}
