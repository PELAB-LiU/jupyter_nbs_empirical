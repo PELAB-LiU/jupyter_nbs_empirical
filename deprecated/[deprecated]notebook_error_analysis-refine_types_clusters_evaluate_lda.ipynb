{
 "cells": [
  {
   "cell_type": "code",
   "execution_count": 1,
   "id": "47f41d4d",
   "metadata": {},
   "outputs": [],
   "source": [
    "# import importlib\n",
    "# importlib.reload(cluster_util)\n",
    "# import cluster_util"
   ]
  },
  {
   "cell_type": "markdown",
   "id": "4566c1f6",
   "metadata": {},
   "source": [
    "# Notebook error analysis \n",
    "\n",
    "## Refining error types - Evaluate cluster results\n"
   ]
  },
  {
   "cell_type": "code",
   "execution_count": 129,
   "id": "b896ba53",
   "metadata": {},
   "outputs": [
    {
     "name": "stderr",
     "output_type": "stream",
     "text": [
      "C:\\Users\\yirwa29\\AppData\\Local\\anaconda3\\envs\\chatgpt\\Lib\\site-packages\\tqdm\\auto.py:21: TqdmWarning: IProgress not found. Please update jupyter and ipywidgets. See https://ipywidgets.readthedocs.io/en/stable/user_install.html\n",
      "  from .autonotebook import tqdm as notebook_tqdm\n"
     ]
    }
   ],
   "source": [
    "# clustered results\n",
    "\n",
    "import pandas as pd \n",
    "import cluster_util, config\n",
    "\n",
    "df_mlerr_clustered = pd.read_excel(config.path_default.joinpath(\"df_mlerr_mlbugs_filtered_dedup_clustered.xlsx\"))"
   ]
  },
  {
   "cell_type": "code",
   "execution_count": 76,
   "id": "eb8915c9",
   "metadata": {},
   "outputs": [
    {
     "data": {
      "text/plain": [
       "Index(['fname', 'eid', 'ename', 'evalue', 'traceback', 'ename_mapped',\n",
       "       'imports', 'lib_alias', 'exp_mllib', 'exp_mllib_extracted',\n",
       "       'python_version', 'evalue_tokenized', 'hash_evalue_tokenized',\n",
       "       'cluster_km_transformers', 'cluster_dbscan_transformers',\n",
       "       'cluster_optics_transformers', 'cluster_km_glove',\n",
       "       'cluster_dbscan_glove', 'cluster_optics_glove', 'cluster_lda60',\n",
       "       'cluster_lda75', 'cluster_km_wordemb', 'cluster_dbscan_wordemb',\n",
       "       'cluster_optics_wordemb', 'cluster_hc_wordemb',\n",
       "       'cluster_hc_transformers'],\n",
       "      dtype='object')"
      ]
     },
     "execution_count": 76,
     "metadata": {},
     "output_type": "execute_result"
    }
   ],
   "source": [
    "df_mlerr_clustered.columns"
   ]
  },
  {
   "cell_type": "markdown",
   "id": "ad94da0d",
   "metadata": {},
   "source": [
    "# Join back the original dataset (before pregroup/dedup)"
   ]
  },
  {
   "cell_type": "code",
   "execution_count": 1,
   "id": "045d4555",
   "metadata": {},
   "outputs": [
    {
     "name": "stdout",
     "output_type": "stream",
     "text": [
      "path_default=WindowsPath('C:/Users/yirwa29/Downloads/Dataset-Nb')\n"
     ]
    }
   ],
   "source": [
    "import pandas as pd \n",
    "import config\n",
    "\n",
    "df_mlerr_dedup_clustered = pd.read_excel(config.path_default.joinpath(\"df_mlerr_mlbugs_filtered_dedup_clustered.xlsx\"))\n",
    "\n",
    "df_mlerr_k = pd.read_excel(config.path_kaggle_error_analysis.joinpath('df_mlerr_k_mlbugs_filtered.xlsx'))\n",
    "df_mlerr_g = pd.read_excel(config.path_github_error_analysis.joinpath('df_mlerr_g_mlbugs_filtered.xlsx'))\n",
    "df_mlerr = pd.concat([df_mlerr_g, df_mlerr_k], ignore_index=True, sort=False)"
   ]
  },
  {
   "cell_type": "code",
   "execution_count": 2,
   "id": "d1a92fa0",
   "metadata": {},
   "outputs": [],
   "source": [
    "# handle noise means that all noise(-1) are in their own clusters(-2,-2-noise samples)\n",
    "def assign_clusterres_to_wholedata(df_dedup_clustered, df_mlerr, key = \"cluster_optics_transformers\", if_handle_noise = True):\n",
    "    noise_label = -2\n",
    "    for index,row in df_dedup_clustered.iterrows():\n",
    "        if row[key] == -1:\n",
    "            res_label = noise_label\n",
    "        else:\n",
    "            res_label = row[key]\n",
    "        hv_tmp = df_mlerr.loc[df_mlerr.eid==row.eid, \"hash_evalue_tokenized\"]\n",
    "        if len(hv_tmp)>1:\n",
    "            print(\"error: more than one hash value found. eid:\", row.eid)\n",
    "        elif len(hv_tmp)==1:\n",
    "            hv = hv_tmp.iloc[0]\n",
    "            df_mlerr.loc[df_mlerr.hash_evalue_tokenized==hv,key] = res_label\n",
    "            noise_label -= 1"
   ]
  },
  {
   "cell_type": "code",
   "execution_count": 3,
   "id": "ea13a7b3",
   "metadata": {},
   "outputs": [],
   "source": [
    "key_cluster_res = \"cluster_lda60\"\n",
    "assign_clusterres_to_wholedata(df_mlerr_dedup_clustered, df_mlerr, key = key_cluster_res)"
   ]
  },
  {
   "cell_type": "code",
   "execution_count": 4,
   "id": "639a06df",
   "metadata": {},
   "outputs": [
    {
     "data": {
      "text/plain": [
       "cluster_lda60\n",
       "48.0    11318\n",
       "9.0      4543\n",
       "24.0     2427\n",
       "16.0     1769\n",
       "59.0     1757\n",
       "29.0     1228\n",
       "30.0     1192\n",
       "37.0     1167\n",
       "20.0      976\n",
       "38.0      812\n",
       "43.0      762\n",
       "8.0       730\n",
       "42.0      715\n",
       "17.0      713\n",
       "23.0      601\n",
       "3.0       597\n",
       "11.0      589\n",
       "19.0      570\n",
       "55.0      396\n",
       "50.0      381\n",
       "39.0      378\n",
       "26.0      318\n",
       "34.0      310\n",
       "4.0       294\n",
       "47.0      279\n",
       "56.0      214\n",
       "53.0      210\n",
       "22.0      208\n",
       "28.0      201\n",
       "52.0      190\n",
       "31.0      186\n",
       "45.0      180\n",
       "40.0      175\n",
       "13.0      166\n",
       "12.0      154\n",
       "21.0      152\n",
       "25.0      151\n",
       "33.0      147\n",
       "51.0      138\n",
       "2.0       132\n",
       "7.0       118\n",
       "49.0      102\n",
       "5.0       102\n",
       "54.0       96\n",
       "36.0       94\n",
       "58.0       90\n",
       "27.0       77\n",
       "14.0       75\n",
       "18.0       74\n",
       "6.0        59\n",
       "1.0        59\n",
       "15.0       56\n",
       "10.0       50\n",
       "44.0       50\n",
       "57.0       42\n",
       "0.0        34\n",
       "41.0       27\n",
       "35.0       24\n",
       "32.0       13\n",
       "46.0        9\n",
       "dtype: int64"
      ]
     },
     "execution_count": 4,
     "metadata": {},
     "output_type": "execute_result"
    }
   ],
   "source": [
    "df_mlerr_cluster_size = df_mlerr.groupby(\"cluster_lda60\").size().sort_values(ascending=False)\n",
    "df_mlerr_cluster_size"
   ]
  },
  {
   "cell_type": "code",
   "execution_count": 5,
   "id": "89673f8b",
   "metadata": {},
   "outputs": [
    {
     "data": {
      "text/plain": [
       "<Axes: xlabel='cluster_lda60'>"
      ]
     },
     "execution_count": 5,
     "metadata": {},
     "output_type": "execute_result"
    },
    {
     "data": {
      "image/png": "[encoded data removed]",
      "text/plain": [
       "<Figure size 1000x400 with 1 Axes>"
      ]
     },
     "metadata": {},
     "output_type": "display_data"
    }
   ],
   "source": [
    "df_mlerr_cluster_size.iloc[:400].plot(kind=\"bar\", xticks=[], figsize=(10,4))"
   ]
  },
  {
   "cell_type": "code",
   "execution_count": 6,
   "id": "fddd6742",
   "metadata": {},
   "outputs": [
    {
     "name": "stdout",
     "output_type": "stream",
     "text": [
      "9\n",
      "60\n",
      "1.0\n"
     ]
    }
   ],
   "source": [
    "print((df_mlerr_cluster_size.cumsum()/df_mlerr.eid.nunique()).searchsorted(0.7)) # num of clusters needed for cover certain percent of errors\n",
    "\n",
    "cutoff_cluster_size = 5\n",
    "print(sum(df_mlerr_cluster_size>=cutoff_cluster_size)) # num of clusters needed for cluster size over ceratin number\n",
    "print(sum(df_mlerr_cluster_size[df_mlerr_cluster_size>=cutoff_cluster_size])/df_mlerr.eid.nunique()) # percentage"
   ]
  },
  {
   "cell_type": "code",
   "execution_count": null,
   "id": "7ec9eb6e",
   "metadata": {},
   "outputs": [],
   "source": []
  }
 ],
 "metadata": {
  "kernelspec": {
   "display_name": "Python 3 (ipykernel)",
   "language": "python",
   "name": "python3"
  },
  "language_info": {
   "codemirror_mode": {
    "name": "ipython",
    "version": 3
   },
   "file_extension": ".py",
   "mimetype": "text/x-python",
   "name": "python",
   "nbconvert_exporter": "python",
   "pygments_lexer": "ipython3",
   "version": "3.11.5"
  }
 },
 "nbformat": 4,
 "nbformat_minor": 5
}
