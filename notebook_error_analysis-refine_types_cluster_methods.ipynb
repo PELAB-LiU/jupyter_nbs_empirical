{
 "cells": [
  {
   "cell_type": "markdown",
   "id": "4566c1f6",
   "metadata": {},
   "source": [
    "# Notebook error analysis \n",
    "\n",
    "## Refining error types - Vectorization and clustering method selection\n",
    "\n",
    "\n",
    "use a subset of whole GitHub error dataset (PL=python) --> ename == valueerror"
   ]
  },
  {
   "cell_type": "markdown",
   "id": "0e237a83",
   "metadata": {},
   "source": [
    "### 1. Preprocess the whole dataset - tokenize"
   ]
  },
  {
   "cell_type": "code",
   "execution_count": 1,
   "id": "9583dc76",
   "metadata": {},
   "outputs": [
    {
     "name": "stderr",
     "output_type": "stream",
     "text": [
      "C:\\Users\\yirwa29\\AppData\\Local\\anaconda3\\envs\\chatgpt\\Lib\\site-packages\\tqdm\\auto.py:21: TqdmWarning: IProgress not found. Please update jupyter and ipywidgets. See https://ipywidgets.readthedocs.io/en/stable/user_install.html\n",
      "  from .autonotebook import tqdm as notebook_tqdm\n"
     ]
    }
   ],
   "source": [
    "import pandas as pd \n",
    "import cluster_util\n",
    "\n",
    "df2_err = pd.read_excel('C:/Users/yirwa29/Downloads/Dataset-Nb/nberror_g_all_p4.xlsx')\n",
    "df2_err['evalue_tokenized'] = df2_err['evalue'].apply(cluster_util.preprocess_text)"
   ]
  },
  {
   "cell_type": "code",
   "execution_count": 5,
   "id": "3feff374",
   "metadata": {},
   "outputs": [],
   "source": [
    "df2_err = df2_err.reindex(columns=['fname', 'ename', 'evalue', 'evalue_tokenized', 'traceback', 'lib'])\n",
    "df2_err.to_excel(\"C:/Users/yirwa29/Downloads/Dataset-Nb/nberror_g_all_p4_evaluetokenized.xlsx\", index=False, engine='xlsxwriter')"
   ]
  },
  {
   "cell_type": "markdown",
   "id": "7af3f2db",
   "metadata": {},
   "source": [
    "### 2. Clustering value errors\n",
    "\n",
    "load tokenized error dataset, evalue_tokenized"
   ]
  },
  {
   "cell_type": "code",
   "execution_count": 1,
   "id": "e2bdfbe2",
   "metadata": {},
   "outputs": [
    {
     "name": "stderr",
     "output_type": "stream",
     "text": [
      "C:\\Users\\yirwa29\\AppData\\Local\\anaconda3\\envs\\chatgpt\\Lib\\site-packages\\tqdm\\auto.py:21: TqdmWarning: IProgress not found. Please update jupyter and ipywidgets. See https://ipywidgets.readthedocs.io/en/stable/user_install.html\n",
      "  from .autonotebook import tqdm as notebook_tqdm\n"
     ]
    }
   ],
   "source": [
    "import pandas as pd \n",
    "import cluster_util\n",
    "\n",
    "df2_err = pd.read_excel('C:/Users/yirwa29/Downloads/Dataset-Nb/nberror_g_all_p4_evaluetokenized.xlsx')\n",
    "df2_err_ename = df2_err[df2_err['ename']=='valueerror']\n",
    "err_descs = df2_err_ename['evalue_tokenized'].values.astype('U')"
   ]
  },
  {
   "cell_type": "markdown",
   "id": "96a1a12a",
   "metadata": {},
   "source": [
    "### 2.1 Vectorization\n",
    "##### 1. tfidf\n",
    "too high dimension (18148, 7791)"
   ]
  },
  {
   "cell_type": "code",
   "execution_count": 2,
   "id": "7d5d13c7",
   "metadata": {},
   "outputs": [
    {
     "data": {
      "text/plain": [
       "(18143, 7649)"
      ]
     },
     "execution_count": 2,
     "metadata": {},
     "output_type": "execute_result"
    }
   ],
   "source": [
    "X_tfidf = cluster_util.vectorizer_tfidf(err_descs)\n",
    "X_tfidf.shape"
   ]
  },
  {
   "cell_type": "code",
   "execution_count": 3,
   "id": "0193955a",
   "metadata": {},
   "outputs": [],
   "source": [
    "import numpy as np\n",
    "\n",
    "with open('C:/Users/yirwa29/Downloads/Dataset-Nb/cluster_g_selection_valueerror/nberror_g_evalue_embeddings_tfidf.txt', 'wb') as f:\n",
    "    np.save(f, X_tfidf)"
   ]
  },
  {
   "cell_type": "markdown",
   "id": "c2f75ef1",
   "metadata": {},
   "source": [
    "##### 2. sentence transformers\n",
    "\n",
    "https://github.com/UKPLab/sentence-transformers\n",
    "\n",
    "https://huggingface.co/sentence-transformers/all-MiniLM-L6-v2\n",
    "\n",
    "sentence to vector (18148, 384)\n",
    "\n",
    "2 embeddings with different preprocessing"
   ]
  },
  {
   "cell_type": "code",
   "execution_count": 4,
   "id": "71d2af37",
   "metadata": {
    "scrolled": false
   },
   "outputs": [
    {
     "name": "stderr",
     "output_type": "stream",
     "text": [
      "C:\\Users\\yirwa29\\AppData\\Local\\anaconda3\\envs\\chatgpt\\Lib\\site-packages\\torch\\_utils.py:831: UserWarning: TypedStorage is deprecated. It will be removed in the future and UntypedStorage will be the only storage class. This should only matter to you if you are using storages directly.  To access UntypedStorage directly, use tensor.untyped_storage() instead of tensor.storage()\n",
      "  return self.fget.__get__(instance, owner)()\n"
     ]
    },
    {
     "data": {
      "text/plain": [
       "(18143, 384)"
      ]
     },
     "execution_count": 4,
     "metadata": {},
     "output_type": "execute_result"
    }
   ],
   "source": [
    "X_transformers = cluster_util.vectorizer_sentence2vec(err_descs)\n",
    "X_transformers.shape"
   ]
  },
  {
   "cell_type": "code",
   "execution_count": 5,
   "id": "0c3fa66d",
   "metadata": {},
   "outputs": [],
   "source": [
    "with open('C:/Users/yirwa29/Downloads/Dataset-Nb/cluster_g_selection_valueerror/nberror_g_evalue_embeddings_transformers.txt', 'wb') as f:\n",
    "    np.save(f, X_transformers)"
   ]
  },
  {
   "cell_type": "code",
   "execution_count": 6,
   "id": "2be86b73",
   "metadata": {},
   "outputs": [
    {
     "name": "stderr",
     "output_type": "stream",
     "text": [
      "C:\\Users\\yirwa29\\AppData\\Local\\Temp\\ipykernel_9420\\3453668874.py:1: SettingWithCopyWarning: \n",
      "A value is trying to be set on a copy of a slice from a DataFrame.\n",
      "Try using .loc[row_indexer,col_indexer] = value instead\n",
      "\n",
      "See the caveats in the documentation: https://pandas.pydata.org/pandas-docs/stable/user_guide/indexing.html#returning-a-view-versus-a-copy\n",
      "  df2_err_ename['evalue_tokenized_transformer'] = df2_err_ename['evalue'].apply(cluster_util.preprocess_text_transformer)\n"
     ]
    }
   ],
   "source": [
    "df2_err_ename['evalue_tokenized_transformer'] = df2_err_ename['evalue'].apply(cluster_util.preprocess_text_transformer)\n",
    "err_descs1 = df2_err_ename['evalue_tokenized_transformer'].values.astype('U')\n",
    "\n",
    "X_transformers1 = cluster_util.vectorizer_sentence2vec(err_descs1)\n",
    "\n",
    "with open('C:/Users/yirwa29/Downloads/Dataset-Nb/cluster_g_selection_valueerror/nberror_g_evalue_embeddings_transformers_1.txt', 'wb') as f:\n",
    "    np.save(f, X_transformers1)"
   ]
  },
  {
   "cell_type": "markdown",
   "id": "21a98de7",
   "metadata": {},
   "source": [
    "##### 3. word embeddings - GloVe\n",
    "\n",
    "Turn sentences to vectors via word embeddings by taking the mean/sum of all word embeddings of the sentence\n",
    "\n",
    "using GloVe (18148, 200)"
   ]
  },
  {
   "cell_type": "code",
   "execution_count": 7,
   "id": "7d04b665",
   "metadata": {},
   "outputs": [
    {
     "name": "stdout",
     "output_type": "stream",
     "text": [
      "Loaded 400000 word vectors from GloVe.\n"
     ]
    },
    {
     "data": {
      "text/plain": [
       "(18143, 200)"
      ]
     },
     "execution_count": 7,
     "metadata": {},
     "output_type": "execute_result"
    }
   ],
   "source": [
    "glove_vectors = cluster_util.load_glove(\"C:/Users/yirwa29/Downloads/Dataset-Nb/glove.6B/glove.6B.200d.txt\")\n",
    "X_glove = np.array([cluster_util.vectorizer_word2vec(xi, glove_vectors, 200) for xi in err_descs])\n",
    "X_glove.shape"
   ]
  },
  {
   "cell_type": "code",
   "execution_count": 8,
   "id": "1628b255",
   "metadata": {},
   "outputs": [],
   "source": [
    "with open('C:/Users/yirwa29/Downloads/Dataset-Nb/cluster_g_selection_valueerror/nberror_g_evalue_embeddings_glove.txt', 'wb') as f:\n",
    "    np.save(f, X_glove)"
   ]
  },
  {
   "cell_type": "code",
   "execution_count": 9,
   "id": "78b13d1f",
   "metadata": {},
   "outputs": [],
   "source": [
    "df2_err_ename.to_excel(\"C:/Users/yirwa29/Downloads/Dataset-Nb/cluster_g_selection_valueerror/nberror_g_cluster_valueerror.xlsx\", index=False, engine='xlsxwriter')"
   ]
  },
  {
   "cell_type": "markdown",
   "id": "3be22434",
   "metadata": {},
   "source": [
    "### 2.2 Clustering with vectorized error values\n"
   ]
  },
  {
   "cell_type": "code",
   "execution_count": 1,
   "id": "f3063a52",
   "metadata": {},
   "outputs": [
    {
     "name": "stderr",
     "output_type": "stream",
     "text": [
      "C:\\Users\\yirwa29\\AppData\\Local\\anaconda3\\envs\\chatgpt\\Lib\\site-packages\\tqdm\\auto.py:21: TqdmWarning: IProgress not found. Please update jupyter and ipywidgets. See https://ipywidgets.readthedocs.io/en/stable/user_install.html\n",
      "  from .autonotebook import tqdm as notebook_tqdm\n"
     ]
    }
   ],
   "source": [
    "import pandas as pd\n",
    "import numpy as np \n",
    "import cluster_util\n",
    "\n",
    "path = 'C:/Users/yirwa29/Downloads/Dataset-Nb/cluster_g_selection_valueerror'\n",
    "path_file = path+\"/nberror_g_cluster_valueerror.xlsx\""
   ]
  },
  {
   "cell_type": "markdown",
   "id": "bdc77b18",
   "metadata": {},
   "source": [
    "##### 1. tfidf"
   ]
  },
  {
   "cell_type": "code",
   "execution_count": 2,
   "id": "d4ef3ab8",
   "metadata": {},
   "outputs": [],
   "source": [
    "df2_err_ename = pd.read_excel(path_file)\n",
    "with open(path+'/nberror_g_evalue_embeddings_tfidf.txt', 'rb') as f:\n",
    "    X_tfidf = np.load(f)"
   ]
  },
  {
   "cell_type": "code",
   "execution_count": null,
   "id": "0fffdef1",
   "metadata": {},
   "outputs": [],
   "source": [
    "## kmeans"
   ]
  },
  {
   "cell_type": "code",
   "execution_count": 2,
   "id": "4a47ff1b",
   "metadata": {},
   "outputs": [],
   "source": [
    "K_range = range(1,100)\n",
    "inertias = cluster_util.elbow_for_kmean(X_tfidf, K_range = K_range)"
   ]
  },
  {
   "cell_type": "code",
   "execution_count": 3,
   "id": "0db5896f",
   "metadata": {},
   "outputs": [
    {
     "data": {
      "image/png": "[encoded data removed]",
      "text/plain": [
       "<Figure size 640x480 with 1 Axes>"
      ]
     },
     "metadata": {},
     "output_type": "display_data"
    }
   ],
   "source": [
    "import matplotlib.pyplot as plt \n",
    "\n",
    "plt.plot(K_range, inertias, 'bx-')\n",
    "plt.xlabel('Values of K')\n",
    "plt.ylabel('Inertias')\n",
    "plt.title('The Elbow Method using Inertias')\n",
    "plt.show()"
   ]
  },
  {
   "cell_type": "code",
   "execution_count": 3,
   "id": "7467c53d",
   "metadata": {},
   "outputs": [],
   "source": [
    "num_clusters = 90\n",
    "res = cluster_util.cluster_kmeans(X_tfidf, n_clusters=num_clusters)\n",
    "df2_err_ename.loc[:,\"cluster\"] = res\n",
    "#cluster_util.print_clusters(num_clusters, df2_err_ename[['evalue','cluster']])"
   ]
  },
  {
   "cell_type": "code",
   "execution_count": 5,
   "id": "71c7f06a",
   "metadata": {},
   "outputs": [],
   "source": [
    "df2_err_ename = df2_err_ename.rename(columns={\"cluster\": \"cluster_km_tfidf\"})\n",
    "df2_err_ename.to_excel(path_file, index=False, engine='xlsxwriter')"
   ]
  },
  {
   "cell_type": "code",
   "execution_count": null,
   "id": "99da1db1",
   "metadata": {},
   "outputs": [],
   "source": [
    "## dbscan"
   ]
  },
  {
   "cell_type": "code",
   "execution_count": 6,
   "id": "7ac8fc72",
   "metadata": {},
   "outputs": [
    {
     "name": "stdout",
     "output_type": "stream",
     "text": [
      "0.7166779443397623\n",
      "Estimated no. of clusters: 83\n",
      "Estimated no. of noise points: 7695\n"
     ]
    }
   ],
   "source": [
    "eps_tfidf = cluster_util.epsilon_search_dbscan(X_tfidf)\n",
    "print(eps_tfidf)\n",
    "res = cluster_util.cluster_dbscan(X_tfidf, eps=eps_tfidf, min_samples=30)"
   ]
  },
  {
   "cell_type": "code",
   "execution_count": 7,
   "id": "baeeb381",
   "metadata": {},
   "outputs": [],
   "source": [
    "df2_err_ename.loc[:,\"cluster\"] = res\n",
    "#cluster_util.print_clusters(20, df2_err_ename[['evalue','cluster']])"
   ]
  },
  {
   "cell_type": "code",
   "execution_count": 8,
   "id": "e0472a99",
   "metadata": {},
   "outputs": [],
   "source": [
    "df2_err_ename = df2_err_ename.rename(columns={\"cluster\": \"cluster_dbscan_tfidf\"})\n",
    "df2_err_ename.to_excel(path_file, index=False, engine='xlsxwriter')"
   ]
  },
  {
   "cell_type": "code",
   "execution_count": 9,
   "id": "850aaee3",
   "metadata": {},
   "outputs": [],
   "source": [
    "## OPTICS"
   ]
  },
  {
   "cell_type": "code",
   "execution_count": 10,
   "id": "fe34b3a2",
   "metadata": {},
   "outputs": [
    {
     "name": "stdout",
     "output_type": "stream",
     "text": [
      "Estimated no. of clusters: 98\n",
      "Estimated no. of noise points: 7584\n"
     ]
    },
    {
     "name": "stderr",
     "output_type": "stream",
     "text": [
      "C:\\Users\\yirwa29\\AppData\\Local\\anaconda3\\envs\\chatgpt\\Lib\\site-packages\\sklearn\\cluster\\_optics.py:1081: RuntimeWarning: divide by zero encountered in divide\n",
      "  ratio = reachability_plot[:-1] / reachability_plot[1:]\n"
     ]
    }
   ],
   "source": [
    "res = cluster_util.cluster_optics(X_tfidf, min_samples = 30)"
   ]
  },
  {
   "cell_type": "code",
   "execution_count": 11,
   "id": "26de0a93",
   "metadata": {},
   "outputs": [],
   "source": [
    "df2_err_ename.loc[:,\"cluster\"] = res\n",
    "#cluster_util.print_clusters(20, df2_err_ename[['evalue','cluster']])"
   ]
  },
  {
   "cell_type": "code",
   "execution_count": 12,
   "id": "184f68fe",
   "metadata": {},
   "outputs": [],
   "source": [
    "df2_err_ename = df2_err_ename.rename(columns={\"cluster\": \"cluster_optics_tfidf\"})\n",
    "df2_err_ename.to_excel(path_file, index=False, engine='xlsxwriter')"
   ]
  },
  {
   "cell_type": "markdown",
   "id": "583cff52",
   "metadata": {},
   "source": [
    "##### 2. sentence transformers"
   ]
  },
  {
   "cell_type": "code",
   "execution_count": 13,
   "id": "d6977afe",
   "metadata": {},
   "outputs": [],
   "source": [
    "df2_err_ename = pd.read_excel(path_file)\n",
    "with open(path+'/nberror_g_evalue_embeddings_transformers.txt', 'rb') as f:\n",
    "    X_transformers = np.load(f)\n",
    "with open(path+'/nberror_g_evalue_embeddings_transformers_1.txt', 'rb') as f:\n",
    "    X_transformers1 = np.load(f)"
   ]
  },
  {
   "cell_type": "code",
   "execution_count": 16,
   "id": "4a6d2220",
   "metadata": {},
   "outputs": [],
   "source": [
    "## kmeans"
   ]
  },
  {
   "cell_type": "code",
   "execution_count": 67,
   "id": "7fd501e2",
   "metadata": {},
   "outputs": [
    {
     "data": {
      "image/png": "[encoded data removed]",
      "text/plain": [
       "<Figure size 640x480 with 1 Axes>"
      ]
     },
     "metadata": {},
     "output_type": "display_data"
    }
   ],
   "source": [
    "K_range = range(1,100)\n",
    "inertias = cluster_util.elbow_for_kmean(X_transformers, K_range = K_range) # X_transformers1\n",
    "\n",
    "import matplotlib.pyplot as plt \n",
    "\n",
    "plt.plot(K_range, inertias, 'bx-')\n",
    "plt.xlabel('Values of K')\n",
    "plt.ylabel('Inertias')\n",
    "plt.title('The Elbow Method using Inertias')\n",
    "plt.show()"
   ]
  },
  {
   "cell_type": "code",
   "execution_count": 14,
   "id": "37fef48f",
   "metadata": {},
   "outputs": [],
   "source": [
    "num_clusters = 90\n",
    "res = cluster_util.cluster_kmeans(X_transformers, n_clusters=num_clusters)\n",
    "df2_err_ename.loc[:,\"cluster\"] = res\n",
    "#cluster_util.print_clusters(num_clusters, df2_err_ename[['evalue','cluster']])"
   ]
  },
  {
   "cell_type": "code",
   "execution_count": 15,
   "id": "25ab801d",
   "metadata": {},
   "outputs": [],
   "source": [
    "df2_err_ename = df2_err_ename.rename(columns={\"cluster\": \"cluster_km_transformers\"})\n",
    "df2_err_ename.to_excel(path_file, index=False, engine='xlsxwriter')"
   ]
  },
  {
   "cell_type": "code",
   "execution_count": 16,
   "id": "2dc7f3f9",
   "metadata": {},
   "outputs": [],
   "source": [
    "# transformer1\n",
    "num_clusters = 90\n",
    "res = cluster_util.cluster_kmeans(X_transformers1, n_clusters=num_clusters)\n",
    "df2_err_ename.loc[:,\"cluster\"] = res\n",
    "#cluster_util.print_clusters(num_clusters, df2_err_ename[['evalue','cluster']])"
   ]
  },
  {
   "cell_type": "code",
   "execution_count": 17,
   "id": "a3c2a4c3",
   "metadata": {},
   "outputs": [],
   "source": [
    "df2_err_ename = df2_err_ename.rename(columns={\"cluster\": \"cluster_km_transformers1\"})\n",
    "df2_err_ename.to_excel(path_file, index=False, engine='xlsxwriter')"
   ]
  },
  {
   "cell_type": "code",
   "execution_count": 21,
   "id": "e0a83605",
   "metadata": {},
   "outputs": [],
   "source": [
    "## dbscan"
   ]
  },
  {
   "cell_type": "code",
   "execution_count": 18,
   "id": "1cc580b2",
   "metadata": {
    "scrolled": true
   },
   "outputs": [
    {
     "name": "stdout",
     "output_type": "stream",
     "text": [
      "0.6408108969235822\n",
      "Estimated no. of clusters: 75\n",
      "Estimated no. of noise points: 7387\n"
     ]
    }
   ],
   "source": [
    "eps_transformers = cluster_util.epsilon_search_dbscan(X_transformers)\n",
    "print(eps_transformers)\n",
    "res = cluster_util.cluster_dbscan(X_transformers, eps=eps_transformers, min_samples=30)"
   ]
  },
  {
   "cell_type": "code",
   "execution_count": 19,
   "id": "0c5e064c",
   "metadata": {},
   "outputs": [],
   "source": [
    "df2_err_ename.loc[:,\"cluster\"] = res\n",
    "#cluster_util.print_clusters(20, df2_err_ename[['evalue','cluster']])"
   ]
  },
  {
   "cell_type": "code",
   "execution_count": 20,
   "id": "06a6530c",
   "metadata": {},
   "outputs": [],
   "source": [
    "df2_err_ename = df2_err_ename.rename(columns={\"cluster\": \"cluster_dbscan_transformers\"})\n",
    "df2_err_ename.to_excel(path_file, index=False, engine='xlsxwriter')"
   ]
  },
  {
   "cell_type": "code",
   "execution_count": 21,
   "id": "ff0f8e27",
   "metadata": {},
   "outputs": [
    {
     "name": "stdout",
     "output_type": "stream",
     "text": [
      "0.49826957613440065\n",
      "Estimated no. of clusters: 67\n",
      "Estimated no. of noise points: 9108\n"
     ]
    }
   ],
   "source": [
    "# transformer 1\n",
    "eps_transformers1 = cluster_util.epsilon_search_dbscan(X_transformers1)\n",
    "print(eps_transformers1)\n",
    "res = cluster_util.cluster_dbscan(X_transformers1, eps=eps_transformers1, min_samples=30)"
   ]
  },
  {
   "cell_type": "code",
   "execution_count": 22,
   "id": "19d32473",
   "metadata": {},
   "outputs": [],
   "source": [
    "df2_err_ename.loc[:,\"cluster\"] = res\n",
    "#cluster_util.print_clusters(20, df2_err_ename[['evalue','cluster']])"
   ]
  },
  {
   "cell_type": "code",
   "execution_count": 23,
   "id": "612c930d",
   "metadata": {},
   "outputs": [],
   "source": [
    "df2_err_ename = df2_err_ename.rename(columns={\"cluster\": \"cluster_dbscan_transformers1\"})\n",
    "df2_err_ename.to_excel(path_file, index=False, engine='xlsxwriter')"
   ]
  },
  {
   "cell_type": "code",
   "execution_count": 24,
   "id": "16987692",
   "metadata": {},
   "outputs": [],
   "source": [
    "## OPTICS"
   ]
  },
  {
   "cell_type": "code",
   "execution_count": 25,
   "id": "ba3ef797",
   "metadata": {},
   "outputs": [
    {
     "name": "stdout",
     "output_type": "stream",
     "text": [
      "Estimated no. of clusters: 90\n",
      "Estimated no. of noise points: 8185\n"
     ]
    },
    {
     "name": "stderr",
     "output_type": "stream",
     "text": [
      "C:\\Users\\yirwa29\\AppData\\Local\\anaconda3\\envs\\chatgpt\\Lib\\site-packages\\sklearn\\cluster\\_optics.py:1081: RuntimeWarning: divide by zero encountered in divide\n",
      "  ratio = reachability_plot[:-1] / reachability_plot[1:]\n"
     ]
    }
   ],
   "source": [
    "res = cluster_util.cluster_optics(X_transformers, min_samples = 30)"
   ]
  },
  {
   "cell_type": "code",
   "execution_count": 26,
   "id": "499df77b",
   "metadata": {},
   "outputs": [],
   "source": [
    "df2_err_ename.loc[:,\"cluster\"] = res\n",
    "#cluster_util.print_clusters(49, df2_err_ename[['evalue','cluster']])"
   ]
  },
  {
   "cell_type": "code",
   "execution_count": 27,
   "id": "1579c7c8",
   "metadata": {},
   "outputs": [],
   "source": [
    "df2_err_ename = df2_err_ename.rename(columns={\"cluster\": \"cluster_optics_transformers\"})\n",
    "df2_err_ename.to_excel(path_file, index=False, engine='xlsxwriter')"
   ]
  },
  {
   "cell_type": "code",
   "execution_count": 28,
   "id": "92a492df",
   "metadata": {},
   "outputs": [
    {
     "name": "stdout",
     "output_type": "stream",
     "text": [
      "Estimated no. of clusters: 99\n",
      "Estimated no. of noise points: 10625\n"
     ]
    },
    {
     "name": "stderr",
     "output_type": "stream",
     "text": [
      "C:\\Users\\yirwa29\\AppData\\Local\\anaconda3\\envs\\chatgpt\\Lib\\site-packages\\sklearn\\cluster\\_optics.py:1081: RuntimeWarning: divide by zero encountered in divide\n",
      "  ratio = reachability_plot[:-1] / reachability_plot[1:]\n"
     ]
    }
   ],
   "source": [
    "# transformer 1\n",
    "res = cluster_util.cluster_optics(X_transformers1, min_samples = 30)"
   ]
  },
  {
   "cell_type": "code",
   "execution_count": 29,
   "id": "553b9afb",
   "metadata": {},
   "outputs": [],
   "source": [
    "df2_err_ename.loc[:,\"cluster\"] = res\n",
    "#cluster_util.print_clusters(20, df2_err_ename[['evalue','cluster']])"
   ]
  },
  {
   "cell_type": "code",
   "execution_count": 30,
   "id": "30001dba",
   "metadata": {},
   "outputs": [],
   "source": [
    "df2_err_ename = df2_err_ename.rename(columns={\"cluster\": \"cluster_optics_transformers1\"})\n",
    "df2_err_ename.to_excel(path_file, index=False, engine='xlsxwriter')"
   ]
  },
  {
   "cell_type": "markdown",
   "id": "9b8fdf5b",
   "metadata": {},
   "source": [
    "##### 3. word embeddings - GloVe"
   ]
  },
  {
   "cell_type": "code",
   "execution_count": 31,
   "id": "6f0092fb",
   "metadata": {},
   "outputs": [],
   "source": [
    "df2_err_ename = pd.read_excel(path_file)\n",
    "with open(path+'/nberror_g_evalue_embeddings_glove.txt', 'rb') as f:\n",
    "    X_glove = np.load(f)"
   ]
  },
  {
   "cell_type": "code",
   "execution_count": 36,
   "id": "327d50a4",
   "metadata": {},
   "outputs": [],
   "source": [
    "## kmeans"
   ]
  },
  {
   "cell_type": "code",
   "execution_count": 28,
   "id": "fff2bf1d",
   "metadata": {},
   "outputs": [
    {
     "data": {
      "image/png": "[encoded data removed]",
      "text/plain": [
       "<Figure size 640x480 with 1 Axes>"
      ]
     },
     "metadata": {},
     "output_type": "display_data"
    }
   ],
   "source": [
    "K_range = range(1,100)\n",
    "inertias = cluster_util.elbow_for_kmean(X_glove, K_range = K_range)\n",
    "\n",
    "import matplotlib.pyplot as plt \n",
    "\n",
    "plt.plot(K_range, inertias, 'bx-')\n",
    "plt.xlabel('Values of K')\n",
    "plt.ylabel('Inertias')\n",
    "plt.title('The Elbow Method using Inertias')\n",
    "plt.show()"
   ]
  },
  {
   "cell_type": "code",
   "execution_count": 32,
   "id": "7d9886b3",
   "metadata": {},
   "outputs": [],
   "source": [
    "num_clusters = 90\n",
    "res = cluster_util.cluster_kmeans(X_glove, n_clusters=num_clusters)\n",
    "df2_err_ename.loc[:,\"cluster\"] = res\n",
    "#cluster_util.print_clusters(num_clusters, df2_err_ename[['evalue','cluster']])"
   ]
  },
  {
   "cell_type": "code",
   "execution_count": 33,
   "id": "57c2196d",
   "metadata": {},
   "outputs": [],
   "source": [
    "df2_err_ename = df2_err_ename.rename(columns={\"cluster\": \"cluster_km_glove\"})\n",
    "df2_err_ename.to_excel(path_file, index=False, engine='xlsxwriter')"
   ]
  },
  {
   "cell_type": "code",
   "execution_count": 39,
   "id": "21865225",
   "metadata": {},
   "outputs": [],
   "source": [
    "## dbscan"
   ]
  },
  {
   "cell_type": "code",
   "execution_count": 34,
   "id": "5652e91c",
   "metadata": {},
   "outputs": [
    {
     "name": "stdout",
     "output_type": "stream",
     "text": [
      "0.8913995827824888\n",
      "Estimated no. of clusters: 79\n",
      "Estimated no. of noise points: 7905\n"
     ]
    }
   ],
   "source": [
    "eps_glove = cluster_util.epsilon_search_dbscan(X_glove)\n",
    "print(eps_glove)\n",
    "res = cluster_util.cluster_dbscan(X_glove, eps=eps_glove, min_samples=30)"
   ]
  },
  {
   "cell_type": "code",
   "execution_count": 35,
   "id": "532e8eee",
   "metadata": {},
   "outputs": [],
   "source": [
    "df2_err_ename.loc[:,\"cluster\"] = res\n",
    "#cluster_util.print_clusters(20, df2_err_ename[['evalue','cluster']])"
   ]
  },
  {
   "cell_type": "code",
   "execution_count": 36,
   "id": "8b4242bd",
   "metadata": {},
   "outputs": [],
   "source": [
    "df2_err_ename = df2_err_ename.rename(columns={\"cluster\": \"cluster_dbscan_glove\"})\n",
    "df2_err_ename.to_excel(path_file, index=False, engine='xlsxwriter')"
   ]
  },
  {
   "cell_type": "code",
   "execution_count": 43,
   "id": "0cbf23c7",
   "metadata": {},
   "outputs": [],
   "source": [
    "## OPTICS"
   ]
  },
  {
   "cell_type": "code",
   "execution_count": 37,
   "id": "fc1a661d",
   "metadata": {},
   "outputs": [
    {
     "name": "stdout",
     "output_type": "stream",
     "text": [
      "Estimated no. of clusters: 96\n",
      "Estimated no. of noise points: 8110\n"
     ]
    },
    {
     "name": "stderr",
     "output_type": "stream",
     "text": [
      "C:\\Users\\yirwa29\\AppData\\Local\\anaconda3\\envs\\chatgpt\\Lib\\site-packages\\sklearn\\cluster\\_optics.py:1081: RuntimeWarning: divide by zero encountered in divide\n",
      "  ratio = reachability_plot[:-1] / reachability_plot[1:]\n"
     ]
    }
   ],
   "source": [
    "res = cluster_util.cluster_optics(X_glove, min_samples = 30)"
   ]
  },
  {
   "cell_type": "code",
   "execution_count": 38,
   "id": "e4f8469d",
   "metadata": {},
   "outputs": [],
   "source": [
    "df2_err_ename.loc[:,\"cluster\"] = res\n",
    "#cluster_util.print_clusters(20, df2_err_ename[['evalue','cluster']])"
   ]
  },
  {
   "cell_type": "code",
   "execution_count": 39,
   "id": "2553a357",
   "metadata": {},
   "outputs": [],
   "source": [
    "df2_err_ename = df2_err_ename.rename(columns={\"cluster\": \"cluster_optics_glove\"})\n",
    "df2_err_ename.to_excel(path_file, index=False, engine='xlsxwriter')"
   ]
  },
  {
   "cell_type": "markdown",
   "id": "60113cc0",
   "metadata": {},
   "source": [
    "#### evaluate vectorization and clustering methods"
   ]
  },
  {
   "cell_type": "code",
   "execution_count": 40,
   "id": "eb8915c9",
   "metadata": {},
   "outputs": [
    {
     "data": {
      "text/plain": [
       "Index(['fname', 'ename', 'evalue', 'evalue_tokenized', 'traceback', 'lib',\n",
       "       'evalue_tokenized_transformer', 'cluster_km_tfidf',\n",
       "       'cluster_dbscan_tfidf', 'cluster_optics_tfidf',\n",
       "       'cluster_km_transformers', 'cluster_km_transformers1',\n",
       "       'cluster_dbscan_transformers', 'cluster_dbscan_transformers1',\n",
       "       'cluster_optics_transformers', 'cluster_optics_transformers1',\n",
       "       'cluster_km_glove', 'cluster_dbscan_glove', 'cluster_optics_glove'],\n",
       "      dtype='object')"
      ]
     },
     "execution_count": 40,
     "metadata": {},
     "output_type": "execute_result"
    }
   ],
   "source": [
    "df2_err_ename.columns"
   ]
  },
  {
   "cell_type": "code",
   "execution_count": 1,
   "id": "70c2046f",
   "metadata": {},
   "outputs": [
    {
     "name": "stderr",
     "output_type": "stream",
     "text": [
      "C:\\Users\\yirwa29\\AppData\\Local\\anaconda3\\envs\\chatgpt\\Lib\\site-packages\\tqdm\\auto.py:21: TqdmWarning: IProgress not found. Please update jupyter and ipywidgets. See https://ipywidgets.readthedocs.io/en/stable/user_install.html\n",
      "  from .autonotebook import tqdm as notebook_tqdm\n"
     ]
    }
   ],
   "source": [
    "import pandas as pd\n",
    "import numpy as np\n",
    "import cluster_util\n",
    "\n",
    "path = 'C:/Users/yirwa29/Downloads/Dataset-Nb/cluster_g_selection_valueerror'\n",
    "path_file = path+\"/nberror_g_cluster_valueerror.xlsx\"\n",
    "\n",
    "df2_err_ename = pd.read_excel(path_file)\n",
    "with open(path+'/nberror_g_evalue_embeddings_tfidf.txt', 'rb') as f:\n",
    "    X_tfidf = np.load(f)\n",
    "with open(path+'/nberror_g_evalue_embeddings_transformers.txt', 'rb') as f:\n",
    "    X_transformers = np.load(f)\n",
    "with open(path+'/nberror_g_evalue_embeddings_transformers1.txt', 'rb') as f:\n",
    "    X_transformers1 = np.load(f)\n",
    "with open(path+'/nberror_g_evalue_embeddings_glove.txt', 'rb') as f:\n",
    "    X_glove = np.load(f)"
   ]
  },
  {
   "cell_type": "code",
   "execution_count": 41,
   "id": "f6678d1c",
   "metadata": {},
   "outputs": [],
   "source": [
    "arr_eval = np.zeros((3,4))\n",
    "name_cols = ['tfidf','word2vec','transformer','transformer1']\n",
    "name_rows = ['kmeans','dbscan','optics']\n",
    "\n",
    "#ss_km_tfidf\n",
    "arr_eval[0,0] = cluster_util.eval_cluster_silhouette(X_tfidf, df2_err_ename['cluster_km_tfidf'])\n",
    "#ss_km_glove\n",
    "arr_eval[0,1] = cluster_util.eval_cluster_silhouette(X_glove, df2_err_ename['cluster_km_glove'])\n",
    "#ss_km_transformers\n",
    "arr_eval[0,2] = cluster_util.eval_cluster_silhouette(X_transformers, df2_err_ename['cluster_km_transformers'])\n",
    "#ss_km_transformers1\n",
    "arr_eval[0,3] = cluster_util.eval_cluster_silhouette(X_transformers1, df2_err_ename['cluster_km_transformers1'])\n",
    "\n",
    "#ss_dbscan_tfidf\n",
    "arr_eval[1,0] = cluster_util.eval_cluster_silhouette(X_tfidf[df2_err_ename['cluster_dbscan_tfidf']!=-1], \n",
    "                                        df2_err_ename.loc[df2_err_ename['cluster_dbscan_tfidf']!=-1, 'cluster_dbscan_tfidf'])\n",
    "#ss_dbscan_glove\n",
    "arr_eval[1,1] = cluster_util.eval_cluster_silhouette(X_glove[df2_err_ename['cluster_dbscan_glove']!=-1],\n",
    "                                        df2_err_ename.loc[df2_err_ename['cluster_dbscan_glove']!=-1, 'cluster_dbscan_glove'])\n",
    "#ss_dbscan_transformers\n",
    "arr_eval[1,2] = cluster_util.eval_cluster_silhouette(X_transformers[df2_err_ename['cluster_dbscan_transformers']!=-1],\n",
    "                                        df2_err_ename.loc[df2_err_ename['cluster_dbscan_transformers']!=-1, 'cluster_dbscan_transformers'])\n",
    "#ss_dbscan_transformers1\n",
    "arr_eval[1,3] = cluster_util.eval_cluster_silhouette(X_transformers1[df2_err_ename['cluster_dbscan_transformers1']!=-1],\n",
    "                                        df2_err_ename.loc[df2_err_ename['cluster_dbscan_transformers1']!=-1, 'cluster_dbscan_transformers1'])\n",
    "#ss_optics_tfidf\n",
    "arr_eval[2,0] = cluster_util.eval_cluster_silhouette(X_tfidf[df2_err_ename['cluster_optics_tfidf']!=-1],\n",
    "                                        df2_err_ename.loc[df2_err_ename['cluster_optics_tfidf']!=-1, 'cluster_optics_tfidf'])\n",
    "#ss_optics_glove\n",
    "arr_eval[2,1] = cluster_util.eval_cluster_silhouette(X_glove[df2_err_ename['cluster_optics_glove']!=-1],\n",
    "                                        df2_err_ename.loc[df2_err_ename['cluster_optics_glove']!=-1, 'cluster_optics_glove'])\n",
    "#ss_optics_transformers\n",
    "arr_eval[2,2] = cluster_util.eval_cluster_silhouette(X_transformers[df2_err_ename['cluster_optics_transformers']!=-1],\n",
    "                                        df2_err_ename.loc[df2_err_ename['cluster_optics_transformers']!=-1, 'cluster_optics_transformers'])\n",
    "#ss_optics_transformers1\n",
    "arr_eval[2,3] = cluster_util.eval_cluster_silhouette(X_transformers1[df2_err_ename['cluster_optics_transformers1']!=-1],\n",
    "                                        df2_err_ename.loc[df2_err_ename['cluster_optics_transformers1']!=-1, 'cluster_optics_transformers1'])"
   ]
  },
  {
   "cell_type": "code",
   "execution_count": 42,
   "id": "b332ac80",
   "metadata": {},
   "outputs": [
    {
     "data": {
      "text/html": [
       "<div>\n",
       "<style scoped>\n",
       "    .dataframe tbody tr th:only-of-type {\n",
       "        vertical-align: middle;\n",
       "    }\n",
       "\n",
       "    .dataframe tbody tr th {\n",
       "        vertical-align: top;\n",
       "    }\n",
       "\n",
       "    .dataframe thead th {\n",
       "        text-align: right;\n",
       "    }\n",
       "</style>\n",
       "<table border=\"1\" class=\"dataframe\">\n",
       "  <thead>\n",
       "    <tr style=\"text-align: right;\">\n",
       "      <th></th>\n",
       "      <th>tfidf</th>\n",
       "      <th>word2vec</th>\n",
       "      <th>transformer</th>\n",
       "      <th>transformer1</th>\n",
       "    </tr>\n",
       "  </thead>\n",
       "  <tbody>\n",
       "    <tr>\n",
       "      <th>kmeans</th>\n",
       "      <td>0.443435</td>\n",
       "      <td>0.413491</td>\n",
       "      <td>0.436031</td>\n",
       "      <td>0.274270</td>\n",
       "    </tr>\n",
       "    <tr>\n",
       "      <th>dbscan</th>\n",
       "      <td>0.883814</td>\n",
       "      <td>0.909028</td>\n",
       "      <td>0.821659</td>\n",
       "      <td>0.662572</td>\n",
       "    </tr>\n",
       "    <tr>\n",
       "      <th>optics</th>\n",
       "      <td>0.905236</td>\n",
       "      <td>0.949811</td>\n",
       "      <td>0.922827</td>\n",
       "      <td>0.779894</td>\n",
       "    </tr>\n",
       "  </tbody>\n",
       "</table>\n",
       "</div>"
      ],
      "text/plain": [
       "           tfidf  word2vec  transformer  transformer1\n",
       "kmeans  0.443435  0.413491     0.436031      0.274270\n",
       "dbscan  0.883814  0.909028     0.821659      0.662572\n",
       "optics  0.905236  0.949811     0.922827      0.779894"
      ]
     },
     "execution_count": 42,
     "metadata": {},
     "output_type": "execute_result"
    }
   ],
   "source": [
    "df_eval = pd.DataFrame(arr_eval, index=name_rows, columns=name_cols)\n",
    "df_eval"
   ]
  },
  {
   "cell_type": "code",
   "execution_count": 43,
   "id": "a19129a5",
   "metadata": {},
   "outputs": [],
   "source": [
    "df_eval.to_excel(path+\"/nberror_g_cluster_valueerror_eval.xlsx\", index=False, engine='xlsxwriter')"
   ]
  },
  {
   "cell_type": "code",
   "execution_count": null,
   "id": "a8bfeec6",
   "metadata": {},
   "outputs": [],
   "source": []
  },
  {
   "cell_type": "code",
   "execution_count": null,
   "id": "af573178",
   "metadata": {},
   "outputs": [],
   "source": []
  }
 ],
 "metadata": {
  "kernelspec": {
   "display_name": "Python 3 (ipykernel)",
   "language": "python",
   "name": "python3"
  },
  "language_info": {
   "codemirror_mode": {
    "name": "ipython",
    "version": 3
   },
   "file_extension": ".py",
   "mimetype": "text/x-python",
   "name": "python",
   "nbconvert_exporter": "python",
   "pygments_lexer": "ipython3",
   "version": "3.11.5"
  }
 },
 "nbformat": 4,
 "nbformat_minor": 5
}
