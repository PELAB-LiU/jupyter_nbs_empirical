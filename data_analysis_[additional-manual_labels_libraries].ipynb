{
 "cells": [
  {
   "cell_type": "markdown",
   "id": "0d037800",
   "metadata": {},
   "source": [
    "# Connect crashes with libraries\n",
    "\n",
    "of the sampled crashes"
   ]
  },
  {
   "cell_type": "markdown",
   "id": "359a9063",
   "metadata": {
    "scrolled": true
   },
   "source": [
    "## Analysis"
   ]
  },
  {
   "cell_type": "code",
   "execution_count": 1,
   "id": "ee830924",
   "metadata": {},
   "outputs": [
    {
     "name": "stdout",
     "output_type": "stream",
     "text": [
      "path_default=WindowsPath('C:/Users/yirwa29/Downloads/data_jupyter_nbs_empirical')\n"
     ]
    },
    {
     "name": "stderr",
     "output_type": "stream",
     "text": [
      "C:\\Users\\yirwa29\\AppData\\Local\\anaconda3\\envs\\chatgpt\\Lib\\site-packages\\openpyxl\\worksheet\\_reader.py:329: UserWarning: Data Validation extension is not supported and will be removed\n",
      "  warn(msg)\n",
      "C:\\Users\\yirwa29\\AppData\\Local\\anaconda3\\envs\\chatgpt\\Lib\\site-packages\\openpyxl\\worksheet\\_reader.py:329: UserWarning: Data Validation extension is not supported and will be removed\n",
      "  warn(msg)\n",
      "C:\\Users\\yirwa29\\AppData\\Local\\anaconda3\\envs\\chatgpt\\Lib\\site-packages\\openpyxl\\worksheet\\_reader.py:329: UserWarning: Data Validation extension is not supported and will be removed\n",
      "  warn(msg)\n"
     ]
    }
   ],
   "source": [
    "import pandas as pd\n",
    "import utils.config as config\n",
    "import numpy as np\n",
    "\n",
    "df_mlerr_labels = pd.read_excel(config.path_default.joinpath('Manual_labeling/cluster_sampled_labeled.xlsx'),\n",
    "                                sheet_name = \"Del-All (repaired)\",\n",
    "                                keep_default_na=False)\n",
    "df_mlerr_labels_mllibs_1 = pd.read_excel(config.path_default.joinpath('Manual_labeling/cluster_sampled_labeled.xlsx'),\n",
    "                                sheet_name = \"Del-1(libs_cause) (repaired)\",\n",
    "                                keep_default_na=False)\n",
    "df_mlerr_labels_mllibs_2 = pd.read_excel(config.path_default.joinpath('Manual_labeling/cluster_sampled_labeled.xlsx'),\n",
    "                                sheet_name = \"Del-2(libs_cause) (repaired)\",\n",
    "                                keep_default_na=False)"
   ]
  },
  {
   "cell_type": "code",
   "execution_count": 2,
   "id": "abfb0474",
   "metadata": {},
   "outputs": [],
   "source": [
    "# df_mlerr_labels_mllibs = df_mlerr_labels[df_mlerr_labels.label_if_ML_bug.isin(config.label_if_ML_bug[\"ML bug\"])]\n",
    "# df_mlerr_labels_mllibs = df_mlerr_labels[~df_mlerr_labels.label_root_cause.isin(config.label_root_cause[\"NB specific\"]+\n",
    "#                                   [\"module not installed\", \"change of environment\", \"file/path not found or exist\", \"external control (window closed)\", \"settings(permission, environment)\"]+\n",
    "#                                   [\"did not import\", \"undefined variable\", \"undefined function\", \"typo\"])]\n",
    "\n",
    "# matching config.top_lib_names\n",
    "# could be multiple libs\n",
    "libs_count = {}\n",
    "n_libs = set()\n",
    "def MLLib_counts(df_mlerr_labels_mllibs):\n",
    "    for index, row in df_mlerr_labels_mllibs.iterrows():\n",
    "        for libstr in row[\"Libs-cause\"].split(\",\"):\n",
    "            lib = libstr.strip()\n",
    "            if lib in [\"keras\", \"tensorflow\"]:\n",
    "                if \"tensorflow/keras\" not in libs_count:\n",
    "                    libs_count[\"tensorflow/keras\"] = 0\n",
    "                libs_count[\"tensorflow/keras\"] += 1\n",
    "            elif lib in (config.top_lib_names):\n",
    "                n_libs.add(row[\"eid\"])\n",
    "                if lib not in libs_count:\n",
    "                    libs_count[lib] = 0\n",
    "                libs_count[lib] += 1\n",
    "MLLib_counts(df_mlerr_labels_mllibs_1)\n",
    "MLLib_counts(df_mlerr_labels_mllibs_2)\n",
    "libs_count = dict(sorted(libs_count.items(), key=lambda item: item[1], reverse=True))\n",
    "df_mllibs_cause = pd.DataFrame.from_dict(libs_count, orient='index', columns=[\"count\"])"
   ]
  },
  {
   "cell_type": "code",
   "execution_count": 3,
   "id": "a47ca225",
   "metadata": {},
   "outputs": [
    {
     "name": "stdout",
     "output_type": "stream",
     "text": [
      "The percentage of crashes caused by using ML libraries:  0.31501340482573725\n",
      "Top libraries that lead to crashes:\n"
     ]
    },
    {
     "data": {
      "text/html": [
       "<div>\n",
       "<style scoped>\n",
       "    .dataframe tbody tr th:only-of-type {\n",
       "        vertical-align: middle;\n",
       "    }\n",
       "\n",
       "    .dataframe tbody tr th {\n",
       "        vertical-align: top;\n",
       "    }\n",
       "\n",
       "    .dataframe thead th {\n",
       "        text-align: right;\n",
       "    }\n",
       "</style>\n",
       "<table border=\"1\" class=\"dataframe\">\n",
       "  <thead>\n",
       "    <tr style=\"text-align: right;\">\n",
       "      <th></th>\n",
       "      <th>count</th>\n",
       "    </tr>\n",
       "  </thead>\n",
       "  <tbody>\n",
       "    <tr>\n",
       "      <th>pandas</th>\n",
       "      <td>21.501706</td>\n",
       "    </tr>\n",
       "    <tr>\n",
       "      <th>tensorflow/keras</th>\n",
       "      <td>19.453925</td>\n",
       "    </tr>\n",
       "    <tr>\n",
       "      <th>sklearn</th>\n",
       "      <td>17.406143</td>\n",
       "    </tr>\n",
       "    <tr>\n",
       "      <th>torch</th>\n",
       "      <td>10.580205</td>\n",
       "    </tr>\n",
       "    <tr>\n",
       "      <th>numpy</th>\n",
       "      <td>10.580205</td>\n",
       "    </tr>\n",
       "    <tr>\n",
       "      <th>matplotlib</th>\n",
       "      <td>6.143345</td>\n",
       "    </tr>\n",
       "    <tr>\n",
       "      <th>seaborn</th>\n",
       "      <td>4.436860</td>\n",
       "    </tr>\n",
       "    <tr>\n",
       "      <th>transformers</th>\n",
       "      <td>2.047782</td>\n",
       "    </tr>\n",
       "    <tr>\n",
       "      <th>cv2</th>\n",
       "      <td>1.706485</td>\n",
       "    </tr>\n",
       "    <tr>\n",
       "      <th>statsmodels</th>\n",
       "      <td>1.706485</td>\n",
       "    </tr>\n",
       "  </tbody>\n",
       "</table>\n",
       "</div>"
      ],
      "text/plain": [
       "                      count\n",
       "pandas            21.501706\n",
       "tensorflow/keras  19.453925\n",
       "sklearn           17.406143\n",
       "torch             10.580205\n",
       "numpy             10.580205\n",
       "matplotlib         6.143345\n",
       "seaborn            4.436860\n",
       "transformers       2.047782\n",
       "cv2                1.706485\n",
       "statsmodels        1.706485"
      ]
     },
     "execution_count": 3,
     "metadata": {},
     "output_type": "execute_result"
    }
   ],
   "source": [
    "print(\"The percentage of crashes caused by using ML libraries: \", len(n_libs)/df_mlerr_labels.shape[0])\n",
    "print(\"Top libraries that lead to crashes:\")\n",
    "df_mllibs_cause.iloc[:10]/sum(df_mllibs_cause[\"count\"])*100"
   ]
  },
  {
   "cell_type": "code",
   "execution_count": 4,
   "id": "f9d445cc",
   "metadata": {},
   "outputs": [
    {
     "name": "stdout",
     "output_type": "stream",
     "text": [
      "Successfully parsed 731/731 notebook files, failed 0 ones.\n"
     ]
    }
   ],
   "source": [
    "import utils.imports_parser as imports_parser\n",
    "import pandas as pd\n",
    "import utils.config as config\n",
    "\n",
    "res = imports_parser.get_imports_nbs_static(config.path_default.joinpath(\"Manual_labeling/sampled_nbs_resampled\"), imports_parser.get_imports_line_outermost)\n",
    "res_pd = pd.DataFrame.from_dict(res)\n",
    "df_mllibs_frequency = res_pd.explode('imports', ignore_index=True).imports.value_counts()\n",
    "df_mllibs_frequency = pd.DataFrame.from_dict(df_mllibs_frequency)\n",
    "df_mllibs_frequency[\"frequency\"] = df_mllibs_frequency[\"count\"]/sum(df_mllibs_frequency[\"count\"])*100"
   ]
  },
  {
   "cell_type": "code",
   "execution_count": 5,
   "id": "c525a05e",
   "metadata": {},
   "outputs": [],
   "source": [
    "df_mllibs_frequency = df_mllibs_frequency[df_mllibs_frequency.index.isin(df_mllibs_cause.index)]\n",
    "df_mllibs_cause = df_mllibs_cause.reindex(df_mllibs_frequency.index)\n",
    "df_mllibs_cause[\"Lib Crashes\"] = df_mllibs_cause[\"count\"]/sum(df_mllibs_cause[\"count\"])*100\n",
    "df_mllibs_cause[\"Lib Usage\"] = df_mllibs_frequency[\"frequency\"].values"
   ]
  },
  {
   "cell_type": "code",
   "execution_count": 6,
   "id": "25ed8e7d",
   "metadata": {},
   "outputs": [],
   "source": [
    "df_mllibs_cause = df_mllibs_cause.sort_values(by='Lib Usage', ascending=False)\n",
    "df_mllibs_cause = df_mllibs_cause.iloc[:10]"
   ]
  },
  {
   "cell_type": "code",
   "execution_count": 7,
   "id": "2cf5e656",
   "metadata": {},
   "outputs": [],
   "source": [
    "df_mllibs_cause[\"CF\"] = df_mllibs_cause[\"Lib Crashes\"]/df_mllibs_cause[\"Lib Usage\"]\n",
    "df_mllibs_cause = df_mllibs_cause.sort_values(by='CF', ascending=False)\n",
    "# df_mllibs_cause[\"CF\"] = df_mllibs_cause[\"CF_ori\"]/30*100 # normalized ratio"
   ]
  },
  {
   "cell_type": "code",
   "execution_count": 8,
   "id": "7e5e6195",
   "metadata": {},
   "outputs": [],
   "source": [
    "df_mllibs_cause.index = [\n",
    "    \"tensorflow\\n(keras)\" if i == 0 else label\n",
    "    for i, label in enumerate(df_mllibs_cause.index)\n",
    "]"
   ]
  },
  {
   "cell_type": "code",
   "execution_count": 9,
   "id": "6842764f",
   "metadata": {},
   "outputs": [],
   "source": [
    "# plot settings\n",
    "import utils.Mycolor as Mycolor\n",
    "import matplotlib.pyplot as plt\n",
    "from matplotlib.ticker import PercentFormatter\n",
    "\n",
    "mycolor = Mycolor.Mycolor()\n",
    "cm_dp = mycolor.cm_dp"
   ]
  },
  {
   "cell_type": "code",
   "execution_count": 10,
   "id": "c71a7b22",
   "metadata": {},
   "outputs": [
    {
     "data": {
      "image/png": "[encoded data removed]",
      "text/plain": [
       "<Figure size 900x400 with 2 Axes>"
      ]
     },
     "metadata": {},
     "output_type": "display_data"
    }
   ],
   "source": [
    "import matplotlib.pyplot as plt\n",
    "\n",
    "ax = df_mllibs_cause.plot(y=[\"Lib Crashes\", \"Lib Usage\"], kind=\"bar\", color = [cm_dp(20),cm_dp(230)], figsize=(9,4))\n",
    "ax2 = ax.twinx()\n",
    "df_mllibs_cause.plot(y=['CF'], linestyle='-', marker='o', ax=ax2, color=\"y\")\n",
    "\n",
    "ax.set_ylabel(\"Lib Crashes/Usage\")\n",
    "ax2.set_ylabel(\"CF\")\n",
    "\n",
    "handles1, labels1 = ax.get_legend_handles_labels()\n",
    "handles2, labels2 = ax2.get_legend_handles_labels()\n",
    "ax.legend(handles1 + handles2, labels1 + labels2, loc=\"upper right\") \n",
    "ax2.get_legend().remove()\n",
    "\n",
    "ax.tick_params(axis='x', labelsize=9, labelrotation=45)\n",
    "ax.set_xlabel('')\n",
    "ax.yaxis.set_major_formatter(PercentFormatter(decimals=0))\n",
    "plt.savefig(config.path_plot_default.joinpath(\"library.pdf\"), bbox_inches='tight')\n",
    "plt.show()"
   ]
  },
  {
   "cell_type": "code",
   "execution_count": 11,
   "id": "bd6dd29c",
   "metadata": {},
   "outputs": [
    {
     "data": {
      "text/html": [
       "<div>\n",
       "<style scoped>\n",
       "    .dataframe tbody tr th:only-of-type {\n",
       "        vertical-align: middle;\n",
       "    }\n",
       "\n",
       "    .dataframe tbody tr th {\n",
       "        vertical-align: top;\n",
       "    }\n",
       "\n",
       "    .dataframe thead th {\n",
       "        text-align: right;\n",
       "    }\n",
       "</style>\n",
       "<table border=\"1\" class=\"dataframe\">\n",
       "  <thead>\n",
       "    <tr style=\"text-align: right;\">\n",
       "      <th></th>\n",
       "      <th>count</th>\n",
       "      <th>Lib Crashes</th>\n",
       "      <th>Lib Usage</th>\n",
       "      <th>CF</th>\n",
       "    </tr>\n",
       "  </thead>\n",
       "  <tbody>\n",
       "    <tr>\n",
       "      <th>tensorflow\\n(keras)</th>\n",
       "      <td>57</td>\n",
       "      <td>19.453925</td>\n",
       "      <td>3.457106</td>\n",
       "      <td>5.627228</td>\n",
       "    </tr>\n",
       "    <tr>\n",
       "      <th>torch</th>\n",
       "      <td>31</td>\n",
       "      <td>10.580205</td>\n",
       "      <td>2.000640</td>\n",
       "      <td>5.288410</td>\n",
       "    </tr>\n",
       "    <tr>\n",
       "      <th>sklearn</th>\n",
       "      <td>51</td>\n",
       "      <td>17.406143</td>\n",
       "      <td>6.161972</td>\n",
       "      <td>2.824768</td>\n",
       "    </tr>\n",
       "    <tr>\n",
       "      <th>pandas</th>\n",
       "      <td>63</td>\n",
       "      <td>21.501706</td>\n",
       "      <td>8.690781</td>\n",
       "      <td>2.474082</td>\n",
       "    </tr>\n",
       "    <tr>\n",
       "      <th>torchvision</th>\n",
       "      <td>3</td>\n",
       "      <td>1.023891</td>\n",
       "      <td>0.784251</td>\n",
       "      <td>1.305565</td>\n",
       "    </tr>\n",
       "    <tr>\n",
       "      <th>seaborn</th>\n",
       "      <td>13</td>\n",
       "      <td>4.436860</td>\n",
       "      <td>3.665173</td>\n",
       "      <td>1.210546</td>\n",
       "    </tr>\n",
       "    <tr>\n",
       "      <th>cv2</th>\n",
       "      <td>5</td>\n",
       "      <td>1.706485</td>\n",
       "      <td>1.552497</td>\n",
       "      <td>1.099187</td>\n",
       "    </tr>\n",
       "    <tr>\n",
       "      <th>numpy</th>\n",
       "      <td>31</td>\n",
       "      <td>10.580205</td>\n",
       "      <td>10.323303</td>\n",
       "      <td>1.024886</td>\n",
       "    </tr>\n",
       "    <tr>\n",
       "      <th>matplotlib</th>\n",
       "      <td>18</td>\n",
       "      <td>6.143345</td>\n",
       "      <td>8.450704</td>\n",
       "      <td>0.726962</td>\n",
       "    </tr>\n",
       "    <tr>\n",
       "      <th>scipy</th>\n",
       "      <td>2</td>\n",
       "      <td>0.682594</td>\n",
       "      <td>1.664533</td>\n",
       "      <td>0.410081</td>\n",
       "    </tr>\n",
       "  </tbody>\n",
       "</table>\n",
       "</div>"
      ],
      "text/plain": [
       "                     count  Lib Crashes  Lib Usage        CF\n",
       "tensorflow\\n(keras)     57    19.453925   3.457106  5.627228\n",
       "torch                   31    10.580205   2.000640  5.288410\n",
       "sklearn                 51    17.406143   6.161972  2.824768\n",
       "pandas                  63    21.501706   8.690781  2.474082\n",
       "torchvision              3     1.023891   0.784251  1.305565\n",
       "seaborn                 13     4.436860   3.665173  1.210546\n",
       "cv2                      5     1.706485   1.552497  1.099187\n",
       "numpy                   31    10.580205  10.323303  1.024886\n",
       "matplotlib              18     6.143345   8.450704  0.726962\n",
       "scipy                    2     0.682594   1.664533  0.410081"
      ]
     },
     "execution_count": 11,
     "metadata": {},
     "output_type": "execute_result"
    }
   ],
   "source": [
    "df_mllibs_cause"
   ]
  },
  {
   "cell_type": "code",
   "execution_count": null,
   "id": "b54ceb69",
   "metadata": {},
   "outputs": [],
   "source": []
  },
  {
   "cell_type": "code",
   "execution_count": 1,
   "id": "3d2c042d",
   "metadata": {},
   "outputs": [
    {
     "name": "stdout",
     "output_type": "stream",
     "text": [
      "path_default=WindowsPath('C:/Users/yirwa29/Downloads/data_jupyter_nbs_empirical')\n"
     ]
    },
    {
     "name": "stderr",
     "output_type": "stream",
     "text": [
      "C:\\Users\\yirwa29\\AppData\\Local\\anaconda3\\envs\\chatgpt\\Lib\\site-packages\\openpyxl\\worksheet\\_reader.py:329: UserWarning: Data Validation extension is not supported and will be removed\n",
      "  warn(msg)\n",
      "C:\\Users\\yirwa29\\AppData\\Local\\anaconda3\\envs\\chatgpt\\Lib\\site-packages\\openpyxl\\worksheet\\_reader.py:329: UserWarning: Data Validation extension is not supported and will be removed\n",
      "  warn(msg)\n"
     ]
    }
   ],
   "source": [
    "import pandas as pd\n",
    "import utils.config as config\n",
    "import numpy as np\n",
    "\n",
    "df_mlerr_labels_mllibs_1 = pd.read_excel(config.path_default.joinpath('Manual_labeling/cluster_sampled_labeled.xlsx'),\n",
    "                                sheet_name = \"Del-1(libs_cause) (repaired)\",\n",
    "                                keep_default_na=False)\n",
    "df_mlerr_labels_mllibs_2 = pd.read_excel(config.path_default.joinpath('Manual_labeling/cluster_sampled_labeled.xlsx'),\n",
    "                                sheet_name = \"Del-2(libs_cause) (repaired)\",\n",
    "                                keep_default_na=False)"
   ]
  },
  {
   "cell_type": "code",
   "execution_count": 11,
   "id": "c0346d61",
   "metadata": {},
   "outputs": [],
   "source": [
    "# f = lambda row: \",\" in row['Libs-cause']\n",
    "# df_mlerr_labels_mllibs_2[df_mlerr_labels_mllibs_2.apply(f, axis=1)]"
   ]
  },
  {
   "cell_type": "code",
   "execution_count": 12,
   "id": "d8630386",
   "metadata": {},
   "outputs": [],
   "source": [
    "df_mlerr_labels_mllibs_1_t3 = df_mlerr_labels_mllibs_1[df_mlerr_labels_mllibs_1['Libs-cause'].isin([\"tensorflow\", \"keras\", \"torch\"])]\n",
    "df_mlerr_labels_mllibs_2_t3 = df_mlerr_labels_mllibs_2[df_mlerr_labels_mllibs_2['Libs-cause'].isin([\"tensorflow\", \"keras\", \"torch\"])]\n",
    "df_mlerr_labels_mllibs_t3 = pd.concat([df_mlerr_labels_mllibs_1_t3, df_mlerr_labels_mllibs_2_t3])"
   ]
  },
  {
   "cell_type": "code",
   "execution_count": 13,
   "id": "0cff01a6",
   "metadata": {},
   "outputs": [],
   "source": [
    "df_mlerr_labels = pd.read_excel(config.path_default.joinpath('Manual_labeling/cluster_sampled_labeled_processed.xlsx'))\n",
    "df_mlerr_labels_mllibs_t3 = pd.merge(df_mlerr_labels_mllibs_t3[[\"eid\",\"Libs-cause\"]],\n",
    "                                     df_mlerr_labels,\n",
    "                                     on=\"eid\", how=\"left\")"
   ]
  },
  {
   "cell_type": "code",
   "execution_count": 14,
   "id": "67fcea41",
   "metadata": {},
   "outputs": [
    {
     "data": {
      "text/plain": [
       "Libs-cause\n",
       "keras         34\n",
       "torch         31\n",
       "tensorflow    23\n",
       "Name: count, dtype: int64"
      ]
     },
     "execution_count": 14,
     "metadata": {},
     "output_type": "execute_result"
    }
   ],
   "source": [
    "df_mlerr_labels_mllibs_t3['Libs-cause'].value_counts()"
   ]
  },
  {
   "cell_type": "code",
   "execution_count": 15,
   "id": "c2f4b00a",
   "metadata": {},
   "outputs": [],
   "source": [
    "df_mlerr_labels_mllibs_t3.to_excel(config.path_default.joinpath(\"Manual_labeling/cluster_sampled_labeled_libraries_top.xlsx\"), index=False, engine='xlsxwriter')"
   ]
  },
  {
   "cell_type": "code",
   "execution_count": 16,
   "id": "474b87a8",
   "metadata": {},
   "outputs": [
    {
     "name": "stdout",
     "output_type": "stream",
     "text": [
      "label_refined_exp_type\n",
      "tensor shape mismatch                                 16\n",
      "attributeerror                                         8\n",
      "wrong arguments to API                                 7\n",
      "out of memory (OOM)                                    6\n",
      "valueerror - data range mismatch                       3\n",
      "valueerror - feature name mismatch                     2\n",
      "importerror                                            2\n",
      "cast exception                                         2\n",
      "keyerror                                               2\n",
      "valueerror - data value violation                      2\n",
      "typeerror                                              1\n",
      "out of space (disk)                                    1\n",
      "initialization error (call mul-times, wrong order)     1\n",
      "notfounderror                                          1\n",
      "typeerror-notiterable                                  1\n",
      "unsupported file type (read file)                      1\n",
      "typeerror-notsubscriptable                             1\n",
      "Name: count, dtype: int64\n",
      "label_root_cause\n",
      "misunderstanding of APIs              14\n",
      "invalid argument                      12\n",
      "insufficient resources                 7\n",
      "misunderstanding of ML model           7\n",
      "misunderstanding of data structure     5\n",
      "wrong implementation                   4\n",
      "library versions incompatible          3\n",
      "unknown                                3\n",
      "error inside library                   1\n",
      "misunderstanding of libraries          1\n",
      "Name: count, dtype: int64\n"
     ]
    }
   ],
   "source": [
    "df_mlerr_labels_mllibs_tk = df_mlerr_labels_mllibs_t3[df_mlerr_labels_mllibs_t3['Libs-cause'].isin([\"tensorflow\", \"keras\"])]\n",
    "print(df_mlerr_labels_mllibs_tk.label_refined_exp_type.value_counts())\n",
    "print(df_mlerr_labels_mllibs_tk.label_root_cause.value_counts())"
   ]
  },
  {
   "cell_type": "code",
   "execution_count": 17,
   "id": "3c5ba78a",
   "metadata": {},
   "outputs": [
    {
     "name": "stdout",
     "output_type": "stream",
     "text": [
      "label_refined_exp_type\n",
      "wrong arguments to API    10\n",
      "runtimeerror               8\n",
      "tensor shape mismatch      5\n",
      "out of memory (OOM)        5\n",
      "attributeerror             2\n",
      "indexerror-1d              1\n",
      "Name: count, dtype: int64\n",
      "label_root_cause\n",
      "unknown                               6\n",
      "misunderstanding of ML model          6\n",
      "misunderstanding of APIs              5\n",
      "insufficient resources                5\n",
      "wrong implementation                  4\n",
      "invalid argument                      3\n",
      "misunderstanding of data structure    2\n",
      "Name: count, dtype: int64\n"
     ]
    }
   ],
   "source": [
    "df_mlerr_labels_mllibs_t = df_mlerr_labels_mllibs_t3[df_mlerr_labels_mllibs_t3['Libs-cause'].isin([\"torch\"])]\n",
    "print(df_mlerr_labels_mllibs_t.label_refined_exp_type.value_counts())\n",
    "print(df_mlerr_labels_mllibs_t.label_root_cause.value_counts())"
   ]
  },
  {
   "cell_type": "code",
   "execution_count": null,
   "id": "7ded7a89",
   "metadata": {},
   "outputs": [],
   "source": []
  }
 ],
 "metadata": {
  "kernelspec": {
   "display_name": "Python 3 (ipykernel)",
   "language": "python",
   "name": "python3"
  },
  "language_info": {
   "codemirror_mode": {
    "name": "ipython",
    "version": 3
   },
   "file_extension": ".py",
   "mimetype": "text/x-python",
   "name": "python",
   "nbconvert_exporter": "python",
   "pygments_lexer": "ipython3",
   "version": "3.11.5"
  }
 },
 "nbformat": 4,
 "nbformat_minor": 5
}
