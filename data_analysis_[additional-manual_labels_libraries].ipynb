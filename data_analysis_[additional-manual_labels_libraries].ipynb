{
 "cells": [
  {
   "cell_type": "markdown",
   "id": "0d037800",
   "metadata": {},
   "source": [
    "# Connect crashes with libraries\n",
    "\n",
    "of the sampled crashes"
   ]
  },
  {
   "cell_type": "markdown",
   "id": "359a9063",
   "metadata": {
    "scrolled": true
   },
   "source": [
    "## Analysis"
   ]
  },
  {
   "cell_type": "code",
   "execution_count": 21,
   "id": "ee830924",
   "metadata": {},
   "outputs": [
    {
     "name": "stderr",
     "output_type": "stream",
     "text": [
      "C:\\Users\\yirwa29\\AppData\\Local\\anaconda3\\envs\\chatgpt\\Lib\\site-packages\\openpyxl\\worksheet\\_reader.py:329: UserWarning: Data Validation extension is not supported and will be removed\n",
      "  warn(msg)\n"
     ]
    }
   ],
   "source": [
    "import pandas as pd\n",
    "import utils.config as config\n",
    "import numpy as np\n",
    "\n",
    "df_mlerr_labels = pd.read_excel(config.path_default.joinpath('Manual_labeing/libraries/df_err_processed_pregroup_sampled4_resampled7.xlsx'),\n",
    "                                sheet_name = \"Del-All(resampled-libs_cause)\",\n",
    "                                keep_default_na=False)"
   ]
  },
  {
   "cell_type": "code",
   "execution_count": 22,
   "id": "abfb0474",
   "metadata": {},
   "outputs": [],
   "source": [
    "df_mlerr_labels_mllibs = df_mlerr_labels[df_mlerr_labels.label_if_ML_bug.isin(config.label_if_ML_bug[\"ML bug\"])]\n",
    "df_mlerr_labels_mllibs = df_mlerr_labels[~df_mlerr_labels.label_root_cause.isin(config.label_root_cause[\"NB specific\"]+\n",
    "                                  [\"module not installed\", \"change of environment\", \"file/path not found or exist\", \"external control (window closed)\", \"settings(permission, environment)\"]+\n",
    "                                  [\"did not import\", \"undefined variable\", \"undefined function\", \"typo\"])]\n",
    "df_mlerr_labels_mllibs = df_mlerr_labels[(df_mlerr_labels[\"Libs-cause\"]!=\"None\")]"
   ]
  },
  {
   "cell_type": "code",
   "execution_count": 23,
   "id": "a47ca225",
   "metadata": {},
   "outputs": [
    {
     "name": "stdout",
     "output_type": "stream",
     "text": [
      "The percentage of crashes caused by using ML libraries:  0.4584450402144772\n",
      "Top libraries that lead to crashes:\n"
     ]
    },
    {
     "data": {
      "text/html": [
       "<div>\n",
       "<style scoped>\n",
       "    .dataframe tbody tr th:only-of-type {\n",
       "        vertical-align: middle;\n",
       "    }\n",
       "\n",
       "    .dataframe tbody tr th {\n",
       "        vertical-align: top;\n",
       "    }\n",
       "\n",
       "    .dataframe thead th {\n",
       "        text-align: right;\n",
       "    }\n",
       "</style>\n",
       "<table border=\"1\" class=\"dataframe\">\n",
       "  <thead>\n",
       "    <tr style=\"text-align: right;\">\n",
       "      <th></th>\n",
       "      <th>count</th>\n",
       "    </tr>\n",
       "    <tr>\n",
       "      <th>Libs-cause</th>\n",
       "      <th></th>\n",
       "    </tr>\n",
       "  </thead>\n",
       "  <tbody>\n",
       "    <tr>\n",
       "      <th>pandas</th>\n",
       "      <td>0.195906</td>\n",
       "    </tr>\n",
       "    <tr>\n",
       "      <th>sklearn</th>\n",
       "      <td>0.146199</td>\n",
       "    </tr>\n",
       "    <tr>\n",
       "      <th>torch</th>\n",
       "      <td>0.108187</td>\n",
       "    </tr>\n",
       "    <tr>\n",
       "      <th>numpy</th>\n",
       "      <td>0.096491</td>\n",
       "    </tr>\n",
       "    <tr>\n",
       "      <th>keras</th>\n",
       "      <td>0.090643</td>\n",
       "    </tr>\n",
       "    <tr>\n",
       "      <th>tensorflow</th>\n",
       "      <td>0.078947</td>\n",
       "    </tr>\n",
       "    <tr>\n",
       "      <th>matplotlib</th>\n",
       "      <td>0.049708</td>\n",
       "    </tr>\n",
       "    <tr>\n",
       "      <th>seaborn</th>\n",
       "      <td>0.038012</td>\n",
       "    </tr>\n",
       "    <tr>\n",
       "      <th>cv2</th>\n",
       "      <td>0.017544</td>\n",
       "    </tr>\n",
       "    <tr>\n",
       "      <th>PIL</th>\n",
       "      <td>0.011696</td>\n",
       "    </tr>\n",
       "  </tbody>\n",
       "</table>\n",
       "</div>"
      ],
      "text/plain": [
       "               count\n",
       "Libs-cause          \n",
       "pandas      0.195906\n",
       "sklearn     0.146199\n",
       "torch       0.108187\n",
       "numpy       0.096491\n",
       "keras       0.090643\n",
       "tensorflow  0.078947\n",
       "matplotlib  0.049708\n",
       "seaborn     0.038012\n",
       "cv2         0.017544\n",
       "PIL         0.011696"
      ]
     },
     "execution_count": 23,
     "metadata": {},
     "output_type": "execute_result"
    }
   ],
   "source": [
    "print(\"The percentage of crashes caused by using ML libraries: \", df_mlerr_labels_mllibs.shape[0]/df_mlerr_labels.shape[0])\n",
    "print(\"Top libraries that lead to crashes:\")\n",
    "pd.DataFrame(df_mlerr_labels_mllibs[\"Libs-cause\"].value_counts()[:10]/df_mlerr_labels_mllibs.shape[0])"
   ]
  },
  {
   "cell_type": "code",
   "execution_count": 24,
   "id": "6f50c629",
   "metadata": {},
   "outputs": [
    {
     "name": "stdout",
     "output_type": "stream",
     "text": [
      "The percentage of GH crashes caused by using ML libraries:  0.4205128205128205\n",
      "Top libraries that lead to crashes for GH notebooks:\n"
     ]
    },
    {
     "data": {
      "text/html": [
       "<div>\n",
       "<style scoped>\n",
       "    .dataframe tbody tr th:only-of-type {\n",
       "        vertical-align: middle;\n",
       "    }\n",
       "\n",
       "    .dataframe tbody tr th {\n",
       "        vertical-align: top;\n",
       "    }\n",
       "\n",
       "    .dataframe thead th {\n",
       "        text-align: right;\n",
       "    }\n",
       "</style>\n",
       "<table border=\"1\" class=\"dataframe\">\n",
       "  <thead>\n",
       "    <tr style=\"text-align: right;\">\n",
       "      <th></th>\n",
       "      <th>count</th>\n",
       "    </tr>\n",
       "    <tr>\n",
       "      <th>Libs-cause</th>\n",
       "      <th></th>\n",
       "    </tr>\n",
       "  </thead>\n",
       "  <tbody>\n",
       "    <tr>\n",
       "      <th>pandas</th>\n",
       "      <td>0.195122</td>\n",
       "    </tr>\n",
       "    <tr>\n",
       "      <th>numpy</th>\n",
       "      <td>0.128049</td>\n",
       "    </tr>\n",
       "    <tr>\n",
       "      <th>sklearn</th>\n",
       "      <td>0.128049</td>\n",
       "    </tr>\n",
       "    <tr>\n",
       "      <th>torch</th>\n",
       "      <td>0.115854</td>\n",
       "    </tr>\n",
       "    <tr>\n",
       "      <th>tensorflow</th>\n",
       "      <td>0.109756</td>\n",
       "    </tr>\n",
       "    <tr>\n",
       "      <th>matplotlib</th>\n",
       "      <td>0.060976</td>\n",
       "    </tr>\n",
       "    <tr>\n",
       "      <th>seaborn</th>\n",
       "      <td>0.042683</td>\n",
       "    </tr>\n",
       "    <tr>\n",
       "      <th>keras</th>\n",
       "      <td>0.036585</td>\n",
       "    </tr>\n",
       "    <tr>\n",
       "      <th>cv2</th>\n",
       "      <td>0.024390</td>\n",
       "    </tr>\n",
       "    <tr>\n",
       "      <th>PIL</th>\n",
       "      <td>0.012195</td>\n",
       "    </tr>\n",
       "  </tbody>\n",
       "</table>\n",
       "</div>"
      ],
      "text/plain": [
       "               count\n",
       "Libs-cause          \n",
       "pandas      0.195122\n",
       "numpy       0.128049\n",
       "sklearn     0.128049\n",
       "torch       0.115854\n",
       "tensorflow  0.109756\n",
       "matplotlib  0.060976\n",
       "seaborn     0.042683\n",
       "keras       0.036585\n",
       "cv2         0.024390\n",
       "PIL         0.012195"
      ]
     },
     "execution_count": 24,
     "metadata": {},
     "output_type": "execute_result"
    }
   ],
   "source": [
    "df_mlerr_labels_gh = df_mlerr_labels[(df_mlerr_labels[\"nb_source\"]==config.NB_SOURCE[\"github\"])]\n",
    "df_mlerr_labels_mllibs_gh = df_mlerr_labels_mllibs[(df_mlerr_labels_mllibs[\"nb_source\"]==config.NB_SOURCE[\"github\"])]\n",
    "print(\"The percentage of GH crashes caused by using ML libraries: \", df_mlerr_labels_mllibs_gh.shape[0]/df_mlerr_labels_gh.shape[0])\n",
    "print(\"Top libraries that lead to crashes for GH notebooks:\")\n",
    "pd.DataFrame(df_mlerr_labels_mllibs_gh[\"Libs-cause\"].value_counts()[:10]/df_mlerr_labels_mllibs_gh.shape[0])"
   ]
  },
  {
   "cell_type": "code",
   "execution_count": 25,
   "id": "e1f19c9a",
   "metadata": {},
   "outputs": [
    {
     "name": "stdout",
     "output_type": "stream",
     "text": [
      "The percentage of Kaggle crashes caused by using ML libraries:  0.5\n",
      "Top libraries that lead to crashes for Kaggle notebooks:\n"
     ]
    },
    {
     "data": {
      "text/html": [
       "<div>\n",
       "<style scoped>\n",
       "    .dataframe tbody tr th:only-of-type {\n",
       "        vertical-align: middle;\n",
       "    }\n",
       "\n",
       "    .dataframe tbody tr th {\n",
       "        vertical-align: top;\n",
       "    }\n",
       "\n",
       "    .dataframe thead th {\n",
       "        text-align: right;\n",
       "    }\n",
       "</style>\n",
       "<table border=\"1\" class=\"dataframe\">\n",
       "  <thead>\n",
       "    <tr style=\"text-align: right;\">\n",
       "      <th></th>\n",
       "      <th>count</th>\n",
       "    </tr>\n",
       "    <tr>\n",
       "      <th>Libs-cause</th>\n",
       "      <th></th>\n",
       "    </tr>\n",
       "  </thead>\n",
       "  <tbody>\n",
       "    <tr>\n",
       "      <th>pandas</th>\n",
       "      <td>0.196629</td>\n",
       "    </tr>\n",
       "    <tr>\n",
       "      <th>sklearn</th>\n",
       "      <td>0.162921</td>\n",
       "    </tr>\n",
       "    <tr>\n",
       "      <th>keras</th>\n",
       "      <td>0.140449</td>\n",
       "    </tr>\n",
       "    <tr>\n",
       "      <th>torch</th>\n",
       "      <td>0.101124</td>\n",
       "    </tr>\n",
       "    <tr>\n",
       "      <th>numpy</th>\n",
       "      <td>0.067416</td>\n",
       "    </tr>\n",
       "    <tr>\n",
       "      <th>tensorflow</th>\n",
       "      <td>0.050562</td>\n",
       "    </tr>\n",
       "    <tr>\n",
       "      <th>matplotlib</th>\n",
       "      <td>0.039326</td>\n",
       "    </tr>\n",
       "    <tr>\n",
       "      <th>seaborn</th>\n",
       "      <td>0.033708</td>\n",
       "    </tr>\n",
       "    <tr>\n",
       "      <th>statsmodels</th>\n",
       "      <td>0.016854</td>\n",
       "    </tr>\n",
       "    <tr>\n",
       "      <th>torchvision</th>\n",
       "      <td>0.016854</td>\n",
       "    </tr>\n",
       "  </tbody>\n",
       "</table>\n",
       "</div>"
      ],
      "text/plain": [
       "                count\n",
       "Libs-cause           \n",
       "pandas       0.196629\n",
       "sklearn      0.162921\n",
       "keras        0.140449\n",
       "torch        0.101124\n",
       "numpy        0.067416\n",
       "tensorflow   0.050562\n",
       "matplotlib   0.039326\n",
       "seaborn      0.033708\n",
       "statsmodels  0.016854\n",
       "torchvision  0.016854"
      ]
     },
     "execution_count": 25,
     "metadata": {},
     "output_type": "execute_result"
    }
   ],
   "source": [
    "df_mlerr_labels_k = df_mlerr_labels[(df_mlerr_labels[\"nb_source\"]==config.NB_SOURCE[\"kaggle\"])]\n",
    "df_mlerr_labels_mllibs_k = df_mlerr_labels_mllibs[(df_mlerr_labels_mllibs[\"nb_source\"]==config.NB_SOURCE[\"kaggle\"])]\n",
    "print(\"The percentage of Kaggle crashes caused by using ML libraries: \", df_mlerr_labels_mllibs_k.shape[0]/df_mlerr_labels_k.shape[0])\n",
    "print(\"Top libraries that lead to crashes for Kaggle notebooks:\")\n",
    "pd.DataFrame(df_mlerr_labels_mllibs_k[\"Libs-cause\"].value_counts()[:10]/df_mlerr_labels_mllibs_k.shape[0])"
   ]
  },
  {
   "cell_type": "code",
   "execution_count": 26,
   "id": "f9d445cc",
   "metadata": {},
   "outputs": [],
   "source": [
    "# Plot together with library usage frequency, ML API misuse, other root causes\n",
    "df_mllibs_frequency = pd.read_excel(config.path_default.joinpath('Kaggle/ml_library/nb_imports_popular_libs_manual_labeled.xlsx'),\n",
    "                                    sheet_name = \"Yiran\", keep_default_na=False)\n",
    "df_mllibs_frequency = df_mllibs_frequency[df_mllibs_frequency.imports.isin(config.top_lib_names)][[\"imports\",\"count\"]].reindex()\n",
    "df_mllibs_frequency[\"count\"] = df_mllibs_frequency[\"count\"].astype(int)\n",
    "df_mllibs_frequency[\"frequency\"] = df_mllibs_frequency[\"count\"]/sum(df_mllibs_frequency[\"count\"])*100"
   ]
  },
  {
   "cell_type": "code",
   "execution_count": 27,
   "id": "14c52b56",
   "metadata": {},
   "outputs": [],
   "source": [
    "df_mllibs_cause = pd.DataFrame(df_mlerr_labels_mllibs_gh[\"Libs-cause\"].value_counts())\n",
    "df_mllibs_cause = df_mllibs_cause[df_mllibs_cause.index.isin(config.top_lib_names)]"
   ]
  },
  {
   "cell_type": "code",
   "execution_count": 28,
   "id": "c525a05e",
   "metadata": {},
   "outputs": [],
   "source": [
    "df_mllibs_frequency = df_mllibs_frequency[df_mllibs_frequency.imports.isin(df_mllibs_cause.index)]\n",
    "df_mllibs_cause = df_mllibs_cause.reindex(df_mllibs_frequency.imports)\n",
    "df_mllibs_cause[\"Crash percentage\"] = df_mllibs_cause[\"count\"]/sum(df_mllibs_cause[\"count\"])*100\n",
    "df_mllibs_cause[\"Usage frequency\"] = df_mllibs_frequency[\"frequency\"].values"
   ]
  },
  {
   "cell_type": "code",
   "execution_count": 29,
   "id": "2cf5e656",
   "metadata": {},
   "outputs": [],
   "source": [
    "df_mllibs_cause[\"ratio\"] = df_mllibs_cause[\"Crash percentage\"]/df_mllibs_cause[\"Usage frequency\"]\n",
    "df_mllibs_cause = df_mllibs_cause.sort_values(by='ratio', ascending=False)"
   ]
  },
  {
   "cell_type": "code",
   "execution_count": 30,
   "id": "6842764f",
   "metadata": {},
   "outputs": [],
   "source": [
    "# plot settings\n",
    "import utils.Mycolor as Mycolor\n",
    "import matplotlib.pyplot as plt\n",
    "from matplotlib.ticker import PercentFormatter\n",
    "\n",
    "mycolor = Mycolor.Mycolor()\n",
    "cm_dp = mycolor.cm_dp"
   ]
  },
  {
   "cell_type": "code",
   "execution_count": 31,
   "id": "c71a7b22",
   "metadata": {},
   "outputs": [
    {
     "data": {
      "image/png": "[encoded data removed]",
      "text/plain": [
       "<Figure size 700x400 with 1 Axes>"
      ]
     },
     "metadata": {},
     "output_type": "display_data"
    }
   ],
   "source": [
    "import matplotlib.pyplot as plt\n",
    "\n",
    "df_mllibs_cause[\"Crash-usage factor\"] = df_mllibs_cause[\"ratio\"]/20*100 # normalized ratio\n",
    "ax = df_mllibs_cause.plot(y=[\"Crash percentage\", \"Usage frequency\"], kind=\"bar\", color = [cm_dp(20),cm_dp(230)], figsize=(7,4))\n",
    "df_mllibs_cause.plot(y=['Crash-usage factor'], linestyle='-', marker='o', ax=ax, color=\"y\", rot=45)\n",
    "ax.set_xlabel('')\n",
    "ax.yaxis.set_major_formatter(PercentFormatter(decimals=0))\n",
    "plt.savefig(config.path_plot_default.joinpath(\"library.pdf\"), bbox_inches='tight')\n",
    "plt.show()"
   ]
  },
  {
   "cell_type": "code",
   "execution_count": null,
   "id": "bd6dd29c",
   "metadata": {},
   "outputs": [],
   "source": []
  }
 ],
 "metadata": {
  "kernelspec": {
   "display_name": "Python 3 (ipykernel)",
   "language": "python",
   "name": "python3"
  },
  "language_info": {
   "codemirror_mode": {
    "name": "ipython",
    "version": 3
   },
   "file_extension": ".py",
   "mimetype": "text/x-python",
   "name": "python",
   "nbconvert_exporter": "python",
   "pygments_lexer": "ipython3",
   "version": "3.11.5"
  }
 },
 "nbformat": 4,
 "nbformat_minor": 5
}
