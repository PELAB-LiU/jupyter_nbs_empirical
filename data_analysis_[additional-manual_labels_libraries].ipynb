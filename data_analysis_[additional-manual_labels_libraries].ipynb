{
 "cells": [
  {
   "cell_type": "markdown",
   "id": "0d037800",
   "metadata": {},
   "source": [
    "# Connect crashes with libraries\n",
    "\n",
    "of the sampled crashes"
   ]
  },
  {
   "cell_type": "code",
   "execution_count": null,
   "id": "0c824705",
   "metadata": {},
   "outputs": [],
   "source": [
    "# import importlib\n",
    "# importlib.reload(config)\n",
    "# import utils.config as config"
   ]
  },
  {
   "cell_type": "code",
   "execution_count": null,
   "id": "3b30cecf",
   "metadata": {},
   "outputs": [],
   "source": [
    "# import pandas as pd\n",
    "# import utils.config as config\n",
    "# import numpy as np\n",
    "\n",
    "# # manually labeled\n",
    "# # original one\n",
    "# df_mlerr_labels_1 = pd.read_excel(config.path_default.joinpath('Manual_labeing/libraries/df_err_sampled4_labeled_dataset_construct.xlsx'),\n",
    "#                                 sheet_name = \"Del(repaired)-All\",\n",
    "#                                 keep_default_na=False)\n",
    "# # resamnpled\n",
    "# df_mlerr_labels_2 = pd.read_excel(config.path_default.joinpath('Manual_labeing/libraries/df_err_processed_pregroup_sampled4_resampled7.xlsx'),\n",
    "#                                 sheet_name = \"Del-All-exp\",\n",
    "#                                 keep_default_na=False)\n",
    "\n",
    "# def map_libs_cause(row):\n",
    "#     if row[\"Libs-cause\"]==\"\":\n",
    "#         tmp = df_mlerr_labels_1[(df_mlerr_labels_1[\"eid\"]==row[\"eid\"])]\n",
    "#         if len(tmp) > 0:\n",
    "#             return tmp.iloc[0]\n",
    "#     return row\n",
    "# df_mlerr_labels = df_mlerr_labels_2.apply(map_libs_cause, axis=1)\n",
    "# df_mlerr_labels[['fname', 'eid', 'ename', 'evalue', 'traceback', 'nb_source', 'Libs-cause',\n",
    "#                  'pregroup_cluster', 'cluster_id', 'label_if_ML_bug']].to_excel(config.path_default.joinpath(\"Manual_labeing/libraries/cluster_sampled_libraries.xlsx\"), index=False, engine='xlsxwriter')"
   ]
  },
  {
   "cell_type": "markdown",
   "id": "359a9063",
   "metadata": {
    "scrolled": true
   },
   "source": [
    "## Analysis"
   ]
  },
  {
   "cell_type": "code",
   "execution_count": 9,
   "id": "ee830924",
   "metadata": {},
   "outputs": [
    {
     "name": "stderr",
     "output_type": "stream",
     "text": [
      "C:\\Users\\yirwa29\\AppData\\Local\\anaconda3\\envs\\chatgpt\\Lib\\site-packages\\openpyxl\\worksheet\\_reader.py:329: UserWarning: Data Validation extension is not supported and will be removed\n",
      "  warn(msg)\n"
     ]
    }
   ],
   "source": [
    "import pandas as pd\n",
    "import utils.config as config\n",
    "import numpy as np\n",
    "\n",
    "df_mlerr_labels = pd.read_excel(config.path_default.joinpath('Manual_labeing/libraries/df_err_processed_pregroup_sampled4_resampled7.xlsx'),\n",
    "                                sheet_name = \"Del-All(resampled-libs_cause)\",\n",
    "                                keep_default_na=False)"
   ]
  },
  {
   "cell_type": "code",
   "execution_count": 18,
   "id": "a47ca225",
   "metadata": {},
   "outputs": [
    {
     "name": "stdout",
     "output_type": "stream",
     "text": [
      "0.4262734584450402\n"
     ]
    },
    {
     "data": {
      "text/plain": [
       "Libs-cause\n",
       "pandas        0.133733\n",
       "sklearn       0.095808\n",
       "torch         0.073852\n",
       "numpy         0.065868\n",
       "keras         0.061876\n",
       "tensorflow    0.051896\n",
       "matplotlib    0.033932\n",
       "seaborn       0.025948\n",
       "cv2           0.015968\n",
       "nltk          0.007984\n",
       "Name: count, dtype: float64"
      ]
     },
     "execution_count": 18,
     "metadata": {},
     "output_type": "execute_result"
    }
   ],
   "source": [
    "df_mlerr_labels_mllibs = df_mlerr_labels[(df_mlerr_labels[\"Libs-cause\"]!=\"None\")&(df_mlerr_labels[\"label_if_ML_bug\"].isin(config.label_if_ML_bug[\"ML bug\"]))]\n",
    "print(df_mlerr_labels_mllibs.shape[0]/df_mlerr_labels.shape[0])\n",
    "df_mlerr_labels_mllibs[\"Libs-cause\"].value_counts()[:10]/df_mlerr_labels[df_mlerr_labels[\"label_if_ML_bug\"].isin(config.label_if_ML_bug[\"ML bug\"])].shape[0]"
   ]
  },
  {
   "cell_type": "code",
   "execution_count": 23,
   "id": "6f50c629",
   "metadata": {},
   "outputs": [
    {
     "name": "stdout",
     "output_type": "stream",
     "text": [
      "0.4748427672955975\n"
     ]
    },
    {
     "data": {
      "text/plain": [
       "Libs-cause\n",
       "pandas        0.211921\n",
       "numpy         0.139073\n",
       "sklearn       0.132450\n",
       "torch         0.125828\n",
       "tensorflow    0.112583\n",
       "matplotlib    0.066225\n",
       "seaborn       0.046358\n",
       "keras         0.039735\n",
       "cv2           0.033113\n",
       "nltk          0.013245\n",
       "Name: count, dtype: float64"
      ]
     },
     "execution_count": 23,
     "metadata": {},
     "output_type": "execute_result"
    }
   ],
   "source": [
    "df_mlerr_labels_gh = df_mlerr_labels_mllibs[(df_mlerr_labels_mllibs[\"nb_source\"]==config.NB_SOURCE[\"github\"])]\n",
    "print(sum(df_mlerr_labels_gh[\"Libs-cause\"].value_counts())/df_mlerr_labels_mllibs.shape[0])\n",
    "df_mlerr_labels_gh[\"Libs-cause\"].value_counts()[:10]/df_mlerr_labels_gh.shape[0]"
   ]
  },
  {
   "cell_type": "code",
   "execution_count": 24,
   "id": "e1f19c9a",
   "metadata": {},
   "outputs": [
    {
     "name": "stdout",
     "output_type": "stream",
     "text": [
      "0.5251572327044025\n"
     ]
    },
    {
     "data": {
      "text/plain": [
       "Libs-cause\n",
       "pandas         0.209581\n",
       "sklearn        0.167665\n",
       "keras          0.149701\n",
       "torch          0.107784\n",
       "numpy          0.071856\n",
       "tensorflow     0.053892\n",
       "matplotlib     0.041916\n",
       "seaborn        0.035928\n",
       "cv2            0.017964\n",
       "statsmodels    0.017964\n",
       "Name: count, dtype: float64"
      ]
     },
     "execution_count": 24,
     "metadata": {},
     "output_type": "execute_result"
    }
   ],
   "source": [
    "df_mlerr_labels_k = df_mlerr_labels_mllibs[(df_mlerr_labels_mllibs[\"nb_source\"]==config.NB_SOURCE[\"kaggle\"])]\n",
    "print(sum(df_mlerr_labels_k[\"Libs-cause\"].value_counts())/df_mlerr_labels_mllibs.shape[0])\n",
    "df_mlerr_labels_k[\"Libs-cause\"].value_counts()[:10]/df_mlerr_labels_k.shape[0]"
   ]
  },
  {
   "cell_type": "code",
   "execution_count": null,
   "id": "f9d445cc",
   "metadata": {},
   "outputs": [],
   "source": []
  }
 ],
 "metadata": {
  "kernelspec": {
   "display_name": "Python 3 (ipykernel)",
   "language": "python",
   "name": "python3"
  },
  "language_info": {
   "codemirror_mode": {
    "name": "ipython",
    "version": 3
   },
   "file_extension": ".py",
   "mimetype": "text/x-python",
   "name": "python",
   "nbconvert_exporter": "python",
   "pygments_lexer": "ipython3",
   "version": "3.11.5"
  }
 },
 "nbformat": 4,
 "nbformat_minor": 5
}
