{
 "cells": [
  {
   "cell_type": "markdown",
   "id": "0d037800",
   "metadata": {},
   "source": [
    "# Connect crashes with libraries\n",
    "\n",
    "of the sampled crashes"
   ]
  },
  {
   "cell_type": "markdown",
   "id": "359a9063",
   "metadata": {
    "scrolled": true
   },
   "source": [
    "## Analysis"
   ]
  },
  {
   "cell_type": "code",
   "execution_count": 1,
   "id": "ee830924",
   "metadata": {},
   "outputs": [
    {
     "name": "stdout",
     "output_type": "stream",
     "text": [
      "path_default=WindowsPath('C:/Users/yirwa29/Downloads/data_jupyter_nbs_empirical')\n"
     ]
    },
    {
     "name": "stderr",
     "output_type": "stream",
     "text": [
      "C:\\Users\\yirwa29\\AppData\\Local\\anaconda3\\envs\\chatgpt\\Lib\\site-packages\\openpyxl\\worksheet\\_reader.py:329: UserWarning: Data Validation extension is not supported and will be removed\n",
      "  warn(msg)\n"
     ]
    }
   ],
   "source": [
    "import pandas as pd\n",
    "import utils.config as config\n",
    "import numpy as np\n",
    "\n",
    "df_mlerr_labels = pd.read_excel(config.path_default.joinpath('Manual_labeing/libraries/df_err_processed_pregroup_sampled4_resampled7.xlsx'),\n",
    "                                sheet_name = \"Del-All(resampled-libs_cause)\",\n",
    "                                keep_default_na=False)"
   ]
  },
  {
   "cell_type": "code",
   "execution_count": 2,
   "id": "a47ca225",
   "metadata": {},
   "outputs": [
    {
     "name": "stdout",
     "output_type": "stream",
     "text": [
      "The percentage of crashes caused by using ML libraries:  0.42761394101876676\n",
      "Top libraries that lead to crashes:\n"
     ]
    },
    {
     "data": {
      "text/html": [
       "<div>\n",
       "<style scoped>\n",
       "    .dataframe tbody tr th:only-of-type {\n",
       "        vertical-align: middle;\n",
       "    }\n",
       "\n",
       "    .dataframe tbody tr th {\n",
       "        vertical-align: top;\n",
       "    }\n",
       "\n",
       "    .dataframe thead th {\n",
       "        text-align: right;\n",
       "    }\n",
       "</style>\n",
       "<table border=\"1\" class=\"dataframe\">\n",
       "  <thead>\n",
       "    <tr style=\"text-align: right;\">\n",
       "      <th></th>\n",
       "      <th>count</th>\n",
       "    </tr>\n",
       "    <tr>\n",
       "      <th>Libs-cause</th>\n",
       "      <th></th>\n",
       "    </tr>\n",
       "  </thead>\n",
       "  <tbody>\n",
       "    <tr>\n",
       "      <th>pandas</th>\n",
       "      <td>0.210031</td>\n",
       "    </tr>\n",
       "    <tr>\n",
       "      <th>sklearn</th>\n",
       "      <td>0.156740</td>\n",
       "    </tr>\n",
       "    <tr>\n",
       "      <th>torch</th>\n",
       "      <td>0.115987</td>\n",
       "    </tr>\n",
       "    <tr>\n",
       "      <th>numpy</th>\n",
       "      <td>0.103448</td>\n",
       "    </tr>\n",
       "    <tr>\n",
       "      <th>keras</th>\n",
       "      <td>0.097179</td>\n",
       "    </tr>\n",
       "    <tr>\n",
       "      <th>tensorflow</th>\n",
       "      <td>0.084639</td>\n",
       "    </tr>\n",
       "    <tr>\n",
       "      <th>matplotlib</th>\n",
       "      <td>0.053292</td>\n",
       "    </tr>\n",
       "    <tr>\n",
       "      <th>seaborn</th>\n",
       "      <td>0.040752</td>\n",
       "    </tr>\n",
       "    <tr>\n",
       "      <th>cv2</th>\n",
       "      <td>0.018809</td>\n",
       "    </tr>\n",
       "    <tr>\n",
       "      <th>statsmodels</th>\n",
       "      <td>0.012539</td>\n",
       "    </tr>\n",
       "  </tbody>\n",
       "</table>\n",
       "</div>"
      ],
      "text/plain": [
       "                count\n",
       "Libs-cause           \n",
       "pandas       0.210031\n",
       "sklearn      0.156740\n",
       "torch        0.115987\n",
       "numpy        0.103448\n",
       "keras        0.097179\n",
       "tensorflow   0.084639\n",
       "matplotlib   0.053292\n",
       "seaborn      0.040752\n",
       "cv2          0.018809\n",
       "statsmodels  0.012539"
      ]
     },
     "execution_count": 2,
     "metadata": {},
     "output_type": "execute_result"
    }
   ],
   "source": [
    "df_mlerr_labels_mllibs = df_mlerr_labels[(df_mlerr_labels[\"Libs-cause\"]!=\"None\")&(df_mlerr_labels[\"label_if_ML_bug\"].isin(config.label_if_ML_bug[\"ML bug\"]))]\n",
    "print(\"The percentage of crashes caused by using ML libraries: \", df_mlerr_labels_mllibs.shape[0]/df_mlerr_labels.shape[0])\n",
    "print(\"Top libraries that lead to crashes:\")\n",
    "pd.DataFrame(df_mlerr_labels_mllibs[\"Libs-cause\"].value_counts()[:10]/df_mlerr_labels_mllibs.shape[0])"
   ]
  },
  {
   "cell_type": "code",
   "execution_count": 3,
   "id": "6f50c629",
   "metadata": {},
   "outputs": [
    {
     "name": "stdout",
     "output_type": "stream",
     "text": [
      "The percentage of GH crashes caused by using ML libraries:  0.38974358974358975\n",
      "Top libraries that lead to crashes for GH notebooks:\n"
     ]
    },
    {
     "data": {
      "text/html": [
       "<div>\n",
       "<style scoped>\n",
       "    .dataframe tbody tr th:only-of-type {\n",
       "        vertical-align: middle;\n",
       "    }\n",
       "\n",
       "    .dataframe tbody tr th {\n",
       "        vertical-align: top;\n",
       "    }\n",
       "\n",
       "    .dataframe thead th {\n",
       "        text-align: right;\n",
       "    }\n",
       "</style>\n",
       "<table border=\"1\" class=\"dataframe\">\n",
       "  <thead>\n",
       "    <tr style=\"text-align: right;\">\n",
       "      <th></th>\n",
       "      <th>count</th>\n",
       "    </tr>\n",
       "    <tr>\n",
       "      <th>Libs-cause</th>\n",
       "      <th></th>\n",
       "    </tr>\n",
       "  </thead>\n",
       "  <tbody>\n",
       "    <tr>\n",
       "      <th>pandas</th>\n",
       "      <td>0.210526</td>\n",
       "    </tr>\n",
       "    <tr>\n",
       "      <th>sklearn</th>\n",
       "      <td>0.138158</td>\n",
       "    </tr>\n",
       "    <tr>\n",
       "      <th>numpy</th>\n",
       "      <td>0.138158</td>\n",
       "    </tr>\n",
       "    <tr>\n",
       "      <th>torch</th>\n",
       "      <td>0.125000</td>\n",
       "    </tr>\n",
       "    <tr>\n",
       "      <th>tensorflow</th>\n",
       "      <td>0.118421</td>\n",
       "    </tr>\n",
       "    <tr>\n",
       "      <th>matplotlib</th>\n",
       "      <td>0.065789</td>\n",
       "    </tr>\n",
       "    <tr>\n",
       "      <th>seaborn</th>\n",
       "      <td>0.046053</td>\n",
       "    </tr>\n",
       "    <tr>\n",
       "      <th>keras</th>\n",
       "      <td>0.039474</td>\n",
       "    </tr>\n",
       "    <tr>\n",
       "      <th>cv2</th>\n",
       "      <td>0.026316</td>\n",
       "    </tr>\n",
       "    <tr>\n",
       "      <th>fbprophet</th>\n",
       "      <td>0.006579</td>\n",
       "    </tr>\n",
       "  </tbody>\n",
       "</table>\n",
       "</div>"
      ],
      "text/plain": [
       "               count\n",
       "Libs-cause          \n",
       "pandas      0.210526\n",
       "sklearn     0.138158\n",
       "numpy       0.138158\n",
       "torch       0.125000\n",
       "tensorflow  0.118421\n",
       "matplotlib  0.065789\n",
       "seaborn     0.046053\n",
       "keras       0.039474\n",
       "cv2         0.026316\n",
       "fbprophet   0.006579"
      ]
     },
     "execution_count": 3,
     "metadata": {},
     "output_type": "execute_result"
    }
   ],
   "source": [
    "df_mlerr_labels_gh = df_mlerr_labels[(df_mlerr_labels[\"nb_source\"]==config.NB_SOURCE[\"github\"])]\n",
    "df_mlerr_labels_mllibs_gh = df_mlerr_labels_mllibs[(df_mlerr_labels_mllibs[\"nb_source\"]==config.NB_SOURCE[\"github\"])]\n",
    "print(\"The percentage of GH crashes caused by using ML libraries: \", df_mlerr_labels_mllibs_gh.shape[0]/df_mlerr_labels_gh.shape[0])\n",
    "print(\"Top libraries that lead to crashes for GH notebooks:\")\n",
    "pd.DataFrame(df_mlerr_labels_mllibs_gh[\"Libs-cause\"].value_counts()[:10]/df_mlerr_labels_mllibs_gh.shape[0])"
   ]
  },
  {
   "cell_type": "code",
   "execution_count": 4,
   "id": "e1f19c9a",
   "metadata": {},
   "outputs": [
    {
     "name": "stdout",
     "output_type": "stream",
     "text": [
      "The percentage of Kaggle crashes caused by using ML libraries:  0.4691011235955056\n",
      "Top libraries that lead to crashes for Kaggle notebooks:\n"
     ]
    },
    {
     "data": {
      "text/html": [
       "<div>\n",
       "<style scoped>\n",
       "    .dataframe tbody tr th:only-of-type {\n",
       "        vertical-align: middle;\n",
       "    }\n",
       "\n",
       "    .dataframe tbody tr th {\n",
       "        vertical-align: top;\n",
       "    }\n",
       "\n",
       "    .dataframe thead th {\n",
       "        text-align: right;\n",
       "    }\n",
       "</style>\n",
       "<table border=\"1\" class=\"dataframe\">\n",
       "  <thead>\n",
       "    <tr style=\"text-align: right;\">\n",
       "      <th></th>\n",
       "      <th>count</th>\n",
       "    </tr>\n",
       "    <tr>\n",
       "      <th>Libs-cause</th>\n",
       "      <th></th>\n",
       "    </tr>\n",
       "  </thead>\n",
       "  <tbody>\n",
       "    <tr>\n",
       "      <th>pandas</th>\n",
       "      <td>0.209581</td>\n",
       "    </tr>\n",
       "    <tr>\n",
       "      <th>sklearn</th>\n",
       "      <td>0.173653</td>\n",
       "    </tr>\n",
       "    <tr>\n",
       "      <th>keras</th>\n",
       "      <td>0.149701</td>\n",
       "    </tr>\n",
       "    <tr>\n",
       "      <th>torch</th>\n",
       "      <td>0.107784</td>\n",
       "    </tr>\n",
       "    <tr>\n",
       "      <th>numpy</th>\n",
       "      <td>0.071856</td>\n",
       "    </tr>\n",
       "    <tr>\n",
       "      <th>tensorflow</th>\n",
       "      <td>0.053892</td>\n",
       "    </tr>\n",
       "    <tr>\n",
       "      <th>matplotlib</th>\n",
       "      <td>0.041916</td>\n",
       "    </tr>\n",
       "    <tr>\n",
       "      <th>seaborn</th>\n",
       "      <td>0.035928</td>\n",
       "    </tr>\n",
       "    <tr>\n",
       "      <th>statsmodels</th>\n",
       "      <td>0.017964</td>\n",
       "    </tr>\n",
       "    <tr>\n",
       "      <th>torchvision</th>\n",
       "      <td>0.017964</td>\n",
       "    </tr>\n",
       "  </tbody>\n",
       "</table>\n",
       "</div>"
      ],
      "text/plain": [
       "                count\n",
       "Libs-cause           \n",
       "pandas       0.209581\n",
       "sklearn      0.173653\n",
       "keras        0.149701\n",
       "torch        0.107784\n",
       "numpy        0.071856\n",
       "tensorflow   0.053892\n",
       "matplotlib   0.041916\n",
       "seaborn      0.035928\n",
       "statsmodels  0.017964\n",
       "torchvision  0.017964"
      ]
     },
     "execution_count": 4,
     "metadata": {},
     "output_type": "execute_result"
    }
   ],
   "source": [
    "df_mlerr_labels_k = df_mlerr_labels[(df_mlerr_labels[\"nb_source\"]==config.NB_SOURCE[\"kaggle\"])]\n",
    "df_mlerr_labels_mllibs_k = df_mlerr_labels_mllibs[(df_mlerr_labels_mllibs[\"nb_source\"]==config.NB_SOURCE[\"kaggle\"])]\n",
    "print(\"The percentage of Kaggle crashes caused by using ML libraries: \", df_mlerr_labels_mllibs_k.shape[0]/df_mlerr_labels_k.shape[0])\n",
    "print(\"Top libraries that lead to crashes for Kaggle notebooks:\")\n",
    "pd.DataFrame(df_mlerr_labels_mllibs_k[\"Libs-cause\"].value_counts()[:10]/df_mlerr_labels_mllibs_k.shape[0])"
   ]
  },
  {
   "cell_type": "code",
   "execution_count": 5,
   "id": "f9d445cc",
   "metadata": {},
   "outputs": [],
   "source": [
    "# Plot together with library usage frequency, ML API misuse, other root causes\n",
    "df_mllibs_frequency = pd.read_excel(config.path_default.joinpath('Kaggle/ml_library/nb_imports_popular_libs_manual_labeled.xlsx'),\n",
    "                                    sheet_name = \"Yiran\", keep_default_na=False)\n",
    "df_mllibs_frequency = df_mllibs_frequency[df_mllibs_frequency.imports.isin(config.top_lib_names)][[\"imports\",\"count\"]].reindex()\n",
    "df_mllibs_frequency[\"count\"] = df_mllibs_frequency[\"count\"].astype(int)\n",
    "df_mllibs_frequency[\"frequency\"] = df_mllibs_frequency[\"count\"]/sum(df_mllibs_frequency[\"count\"])"
   ]
  },
  {
   "cell_type": "code",
   "execution_count": 6,
   "id": "14c52b56",
   "metadata": {},
   "outputs": [],
   "source": [
    "df_mllibs_cause = pd.DataFrame(df_mlerr_labels_mllibs_gh[\"Libs-cause\"].value_counts())\n",
    "df_mllibs_cause = df_mllibs_cause[df_mllibs_cause.index.isin(config.top_lib_names)]"
   ]
  },
  {
   "cell_type": "code",
   "execution_count": 7,
   "id": "c525a05e",
   "metadata": {},
   "outputs": [],
   "source": [
    "df_mllibs_frequency = df_mllibs_frequency[df_mllibs_frequency.imports.isin(df_mllibs_cause.index)]\n",
    "df_mllibs_cause = df_mllibs_cause.reindex(df_mllibs_frequency.imports)\n",
    "df_mllibs_cause[\"Crash percentage\"] = df_mllibs_cause[\"count\"]/sum(df_mllibs_cause[\"count\"])\n",
    "df_mllibs_cause[\"Usage frequency\"] = df_mllibs_frequency[\"frequency\"].values"
   ]
  },
  {
   "cell_type": "code",
   "execution_count": 8,
   "id": "aee35755",
   "metadata": {},
   "outputs": [
    {
     "data": {
      "image/png": "[encoded data removed]",
      "text/plain": [
       "<Figure size 640x480 with 1 Axes>"
      ]
     },
     "metadata": {},
     "output_type": "display_data"
    }
   ],
   "source": [
    "import matplotlib.pyplot as plt\n",
    "\n",
    "ax = df_mllibs_cause.plot(y=[\"Crash percentage\", \"Usage frequency\"], kind=\"bar\", rot=45)\n",
    "ax.set_xlabel('')\n",
    "plt.show()"
   ]
  },
  {
   "cell_type": "code",
   "execution_count": null,
   "id": "31be69f3",
   "metadata": {},
   "outputs": [],
   "source": []
  }
 ],
 "metadata": {
  "kernelspec": {
   "display_name": "Python 3 (ipykernel)",
   "language": "python",
   "name": "python3"
  },
  "language_info": {
   "codemirror_mode": {
    "name": "ipython",
    "version": 3
   },
   "file_extension": ".py",
   "mimetype": "text/x-python",
   "name": "python",
   "nbconvert_exporter": "python",
   "pygments_lexer": "ipython3",
   "version": "3.11.5"
  }
 },
 "nbformat": 4,
 "nbformat_minor": 5
}
