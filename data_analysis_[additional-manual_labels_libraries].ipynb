{
 "cells": [
  {
   "cell_type": "markdown",
   "id": "0d037800",
   "metadata": {},
   "source": [
    "# Connect crashes with libraries\n",
    "\n",
    "of the sampled crashes"
   ]
  },
  {
   "cell_type": "code",
   "execution_count": null,
   "id": "0c824705",
   "metadata": {},
   "outputs": [],
   "source": [
    "# import importlib\n",
    "# importlib.reload(config)\n",
    "# import utils.config as config"
   ]
  },
  {
   "cell_type": "code",
   "execution_count": null,
   "id": "3b30cecf",
   "metadata": {},
   "outputs": [],
   "source": [
    "import pandas as pd\n",
    "import utils.config as config\n",
    "import numpy as np\n",
    "\n",
    "# manually labeled\n",
    "# original one\n",
    "df_mlerr_labels_1 = pd.read_excel(config.path_default.joinpath('Manual_labeing/libraries/df_err_sampled4_labeled_dataset_construct.xlsx'),\n",
    "                                sheet_name = \"Del(repaired)-All\",\n",
    "                                keep_default_na=False)\n",
    "# resamnpled\n",
    "df_mlerr_labels_2 = pd.read_excel(config.path_default.joinpath('Manual_labeing/libraries/df_err_processed_pregroup_sampled4_resampled7.xlsx'),\n",
    "                                sheet_name = \"Del-All-exp\",\n",
    "                                keep_default_na=False)\n",
    "\n",
    "def map_libs_cause(row):\n",
    "    if row[\"Libs-cause\"]==\"\":\n",
    "        tmp = df_mlerr_labels_1[(df_mlerr_labels_1[\"eid\"]==row[\"eid\"])]\n",
    "        if len(tmp) > 0:\n",
    "            return tmp.iloc[0]\n",
    "    return row\n",
    "df_mlerr_labels = df_mlerr_labels_2.apply(map_libs_cause, axis=1)\n",
    "df_mlerr_labels[['fname', 'eid', 'ename', 'evalue', 'traceback', 'nb_source', 'Libs-cause',\n",
    "                 'pregroup_cluster', 'cluster_id', 'label_if_ML_bug']].to_excel(config.path_default.joinpath(\"Manual_labeing/libraries/cluster_sampled_libraries.xlsx\"), index=False, engine='xlsxwriter')"
   ]
  },
  {
   "cell_type": "markdown",
   "id": "359a9063",
   "metadata": {
    "scrolled": true
   },
   "source": [
    "## Analysis"
   ]
  },
  {
   "cell_type": "code",
   "execution_count": 2,
   "id": "ee830924",
   "metadata": {},
   "outputs": [
    {
     "name": "stdout",
     "output_type": "stream",
     "text": [
      "path_default=WindowsPath('C:/Users/yirwa29/Downloads/data_jupyter_nbs_empirical')\n"
     ]
    }
   ],
   "source": [
    "import pandas as pd\n",
    "import utils.config as config\n",
    "import numpy as np\n",
    "\n",
    "df_mlerr_labels = pd.read_excel(config.path_default.joinpath(\"Manual_labeing/libraries/cluster_sampled_libraries.xlsx\"))"
   ]
  },
  {
   "cell_type": "code",
   "execution_count": 12,
   "id": "a47ca225",
   "metadata": {},
   "outputs": [
    {
     "name": "stdout",
     "output_type": "stream",
     "text": [
      "0.5750670241286864\n"
     ]
    },
    {
     "data": {
      "text/plain": [
       "Libs-cause\n",
       "pandas         0.116622\n",
       "sklearn        0.072386\n",
       "keras          0.058981\n",
       "torch          0.053619\n",
       "numpy          0.048257\n",
       "tensorflow     0.038874\n",
       "matplotlib     0.025469\n",
       "seaborn        0.017426\n",
       "cv2            0.010724\n",
       "statsmodels    0.008043\n",
       "Name: count, dtype: float64"
      ]
     },
     "execution_count": 12,
     "metadata": {},
     "output_type": "execute_result"
    }
   ],
   "source": [
    "print(sum(df_mlerr_labels[\"Libs-cause\"].value_counts())/df_mlerr_labels.shape[0])\n",
    "df_mlerr_labels[\"Libs-cause\"].value_counts()[:10]/df_mlerr_labels.shape[0]"
   ]
  },
  {
   "cell_type": "code",
   "execution_count": 14,
   "id": "6f50c629",
   "metadata": {},
   "outputs": [
    {
     "name": "stdout",
     "output_type": "stream",
     "text": [
      "0.5153846153846153\n"
     ]
    },
    {
     "data": {
      "text/plain": [
       "Libs-cause\n",
       "pandas        39\n",
       "numpy         24\n",
       "sklearn       22\n",
       "tensorflow    20\n",
       "torch         19\n",
       "matplotlib    10\n",
       "seaborn        7\n",
       "keras          7\n",
       "cv2            5\n",
       "PIL            2\n",
       "Name: count, dtype: int64"
      ]
     },
     "execution_count": 14,
     "metadata": {},
     "output_type": "execute_result"
    }
   ],
   "source": [
    "df_mlerr_labels_gh = df_mlerr_labels[(df_mlerr_labels[\"nb_source\"]==config.NB_SOURCE[\"github\"])]\n",
    "print(sum(df_mlerr_labels_gh[\"Libs-cause\"].value_counts())/df_mlerr_labels_gh.shape[0])\n",
    "df_mlerr_labels_gh[\"Libs-cause\"].value_counts()[:10]"
   ]
  },
  {
   "cell_type": "code",
   "execution_count": 15,
   "id": "e1f19c9a",
   "metadata": {},
   "outputs": [
    {
     "name": "stdout",
     "output_type": "stream",
     "text": [
      "0.6404494382022472\n"
     ]
    },
    {
     "data": {
      "text/plain": [
       "Libs-cause\n",
       "pandas        48\n",
       "keras         37\n",
       "sklearn       32\n",
       "torch         21\n",
       "numpy         12\n",
       "tensorflow     9\n",
       "matplotlib     9\n",
       "seaborn        6\n",
       "nltk           4\n",
       "xml            4\n",
       "Name: count, dtype: int64"
      ]
     },
     "execution_count": 15,
     "metadata": {},
     "output_type": "execute_result"
    }
   ],
   "source": [
    "df_mlerr_labels_k = df_mlerr_labels[(df_mlerr_labels[\"nb_source\"]==config.NB_SOURCE[\"kaggle\"])]\n",
    "print(sum(df_mlerr_labels_k[\"Libs-cause\"].value_counts())/df_mlerr_labels_k.shape[0])\n",
    "df_mlerr_labels_k[\"Libs-cause\"].value_counts()[:10]"
   ]
  },
  {
   "cell_type": "code",
   "execution_count": null,
   "id": "f9d445cc",
   "metadata": {},
   "outputs": [],
   "source": []
  }
 ],
 "metadata": {
  "kernelspec": {
   "display_name": "Python 3 (ipykernel)",
   "language": "python",
   "name": "python3"
  },
  "language_info": {
   "codemirror_mode": {
    "name": "ipython",
    "version": 3
   },
   "file_extension": ".py",
   "mimetype": "text/x-python",
   "name": "python",
   "nbconvert_exporter": "python",
   "pygments_lexer": "ipython3",
   "version": "3.11.5"
  }
 },
 "nbformat": 4,
 "nbformat_minor": 5
}
