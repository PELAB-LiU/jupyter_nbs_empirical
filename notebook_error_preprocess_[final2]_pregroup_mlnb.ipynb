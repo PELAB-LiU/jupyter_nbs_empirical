{
 "cells": [
  {
   "cell_type": "markdown",
   "id": "a976ac74",
   "metadata": {},
   "source": [
    "## Clustering by deduplication (similarity)"
   ]
  },
  {
   "cell_type": "markdown",
   "id": "4b94c86f",
   "metadata": {},
   "source": [
    "ML bugs\n",
    "\n",
    "Deduplicate (pregroup)"
   ]
  },
  {
   "cell_type": "code",
   "execution_count": 97,
   "id": "bbd7d691",
   "metadata": {
    "scrolled": true
   },
   "outputs": [],
   "source": [
    "# import cluster_util\n",
    "# import importlib\n",
    "# importlib.reload(cluster_util)\n",
    "# import cluster_util"
   ]
  },
  {
   "cell_type": "markdown",
   "id": "a58ec00d",
   "metadata": {},
   "source": [
    "## Pre-group error values based on similarity"
   ]
  },
  {
   "cell_type": "markdown",
   "id": "3c89ebe4",
   "metadata": {},
   "source": [
    "### Preprocess"
   ]
  },
  {
   "cell_type": "code",
   "execution_count": 1,
   "id": "26f34da2",
   "metadata": {},
   "outputs": [
    {
     "name": "stdout",
     "output_type": "stream",
     "text": [
      "path_default=WindowsPath('C:/Users/yirwa29/Downloads/Dataset-Nb')\n"
     ]
    }
   ],
   "source": [
    "import pandas as pd\n",
    "import config, util\n",
    "\n",
    "df_err_k = pd.read_excel(config.path_kaggle_error_process.joinpath('nberror_k_eid_p.xlsx'))\n",
    "df_err_g = pd.read_excel(config.path_github_error_process.joinpath('nberror_g_all_eid_p.xlsx'))"
   ]
  },
  {
   "cell_type": "code",
   "execution_count": 2,
   "id": "a440ab08",
   "metadata": {},
   "outputs": [],
   "source": [
    "df_err_k = df_err_k[df_err_k.is_MLnb&df_err_k.is_relevant&df_err_k.if_ast==1.0]\n",
    "df_err_g = df_err_g[df_err_g.is_MLnb&df_err_g.is_relevant&df_err_g.if_ast==1.0]\n",
    "df_err_k = df_err_k.drop_duplicates(subset=['eid'], keep='last')\n",
    "df_err_g = df_err_g.drop_duplicates(subset=['eid'], keep='last')"
   ]
  },
  {
   "cell_type": "code",
   "execution_count": 3,
   "id": "b22436ef",
   "metadata": {},
   "outputs": [
    {
     "data": {
      "text/plain": [
       "3875"
      ]
     },
     "execution_count": 3,
     "metadata": {},
     "output_type": "execute_result"
    }
   ],
   "source": [
    "# filter out non-mlbugs and bugs without error values\n",
    "df_err_k_filtered = df_err_k[~df_err_k.evalue.isnull()]\n",
    "len(df_err_k_filtered) "
   ]
  },
  {
   "cell_type": "code",
   "execution_count": 4,
   "id": "cc3b6d32",
   "metadata": {},
   "outputs": [
    {
     "data": {
      "text/plain": [
       "88667"
      ]
     },
     "execution_count": 4,
     "metadata": {},
     "output_type": "execute_result"
    }
   ],
   "source": [
    "df_err_g_filtered = df_err_g[~df_err_g.evalue.isnull()]\n",
    "len(df_err_g_filtered) "
   ]
  },
  {
   "cell_type": "code",
   "execution_count": 5,
   "id": "498a6c76",
   "metadata": {},
   "outputs": [
    {
     "name": "stderr",
     "output_type": "stream",
     "text": [
      "C:\\Users\\yirwa29\\AppData\\Local\\Temp\\ipykernel_12628\\1427359510.py:2: SettingWithCopyWarning: \n",
      "A value is trying to be set on a copy of a slice from a DataFrame.\n",
      "Try using .loc[row_indexer,col_indexer] = value instead\n",
      "\n",
      "See the caveats in the documentation: https://pandas.pydata.org/pandas-docs/stable/user_guide/indexing.html#returning-a-view-versus-a-copy\n",
      "  df_err_k_filtered.loc[:,\"nb_source\"] = config.NB_SOURCE[\"kaggle\"]\n",
      "C:\\Users\\yirwa29\\AppData\\Local\\Temp\\ipykernel_12628\\1427359510.py:3: SettingWithCopyWarning: \n",
      "A value is trying to be set on a copy of a slice from a DataFrame.\n",
      "Try using .loc[row_indexer,col_indexer] = value instead\n",
      "\n",
      "See the caveats in the documentation: https://pandas.pydata.org/pandas-docs/stable/user_guide/indexing.html#returning-a-view-versus-a-copy\n",
      "  df_err_g_filtered.loc[:,\"nb_source\"] = config.NB_SOURCE[\"github\"]\n"
     ]
    },
    {
     "data": {
      "text/plain": [
       "92542"
      ]
     },
     "execution_count": 5,
     "metadata": {},
     "output_type": "execute_result"
    }
   ],
   "source": [
    "# join the two datasets\n",
    "df_err_k_filtered.loc[:,\"nb_source\"] = config.NB_SOURCE[\"kaggle\"]\n",
    "df_err_g_filtered.loc[:,\"nb_source\"] = config.NB_SOURCE[\"github\"]\n",
    "df_err_filtered = pd.concat([df_err_g_filtered, df_err_k_filtered], ignore_index=True, sort=False)\n",
    "len(df_err_filtered) "
   ]
  },
  {
   "cell_type": "code",
   "execution_count": 6,
   "id": "61b24cf8",
   "metadata": {},
   "outputs": [
    {
     "name": "stderr",
     "output_type": "stream",
     "text": [
      "C:\\Users\\yirwa29\\AppData\\Local\\anaconda3\\envs\\chatgpt\\Lib\\site-packages\\tqdm\\auto.py:21: TqdmWarning: IProgress not found. Please update jupyter and ipywidgets. See https://ipywidgets.readthedocs.io/en/stable/user_install.html\n",
      "  from .autonotebook import tqdm as notebook_tqdm\n"
     ]
    }
   ],
   "source": [
    "import cluster_util\n",
    "\n",
    "# for jaccard similarity\n",
    "df_err_filtered[\"evalue_processed\"] = df_err_filtered.evalue.apply(cluster_util.preprocess_text_similarity)\n",
    "# for hashing match\n",
    "df_err_filtered[\"evalue_tokenized\"] = df_err_filtered.evalue.apply(cluster_util.preprocess_text)\n",
    "df_err_filtered[\"hash_evalue_tokenized\"] = df_err_filtered.evalue_tokenized.apply(cluster_util.generateHash)"
   ]
  },
  {
   "cell_type": "code",
   "execution_count": 7,
   "id": "94cf85eb",
   "metadata": {},
   "outputs": [
    {
     "data": {
      "text/plain": [
       "87908"
      ]
     },
     "execution_count": 7,
     "metadata": {},
     "output_type": "execute_result"
    }
   ],
   "source": [
    "df_err_processed = df_err_filtered[(~(df_err_filtered.evalue_processed==''))&(~(df_err_filtered.evalue_tokenized==''))&\n",
    "                                   (~df_err_filtered.evalue_processed.isnull())&(~df_err_filtered.evalue_tokenized.isnull())]\n",
    "# there is big drop\n",
    "# because of key errors. key errors tend to be only one word/the key(e.g., 'val_accuracy') in error values? \n",
    "# this will be excluded when pregrouping. preprocess_text_similarity() will delete words inside ''\n",
    "len(df_err_processed)"
   ]
  },
  {
   "cell_type": "code",
   "execution_count": 8,
   "id": "3576e447",
   "metadata": {},
   "outputs": [
    {
     "data": {
      "text/plain": [
       "ename\n",
       "keyerror          3912\n",
       "systemexit         349\n",
       "valueerror          52\n",
       "attributeerror      33\n",
       "assertionerror      30\n",
       "error               27\n",
       "typeerror           22\n",
       "tuneerror           17\n",
       "overflowerror       15\n",
       "exception           11\n",
       "Name: count, dtype: int64"
      ]
     },
     "execution_count": 8,
     "metadata": {},
     "output_type": "execute_result"
    }
   ],
   "source": [
    "(df_err_filtered[(df_err_filtered.evalue_processed=='')|(df_err_filtered.evalue_tokenized=='')|\n",
    "                 df_err_filtered.evalue_processed.isnull()|df_err_filtered.evalue_tokenized.isnull()].ename.value_counts())[:10]"
   ]
  },
  {
   "cell_type": "code",
   "execution_count": 9,
   "id": "d407b4dd",
   "metadata": {},
   "outputs": [],
   "source": [
    "df_err_processed.to_excel(config.path_default.joinpath(\"df_err_processed.xlsx\"), index=False, engine='xlsxwriter')"
   ]
  },
  {
   "cell_type": "markdown",
   "id": "c706d5a3",
   "metadata": {},
   "source": [
    "### Similarity - path search"
   ]
  },
  {
   "cell_type": "code",
   "execution_count": 1,
   "id": "ac348e80",
   "metadata": {},
   "outputs": [
    {
     "name": "stdout",
     "output_type": "stream",
     "text": [
      "path_default=WindowsPath('C:/Users/yirwa29/Downloads/Dataset-Nb')\n"
     ]
    },
    {
     "name": "stderr",
     "output_type": "stream",
     "text": [
      "C:\\Users\\yirwa29\\AppData\\Local\\anaconda3\\envs\\chatgpt\\Lib\\site-packages\\tqdm\\auto.py:21: TqdmWarning: IProgress not found. Please update jupyter and ipywidgets. See https://ipywidgets.readthedocs.io/en/stable/user_install.html\n",
      "  from .autonotebook import tqdm as notebook_tqdm\n"
     ]
    }
   ],
   "source": [
    "import pandas as pd\n",
    "import config, util, cluster_util\n",
    "import numpy as np\n",
    "\n",
    "df_err_processed = pd.read_excel(config.path_default.joinpath('df_err_processed.xlsx'))"
   ]
  },
  {
   "cell_type": "code",
   "execution_count": 10,
   "id": "8bc0109d",
   "metadata": {},
   "outputs": [
    {
     "name": "stdout",
     "output_type": "stream",
     "text": [
      "87908\n",
      "31574\n"
     ]
    }
   ],
   "source": [
    "# remove the complete deplicated ones first, otherwise it is too large to cluster/process (too much required memory)\n",
    "df_err_processed_unique = df_err_processed.drop_duplicates(subset=['hash_evalue_tokenized'], keep='last')\n",
    "print(df_err_processed.eid.nunique()) #87908\n",
    "print(df_err_processed_unique.eid.nunique()) #31574\n",
    "df_err_processed_unique.to_excel(config.path_default.joinpath(\"df_err_processed_unique.xlsx\"), index=False, engine='xlsxwriter')"
   ]
  },
  {
   "cell_type": "code",
   "execution_count": 13,
   "id": "6ee0101f",
   "metadata": {},
   "outputs": [],
   "source": [
    "from scipy.spatial import distance\n",
    "from itertools import combinations\n",
    "import numpy as np\n",
    "\n",
    "# word level similarity\n",
    "data_sets = [set(row[\"evalue_processed\"].split(\" \")) for _,row in df_err_processed_unique.iterrows()]\n",
    "\n",
    "# jaccard similarity\n",
    "jaccard_generator = (cluster_util.jaccard_similarity(t1, t2) for t1, t2 in combinations(data_sets, r=2))\n",
    "flattened_matrix = np.fromiter(jaccard_generator, dtype=np.float32)\n",
    "# expand flattened_matrix (upper triangle)\n",
    "sim_matrix = distance.squareform(flattened_matrix)\n",
    "# set ones at the diagonal\n",
    "sim_matrix += np.identity(len(df_err_processed_unique), dtype=np.float32)"
   ]
  },
  {
   "cell_type": "code",
   "execution_count": 15,
   "id": "f53c5039",
   "metadata": {},
   "outputs": [],
   "source": [
    "import numpy as np\n",
    "\n",
    "with open(config.path_default.joinpath(\"df_err_processed_unique_sim_matrix_hash_jaccard.txt\"), 'wb') as f:\n",
    "    np.save(f, sim_matrix)"
   ]
  },
  {
   "cell_type": "code",
   "execution_count": 20,
   "id": "e431c6c9",
   "metadata": {},
   "outputs": [
    {
     "name": "stderr",
     "output_type": "stream",
     "text": [
      "C:\\Users\\yirwa29\\AppData\\Local\\anaconda3\\envs\\chatgpt\\Lib\\site-packages\\tqdm\\auto.py:21: TqdmWarning: IProgress not found. Please update jupyter and ipywidgets. See https://ipywidgets.readthedocs.io/en/stable/user_install.html\n",
      "  from .autonotebook import tqdm as notebook_tqdm\n"
     ]
    },
    {
     "data": {
      "text/plain": [
       "1.0"
      ]
     },
     "execution_count": 20,
     "metadata": {},
     "output_type": "execute_result"
    }
   ],
   "source": [
    "cluster_util.jaccard_similarity(set(cluster_util.preprocess_text_similarity(\"name 'x' is not defined\").split()),\n",
    "                                set(cluster_util.preprocess_text_similarity(\"name 'head' is not defined\").split()))"
   ]
  },
  {
   "cell_type": "code",
   "execution_count": 21,
   "id": "e19e9858",
   "metadata": {},
   "outputs": [
    {
     "data": {
      "text/plain": [
       "1.0"
      ]
     },
     "execution_count": 21,
     "metadata": {},
     "output_type": "execute_result"
    }
   ],
   "source": [
    "cluster_util.jaccard_similarity(set(cluster_util.preprocess_text_similarity(\"'GridSearchCV' object has no attribute 'best_params_'\").split()),\n",
    "                                set(cluster_util.preprocess_text_similarity(\"'Series' object has no attribute 'add'\").split()))"
   ]
  },
  {
   "cell_type": "code",
   "execution_count": 18,
   "id": "9d0c8d6e",
   "metadata": {},
   "outputs": [],
   "source": [
    "# build connect matrix\n",
    "connect_threshold = 0.7\n",
    "connect_matrix_b = (sim_matrix >= connect_threshold) #.astype(int)\n",
    "with open(config.path_default.joinpath(\"df_err_processed_unique_connect_matrix_hash_jaccard.txt\"), 'wb') as f:\n",
    "    np.save(f, connect_matrix_b)"
   ]
  },
  {
   "cell_type": "code",
   "execution_count": 36,
   "id": "82e2699c",
   "metadata": {},
   "outputs": [],
   "source": [
    "# import pandas as pd\n",
    "# import config, util, cluster_util\n",
    "# import numpy as np\n",
    "\n",
    "# df_err_processed = pd.read_excel(config.path_default.joinpath('df_err_processed_unique.xlsx'))\n",
    "# f = open(config.path_default.joinpath('df_err_processed_unique_connect_matrix_hash_jaccard.txt'),\"rb\")\n",
    "# connect_matrix_b = np.load(f)"
   ]
  },
  {
   "cell_type": "code",
   "execution_count": 19,
   "id": "183382f1",
   "metadata": {},
   "outputs": [],
   "source": [
    "# build graph out of connect matrix, get connected subgroups=>clusters\n",
    "import networkx as nx\n",
    "\n",
    "G = nx.from_numpy_array(connect_matrix_b, edge_attr=None)\n",
    "subgraphs = nx.connected_components(G)\n",
    "res_pregroups = list(subgraphs)"
   ]
  },
  {
   "cell_type": "code",
   "execution_count": 20,
   "id": "9e8899fd",
   "metadata": {},
   "outputs": [
    {
     "name": "stderr",
     "output_type": "stream",
     "text": [
      "C:\\Users\\yirwa29\\AppData\\Local\\Temp\\ipykernel_12628\\3872291461.py:5: SettingWithCopyWarning: \n",
      "A value is trying to be set on a copy of a slice from a DataFrame.\n",
      "Try using .loc[row_indexer,col_indexer] = value instead\n",
      "\n",
      "See the caveats in the documentation: https://pandas.pydata.org/pandas-docs/stable/user_guide/indexing.html#returning-a-view-versus-a-copy\n",
      "  df_err_processed_unique[\"pregroup_cluster\"] = res_labels\n"
     ]
    }
   ],
   "source": [
    "res_labels = np.full(len(df_err_processed_unique),-1)\n",
    "for cluster_id in range(len(res_pregroups)):\n",
    "    for index in res_pregroups[cluster_id]:\n",
    "        res_labels[index]=cluster_id\n",
    "df_err_processed_unique[\"pregroup_cluster\"] = res_labels"
   ]
  },
  {
   "cell_type": "code",
   "execution_count": 23,
   "id": "a84b3318",
   "metadata": {},
   "outputs": [],
   "source": [
    "df_err_processed_unique.to_excel(config.path_default.joinpath(\"df_err_processed_unique_pregroup.xlsx\"), index=False, engine='xlsxwriter')"
   ]
  },
  {
   "cell_type": "code",
   "execution_count": 29,
   "id": "d867e8a3",
   "metadata": {},
   "outputs": [
    {
     "name": "stderr",
     "output_type": "stream",
     "text": [
      "C:\\Users\\yirwa29\\AppData\\Local\\Temp\\ipykernel_12628\\1161978327.py:10: SettingWithCopyWarning: \n",
      "A value is trying to be set on a copy of a slice from a DataFrame.\n",
      "Try using .loc[row_indexer,col_indexer] = value instead\n",
      "\n",
      "See the caveats in the documentation: https://pandas.pydata.org/pandas-docs/stable/user_guide/indexing.html#returning-a-view-versus-a-copy\n",
      "  df_err_full.loc[df_err_full.hash_evalue_tokenized==hv, key_label] = res_label\n"
     ]
    }
   ],
   "source": [
    "# this is to join back the hash repeated ones\n",
    "def assign_clusterres_to_wholedata(df_dedup_clustered, df_err_full, key_label):\n",
    "    for index,row in df_dedup_clustered.iterrows():\n",
    "        res_label = row[key_label]\n",
    "        hv_tmp = df_err_full.loc[df_err_full.eid==row.eid, \"hash_evalue_tokenized\"]\n",
    "        if len(hv_tmp)>1:\n",
    "            print(\"error: more than one hash value found. eid:\", row.eid)\n",
    "        elif len(hv_tmp)==1:\n",
    "            hv = hv_tmp.iloc[0]\n",
    "            df_err_full.loc[df_err_full.hash_evalue_tokenized==hv, key_label] = res_label\n",
    "assign_clusterres_to_wholedata(df_err_processed_unique, df_err_processed, key_label = \"pregroup_cluster\")"
   ]
  },
  {
   "cell_type": "code",
   "execution_count": 63,
   "id": "017d1532",
   "metadata": {},
   "outputs": [],
   "source": [
    "df_err_processed[\"pregroup_cluster\"] = df_err_processed.pregroup_cluster.astype(int)\n",
    "df_err_processed.to_excel(config.path_default.joinpath(\"df_err_processed_pregroup.xlsx\"), index=False, engine='xlsxwriter')"
   ]
  },
  {
   "cell_type": "markdown",
   "id": "99f84212",
   "metadata": {},
   "source": [
    "## Analyzing\n",
    "\n",
    "### overall"
   ]
  },
  {
   "cell_type": "code",
   "execution_count": 15,
   "id": "f9f40e48",
   "metadata": {},
   "outputs": [],
   "source": [
    "import pandas as pd\n",
    "import config\n",
    "\n",
    "df_err_grouped = pd.read_excel(config.path_default.joinpath('df_err_processed_pregroup.xlsx'))"
   ]
  },
  {
   "cell_type": "code",
   "execution_count": 80,
   "id": "3b7d18a9",
   "metadata": {},
   "outputs": [
    {
     "name": "stdout",
     "output_type": "stream",
     "text": [
      "7405\n"
     ]
    },
    {
     "data": {
      "text/plain": [
       "<Axes: xlabel='pregroup_cluster'>"
      ]
     },
     "execution_count": 80,
     "metadata": {},
     "output_type": "execute_result"
    },
    {
     "data": {
      "image/png": "[encoded data removed]",
      "text/plain": [
       "<Figure size 1000x400 with 1 Axes>"
      ]
     },
     "metadata": {},
     "output_type": "display_data"
    }
   ],
   "source": [
    "df_err_grouped_cluster_size = df_err_grouped.groupby(\"pregroup_cluster\").size().sort_values(ascending=False)\n",
    "print(len(df_err_grouped_cluster_size))\n",
    "df_err_grouped_cluster_size.iloc[:50].plot(kind=\"bar\", figsize=(10,4))"
   ]
  },
  {
   "cell_type": "code",
   "execution_count": 66,
   "id": "d23db468",
   "metadata": {
    "scrolled": true
   },
   "outputs": [
    {
     "name": "stdout",
     "output_type": "stream",
     "text": [
      "Top 0 cluster with size 25070. Exception types include:\n",
      "Example: name 'sc' is not defined\n",
      "ename\n",
      "nameerror                 25050\n",
      "undefinedvariableerror       19\n",
      "remoteerror                   1\n",
      "Name: count, dtype: int64 \n",
      "\n",
      "Top 1 cluster with size 6107. Exception types include:\n",
      "Example: 'numpy.ndarray' object has no attribute 'sample'\n",
      "ename\n",
      "attributeerror          6072\n",
      "moduleattributeerror      18\n",
      "typeerror                 13\n",
      "remoteerror                2\n",
      "runerror                   1\n",
      "unknownerror               1\n",
      "Name: count, dtype: int64 \n",
      "\n",
      "Top 2 cluster with size 5136. Exception types include:\n",
      "Example: No module named 'src.utils.compute_overlap'\n",
      "ename\n",
      "modulenotfounderror       4568\n",
      "importerror                567\n",
      "dependencynotinstalled       1\n",
      "Name: count, dtype: int64 \n",
      "\n",
      "Top 3 cluster with size 3410. Exception types include:\n",
      "Example: [Errno 2] No such file or directory: 'GloVe/glove.840B.300d.txt'\n",
      "ename\n",
      "filenotfounderror    3230\n",
      "ioerror                79\n",
      "oserror                28\n",
      "notfounderror          27\n",
      "drivererror            16\n",
      "rasterioioerror        10\n",
      "runtimeerror            5\n",
      "unknownerror            4\n",
      "exception               3\n",
      "fileformaterror         2\n",
      "urlerror                1\n",
      "averror                 1\n",
      "loadobjecterror         1\n",
      "valueerror              1\n",
      "error                   1\n",
      "filecreateerror         1\n",
      "Name: count, dtype: int64 \n",
      "\n",
      "Top 4 cluster with size 1497. Exception types include:\n",
      "Example: module 'pandas' has no attribute 'Series'\n",
      "ename\n",
      "attributeerror       1495\n",
      "importerror             1\n",
      "internalhasherror       1\n",
      "Name: count, dtype: int64 \n",
      "\n",
      "Top 5 cluster with size 1285. Exception types include:\n",
      "Example: list index out of range\n",
      "ename\n",
      "indexerror      1271\n",
      "valueerror         8\n",
      "runtimeerror       3\n",
      "parsererror        1\n",
      "badrequest         1\n",
      "error              1\n",
      "Name: count, dtype: int64 \n",
      "\n",
      "Top 6 cluster with size 897. Exception types include:\n",
      "Example: [Errno 2] File b'data/outputs/CNNscore/WSI_CERAD_AREA.csv' does not exist: b'data/outputs/CNNscore/WSI_CERAD_AREA.csv'\n",
      "ename\n",
      "filenotfounderror            778\n",
      "oserror                       37\n",
      "ioerror                       36\n",
      "programmingerror              14\n",
      "analysisexception             11\n",
      "assertionerror                 5\n",
      "valueerror                     5\n",
      "runtimeerror                   3\n",
      "undefinedtable                 3\n",
      "nameerror                      2\n",
      "filedoesnotexistexception      1\n",
      "algodhttperror                 1\n",
      "workspaceexception             1\n",
      "Name: count, dtype: int64 \n",
      "\n",
      "Top 7 cluster with size 895. Exception types include:\n",
      "Example: index 98 is out of bounds for axis 0 with size 91\n",
      "ename\n",
      "indexerror      885\n",
      "runtimeerror      8\n",
      "valueerror        2\n",
      "Name: count, dtype: int64 \n",
      "\n",
      "Top 8 cluster with size 813. Exception types include:\n",
      "Example: operands could not be broadcast together with shapes (170,208) (208,170) (170,208) \n",
      "ename\n",
      "valueerror    813\n",
      "Name: count, dtype: int64 \n",
      "\n",
      "Top 9 cluster with size 718. Exception types include:\n",
      "Example: unsupported operand type(s) for /: 'list' and 'int'\n",
      "ename\n",
      "typeerror    718\n",
      "Name: count, dtype: int64 \n",
      "\n",
      "Top 10 cluster with size 717. Exception types include:\n",
      "Example: 'DataFrame' object is not callable\n",
      "ename\n",
      "typeerror    717\n",
      "Name: count, dtype: int64 \n",
      "\n",
      "Top 11 cluster with size 717. Exception types include:\n",
      "Example: __init__() got an unexpected keyword argument 'nu'\n",
      "ename\n",
      "typeerror         714\n",
      "attributeerror      3\n",
      "Name: count, dtype: int64 \n",
      "\n",
      "Top 12 cluster with size 691. Exception types include:\n",
      "Example: open_clean_bands() missing 1 required positional argument\n",
      "ename\n",
      "typeerror    691\n",
      "Name: count, dtype: int64 \n",
      "\n",
      "Top 13 cluster with size 679. Exception types include:\n",
      "Example: could not convert string to float: 'CONFIRMED'\n",
      "ename\n",
      "valueerror    675\n",
      "typeerror       4\n",
      "Name: count, dtype: int64 \n",
      "\n",
      "Top 14 cluster with size 663. Exception types include:\n",
      "Example: cannot import name 'container_abcs' from 'torch._six' (/opt/conda/lib/python3.7/site-packages/torch/_six.py)\n",
      "ename\n",
      "importerror    663\n",
      "Name: count, dtype: int64 \n",
      "\n",
      "Top 15 cluster with size 572. Exception types include:\n",
      "Example: invalid syntax (<ipython-input-3-66eb5c44b7e0>, line 10)\n",
      "ename\n",
      "syntaxerror    572\n",
      "Name: count, dtype: int64 \n",
      "\n",
      "Top 16 cluster with size 521. Exception types include:\n",
      "Example: 'price_extractor' object is not subscriptable\n",
      "ename\n",
      "typeerror               518\n",
      "invalidargumenterror      3\n",
      "Name: count, dtype: int64 \n",
      "\n",
      "Top 17 cluster with size 412. Exception types include:\n",
      "Example: 'NoneType' object is not iterable\n",
      "ename\n",
      "typeerror    412\n",
      "Name: count, dtype: int64 \n",
      "\n",
      "Top 18 cluster with size 411. Exception types include:\n",
      "Example: \"['AREA' 'REG' 'DEV' 'Type' 'Coverage'] not found in axis\"\n",
      "ename\n",
      "keyerror    411\n",
      "Name: count, dtype: int64 \n",
      "\n",
      "Top 19 cluster with size 378. Exception types include:\n",
      "Example: cannot reshape array of size 16 into shape (2,9)\n",
      "ename\n",
      "valueerror    378\n",
      "Name: count, dtype: int64 \n",
      "\n",
      "Top 20 cluster with size 369. Exception types include:\n",
      "Example: write() argument must be str, not Series\n",
      "ename\n",
      "typeerror    369\n",
      "Name: count, dtype: int64 \n",
      "\n",
      "Top 21 cluster with size 360. Exception types include:\n",
      "Example: shapes (20,4096) and (3,4096) not aligned: 4096 (dim 1) != 3 (dim 0)\n",
      "ename\n",
      "valueerror    360\n",
      "Name: count, dtype: int64 \n",
      "\n",
      "Top 22 cluster with size 332. Exception types include:\n",
      "Example: float division by zero\n",
      "ename\n",
      "zerodivisionerror    332\n",
      "Name: count, dtype: int64 \n",
      "\n",
      "Top 23 cluster with size 316. Exception types include:\n",
      "Example: \"None of [Index(['Pclass_1', 'Pclass_2', 'Sex_female', 'Sib?', 'Par?', 'kmeans_-1.0',\\n       'kmeans_0.0', 'kmeans_1.0'],\\n      dtype='object')] are in the [columns]\"\n",
      "ename\n",
      "keyerror    316\n",
      "Name: count, dtype: int64 \n",
      "\n",
      "Top 24 cluster with size 311. Exception types include:\n",
      "Example: 'str' object does not support item assignment\n",
      "ename\n",
      "typeerror               310\n",
      "invalidargumenterror      1\n",
      "Name: count, dtype: int64 \n",
      "\n",
      "Top 25 cluster with size 306. Exception types include:\n",
      "Example: object of type 'NoneType' has no len()\n",
      "ename\n",
      "typeerror     305\n",
      "valueerror      1\n",
      "Name: count, dtype: int64 \n",
      "\n",
      "Top 26 cluster with size 302. Exception types include:\n",
      "Example: invalid literal for int() with base 10: 'INT'\n",
      "ename\n",
      "valueerror    302\n",
      "Name: count, dtype: int64 \n",
      "\n",
      "Top 27 cluster with size 291. Exception types include:\n",
      "Example: Input contains NaN, infinity or a value too large for dtype('float64').\n",
      "ename\n",
      "valueerror    291\n",
      "Name: count, dtype: int64 \n",
      "\n",
      "Top 28 cluster with size 282. Exception types include:\n",
      "Example: unhashable type: 'numpy.ndarray'\n",
      "ename\n",
      "typeerror    282\n",
      "Name: count, dtype: int64 \n",
      "\n",
      "Top 29 cluster with size 278. Exception types include:\n",
      "Example: too many values to unpack (expected 2)\n",
      "ename\n",
      "valueerror    278\n",
      "Name: count, dtype: int64 \n",
      "\n"
     ]
    }
   ],
   "source": [
    "# check some corelation with exception types\n",
    "for i in range(30):\n",
    "    cluster_id = df_err_grouped_cluster_size.index[i]\n",
    "    cluster_size = df_err_grouped_cluster_size.iloc[i]\n",
    "    print(\"Top {} cluster with size {}. Exception types include:\".format(i,cluster_size))\n",
    "    print(\"Example:\",df_err_grouped[df_err_grouped.pregroup_cluster==cluster_id].evalue.iloc[0])\n",
    "    print((df_err_grouped[df_err_grouped.pregroup_cluster==cluster_id].ename).value_counts(), \"\\n\")"
   ]
  },
  {
   "cell_type": "markdown",
   "id": "4f48ce6f",
   "metadata": {},
   "source": [
    "### separate to analyze github and kaggle and select top clusters"
   ]
  },
  {
   "cell_type": "code",
   "execution_count": 67,
   "id": "a2730a2b",
   "metadata": {},
   "outputs": [
    {
     "name": "stdout",
     "output_type": "stream",
     "text": [
      "640\n"
     ]
    },
    {
     "data": {
      "text/plain": [
       "<Axes: xlabel='pregroup_cluster'>"
      ]
     },
     "execution_count": 67,
     "metadata": {},
     "output_type": "execute_result"
    },
    {
     "data": {
      "image/png": "[encoded data removed]",
      "text/plain": [
       "<Figure size 1000x400 with 1 Axes>"
      ]
     },
     "metadata": {},
     "output_type": "display_data"
    }
   ],
   "source": [
    "# kaggle\n",
    "df_err_grouped_k = df_err_grouped[df_err_grouped[\"nb_source\"]==config.NB_SOURCE[\"kaggle\"]].reset_index(drop=True)\n",
    "df_err_grouped_cluster_size_k = df_err_grouped_k.groupby(\"pregroup_cluster\").size().sort_values(ascending=False)\n",
    "print(len(df_err_grouped_cluster_size_k))\n",
    "df_err_grouped_cluster_size_k.iloc[:50].plot(kind=\"bar\", figsize=(10,4))"
   ]
  },
  {
   "cell_type": "code",
   "execution_count": 68,
   "id": "651a991e",
   "metadata": {},
   "outputs": [
    {
     "name": "stdout",
     "output_type": "stream",
     "text": [
      "The knee point is at number: 113\n"
     ]
    },
    {
     "data": {
      "image/png": "[encoded data removed]",
      "text/plain": [
       "<Figure size 1000x400 with 1 Axes>"
      ]
     },
     "metadata": {},
     "output_type": "display_data"
    }
   ],
   "source": [
    "cumsum_percentage_k = df_err_grouped_cluster_size_k.cumsum()/df_err_grouped_k.eid.nunique()\n",
    "cluster_util.elbow_finder(cumsum_percentage_k, title = \"Knee point - Kaggle\")"
   ]
  },
  {
   "cell_type": "code",
   "execution_count": 69,
   "id": "7ff179c6",
   "metadata": {},
   "outputs": [
    {
     "name": "stdout",
     "output_type": "stream",
     "text": [
      "113\n",
      "0.7959072305593452\n"
     ]
    }
   ],
   "source": [
    "# print(cumsum_percentage_k.searchsorted(0.8)) # num of clusters needed for cover certain percent of errors\n",
    "\n",
    "cutoff_cluster_size_k = 5\n",
    "print(sum(df_err_grouped_cluster_size_k>=cutoff_cluster_size_k)) # num of clusters needed for cluster size over ceratin number\n",
    "print(sum(df_err_grouped_cluster_size_k[df_err_grouped_cluster_size_k>=cutoff_cluster_size_k])/df_err_grouped_k.eid.nunique()) # percentage"
   ]
  },
  {
   "cell_type": "code",
   "execution_count": 70,
   "id": "ffcea0fe",
   "metadata": {},
   "outputs": [
    {
     "name": "stdout",
     "output_type": "stream",
     "text": [
      "7193\n"
     ]
    },
    {
     "data": {
      "text/plain": [
       "<Axes: xlabel='pregroup_cluster'>"
      ]
     },
     "execution_count": 70,
     "metadata": {},
     "output_type": "execute_result"
    },
    {
     "data": {
      "image/png": "[encoded data removed]",
      "text/plain": [
       "<Figure size 1000x400 with 1 Axes>"
      ]
     },
     "metadata": {},
     "output_type": "display_data"
    }
   ],
   "source": [
    "# github\n",
    "df_err_grouped_g = df_err_grouped[df_err_grouped[\"nb_source\"]==config.NB_SOURCE[\"github\"]].reset_index(drop=True)\n",
    "df_err_grouped_cluster_size_g = df_err_grouped_g.groupby(\"pregroup_cluster\").size().sort_values(ascending=False)\n",
    "print(len(df_err_grouped_cluster_size_g))\n",
    "df_err_grouped_cluster_size_g.iloc[:50].plot(kind=\"bar\", figsize=(10,4))"
   ]
  },
  {
   "cell_type": "code",
   "execution_count": 71,
   "id": "a0dc7445",
   "metadata": {},
   "outputs": [
    {
     "name": "stdout",
     "output_type": "stream",
     "text": [
      "The knee point is at number: 634\n"
     ]
    },
    {
     "data": {
      "image/png": "[encoded data removed]",
      "text/plain": [
       "<Figure size 1000x400 with 1 Axes>"
      ]
     },
     "metadata": {},
     "output_type": "display_data"
    }
   ],
   "source": [
    "cumsum_percentage_g = df_err_grouped_cluster_size_g.cumsum()/df_err_grouped_g.eid.nunique()\n",
    "cluster_util.elbow_finder(cumsum_percentage_g, title = \"Knee point - GitHub\")"
   ]
  },
  {
   "cell_type": "code",
   "execution_count": 72,
   "id": "29f2c807",
   "metadata": {},
   "outputs": [
    {
     "name": "stdout",
     "output_type": "stream",
     "text": [
      "634\n",
      "0.8635732345714184\n"
     ]
    }
   ],
   "source": [
    "# print(cumsum_percentage_g.searchsorted(0.85)) # num of clusters needed for cover certain percent of errors\n",
    "cutoff_cluster_size_g = 9\n",
    "print(sum(df_err_grouped_cluster_size_g>=cutoff_cluster_size_g)) # num of clusters needed for cluster size over ceratin number\n",
    "print(sum(df_err_grouped_cluster_size_g[df_err_grouped_cluster_size_g>=cutoff_cluster_size_g])/df_err_grouped_g.eid.nunique()) # percentage"
   ]
  },
  {
   "cell_type": "code",
   "execution_count": 73,
   "id": "9cc37240",
   "metadata": {},
   "outputs": [],
   "source": [
    "# take union\n",
    "selected_clusters = df_err_grouped_cluster_size_g[df_err_grouped_cluster_size_g>=cutoff_cluster_size_g].index.union(\n",
    "    df_err_grouped_cluster_size_k[df_err_grouped_cluster_size_k>=cutoff_cluster_size_k].index)\n",
    "df_err_grouped_selected = df_err_grouped[df_err_grouped.pregroup_cluster.isin(selected_clusters)]"
   ]
  },
  {
   "cell_type": "code",
   "execution_count": 81,
   "id": "8f59666f",
   "metadata": {},
   "outputs": [
    {
     "data": {
      "text/plain": [
       "652"
      ]
     },
     "execution_count": 81,
     "metadata": {},
     "output_type": "execute_result"
    }
   ],
   "source": [
    "(selected_clusters_sorted.size)"
   ]
  },
  {
   "cell_type": "code",
   "execution_count": 75,
   "id": "0288edd9",
   "metadata": {},
   "outputs": [
    {
     "data": {
      "text/plain": [
       "0.8644491968876553"
      ]
     },
     "execution_count": 75,
     "metadata": {},
     "output_type": "execute_result"
    }
   ],
   "source": [
    "# arrange based on selected clusters, sort\n",
    "selected_clusters_sorted = df_err_grouped_selected.groupby('pregroup_cluster').size().sort_values(ascending=False)\n",
    "sum(selected_clusters_sorted)/df_err_grouped.eid.nunique()"
   ]
  },
  {
   "cell_type": "code",
   "execution_count": 76,
   "id": "9f72276e",
   "metadata": {},
   "outputs": [],
   "source": [
    "# select max(30,cluster_size) samples per cluster for manual analysis\n",
    "\n",
    "df_err_grouped_selected = None\n",
    "for sc_id, cluster_size in selected_clusters_sorted.items():\n",
    "    sample_size = min(30, cluster_size)\n",
    "    tmp = df_err_grouped[df_err_grouped.pregroup_cluster == sc_id].sample(n=sample_size, random_state=1)\n",
    "    if df_err_grouped_selected is None:\n",
    "        df_err_grouped_selected = tmp\n",
    "    else:\n",
    "        df_err_grouped_selected = pd.concat([df_err_grouped_selected, tmp], ignore_index=True)"
   ]
  },
  {
   "cell_type": "code",
   "execution_count": 77,
   "id": "55bc7ca0",
   "metadata": {},
   "outputs": [
    {
     "name": "stdout",
     "output_type": "stream",
     "text": [
      "13527\n",
      "13527\n"
     ]
    }
   ],
   "source": [
    "print(df_err_grouped_selected.eid.nunique())\n",
    "print(sum(selected_clusters_sorted>=30)*30 + sum(selected_clusters_sorted[selected_clusters_sorted<30])) # should be"
   ]
  },
  {
   "cell_type": "code",
   "execution_count": 78,
   "id": "691258c5",
   "metadata": {},
   "outputs": [],
   "source": [
    "df_err_grouped_selected.to_excel(config.path_default.joinpath(\"df_err_processed_pregroup_selected.xlsx\"), index=False, engine='xlsxwriter')"
   ]
  },
  {
   "cell_type": "code",
   "execution_count": 79,
   "id": "124aa46d",
   "metadata": {},
   "outputs": [
    {
     "data": {
      "text/plain": [
       "7405"
      ]
     },
     "execution_count": 79,
     "metadata": {},
     "output_type": "execute_result"
    }
   ],
   "source": [
    "# dedup version - 7405\n",
    "df_err_grouped_unique = df_err_grouped.drop_duplicates(subset=['pregroup_cluster'], keep='last')\n",
    "df_err_grouped_unique.to_excel(config.path_default.joinpath(\"df_err_processed_pregroup_dedup.xlsx\"), index=False, engine='xlsxwriter')\n",
    "df_err_grouped_unique.eid.nunique()"
   ]
  },
  {
   "cell_type": "code",
   "execution_count": null,
   "id": "189a4ce0",
   "metadata": {},
   "outputs": [],
   "source": []
  }
 ],
 "metadata": {
  "kernelspec": {
   "display_name": "Python 3 (ipykernel)",
   "language": "python",
   "name": "python3"
  },
  "language_info": {
   "codemirror_mode": {
    "name": "ipython",
    "version": 3
   },
   "file_extension": ".py",
   "mimetype": "text/x-python",
   "name": "python",
   "nbconvert_exporter": "python",
   "pygments_lexer": "ipython3",
   "version": "3.11.5"
  }
 },
 "nbformat": 4,
 "nbformat_minor": 5
}
