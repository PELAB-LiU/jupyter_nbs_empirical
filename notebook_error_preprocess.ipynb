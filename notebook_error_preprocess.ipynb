{
 "cells": [
  {
   "cell_type": "markdown",
   "id": "1f60e92b",
   "metadata": {},
   "source": [
    "## 1. Process nb errors in Kaggle"
   ]
  },
  {
   "cell_type": "code",
   "execution_count": 3,
   "id": "33a52057",
   "metadata": {},
   "outputs": [],
   "source": [
    "import pandas as pd\n",
    "import util\n",
    "import config\n",
    "\n",
    "path_err = config.path_kaggle_error_process + '/nberror_k.xlsx'"
   ]
  },
  {
   "cell_type": "code",
   "execution_count": null,
   "id": "08327edf",
   "metadata": {},
   "outputs": [],
   "source": [
    "# Process the traceback column to readable texts"
   ]
  },
  {
   "cell_type": "code",
   "execution_count": 11,
   "id": "5041c2bf",
   "metadata": {},
   "outputs": [],
   "source": [
    "df_err = pd.read_excel(path_err)\n",
    "\n",
    "df_err['traceback'] = df_err['traceback'].map(util.parse_traceback)\n",
    "df_err.to_excel(config.path_kaggle_error_process+'/nberror_k_p.xlsx', index=False, engine='xlsxwriter')"
   ]
  },
  {
   "cell_type": "code",
   "execution_count": null,
   "id": "9bf9b086",
   "metadata": {},
   "outputs": [],
   "source": [
    "### Extract meaningful and short evalues from traceback for those with ignored evalues"
   ]
  },
  {
   "cell_type": "code",
   "execution_count": 3,
   "id": "3b6fc5db",
   "metadata": {},
   "outputs": [
    {
     "data": {
      "text/plain": [
       "fname        175\n",
       "ename        175\n",
       "evalue       175\n",
       "traceback    175\n",
       "dtype: int64"
      ]
     },
     "execution_count": 3,
     "metadata": {},
     "output_type": "execute_result"
    }
   ],
   "source": [
    "df_err = pd.read_excel(config.path_kaggle_error_process+'/nberror_k_p.xlsx')\n",
    "df_err_ignored = df_err[df_err['evalue']=='ignored']\n",
    "df_err_ignored.count()"
   ]
  },
  {
   "cell_type": "code",
   "execution_count": 4,
   "id": "886fa40f",
   "metadata": {},
   "outputs": [
    {
     "name": "stdout",
     "output_type": "stream",
     "text": [
      "exception when listing traceback\n",
      "exception when listing traceback\n"
     ]
    },
    {
     "data": {
      "text/plain": [
       "fname        39\n",
       "ename        39\n",
       "evalue       39\n",
       "traceback    39\n",
       "dtype: int64"
      ]
     },
     "execution_count": 4,
     "metadata": {},
     "output_type": "execute_result"
    }
   ],
   "source": [
    "for index, row in df_err_ignored.iterrows():\n",
    "    res = util.get_evalue_ignored_from_traceback(row)\n",
    "    if res:\n",
    "        df_err.loc[index, \"evalue\"] = res\n",
    "df_err[df_err['evalue']=='ignored'].count()"
   ]
  },
  {
   "cell_type": "code",
   "execution_count": 5,
   "id": "d2e93ce2",
   "metadata": {},
   "outputs": [],
   "source": [
    "df_err.to_excel(config.path_kaggle_error_process+'/nberror_k_p2.xlsx', index=False, engine='xlsxwriter')"
   ]
  },
  {
   "cell_type": "code",
   "execution_count": null,
   "id": "cc961036",
   "metadata": {},
   "outputs": [],
   "source": [
    "### Simply parse libraries from crash line from traceback"
   ]
  },
  {
   "cell_type": "code",
   "execution_count": 4,
   "id": "d31d9ce8",
   "metadata": {},
   "outputs": [],
   "source": [
    "df_err = pd.read_excel(config.path_kaggle_error_process+'/nberror_k_p2.xlsx')"
   ]
  },
  {
   "cell_type": "code",
   "execution_count": 5,
   "id": "c1e2a333",
   "metadata": {},
   "outputs": [
    {
     "name": "stdout",
     "output_type": "stream",
     "text": [
      "Extract 0.52% libraries from crash traceback values\n"
     ]
    }
   ],
   "source": [
    "df_err['lib'] = df_err['traceback'].apply(util.extract_lib)\n",
    "print(\"Extract {0:2.2f}% libraries from crash traceback values\".format(\n",
    "    (len(df_err)-len(df_err[df_err['lib'].isnull()]))/len(df_err)))\n",
    "df_err.to_excel(config.path_kaggle_error_process+'/nberror_k_p3.xlsx', index=False, engine='xlsxwriter')"
   ]
  },
  {
   "cell_type": "code",
   "execution_count": null,
   "id": "19c22009",
   "metadata": {},
   "outputs": [],
   "source": [
    "# again\n",
    "\n",
    "import pandas as pd\n",
    "import pickle\n",
    "import util\n",
    "\n",
    "path_err_nbs = r\"C:\\Users\\yirwa29\\Downloads\\Dataset-Nb\\nbdata_k_error\"\n",
    "df_err = pd.read_excel(path_err_nbs + '/nberror_k_p3.xlsx')\n",
    "df_imports = pd.read_excel(path_err_nbs + '/imports_all_info.xlsx')\n",
    "\n",
    "df_err[\"lib2\"] = df_err.apply(util.extract_lib_2, lib_names=config.top_lib_names, df_imports=df_imports, lib_classes_dict=lib_classes_dict, axis=1)\n",
    "\n",
    "1-len(df_err[df_err.lib.isnull()&df_err.lib2.isnull()])/len(df_err)"
   ]
  },
  {
   "cell_type": "code",
   "execution_count": null,
   "id": "e2192255",
   "metadata": {},
   "outputs": [],
   "source": [
    "df_err[\"lib_parsed\"] = df_err[\"lib2\"].fillna(df_err[\"lib\"]).map(util.simple_lib_parser)\n",
    "df_err.to_excel(path_err_nbs+\"/nberror_k_all_p3_lib_parsed.xlsx\", index=False, engine='xlsxwriter')"
   ]
  },
  {
   "cell_type": "markdown",
   "id": "32e802be",
   "metadata": {},
   "source": [
    "## 2. Process nb errors in Github"
   ]
  },
  {
   "cell_type": "markdown",
   "id": "c9f1f785",
   "metadata": {},
   "source": [
    "### 3.1 Process the traceback column to readable texts"
   ]
  },
  {
   "cell_type": "code",
   "execution_count": 10,
   "id": "1a4b4583",
   "metadata": {},
   "outputs": [],
   "source": [
    "import pandas as pd\n",
    "import util\n",
    "import config\n",
    "\n",
    "df2_err = pd.read_excel(config.path_github_error_process + '/nberror_g_all.xlsx')\n",
    "\n",
    "df2_err['traceback'] = df2_err['traceback'].map(util.parse_traceback)\n",
    "df2_err.to_excel(config.path_github_error_process + '/nberror_g_all_p.xlsx', index=False, engine='xlsxwriter')"
   ]
  },
  {
   "cell_type": "markdown",
   "id": "f6c402f5",
   "metadata": {},
   "source": [
    "### 3.2 Extract meaningful and short evalues from traceback for those with ignored evalues\n",
    "\n",
    "Example:\n",
    "\n",
    "    fname                             00000-1828-homework1-1.ipynb\n",
    "    ename                                                NameError\n",
    "    evalue                                                 ignored\n",
    "    traceback    ['---------------------------------------------------------------------------', 'NameError                                 Traceback (most recent call last)', '<ipython-input-8-287bf352fb78> in <module>()\\n      3 c1= nd.norm(nd.dot(A, B))\\n      4 c= mx.ndarray.power(c1,2)\\n----> 5 tic= time.time()\\n      6 print(time.time() - tic)\\n      7 \\n', \"NameError: name 'time' is not defined\"]\n"
   ]
  },
  {
   "cell_type": "code",
   "execution_count": 12,
   "id": "32e1e68c",
   "metadata": {},
   "outputs": [
    {
     "data": {
      "text/plain": [
       "fname        17478\n",
       "ename        17466\n",
       "evalue       17478\n",
       "traceback    17478\n",
       "dtype: int64"
      ]
     },
     "execution_count": 12,
     "metadata": {},
     "output_type": "execute_result"
    }
   ],
   "source": [
    "import pandas as pd\n",
    "import util\n",
    "import config\n",
    "\n",
    "df2_err = pd.read_excel(config.path_github_error_process + '/nberror_g_all_p.xlsx')\n",
    "df2_err_ignored = df2_err[df2_err['evalue']=='ignored']\n",
    "df2_err_ignored.count()"
   ]
  },
  {
   "cell_type": "code",
   "execution_count": 92,
   "id": "ae8626b7",
   "metadata": {},
   "outputs": [],
   "source": [
    "for index, row in df2_err_ignored.iterrows():\n",
    "    res = util.get_evalue_ignored_from_traceback(row)\n",
    "    if res:\n",
    "        df2_err.loc[index, \"evalue\"] = res"
   ]
  },
  {
   "cell_type": "code",
   "execution_count": 93,
   "id": "f9703a97",
   "metadata": {},
   "outputs": [
    {
     "data": {
      "text/plain": [
       "fname        4678\n",
       "ename        4666\n",
       "evalue       4678\n",
       "traceback    4678\n",
       "dtype: int64"
      ]
     },
     "execution_count": 93,
     "metadata": {},
     "output_type": "execute_result"
    }
   ],
   "source": [
    "df2_err[df2_err['evalue']=='ignored'].count() # managed to filled 12800/17478 ignored evalues"
   ]
  },
  {
   "cell_type": "code",
   "execution_count": 96,
   "id": "4ce7304a",
   "metadata": {},
   "outputs": [],
   "source": [
    "df2_err.to_excel(config.path_github_error_process + '/nberror_g_all_p2.xlsx', index=False, engine='xlsxwriter')"
   ]
  },
  {
   "cell_type": "markdown",
   "id": "a976ac74",
   "metadata": {},
   "source": [
    "### 3.4 Parse libraries from traceback"
   ]
  },
  {
   "cell_type": "code",
   "execution_count": 1,
   "id": "a7d9d206",
   "metadata": {},
   "outputs": [],
   "source": [
    "import pandas as pd\n",
    "import util\n",
    "import config\n",
    "\n",
    "path = config.path_github_error_process + '/nberror_g_all_p2.xlsx'\n",
    "df2_err = pd.read_excel(path)"
   ]
  },
  {
   "cell_type": "code",
   "execution_count": 5,
   "id": "9097e925",
   "metadata": {},
   "outputs": [],
   "source": [
    "df2_err['lib'] = df2_err['traceback'].apply(util.extract_lib)"
   ]
  },
  {
   "cell_type": "code",
   "execution_count": 23,
   "id": "ba84bdc4",
   "metadata": {},
   "outputs": [
    {
     "name": "stdout",
     "output_type": "stream",
     "text": [
      "Extract 0.35% libraries from crash traceback values\n"
     ]
    }
   ],
   "source": [
    "print(\"Extract {0:2.2f}% libraries from crash traceback values\".format(\n",
    "    (len(df2_err)-len(df2_err[df2_err['lib'].isnull()]))/len(df2_err)))"
   ]
  },
  {
   "cell_type": "markdown",
   "id": "4b94c86f",
   "metadata": {},
   "source": [
    "#### rules for extracting related libs from error information:\n",
    "\n",
    "~~(not included) 1. Uninteresting error types even without knowing if any libraries are involved:\n",
    "        NameError?, FileNotFoundError, OSError, KeyboardInterrupt?, ModuleNotFoundError?, AssertionError?~~\n",
    "        \n",
    "    2. compile a list of popular libraries used in data science and ML\n",
    "        1. if library name is in error value. e.g., \n",
    "            TypeError: 'numpy.float64' object is not callable\n",
    "            AttributeError: module 'torchvision.transforms.v2' has no attribute 'CutMix'\n",
    "        2. for pattern \"----> line_number xx.yy\", check if xx is alias of an import library\n",
    "        ??? 3. similarly, for yy, can check if the property name is from a library. Do not know how.\n",
    "        4. for some type errors and attribute errors, where to check the object name is from which library.\n",
    "            AttributeError: 'Sequential' object has no attribute 'predict_classes'\n",
    "            TypeError: 'AxesSubplot' object is not subscriptable\n",
    "        ??? 5. for ValueError, certain keywords in error values indicates library names\n",
    "            broadcast, array, shape -> numpy\n",
    "            "
   ]
  },
  {
   "cell_type": "code",
   "execution_count": null,
   "id": "78f39fc4",
   "metadata": {},
   "outputs": [],
   "source": [
    "# lib2 parsing config\n",
    "import pickle\n",
    "import config\n",
    "\n",
    "#config.top_lib_names\n",
    "with open('lib_classes.pickle', 'rb') as f:\n",
    "    lib_classes_dict = pickle.load(f)"
   ]
  },
  {
   "cell_type": "code",
   "execution_count": null,
   "id": "8ccdcce5",
   "metadata": {},
   "outputs": [],
   "source": [
    "path_err_nbs = r\"C:\\Users\\yirwa29\\Downloads\\Dataset-Nb\\nbdata_g_error\"\n",
    "df_imports = pd.read_excel(path_err_nbs + '/imports_all_info.xlsx')\n",
    "df2_err[\"lib2\"] = df2_err.apply(util.extract_lib_2, lib_names=config.top_lib_names, df_imports=df_imports, lib_classes_dict=lib_classes_dict, axis=1)"
   ]
  },
  {
   "cell_type": "code",
   "execution_count": null,
   "id": "1ef5df53",
   "metadata": {},
   "outputs": [],
   "source": [
    "df2_err[\"lib_parsed\"] = df2_err[\"lib2\"].fillna(df2_err[\"lib\"]).map(util.simple_lib_parser)\n",
    "df2_err.to_excel(path_err_nbs+\"/nberror_g_all_p4_exception_types_lib_parsed.xlsx\", index=False, engine='xlsxwriter')\n",
    "sum(~df2_err[\"lib_parsed\"].isna())/len(df2_err)"
   ]
  },
  {
   "cell_type": "code",
   "execution_count": null,
   "id": "260bcb4c",
   "metadata": {},
   "outputs": [],
   "source": []
  },
  {
   "cell_type": "code",
   "execution_count": null,
   "id": "5f400c17",
   "metadata": {},
   "outputs": [],
   "source": []
  },
  {
   "cell_type": "code",
   "execution_count": 25,
   "id": "03759a15",
   "metadata": {},
   "outputs": [],
   "source": [
    "df2_err.to_excel(config.path_github_error_process + '/nberror_g_all_p4.xlsx', index=False, engine='xlsxwriter')"
   ]
  },
  {
   "cell_type": "code",
   "execution_count": null,
   "id": "0f871a57",
   "metadata": {},
   "outputs": [],
   "source": []
  }
 ],
 "metadata": {
  "kernelspec": {
   "display_name": "Python 3 (ipykernel)",
   "language": "python",
   "name": "python3"
  },
  "language_info": {
   "codemirror_mode": {
    "name": "ipython",
    "version": 3
   },
   "file_extension": ".py",
   "mimetype": "text/x-python",
   "name": "python",
   "nbconvert_exporter": "python",
   "pygments_lexer": "ipython3",
   "version": "3.11.5"
  }
 },
 "nbformat": 4,
 "nbformat_minor": 5
}
