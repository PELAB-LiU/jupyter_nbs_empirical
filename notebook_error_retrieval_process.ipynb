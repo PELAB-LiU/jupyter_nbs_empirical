{
 "cells": [
  {
   "cell_type": "markdown",
   "id": "1f60e92b",
   "metadata": {},
   "source": [
    "## 1. Filter notebooks in Kaggle containing errors in their outputs"
   ]
  },
  {
   "cell_type": "code",
   "execution_count": 1,
   "id": "1dbd939b",
   "metadata": {
    "scrolled": true
   },
   "outputs": [
    {
     "name": "stdout",
     "output_type": "stream",
     "text": [
      "\n",
      "Started filtering:\n",
      "decoding error: a25az333_v3-notebook.ipynb\n",
      "decoding error: abubow_stock-market-data-prediction.ipynb\n",
      "decoding error: afanasevdenis_hotels-plotly-express.ipynb\n",
      "decoding error: afvanwoudenberg_menace.ipynb\n",
      "decoding error: ahmederaky_real-vs-fake-face-cnn-model.ipynb\n",
      "decoding error: alexandrbormotin_extreme-overnight-gap-downs-in-stock-prices.ipynb\n",
      "decoding error: alikhademifar_jafar-fake.ipynb\n",
      "decoding error: anansw_tutorial-2-geopandas-and-folium.ipynb\n",
      "decoding error: angevalli_realtime-multi-person-2d-pose-estimation.ipynb\n",
      "decoding error: anudit_ilcd-demo.ipynb\n",
      "decoding error: artemmalygin_notebookce05b6ceae.ipynb\n",
      "decoding error: barramalikwibowo_model-version-0-1.ipynb\n",
      "decoding error: burhansebin_florida-funding-rounds-2001-22.ipynb\n",
      "decoding error: christopherreswara_aol-biology-knn.ipynb\n",
      "decoding error: christopherreswara_aol-ml-bow.ipynb\n",
      "decoding error: christopherreswara_aol-ml-tf-idf.ipynb\n",
      "decoding error: cunyuu_monet-turtial.ipynb\n",
      "decoding error: danilastepochkin_interactive-map-with-hours-and-weekdays.ipynb\n",
      "decoding error: deependrasingh1037_hindi-to-english-translation.ipynb\n",
      "decoding error: dhruv4930_vision-transformer-for-oxford-iiit-pet-segmentatio.ipynb\n",
      "decoding error: ekaterinadranitsyna_deepglobe-visualize.ipynb\n",
      "decoding error: emrebulbul_bim-418-nlp-lecture-project.ipynb\n",
      "decoding error: esmailjawabreh_company-visualizaton.ipynb\n",
      "decoding error: eternel22_poleia-dividemix.ipynb\n",
      "decoding error: frozenwolf_bi-lstm-hotel-review.ipynb\n",
      "decoding error: garrettdevereux_uw-dc-d2cyclegan.ipynb\n",
      "decoding error: gastondebackere_fireforest-v2.ipynb\n",
      "decoding error: governor_quick-eda-trying-to-assemble-whole-slide-images.ipynb\n",
      "decoding error: hareeharanelangovan_h1b-analysis.ipynb\n",
      "decoding error: hemanthx99_icr-identify-age-related-conditions.ipynb\n",
      "decoding error: hidebu_investigation-of-feature-engineering-defog.ipynb\n",
      "decoding error: hnkargenyildiz_time-series-forecasting-iyzico-practice.ipynb\n",
      "decoding error: jianwenzhao_espresso-churn-prediction.ipynb\n",
      "decoding error: jkstarc_portal-can-you-read-these-scrolls.ipynb\n",
      "decoding error: jkstarc_vesuvius-challenge-ink-detection-tutorial.ipynb\n",
      "decoding error: josip6_mn-0036518569-time-series-ts.ipynb\n",
      "decoding error: kakhaliji_uci-boston-housing-1.ipynb\n",
      "decoding error: kakhaliji_uci-iris.ipynb\n",
      "decoding error: kakhaliji_uci-sonar.ipynb\n",
      "decoding error: kakhaliji_uci-wine-quality.ipynb\n",
      "decoding error: kamalp0_temperature-trends-in-world-cities.ipynb\n",
      "decoding error: kelvinfoo123_covid19-tweets-topic-modelling.ipynb\n",
      "decoding error: kelvinfoo123_pyspark-diabetes-eda-and-prediction.ipynb\n",
      "decoding error: kelvinfoo123_suicide-attempts-in-shandong-china-eda.ipynb\n",
      "decoding error: khruze_affordable-housing-seaborn-practice.ipynb\n",
      "decoding error: khruze_exercise-machine-learning-competitions.ipynb\n",
      "decoding error: khruze_titanic.ipynb\n",
      "decoding error: kthnineone_cycle-gan-resnet-blocks-based.ipynb\n",
      "decoding error: lusfernandotorres_object-detection-yolo-nas-model.ipynb\n",
      "decoding error: m0ntecarl0_eda-dataset-central-bank-russia.ipynb\n",
      "decoding error: mansurbek0095_audio-classification.ipynb\n",
      "decoding error: manuelquintosabelli_sf-bay-area-bike-share-data-analysis-and-dt.ipynb\n",
      "decoding error: marudovav_project-3.ipynb\n",
      "decoding error: maryamsikander_analysis-on-zomato.ipynb\n",
      "decoding error: maulanawirayudha_heart-disease-prediction.ipynb\n",
      "decoding error: mikoajmielewczyk_analiza.ipynb\n",
      "decoding error: murrooe_206class.ipynb\n",
      "decoding error: nguynthhi_meta-learning-methods.ipynb\n",
      "decoding error: nguynthhi_non-episodic-approach.ipynb\n",
      "decoding error: nguynthhi_protonet-and-maml.ipynb\n",
      "decoding error: omaralkhasawneh_drugs-decision-trees-by-machine-learning.ipynb\n",
      "decoding error: ozgurba_home-credit-default-ridge-lgbm-optuna-lofo-0-759.ipynb\n",
      "decoding error: perrypineapple_starter-eda-10-lines-of-code.ipynb\n",
      "decoding error: podcastprereamea_environmental-data-and-gaussian-processes.ipynb\n",
      "decoding error: qq2656739379_v3-test-new.ipynb\n",
      "decoding error: quanhominh_zone-3.ipynb\n",
      "decoding error: rajib76_text-embedding-comp.ipynb\n",
      "decoding error: regitapurwitasanti_assignment-startupcampus-datascience.ipynb\n",
      "decoding error: reneeschmidt_visualize-segments-of-timeseries.ipynb\n",
      "decoding error: rishabhspark_dcgan-anime.ipynb\n",
      "decoding error: rishabhspark_dcgans-pokemon.ipynb\n",
      "decoding error: riyagupta0238_image-captioning-with-attention.ipynb\n",
      "decoding error: samikose_week10.ipynb\n",
      "decoding error: samikose_week13-ex1.ipynb\n",
      "decoding error: samikose_week13-ex2.ipynb\n",
      "decoding error: samikose_week9.ipynb\n",
      "decoding error: simonveitner_basic-eda-of-t5-embeddings.ipynb\n",
      "decoding error: solance_music-classification-project.ipynb\n",
      "decoding error: stpeteishii_bundesliga-pretrained-yolo-nas-ball-detection.ipynb\n",
      "decoding error: stpeteishii_mot-intersection-yolov8-bytetrack.ipynb\n",
      "decoding error: stpeteishii_mot-pedestrian-yolov8-botsort.ipynb\n",
      "decoding error: stpeteishii_motchallenge-mot17-data-view.ipynb\n",
      "decoding error: sukzoon1234_2023-ml-2d-v2.ipynb\n",
      "decoding error: tarunvs11_simple-linear-regression-model-salary-prediction.ipynb\n",
      "decoding error: techlifestories_projet-python-dvf.ipynb\n",
      "decoding error: thaihien3008_birads-vgg-19-adam.ipynb\n",
      "decoding error: thanht02_audio-classification-cnn-864d1f.ipynb\n",
      "decoding error: tom99763_notebook3011c572b0.ipynb\n",
      "decoding error: tom99763_notebookb9a8ea8bdd.ipynb\n",
      "decoding error: tom99763_spherical-kmeans.ipynb\n",
      "decoding error: trangnguyenkieu_vgg16-final.ipynb\n",
      "decoding error: triyoladevi_assignment-career-preparation.ipynb\n",
      "decoding error: tsssf23_tutorial-2-geopandas-and-folium.ipynb\n",
      "decoding error: tunahanokumus_scoutium-talent-classification.ipynb\n",
      "decoding error: tusharparthsarathi_dl-project.ipynb\n",
      "decoding error: wgkkang_transformertextsummarization.ipynb\n",
      "decoding error: whisperaradien_titanic-work-in-progress-data-preprocessing.ipynb\n",
      "decoding error: writerkanaries_visualize-football-player-data-with-pygwalker.ipynb\n",
      "decoding error: yingzichongb_liujinying-22216536.ipynb\n",
      "decoding error: yuniartipermatasari_automate-eda-of-heart-disease-dataset.ipynb\n",
      "decoding error: yysheep_tensorflow-covid19-resnet50.ipynb\n",
      "\n",
      "Total number of notebooks containing error: 458\n",
      "Total number of notebooks that cannot be decoded: 102\n"
     ]
    }
   ],
   "source": [
    "import util\n",
    "\n",
    "path = 'C:/Users/yirwa29/Downloads/Dataset-Nb/nbdata_k_2305'\n",
    "path_des = 'C:/Users/yirwa29/Downloads/Dataset-Nb/nbdata_k_error/2305'\n",
    "\n",
    "#path = 'C:/Users/yirwa29/Downloads/Dataset-Nb/nbdata_k_error/2311'\n",
    "\n",
    "df_err = util.filter_notebooks_with_errors(path, path_des = path_des, is_resave = True)\n",
    "\n",
    "# save the errors\n",
    "path_err = 'C:/Users/yirwa29/Downloads/Dataset-Nb/nbdata_k_error/nberror_k.csv'\n",
    "# new file\n",
    "# df_err.to_csv(path_err, index=False, encoding='utf-8')\n",
    "# expand existing file\n",
    "df_err.to_csv(path_err, mode='a', index=False, header=False, encoding='utf-8')"
   ]
  },
  {
   "cell_type": "code",
   "execution_count": 2,
   "id": "d06eca1c",
   "metadata": {},
   "outputs": [
    {
     "data": {
      "text/plain": [
       "0.024386238558480655"
      ]
     },
     "execution_count": 2,
     "metadata": {},
     "output_type": "execute_result"
    }
   ],
   "source": [
    "(359/16203 + 368/15899 + 400/16112 + 332/13920 + 285/13606 + 311/13475 + 358/13899 + 458/14620)/8"
   ]
  },
  {
   "cell_type": "code",
   "execution_count": 3,
   "id": "a67b082b",
   "metadata": {},
   "outputs": [],
   "source": [
    "# read in all errors from the file\n",
    "import pandas as pd\n",
    "\n",
    "path_err = 'C:/Users/yirwa29/Downloads/Dataset-Nb/nbdata_k_error/nberror_k.csv'\n",
    "df_err = pd.read_csv(path_err, encoding='utf-8')"
   ]
  },
  {
   "cell_type": "code",
   "execution_count": 4,
   "id": "1798910f",
   "metadata": {},
   "outputs": [
    {
     "data": {
      "text/plain": [
       "2871"
      ]
     },
     "execution_count": 4,
     "metadata": {},
     "output_type": "execute_result"
    }
   ],
   "source": [
    "df_err[\"fname\"].nunique()"
   ]
  },
  {
   "cell_type": "code",
   "execution_count": 5,
   "id": "180ec738",
   "metadata": {},
   "outputs": [
    {
     "data": {
      "text/plain": [
       "fname        4502\n",
       "ename        4498\n",
       "evalue       3744\n",
       "traceback    4502\n",
       "dtype: int64"
      ]
     },
     "execution_count": 5,
     "metadata": {},
     "output_type": "execute_result"
    }
   ],
   "source": [
    "df_err.count()"
   ]
  },
  {
   "cell_type": "code",
   "execution_count": 6,
   "id": "04b9454b",
   "metadata": {
    "scrolled": false
   },
   "outputs": [
    {
     "data": {
      "text/plain": [
       "<Axes: xlabel='ename'>"
      ]
     },
     "execution_count": 6,
     "metadata": {},
     "output_type": "execute_result"
    },
    {
     "data": {
      "image/png": "[encoded data removed]",
      "text/plain": [
       "<Figure size 1200x500 with 1 Axes>"
      ]
     },
     "metadata": {},
     "output_type": "display_data"
    }
   ],
   "source": [
    "df_err[\"ename\"].groupby([df_err[\"ename\"]]).count().sort_values(ascending=0)[:50].plot(kind=\"bar\", figsize=(12,5))"
   ]
  },
  {
   "cell_type": "markdown",
   "id": "32e802be",
   "metadata": {},
   "source": [
    "## 2. Filter notebooks in Github containing errors in their outputs\n",
    "\n",
    "Parquet all (0-312): \n",
    "\n",
    "    Total number of notebooks containing error: 112430\n",
    "    Total number of notebooks that cannot be decoded: 10602\n",
    "    \n",
    "    Total number of errors: 184961\n",
    "    Total number of unique errors: 1675\n",
    "\n",
    "    - Parquet 0-99: \n",
    "\n",
    "        Total number of notebooks containing error: 36119\n",
    "        Total number of notebooks that cannot be decoded: 3392\n",
    "\n",
    "        Total number of errors: 60623\n",
    "        Total number of unique errors: 861\n",
    "\n",
    "    - Parquet 100-199:\n",
    "\n",
    "        Total number of notebooks containing error: 35848\n",
    "        Total number of notebooks that cannot be decoded: 3376\n",
    "\n",
    "        Total number of errors: 58013\n",
    "        Total number of unique errors: 876\n",
    "\n",
    "    - Parquet 200-311:\n",
    "\n",
    "        Total number of notebooks containing error: 40463\n",
    "        Total number of notebooks that cannot be decoded: 3834\n",
    "\n",
    "        Total number of errors: 66325\n",
    "        Total number of unique errors: 914\n"
   ]
  },
  {
   "cell_type": "code",
   "execution_count": 10,
   "id": "24b55cb8",
   "metadata": {},
   "outputs": [
    {
     "name": "stdout",
     "output_type": "stream",
     "text": [
      "16:48:08\n",
      "17:54:48\n",
      "\n",
      "Started filtering:\n",
      "\n",
      "Total number of notebooks containing error: 35848\n",
      "Total number of notebooks that cannot be decoded: 3376\n"
     ]
    }
   ],
   "source": [
    "import util\n",
    "\n",
    "# import time\n",
    "# print(time.strftime(\"%H:%M:%S\", time.localtime()))\n",
    "# time.sleep(4000)\n",
    "# print(time.strftime(\"%H:%M:%S\", time.localtime()))\n",
    "\n",
    "# nbdata_g\n",
    "\n",
    "path = 'C:/Users/yirwa29/Downloads/Dataset-Nb/nbdata_g/nbfiles'\n",
    "\n",
    "path_des = 'C:/Users/yirwa29/Downloads/Dataset-Nb/nbdata_g_error'\n",
    "path_des2 = 'C:/Users/yirwa29/Downloads/Dataset-Nb/nbdata_g_valueerror'\n",
    "\n",
    "# path = 'C:/Users/yirwa29/Downloads/Dataset-Nb/nbdata_g_error'\n",
    "\n",
    "df2_err = util.filter_notebooks_with_errors(path, path_des = path_des, path_des2 = path_des2, is_resave = False)\n",
    "\n",
    "# save the errors\n",
    "path2_err = 'C:/Users/yirwa29/Downloads/Dataset-Nb/nberror_g.csv'\n",
    "# new file\n",
    "df2_err.to_csv(path2_err, index=False, encoding='utf-8')\n",
    "# expand existing file\n",
    "#df2_err.to_csv(path2_err, mode='a', index=False, header=False, encoding='utf-8')"
   ]
  },
  {
   "cell_type": "code",
   "execution_count": 15,
   "id": "a4eab249",
   "metadata": {},
   "outputs": [],
   "source": [
    "import pandas as pd\n",
    "\n",
    "path2_err1 = 'C:/Users/yirwa29/Downloads/Dataset-Nb/nberror_g_0-99.csv'\n",
    "path2_err2 = 'C:/Users/yirwa29/Downloads/Dataset-Nb/nberror_g_100-199.csv'\n",
    "path2_err3 = 'C:/Users/yirwa29/Downloads/Dataset-Nb/nberror_g_200-312.csv'\n",
    "df2_err1 = pd.read_csv(path2_err1, encoding='utf-8')\n",
    "df2_err2 = pd.read_csv(path2_err2, encoding='utf-8')\n",
    "df2_err3 = pd.read_csv(path2_err3, encoding='utf-8')\n",
    "df2_err = pd.concat([df2_err1, df2_err2, df2_err3], axis=0)\n",
    "df2_err.to_csv('C:/Users/yirwa29/Downloads/Dataset-Nb/nberror_g_all.csv', index=False, encoding='utf-8')"
   ]
  },
  {
   "cell_type": "code",
   "execution_count": 36,
   "id": "473540c1",
   "metadata": {},
   "outputs": [],
   "source": [
    "# read in all errors from the file\n",
    "import pandas as pd\n",
    "\n",
    "df2_err = pd.read_csv('C:/Users/yirwa29/Downloads/Dataset-Nb/nberror_g_all.csv', encoding='utf-8')"
   ]
  },
  {
   "cell_type": "code",
   "execution_count": 43,
   "id": "daa995b8",
   "metadata": {},
   "outputs": [
    {
     "data": {
      "text/html": [
       "<div>\n",
       "<style scoped>\n",
       "    .dataframe tbody tr th:only-of-type {\n",
       "        vertical-align: middle;\n",
       "    }\n",
       "\n",
       "    .dataframe tbody tr th {\n",
       "        vertical-align: top;\n",
       "    }\n",
       "\n",
       "    .dataframe thead th {\n",
       "        text-align: right;\n",
       "    }\n",
       "</style>\n",
       "<table border=\"1\" class=\"dataframe\">\n",
       "  <thead>\n",
       "    <tr style=\"text-align: right;\">\n",
       "      <th></th>\n",
       "      <th>fname</th>\n",
       "      <th>ename</th>\n",
       "      <th>evalue</th>\n",
       "      <th>traceback</th>\n",
       "    </tr>\n",
       "  </thead>\n",
       "  <tbody>\n",
       "    <tr>\n",
       "      <th>0</th>\n",
       "      <td>00000-101-cookie-clicker-v2-checkpoint.ipynb</td>\n",
       "      <td>KeyboardInterrupt</td>\n",
       "      <td>NaN</td>\n",
       "      <td>['\\x1b[0;31m----------------------------------...</td>\n",
       "    </tr>\n",
       "    <tr>\n",
       "      <th>1</th>\n",
       "      <td>00000-1012-demand-forecasting-data-prep-from-s...</td>\n",
       "      <td>OperationalError</td>\n",
       "      <td>FATAL:  no pg_hba.conf entry for host \"75.166....</td>\n",
       "      <td>['\\x1b[0;31m----------------------------------...</td>\n",
       "    </tr>\n",
       "    <tr>\n",
       "      <th>2</th>\n",
       "      <td>00000-1017-heatmapseq2seq.ipynb</td>\n",
       "      <td>ValueError</td>\n",
       "      <td>x and y must have same first dimension, but ha...</td>\n",
       "      <td>['\\x1b[0;31m----------------------------------...</td>\n",
       "    </tr>\n",
       "    <tr>\n",
       "      <th>3</th>\n",
       "      <td>00000-1023-crawler-20190515-20190516.ipynb</td>\n",
       "      <td>ConnectionError</td>\n",
       "      <td>HTTPSConnectionPool(host='www.backpackers.com....</td>\n",
       "      <td>['\\x1b[1;31m----------------------------------...</td>\n",
       "    </tr>\n",
       "    <tr>\n",
       "      <th>4</th>\n",
       "      <td>00000-1033-peer-solution-predicting-survival-t...</td>\n",
       "      <td>URLError</td>\n",
       "      <td>&lt;urlopen error [Errno 11001] getaddrinfo failed&gt;</td>\n",
       "      <td>['\\x1b[1;31m----------------------------------...</td>\n",
       "    </tr>\n",
       "  </tbody>\n",
       "</table>\n",
       "</div>"
      ],
      "text/plain": [
       "                                               fname              ename  \\\n",
       "0       00000-101-cookie-clicker-v2-checkpoint.ipynb  KeyboardInterrupt   \n",
       "1  00000-1012-demand-forecasting-data-prep-from-s...   OperationalError   \n",
       "2                    00000-1017-heatmapseq2seq.ipynb         ValueError   \n",
       "3         00000-1023-crawler-20190515-20190516.ipynb    ConnectionError   \n",
       "4  00000-1033-peer-solution-predicting-survival-t...           URLError   \n",
       "\n",
       "                                              evalue  \\\n",
       "0                                                NaN   \n",
       "1  FATAL:  no pg_hba.conf entry for host \"75.166....   \n",
       "2  x and y must have same first dimension, but ha...   \n",
       "3  HTTPSConnectionPool(host='www.backpackers.com....   \n",
       "4   <urlopen error [Errno 11001] getaddrinfo failed>   \n",
       "\n",
       "                                           traceback  \n",
       "0  ['\\x1b[0;31m----------------------------------...  \n",
       "1  ['\\x1b[0;31m----------------------------------...  \n",
       "2  ['\\x1b[0;31m----------------------------------...  \n",
       "3  ['\\x1b[1;31m----------------------------------...  \n",
       "4  ['\\x1b[1;31m----------------------------------...  "
      ]
     },
     "execution_count": 43,
     "metadata": {},
     "output_type": "execute_result"
    }
   ],
   "source": [
    "df2_err.head()"
   ]
  },
  {
   "cell_type": "code",
   "execution_count": 38,
   "id": "201bec69",
   "metadata": {},
   "outputs": [
    {
     "data": {
      "text/plain": [
       "fname        184961\n",
       "ename        183760\n",
       "evalue       165440\n",
       "traceback    184961\n",
       "dtype: int64"
      ]
     },
     "execution_count": 38,
     "metadata": {},
     "output_type": "execute_result"
    }
   ],
   "source": [
    "df2_err.count()"
   ]
  },
  {
   "cell_type": "code",
   "execution_count": 39,
   "id": "b9779fb6",
   "metadata": {},
   "outputs": [
    {
     "data": {
      "text/plain": [
       "112430"
      ]
     },
     "execution_count": 39,
     "metadata": {},
     "output_type": "execute_result"
    }
   ],
   "source": [
    "df2_err[\"fname\"].nunique()"
   ]
  },
  {
   "cell_type": "code",
   "execution_count": 41,
   "id": "cdc47a8e",
   "metadata": {},
   "outputs": [
    {
     "data": {
      "text/plain": [
       "<Axes: xlabel='ename'>"
      ]
     },
     "execution_count": 41,
     "metadata": {},
     "output_type": "execute_result"
    },
    {
     "data": {
      "image/png": "[encoded data removed]",
      "text/plain": [
       "<Figure size 1200x500 with 1 Axes>"
      ]
     },
     "metadata": {},
     "output_type": "display_data"
    }
   ],
   "source": [
    "df2_err[\"ename\"].groupby([df2_err[\"ename\"]]).count().sort_values(ascending=0)[:50].plot(kind=\"bar\", figsize=(12,5))"
   ]
  },
  {
   "cell_type": "markdown",
   "id": "65cab066",
   "metadata": {},
   "source": [
    "## 3. Data Processing for GitHub errors"
   ]
  },
  {
   "cell_type": "markdown",
   "id": "c9f1f785",
   "metadata": {},
   "source": [
    "### 3.1 Process the traceback column to readable texts"
   ]
  },
  {
   "cell_type": "code",
   "execution_count": null,
   "id": "1a4b4583",
   "metadata": {},
   "outputs": [],
   "source": [
    "import pandas as pd\n",
    "import util\n",
    "\n",
    "df2_err = pd.read_csv('C:/Users/yirwa29/Downloads/Dataset-Nb/nberror_g_all.csv', encoding='utf-8')\n",
    "\n",
    "df2_err['traceback'] = df2_err['traceback'].map(util.parse_traceback)\n",
    "df2_err.to_csv('C:/Users/yirwa29/Downloads/Dataset-Nb/nberror_g_all_p.csv', index=False, encoding='utf-8')"
   ]
  },
  {
   "cell_type": "markdown",
   "id": "f6c402f5",
   "metadata": {},
   "source": [
    "### 3.2 Extract meaningful and short evalues from traceback for those with ignored evalues\n",
    "\n",
    "Example:\n",
    "\n",
    "    fname                             00000-1828-homework1-1.ipynb\n",
    "    ename                                                NameError\n",
    "    evalue                                                 ignored\n",
    "    traceback    ['---------------------------------------------------------------------------', 'NameError                                 Traceback (most recent call last)', '<ipython-input-8-287bf352fb78> in <module>()\\n      3 c1= nd.norm(nd.dot(A, B))\\n      4 c= mx.ndarray.power(c1,2)\\n----> 5 tic= time.time()\\n      6 print(time.time() - tic)\\n      7 \\n', \"NameError: name 'time' is not defined\"]\n"
   ]
  },
  {
   "cell_type": "code",
   "execution_count": 50,
   "id": "f5ceb426",
   "metadata": {},
   "outputs": [
    {
     "data": {
      "text/plain": [
       "fname        17478\n",
       "ename        17466\n",
       "evalue       17478\n",
       "traceback    17478\n",
       "dtype: int64"
      ]
     },
     "execution_count": 50,
     "metadata": {},
     "output_type": "execute_result"
    }
   ],
   "source": [
    "import pandas as pd\n",
    "import util\n",
    "\n",
    "df2_err = pd.read_csv('C:/Users/yirwa29/Downloads/Dataset-Nb/nberror_g_all_p.csv', encoding='utf-8')\n",
    "df2_err_ignored = df2_err[df2_err['evalue']=='ignored']\n",
    "df2_err_ignored.count()"
   ]
  },
  {
   "cell_type": "code",
   "execution_count": 92,
   "id": "ae8626b7",
   "metadata": {},
   "outputs": [],
   "source": [
    "list_errors = df2_err['ename'].unique()\n",
    "\n",
    "for index, row in df2_err_ignored.iterrows():\n",
    "    res = util.get_evalue_ignored_from_traceback(row)\n",
    "    if res:\n",
    "        df2_err.loc[index, \"evalue\"] = res\n",
    "df2_err.to_excel('C:/Users/yirwa29/Downloads/Dataset-Nb/nberror_g_all_p2.xlsx', index=False, engine='xlsxwriter')"
   ]
  },
  {
   "cell_type": "code",
   "execution_count": 93,
   "id": "f9703a97",
   "metadata": {},
   "outputs": [
    {
     "data": {
      "text/plain": [
       "fname        4678\n",
       "ename        4666\n",
       "evalue       4678\n",
       "traceback    4678\n",
       "dtype: int64"
      ]
     },
     "execution_count": 93,
     "metadata": {},
     "output_type": "execute_result"
    }
   ],
   "source": [
    "df2_err[df2_err['evalue']=='ignored'].count() # managed to filled 12800/17478 ignored evalues"
   ]
  },
  {
   "cell_type": "code",
   "execution_count": 96,
   "id": "4ce7304a",
   "metadata": {},
   "outputs": [],
   "source": [
    "df2_err.to_excel('C:/Users/yirwa29/Downloads/Dataset-Nb/nberror_g_all_p2.xlsx', index=False, engine='xlsxwriter')"
   ]
  },
  {
   "cell_type": "markdown",
   "id": "8080e8cf",
   "metadata": {},
   "source": [
    "### 3.3 Programming Languages within (error) notebooks\n",
    "\n",
    "#### 3.3.1 Exact language info from notebook meta data\n",
    "\n",
    "Total number of notebooks have language info from metadata: 112283/112430"
   ]
  },
  {
   "cell_type": "code",
   "execution_count": null,
   "id": "a1ed7ddd",
   "metadata": {},
   "outputs": [],
   "source": [
    "from guesslang import Guess\n",
    "import util\n",
    "\n",
    "check_lan_list = list(map(str.lower,Guess().supported_languages))\n",
    "\n",
    "path = 'C:/Users/yirwa29/Downloads/Dataset-Nb/nbdata_g_error'\n",
    "copy_path = \"C:/Users/yirwa29/Downloads/Dataset-Nb/programming_language/nbdata_g_data_no_laninfo\"\n",
    "\n",
    "res_lan = util.nb_language_exact(path, copy_path, check_lan_list)\n",
    "res_lan.to_excel('C:/Users/yirwa29/Downloads/Dataset-Nb/programming_language/nberror_g_all_metalanguage.xlsx', index=False, engine='xlsxwriter')"
   ]
  },
  {
   "cell_type": "code",
   "execution_count": 7,
   "id": "7b06319c",
   "metadata": {},
   "outputs": [
    {
     "data": {
      "text/plain": [
       "0.9986925197900917"
      ]
     },
     "execution_count": 7,
     "metadata": {},
     "output_type": "execute_result"
    }
   ],
   "source": [
    "112283/112430 # can extract language info from meta data"
   ]
  },
  {
   "cell_type": "code",
   "execution_count": 8,
   "id": "a13226a1",
   "metadata": {},
   "outputs": [
    {
     "data": {
      "text/html": [
       "<div>\n",
       "<style scoped>\n",
       "    .dataframe tbody tr th:only-of-type {\n",
       "        vertical-align: middle;\n",
       "    }\n",
       "\n",
       "    .dataframe tbody tr th {\n",
       "        vertical-align: top;\n",
       "    }\n",
       "\n",
       "    .dataframe thead th {\n",
       "        text-align: right;\n",
       "    }\n",
       "</style>\n",
       "<table border=\"1\" class=\"dataframe\">\n",
       "  <thead>\n",
       "    <tr style=\"text-align: right;\">\n",
       "      <th></th>\n",
       "      <th>fname</th>\n",
       "      <th>language</th>\n",
       "    </tr>\n",
       "  </thead>\n",
       "  <tbody>\n",
       "    <tr>\n",
       "      <th>0</th>\n",
       "      <td>00000-101-cookie-clicker-v2-checkpoint.ipynb</td>\n",
       "      <td>python</td>\n",
       "    </tr>\n",
       "    <tr>\n",
       "      <th>1</th>\n",
       "      <td>00000-1012-demand-forecasting-data-prep-from-s...</td>\n",
       "      <td>python</td>\n",
       "    </tr>\n",
       "    <tr>\n",
       "      <th>2</th>\n",
       "      <td>00000-1017-heatmapseq2seq.ipynb</td>\n",
       "      <td>python</td>\n",
       "    </tr>\n",
       "    <tr>\n",
       "      <th>3</th>\n",
       "      <td>00000-1023-crawler-20190515-20190516.ipynb</td>\n",
       "      <td>python</td>\n",
       "    </tr>\n",
       "    <tr>\n",
       "      <th>4</th>\n",
       "      <td>00000-1033-peer-solution-predicting-survival-t...</td>\n",
       "      <td>python</td>\n",
       "    </tr>\n",
       "    <tr>\n",
       "      <th>...</th>\n",
       "      <td>...</td>\n",
       "      <td>...</td>\n",
       "    </tr>\n",
       "    <tr>\n",
       "      <th>112425</th>\n",
       "      <td>00311-934-untitled.ipynb</td>\n",
       "      <td>python</td>\n",
       "    </tr>\n",
       "    <tr>\n",
       "      <th>112426</th>\n",
       "      <td>00311-973-jtj-eigenmodes.ipynb</td>\n",
       "      <td>julia</td>\n",
       "    </tr>\n",
       "    <tr>\n",
       "      <th>112427</th>\n",
       "      <td>00311-984-working-with-mask-during-horizontal-...</td>\n",
       "      <td>python</td>\n",
       "    </tr>\n",
       "    <tr>\n",
       "      <th>112428</th>\n",
       "      <td>00311-987-titanic.ipynb</td>\n",
       "      <td>python</td>\n",
       "    </tr>\n",
       "    <tr>\n",
       "      <th>112429</th>\n",
       "      <td>00311-992-p1.ipynb</td>\n",
       "      <td>python</td>\n",
       "    </tr>\n",
       "  </tbody>\n",
       "</table>\n",
       "<p>112430 rows × 2 columns</p>\n",
       "</div>"
      ],
      "text/plain": [
       "                                                    fname language\n",
       "0            00000-101-cookie-clicker-v2-checkpoint.ipynb   python\n",
       "1       00000-1012-demand-forecasting-data-prep-from-s...   python\n",
       "2                         00000-1017-heatmapseq2seq.ipynb   python\n",
       "3              00000-1023-crawler-20190515-20190516.ipynb   python\n",
       "4       00000-1033-peer-solution-predicting-survival-t...   python\n",
       "...                                                   ...      ...\n",
       "112425                           00311-934-untitled.ipynb   python\n",
       "112426                     00311-973-jtj-eigenmodes.ipynb    julia\n",
       "112427  00311-984-working-with-mask-during-horizontal-...   python\n",
       "112428                            00311-987-titanic.ipynb   python\n",
       "112429                                 00311-992-p1.ipynb   python\n",
       "\n",
       "[112430 rows x 2 columns]"
      ]
     },
     "execution_count": 8,
     "metadata": {},
     "output_type": "execute_result"
    }
   ],
   "source": [
    "res_lan"
   ]
  },
  {
   "cell_type": "markdown",
   "id": "19057c43",
   "metadata": {},
   "source": [
    "#### 3.3.2 Exact remaining unknown language info from Guesslang library\n",
    "\n",
    "The [guesslang library](https://guesslang.readthedocs.io/en/latest/contents.html#install-from-pypi) requires a very old version of tensorflow (2.5.0, python version 3.6-3.9). Remember to switch to a suitable environment to install and use it."
   ]
  },
  {
   "cell_type": "code",
   "execution_count": 3,
   "id": "ef85f832",
   "metadata": {},
   "outputs": [
    {
     "data": {
      "text/plain": [
       "Python      104\n",
       "unknown      21\n",
       "R             5\n",
       "Julia         5\n",
       "Markdown      2\n",
       "Clojure       2\n",
       "Prolog        2\n",
       "Lua           2\n",
       "Shell         2\n",
       "Scala         1\n",
       "Haskell       1\n",
       "Name: language, dtype: int64"
      ]
     },
     "execution_count": 3,
     "metadata": {},
     "output_type": "execute_result"
    }
   ],
   "source": [
    "import util\n",
    "\n",
    "path_nolan = r'C:\\Users\\yirwa29\\Downloads\\Dataset-Nb\\programming_language\\nbdata_g_data_no_laninfo'\n",
    "util.nb_to_py(path_nolan)\n",
    "df_lan = util.py_language_detection(path_nolan)\n",
    "df_lan.language.value_counts()"
   ]
  },
  {
   "cell_type": "code",
   "execution_count": 4,
   "id": "187a42e9",
   "metadata": {},
   "outputs": [],
   "source": [
    "df_lan.to_excel('C:/Users/yirwa29/Downloads/Dataset-Nb/programming_language/nberror_g_all_detectlanguage.xlsx', index=False, engine='xlsxwriter')"
   ]
  },
  {
   "cell_type": "markdown",
   "id": "ec725ed4",
   "metadata": {},
   "source": [
    "#### 3.3.3 Combine the results from metalanguage exaction and language detection\n"
   ]
  },
  {
   "cell_type": "code",
   "execution_count": 5,
   "id": "ab909438",
   "metadata": {},
   "outputs": [],
   "source": [
    "import pandas as pd\n",
    "import util\n",
    "\n",
    "res_lan = pd.read_excel('C:/Users/yirwa29/Downloads/Dataset-Nb/programming_language/nberror_g_all_metalanguage.xlsx')\n",
    "res_lan2 = pd.read_excel('C:/Users/yirwa29/Downloads/Dataset-Nb/programming_language/nberror_g_all_detectlanguage.xlsx')\n",
    "res_lan2['language'] = res_lan2.language.map(str.lower)"
   ]
  },
  {
   "cell_type": "code",
   "execution_count": 11,
   "id": "6da3dccd",
   "metadata": {},
   "outputs": [],
   "source": [
    "df_tmp = res_lan[res_lan['language'].eq('unknown')].merge(res_lan2, on='fname', how='left')\n",
    "for i, row in df_tmp.iterrows():\n",
    "    res_lan.loc[res_lan['fname']==row['fname'], 'language'] = row['language_y']"
   ]
  },
  {
   "cell_type": "code",
   "execution_count": 20,
   "id": "b5f6b452",
   "metadata": {},
   "outputs": [],
   "source": [
    "res_lan.to_excel('C:/Users/yirwa29/Downloads/Dataset-Nb/programming_language/nberror_g_all_language.xlsx', index=False, engine='xlsxwriter')"
   ]
  },
  {
   "cell_type": "markdown",
   "id": "3fe8f5fa",
   "metadata": {},
   "source": [
    "#### 3.3.4 Language distribution in GitHub ERROR dataset"
   ]
  },
  {
   "cell_type": "code",
   "execution_count": 1,
   "id": "c3c3f7ef",
   "metadata": {},
   "outputs": [],
   "source": [
    "import pandas as pd\n",
    "\n",
    "res_lan = pd.read_excel('C:/Users/yirwa29/Downloads/Dataset-Nb/programming_language/nberror_g_all_language.xlsx')"
   ]
  },
  {
   "cell_type": "code",
   "execution_count": 2,
   "id": "4d46acf9",
   "metadata": {},
   "outputs": [
    {
     "data": {
      "text/plain": [
       "language\n",
       "python    0.969750\n",
       "julia     0.015334\n",
       "r         0.007614\n",
       "Name: count, dtype: float64"
      ]
     },
     "execution_count": 2,
     "metadata": {},
     "output_type": "execute_result"
    }
   ],
   "source": [
    "res_lan.language.value_counts()[:3]/len(res_lan)"
   ]
  },
  {
   "cell_type": "code",
   "execution_count": 3,
   "id": "6ac04211",
   "metadata": {},
   "outputs": [
    {
     "data": {
      "image/png": "[encoded data removed]",
      "text/plain": [
       "<Figure size 400x400 with 1 Axes>"
      ]
     },
     "metadata": {},
     "output_type": "display_data"
    }
   ],
   "source": [
    "# tried to plot, looks ugly. May just use table\n",
    "\n",
    "import matplotlib.pyplot as plt\n",
    "import seaborn as sns \n",
    "\n",
    "#the full dataframe\n",
    "lan_df = pd.DataFrame(\n",
    "    data = {'language': res_lan.language.value_counts().index, \n",
    "            'value' :res_lan.language.value_counts().values},\n",
    "    ).sort_values('value', ascending = False)\n",
    "\n",
    "#the top n\n",
    "n_top = 3\n",
    "lan_df_1 = lan_df[:n_top].copy()\n",
    "\n",
    "#others\n",
    "lan_df_2 = pd.DataFrame(data = {\n",
    "    'language' : ['others'],\n",
    "    'value' : [lan_df['value'][n_top:].sum()]\n",
    "})\n",
    "\n",
    "# combine\n",
    "lan_df_new = pd.concat([lan_df_1, lan_df_2])\n",
    "\n",
    "explode = (0.1, 0, 0, 0)\n",
    "\n",
    "plt.figure(figsize=(4,4))\n",
    "plt.tight_layout()\n",
    "plt.pie(\n",
    "    x = lan_df_new['value'], \n",
    "    explode = explode, \n",
    "    labels = lan_df_new['language'],\n",
    "    autopct = '%1.2f%%',\n",
    "    colors=sns.color_palette('Set2')\n",
    ")\n",
    "plt.show()"
   ]
  },
  {
   "cell_type": "markdown",
   "id": "70e494fa",
   "metadata": {},
   "source": [
    "#### 3.3.5 Add language info to the error dataset"
   ]
  },
  {
   "cell_type": "code",
   "execution_count": 5,
   "id": "23ec853a",
   "metadata": {},
   "outputs": [],
   "source": [
    "import pandas as pd\n",
    "\n",
    "res_err = pd.read_excel('C:/Users/yirwa29/Downloads/Dataset-Nb/nberror_g_all_p2.xlsx')\n",
    "res_lan = pd.read_excel('C:/Users/yirwa29/Downloads/Dataset-Nb/programming_language/nberror_g_all_language.xlsx')"
   ]
  },
  {
   "cell_type": "code",
   "execution_count": 8,
   "id": "644c71ce",
   "metadata": {},
   "outputs": [],
   "source": [
    "res_merged = res_err.merge(res_lan, left_on='fname', right_on='fname').reindex(columns=['fname', 'ename', 'evalue', 'traceback', 'language'])"
   ]
  },
  {
   "cell_type": "code",
   "execution_count": 13,
   "id": "d5d1a048",
   "metadata": {},
   "outputs": [],
   "source": [
    "res_merged.to_excel('C:/Users/yirwa29/Downloads/Dataset-Nb/nberror_g_all_p3.xlsx', index=False, engine='xlsxwriter')"
   ]
  },
  {
   "cell_type": "markdown",
   "id": "a976ac74",
   "metadata": {},
   "source": [
    "### 3.4 Filter only Python notebooks and Parse libraries from traceback"
   ]
  },
  {
   "cell_type": "code",
   "execution_count": 1,
   "id": "a7d9d206",
   "metadata": {},
   "outputs": [],
   "source": [
    "import pandas as pd\n",
    "import util\n",
    "\n",
    "path = 'C:/Users/yirwa29/Downloads/Dataset-Nb/nberror_g_all_p3.xlsx'\n",
    "df2_err = pd.read_excel(path)\n",
    "df2_err = df2_err[df2_err['language']=='python'][['fname','ename','evalue','traceback']]"
   ]
  },
  {
   "cell_type": "code",
   "execution_count": 5,
   "id": "9097e925",
   "metadata": {},
   "outputs": [],
   "source": [
    "df2_err['lib'] = df2_err['traceback'].apply(util.extract_lib)"
   ]
  },
  {
   "cell_type": "code",
   "execution_count": 23,
   "id": "ba84bdc4",
   "metadata": {},
   "outputs": [
    {
     "name": "stdout",
     "output_type": "stream",
     "text": [
      "Extract 0.35% libraries from crash traceback values\n"
     ]
    }
   ],
   "source": [
    "print(\"Extract {0:2.2f}% libraries from crash traceback values\".format(\n",
    "    (len(df2_err)-len(df2_err[df2_err['lib'].isnull()]))/len(df2_err)))"
   ]
  },
  {
   "cell_type": "code",
   "execution_count": 25,
   "id": "03759a15",
   "metadata": {},
   "outputs": [],
   "source": [
    "df2_err.to_excel('C:/Users/yirwa29/Downloads/Dataset-Nb/nberror_g_all_p4.xlsx', index=False, engine='xlsxwriter')"
   ]
  },
  {
   "cell_type": "markdown",
   "id": "061c2c6d",
   "metadata": {},
   "source": [
    "## [deprecated] Get commit urls from the table obtained in bigquery public dataset\n",
    "\n",
    "But the public dataset hasn't been updated for over a year\n",
    "\n",
    "### Get urls for the commits"
   ]
  },
  {
   "cell_type": "code",
   "execution_count": null,
   "id": "3661135f",
   "metadata": {},
   "outputs": [],
   "source": [
    "# This is via gh API call, it turns out no need to do this\n",
    "\n",
    "import pandas as pd\n",
    "import re\n",
    "import json\n",
    "import numpy as np\n",
    "import time\n",
    "\n",
    "def escape_ansi(line, max_retries: int = 10,):\n",
    "    ansi_escape = re.compile(r'(?:\\x1B[@-_]|[\\x80-\\x9F])[0-?]*[ -/]*[@-~]')\n",
    "    res = ansi_escape.sub('', line)\n",
    "    num_retries = 0\n",
    "    if res==res:\n",
    "        while True:\n",
    "            try:\n",
    "                jsonobj = json.loads(res)\n",
    "                if len(jsonobj)>0:\n",
    "                    return jsonobj[0]['url']\n",
    "                else:\n",
    "                    print(\"error: decoding url\", jsonobj)\n",
    "                    return None\n",
    "            # Retry on specific errors\n",
    "            except ValueError:  # includes simplejson.decoder.JSONDecodeError\n",
    "                print('Decoding JSON has failed due to: ', res, 'Retrying')\n",
    "                num_retries += 1\n",
    "                if num_retries > max_retries:\n",
    "                    print(f\"Maximum number of retries ({max_retries}) exceeded.\")\n",
    "                    return None\n",
    "                delay = 60\n",
    "                # Sleep for the delay\n",
    "                time.sleep(delay)\n",
    "    else:\n",
    "        print(\"error: did not get any url from GitHub API\")\n",
    "        return None\n",
    "    \n",
    "def request_commits_with_sha(data_commits_sample):\n",
    "    urls = []\n",
    "    for commit in data_commits_sample:\n",
    "        if commit!=commit:\n",
    "            print('none sha ---- skip', commit)\n",
    "            continue\n",
    "        s=\"gh search commits --hash={0} --json url\".format(commit)\n",
    "        o = !$s\n",
    "        url = escape_ansi(o.nlstr)\n",
    "        if url:\n",
    "            urls.append(url)\n",
    "        else: \n",
    "            print('none url retrived ---- skip', commit)\n",
    "    return urls"
   ]
  },
  {
   "cell_type": "code",
   "execution_count": null,
   "id": "aba0e29d",
   "metadata": {},
   "outputs": [],
   "source": [
    "# commits data from bigquery\n",
    "data = pd.read_csv('C:/Users/yirwa29/Downloads/jupyter_nbs_saml/target_nbs/notebook_commits.csv')\n",
    "data_commits = np.unique(data['commit'])\n",
    "print('total amount of unique commits:', len(data_commits))"
   ]
  },
  {
   "cell_type": "code",
   "execution_count": 64,
   "id": "1256018d",
   "metadata": {},
   "outputs": [],
   "source": [
    "# This is via put strings together, it is simple and correct, we use this\n",
    "\n",
    "def get_commit_url(commit_id, repo_name):\n",
    "    return \"https://github.com/{0}/commit/{1}\".format(repo_name, commit_id)\n",
    "\n",
    "def get_all_urls():\n",
    "    urls = []\n",
    "    for index, row in data.iterrows():\n",
    "        url = get_commit_url(row['commit'], row['name'])\n",
    "        urls.append(url)\n",
    "    return urls\n",
    "\n",
    "urls = get_all_urls()\n",
    "\n",
    "# save all the commit urls to the csv file\n",
    "import pandas as pd\n",
    "data['url'] = urls\n",
    "data.to_csv('C:/Users/yirwa29/Downloads/jupyter_nbs_saml/target_nbs/notebook_commits_url.csv', index=False)"
   ]
  },
  {
   "cell_type": "code",
   "execution_count": 67,
   "id": "a802aa1a",
   "metadata": {},
   "outputs": [],
   "source": [
    "# URL Wrapper for printing clickable urls\n",
    "\n",
    "from dataclasses import dataclass\n",
    "\n",
    "@dataclass(frozen=True)\n",
    "class Url:\n",
    "    \"\"\"Wrapper around a URL string to provide nice display in IPython environments.\"\"\"\n",
    "\n",
    "    __url: str\n",
    "\n",
    "    def _repr_html_(self):\n",
    "        \"\"\"HTML link to this URL.\"\"\"\n",
    "        return f'<a href=\"{self.__url}\">{self.__url}</a>'\n",
    "\n",
    "    def __str__(self):\n",
    "        \"\"\"Return the underlying string.\"\"\"\n",
    "        return self.__url"
   ]
  },
  {
   "cell_type": "code",
   "execution_count": 75,
   "id": "ae25e05c",
   "metadata": {},
   "outputs": [
    {
     "name": "stdout",
     "output_type": "stream",
     "text": [
      "total amount of commits: 3448\n",
      "total amount of checked commits: 30\n",
      "total amount of sampled commits: 99\n"
     ]
    }
   ],
   "source": [
    "data = pd.read_csv('C:/Users/yirwa29/Downloads/jupyter_nbs_saml/target_nbs/notebook_commits_url.csv')\n",
    "data_commiturls = np.unique(data['url'])\n",
    "print('total amount of commits:', len(data_commiturls))\n",
    "\n",
    "sample_size = 100\n",
    "data_commiturls_sample = np.random.choice(data_commiturls, sample_size, replace=False)\n",
    "\n",
    "data_checked = pd.read_csv('C:/Users/yirwa29/Downloads/jupyter_nbs_saml/target_nbs/checked.csv')\n",
    "urls_checked = np.unique(data_checked['url'])\n",
    "print('total amount of checked commits:', len(urls_checked))\n",
    "\n",
    "data_commiturls_sample = np.setdiff1d(data_commiturls_sample, urls_checked)\n",
    "print('total amount of sampled commits:', len(data_commiturls_sample))"
   ]
  },
  {
   "cell_type": "code",
   "execution_count": 76,
   "id": "2713c124",
   "metadata": {
    "scrolled": true
   },
   "outputs": [
    {
     "name": "stdout",
     "output_type": "stream",
     "text": [
      "https://github.com/GoogleCloudPlatform/asl-ml-immersion/commit/8ce0706cc0321b4f9b3a3fdd8bde142e13607eb9\n",
      "https://github.com/GoogleCloudPlatform/dataproc-templates/commit/606a3729332d1ef5fcfa94e9962efdf7cb28bc2b\n",
      "https://github.com/GoogleCloudPlatform/dataproc-templates/commit/a9e4ae1859708e045af13d4b84d35f128b2f4907\n",
      "https://github.com/GoogleCloudPlatform/vertex-ai-samples/commit/095b0bd6282d7817d5677c06f4d3c1fb2504f9d8\n",
      "https://github.com/GoogleCloudPlatform/vertex-ai-samples/commit/0d346b136e7d4cc6ee43a8528bf78a3ca5380c8d\n",
      "https://github.com/GoogleCloudPlatform/vertex-ai-samples/commit/0e811868d3d982bd88375f3f8c8b4c5f234a6aee\n",
      "https://github.com/GoogleCloudPlatform/vertex-ai-samples/commit/168c5c2f1561f40ca604029c3e34291ca21589cf\n",
      "https://github.com/GoogleCloudPlatform/vertex-ai-samples/commit/2c9c8db15c60b5c12abbb39e1fdf5e6fa9691e8c\n",
      "https://github.com/GoogleCloudPlatform/vertex-ai-samples/commit/351fc3e4d3a1a61a3f24c92a2e3f07e27b690fb7\n",
      "https://github.com/GoogleCloudPlatform/vertex-ai-samples/commit/389e80442663240d2386019d43beb4826afae13a\n",
      "https://github.com/GoogleCloudPlatform/vertex-ai-samples/commit/4c43755fb64a973ecf05c6dc5dd7dc60e1dfc302\n",
      "https://github.com/GoogleCloudPlatform/vertex-ai-samples/commit/68b53e0d328309f2194bf9879552e943a9007587\n",
      "https://github.com/GoogleCloudPlatform/vertex-ai-samples/commit/7808a843cc8c20eab38fbd7b5d2c98562df93104\n",
      "https://github.com/GoogleCloudPlatform/vertex-ai-samples/commit/785ca9f864f2521aec94551bce09ad4f5a2a33ce\n",
      "https://github.com/GoogleCloudPlatform/vertex-ai-samples/commit/9efcfa25e84343a1b3e7758149f25a2b97d6bc1e\n",
      "https://github.com/GoogleCloudPlatform/vertex-ai-samples/commit/a85753e1b746a54bd5b02dba51a0267367bac116\n",
      "https://github.com/GoogleCloudPlatform/vertex-ai-samples/commit/b85c24dca5eeb177915fb14eedae080a653ac4bf\n",
      "https://github.com/GoogleCloudPlatform/vertex-ai-samples/commit/e422dbdef20d5f8595afb6118b034106adc30d0f\n",
      "https://github.com/GoogleCloudPlatform/vertex-ai-samples/commit/f2a42aa66e163714e248730549a21484ffa50cef\n",
      "https://github.com/ITAM-DS/analisis-numerico-computo-cientifico/commit/8d8389d7d3749040f86efd43df232f1597d1ba57\n",
      "https://github.com/ITAM-DS/analisis-numerico-computo-cientifico/commit/d1f6f1a3f5fa565f8b602168ccd2fb0ceaa667f9\n",
      "https://github.com/Kaggle/learntools/commit/c0d20dee23f1ad77890923ee844f1ce07d0436ae\n",
      "https://github.com/Kaggle/learntools/commit/c104e83ef12bbbb94be473aec99c38c17a6ef4ab\n",
      "https://github.com/Nixtla/statsforecast/commit/25cb78e3fcb2cbeaa17196eb224beb0d28458c27\n",
      "https://github.com/Nixtla/statsforecast/commit/2b3773fdedd2eba191aac67306ef57be2a9c1ace\n",
      "https://github.com/Nixtla/statsforecast/commit/52ffa5601e9ce8ae781f6ae040b91580d00f8ae9\n",
      "https://github.com/Nixtla/statsforecast/commit/58e7dd45c3a3ea50cd01900099bac61094fe91a8\n",
      "https://github.com/Nixtla/statsforecast/commit/976d9c742664d6bc206497438715ec4ca3864a57\n",
      "https://github.com/Nixtla/statsforecast/commit/adda5baabf91bc38e560ba04ddd28d2af6342017\n",
      "https://github.com/Nixtla/statsforecast/commit/b1c5c65e8f21edd68d1f4df782e6158642e286c4\n",
      "https://github.com/Nixtla/statsforecast/commit/b2e8b09f01721ef77713b79397a059416c00a5a7\n",
      "https://github.com/Nixtla/statsforecast/commit/b31ef5675335a765ef97e394c91c293622268681\n",
      "https://github.com/Nixtla/statsforecast/commit/c9b48d2685f55ca81c4bf626c7c2f9ad7f10241a\n",
      "https://github.com/OSGeoLabBp/tutorials/commit/5631e8bcab86b2c738ec12d89b1f0a4db1d311db\n",
      "https://github.com/OpenMined/PySyft/commit/1e48b63bacb7f8f9df00281f4fe2a156de74b646\n",
      "https://github.com/OpenMined/PySyft/commit/2b16a631fd9d78a5bce011854f24f07b627138ce\n",
      "https://github.com/OpenMined/PySyft/commit/2b2c077f8dc20fe3e62699034022ba7d327ff605\n",
      "https://github.com/OpenMined/PySyft/commit/3ec2a7526b8150f224626d0474769d671f3501bb\n",
      "https://github.com/OpenMined/PySyft/commit/4efccf1e3f6fa82731d45b8e15e5b287feeb4e4f\n",
      "https://github.com/OpenMined/PySyft/commit/8c953664942638047bf26d73e35e2fc1e61cfacf\n",
      "https://github.com/OpenMined/PySyft/commit/af50468b936ba429aa6ce228860137a3f0194ced\n",
      "https://github.com/OpenMined/PySyft/commit/d2430552c09f8e933fafdc41f71ff5e48391b54c\n",
      "https://github.com/OpenMined/PySyft/commit/dec442fc5c426765a35fcd83673139aeb9d737a5\n",
      "https://github.com/Parallel-in-Time/pySDC/commit/082b20e2bfe1bdf87c4d91204b8e25ec255d78e4\n",
      "https://github.com/Parallel-in-Time/pySDC/commit/782b67cca608032c8fdb35def4837093ee842e9a\n",
      "https://github.com/agile-geoscience/welly/commit/f4a190d5ca2492f24d9264de68c30869c9faa754\n",
      "https://github.com/amkatrutsa/MIPT-Opt/commit/0784ebed5844682bd1f46eb192b3806b8717a935\n",
      "https://github.com/apache/beam/commit/4ffeae4d2b800f2df36d2ea2eab549f2204d5691\n",
      "https://github.com/cgpotts/cs224u/commit/b45e2c7b13f3e0ad4ed93696f4a7be175e783f66\n",
      "https://github.com/cihologramas/pyoptools/commit/81db64a0dcca43c78cdcc2f90edf4cc366823de8\n",
      "https://github.com/deepmind/mujoco/commit/6e256c03b78b9da33f1f6eff5d2fac84d51ea296\n",
      "https://github.com/estnltk/estnltk/commit/ac707eeeba6c08e57f4fa56a91c5d726f7469e38\n",
      "https://github.com/fastai/fastai/commit/11d82740cf656171949b78f253a16e6f5964c764\n",
      "https://github.com/fastai/fastai/commit/4a46669b3f3ffe33e9c7d76d5bfaf558767532c5\n",
      "https://github.com/fastai/fastai/commit/d235bb8b0d1f3d882ea71255af62039d19db8505\n",
      "https://github.com/gautam1858/tensorflow/commit/4646f916846c182a08a718fe28b74156f9d2da97\n",
      "https://github.com/google/flax/commit/43c3c29b5dc341e053f349c88108410a0aa6a847\n",
      "https://github.com/google/jax-md/commit/77083ddf07ac71babf83e65ad9a89d359646f716\n",
      "https://github.com/google/jax/commit/62c16da81fed05d7e0e0405ac3cf2e5a0be04573\n",
      "https://github.com/greglandrum/rdkit/commit/b587a65a27c94bef028e518de3e10124749b5ea4\n",
      "https://github.com/hpparvi/PyTransit/commit/58dff332322d35fefc2989df6c6c31fe4e1b836d\n",
      "https://github.com/idaholab/raven/commit/cb6fb8f366fa457395d1d2e5f6acd451440c6fee\n",
      "https://github.com/intel-analytics/BigDL/commit/ef6d494cb088b2bbd2e9d525917314dc5aa86c0f\n",
      "https://github.com/jdfekete/progressivis/commit/d20cdc80813f92e062804943fcfec5750c568744\n",
      "https://github.com/jhamrick/nbgrader/commit/7f61c87a68e04064a00cdf3429c33a220ddd6201\n",
      "https://github.com/karlstroetmann/Artificial-Intelligence/commit/e8de8fadc5a94664ebb89d27c99a1d0be09b3912\n",
      "https://github.com/keras-team/keras-io/commit/2f5ac74d8464d2a89612e506c24351e2ae0c7632\n",
      "https://github.com/keras-team/keras-io/commit/56f4c8e7d64a5508a9fc702e08bd13dfa7c0b072\n",
      "https://github.com/keras-team/keras-io/commit/9c1f0821a517b34ec09f854af5f6234793fe7e9b\n",
      "https://github.com/keras-team/keras-io/commit/d295b88f723dfc25970bd73e6c95fb9063b499ca\n",
      "https://github.com/kingsgeocomp/code-camp/commit/fd3e9a9aa52d160fde05897ea23b9a8ccd2ce66b\n",
      "https://github.com/mbakker7/timml/commit/82e118b9ff4410756cd0e4ceb1a147deeac50810\n",
      "https://github.com/misken/hillmaker/commit/800c9e2391473b969618e0ef81fb837afe2a33e6\n",
      "https://github.com/mozilla/github-org-scripts/commit/61d4c707a8942bbe175e8b70cfbe1f6bd4f9c012\n",
      "https://github.com/neutronimaging/imagingsuite/commit/a47d55a4ff12bb162fbb0b328d3556a37a33a460\n",
      "https://github.com/openstreams/wflow/commit/c24c589a94babdc51d191095864e60b1c9109013\n",
      "https://github.com/paolodedios/tensorflow/commit/cd2b985bf2d0fea2250884852e1013973b36599e\n",
      "https://github.com/pgmpy/pgmpy_notebook/commit/0f72f105ece45687ef8a8339db0fb16189a309e6\n",
      "https://github.com/pmgbergen/porepy/commit/1c64a397b6623ae1b26d8958eba33e9b3c37ba49\n",
      "https://github.com/probml/pyprobml/commit/9ae8ec9992025ba2397b7197d328cc1686360a95\n",
      "https://github.com/quantumlib/Cirq/commit/f95b926eb9752d55198ad5cf4ede6e2987e2085d\n",
      "https://github.com/ray-project/ray/commit/e48d3819266acb7bca74d8dce07897fff570a80f\n",
      "https://github.com/readsoftware/read/commit/d411f3173e127005546dc29795d88edb56f8ff94\n",
      "https://github.com/relf/smt/commit/c222dd8637c78fa19435b971947043db2b66bf55\n",
      "https://github.com/scikit-rf/scikit-rf/commit/4f9857f966ef2122d88f6734f48ca217a6565054\n",
      "https://github.com/scikit-rf/scikit-rf/commit/66a88d78f154f2c79ed29c4e0f14655032684b53\n",
      "https://github.com/spectralDNS/shenfun/commit/ac1944019332bba8485e5444bac7547211f9a52f\n",
      "https://github.com/tensorflow/codelabs/commit/625fb402539a17148d5787de9e91bd8266aafb90\n",
      "https://github.com/tensorflow/docs-l10n/commit/16d31d633c7d3f58253942a28ba70296aef31213\n",
      "https://github.com/tensorflow/docs-l10n/commit/1f2a2802286fdffd2a862b7deb5d9460ad29442a\n",
      "https://github.com/tensorflow/docs-l10n/commit/4add0f0e0b180be0a45b96a372c603b34cf849e7\n",
      "https://github.com/tensorflow/docs-l10n/commit/9d782b59310cd5f49145c6dd759f4d59159d2610\n",
      "https://github.com/tensorflow/docs/commit/328016a8506402365ee38472b1d179549243779c\n",
      "https://github.com/tensorflow/docs/commit/ad956898ad51cf0c918aa68fc9319baff26097ce\n",
      "https://github.com/tensorflow/docs/commit/cb26a170e74159ebbc75aef6371e5669c241f83d\n",
      "https://github.com/tensorflow/neural-structured-learning/commit/06fc0be85a62d988cbe0cbf2259951a2b5c706ce\n",
      "https://github.com/tensorflow/tensorboard/commit/f45fdd667a63d0e6b4aac471556583e5f2b7dac2\n",
      "https://github.com/tensorflow/tensorflow-pywrap_saved_model/commit/e85d3a7dd1dc88541e035b03dd0e22db1cc4a298\n",
      "https://github.com/yangw1234/BigDL/commit/f4c6ece282b91e7b11288588af8f1cdb1ffb4678\n"
     ]
    }
   ],
   "source": [
    "for i in data_commiturls_sample:\n",
    "    print(Url(i))"
   ]
  },
  {
   "cell_type": "markdown",
   "id": "717fe983",
   "metadata": {},
   "source": [
    "Found coding errors:\n",
    "\n",
    "- shape error and still not fixed: [OpenMined/PySyft](https://github.com/OpenMined/PySyft/commit/f18baa0e519f12ac009579a4dc6d64b074eb6ffc)\n",
    "- maybe a fixed error: [google/learned_optimization](https://github.com/google/learned_optimization/commit/47c990af061cab47f8d6fbd871f6d5d43827cdcd)"
   ]
  },
  {
   "cell_type": "code",
   "execution_count": 58,
   "id": "e9cb8cb9",
   "metadata": {},
   "outputs": [],
   "source": [
    "# save the checked ones\n",
    "\n",
    "checked_dicts = []\n",
    "# for i in range(30):\n",
    "#     d = {'commit':data_commits_sample[i], 'url':urls[i]}\n",
    "#     checked_dicts.append(d)\n",
    "\n",
    "import csv \n",
    "field_names = ['commit', 'url'] \n",
    "with open('C:/Users/yirwa29/Downloads/jupyter_nbs_saml/target_nbs/checked.csv', 'a') as csvfile: \n",
    "    writer = csv.DictWriter(csvfile, fieldnames = field_names) \n",
    "    for x in checked_dicts:\n",
    "        writer.writerow(x)"
   ]
  },
  {
   "cell_type": "code",
   "execution_count": null,
   "id": "0f871a57",
   "metadata": {},
   "outputs": [],
   "source": []
  }
 ],
 "metadata": {
  "kernelspec": {
   "display_name": "Python 3 (ipykernel)",
   "language": "python",
   "name": "python3"
  },
  "language_info": {
   "codemirror_mode": {
    "name": "ipython",
    "version": 3
   },
   "file_extension": ".py",
   "mimetype": "text/x-python",
   "name": "python",
   "nbconvert_exporter": "python",
   "pygments_lexer": "ipython3",
   "version": "3.11.5"
  }
 },
 "nbformat": 4,
 "nbformat_minor": 5
}
