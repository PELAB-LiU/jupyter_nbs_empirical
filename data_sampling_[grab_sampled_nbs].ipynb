{
 "cells": [
  {
   "cell_type": "code",
   "execution_count": 4,
   "id": "1d332576",
   "metadata": {},
   "outputs": [
    {
     "name": "stderr",
     "output_type": "stream",
     "text": [
      "4360it [00:00, 17383.07it/s]\n"
     ]
    },
    {
     "name": "stdout",
     "output_type": "stream",
     "text": [
      "Moved 0/0 notebooks from \"C:\\Users\\yirwa29\\Downloads\\data_jupyter_nbs_empirical\\Kaggle\\nb_with_error\" to \"C:\\Users\\yirwa29\\Downloads\\data_jupyter_nbs_empirical\\Manual_labeing\\resampled_nbs\\kaggle notebooks\".\n"
     ]
    },
    {
     "name": "stderr",
     "output_type": "stream",
     "text": [
      "40461it [00:02, 14966.50it/s] \n"
     ]
    },
    {
     "name": "stdout",
     "output_type": "stream",
     "text": [
      "Moved 0/2 notebooks from \"C:\\Users\\yirwa29\\Downloads\\data_jupyter_nbs_empirical\\GitHub\\nb_with_error\\nbdata_g_error_200-311\" to \"C:\\Users\\yirwa29\\Downloads\\data_jupyter_nbs_empirical\\Manual_labeing\\resampled_nbs\\github notebooks\".\n"
     ]
    },
    {
     "name": "stderr",
     "output_type": "stream",
     "text": [
      "71959it [00:05, 14325.75it/s] \n"
     ]
    },
    {
     "name": "stdout",
     "output_type": "stream",
     "text": [
      "Moved 2/2 notebooks from \"C:\\Users\\yirwa29\\Downloads\\data_jupyter_nbs_empirical\\GitHub\\nb_with_error\\nbdata_g_error_0-199\" to \"C:\\Users\\yirwa29\\Downloads\\data_jupyter_nbs_empirical\\Manual_labeing\\resampled_nbs\\github notebooks\".\n",
      "Found 100.00% of the NBs in C:\\Users\\yirwa29\\Downloads\\data_jupyter_nbs_empirical\\Manual_labeing\\resampled_nbs.\n"
     ]
    },
    {
     "name": "stderr",
     "output_type": "stream",
     "text": [
      "2it [00:00, 74.96it/s]\n"
     ]
    }
   ],
   "source": [
    "from pathlib import Path\n",
    "import utils.config as config\n",
    "\n",
    "from utils.grab_sample_nbs.filter_kaggle_vs_github_files import do as filter_kaggle_vs_github_files\n",
    "from utils.grab_sample_nbs.grab_python_files import take_sample as grab_python_files\n",
    "from utils.grab_sample_nbs.separate_folders_per_cluster import do as seperate_folders_per_cluster\n",
    "\n",
    "n_iter = 6 # 0, 1, 2\n",
    "sheet = config.path_default.joinpath('tmp/resampled_new_{}.csv'.format(n_iter+1)) #sample_resampled\n",
    "# sheet = config.path_default.joinpath('tmp/sample_resampled.csv')\n",
    "\n",
    "kaggle_data_folders = [config.path_default.joinpath('Kaggle/nb_with_error')]\n",
    "gh_data_folders = [\n",
    "    config.path_default.joinpath('GitHub/nb_with_error/nbdata_g_error_200-311'),\n",
    "    config.path_default.joinpath('GitHub/nb_with_error/nbdata_g_error_0-199')\n",
    "]\n",
    "\n",
    "sample_folder = config.path_default.joinpath(\"Manual_labeing/resampled_nbs\")\n",
    "\n",
    "filter_kaggle_vs_github_files(sample_folder, sheet)\n",
    "grab_python_files(sample_folder, kaggle_data_folders, gh_data_folders)\n",
    "seperate_folders_per_cluster(sample_folder, sheet)"
   ]
  },
  {
   "cell_type": "code",
   "execution_count": null,
   "id": "51494adf",
   "metadata": {},
   "outputs": [],
   "source": []
  }
 ],
 "metadata": {
  "kernelspec": {
   "display_name": "Python 3 (ipykernel)",
   "language": "python",
   "name": "python3"
  },
  "language_info": {
   "codemirror_mode": {
    "name": "ipython",
    "version": 3
   },
   "file_extension": ".py",
   "mimetype": "text/x-python",
   "name": "python",
   "nbconvert_exporter": "python",
   "pygments_lexer": "ipython3",
   "version": "3.11.5"
  }
 },
 "nbformat": 4,
 "nbformat_minor": 5
}
