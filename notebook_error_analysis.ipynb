{
 "cells": [
  {
   "cell_type": "markdown",
   "id": "0d037800",
   "metadata": {},
   "source": [
    "## 1. Error analysis for nbs from github - the stack v1\n",
    "\n",
    "https://huggingface.co/datasets/bigcode/the-stack-dedup/tree/main/data/jupyter-notebook\n"
   ]
  },
  {
   "cell_type": "code",
   "execution_count": 2,
   "id": "961e2799",
   "metadata": {},
   "outputs": [
    {
     "data": {
      "text/html": [
       "<div>\n",
       "<style scoped>\n",
       "    .dataframe tbody tr th:only-of-type {\n",
       "        vertical-align: middle;\n",
       "    }\n",
       "\n",
       "    .dataframe tbody tr th {\n",
       "        vertical-align: top;\n",
       "    }\n",
       "\n",
       "    .dataframe thead th {\n",
       "        text-align: right;\n",
       "    }\n",
       "</style>\n",
       "<table border=\"1\" class=\"dataframe\">\n",
       "  <thead>\n",
       "    <tr style=\"text-align: right;\">\n",
       "      <th></th>\n",
       "      <th>fname</th>\n",
       "      <th>ename</th>\n",
       "      <th>evalue</th>\n",
       "      <th>traceback</th>\n",
       "    </tr>\n",
       "  </thead>\n",
       "  <tbody>\n",
       "    <tr>\n",
       "      <th>0</th>\n",
       "      <td>00000-101-cookie-clicker-v2-checkpoint.ipynb</td>\n",
       "      <td>KeyboardInterrupt</td>\n",
       "      <td>NaN</td>\n",
       "      <td>['--------------------------------------------...</td>\n",
       "    </tr>\n",
       "    <tr>\n",
       "      <th>1</th>\n",
       "      <td>00000-1012-demand-forecasting-data-prep-from-s...</td>\n",
       "      <td>OperationalError</td>\n",
       "      <td>FATAL:  no pg_hba.conf entry for host \"75.166....</td>\n",
       "      <td>['--------------------------------------------...</td>\n",
       "    </tr>\n",
       "    <tr>\n",
       "      <th>2</th>\n",
       "      <td>00000-1017-heatmapseq2seq.ipynb</td>\n",
       "      <td>ValueError</td>\n",
       "      <td>x and y must have same first dimension, but ha...</td>\n",
       "      <td>['--------------------------------------------...</td>\n",
       "    </tr>\n",
       "    <tr>\n",
       "      <th>3</th>\n",
       "      <td>00000-1023-crawler-20190515-20190516.ipynb</td>\n",
       "      <td>ConnectionError</td>\n",
       "      <td>HTTPSConnectionPool(host='www.backpackers.com....</td>\n",
       "      <td>['--------------------------------------------...</td>\n",
       "    </tr>\n",
       "    <tr>\n",
       "      <th>4</th>\n",
       "      <td>00000-1033-peer-solution-predicting-survival-t...</td>\n",
       "      <td>URLError</td>\n",
       "      <td>&lt;urlopen error [Errno 11001] getaddrinfo failed&gt;</td>\n",
       "      <td>['--------------------------------------------...</td>\n",
       "    </tr>\n",
       "  </tbody>\n",
       "</table>\n",
       "</div>"
      ],
      "text/plain": [
       "                                               fname              ename  \\\n",
       "0       00000-101-cookie-clicker-v2-checkpoint.ipynb  KeyboardInterrupt   \n",
       "1  00000-1012-demand-forecasting-data-prep-from-s...   OperationalError   \n",
       "2                    00000-1017-heatmapseq2seq.ipynb         ValueError   \n",
       "3         00000-1023-crawler-20190515-20190516.ipynb    ConnectionError   \n",
       "4  00000-1033-peer-solution-predicting-survival-t...           URLError   \n",
       "\n",
       "                                              evalue  \\\n",
       "0                                                NaN   \n",
       "1  FATAL:  no pg_hba.conf entry for host \"75.166....   \n",
       "2  x and y must have same first dimension, but ha...   \n",
       "3  HTTPSConnectionPool(host='www.backpackers.com....   \n",
       "4   <urlopen error [Errno 11001] getaddrinfo failed>   \n",
       "\n",
       "                                           traceback  \n",
       "0  ['--------------------------------------------...  \n",
       "1  ['--------------------------------------------...  \n",
       "2  ['--------------------------------------------...  \n",
       "3  ['--------------------------------------------...  \n",
       "4  ['--------------------------------------------...  "
      ]
     },
     "execution_count": 2,
     "metadata": {},
     "output_type": "execute_result"
    }
   ],
   "source": [
    "# read in all errors from the file\n",
    "import pandas as pd\n",
    "\n",
    "df2_err = pd.read_csv('C:/Users/yirwa29/Downloads/Dataset-Nb/nberror_g_all_p3.csv', encoding='utf-8')\n",
    "df2_err = df2_err[df2_err['language']=='python'][['fname','ename','evalue','traceback']]\n",
    "df2_err.head()"
   ]
  },
  {
   "cell_type": "code",
   "execution_count": 3,
   "id": "ad5bcf03",
   "metadata": {},
   "outputs": [
    {
     "data": {
      "text/plain": [
       "fname        177540\n",
       "ename        177396\n",
       "evalue       158707\n",
       "traceback    177540\n",
       "dtype: int64"
      ]
     },
     "execution_count": 3,
     "metadata": {},
     "output_type": "execute_result"
    }
   ],
   "source": [
    "df2_err.count()"
   ]
  },
  {
   "cell_type": "code",
   "execution_count": 6,
   "id": "f35dde68",
   "metadata": {},
   "outputs": [
    {
     "data": {
      "text/plain": [
       "109063"
      ]
     },
     "execution_count": 6,
     "metadata": {},
     "output_type": "execute_result"
    }
   ],
   "source": [
    "df2_err[\"fname\"].nunique()"
   ]
  },
  {
   "cell_type": "code",
   "execution_count": 5,
   "id": "28fc0bfb",
   "metadata": {},
   "outputs": [
    {
     "data": {
      "text/plain": [
       "1520"
      ]
     },
     "execution_count": 5,
     "metadata": {},
     "output_type": "execute_result"
    }
   ],
   "source": [
    "df2_err[\"ename\"].nunique()"
   ]
  },
  {
   "cell_type": "code",
   "execution_count": 7,
   "id": "891e508e",
   "metadata": {},
   "outputs": [
    {
     "data": {
      "text/plain": [
       "<Axes: xlabel='ename'>"
      ]
     },
     "execution_count": 7,
     "metadata": {},
     "output_type": "execute_result"
    },
    {
     "data": {
      "image/png": "[encoded data removed]",
      "text/plain": [
       "<Figure size 1200x500 with 1 Axes>"
      ]
     },
     "metadata": {},
     "output_type": "display_data"
    }
   ],
   "source": [
    "df2_err[\"ename\"].groupby([df2_err[\"ename\"]]).count().sort_values(ascending=0)[:50].plot(kind=\"bar\", figsize=(12,5))"
   ]
  },
  {
   "cell_type": "code",
   "execution_count": 8,
   "id": "de8ecc3e",
   "metadata": {},
   "outputs": [
    {
     "data": {
      "text/plain": [
       "<Axes: xlabel='ename'>"
      ]
     },
     "execution_count": 8,
     "metadata": {},
     "output_type": "execute_result"
    },
    {
     "data": {
      "image/png": "[encoded data removed]",
      "text/plain": [
       "<Figure size 800x400 with 1 Axes>"
      ]
     },
     "metadata": {},
     "output_type": "display_data"
    }
   ],
   "source": [
    "df2_err[\"ename\"].groupby([df2_err[\"ename\"]]).count().sort_values(ascending=0)[:10].plot(kind=\"bar\", figsize=(8,4))"
   ]
  },
  {
   "cell_type": "markdown",
   "id": "4566c1f6",
   "metadata": {},
   "source": [
    "### 1.1 Clustering with K-Means"
   ]
  },
  {
   "cell_type": "code",
   "execution_count": null,
   "id": "edca12f0",
   "metadata": {},
   "outputs": [],
   "source": [
    "#!python -m spacy download en_core_web_trf"
   ]
  },
  {
   "cell_type": "code",
   "execution_count": 4,
   "id": "5be5e8c5",
   "metadata": {},
   "outputs": [],
   "source": [
    "import pandas as pd \n",
    "import cluster_util\n",
    "\n",
    "df2_err = pd.read_csv('C:/Users/yirwa29/Downloads/Dataset-Nb/nberror_g_all_p3.csv', encoding='utf-8')\n",
    "df2_err = df2_err[df2_err['language']=='python'][['fname','ename','evalue','traceback']]"
   ]
  },
  {
   "cell_type": "markdown",
   "id": "e24bf9ca",
   "metadata": {},
   "source": [
    "#### NameError, evalue"
   ]
  },
  {
   "cell_type": "code",
   "execution_count": 3,
   "id": "e1925911",
   "metadata": {},
   "outputs": [],
   "source": [
    "import spacy"
   ]
  },
  {
   "cell_type": "code",
   "execution_count": null,
   "id": "85386010",
   "metadata": {},
   "outputs": [],
   "source": [
    "import re\n",
    "nlp = spacy.load('en_core_web_trf')\n",
    "\n",
    "def preprocess_text(text, nlp):\n",
    "    # remove special chars\n",
    "    text = re.sub(\"[^A-Za-z0-9_]+\", \" \", str(text))\n",
    "    \n",
    "    # remove stopwords\n",
    "    doc = nlp(text)\n",
    "    res = []\n",
    "    for token in doc:\n",
    "        if token.is_stop != True:\n",
    "            res.append(token.text.lower())\n",
    "    return \" \".join(res)\n",
    "\n",
    "df2_err['evalue_tokenized'] = df2_err['evalue'].apply(preprocess_text, nlp=nlp)"
   ]
  },
  {
   "cell_type": "code",
   "execution_count": null,
   "id": "0e71443c",
   "metadata": {},
   "outputs": [],
   "source": [
    "df2_err"
   ]
  },
  {
   "cell_type": "code",
   "execution_count": null,
   "id": "66a655bb",
   "metadata": {},
   "outputs": [],
   "source": [
    "df2_err.to_csv(\"C:/Users/yirwa29/Downloads/Dataset-Nb/nbdata_k_error/nberror_g_evaluetokenized.csv\", index=False, encoding='utf-8')"
   ]
  },
  {
   "cell_type": "code",
   "execution_count": null,
   "id": "665e4f9f",
   "metadata": {},
   "outputs": [],
   "source": []
  },
  {
   "cell_type": "code",
   "execution_count": null,
   "id": "eb5d3d40",
   "metadata": {},
   "outputs": [],
   "source": [
    "from sklearn.feature_extraction.text import TfidfVectorizer \n",
    "\n",
    "vectorizer = TfidfVectorizer(stop_words='english')\n",
    "X_tfidf = vectorizer.fit_transform(df2_err['evalue_tokenized']).toarray()"
   ]
  },
  {
   "cell_type": "code",
   "execution_count": null,
   "id": "62086445",
   "metadata": {},
   "outputs": [],
   "source": []
  },
  {
   "cell_type": "code",
   "execution_count": null,
   "id": "1910c8b2",
   "metadata": {},
   "outputs": [],
   "source": [
    "pip install sentence-transformers"
   ]
  },
  {
   "cell_type": "code",
   "execution_count": null,
   "id": "17d77463",
   "metadata": {},
   "outputs": [],
   "source": [
    "from sentence_transformers import SentenceTransformer\n",
    "model = SentenceTransformer(\"all-MiniLM-L6-v2\")\n",
    "X_transformers = np.vstack(df2_err['evalue_tokenized'].apply(lambda text: model.encode(text, convert_to_numpy=True).flatten()))"
   ]
  },
  {
   "cell_type": "code",
   "execution_count": null,
   "id": "a087bbb6",
   "metadata": {},
   "outputs": [],
   "source": []
  },
  {
   "cell_type": "code",
   "execution_count": null,
   "id": "7b8d9266",
   "metadata": {},
   "outputs": [],
   "source": [
    "from numpy import savetxt, loadtxt\n",
    "import gensim\n",
    "\n",
    "glove_vectors = gensim.downloader.load('conceptnet-numberbatch-17-06-300') # https://github.com/piskvorky/gensim-data\n",
    "print('Loaded %s word vectors from GloVe.' % len(glove_vectors))  # 1,193,514\n",
    "\n",
    "def sentence_embedding(sentence, max_length = 5000, embedding_dim = 200):\n",
    "    words = sentence.split()\n",
    "    num_words = min(len(words), max_length)\n",
    "    embedding_sentence = np.zeros((num_words, embedding_dim))\n",
    "    \n",
    "    for i in range(num_words):\n",
    "        word = words[i]\n",
    "        if word in glove_vectors.key_to_index:\n",
    "            embedding_sentence[i] = glove_vectors[word]\n",
    "            \n",
    "    return embedding_sentence.flatten()\n",
    "\n",
    "X_glove = np.vstack(df['evalue_tokenized'].apply(lambda sentence: sentence_embedding(sentence)))"
   ]
  },
  {
   "cell_type": "code",
   "execution_count": null,
   "id": "5ffc06c7",
   "metadata": {},
   "outputs": [],
   "source": []
  },
  {
   "cell_type": "code",
   "execution_count": 6,
   "id": "1a35698c",
   "metadata": {},
   "outputs": [],
   "source": [
    "df2_err_ename = df2_err[df2_err['ename']=='NameError']\n",
    "err_descs = df2_err_ename['evalue'].values.astype('U') # traceback: memory error"
   ]
  },
  {
   "cell_type": "code",
   "execution_count": null,
   "id": "10ff3e24",
   "metadata": {},
   "outputs": [],
   "source": []
  },
  {
   "cell_type": "code",
   "execution_count": null,
   "id": "b03d14e6",
   "metadata": {},
   "outputs": [],
   "source": [
    "# elbow method for optimal value of k in kmeans\n",
    "\n",
    "distortions = []\n",
    "inertias = []\n",
    "mapping1 = {}\n",
    "mapping2 = {}\n",
    "K = range(1, 10)\n",
    " \n",
    "for k in K:\n",
    "    # Building and fitting the model\n",
    "    kmeanModel = KMeans(n_clusters=k).fit(X)\n",
    "    kmeanModel.fit(X)\n",
    " \n",
    "    distortions.append(sum(np.min(cdist(X, kmeanModel.cluster_centers_,\n",
    "                                        'euclidean'), axis=1)) / X.shape[0])\n",
    "    inertias.append(kmeanModel.inertia_)\n",
    " \n",
    "    mapping1[k] = sum(np.min(cdist(X, kmeanModel.cluster_centers_,\n",
    "                                   'euclidean'), axis=1)) / X.shape[0]\n",
    "    mapping2[k] = kmeanModel.inertia_\n",
    "    \n",
    "plt.plot(K, distortions, 'bx-')\n",
    "plt.xlabel('Values of K')\n",
    "plt.ylabel('Distortion')\n",
    "plt.title('The Elbow Method using Distortion')\n",
    "plt.show()"
   ]
  },
  {
   "cell_type": "code",
   "execution_count": null,
   "id": "b6f597b9",
   "metadata": {},
   "outputs": [],
   "source": []
  },
  {
   "cell_type": "code",
   "execution_count": null,
   "id": "0f67fa92",
   "metadata": {},
   "outputs": [],
   "source": []
  },
  {
   "cell_type": "code",
   "execution_count": null,
   "id": "e4e6b656",
   "metadata": {},
   "outputs": [],
   "source": [
    "num_clusters = 2\n",
    "_, res, _ = cluster_util.cluster_kmeans(input_texts=err_descs, n_clusters=num_clusters) # km_model, res, vectorized_descs\n",
    "# plot the results \n",
    "# cluster_util.plot_clusters(vectorized_descs, num_clusters, km_model.labels_)"
   ]
  },
  {
   "cell_type": "code",
   "execution_count": 7,
   "id": "e9c5890a",
   "metadata": {},
   "outputs": [
    {
     "name": "stdout",
     "output_type": "stream",
     "text": [
      "cluster 0 has 50 samples\n",
      "                              errdesc  cluster\n",
      "36857     name 'error' is not defined        0\n",
      "30187     name 'error' is not defined        0\n",
      "166       name 'error' is not defined        0\n",
      "17326     name 'error' is not defined        0\n",
      "694       name 'error' is not defined        0\n",
      "1979      name 'error' is not defined        0\n",
      "32475     name 'error' is not defined        0\n",
      "34312     name 'error' is not defined        0\n",
      "31205  This is the raised name error.        0\n",
      "25804     name 'error' is not defined        0\n",
      "\n",
      "\n",
      "cluster 1 has 36955 samples\n",
      "                                   errdesc  cluster\n",
      "7019              name 'df' is not defined        1\n",
      "31697           name 'tmax' is not defined        1\n",
      "20632            name 'nlp' is not defined        1\n",
      "10551             name 'np' is not defined        1\n",
      "35938             name 'bb' is not defined        1\n",
      "11316          name 'model' is not defined        1\n",
      "23866           name 'set1' is not defined        1\n",
      "5088             name 'plt' is not defined        1\n",
      "29311     name 'SqlService' is not defined        1\n",
      "27845  name 'obj_a_aspects' is not defined        1\n",
      "\n",
      "\n"
     ]
    }
   ],
   "source": [
    "cluster_util.print_clusters(num_clusters, res)"
   ]
  },
  {
   "cell_type": "markdown",
   "id": "b1d38706",
   "metadata": {},
   "source": [
    "##### Note:\n",
    "\n",
    "found **ignored** values in evalue column in a cluster, but they seem have evalue in traceback. I extracted those and retried.\n",
    "\n",
    "##### No obvious clusters found in NameError."
   ]
  },
  {
   "cell_type": "markdown",
   "id": "95575b46",
   "metadata": {},
   "source": [
    "#### TypeError, evalue"
   ]
  },
  {
   "cell_type": "code",
   "execution_count": 16,
   "id": "581fd1a7",
   "metadata": {},
   "outputs": [],
   "source": [
    "df2_err_ename = df2_err[df2_err['ename']=='TypeError']\n",
    "err_descs = df2_err_ename['evalue'].values.astype('U') # traceback: memory error"
   ]
  },
  {
   "cell_type": "code",
   "execution_count": 17,
   "id": "a71c96aa",
   "metadata": {},
   "outputs": [
    {
     "name": "stdout",
     "output_type": "stream",
     "text": [
      "cluster 0 has 1488 samples\n",
      "                                             errdesc  cluster\n",
      "11659    can only concatenate str (not \"int\") to str        0\n",
      "8625                    'int' object is not iterable        0\n",
      "4428                    'str' object is not callable        0\n",
      "12026    can only concatenate str (not \"int\") to str        0\n",
      "21289    can only concatenate str (not \"int\") to str        0\n",
      "6557           cannot unpack non-iterable int object        0\n",
      "14131                   'str' object is not callable        0\n",
      "9622                            must be str, not int        0\n",
      "9063     can only concatenate str (not \"int\") to str        0\n",
      "16412  can only concatenate str (not \"float\") to str        0\n",
      "\n",
      "\n",
      "cluster 1 has 2519 samples\n",
      "                                                 errdesc  cluster\n",
      "18588  emptyFunction() takes 0 positional arguments b...        1\n",
      "20039  field() takes 0 positional arguments but 1 was...        1\n",
      "1419   emptyFunction() takes 0 positional arguments b...        1\n",
      "3752   emptyFunction() takes 0 positional arguments b...        1\n",
      "3308   emptyFunction() takes 0 positional arguments b...        1\n",
      "1512   emptyFunction() takes 0 positional arguments b...        1\n",
      "3525   emptyFunction() takes 0 positional arguments b...        1\n",
      "3748   emptyFunction() takes 0 positional arguments b...        1\n",
      "5311   emptyFunction() takes 0 positional arguments b...        1\n",
      "5024   emptyFunction() takes 0 positional arguments b...        1\n",
      "\n",
      "\n",
      "cluster 2 has 3008 samples\n",
      "                                       errdesc  cluster\n",
      "16035     object of type 'Sample' has no len()        2\n",
      "6764            'tuple' object is not callable        2\n",
      "6350            'Human' object is not callable        2\n",
      "22486        object of type 'int' has no len()        2\n",
      "18095  'generator' object is not subscriptable        2\n",
      "21724            'dict' object is not callable        2\n",
      "1964    'NoneType' object is not subscriptable        2\n",
      "13224        object of type 'int' has no len()        2\n",
      "10881        'NoneType' object is not callable        2\n",
      "21954       'DataFrame' object is not callable        2\n",
      "\n",
      "\n",
      "cluster 3 has 1944 samples\n",
      "                                               errdesc  cluster\n",
      "6338   'tuple' object does not support item assignment        3\n",
      "4682   'tuple' object does not support item assignment        3\n",
      "15872    'str' object does not support item assignment        3\n",
      "12859    'tuple' object does not support item deletion        3\n",
      "5968   'tuple' object does not support item assignment        3\n",
      "1836   'tuple' object does not support item assignment        3\n",
      "9164   'tuple' object does not support item assignment        3\n",
      "17380  'tuple' object does not support item assignment        3\n",
      "8144     'str' object does not support item assignment        3\n",
      "22     'tuple' object does not support item assignment        3\n",
      "\n",
      "\n",
      "cluster 4 has 9320 samples\n",
      "                                                 errdesc  cluster\n",
      "11204  __init__() got an unexpected keyword argument ...        4\n",
      "18967  f() missing 1 required positional argument: '_ps'        4\n",
      "18096       strftime() argument 1 must be str, not tuple        4\n",
      "17388  make_csv_dataset_v2() got an unexpected keywor...        4\n",
      "1778                      new(): invalid data type 'str'        4\n",
      "22079  plot_e() missing 1 required positional argumen...        4\n",
      "16379                 reload() argument must be a module        4\n",
      "5519                array([1.]) is not JSON serializable        4\n",
      "12362  discriminator() got an unexpected keyword argu...        4\n",
      "10953  cannot insert an item into a CategoricalIndex ...        4\n",
      "\n",
      "\n",
      "cluster 5 has 612 samples\n",
      "                                                 errdesc  cluster\n",
      "17472  list indices must be integers or slices, not L...        5\n",
      "2245   list indices must be integers or slices, not t...        5\n",
      "2776                     Vector indices must be integers        5\n",
      "22322  list indices must be integers or slices, not t...        5\n",
      "2768    list indices must be integers or slices, not str        5\n",
      "9082   list indices must be integers or slices, not t...        5\n",
      "12324   list indices must be integers or slices, not str        5\n",
      "19362                    string indices must be integers        5\n",
      "9252   slice indices must be integers or None or have...        5\n",
      "7054                     string indices must be integers        5\n",
      "\n",
      "\n",
      "cluster 6 has 1199 samples\n",
      "                                                 errdesc  cluster\n",
      "10839                      'list' object is not callable        6\n",
      "528        can only concatenate list (not \"int\") to list        6\n",
      "11078                   unhashable type: 'numpy.ndarray'        6\n",
      "11097                            unhashable type: 'list'        6\n",
      "7296                             unhashable type: 'list'        6\n",
      "1748       can only concatenate list (not \"str\") to list        6\n",
      "18889      can only concatenate list (not \"int\") to list        6\n",
      "17307      can only concatenate list (not \"int\") to list        6\n",
      "23394                            unhashable type: 'list'        6\n",
      "18277  unsupported operand type(s) for divmod(): 'lis...        6\n",
      "\n",
      "\n",
      "cluster 7 has 1701 samples\n",
      "                                                 errdesc  cluster\n",
      "8668   unsupported operand type(s) for *: 'int' and '...        7\n",
      "21976  unsupported operand type(s) for &: 'float' and...        7\n",
      "21714  unsupported operand type(s) for +: 'dict' and ...        7\n",
      "12697  unsupported operand type(s) for +: 'int' and '...        7\n",
      "5554   unsupported operand type(s) for -: 'str' and '...        7\n",
      "23533  unsupported operand type(s) for /: 'str' and '...        7\n",
      "17011  unsupported operand type(s) for -: 'float' and...        7\n",
      "12920  unsupported operand type(s) for +: 'int' and '...        7\n",
      "3964   unsupported operand type(s) for +: 'int' and '...        7\n",
      "22724  unsupported operand type(s) for ** or pow(): '...        7\n",
      "\n",
      "\n",
      "cluster 8 has 1098 samples\n",
      "                                                 errdesc  cluster\n",
      "14976                object of type 'float' has no len()        8\n",
      "15210  Image data of dtype object cannot be converted...        8\n",
      "9936   'float' object cannot be interpreted as an int...        8\n",
      "11817  'Tensor' object cannot be interpreted as an in...        8\n",
      "7690   only integer scalar arrays can be converted to...        8\n",
      "260    __init__(): incompatible constructor arguments...        8\n",
      "15175                     'float' object is not iterable        8\n",
      "8503               bad operand type for unary ~: 'float'        8\n",
      "5490                      'float' object is not callable        8\n",
      "4262                                 a float is required        8\n",
      "\n",
      "\n",
      "cluster 9 has 730 samples\n",
      "                                                 errdesc  cluster\n",
      "13451  '>' not supported between instances of 'str' a...        9\n",
      "21527  '>' not supported between instances of 'list' ...        9\n",
      "12912  '<' not supported between instances of 'int' a...        9\n",
      "23278  ufunc 'isnan' not supported for the input type...        9\n",
      "9341   '>' not supported between instances of 'NoneTy...        9\n",
      "16225  '<' not supported between instances of 'str' a...        9\n",
      "6175   '<' not supported between instances of 'int' a...        9\n",
      "8358   '<' not supported between instances of 'float'...        9\n",
      "17272  '<' not supported between instances of 'str' a...        9\n",
      "19436  '<' not supported between instances of 'tuple'...        9\n",
      "\n",
      "\n"
     ]
    }
   ],
   "source": [
    "num_clusters = 10\n",
    "_, res, _ = cluster_util.cluster_kmeans(input_texts=err_descs, n_clusters=num_clusters, max_iter=1000)\n",
    "# plot the results \n",
    "# cluster_util.plot_clusters(vectorized_descs, num_clusters, km_model.labels_)\n",
    "cluster_util.print_clusters(num_clusters, res)"
   ]
  },
  {
   "cell_type": "markdown",
   "id": "86467d95",
   "metadata": {},
   "source": [
    "##### Note:\n",
    "\n",
    "10 clusters for TypeError:\n",
    "\n",
    "    1. can only concatenate *something* to str\n",
    "    2. *something* missing *somenumber* required positional arguments...\n",
    "    3. *something* object is not callable/iterable/has no len()\n",
    "    4. *something* object does not support item assignment\n",
    "    5. others\n",
    "    6. list/tuple indices must be integers or slices, not str\n",
    "    7. unhashable type: 'list/dict/slice', can only concatenate list (not \"int\") to list\n",
    "    8. unsupported operand type(s) for -: 'str' and '..\n",
    "    9. *something* object cannot be interpreted/converted...\n",
    "    10. '<' not supported between instances of 'str' a.."
   ]
  },
  {
   "cell_type": "markdown",
   "id": "ca8645ec",
   "metadata": {},
   "source": [
    "#### ValueError, evalue"
   ]
  },
  {
   "cell_type": "code",
   "execution_count": 2,
   "id": "87abf554",
   "metadata": {},
   "outputs": [],
   "source": [
    "df2_err_ename = df2_err[df2_err['ename']=='ValueError']\n",
    "err_descs = df2_err_ename['evalue'].values.astype('U')"
   ]
  },
  {
   "cell_type": "code",
   "execution_count": 22,
   "id": "e13e8f33",
   "metadata": {},
   "outputs": [
    {
     "name": "stdout",
     "output_type": "stream",
     "text": [
      "cluster 0 has 716 samples\n",
      "                                               errdesc  cluster\n",
      "17556           too many values to unpack (expected 4)        0\n",
      "17832           too many values to unpack (expected 2)        0\n",
      "2238            too many values to unpack (expected 2)        0\n",
      "1883            too many values to unpack (expected 4)        0\n",
      "9730   not enough values to unpack (expected 5, got 1)        0\n",
      "8018            too many values to unpack (expected 2)        0\n",
      "5165   not enough values to unpack (expected 3, got 1)        0\n",
      "17923           too many values to unpack (expected 2)        0\n",
      "179             too many values to unpack (expected 2)        0\n",
      "6100                     All values must >= 1 and <= 9        0\n",
      "\n",
      "\n",
      "cluster 1 has 965 samples\n",
      "                                                 errdesc  cluster\n",
      "1171      invalid literal for int() with base 10: 'Good'        1\n",
      "12451        invalid literal for int() with base 10: ' '        1\n",
      "11841  invalid literal for int() with base 10: '#VALUE!'        1\n",
      "17493    invalid literal for int() with base 10: 'hello'        1\n",
      "11811      invalid literal for int() with base 10: 'tes'        1\n",
      "17548         invalid literal for int() with base 10: ''        1\n",
      "15898  invalid literal for int() with base 10: '96,73...        1\n",
      "6914         invalid literal for int() with base 10: '²'        1\n",
      "7990        invalid literal for int() with base 10: '-f'        1\n",
      "16999    invalid literal for int() with base 10: 'hello'        1\n",
      "\n",
      "\n",
      "cluster 2 has 688 samples\n",
      "                                                 errdesc  cluster\n",
      "9765   The truth value of a Series is ambiguous. Use ...        2\n",
      "3853   The truth value of an array with more than one...        2\n",
      "1690   The truth value of an array with more than one...        2\n",
      "14956  The truth value of an array with more than one...        2\n",
      "5045   The truth value of a Series is ambiguous. Use ...        2\n",
      "4570   The truth value of a Series is ambiguous. Use ...        2\n",
      "15683  The truth value of a DataFrame is ambiguous. U...        2\n",
      "16853  The truth value of an array with more than one...        2\n",
      "438    The truth value of an array with more than one...        2\n",
      "11203           setting an array element with a sequence        2\n",
      "\n",
      "\n",
      "cluster 3 has 10800 samples\n",
      "                                                 errdesc  cluster\n",
      "14388     zero-dimensional arrays cannot be concatenated        3\n",
      "6888                 array must not contain infs or NaNs        3\n",
      "4924   [E088] Text of length 1100191 exceeds maximum ...        3\n",
      "10428  Shape of passed values is (9997, 9997), indice...        3\n",
      "3892   `handle_unknown` must be 'error' when the drop...        3\n",
      "17892   key of type tuple not found and not a MultiIndex        3\n",
      "536                       min() arg is an empty sequence        3\n",
      "5746                 Don't know what to do with rlev = L        3\n",
      "8782   Cannot evaluate w/o an evaluation worker set i...        3\n",
      "13318                                    No tables found        3\n",
      "\n",
      "\n",
      "cluster 4 has 1257 samples\n",
      "                                                 errdesc  cluster\n",
      "14802  operands could not be broadcast together with ...        4\n",
      "5493   operands could not be broadcast together with ...        4\n",
      "8851   shapes (3,5) and (3,3) not aligned: 5 (dim 1) ...        4\n",
      "7887   shapes (2,3) and (2,2) not aligned: 3 (dim 1) ...        4\n",
      "7107   operands could not be broadcast together with ...        4\n",
      "13350  operands could not be broadcast together with ...        4\n",
      "10552  shapes (3,1) and (3,4) not aligned: 1 (dim 1) ...        4\n",
      "7528   operands could not be broadcast together with ...        4\n",
      "13938  operands could not be broadcast together with ...        4\n",
      "211    operands could not be broadcast together with ...        4\n",
      "\n",
      "\n",
      "cluster 5 has 687 samples\n",
      "                                                 errdesc  cluster\n",
      "8029   Input contains NaN, infinity or a value too la...        5\n",
      "4571   Input contains NaN, infinity or a value too la...        5\n",
      "1715   Found input variables with inconsistent number...        5\n",
      "7753   Found input variables with inconsistent number...        5\n",
      "7981   Found input variables with inconsistent number...        5\n",
      "3202   Found input variables with inconsistent number...        5\n",
      "14164  Input contains NaN, infinity or a value too la...        5\n",
      "15569  Found input variables with inconsistent number...        5\n",
      "12968                           Input must be 1- or 2-d.        5\n",
      "2375   Found input variables with inconsistent number...        5\n",
      "\n",
      "\n",
      "cluster 6 has 2076 samples\n",
      "                                                 errdesc  cluster\n",
      "9350   Error when checking input: expected masking_17...        6\n",
      "8547   cannot reshape array of size 47040000 into sha...        6\n",
      "17096  shape mismatch: objects cannot be broadcast to...        6\n",
      "12763  Error when checking target: expected dense_7 t...        6\n",
      "1524    cannot reshape array of size 6 into shape (2,30)        6\n",
      "5484    cannot reshape array of size 16 into shape (5,3)        6\n",
      "5084   Error when checking : expected dense_1_input t...        6\n",
      "3895   zero-size array to reduction operation minimum...        6\n",
      "3904   Found array with 0 sample(s) (shape=(0, 2)) wh...        6\n",
      "15700  could not broadcast input array from shape (10...        6\n",
      "\n",
      "\n",
      "cluster 7 has 966 samples\n",
      "                                                 errdesc  cluster\n",
      "6828   could not convert string to float: '0.81034,0....        7\n",
      "17222  could not convert string to float: Iris-virginica        7\n",
      "4949   could not convert string to float: 'ADP Mobile...        7\n",
      "5667            could not convert string to float: 'CLT'        7\n",
      "9809         could not convert string to float: 'Female'        7\n",
      "16533           could not convert string to float: '[(0'        7\n",
      "14097           could not convert string to float: 'Low'        7\n",
      "526           could not convert string to float: 'heavy'        7\n",
      "705             could not convert string to float: 'Low'        7\n",
      "14242  could not convert string to float: b'\\tfeature...        7\n",
      "\n",
      "\n"
     ]
    }
   ],
   "source": [
    "num_clusters = 8\n",
    "_, res, _ = cluster_util.cluster_kmeans(input_texts=err_descs, n_clusters=num_clusters, max_iter=1000)\n",
    "# plot the results \n",
    "# cluster_util.plot_clusters(vectorized_descs, num_clusters, km_model.labels_)\n",
    "cluster_util.print_clusters(num_clusters, res)"
   ]
  },
  {
   "cell_type": "code",
   "execution_count": null,
   "id": "8b4242bd",
   "metadata": {},
   "outputs": [],
   "source": []
  },
  {
   "cell_type": "code",
   "execution_count": 10,
   "id": "a708128b",
   "metadata": {},
   "outputs": [
    {
     "name": "stdout",
     "output_type": "stream",
     "text": [
      "Estimated no. of clusters: 17\n",
      "Estimated no. of noise points: 14448\n"
     ]
    }
   ],
   "source": [
    "# a little try on DBSCAN. doesn't seem to work\n",
    "import numpy as np\n",
    "from sklearn.cluster import DBSCAN\n",
    "from sklearn.feature_extraction.text import TfidfVectorizer \n",
    "\n",
    "\n",
    "vectorizer = TfidfVectorizer()\n",
    "vectors = vectorizer.fit_transform(err_descs)\n",
    "\n",
    "dbscan = DBSCAN(eps=0.2, min_samples=100)\n",
    "dbscan.fit(vectors)\n",
    "\n",
    "cluster_labels = dbscan.labels_\n",
    "\n",
    "no_clusters = len(set(cluster_labels)) - (1 if -1 in cluster_labels else 0)\n",
    "no_noise = np.sum(np.array(cluster_labels) == -1, axis=0)\n",
    "\n",
    "print('Estimated no. of clusters: %d' % no_clusters)\n",
    "print('Estimated no. of noise points: %d' % no_noise)"
   ]
  },
  {
   "cell_type": "code",
   "execution_count": null,
   "id": "713355d7",
   "metadata": {},
   "outputs": [],
   "source": []
  },
  {
   "cell_type": "markdown",
   "id": "3ca47591",
   "metadata": {},
   "source": [
    "##### Note:\n",
    "\n",
    "8 clusters for ValueError:\n",
    "\n",
    "    1. too many values to unpack\n",
    "    2. invalid literal for int() with base 10\n",
    "    3. setting an array element with a sequence, The truth value of a Series is ambiguous/with more than one value..\n",
    "    4. others\n",
    "    5. operands could not be broadcast together ...\n",
    "    6. Input contains NaN, infinity or..\n",
    "    7. array shape mismatch\n",
    "    8. could not convert *sometype* to *sometype* .."
   ]
  },
  {
   "cell_type": "markdown",
   "id": "02d23e5b",
   "metadata": {},
   "source": [
    "#### AttributeError, evalue"
   ]
  },
  {
   "cell_type": "code",
   "execution_count": 23,
   "id": "173d26b9",
   "metadata": {},
   "outputs": [],
   "source": [
    "df2_err_ename = df2_err[df2_err['ename']=='AttributeError']\n",
    "err_descs = df2_err_ename['evalue'].values.astype('U')"
   ]
  },
  {
   "cell_type": "code",
   "execution_count": 24,
   "id": "e3dfa269",
   "metadata": {
    "scrolled": true
   },
   "outputs": [
    {
     "name": "stdout",
     "output_type": "stream",
     "text": [
      "cluster 0 has 855 samples\n",
      "                                                 errdesc  cluster\n",
      "12354         'DataFrame' object has no attribute 'Date'        0\n",
      "2388           'DataFrame' object has no attribute 'get'        0\n",
      "11488     'DataFrame' object has no attribute 'pred_sgd'        0\n",
      "5408            'DataFrame' object has no attribute 'ix'        0\n",
      "2060        'DataFrame' object has no attribute 'unique'        0\n",
      "12927          'DataFrame' object has no attribute 'str'        0\n",
      "1511          'DataFrame' object has no attribute 'prob'        0\n",
      "1765   'DataFrame' object has no attribute 'fivegram_...        0\n",
      "5366           'DataFrame' object has no attribute 'hit'        0\n",
      "12886       'DataFrame' object has no attribute 'equity'        0\n",
      "\n",
      "\n",
      "cluster 1 has 12076 samples\n",
      "                                                 errdesc  cluster\n",
      "6759           'Person' object has no attribute '__name'        1\n",
      "7564         module 'numpy' has no attribute 'heaviside'        1\n",
      "4495                                              dtypes        1\n",
      "4144          'NoneType' object has no attribute 'split'        1\n",
      "4641            'tuple' object has no attribute 'append'        1\n",
      "12101               'zip' object has no attribute 'sort'        1\n",
      "10725             'str' object has no attribute 'append'        1\n",
      "11184  module 'tensorflow' has no attribute 'reset_de...        1\n",
      "7764             module 'seaborn' has no attribute 'plt'        1\n",
      "10862  Layer dense_28 is not connected, no input to r...        1\n",
      "\n",
      "\n"
     ]
    }
   ],
   "source": [
    "num_clusters = 2\n",
    "_, res, _ = cluster_util.cluster_kmeans(input_texts=err_descs, n_clusters=num_clusters, max_iter=500)\n",
    "cluster_util.print_clusters(num_clusters, res)"
   ]
  },
  {
   "cell_type": "markdown",
   "id": "4743a872",
   "metadata": {},
   "source": [
    "##### Note: No obvious clusters in AttributeError"
   ]
  },
  {
   "cell_type": "markdown",
   "id": "d133f24e",
   "metadata": {},
   "source": [
    "#### SyntaxError, evalue"
   ]
  },
  {
   "cell_type": "code",
   "execution_count": 25,
   "id": "9ebf38f7",
   "metadata": {},
   "outputs": [],
   "source": [
    "df2_err_ename = df2_err[df2_err['ename']=='SyntaxError']\n",
    "err_descs = df2_err_ename['evalue'].values.astype('U')"
   ]
  },
  {
   "cell_type": "code",
   "execution_count": 27,
   "id": "76a2a527",
   "metadata": {},
   "outputs": [
    {
     "name": "stdout",
     "output_type": "stream",
     "text": [
      "cluster 0 has 77 samples\n",
      "                                                errdesc  cluster\n",
      "9201  keyword can't be an expression (<ipython-input...        0\n",
      "7244  f-string expression part cannot include a back...        0\n",
      "2900  keyword can't be an expression (<ipython-input...        0\n",
      "6632  keyword can't be an expression (<ipython-input...        0\n",
      "2495  keyword can't be an expression (<ipython-input...        0\n",
      "7260  can't use starred expression here (<ipython-in...        0\n",
      "6006  keyword can't be an expression (<ipython-input...        0\n",
      "7055  can't use starred expression here (<ipython-in...        0\n",
      "1262  keyword can't be an expression (<ipython-input...        0\n",
      "461   keyword can't be an expression (<ipython-input...        0\n",
      "\n",
      "\n",
      "cluster 1 has 58 samples\n",
      "                                                errdesc  cluster\n",
      "8337  invalid syntax (<ipython-input-35-fba0d58980c0...        1\n",
      "7267  'return' outside function (<ipython-input-8-6e...        1\n",
      "951   invalid syntax (<ipython-input-35-85431d43a0b1...        1\n",
      "2893  invalid syntax (<ipython-input-17-bf0cee6fee9b...        1\n",
      "8177  invalid syntax (<ipython-input-35-c1e503f4d84e...        1\n",
      "3295  invalid syntax (<ipython-input-35-5961066ef753...        1\n",
      "1821  invalid syntax (<ipython-input-35-e27c1f060d6c...        1\n",
      "1228  invalid syntax (<ipython-input-35-e48f2dfcfac3...        1\n",
      "6160  invalid syntax (<ipython-input-35-8beafa51d833...        1\n",
      "7673  invalid syntax (<ipython-input-35-1b65b7d2966e...        1\n",
      "\n",
      "\n",
      "cluster 2 has 655 samples\n",
      "                                                errdesc  cluster\n",
      "2187  unexpected EOF while parsing (<ipython-input-4...        2\n",
      "9563  unexpected EOF while parsing (<ipython-input-1...        2\n",
      "801   unexpected EOF while parsing (<ipython-input-3...        2\n",
      "1286                      unexpected EOF while parsing'        2\n",
      "4373  unexpected EOF while parsing (<ipython-input-6...        2\n",
      "6077  unexpected EOF while parsing (<ipython-input-4...        2\n",
      "5912                      unexpected EOF while parsing'        2\n",
      "4345  unexpected EOF while parsing (<ipython-input-7...        2\n",
      "5973  unexpected EOF while parsing (<ipython-input-5...        2\n",
      "6589  unexpected EOF while parsing (<ipython-input-1...        2\n",
      "\n",
      "\n",
      "cluster 3 has 297 samples\n",
      "                                                errdesc  cluster\n",
      "7887  Missing parentheses in call to 'print'. Did yo...        3\n",
      "6785  Missing parentheses in call to 'print'. Did yo...        3\n",
      "8370  Missing parentheses in call to 'print' (<ipyth...        3\n",
      "5746  Missing parentheses in call to 'print' (__init...        3\n",
      "5611  Missing parentheses in call to 'print'. Did yo...        3\n",
      "2431  Missing parentheses in call to 'print' (<ipyth...        3\n",
      "7763  Missing parentheses in call to 'print'. Did yo...        3\n",
      "2822  Missing parentheses in call to 'print'. Did yo...        3\n",
      "6393  Missing parentheses in call to 'print'. Did yo...        3\n",
      "8958  Missing parentheses in call to 'print' (<ipyth...        3\n",
      "\n",
      "\n",
      "cluster 4 has 356 samples\n",
      "                                                errdesc  cluster\n",
      "3991  positional argument follows keyword argument (...        4\n",
      "2856  positional argument follows keyword argument (...        4\n",
      "8081  positional argument follows keyword argument (...        4\n",
      "6443  non-default argument follows default argument ...        4\n",
      "895   non-default argument follows default argument ...        4\n",
      "8059  positional argument follows keyword argument (...        4\n",
      "4133  positional argument follows keyword argument (...        4\n",
      "8369  positional argument follows keyword argument (...        4\n",
      "6899  positional argument follows keyword argument (...        4\n",
      "9528  non-default argument follows default argument ...        4\n",
      "\n",
      "\n",
      "cluster 5 has 1255 samples\n",
      "                                                errdesc  cluster\n",
      "1547  (unicode error) 'unicodeescape' codec can't de...        5\n",
      "4798  'return' outside function (<ipython-input-44-d...        5\n",
      "9470  illegal target for annotation (<ipython-input-...        5\n",
      "8078  leading zeros in decimal integer literals are ...        5\n",
      "4495           invalid syntax (diagnostics.py, line 94)        5\n",
      "5289  invalid syntax (Temp/ipykernel_20148/266543758...        5\n",
      "7437                         can\\'t assign to operator'        5\n",
      "2878  keyword argument repeated: q (921167105.py, li...        5\n",
      "8878             invalid syntax (3085325471.py, line 4)        5\n",
      "360               invalid syntax (268261688.py, line 1)        5\n",
      "\n",
      "\n",
      "cluster 6 has 6407 samples\n",
      "                                                errdesc  cluster\n",
      "1875  invalid syntax (<ipython-input-13-f658a6e5037e...        6\n",
      "1364  invalid syntax (<ipython-input-4-8d5a5acc5edb>...        6\n",
      "1399  invalid syntax (<ipython-input-3-fca0d63c6f9b>...        6\n",
      "8371  invalid syntax (<ipython-input-7-c99a8d99a836>...        6\n",
      "5359  invalid syntax (<ipython-input-5-7577dbe278d1>...        6\n",
      "7576  invalid syntax (<ipython-input-28-ff9ca35f0873...        6\n",
      "6518  invalid syntax (<ipython-input-38-9b5f703319a5...        6\n",
      "9329                                    invalid syntax'        6\n",
      "4397  invalid syntax (<ipython-input-7-03c5240c9202>...        6\n",
      "5442  invalid syntax (<ipython-input-10-cb5803a2c56e...        6\n",
      "\n",
      "\n",
      "cluster 7 has 243 samples\n",
      "                                                errdesc  cluster\n",
      "198                    invalid character in identifier'        7\n",
      "7757  invalid character in identifier (<ipython-inpu...        7\n",
      "2321  invalid character in identifier (<string>, lin...        7\n",
      "1257           Identifier 'a' has already been declared        7\n",
      "1320  unexpected character after line continuation c...        7\n",
      "3137  invalid character in identifier (<ipython-inpu...        7\n",
      "8527  unexpected character after line continuation c...        7\n",
      "1665  invalid character in identifier (<ipython-inpu...        7\n",
      "2976                   invalid character in identifier'        7\n",
      "5970  invalid character in identifier (<ipython-inpu...        7\n",
      "\n",
      "\n",
      "cluster 8 has 436 samples\n",
      "                                                errdesc  cluster\n",
      "1953  EOL while scanning string literal (<ipython-in...        8\n",
      "9460                 EOL while scanning string literal'        8\n",
      "7799  EOL while scanning string literal (<ipython-in...        8\n",
      "2709  EOL while scanning string literal (4059993992....        8\n",
      "1762                 EOL while scanning string literal'        8\n",
      "1444  EOL while scanning string literal (<ipython-in...        8\n",
      "6148  EOL while scanning string literal (<ipython-in...        8\n",
      "6474                  invalid syntax (<string>, line 1)        8\n",
      "5349  EOL while scanning string literal (<ipython-in...        8\n",
      "6531                 EOL while scanning string literal'        8\n",
      "\n",
      "\n",
      "cluster 9 has 152 samples\n",
      "                                                errdesc  cluster\n",
      "2134  invalid syntax (<ipython-input-16-0a7c695852a5...        9\n",
      "3313  invalid syntax (<ipython-input-16-bd54a963cd6e...        9\n",
      "5346  invalid syntax (<ipython-input-16-efa7122616ce...        9\n",
      "3405  invalid syntax (<ipython-input-16-2fce13ee096c...        9\n",
      "1855  invalid syntax (<ipython-input-21-3c323e99d79f...        9\n",
      "9857  invalid syntax (<ipython-input-16-5fa16817f248...        9\n",
      "6634  invalid syntax (<ipython-input-16-8521e80609aa...        9\n",
      "147   invalid syntax (<ipython-input-16-5f4360a3af1e...        9\n",
      "4024  invalid syntax (<ipython-input-16-eb132473e491...        9\n",
      "1697  invalid syntax (<ipython-input-16-9315f15ff27b...        9\n",
      "\n",
      "\n"
     ]
    }
   ],
   "source": [
    "num_clusters = 10\n",
    "_, res, _ = cluster_util.cluster_kmeans(input_texts=err_descs, n_clusters=num_clusters, max_iter=500)\n",
    "cluster_util.print_clusters(num_clusters, res)"
   ]
  },
  {
   "cell_type": "markdown",
   "id": "eb68ae67",
   "metadata": {},
   "source": [
    "#### Some mixed error types, evalue"
   ]
  },
  {
   "cell_type": "code",
   "execution_count": 28,
   "id": "74b3536b",
   "metadata": {},
   "outputs": [],
   "source": [
    "df2_err_ename = df2_err[df2_err['ename'].isin(['Error', 'ERROR', 'error'])]\n",
    "err_descs = df2_err_ename['evalue'].values.astype('U')"
   ]
  },
  {
   "cell_type": "code",
   "execution_count": 35,
   "id": "1e1747b6",
   "metadata": {
    "scrolled": false
   },
   "outputs": [
    {
     "name": "stdout",
     "output_type": "stream",
     "text": [
      "cluster 0 has 220 samples\n",
      "                                                errdesc  cluster\n",
      "121   Error in eval(expr, envir, enclos): objet 'hqw...        0\n",
      "1719  Error in eval(expr, envir, enclos): object 're...        0\n",
      "1859                                      compile_error        0\n",
      "1401  Error in eval(expr, envir, enclos): wrong resu...        0\n",
      "881                                       compile_error        0\n",
      "1320  Error in eval(expr, envir, enclos): object 'wm...        0\n",
      "2120  Error in get(name, envir = envir): object 's_l...        0\n",
      "676   Error in eval(expr, envir, enclos): object 'me...        0\n",
      "1627  Error in eval(expr, envir, enclos): object '.....        0\n",
      "2083  Error in eval(expr, envir, enclos): Objekt 'nu...        0\n",
      "\n",
      "\n",
      "cluster 1 has 140 samples\n",
      "                                                errdesc  cluster\n",
      "123   Error in library(\"scHOT\"): there is no package...        1\n",
      "1063  Error in library(prophet): there is no package...        1\n",
      "33    Error in library(mxnet): there is no package c...        1\n",
      "147   Error in library(\"ggmap\"): there is no package...        1\n",
      "409   Error in library(tidyverse): there is no packa...        1\n",
      "905   Error in library(scone): there is no package c...        1\n",
      "1996  Error in library(tidyverse): there is no packa...        1\n",
      "822   Error: package or namespace load failed for ‘g...        1\n",
      "2040  Error in library(\"dummies\"): there is no packa...        1\n",
      "951   Error in library(geigen): there is no package ...        1\n",
      "\n",
      "\n",
      "cluster 2 has 1206 samples\n",
      "                                                errdesc  cluster\n",
      "151                    Cannot find module 'some-module'        2\n",
      "1692  Error in L(rcpitausa, 1): could not find funct...        2\n",
      "206   Error in if (x$resmatrix[1] == \"Error\") cat(\"\\...        2\n",
      "274   Error in x%%2: argument non numérique pour un ...        2\n",
      "1909  Error: Strings must match column names. Unknow...        2\n",
      "864                     Direct kernel connection broken        2\n",
      "1745  Error in var.test.default(low, high): not enou...        2\n",
      "1964  System.ArgumentException: Column \"DGdegree:Tem...        2\n",
      "2175  Error in t(X) %*% beta_: non-conformable argum...        2\n",
      "2149  Error in charToDate(x): character string is no...        2\n",
      "\n",
      "\n",
      "cluster 3 has 72 samples\n",
      "                                                errdesc  cluster\n",
      "800   Error in parse(text = x, srcfile = src): <text...        3\n",
      "1603  Error in parse(text = x, srcfile = src): <text...        3\n",
      "1604  Error in parse(text = x, srcfile = src): <text...        3\n",
      "1982  Error in parse(text = x, srcfile = src): <text...        3\n",
      "1127  Error in parse(text = x, srcfile = src): <text...        3\n",
      "1195  Error in parse(text = x, srcfile = src): <text...        3\n",
      "1948                          ['Error in parse(text = x        3\n",
      "1459  Error in parse(text = x, srcfile = src): <text...        3\n",
      "817   Error in parse(text = x, srcfile = src): <text...        3\n",
      "422   Error in parse(text = x, srcfile = src): <text...        3\n",
      "\n",
      "\n",
      "cluster 4 has 233 samples\n",
      "                                                errdesc  cluster\n",
      "1540  Error in ggplot(mbta_boat, aes(x = month, y = ...        4\n",
      "1776  Error in is.data.frame(x): (list) object canno...        4\n",
      "1636  Error in {: task 1 failed - \"Not all variable ...        4\n",
      "2153  NUnit.Framework.AssertionException:   We seede...        4\n",
      "1721  Error in eval(lhs, parent, parent): object 'CO...        4\n",
      "1912  Error in commandArgs(trailingOnly = True): obj...        4\n",
      "1650  Error in plot(genomeSizeModelDamsel): object '...        4\n",
      "1613  Error in as.mcmc(OD.12C): object 'OD.12C' not ...        4\n",
      "1723  Error in eval(lhs, parent, parent): object 'CO...        4\n",
      "1596  Error in plot(wt, mpg, main = \"Scatterplot \", ...        4\n",
      "\n",
      "\n",
      "cluster 5 has 286 samples\n",
      "                                                errdesc  cluster\n",
      "495   OpenCV(4.5.3) C:\\Users\\runneradmin\\AppData\\Loc...        5\n",
      "104   OpenCV(4.5.3) C:\\Users\\runneradmin\\AppData\\Loc...        5\n",
      "2077  OpenCV(4.2.0) /Users/travis/build/skvark/openc...        5\n",
      "1405  OpenCV(4.5.2) /private/var/folders/24/8k48jl6d...        5\n",
      "1820  OpenCV(4.1.2) C:\\projects\\opencv-python\\opencv...        5\n",
      "1583  OpenCV(3.4.3) C:\\projects\\opencv-python\\opencv...        5\n",
      "626   OpenCV(4.1.1) /Users/travis/build/skvark/openc...        5\n",
      "304   OpenCV(3.4.2) C:\\Miniconda3\\conda-bld\\opencv-s...        5\n",
      "211   (-215:Assertion failed) !_src.empty() in funct...        5\n",
      "592   OpenCV(4.2.0) C:\\projects\\opencv-python\\opencv...        5\n",
      "\n",
      "\n",
      "cluster 6 has 35 samples\n",
      "                               errdesc  cluster\n",
      "2011  Session cannot generate requests        6\n",
      "284   Session cannot generate requests        6\n",
      "1798  Session cannot generate requests        6\n",
      "185   Session cannot generate requests        6\n",
      "161   Session cannot generate requests        6\n",
      "203   Session cannot generate requests        6\n",
      "1782  Session cannot generate requests        6\n",
      "2092  Session cannot generate requests        6\n",
      "1783  Session cannot generate requests        6\n",
      "1237  Session cannot generate requests        6\n",
      "\n",
      "\n"
     ]
    }
   ],
   "source": [
    "num_clusters = 7\n",
    "_, res, _ = cluster_util.cluster_kmeans(input_texts=err_descs, n_clusters=num_clusters, max_iter=800)\n",
    "cluster_util.print_clusters(num_clusters, res)"
   ]
  },
  {
   "cell_type": "markdown",
   "id": "b278c574",
   "metadata": {},
   "source": [
    "## 2. Error analysis for nbs from kaggle\n"
   ]
  },
  {
   "cell_type": "code",
   "execution_count": 1,
   "id": "195eef64",
   "metadata": {},
   "outputs": [],
   "source": [
    "# read in all errors from the file\n",
    "import pandas as pd\n",
    "\n",
    "path_err = 'C:/Users/yirwa29/Downloads/Dataset-Nb/nbdata_k_error/nberror_k.csv'\n",
    "df_err = pd.read_csv(path_err, encoding='utf-8')"
   ]
  },
  {
   "cell_type": "code",
   "execution_count": null,
   "id": "6fa7a150",
   "metadata": {},
   "outputs": [],
   "source": []
  }
 ],
 "metadata": {
  "kernelspec": {
   "display_name": "Python 3 (ipykernel)",
   "language": "python",
   "name": "python3"
  },
  "language_info": {
   "codemirror_mode": {
    "name": "ipython",
    "version": 3
   },
   "file_extension": ".py",
   "mimetype": "text/x-python",
   "name": "python",
   "nbconvert_exporter": "python",
   "pygments_lexer": "ipython3",
   "version": "3.11.5"
  }
 },
 "nbformat": 4,
 "nbformat_minor": 5
}
