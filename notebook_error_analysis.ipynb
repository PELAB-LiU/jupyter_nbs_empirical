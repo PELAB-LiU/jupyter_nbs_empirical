{
 "cells": [
  {
   "cell_type": "markdown",
   "id": "0d037800",
   "metadata": {},
   "source": [
    "## 1. Error analysis for nbs from github - the stack v1\n",
    "\n",
    "https://huggingface.co/datasets/bigcode/the-stack-dedup/tree/main/data/jupyter-notebook\n"
   ]
  },
  {
   "cell_type": "code",
   "execution_count": 2,
   "id": "961e2799",
   "metadata": {},
   "outputs": [
    {
     "data": {
      "text/html": [
       "<div>\n",
       "<style scoped>\n",
       "    .dataframe tbody tr th:only-of-type {\n",
       "        vertical-align: middle;\n",
       "    }\n",
       "\n",
       "    .dataframe tbody tr th {\n",
       "        vertical-align: top;\n",
       "    }\n",
       "\n",
       "    .dataframe thead th {\n",
       "        text-align: right;\n",
       "    }\n",
       "</style>\n",
       "<table border=\"1\" class=\"dataframe\">\n",
       "  <thead>\n",
       "    <tr style=\"text-align: right;\">\n",
       "      <th></th>\n",
       "      <th>fname</th>\n",
       "      <th>ename</th>\n",
       "      <th>evalue</th>\n",
       "      <th>traceback</th>\n",
       "    </tr>\n",
       "  </thead>\n",
       "  <tbody>\n",
       "    <tr>\n",
       "      <th>0</th>\n",
       "      <td>00000-101-cookie-clicker-v2-checkpoint.ipynb</td>\n",
       "      <td>KeyboardInterrupt</td>\n",
       "      <td>NaN</td>\n",
       "      <td>['--------------------------------------------...</td>\n",
       "    </tr>\n",
       "    <tr>\n",
       "      <th>1</th>\n",
       "      <td>00000-1012-demand-forecasting-data-prep-from-s...</td>\n",
       "      <td>OperationalError</td>\n",
       "      <td>FATAL:  no pg_hba.conf entry for host \"75.166....</td>\n",
       "      <td>['--------------------------------------------...</td>\n",
       "    </tr>\n",
       "    <tr>\n",
       "      <th>2</th>\n",
       "      <td>00000-1017-heatmapseq2seq.ipynb</td>\n",
       "      <td>ValueError</td>\n",
       "      <td>x and y must have same first dimension, but ha...</td>\n",
       "      <td>['--------------------------------------------...</td>\n",
       "    </tr>\n",
       "    <tr>\n",
       "      <th>3</th>\n",
       "      <td>00000-1023-crawler-20190515-20190516.ipynb</td>\n",
       "      <td>ConnectionError</td>\n",
       "      <td>HTTPSConnectionPool(host='www.backpackers.com....</td>\n",
       "      <td>['--------------------------------------------...</td>\n",
       "    </tr>\n",
       "    <tr>\n",
       "      <th>4</th>\n",
       "      <td>00000-1033-peer-solution-predicting-survival-t...</td>\n",
       "      <td>URLError</td>\n",
       "      <td>&lt;urlopen error [Errno 11001] getaddrinfo failed&gt;</td>\n",
       "      <td>['--------------------------------------------...</td>\n",
       "    </tr>\n",
       "  </tbody>\n",
       "</table>\n",
       "</div>"
      ],
      "text/plain": [
       "                                               fname              ename  \\\n",
       "0       00000-101-cookie-clicker-v2-checkpoint.ipynb  KeyboardInterrupt   \n",
       "1  00000-1012-demand-forecasting-data-prep-from-s...   OperationalError   \n",
       "2                    00000-1017-heatmapseq2seq.ipynb         ValueError   \n",
       "3         00000-1023-crawler-20190515-20190516.ipynb    ConnectionError   \n",
       "4  00000-1033-peer-solution-predicting-survival-t...           URLError   \n",
       "\n",
       "                                              evalue  \\\n",
       "0                                                NaN   \n",
       "1  FATAL:  no pg_hba.conf entry for host \"75.166....   \n",
       "2  x and y must have same first dimension, but ha...   \n",
       "3  HTTPSConnectionPool(host='www.backpackers.com....   \n",
       "4   <urlopen error [Errno 11001] getaddrinfo failed>   \n",
       "\n",
       "                                           traceback  \n",
       "0  ['--------------------------------------------...  \n",
       "1  ['--------------------------------------------...  \n",
       "2  ['--------------------------------------------...  \n",
       "3  ['--------------------------------------------...  \n",
       "4  ['--------------------------------------------...  "
      ]
     },
     "execution_count": 2,
     "metadata": {},
     "output_type": "execute_result"
    }
   ],
   "source": [
    "# read in all errors from the file\n",
    "import pandas as pd\n",
    "\n",
    "df2_err = pd.read_csv('C:/Users/yirwa29/Downloads/Dataset-Nb/nberror_g_all_p3.csv', encoding='utf-8')\n",
    "df2_err = df2_err[df2_err['language']=='python'][['fname','ename','evalue','traceback']]\n",
    "df2_err.head()"
   ]
  },
  {
   "cell_type": "code",
   "execution_count": 3,
   "id": "ad5bcf03",
   "metadata": {},
   "outputs": [
    {
     "data": {
      "text/plain": [
       "fname        177540\n",
       "ename        177396\n",
       "evalue       158707\n",
       "traceback    177540\n",
       "dtype: int64"
      ]
     },
     "execution_count": 3,
     "metadata": {},
     "output_type": "execute_result"
    }
   ],
   "source": [
    "df2_err.count()"
   ]
  },
  {
   "cell_type": "code",
   "execution_count": 6,
   "id": "743228ba",
   "metadata": {},
   "outputs": [
    {
     "data": {
      "text/plain": [
       "109063"
      ]
     },
     "execution_count": 6,
     "metadata": {},
     "output_type": "execute_result"
    }
   ],
   "source": [
    "df2_err[\"fname\"].nunique()"
   ]
  },
  {
   "cell_type": "code",
   "execution_count": 5,
   "id": "28fc0bfb",
   "metadata": {},
   "outputs": [
    {
     "data": {
      "text/plain": [
       "1520"
      ]
     },
     "execution_count": 5,
     "metadata": {},
     "output_type": "execute_result"
    }
   ],
   "source": [
    "df2_err[\"ename\"].nunique()"
   ]
  },
  {
   "cell_type": "code",
   "execution_count": 7,
   "id": "891e508e",
   "metadata": {},
   "outputs": [
    {
     "data": {
      "text/plain": [
       "<Axes: xlabel='ename'>"
      ]
     },
     "execution_count": 7,
     "metadata": {},
     "output_type": "execute_result"
    },
    {
     "data": {
      "image/png": "[encoded data removed]",
      "text/plain": [
       "<Figure size 1200x500 with 1 Axes>"
      ]
     },
     "metadata": {},
     "output_type": "display_data"
    }
   ],
   "source": [
    "df2_err[\"ename\"].groupby([df2_err[\"ename\"]]).count().sort_values(ascending=0)[:50].plot(kind=\"bar\", figsize=(12,5))"
   ]
  },
  {
   "cell_type": "code",
   "execution_count": 8,
   "id": "de8ecc3e",
   "metadata": {},
   "outputs": [
    {
     "data": {
      "text/plain": [
       "<Axes: xlabel='ename'>"
      ]
     },
     "execution_count": 8,
     "metadata": {},
     "output_type": "execute_result"
    },
    {
     "data": {
      "image/png": "[encoded data removed]",
      "text/plain": [
       "<Figure size 800x400 with 1 Axes>"
      ]
     },
     "metadata": {},
     "output_type": "display_data"
    }
   ],
   "source": [
    "df2_err[\"ename\"].groupby([df2_err[\"ename\"]]).count().sort_values(ascending=0)[:10].plot(kind=\"bar\", figsize=(8,4))"
   ]
  },
  {
   "cell_type": "markdown",
   "id": "4566c1f6",
   "metadata": {},
   "source": [
    "### 1.1 Clustering with K-Means"
   ]
  },
  {
   "cell_type": "code",
   "execution_count": 4,
   "id": "5be5e8c5",
   "metadata": {},
   "outputs": [],
   "source": [
    "import pandas as pd \n",
    "import cluster_util\n",
    "\n",
    "df2_err = pd.read_csv('C:/Users/yirwa29/Downloads/Dataset-Nb/nberror_g_all_p3.csv', encoding='utf-8')\n",
    "df2_err = df2_err[df2_err['language']=='python'][['fname','ename','evalue','traceback']]"
   ]
  },
  {
   "cell_type": "markdown",
   "id": "0e237a83",
   "metadata": {},
   "source": [
    "#### preprocess - tokenize"
   ]
  },
  {
   "cell_type": "code",
   "execution_count": null,
   "id": "f259e1be",
   "metadata": {},
   "outputs": [],
   "source": [
    "#!python -m spacy download en_core_web_trf"
   ]
  },
  {
   "cell_type": "code",
   "execution_count": 3,
   "id": "9583dc76",
   "metadata": {},
   "outputs": [],
   "source": [
    "import spacy\n",
    "\n",
    "nlp = spacy.load('en_core_web_trf')\n",
    "df2_err['evalue_tokenized'] = df2_err['evalue'].apply(cluster_util.preprocess_text, nlp=nlp)"
   ]
  },
  {
   "cell_type": "code",
   "execution_count": 11,
   "id": "3feff374",
   "metadata": {},
   "outputs": [],
   "source": [
    "df2_err.to_csv(\"C:/Users/yirwa29/Downloads/Dataset-Nb/nberror_g_evaluetokenized.csv\", index=False, encoding='utf-8')"
   ]
  },
  {
   "cell_type": "markdown",
   "id": "7af3f2db",
   "metadata": {},
   "source": [
    "#### !!! Clustering start here ---> load tokenized error dataset"
   ]
  },
  {
   "cell_type": "code",
   "execution_count": 1,
   "id": "e2bdfbe2",
   "metadata": {},
   "outputs": [],
   "source": [
    "import pandas as pd \n",
    "import cluster_util\n",
    "\n",
    "df2_err = pd.read_csv('C:/Users/yirwa29/Downloads/Dataset-Nb/nberror_g_all_p3_evaluetokenized.csv', encoding='utf-8')\n",
    "df2_err = df2_err[['ename','evalue','evalue_tokenized']]"
   ]
  },
  {
   "cell_type": "markdown",
   "id": "ca8645ec",
   "metadata": {},
   "source": [
    "#### 1.1.1 ValueError, evalue_tokenized"
   ]
  },
  {
   "cell_type": "code",
   "execution_count": 2,
   "id": "87abf554",
   "metadata": {},
   "outputs": [],
   "source": [
    "df2_err_ename = df2_err[df2_err['ename']=='ValueError']\n",
    "err_descs = df2_err_ename['evalue_tokenized'].values.astype('U')"
   ]
  },
  {
   "cell_type": "markdown",
   "id": "96a1a12a",
   "metadata": {},
   "source": [
    "##### tfidf"
   ]
  },
  {
   "cell_type": "code",
   "execution_count": 3,
   "id": "7d5d13c7",
   "metadata": {},
   "outputs": [],
   "source": [
    "X_tfidf = cluster_util.vectorizer_tfidf(err_descs)\n",
    "X_tfidf.shape"
   ]
  },
  {
   "cell_type": "code",
   "execution_count": 5,
   "id": "4a47ff1b",
   "metadata": {},
   "outputs": [],
   "source": [
    "K_range = range(1,15)\n",
    "inertias = cluster_util.elbow_for_kmean(X_tfidf, K_range = K_range)"
   ]
  },
  {
   "cell_type": "code",
   "execution_count": 8,
   "id": "0db5896f",
   "metadata": {},
   "outputs": [
    {
     "data": {
      "image/png": "[encoded data removed]",
      "text/plain": [
       "<Figure size 640x480 with 1 Axes>"
      ]
     },
     "metadata": {},
     "output_type": "display_data"
    }
   ],
   "source": [
    "plt.plot(K_range, inertias, 'bx-')\n",
    "plt.xlabel('Values of K')\n",
    "plt.ylabel('Inertias')\n",
    "plt.title('The Elbow Method using Inertias')\n",
    "plt.show()"
   ]
  },
  {
   "cell_type": "code",
   "execution_count": 22,
   "id": "7467c53d",
   "metadata": {},
   "outputs": [
    {
     "name": "stdout",
     "output_type": "stream",
     "text": [
      "cluster 0 has 962 samples\n",
      "                                                   evalue  cluster\n",
      "131596   invalid literal for long() with base 10: 'hello'        0\n",
      "173148    invalid literal for int() with base 10: 'hello'        0\n",
      "91978         invalid literal for int() with base 10: 'a'        0\n",
      "135934     invalid literal for int() with base 10: 'abcd'        0\n",
      "20861   invalid literal for int() with base 10: 'Date,...        0\n",
      "90042       invalid literal for int() with base 10: '7.4'        0\n",
      "24129     invalid literal for int() with base 10: 'hello'        0\n",
      "26359   invalid literal for int() with base 10: 'TCGA-...        0\n",
      "154185  invalid literal for int() with base 10: '#Stag...        0\n",
      "114596         invalid literal for int() with base 10: ''        0\n",
      "\n",
      "\n",
      "cluster 1 has 716 samples\n",
      "                                                   evalue  cluster\n",
      "46825              too many values to unpack (expected 1)        1\n",
      "49500   not enough values to unpack (expected 13, got 12)        1\n",
      "59845     not enough values to unpack (expected 2, got 1)        1\n",
      "154708             too many values to unpack (expected 2)        1\n",
      "148403             too many values to unpack (expected 2)        1\n",
      "164085             too many values to unpack (expected 2)        1\n",
      "19425              too many values to unpack (expected 2)        1\n",
      "124060    not enough values to unpack (expected 3, got 1)        1\n",
      "53261              too many values to unpack (expected 2)        1\n",
      "171782             too many values to unpack (expected 4)        1\n",
      "\n",
      "\n",
      "cluster 2 has 1 samples\n",
      "                                         evalue  cluster\n",
      "91468  could not convert string to float: 'avg'        2\n",
      "\n",
      "\n",
      "cluster 3 has 2043 samples\n",
      "                                                   evalue  cluster\n",
      "70102   cannot reshape array of size 10235904 into sha...        3\n",
      "85847   Error when checking input: expected dense_3_in...        3\n",
      "85124   zero-size array to reduction operation minimum...        3\n",
      "113118  cannot reshape array of size 32768 into shape ...        3\n",
      "136528  cannot reshape array of size 1 into shape (28,28)        3\n",
      "57746   Error when checking input: expected input_1 to...        3\n",
      "14042   all the input array dimensions for the concate...        3\n",
      "88544   Error when checking target: expected dense_1 t...        3\n",
      "152311  all the input arrays must have same number of ...        3\n",
      "21203   could not broadcast input array from shape (67...        3\n",
      "\n",
      "\n",
      "cluster 4 has 409 samples\n",
      "                                                   evalue  cluster\n",
      "35627                                                 NaN        4\n",
      "79743   Input contains NaN, infinity or a value too la...        4\n",
      "145268  Input contains NaN, infinity or a value too la...        4\n",
      "72555   Input contains NaN, infinity or a value too la...        4\n",
      "26160   Input contains infinity or a value too large f...        4\n",
      "59933                                                 NaN        4\n",
      "134522  Input contains NaN, infinity or a value too la...        4\n",
      "21878   Input contains NaN, infinity or a value too la...        4\n",
      "124802  Input contains NaN, infinity or a value too la...        4\n",
      "96016                                                 NaN        4\n",
      "\n",
      "\n",
      "cluster 5 has 529 samples\n",
      "                                                   evalue  cluster\n",
      "170130  The truth value of an array with more than one...        5\n",
      "88881   The truth value of an array with more than one...        5\n",
      "97630   The truth value of a Series is ambiguous. Use ...        5\n",
      "37225   The truth value of an array with more than one...        5\n",
      "140101  The truth value of an array with more than one...        5\n",
      "7705    The truth value of a Series is ambiguous. Use ...        5\n",
      "18846   The truth value of an array with more than one...        5\n",
      "97466   The truth value of a Series is ambiguous. Use ...        5\n",
      "71330   The truth value of an array with more than one...        5\n",
      "76773   The truth value of an array with more than one...        5\n",
      "\n",
      "\n",
      "cluster 6 has 9876 samples\n",
      "                                                   evalue  cluster\n",
      "21999   shapes (64,10) and (64,) not aligned: 10 (dim ...        6\n",
      "142085                      I/O operation on closed file.        6\n",
      "9111    Variable hidden1/kernel already exists, disall...        6\n",
      "144569  can not merge DataFrame with instance of type ...        6\n",
      "55673   feature_names must be string, and may not cont...        6\n",
      "18399   Expected 'metle' to be one of {'plastic', 'woo...        6\n",
      "156432                                  math domain error        6\n",
      "142697  x and y must have same first dimension, but ha...        6\n",
      "114077                               \"y\" must be a number        6\n",
      "138361  operands could not be broadcast together with ...        6\n",
      "\n",
      "\n",
      "cluster 7 has 544 samples\n",
      "                                                   evalue  cluster\n",
      "71072                      arrays must all be same length        7\n",
      "41640     Length of values does not match length of index        7\n",
      "49305   Length mismatch: Expected axis has 0 elements,...        7\n",
      "14421               All arrays must be of the same length        7\n",
      "139378              All arrays must be of the same length        7\n",
      "18755                      arrays must all be same length        7\n",
      "31530     Length of values does not match length of index        7\n",
      "55520   Length of values (146891) does not match lengt...        7\n",
      "9593                       arrays must all be same length        7\n",
      "139979  dictionary update sequence element #0 has leng...        7\n",
      "\n",
      "\n",
      "cluster 8 has 1205 samples\n",
      "                                                   evalue  cluster\n",
      "129652  shapes (1,4) and (3,4) not aligned: 4 (dim 1) ...        8\n",
      "17328   operands could not be broadcast together with ...        8\n",
      "97829   operands could not be broadcast together with ...        8\n",
      "28638   operands could not be broadcast together with ...        8\n",
      "1916    operands could not be broadcast together with ...        8\n",
      "75984   operands could not be broadcast together with ...        8\n",
      "51789   operands could not be broadcast together with ...        8\n",
      "7117    operands could not be broadcast together with ...        8\n",
      "89112   shapes (2,2) and (1,2) not aligned: 2 (dim 1) ...        8\n",
      "137555                                       Shapes (None        8\n",
      "\n",
      "\n",
      "cluster 9 has 372 samples\n",
      "                               evalue  cluster\n",
      "89459   list.remove(x): x not in list        9\n",
      "175903           'dnt' is not in list        9\n",
      "33757               10 is not in list        9\n",
      "72784   list.remove(x): x not in list        9\n",
      "96110          'Pluto' is not in list        9\n",
      "174317     (25, 60, 1) is not in list        9\n",
      "136916         'Pluto' is not in list        9\n",
      "103206  list.remove(x): x not in list        9\n",
      "27535                7 is not in list        9\n",
      "128788        'Surger' is not in list        9\n",
      "\n",
      "\n",
      "cluster 10 has 964 samples\n",
      "                                              evalue  cluster\n",
      "156157  could not convert string to float: 'MERCURY'       10\n",
      "162134   could not convert string to float: '11439*'       10\n",
      "168646       could not convert string to float: 'RL'       10\n",
      "175534   could not convert string to float: 'wakeup'       10\n",
      "164647   could not convert string to float: '12.7.2'       10\n",
      "174357    could not convert string to float: 'Hello'       10\n",
      "57120          could not convert string to float: ''       10\n",
      "113830   could not convert string to float: 'Toyota'       10\n",
      "60983            could not convert string to float:        10\n",
      "120583    could not convert string to float: 'OTHER'       10\n",
      "\n",
      "\n",
      "cluster 11 has 527 samples\n",
      "                                                   evalue  cluster\n",
      "175738                                substring not found       11\n",
      "165783                                    No tables found       11\n",
      "117311                                substring not found       11\n",
      "151270                                    No tables found       11\n",
      "174075  Found input variables with inconsistent number...       11\n",
      "75115   Found input variables with inconsistent number...       11\n",
      "133320  Found input variables with inconsistent number...       11\n",
      "36301    Found array with dim 3. Estimator expected <= 2.       11\n",
      "171572                                substring not found       11\n",
      "158706  Found input variables with inconsistent number...       11\n",
      "\n",
      "\n"
     ]
    }
   ],
   "source": [
    "num_clusters = 12\n",
    "res = cluster_util.cluster_kmeans(X_tfidf, n_clusters=num_clusters)\n",
    "df2_err_ename.loc[:,\"cluster\"] = res\n",
    "cluster_util.print_clusters(num_clusters, df2_err_ename[['evalue','cluster']])"
   ]
  },
  {
   "cell_type": "code",
   "execution_count": 26,
   "id": "71c7f06a",
   "metadata": {},
   "outputs": [],
   "source": [
    "df2_err_ename = df2_err_ename.rename(columns={\"cluster\": \"cluster_tfidf\"})\n",
    "df2_err_ename.to_csv(\"C:/Users/yirwa29/Downloads/Dataset-Nb/nberror_g_cluster_nameerror.csv\", index=False, encoding='utf-8')"
   ]
  },
  {
   "cell_type": "markdown",
   "id": "c2f75ef1",
   "metadata": {},
   "source": [
    "##### sentence transformers\n",
    "\n",
    "https://github.com/UKPLab/sentence-transformers\n",
    "\n",
    "https://huggingface.co/sentence-transformers/all-MiniLM-L6-v2\n",
    "\n",
    "sentence to vector"
   ]
  },
  {
   "cell_type": "code",
   "execution_count": 4,
   "id": "d6977afe",
   "metadata": {},
   "outputs": [],
   "source": [
    "import pandas as pd \n",
    "import cluster_util\n",
    "\n",
    "df2_err_ename = pd.read_csv('C:/Users/yirwa29/Downloads/Dataset-Nb/nberror_g_cluster_nameerror.csv', encoding='utf-8')\n",
    "err_descs = df2_err_ename['evalue_tokenized'].values.astype('U')"
   ]
  },
  {
   "cell_type": "code",
   "execution_count": 9,
   "id": "71d2af37",
   "metadata": {},
   "outputs": [
    {
     "data": {
      "text/plain": [
       "(18148, 384)"
      ]
     },
     "execution_count": 9,
     "metadata": {},
     "output_type": "execute_result"
    }
   ],
   "source": [
    "X_transformers = cluster_util.vectorizer_sentence2vec(err_descs)\n",
    "X_transformers.shape"
   ]
  },
  {
   "cell_type": "code",
   "execution_count": 17,
   "id": "7fd501e2",
   "metadata": {},
   "outputs": [
    {
     "data": {
      "image/png": "[encoded data removed]",
      "text/plain": [
       "<Figure size 640x480 with 1 Axes>"
      ]
     },
     "metadata": {},
     "output_type": "display_data"
    }
   ],
   "source": [
    "K_range = range(1,60)\n",
    "inertias = cluster_util.elbow_for_kmean(X_transformers, K_range = K_range)\n",
    "\n",
    "import matplotlib.pyplot as plt \n",
    "\n",
    "plt.plot(K_range, inertias, 'bx-')\n",
    "plt.xlabel('Values of K')\n",
    "plt.ylabel('Inertias')\n",
    "plt.title('The Elbow Method using Inertias')\n",
    "plt.show()"
   ]
  },
  {
   "cell_type": "code",
   "execution_count": 13,
   "id": "37fef48f",
   "metadata": {},
   "outputs": [
    {
     "name": "stdout",
     "output_type": "stream",
     "text": [
      "cluster 0 has 976 samples\n",
      "                                                 evalue  cluster\n",
      "17516   invalid literal for int() with base 10: 'Hello'        0\n",
      "188      invalid literal for int() with base 10: '98.6'        0\n",
      "9347      invalid literal for int() with base 10: 'six'        0\n",
      "1534    invalid literal for int() with base 10: 'hello'        0\n",
      "9088      invalid literal for int() with base 10: '10p'        0\n",
      "3632     invalid literal for int() with base 10: '12.5'        0\n",
      "12321       invalid literal for int() with base 10: 'C'        0\n",
      "990     invalid literal for int() with base 10: 'hello'        0\n",
      "4692         invalid literal for int() with base 10: ''        0\n",
      "7892   invalid literal for long() with base 10: 'hello'        0\n",
      "\n",
      "\n",
      "cluster 1 has 706 samples\n",
      "                                                  evalue  cluster\n",
      "541    Pandas data cast to numpy dtype of object. Che...        1\n",
      "5858   Input contains NaN, infinity or a value too la...        1\n",
      "2935   Input contains NaN, infinity or a value too la...        1\n",
      "4520                 cannot convert float NaN to integer        1\n",
      "17523  Input contains NaN, infinity or a value too la...        1\n",
      "2491   Input contains NaN, infinity or a value too la...        1\n",
      "3064                                                 NaN        1\n",
      "2114         pvals < 0, pvals > 1 or pvals contains NaNs        1\n",
      "5783                 array must not contain infs or NaNs        1\n",
      "4980   Input contains NaN, infinity or a value too la...        1\n",
      "\n",
      "\n",
      "cluster 2 has 1753 samples\n",
      "                                                  evalue  cluster\n",
      "2589           setting an array element with a sequence.        2\n",
      "5915                      arrays must all be same length        2\n",
      "15492        object of too small depth for desired array        2\n",
      "15936    cannot reshape array of size 8 into shape (2,5)        2\n",
      "5985   array larger than output file, or offset off edge        2\n",
      "13712          setting an array element with a sequence.        2\n",
      "16910   cannot reshape array of size 29 into shape (4,5)        2\n",
      "8761   cannot copy sequence with size 2 to array axis...        2\n",
      "15950    cannot reshape array of size 8 into shape (2,3)        2\n",
      "14053  cannot copy sequence with size 15 to array axi...        2\n",
      "\n",
      "\n",
      "cluster 3 has 1987 samples\n",
      "                                                  evalue  cluster\n",
      "16280  cannot do wild-card matching for paths that ar...        3\n",
      "11047                             insecure string pickle        3\n",
      "12983  Could not find a format to read the specified ...        3\n",
      "11246  invalid literal for int() with base 10: '/User...        3\n",
      "2270                                     empty separator        3\n",
      "15214                        invalid number of arguments        3\n",
      "7414               stat: embedded null character in path        3\n",
      "12453                          cannot mmap an empty file        3\n",
      "6311                         unconverted data remains: 3        3\n",
      "8097                       I/O operation on closed file.        3\n",
      "\n",
      "\n",
      "cluster 4 has 1232 samples\n",
      "                                                  evalue  cluster\n",
      "5587   x and y must have same first dimension, but ha...        4\n",
      "182    shapes (4,3) and (4,3) not aligned: 3 (dim 1) ...        4\n",
      "14913      Dimensions of labels and X must be compatible        4\n",
      "5368   Shape must be rank 1 but is rank 2 for 'Tile_1...        4\n",
      "1492            Dimension 1 in both shapes must be equal        4\n",
      "16326                           x and y must not be None        4\n",
      "6222   x and y must have same first dimension, but ha...        4\n",
      "5543   shapes (2,) and (3,) not aligned: 2 (dim 0) !=...        4\n",
      "2364                       x and y must be the same size        4\n",
      "11470  At least 2 points are needed to compute area u...        4\n",
      "\n",
      "\n",
      "cluster 5 has 1011 samples\n",
      "                                                  evalue  cluster\n",
      "14687             too many values to unpack (expected 2)        5\n",
      "15104    not enough values to unpack (expected 2, got 1)        5\n",
      "6062   Found input variables with inconsistent number...        5\n",
      "6713     not enough values to unpack (expected 3, got 2)        5\n",
      "871      not enough values to unpack (expected 4, got 2)        5\n",
      "6634   Found input variables with inconsistent number...        5\n",
      "4045   Found input variables with inconsistent number...        5\n",
      "5984              too many values to unpack (expected 2)        5\n",
      "10740  Found input variables with inconsistent number...        5\n",
      "2718     not enough values to unpack (expected 2, got 1)        5\n",
      "\n",
      "\n",
      "cluster 6 has 698 samples\n",
      "                                                  evalue  cluster\n",
      "272                        list.remove(x): x not in list        6\n",
      "655                        list.remove(x): x not in list        6\n",
      "9008                       list.remove(x): x not in list        6\n",
      "14733  The truth value of an array with more than one...        6\n",
      "16534                      list.remove(x): x not in list        6\n",
      "7448   Boolean array expected for the condition, not ...        6\n",
      "9065   The truth value of a Series is ambiguous. Use ...        6\n",
      "4358   The truth value of an array with more than one...        6\n",
      "15326  The truth value of an array with more than one...        6\n",
      "15017  The truth value of a Series is ambiguous. Use ...        6\n",
      "\n",
      "\n",
      "cluster 7 has 2912 samples\n",
      "                                                  evalue  cluster\n",
      "10920                 multiclass format is not supported        7\n",
      "10908  Unknown label type: (array([[1, 0, 0, ..., 0, ...        7\n",
      "15281               Not enough samples to build a trace.        7\n",
      "10754  \\nThe orca executable is required to export fi...        7\n",
      "4763   No products match search terms: {'platform': '...        7\n",
      "9697                              'Pluto' is not in list        7\n",
      "16497  use of function valued P, G, A requires a user...        7\n",
      "7244   Cannot evaluate tensor using `eval()`: No defa...        7\n",
      "1505      the input matrix must be positive semidefinite        7\n",
      "17951  Classification metrics can't handle a mix of m...        7\n",
      "\n",
      "\n",
      "cluster 8 has 2730 samples\n",
      "                                                  evalue  cluster\n",
      "12020                    range parameter must be finite.        8\n",
      "14941                   'marker' must be between 0 and 1        8\n",
      "15541               labels ['new'] not contained in axis        8\n",
      "17982  a must be greater than 0 unless no samples are...        8\n",
      "6839   The index(es) has/have not been built yet. Cal...        8\n",
      "13556          Indexes have overlapping values: ['Site']        8\n",
      "1909       Only positive integers can have square roots.        8\n",
      "9109                             minlen must be at least        8\n",
      "3702   dictionary update sequence element #0 has leng...        8\n",
      "17387  Length of values (8) does not match length of ...        8\n",
      "\n",
      "\n",
      "cluster 9 has 1930 samples\n",
      "                                                  evalue  cluster\n",
      "8001   Failed to convert a NumPy array to a Tensor (U...        9\n",
      "14653  solve1: Input operand 1 has a mismatch in its ...        9\n",
      "13301  ('Expected `model` argument to be a `Model` in...        9\n",
      "3705   Negative dimension size caused by subtracting ...        9\n",
      "8731   The parameter 'means' should have the shape of...        9\n",
      "11201  This model has not yet been built. Build the m...        9\n",
      "8562   Failed to convert a NumPy array to a Tensor (U...        9\n",
      "17136  Input size must be at least 48x48; got `input_...        9\n",
      "3759                                 Must pass 2-d input        9\n",
      "3974   Invalid RGBA argument: masked_array(data=[0.12...        9\n",
      "\n",
      "\n",
      "cluster 10 has 908 samples\n",
      "                                                  evalue  cluster\n",
      "11073  could not convert string to float: 'PrivacySup...       10\n",
      "10677        could not convert string to float: ' South'       10\n",
      "14458           could not convert string to float: 'Low'       10\n",
      "7008     could not convert string to float: '2010-06-28'       10\n",
      "8749         could not convert string to float: 'Toyota'       10\n",
      "3732       could not convert string to float: 'features'       10\n",
      "12322       could not convert string to float: 'fsdfsdf'       10\n",
      "7030      could not convert string to float: 'APARTMENT'       10\n",
      "4009   could not convert string to float: 'One-to-fou...       10\n",
      "9804         could not convert string to float: 'Female'       10\n",
      "\n",
      "\n",
      "cluster 11 has 1305 samples\n",
      "                                                  evalue  cluster\n",
      "9106   operands could not be broadcast together with ...       11\n",
      "7231   operands could not be broadcast together with ...       11\n",
      "5493   operands could not be broadcast together with ...       11\n",
      "8347   operands could not be broadcast together with ...       11\n",
      "15584  shape mismatch: objects cannot be broadcast to...       11\n",
      "16863  operands could not be broadcast together with ...       11\n",
      "15357  operands could not be broadcast together with ...       11\n",
      "14345  operands could not be broadcast together with ...       11\n",
      "8231   operands could not be broadcast together with ...       11\n",
      "14667  operands could not be broadcast together with ...       11\n",
      "\n",
      "\n"
     ]
    }
   ],
   "source": [
    "num_clusters = 12\n",
    "res = cluster_util.cluster_kmeans(X_transformers, n_clusters=num_clusters)\n",
    "df2_err_ename.loc[:,\"cluster\"] = res\n",
    "cluster_util.print_clusters(num_clusters, df2_err_ename[['evalue','cluster']])"
   ]
  },
  {
   "cell_type": "code",
   "execution_count": 21,
   "id": "25ab801d",
   "metadata": {},
   "outputs": [],
   "source": [
    "df2_err_ename = df2_err_ename.rename(columns={\"cluster\": \"cluster_transformers\"})\n",
    "df2_err_ename.to_csv(\"C:/Users/yirwa29/Downloads/Dataset-Nb/nberror_g_cluster_nameerror.csv\", index=False, encoding='utf-8')"
   ]
  },
  {
   "cell_type": "markdown",
   "id": "21a98de7",
   "metadata": {},
   "source": [
    "##### word embeddings - GloVe\n",
    "\n",
    "Turn sentences to vectors via word embeddings by taking the mean/sum of all word embeddings of the sentence"
   ]
  },
  {
   "cell_type": "code",
   "execution_count": 48,
   "id": "7d04b665",
   "metadata": {},
   "outputs": [],
   "source": [
    "glove_vectors = cluster_util.load_glove(\"C:/Users/yirwa29/Downloads/Dataset-Nb/glove.6B/glove.6B.200d.txt\")\n",
    "X_glove = np.array([cluster_util.vectorizer_word2vec(xi, glove_vectors, 200) for xi in err_descs])"
   ]
  },
  {
   "cell_type": "code",
   "execution_count": 49,
   "id": "6dc700bc",
   "metadata": {},
   "outputs": [
    {
     "data": {
      "text/plain": [
       "(18148, 200)"
      ]
     },
     "execution_count": 49,
     "metadata": {},
     "output_type": "execute_result"
    }
   ],
   "source": [
    "X_glove.shape"
   ]
  },
  {
   "cell_type": "code",
   "execution_count": 50,
   "id": "fff2bf1d",
   "metadata": {},
   "outputs": [
    {
     "data": {
      "image/png": "[encoded data removed]",
      "text/plain": [
       "<Figure size 640x480 with 1 Axes>"
      ]
     },
     "metadata": {},
     "output_type": "display_data"
    }
   ],
   "source": [
    "K_range = range(1,60)\n",
    "inertias = cluster_util.elbow_for_kmean(X_glove, K_range = K_range)\n",
    "\n",
    "import matplotlib.pyplot as plt \n",
    "\n",
    "plt.plot(K_range, inertias, 'bx-')\n",
    "plt.xlabel('Values of K')\n",
    "plt.ylabel('Inertias')\n",
    "plt.title('The Elbow Method using Inertias')\n",
    "plt.show()"
   ]
  },
  {
   "cell_type": "code",
   "execution_count": 51,
   "id": "7d9886b3",
   "metadata": {},
   "outputs": [
    {
     "name": "stdout",
     "output_type": "stream",
     "text": [
      "cluster 0 has 995 samples\n",
      "                                                  evalue  cluster\n",
      "16754  invalid literal for int() with base 10: '0.752...        0\n",
      "11005    invalid literal for long() with base 10: 'hola'        0\n",
      "14279  invalid literal for int() with base 10: '5,000...        0\n",
      "15671       invalid literal for int() with base 10: '5a'        0\n",
      "15183        invalid literal for int() with base 10: 'a'        0\n",
      "8239                             cannot convert k to int        0\n",
      "9088       invalid literal for int() with base 10: '10p'        0\n",
      "4878     invalid literal for int() with base 10: 'teste'        0\n",
      "8942       invalid literal for int() with base 10: 'inf'        0\n",
      "17457     invalid literal for int() with base 10: '13A2'        0\n",
      "\n",
      "\n",
      "cluster 1 has 3375 samples\n",
      "                                                  evalue  cluster\n",
      "8385   Unable to coerce to Series, length must be 1: ...        1\n",
      "12050                       Value must be a real number.        1\n",
      "8724         3 columns passed, passed data had 0 columns        1\n",
      "1497                       n_iter should be at least 250        1\n",
      "8537   Character flag for output unit is not defined....        1\n",
      "9511   color kwarg must have one color per data set. ...        1\n",
      "5405   Length of values (146891) does not match lengt...        1\n",
      "15848                 NaTType does not support toordinal        1\n",
      "17989        5 columns passed, passed data had 2 columns        1\n",
      "1413   Target is multiclass but average='binary'. Ple...        1\n",
      "\n",
      "\n",
      "cluster 2 has 1104 samples\n",
      "                                                  evalue  cluster\n",
      "9534                                   math domain error        2\n",
      "12284                    Could not deserialize key data.        2\n",
      "579    must supply lists of the same length for the d...        2\n",
      "16636    'a' cannot be empty unless no samples are taken        2\n",
      "8361   Number of labels=404 does not match number of ...        2\n",
      "5821                Not enough samples to build a trace.        2\n",
      "11598  Found input variables with inconsistent number...        2\n",
      "6516        data type <class 'numpy.uint16'> not inexact        2\n",
      "1147                                       Trailing data        2\n",
      "5396   Found input variables with inconsistent number...        2\n",
      "\n",
      "\n",
      "cluster 3 has 1653 samples\n",
      "                                                  evalue  cluster\n",
      "14802  Number of labels is 1. Valid values are 2 to n...        3\n",
      "5298   shapes (4,2) and (3,3) not aligned: 2 (dim 1) ...        3\n",
      "17319    not enough values to unpack (expected 6, got 0)        3\n",
      "15306    not enough values to unpack (expected 2, got 1)        3\n",
      "12877             too many values to unpack (expected 2)        3\n",
      "14113    not enough values to unpack (expected 3, got 2)        3\n",
      "14434  shapes (38,1) and (38,1) not aligned: 1 (dim 1...        3\n",
      "4092   The second argument is not a matrix: [['1', '1...        3\n",
      "11689             too many values to unpack (expected 2)        3\n",
      "5566              too many values to unpack (expected 2)        3\n",
      "\n",
      "\n",
      "cluster 4 has 827 samples\n",
      "                                                  evalue  cluster\n",
      "5490           could not convert string to float: 'male'        4\n",
      "8652    could not convert string to float: '$125,000.00'        4\n",
      "13155          could not convert string to float: 'eraX'        4\n",
      "1652      could not convert string to float: '0.509695F'        4\n",
      "12526          could not convert string to float: 'text'        4\n",
      "8723         could not convert string to float: 'Setosa'        4\n",
      "7799        could not convert string to float: 'KMOMB23'        4\n",
      "2921              could not convert string to float: '-'        4\n",
      "7409   could not convert string to float: 'IT Recruiter'        4\n",
      "8235     could not convert string to float: 'F. Aursnes'        4\n",
      "\n",
      "\n",
      "cluster 5 has 2703 samples\n",
      "                                                  evalue  cluster\n",
      "781    ('Unrecognized keyword arguments:', dict_keys(...        5\n",
      "14602                                                NaN        5\n",
      "11776                     max() arg is an empty sequence        5\n",
      "14522  NodeDef mentions attr 'Truncate' not in Op<nam...        5\n",
      "9449                                 substring not found        5\n",
      "13674                    Jeff doesn't have enough money.        5\n",
      "8862   The 'dtype' option is not supported with the '...        5\n",
      "6386   'brBG' is not a valid value for name; supporte...        5\n",
      "14921  The passed save_path is not a valid checkpoint...        5\n",
      "2798                      min() arg is an empty sequence        5\n",
      "\n",
      "\n",
      "cluster 6 has 133 samples\n",
      "                                      evalue  cluster\n",
      "15093         arrays must all be same length        6\n",
      "17622         arrays must all be same length        6\n",
      "10253         arrays must all be same length        6\n",
      "3487   All arrays must be of the same length        6\n",
      "9332   All arrays must be of the same length        6\n",
      "12442  All arrays must be of the same length        6\n",
      "2187   All arrays must be of the same length        6\n",
      "5747          arrays must all be same length        6\n",
      "9166          arrays must all be same length        6\n",
      "15538         arrays must all be same length        6\n",
      "\n",
      "\n",
      "cluster 7 has 2110 samples\n",
      "                                                  evalue  cluster\n",
      "10101  The truth value of a Series is ambiguous. Use ...        7\n",
      "13730                                       Shapes (None        7\n",
      "2742         Cannot describe a DataFrame without columns        7\n",
      "5273   The truth value of an array with more than one...        7\n",
      "12970  Unrecognized environment variable \"DEEPTHOUGHT...        7\n",
      "6806   Setting a random_state has no effect since shu...        7\n",
      "1227             at least one array or dtype is required        7\n",
      "16758  The truth value of a Series is ambiguous. Use ...        7\n",
      "16924  Make sure your experiment result is correct! O...        7\n",
      "9531   Calling `Model.predict` in graph mode is not s...        7\n",
      "\n",
      "\n",
      "cluster 8 has 1019 samples\n",
      "                                                  evalue  cluster\n",
      "11547  operands could not be broadcast together with ...        8\n",
      "1375   operands could not be broadcast together with ...        8\n",
      "12431  operands could not be broadcast together with ...        8\n",
      "2190   operands could not be broadcast together with ...        8\n",
      "1586   operands could not be broadcast together with ...        8\n",
      "7546   operands could not be broadcast together with ...        8\n",
      "2425   operands could not be broadcast together with ...        8\n",
      "1297   operands could not be broadcast together with ...        8\n",
      "8843   operands could not be broadcast together with ...        8\n",
      "3785   operands could not be broadcast together with ...        8\n",
      "\n",
      "\n",
      "cluster 9 has 742 samples\n",
      "                                                  evalue  cluster\n",
      "12635                      x and y must be the same size        9\n",
      "15875  x and y must have same first dimension, but ha...        9\n",
      "16889  x and y must have same first dimension, but ha...        9\n",
      "10485  Incompatible dimension for X and Y matrices: X...        9\n",
      "9528                       x and y must be the same size        9\n",
      "16398  x and y must have same first dimension, but ha...        9\n",
      "9816   x and y must have same first dimension, but ha...        9\n",
      "11935  x and y must have same first dimension, but ha...        9\n",
      "17296  'c' argument has 1554 elements, which is incon...        9\n",
      "6689   x and y must have same first dimension, but ha...        9\n",
      "\n",
      "\n",
      "cluster 10 has 2216 samples\n",
      "                                                  evalue  cluster\n",
      "11523                                 Input contains NaN       10\n",
      "16938        matrices need to have compatible dimensions       10\n",
      "10874                cannot convert float NaN to integer       10\n",
      "3880                           No variables to optimize.       10\n",
      "10796  Cannot convert non-finite values (NA or inf) t...       10\n",
      "14097  Input contains NaN, infinity or a value too la...       10\n",
      "16029                          Radius cannot be negative       10\n",
      "7383   cannot swap from dimension 'obs' because it is...       10\n",
      "7809   If using all scalar values, you must pass an i...       10\n",
      "16582       Expect x to be a non-empty array or dataset.       10\n",
      "\n",
      "\n",
      "cluster 11 has 1271 samples\n",
      "                                                  evalue  cluster\n",
      "15919  slice index 0 of dimension 0 out of bounds. fo...       11\n",
      "879    dictionary update sequence element #0 has leng...       11\n",
      "4524   Input dimension mis-match. (input[0].shape[1] ...       11\n",
      "5660   With n_samples=0, test_size=0.05 and train_siz...       11\n",
      "2428   matmul: Input operand 1 has a mismatch in its ...       11\n",
      "17602  matmul: Input operand 1 has a mismatch in its ...       11\n",
      "14072  x and y can be no greater than 2-D, but have s...       11\n",
      "13141  's' is a bad directive in format '%Y-%m-%d %H:...       11\n",
      "97     Found array with 0 sample(s) (shape=(0, 256)) ...       11\n",
      "11148  Cannot feed value of shape (1, 299, 299, 3) fo...       11\n",
      "\n",
      "\n"
     ]
    }
   ],
   "source": [
    "num_clusters = 12\n",
    "res = cluster_util.cluster_kmeans(X_glove, n_clusters=num_clusters)\n",
    "df2_err_ename.loc[:,\"cluster\"] = res\n",
    "cluster_util.print_clusters(num_clusters, df2_err_ename[['evalue','cluster']])"
   ]
  },
  {
   "cell_type": "code",
   "execution_count": 53,
   "id": "57c2196d",
   "metadata": {},
   "outputs": [],
   "source": [
    "df2_err_ename = df2_err_ename.rename(columns={\"cluster\": \"cluster_glove\"})\n",
    "df2_err_ename.to_csv(\"C:/Users/yirwa29/Downloads/Dataset-Nb/nberror_g_cluster_nameerror.csv\", index=False, encoding='utf-8')"
   ]
  },
  {
   "cell_type": "code",
   "execution_count": 103,
   "id": "5652e91c",
   "metadata": {},
   "outputs": [
    {
     "data": {
      "image/png": "[encoded data removed]",
      "text/plain": [
       "<Figure size 600x300 with 1 Axes>"
      ]
     },
     "metadata": {},
     "output_type": "display_data"
    }
   ],
   "source": [
    "X_glove_scaled = cluster_util.scaling(X_glove)\n",
    "cluster_util.eps_dbscan(n_neighbors, X_glove_scaled)"
   ]
  },
  {
   "cell_type": "code",
   "execution_count": 113,
   "id": "a708128b",
   "metadata": {},
   "outputs": [
    {
     "name": "stdout",
     "output_type": "stream",
     "text": [
      "Estimated no. of clusters: 198\n",
      "Estimated no. of noise points: 7398\n"
     ]
    }
   ],
   "source": [
    "res = cluster_util.cluster_dbscan(X_glove_scaled, eps=5, min_samples=10)"
   ]
  },
  {
   "cell_type": "code",
   "execution_count": null,
   "id": "532e8eee",
   "metadata": {},
   "outputs": [],
   "source": []
  },
  {
   "cell_type": "code",
   "execution_count": null,
   "id": "8b4242bd",
   "metadata": {},
   "outputs": [],
   "source": []
  },
  {
   "cell_type": "code",
   "execution_count": null,
   "id": "713355d7",
   "metadata": {},
   "outputs": [],
   "source": []
  },
  {
   "cell_type": "code",
   "execution_count": 22,
   "id": "e13e8f33",
   "metadata": {},
   "outputs": [
    {
     "name": "stdout",
     "output_type": "stream",
     "text": [
      "cluster 0 has 716 samples\n",
      "                                               errdesc  cluster\n",
      "17556           too many values to unpack (expected 4)        0\n",
      "17832           too many values to unpack (expected 2)        0\n",
      "2238            too many values to unpack (expected 2)        0\n",
      "1883            too many values to unpack (expected 4)        0\n",
      "9730   not enough values to unpack (expected 5, got 1)        0\n",
      "8018            too many values to unpack (expected 2)        0\n",
      "5165   not enough values to unpack (expected 3, got 1)        0\n",
      "17923           too many values to unpack (expected 2)        0\n",
      "179             too many values to unpack (expected 2)        0\n",
      "6100                     All values must >= 1 and <= 9        0\n",
      "\n",
      "\n",
      "cluster 1 has 965 samples\n",
      "                                                 errdesc  cluster\n",
      "1171      invalid literal for int() with base 10: 'Good'        1\n",
      "12451        invalid literal for int() with base 10: ' '        1\n",
      "11841  invalid literal for int() with base 10: '#VALUE!'        1\n",
      "17493    invalid literal for int() with base 10: 'hello'        1\n",
      "11811      invalid literal for int() with base 10: 'tes'        1\n",
      "17548         invalid literal for int() with base 10: ''        1\n",
      "15898  invalid literal for int() with base 10: '96,73...        1\n",
      "6914         invalid literal for int() with base 10: '²'        1\n",
      "7990        invalid literal for int() with base 10: '-f'        1\n",
      "16999    invalid literal for int() with base 10: 'hello'        1\n",
      "\n",
      "\n",
      "cluster 2 has 688 samples\n",
      "                                                 errdesc  cluster\n",
      "9765   The truth value of a Series is ambiguous. Use ...        2\n",
      "3853   The truth value of an array with more than one...        2\n",
      "1690   The truth value of an array with more than one...        2\n",
      "14956  The truth value of an array with more than one...        2\n",
      "5045   The truth value of a Series is ambiguous. Use ...        2\n",
      "4570   The truth value of a Series is ambiguous. Use ...        2\n",
      "15683  The truth value of a DataFrame is ambiguous. U...        2\n",
      "16853  The truth value of an array with more than one...        2\n",
      "438    The truth value of an array with more than one...        2\n",
      "11203           setting an array element with a sequence        2\n",
      "\n",
      "\n",
      "cluster 3 has 10800 samples\n",
      "                                                 errdesc  cluster\n",
      "14388     zero-dimensional arrays cannot be concatenated        3\n",
      "6888                 array must not contain infs or NaNs        3\n",
      "4924   [E088] Text of length 1100191 exceeds maximum ...        3\n",
      "10428  Shape of passed values is (9997, 9997), indice...        3\n",
      "3892   `handle_unknown` must be 'error' when the drop...        3\n",
      "17892   key of type tuple not found and not a MultiIndex        3\n",
      "536                       min() arg is an empty sequence        3\n",
      "5746                 Don't know what to do with rlev = L        3\n",
      "8782   Cannot evaluate w/o an evaluation worker set i...        3\n",
      "13318                                    No tables found        3\n",
      "\n",
      "\n",
      "cluster 4 has 1257 samples\n",
      "                                                 errdesc  cluster\n",
      "14802  operands could not be broadcast together with ...        4\n",
      "5493   operands could not be broadcast together with ...        4\n",
      "8851   shapes (3,5) and (3,3) not aligned: 5 (dim 1) ...        4\n",
      "7887   shapes (2,3) and (2,2) not aligned: 3 (dim 1) ...        4\n",
      "7107   operands could not be broadcast together with ...        4\n",
      "13350  operands could not be broadcast together with ...        4\n",
      "10552  shapes (3,1) and (3,4) not aligned: 1 (dim 1) ...        4\n",
      "7528   operands could not be broadcast together with ...        4\n",
      "13938  operands could not be broadcast together with ...        4\n",
      "211    operands could not be broadcast together with ...        4\n",
      "\n",
      "\n",
      "cluster 5 has 687 samples\n",
      "                                                 errdesc  cluster\n",
      "8029   Input contains NaN, infinity or a value too la...        5\n",
      "4571   Input contains NaN, infinity or a value too la...        5\n",
      "1715   Found input variables with inconsistent number...        5\n",
      "7753   Found input variables with inconsistent number...        5\n",
      "7981   Found input variables with inconsistent number...        5\n",
      "3202   Found input variables with inconsistent number...        5\n",
      "14164  Input contains NaN, infinity or a value too la...        5\n",
      "15569  Found input variables with inconsistent number...        5\n",
      "12968                           Input must be 1- or 2-d.        5\n",
      "2375   Found input variables with inconsistent number...        5\n",
      "\n",
      "\n",
      "cluster 6 has 2076 samples\n",
      "                                                 errdesc  cluster\n",
      "9350   Error when checking input: expected masking_17...        6\n",
      "8547   cannot reshape array of size 47040000 into sha...        6\n",
      "17096  shape mismatch: objects cannot be broadcast to...        6\n",
      "12763  Error when checking target: expected dense_7 t...        6\n",
      "1524    cannot reshape array of size 6 into shape (2,30)        6\n",
      "5484    cannot reshape array of size 16 into shape (5,3)        6\n",
      "5084   Error when checking : expected dense_1_input t...        6\n",
      "3895   zero-size array to reduction operation minimum...        6\n",
      "3904   Found array with 0 sample(s) (shape=(0, 2)) wh...        6\n",
      "15700  could not broadcast input array from shape (10...        6\n",
      "\n",
      "\n",
      "cluster 7 has 966 samples\n",
      "                                                 errdesc  cluster\n",
      "6828   could not convert string to float: '0.81034,0....        7\n",
      "17222  could not convert string to float: Iris-virginica        7\n",
      "4949   could not convert string to float: 'ADP Mobile...        7\n",
      "5667            could not convert string to float: 'CLT'        7\n",
      "9809         could not convert string to float: 'Female'        7\n",
      "16533           could not convert string to float: '[(0'        7\n",
      "14097           could not convert string to float: 'Low'        7\n",
      "526           could not convert string to float: 'heavy'        7\n",
      "705             could not convert string to float: 'Low'        7\n",
      "14242  could not convert string to float: b'\\tfeature...        7\n",
      "\n",
      "\n"
     ]
    }
   ],
   "source": [
    "num_clusters = 8\n",
    "_, res, _ = cluster_util.cluster_kmeans(input_texts=err_descs, n_clusters=num_clusters, max_iter=1000)\n",
    "# plot the results \n",
    "# cluster_util.plot_clusters(vectorized_descs, num_clusters, km_model.labels_)\n",
    "cluster_util.print_clusters(num_clusters, res)"
   ]
  },
  {
   "cell_type": "markdown",
   "id": "3ca47591",
   "metadata": {},
   "source": [
    "##### Note:\n",
    "\n",
    "8 clusters for ValueError:\n",
    "\n",
    "    1. too many values to unpack\n",
    "    2. invalid literal for int() with base 10\n",
    "    3. setting an array element with a sequence, The truth value of a Series is ambiguous/with more than one value..\n",
    "    4. others\n",
    "    5. operands could not be broadcast together ...\n",
    "    6. Input contains NaN, infinity or..\n",
    "    7. array shape mismatch\n",
    "    8. could not convert *sometype* to *sometype* .."
   ]
  },
  {
   "cell_type": "markdown",
   "id": "f411dd1b",
   "metadata": {},
   "source": [
    "#### NameError, evalue"
   ]
  },
  {
   "cell_type": "code",
   "execution_count": 6,
   "id": "1a35698c",
   "metadata": {},
   "outputs": [],
   "source": [
    "df2_err_ename = df2_err[df2_err['ename']=='NameError']\n",
    "err_descs = df2_err_ename['evalue'].values.astype('U') # traceback: memory error"
   ]
  },
  {
   "cell_type": "code",
   "execution_count": null,
   "id": "17a671fa",
   "metadata": {},
   "outputs": [],
   "source": []
  },
  {
   "cell_type": "code",
   "execution_count": null,
   "id": "e8b57dda",
   "metadata": {},
   "outputs": [],
   "source": []
  },
  {
   "cell_type": "code",
   "execution_count": null,
   "id": "b486670f",
   "metadata": {},
   "outputs": [],
   "source": []
  },
  {
   "cell_type": "code",
   "execution_count": null,
   "id": "db4e1fbf",
   "metadata": {},
   "outputs": [],
   "source": [
    "num_clusters = 2\n",
    "_, res, _ = cluster_util.cluster_kmeans(input_texts=err_descs, n_clusters=num_clusters) # km_model, res, vectorized_descs\n",
    "# plot the results \n",
    "# cluster_util.plot_clusters(vectorized_descs, num_clusters, km_model.labels_)"
   ]
  },
  {
   "cell_type": "code",
   "execution_count": 7,
   "id": "e9c5890a",
   "metadata": {},
   "outputs": [
    {
     "name": "stdout",
     "output_type": "stream",
     "text": [
      "cluster 0 has 50 samples\n",
      "                              errdesc  cluster\n",
      "36857     name 'error' is not defined        0\n",
      "30187     name 'error' is not defined        0\n",
      "166       name 'error' is not defined        0\n",
      "17326     name 'error' is not defined        0\n",
      "694       name 'error' is not defined        0\n",
      "1979      name 'error' is not defined        0\n",
      "32475     name 'error' is not defined        0\n",
      "34312     name 'error' is not defined        0\n",
      "31205  This is the raised name error.        0\n",
      "25804     name 'error' is not defined        0\n",
      "\n",
      "\n",
      "cluster 1 has 36955 samples\n",
      "                                   errdesc  cluster\n",
      "7019              name 'df' is not defined        1\n",
      "31697           name 'tmax' is not defined        1\n",
      "20632            name 'nlp' is not defined        1\n",
      "10551             name 'np' is not defined        1\n",
      "35938             name 'bb' is not defined        1\n",
      "11316          name 'model' is not defined        1\n",
      "23866           name 'set1' is not defined        1\n",
      "5088             name 'plt' is not defined        1\n",
      "29311     name 'SqlService' is not defined        1\n",
      "27845  name 'obj_a_aspects' is not defined        1\n",
      "\n",
      "\n"
     ]
    }
   ],
   "source": [
    "cluster_util.print_clusters(num_clusters, res)"
   ]
  },
  {
   "cell_type": "markdown",
   "id": "b1d38706",
   "metadata": {},
   "source": [
    "##### Note:\n",
    "\n",
    "found **ignored** values in evalue column in a cluster, but they seem have evalue in traceback. I extracted those and retried.\n",
    "\n",
    "##### No obvious clusters found in NameError."
   ]
  },
  {
   "cell_type": "markdown",
   "id": "95575b46",
   "metadata": {},
   "source": [
    "#### TypeError, evalue"
   ]
  },
  {
   "cell_type": "code",
   "execution_count": 16,
   "id": "581fd1a7",
   "metadata": {},
   "outputs": [],
   "source": [
    "df2_err_ename = df2_err[df2_err['ename']=='TypeError']\n",
    "err_descs = df2_err_ename['evalue'].values.astype('U') # traceback: memory error"
   ]
  },
  {
   "cell_type": "code",
   "execution_count": 17,
   "id": "a71c96aa",
   "metadata": {},
   "outputs": [
    {
     "name": "stdout",
     "output_type": "stream",
     "text": [
      "cluster 0 has 1488 samples\n",
      "                                             errdesc  cluster\n",
      "11659    can only concatenate str (not \"int\") to str        0\n",
      "8625                    'int' object is not iterable        0\n",
      "4428                    'str' object is not callable        0\n",
      "12026    can only concatenate str (not \"int\") to str        0\n",
      "21289    can only concatenate str (not \"int\") to str        0\n",
      "6557           cannot unpack non-iterable int object        0\n",
      "14131                   'str' object is not callable        0\n",
      "9622                            must be str, not int        0\n",
      "9063     can only concatenate str (not \"int\") to str        0\n",
      "16412  can only concatenate str (not \"float\") to str        0\n",
      "\n",
      "\n",
      "cluster 1 has 2519 samples\n",
      "                                                 errdesc  cluster\n",
      "18588  emptyFunction() takes 0 positional arguments b...        1\n",
      "20039  field() takes 0 positional arguments but 1 was...        1\n",
      "1419   emptyFunction() takes 0 positional arguments b...        1\n",
      "3752   emptyFunction() takes 0 positional arguments b...        1\n",
      "3308   emptyFunction() takes 0 positional arguments b...        1\n",
      "1512   emptyFunction() takes 0 positional arguments b...        1\n",
      "3525   emptyFunction() takes 0 positional arguments b...        1\n",
      "3748   emptyFunction() takes 0 positional arguments b...        1\n",
      "5311   emptyFunction() takes 0 positional arguments b...        1\n",
      "5024   emptyFunction() takes 0 positional arguments b...        1\n",
      "\n",
      "\n",
      "cluster 2 has 3008 samples\n",
      "                                       errdesc  cluster\n",
      "16035     object of type 'Sample' has no len()        2\n",
      "6764            'tuple' object is not callable        2\n",
      "6350            'Human' object is not callable        2\n",
      "22486        object of type 'int' has no len()        2\n",
      "18095  'generator' object is not subscriptable        2\n",
      "21724            'dict' object is not callable        2\n",
      "1964    'NoneType' object is not subscriptable        2\n",
      "13224        object of type 'int' has no len()        2\n",
      "10881        'NoneType' object is not callable        2\n",
      "21954       'DataFrame' object is not callable        2\n",
      "\n",
      "\n",
      "cluster 3 has 1944 samples\n",
      "                                               errdesc  cluster\n",
      "6338   'tuple' object does not support item assignment        3\n",
      "4682   'tuple' object does not support item assignment        3\n",
      "15872    'str' object does not support item assignment        3\n",
      "12859    'tuple' object does not support item deletion        3\n",
      "5968   'tuple' object does not support item assignment        3\n",
      "1836   'tuple' object does not support item assignment        3\n",
      "9164   'tuple' object does not support item assignment        3\n",
      "17380  'tuple' object does not support item assignment        3\n",
      "8144     'str' object does not support item assignment        3\n",
      "22     'tuple' object does not support item assignment        3\n",
      "\n",
      "\n",
      "cluster 4 has 9320 samples\n",
      "                                                 errdesc  cluster\n",
      "11204  __init__() got an unexpected keyword argument ...        4\n",
      "18967  f() missing 1 required positional argument: '_ps'        4\n",
      "18096       strftime() argument 1 must be str, not tuple        4\n",
      "17388  make_csv_dataset_v2() got an unexpected keywor...        4\n",
      "1778                      new(): invalid data type 'str'        4\n",
      "22079  plot_e() missing 1 required positional argumen...        4\n",
      "16379                 reload() argument must be a module        4\n",
      "5519                array([1.]) is not JSON serializable        4\n",
      "12362  discriminator() got an unexpected keyword argu...        4\n",
      "10953  cannot insert an item into a CategoricalIndex ...        4\n",
      "\n",
      "\n",
      "cluster 5 has 612 samples\n",
      "                                                 errdesc  cluster\n",
      "17472  list indices must be integers or slices, not L...        5\n",
      "2245   list indices must be integers or slices, not t...        5\n",
      "2776                     Vector indices must be integers        5\n",
      "22322  list indices must be integers or slices, not t...        5\n",
      "2768    list indices must be integers or slices, not str        5\n",
      "9082   list indices must be integers or slices, not t...        5\n",
      "12324   list indices must be integers or slices, not str        5\n",
      "19362                    string indices must be integers        5\n",
      "9252   slice indices must be integers or None or have...        5\n",
      "7054                     string indices must be integers        5\n",
      "\n",
      "\n",
      "cluster 6 has 1199 samples\n",
      "                                                 errdesc  cluster\n",
      "10839                      'list' object is not callable        6\n",
      "528        can only concatenate list (not \"int\") to list        6\n",
      "11078                   unhashable type: 'numpy.ndarray'        6\n",
      "11097                            unhashable type: 'list'        6\n",
      "7296                             unhashable type: 'list'        6\n",
      "1748       can only concatenate list (not \"str\") to list        6\n",
      "18889      can only concatenate list (not \"int\") to list        6\n",
      "17307      can only concatenate list (not \"int\") to list        6\n",
      "23394                            unhashable type: 'list'        6\n",
      "18277  unsupported operand type(s) for divmod(): 'lis...        6\n",
      "\n",
      "\n",
      "cluster 7 has 1701 samples\n",
      "                                                 errdesc  cluster\n",
      "8668   unsupported operand type(s) for *: 'int' and '...        7\n",
      "21976  unsupported operand type(s) for &: 'float' and...        7\n",
      "21714  unsupported operand type(s) for +: 'dict' and ...        7\n",
      "12697  unsupported operand type(s) for +: 'int' and '...        7\n",
      "5554   unsupported operand type(s) for -: 'str' and '...        7\n",
      "23533  unsupported operand type(s) for /: 'str' and '...        7\n",
      "17011  unsupported operand type(s) for -: 'float' and...        7\n",
      "12920  unsupported operand type(s) for +: 'int' and '...        7\n",
      "3964   unsupported operand type(s) for +: 'int' and '...        7\n",
      "22724  unsupported operand type(s) for ** or pow(): '...        7\n",
      "\n",
      "\n",
      "cluster 8 has 1098 samples\n",
      "                                                 errdesc  cluster\n",
      "14976                object of type 'float' has no len()        8\n",
      "15210  Image data of dtype object cannot be converted...        8\n",
      "9936   'float' object cannot be interpreted as an int...        8\n",
      "11817  'Tensor' object cannot be interpreted as an in...        8\n",
      "7690   only integer scalar arrays can be converted to...        8\n",
      "260    __init__(): incompatible constructor arguments...        8\n",
      "15175                     'float' object is not iterable        8\n",
      "8503               bad operand type for unary ~: 'float'        8\n",
      "5490                      'float' object is not callable        8\n",
      "4262                                 a float is required        8\n",
      "\n",
      "\n",
      "cluster 9 has 730 samples\n",
      "                                                 errdesc  cluster\n",
      "13451  '>' not supported between instances of 'str' a...        9\n",
      "21527  '>' not supported between instances of 'list' ...        9\n",
      "12912  '<' not supported between instances of 'int' a...        9\n",
      "23278  ufunc 'isnan' not supported for the input type...        9\n",
      "9341   '>' not supported between instances of 'NoneTy...        9\n",
      "16225  '<' not supported between instances of 'str' a...        9\n",
      "6175   '<' not supported between instances of 'int' a...        9\n",
      "8358   '<' not supported between instances of 'float'...        9\n",
      "17272  '<' not supported between instances of 'str' a...        9\n",
      "19436  '<' not supported between instances of 'tuple'...        9\n",
      "\n",
      "\n"
     ]
    }
   ],
   "source": [
    "num_clusters = 10\n",
    "_, res, _ = cluster_util.cluster_kmeans(input_texts=err_descs, n_clusters=num_clusters, max_iter=1000)\n",
    "# plot the results \n",
    "# cluster_util.plot_clusters(vectorized_descs, num_clusters, km_model.labels_)\n",
    "cluster_util.print_clusters(num_clusters, res)"
   ]
  },
  {
   "cell_type": "markdown",
   "id": "86467d95",
   "metadata": {},
   "source": [
    "##### Note:\n",
    "\n",
    "10 clusters for TypeError:\n",
    "\n",
    "    1. can only concatenate *something* to str\n",
    "    2. *something* missing *somenumber* required positional arguments...\n",
    "    3. *something* object is not callable/iterable/has no len()\n",
    "    4. *something* object does not support item assignment\n",
    "    5. others\n",
    "    6. list/tuple indices must be integers or slices, not str\n",
    "    7. unhashable type: 'list/dict/slice', can only concatenate list (not \"int\") to list\n",
    "    8. unsupported operand type(s) for -: 'str' and '..\n",
    "    9. *something* object cannot be interpreted/converted...\n",
    "    10. '<' not supported between instances of 'str' a.."
   ]
  },
  {
   "cell_type": "markdown",
   "id": "02d23e5b",
   "metadata": {},
   "source": [
    "#### AttributeError, evalue"
   ]
  },
  {
   "cell_type": "code",
   "execution_count": 23,
   "id": "173d26b9",
   "metadata": {},
   "outputs": [],
   "source": [
    "df2_err_ename = df2_err[df2_err['ename']=='AttributeError']\n",
    "err_descs = df2_err_ename['evalue'].values.astype('U')"
   ]
  },
  {
   "cell_type": "code",
   "execution_count": 24,
   "id": "e3dfa269",
   "metadata": {
    "scrolled": true
   },
   "outputs": [
    {
     "name": "stdout",
     "output_type": "stream",
     "text": [
      "cluster 0 has 855 samples\n",
      "                                                 errdesc  cluster\n",
      "12354         'DataFrame' object has no attribute 'Date'        0\n",
      "2388           'DataFrame' object has no attribute 'get'        0\n",
      "11488     'DataFrame' object has no attribute 'pred_sgd'        0\n",
      "5408            'DataFrame' object has no attribute 'ix'        0\n",
      "2060        'DataFrame' object has no attribute 'unique'        0\n",
      "12927          'DataFrame' object has no attribute 'str'        0\n",
      "1511          'DataFrame' object has no attribute 'prob'        0\n",
      "1765   'DataFrame' object has no attribute 'fivegram_...        0\n",
      "5366           'DataFrame' object has no attribute 'hit'        0\n",
      "12886       'DataFrame' object has no attribute 'equity'        0\n",
      "\n",
      "\n",
      "cluster 1 has 12076 samples\n",
      "                                                 errdesc  cluster\n",
      "6759           'Person' object has no attribute '__name'        1\n",
      "7564         module 'numpy' has no attribute 'heaviside'        1\n",
      "4495                                              dtypes        1\n",
      "4144          'NoneType' object has no attribute 'split'        1\n",
      "4641            'tuple' object has no attribute 'append'        1\n",
      "12101               'zip' object has no attribute 'sort'        1\n",
      "10725             'str' object has no attribute 'append'        1\n",
      "11184  module 'tensorflow' has no attribute 'reset_de...        1\n",
      "7764             module 'seaborn' has no attribute 'plt'        1\n",
      "10862  Layer dense_28 is not connected, no input to r...        1\n",
      "\n",
      "\n"
     ]
    }
   ],
   "source": [
    "num_clusters = 2\n",
    "_, res, _ = cluster_util.cluster_kmeans(input_texts=err_descs, n_clusters=num_clusters, max_iter=500)\n",
    "cluster_util.print_clusters(num_clusters, res)"
   ]
  },
  {
   "cell_type": "markdown",
   "id": "4743a872",
   "metadata": {},
   "source": [
    "##### Note: No obvious clusters in AttributeError"
   ]
  },
  {
   "cell_type": "markdown",
   "id": "d133f24e",
   "metadata": {},
   "source": [
    "#### SyntaxError, evalue"
   ]
  },
  {
   "cell_type": "code",
   "execution_count": 25,
   "id": "9ebf38f7",
   "metadata": {},
   "outputs": [],
   "source": [
    "df2_err_ename = df2_err[df2_err['ename']=='SyntaxError']\n",
    "err_descs = df2_err_ename['evalue'].values.astype('U')"
   ]
  },
  {
   "cell_type": "code",
   "execution_count": 27,
   "id": "76a2a527",
   "metadata": {},
   "outputs": [
    {
     "name": "stdout",
     "output_type": "stream",
     "text": [
      "cluster 0 has 77 samples\n",
      "                                                errdesc  cluster\n",
      "9201  keyword can't be an expression (<ipython-input...        0\n",
      "7244  f-string expression part cannot include a back...        0\n",
      "2900  keyword can't be an expression (<ipython-input...        0\n",
      "6632  keyword can't be an expression (<ipython-input...        0\n",
      "2495  keyword can't be an expression (<ipython-input...        0\n",
      "7260  can't use starred expression here (<ipython-in...        0\n",
      "6006  keyword can't be an expression (<ipython-input...        0\n",
      "7055  can't use starred expression here (<ipython-in...        0\n",
      "1262  keyword can't be an expression (<ipython-input...        0\n",
      "461   keyword can't be an expression (<ipython-input...        0\n",
      "\n",
      "\n",
      "cluster 1 has 58 samples\n",
      "                                                errdesc  cluster\n",
      "8337  invalid syntax (<ipython-input-35-fba0d58980c0...        1\n",
      "7267  'return' outside function (<ipython-input-8-6e...        1\n",
      "951   invalid syntax (<ipython-input-35-85431d43a0b1...        1\n",
      "2893  invalid syntax (<ipython-input-17-bf0cee6fee9b...        1\n",
      "8177  invalid syntax (<ipython-input-35-c1e503f4d84e...        1\n",
      "3295  invalid syntax (<ipython-input-35-5961066ef753...        1\n",
      "1821  invalid syntax (<ipython-input-35-e27c1f060d6c...        1\n",
      "1228  invalid syntax (<ipython-input-35-e48f2dfcfac3...        1\n",
      "6160  invalid syntax (<ipython-input-35-8beafa51d833...        1\n",
      "7673  invalid syntax (<ipython-input-35-1b65b7d2966e...        1\n",
      "\n",
      "\n",
      "cluster 2 has 655 samples\n",
      "                                                errdesc  cluster\n",
      "2187  unexpected EOF while parsing (<ipython-input-4...        2\n",
      "9563  unexpected EOF while parsing (<ipython-input-1...        2\n",
      "801   unexpected EOF while parsing (<ipython-input-3...        2\n",
      "1286                      unexpected EOF while parsing'        2\n",
      "4373  unexpected EOF while parsing (<ipython-input-6...        2\n",
      "6077  unexpected EOF while parsing (<ipython-input-4...        2\n",
      "5912                      unexpected EOF while parsing'        2\n",
      "4345  unexpected EOF while parsing (<ipython-input-7...        2\n",
      "5973  unexpected EOF while parsing (<ipython-input-5...        2\n",
      "6589  unexpected EOF while parsing (<ipython-input-1...        2\n",
      "\n",
      "\n",
      "cluster 3 has 297 samples\n",
      "                                                errdesc  cluster\n",
      "7887  Missing parentheses in call to 'print'. Did yo...        3\n",
      "6785  Missing parentheses in call to 'print'. Did yo...        3\n",
      "8370  Missing parentheses in call to 'print' (<ipyth...        3\n",
      "5746  Missing parentheses in call to 'print' (__init...        3\n",
      "5611  Missing parentheses in call to 'print'. Did yo...        3\n",
      "2431  Missing parentheses in call to 'print' (<ipyth...        3\n",
      "7763  Missing parentheses in call to 'print'. Did yo...        3\n",
      "2822  Missing parentheses in call to 'print'. Did yo...        3\n",
      "6393  Missing parentheses in call to 'print'. Did yo...        3\n",
      "8958  Missing parentheses in call to 'print' (<ipyth...        3\n",
      "\n",
      "\n",
      "cluster 4 has 356 samples\n",
      "                                                errdesc  cluster\n",
      "3991  positional argument follows keyword argument (...        4\n",
      "2856  positional argument follows keyword argument (...        4\n",
      "8081  positional argument follows keyword argument (...        4\n",
      "6443  non-default argument follows default argument ...        4\n",
      "895   non-default argument follows default argument ...        4\n",
      "8059  positional argument follows keyword argument (...        4\n",
      "4133  positional argument follows keyword argument (...        4\n",
      "8369  positional argument follows keyword argument (...        4\n",
      "6899  positional argument follows keyword argument (...        4\n",
      "9528  non-default argument follows default argument ...        4\n",
      "\n",
      "\n",
      "cluster 5 has 1255 samples\n",
      "                                                errdesc  cluster\n",
      "1547  (unicode error) 'unicodeescape' codec can't de...        5\n",
      "4798  'return' outside function (<ipython-input-44-d...        5\n",
      "9470  illegal target for annotation (<ipython-input-...        5\n",
      "8078  leading zeros in decimal integer literals are ...        5\n",
      "4495           invalid syntax (diagnostics.py, line 94)        5\n",
      "5289  invalid syntax (Temp/ipykernel_20148/266543758...        5\n",
      "7437                         can\\'t assign to operator'        5\n",
      "2878  keyword argument repeated: q (921167105.py, li...        5\n",
      "8878             invalid syntax (3085325471.py, line 4)        5\n",
      "360               invalid syntax (268261688.py, line 1)        5\n",
      "\n",
      "\n",
      "cluster 6 has 6407 samples\n",
      "                                                errdesc  cluster\n",
      "1875  invalid syntax (<ipython-input-13-f658a6e5037e...        6\n",
      "1364  invalid syntax (<ipython-input-4-8d5a5acc5edb>...        6\n",
      "1399  invalid syntax (<ipython-input-3-fca0d63c6f9b>...        6\n",
      "8371  invalid syntax (<ipython-input-7-c99a8d99a836>...        6\n",
      "5359  invalid syntax (<ipython-input-5-7577dbe278d1>...        6\n",
      "7576  invalid syntax (<ipython-input-28-ff9ca35f0873...        6\n",
      "6518  invalid syntax (<ipython-input-38-9b5f703319a5...        6\n",
      "9329                                    invalid syntax'        6\n",
      "4397  invalid syntax (<ipython-input-7-03c5240c9202>...        6\n",
      "5442  invalid syntax (<ipython-input-10-cb5803a2c56e...        6\n",
      "\n",
      "\n",
      "cluster 7 has 243 samples\n",
      "                                                errdesc  cluster\n",
      "198                    invalid character in identifier'        7\n",
      "7757  invalid character in identifier (<ipython-inpu...        7\n",
      "2321  invalid character in identifier (<string>, lin...        7\n",
      "1257           Identifier 'a' has already been declared        7\n",
      "1320  unexpected character after line continuation c...        7\n",
      "3137  invalid character in identifier (<ipython-inpu...        7\n",
      "8527  unexpected character after line continuation c...        7\n",
      "1665  invalid character in identifier (<ipython-inpu...        7\n",
      "2976                   invalid character in identifier'        7\n",
      "5970  invalid character in identifier (<ipython-inpu...        7\n",
      "\n",
      "\n",
      "cluster 8 has 436 samples\n",
      "                                                errdesc  cluster\n",
      "1953  EOL while scanning string literal (<ipython-in...        8\n",
      "9460                 EOL while scanning string literal'        8\n",
      "7799  EOL while scanning string literal (<ipython-in...        8\n",
      "2709  EOL while scanning string literal (4059993992....        8\n",
      "1762                 EOL while scanning string literal'        8\n",
      "1444  EOL while scanning string literal (<ipython-in...        8\n",
      "6148  EOL while scanning string literal (<ipython-in...        8\n",
      "6474                  invalid syntax (<string>, line 1)        8\n",
      "5349  EOL while scanning string literal (<ipython-in...        8\n",
      "6531                 EOL while scanning string literal'        8\n",
      "\n",
      "\n",
      "cluster 9 has 152 samples\n",
      "                                                errdesc  cluster\n",
      "2134  invalid syntax (<ipython-input-16-0a7c695852a5...        9\n",
      "3313  invalid syntax (<ipython-input-16-bd54a963cd6e...        9\n",
      "5346  invalid syntax (<ipython-input-16-efa7122616ce...        9\n",
      "3405  invalid syntax (<ipython-input-16-2fce13ee096c...        9\n",
      "1855  invalid syntax (<ipython-input-21-3c323e99d79f...        9\n",
      "9857  invalid syntax (<ipython-input-16-5fa16817f248...        9\n",
      "6634  invalid syntax (<ipython-input-16-8521e80609aa...        9\n",
      "147   invalid syntax (<ipython-input-16-5f4360a3af1e...        9\n",
      "4024  invalid syntax (<ipython-input-16-eb132473e491...        9\n",
      "1697  invalid syntax (<ipython-input-16-9315f15ff27b...        9\n",
      "\n",
      "\n"
     ]
    }
   ],
   "source": [
    "num_clusters = 10\n",
    "_, res, _ = cluster_util.cluster_kmeans(input_texts=err_descs, n_clusters=num_clusters, max_iter=500)\n",
    "cluster_util.print_clusters(num_clusters, res)"
   ]
  },
  {
   "cell_type": "markdown",
   "id": "eb68ae67",
   "metadata": {},
   "source": [
    "#### Some mixed error types, evalue"
   ]
  },
  {
   "cell_type": "code",
   "execution_count": 28,
   "id": "74b3536b",
   "metadata": {},
   "outputs": [],
   "source": [
    "df2_err_ename = df2_err[df2_err['ename'].isin(['Error', 'ERROR', 'error'])]\n",
    "err_descs = df2_err_ename['evalue'].values.astype('U')"
   ]
  },
  {
   "cell_type": "code",
   "execution_count": 35,
   "id": "1e1747b6",
   "metadata": {
    "scrolled": true
   },
   "outputs": [
    {
     "name": "stdout",
     "output_type": "stream",
     "text": [
      "cluster 0 has 220 samples\n",
      "                                                errdesc  cluster\n",
      "121   Error in eval(expr, envir, enclos): objet 'hqw...        0\n",
      "1719  Error in eval(expr, envir, enclos): object 're...        0\n",
      "1859                                      compile_error        0\n",
      "1401  Error in eval(expr, envir, enclos): wrong resu...        0\n",
      "881                                       compile_error        0\n",
      "1320  Error in eval(expr, envir, enclos): object 'wm...        0\n",
      "2120  Error in get(name, envir = envir): object 's_l...        0\n",
      "676   Error in eval(expr, envir, enclos): object 'me...        0\n",
      "1627  Error in eval(expr, envir, enclos): object '.....        0\n",
      "2083  Error in eval(expr, envir, enclos): Objekt 'nu...        0\n",
      "\n",
      "\n",
      "cluster 1 has 140 samples\n",
      "                                                errdesc  cluster\n",
      "123   Error in library(\"scHOT\"): there is no package...        1\n",
      "1063  Error in library(prophet): there is no package...        1\n",
      "33    Error in library(mxnet): there is no package c...        1\n",
      "147   Error in library(\"ggmap\"): there is no package...        1\n",
      "409   Error in library(tidyverse): there is no packa...        1\n",
      "905   Error in library(scone): there is no package c...        1\n",
      "1996  Error in library(tidyverse): there is no packa...        1\n",
      "822   Error: package or namespace load failed for ‘g...        1\n",
      "2040  Error in library(\"dummies\"): there is no packa...        1\n",
      "951   Error in library(geigen): there is no package ...        1\n",
      "\n",
      "\n",
      "cluster 2 has 1206 samples\n",
      "                                                errdesc  cluster\n",
      "151                    Cannot find module 'some-module'        2\n",
      "1692  Error in L(rcpitausa, 1): could not find funct...        2\n",
      "206   Error in if (x$resmatrix[1] == \"Error\") cat(\"\\...        2\n",
      "274   Error in x%%2: argument non numérique pour un ...        2\n",
      "1909  Error: Strings must match column names. Unknow...        2\n",
      "864                     Direct kernel connection broken        2\n",
      "1745  Error in var.test.default(low, high): not enou...        2\n",
      "1964  System.ArgumentException: Column \"DGdegree:Tem...        2\n",
      "2175  Error in t(X) %*% beta_: non-conformable argum...        2\n",
      "2149  Error in charToDate(x): character string is no...        2\n",
      "\n",
      "\n",
      "cluster 3 has 72 samples\n",
      "                                                errdesc  cluster\n",
      "800   Error in parse(text = x, srcfile = src): <text...        3\n",
      "1603  Error in parse(text = x, srcfile = src): <text...        3\n",
      "1604  Error in parse(text = x, srcfile = src): <text...        3\n",
      "1982  Error in parse(text = x, srcfile = src): <text...        3\n",
      "1127  Error in parse(text = x, srcfile = src): <text...        3\n",
      "1195  Error in parse(text = x, srcfile = src): <text...        3\n",
      "1948                          ['Error in parse(text = x        3\n",
      "1459  Error in parse(text = x, srcfile = src): <text...        3\n",
      "817   Error in parse(text = x, srcfile = src): <text...        3\n",
      "422   Error in parse(text = x, srcfile = src): <text...        3\n",
      "\n",
      "\n",
      "cluster 4 has 233 samples\n",
      "                                                errdesc  cluster\n",
      "1540  Error in ggplot(mbta_boat, aes(x = month, y = ...        4\n",
      "1776  Error in is.data.frame(x): (list) object canno...        4\n",
      "1636  Error in {: task 1 failed - \"Not all variable ...        4\n",
      "2153  NUnit.Framework.AssertionException:   We seede...        4\n",
      "1721  Error in eval(lhs, parent, parent): object 'CO...        4\n",
      "1912  Error in commandArgs(trailingOnly = True): obj...        4\n",
      "1650  Error in plot(genomeSizeModelDamsel): object '...        4\n",
      "1613  Error in as.mcmc(OD.12C): object 'OD.12C' not ...        4\n",
      "1723  Error in eval(lhs, parent, parent): object 'CO...        4\n",
      "1596  Error in plot(wt, mpg, main = \"Scatterplot \", ...        4\n",
      "\n",
      "\n",
      "cluster 5 has 286 samples\n",
      "                                                errdesc  cluster\n",
      "495   OpenCV(4.5.3) C:\\Users\\runneradmin\\AppData\\Loc...        5\n",
      "104   OpenCV(4.5.3) C:\\Users\\runneradmin\\AppData\\Loc...        5\n",
      "2077  OpenCV(4.2.0) /Users/travis/build/skvark/openc...        5\n",
      "1405  OpenCV(4.5.2) /private/var/folders/24/8k48jl6d...        5\n",
      "1820  OpenCV(4.1.2) C:\\projects\\opencv-python\\opencv...        5\n",
      "1583  OpenCV(3.4.3) C:\\projects\\opencv-python\\opencv...        5\n",
      "626   OpenCV(4.1.1) /Users/travis/build/skvark/openc...        5\n",
      "304   OpenCV(3.4.2) C:\\Miniconda3\\conda-bld\\opencv-s...        5\n",
      "211   (-215:Assertion failed) !_src.empty() in funct...        5\n",
      "592   OpenCV(4.2.0) C:\\projects\\opencv-python\\opencv...        5\n",
      "\n",
      "\n",
      "cluster 6 has 35 samples\n",
      "                               errdesc  cluster\n",
      "2011  Session cannot generate requests        6\n",
      "284   Session cannot generate requests        6\n",
      "1798  Session cannot generate requests        6\n",
      "185   Session cannot generate requests        6\n",
      "161   Session cannot generate requests        6\n",
      "203   Session cannot generate requests        6\n",
      "1782  Session cannot generate requests        6\n",
      "2092  Session cannot generate requests        6\n",
      "1783  Session cannot generate requests        6\n",
      "1237  Session cannot generate requests        6\n",
      "\n",
      "\n"
     ]
    }
   ],
   "source": [
    "num_clusters = 7\n",
    "_, res, _ = cluster_util.cluster_kmeans(input_texts=err_descs, n_clusters=num_clusters, max_iter=800)\n",
    "cluster_util.print_clusters(num_clusters, res)"
   ]
  },
  {
   "cell_type": "markdown",
   "id": "b278c574",
   "metadata": {},
   "source": [
    "## 2. Error analysis for nbs from kaggle\n"
   ]
  },
  {
   "cell_type": "code",
   "execution_count": 1,
   "id": "195eef64",
   "metadata": {},
   "outputs": [],
   "source": [
    "# read in all errors from the file\n",
    "import pandas as pd\n",
    "\n",
    "path_err = 'C:/Users/yirwa29/Downloads/Dataset-Nb/nbdata_k_error/nberror_k.csv'\n",
    "df_err = pd.read_csv(path_err, encoding='utf-8')"
   ]
  },
  {
   "cell_type": "code",
   "execution_count": null,
   "id": "6fa7a150",
   "metadata": {},
   "outputs": [],
   "source": []
  }
 ],
 "metadata": {
  "kernelspec": {
   "display_name": "Python 3 (ipykernel)",
   "language": "python",
   "name": "python3"
  },
  "language_info": {
   "codemirror_mode": {
    "name": "ipython",
    "version": 3
   },
   "file_extension": ".py",
   "mimetype": "text/x-python",
   "name": "python",
   "nbconvert_exporter": "python",
   "pygments_lexer": "ipython3",
   "version": "3.11.5"
  }
 },
 "nbformat": 4,
 "nbformat_minor": 5
}
