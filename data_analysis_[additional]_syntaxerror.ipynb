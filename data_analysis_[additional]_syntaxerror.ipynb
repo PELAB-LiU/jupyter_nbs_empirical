{
 "cells": [
  {
   "cell_type": "markdown",
   "id": "74352832",
   "metadata": {},
   "source": [
    "## Check if notebooks with syntactically incorrect code have exceptions caused by cells that are syntactically correct."
   ]
  },
  {
   "cell_type": "code",
   "execution_count": 2,
   "id": "5056f876",
   "metadata": {},
   "outputs": [
    {
     "name": "stdout",
     "output_type": "stream",
     "text": [
      "path_default=WindowsPath('C:/Users/yirwa29/Downloads/data_jupyter_nbs_empirical')\n"
     ]
    }
   ],
   "source": [
    "import pandas as pd\n",
    "import utils.config as config\n",
    "\n",
    "df_err_k_p = pd.read_excel(config.path_kaggle_error_process.joinpath(\"nberror_k_eid_p.xlsx\"))\n",
    "df_err_g_p = pd.read_excel(config.path_github_error_process.joinpath(\"nberror_g_all_eid_p.xlsx\"))"
   ]
  },
  {
   "cell_type": "code",
   "execution_count": 3,
   "id": "aceb91d2",
   "metadata": {},
   "outputs": [],
   "source": [
    "df_err_g_p_py3_invalid = df_err_g_p[(df_err_g_p.if_ast!=1) & (df_err_g_p.python_version==3)].drop_duplicates(subset=['eid'], keep='last')\n",
    "df_err_k_p_py3_invalid = df_err_k_p[(df_err_k_p.if_ast!=1)].drop_duplicates(subset=['eid'], keep='last')"
   ]
  },
  {
   "cell_type": "code",
   "execution_count": 17,
   "id": "e670fa57",
   "metadata": {},
   "outputs": [
    {
     "name": "stdout",
     "output_type": "stream",
     "text": [
      "0.7533328911587186 of GH notebooks with invalid syntax has other types of crashes.\n",
      "0.7664516129032258 of K notebooks with invalid syntax has other types of crashes.\n"
     ]
    }
   ],
   "source": [
    "print(\"{} of GH notebooks with invalid syntax has other types of crashes.\".format(df_err_g_p_py3_invalid[~df_err_g_p_py3_invalid.ename.isin([\"syntaxerror\", \"keyboardinterrupt\"])].fname.nunique()/df_err_g_p_py3_invalid.fname.nunique()))\n",
    "print(\"{} of K notebooks with invalid syntax has other types of crashes.\".format(df_err_k_p_py3_invalid[~df_err_k_p_py3_invalid.ename.isin([\"syntaxerror\", \"keyboardinterrupt\"])].fname.nunique()/df_err_k_p_py3_invalid.fname.nunique()))"
   ]
  },
  {
   "cell_type": "markdown",
   "id": "c380ba58",
   "metadata": {},
   "source": [
    "    Code with invalid syntax cannot be reproduced.(align with other studies on ML programs)\n",
    "    Those notebooks indicate lower quality.\n",
    "    Those cells with invalid code may or may not have syntaxerror if they havent been executed.\n",
    "    Other errors that are not syntaxerror maybe CAUSED BY syntax errors (previous cell error)."
   ]
  }
 ],
 "metadata": {
  "kernelspec": {
   "display_name": "Python 3 (ipykernel)",
   "language": "python",
   "name": "python3"
  },
  "language_info": {
   "codemirror_mode": {
    "name": "ipython",
    "version": 3
   },
   "file_extension": ".py",
   "mimetype": "text/x-python",
   "name": "python",
   "nbconvert_exporter": "python",
   "pygments_lexer": "ipython3",
   "version": "3.11.5"
  }
 },
 "nbformat": 4,
 "nbformat_minor": 5
}
