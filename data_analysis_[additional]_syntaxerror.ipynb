{
 "cells": [
  {
   "cell_type": "markdown",
   "id": "74352832",
   "metadata": {},
   "source": [
    "## Check if notebooks with syntactically incorrect code have exceptions caused by cells that are syntactically correct."
   ]
  },
  {
   "cell_type": "code",
   "execution_count": 1,
   "id": "5056f876",
   "metadata": {},
   "outputs": [
    {
     "name": "stdout",
     "output_type": "stream",
     "text": [
      "path_default=WindowsPath('C:/Users/yirwa29/Downloads/data_jupyter_nbs_empirical')\n"
     ]
    }
   ],
   "source": [
    "import pandas as pd\n",
    "import utils.config as config\n",
    "\n",
    "df_err_k_p = pd.read_excel(config.path_kaggle_error_process.joinpath(\"nberror_k_eid_p.xlsx\"))\n",
    "df_err_g_p = pd.read_excel(config.path_github_error_process.joinpath(\"nberror_g_all_eid_p.xlsx\"))"
   ]
  },
  {
   "cell_type": "code",
   "execution_count": 28,
   "id": "aceb91d2",
   "metadata": {},
   "outputs": [],
   "source": [
    "df_err_g_p_py3_invalid = df_err_g_p[(df_err_g_p.if_ast!=1) & (df_err_g_p.python_version==3)].drop_duplicates(subset=['eid'], keep='last')\n",
    "df_err_k_p_py3_invalid = df_err_k_p[(df_err_k_p.if_ast!=1)].drop_duplicates(subset=['eid'], keep='last')"
   ]
  },
  {
   "cell_type": "code",
   "execution_count": 38,
   "id": "8c43d735",
   "metadata": {
    "scrolled": true
   },
   "outputs": [
    {
     "name": "stdout",
     "output_type": "stream",
     "text": [
      "The percentage of syntax error is 0.22730969665933667\n"
     ]
    },
    {
     "data": {
      "text/plain": [
       "ename_mapped\n",
       "syntaxerror               7546\n",
       "nameerror                 6474\n",
       "typeerror                 4530\n",
       "valueerror                2532\n",
       "attributeerror            2123\n",
       "keyboardinterrupt         1614\n",
       "libspecificerrors         1515\n",
       "keyerror                  1120\n",
       "modulenotfounderror        918\n",
       "indexerror                 840\n",
       "indentationerror           835\n",
       "filenotfounderror          774\n",
       "runtimeerror               394\n",
       "zerodivisionerror          367\n",
       "assertionerror             337\n",
       "importerror                325\n",
       "oserror                    142\n",
       "stopiteration              126\n",
       "systemexit                 116\n",
       "unboundlocalerror          104\n",
       "unicodedecodeerror          65\n",
       "memoryerror                 63\n",
       "notimplementederror         44\n",
       "recursionerror              44\n",
       "connectionerror             32\n",
       "lookuperror                 32\n",
       "permissionerror             30\n",
       "ioerror                     23\n",
       "taberror                    22\n",
       "fileexistserror             20\n",
       "systemerror                 14\n",
       "overflowerror               14\n",
       "eoferror                    11\n",
       "timeouterror                 9\n",
       "connectionrefusederror       9\n",
       "unicodeencodeerror           9\n",
       "isadirectoryerror            8\n",
       "connectionreseterror         5\n",
       "warning                      2\n",
       "notadirectoryerror           2\n",
       "deprecationwarning           2\n",
       "brokenpipeerror              2\n",
       "userwarning                  1\n",
       "unicodeerror                 1\n",
       "referenceerror               1\n",
       "Name: count, dtype: int64"
      ]
     },
     "execution_count": 38,
     "metadata": {},
     "output_type": "execute_result"
    }
   ],
   "source": [
    "ename_dist_g = df_err_g_p_py3_invalid.ename_mapped.value_counts()\n",
    "print(\"The percentage of syntax error is {}\".format(ename_dist_g[\"syntaxerror\"]/sum(ename_dist_g.values)))\n",
    "ename_dist_g"
   ]
  },
  {
   "cell_type": "code",
   "execution_count": 39,
   "id": "d3a0fb29",
   "metadata": {
    "scrolled": true
   },
   "outputs": [
    {
     "name": "stdout",
     "output_type": "stream",
     "text": [
      "The percentage of syntax error is 0.1766602192134107\n"
     ]
    },
    {
     "data": {
      "text/plain": [
       "ename_mapped\n",
       "nameerror              290\n",
       "syntaxerror            274\n",
       "valueerror             164\n",
       "keyboardinterrupt      137\n",
       "typeerror              133\n",
       "attributeerror          85\n",
       "keyerror                84\n",
       "libspecificerrors       79\n",
       "modulenotfounderror     55\n",
       "filenotfounderror       48\n",
       "indexerror              41\n",
       "runtimeerror            41\n",
       "indentationerror        39\n",
       "zerodivisionerror       23\n",
       "oserror                 17\n",
       "importerror             10\n",
       "assertionerror           5\n",
       "lookuperror              4\n",
       "systemexit               4\n",
       "fileexistserror          4\n",
       "notimplementederror      3\n",
       "unboundlocalerror        3\n",
       "stopiteration            3\n",
       "notadirectoryerror       2\n",
       "unicodedecodeerror       2\n",
       "overflowerror            1\n",
       "Name: count, dtype: int64"
      ]
     },
     "execution_count": 39,
     "metadata": {},
     "output_type": "execute_result"
    }
   ],
   "source": [
    "ename_dist_k = df_err_k_p_py3_invalid.ename_mapped.value_counts()\n",
    "print(\"The percentage of syntax error is {}\".format(ename_dist_k[\"syntaxerror\"]/sum(ename_dist_k.values)))\n",
    "ename_dist_k"
   ]
  },
  {
   "cell_type": "markdown",
   "id": "c380ba58",
   "metadata": {},
   "source": [
    "Some errors may not be syntax but still maybe CAUSED BY syntax errors (previous cell error)\n",
    "\n",
    "    manual check?\n",
    "    Those errors mostly wont be reproduced due to the syntax errors "
   ]
  }
 ],
 "metadata": {
  "kernelspec": {
   "display_name": "Python 3 (ipykernel)",
   "language": "python",
   "name": "python3"
  },
  "language_info": {
   "codemirror_mode": {
    "name": "ipython",
    "version": 3
   },
   "file_extension": ".py",
   "mimetype": "text/x-python",
   "name": "python",
   "nbconvert_exporter": "python",
   "pygments_lexer": "ipython3",
   "version": "3.11.5"
  }
 },
 "nbformat": 4,
 "nbformat_minor": 5
}
