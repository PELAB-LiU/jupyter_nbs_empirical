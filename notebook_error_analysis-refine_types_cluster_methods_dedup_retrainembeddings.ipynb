{
 "cells": [
  {
   "cell_type": "code",
   "execution_count": 18,
   "id": "1c5c9e82",
   "metadata": {},
   "outputs": [],
   "source": [
    "import importlib\n",
    "importlib.reload(cluster_util)\n",
    "import cluster_util"
   ]
  },
  {
   "cell_type": "markdown",
   "id": "4566c1f6",
   "metadata": {},
   "source": [
    "# Notebook error analysis \n",
    "\n",
    "## Refining error types - Vectorization and clustering method selection\n",
    "\n",
    "\n",
    "use a subset of the dedupped GitHub error dataset with ename == valueerror"
   ]
  },
  {
   "cell_type": "markdown",
   "id": "99b0cc24",
   "metadata": {},
   "source": [
    "## Test the retrained word2vec/subword2vec vs. GloVe\n",
    "\n",
    "on Optics"
   ]
  },
  {
   "cell_type": "code",
   "execution_count": 7,
   "id": "5e9fe4b5",
   "metadata": {},
   "outputs": [],
   "source": [
    "import pandas as pd \n",
    "import config\n",
    "import cluster_util\n",
    "import numpy as np\n",
    "\n",
    "df_err_gvalue = pd.read_excel(config.path_github_cluster_valueerr)\n",
    "# df_err_gvalue[\"evalue_tokenized\"] = df_err_gvalue.evalue.apply(cluster_util.preprocess_text)\n",
    "df_err_gvalue = df_err_gvalue[(~df_err_gvalue.evalue.isnull()) & (df_err_gvalue[\"evalue_tokenized\"]!=\"\")]\n",
    "err_descs = df_err_gvalue['evalue_tokenized'].values.astype('U')"
   ]
  },
  {
   "cell_type": "code",
   "execution_count": 8,
   "id": "9f3128dc",
   "metadata": {},
   "outputs": [
    {
     "data": {
      "text/plain": [
       "1807"
      ]
     },
     "execution_count": 8,
     "metadata": {},
     "output_type": "execute_result"
    }
   ],
   "source": [
    "len(df_err_gvalue)"
   ]
  },
  {
   "cell_type": "code",
   "execution_count": 9,
   "id": "06bbbf96",
   "metadata": {},
   "outputs": [
    {
     "name": "stdout",
     "output_type": "stream",
     "text": [
      "Loaded 400000 word vectors from GloVe.\n",
      "pca: 48 components can explain 80.01% variance of the data\n",
      "Estimated no. of clusters: 268\n",
      "Estimated no. of noise points: 1034\n"
     ]
    },
    {
     "name": "stderr",
     "output_type": "stream",
     "text": [
      "C:\\Users\\yirwa29\\AppData\\Local\\anaconda3\\envs\\chatgpt\\Lib\\site-packages\\sklearn\\cluster\\_optics.py:1081: RuntimeWarning: divide by zero encountered in divide\n",
      "  ratio = reachability_plot[:-1] / reachability_plot[1:]\n"
     ]
    }
   ],
   "source": [
    "glove_vectors = cluster_util.load_glove(config.path_default.joinpath(\"glove.6B/glove.6B.200d.txt\"))\n",
    "X_glove = np.array([cluster_util.vectorizer_word2vec(xi, glove_vectors, 200) for xi in err_descs])\n",
    "n_components = cluster_util.select_pca_n_basedon_variance(X_glove)\n",
    "X_glove_rd = cluster_util.pca(X_glove, n_components=n_components)\n",
    "df_err_gvalue.loc[:,\"cluster_optics_glove\"] = cluster_util.cluster_optics(X_glove_rd, min_samples = 2)"
   ]
  },
  {
   "cell_type": "code",
   "execution_count": 10,
   "id": "c072ad0f",
   "metadata": {},
   "outputs": [
    {
     "name": "stdout",
     "output_type": "stream",
     "text": [
      "pca: 59 components can explain 80.00% variance of the data\n"
     ]
    },
    {
     "name": "stderr",
     "output_type": "stream",
     "text": [
      "C:\\Users\\yirwa29\\AppData\\Local\\anaconda3\\envs\\chatgpt\\Lib\\site-packages\\sklearn\\cluster\\_optics.py:1081: RuntimeWarning: divide by zero encountered in divide\n",
      "  ratio = reachability_plot[:-1] / reachability_plot[1:]\n"
     ]
    },
    {
     "name": "stdout",
     "output_type": "stream",
     "text": [
      "Estimated no. of clusters: 285\n",
      "Estimated no. of noise points: 1023\n",
      "pca: 68 components can explain 80.20% variance of the data\n"
     ]
    },
    {
     "name": "stderr",
     "output_type": "stream",
     "text": [
      "C:\\Users\\yirwa29\\AppData\\Local\\anaconda3\\envs\\chatgpt\\Lib\\site-packages\\sklearn\\cluster\\_optics.py:1081: RuntimeWarning: divide by zero encountered in divide\n",
      "  ratio = reachability_plot[:-1] / reachability_plot[1:]\n"
     ]
    },
    {
     "name": "stdout",
     "output_type": "stream",
     "text": [
      "Estimated no. of clusters: 297\n",
      "Estimated no. of noise points: 977\n",
      "pca: 20 components can explain 80.64% variance of the data\n"
     ]
    },
    {
     "name": "stderr",
     "output_type": "stream",
     "text": [
      "C:\\Users\\yirwa29\\AppData\\Local\\anaconda3\\envs\\chatgpt\\Lib\\site-packages\\sklearn\\cluster\\_optics.py:1081: RuntimeWarning: divide by zero encountered in divide\n",
      "  ratio = reachability_plot[:-1] / reachability_plot[1:]\n"
     ]
    },
    {
     "name": "stdout",
     "output_type": "stream",
     "text": [
      "Estimated no. of clusters: 317\n",
      "Estimated no. of noise points: 938\n",
      "pca: 32 components can explain 80.28% variance of the data\n"
     ]
    },
    {
     "name": "stderr",
     "output_type": "stream",
     "text": [
      "C:\\Users\\yirwa29\\AppData\\Local\\anaconda3\\envs\\chatgpt\\Lib\\site-packages\\sklearn\\cluster\\_optics.py:1081: RuntimeWarning: divide by zero encountered in divide\n",
      "  ratio = reachability_plot[:-1] / reachability_plot[1:]\n"
     ]
    },
    {
     "name": "stdout",
     "output_type": "stream",
     "text": [
      "Estimated no. of clusters: 327\n",
      "Estimated no. of noise points: 899\n",
      "pca: 84 components can explain 80.15% variance of the data\n"
     ]
    },
    {
     "name": "stderr",
     "output_type": "stream",
     "text": [
      "C:\\Users\\yirwa29\\AppData\\Local\\anaconda3\\envs\\chatgpt\\Lib\\site-packages\\sklearn\\cluster\\_optics.py:1081: RuntimeWarning: divide by zero encountered in divide\n",
      "  ratio = reachability_plot[:-1] / reachability_plot[1:]\n"
     ]
    },
    {
     "name": "stdout",
     "output_type": "stream",
     "text": [
      "Estimated no. of clusters: 284\n",
      "Estimated no. of noise points: 1000\n"
     ]
    }
   ],
   "source": [
    "import retrain_word2vec,config\n",
    "\n",
    "def cluster_with_w2v(model_name=\"nberr_word2vec.model\", res_col_name=\"cluster_optics_w2v\", var_cutoff=0.8, min_sam=2):\n",
    "    w2v_model = retrain_word2vec.load_word2vec(config.path_w2v_models, model_name)\n",
    "    X_w2v = np.array([cluster_util.vectorizer_word2vec(xi, w2v_model.wv, w2v_model.vector_size) for xi in err_descs])\n",
    "    n_components = cluster_util.select_pca_n_basedon_variance(X_w2v, variance_cutoff=var_cutoff)\n",
    "    X_w2v_rd = cluster_util.pca(X_w2v, n_components=n_components)\n",
    "    df_err_gvalue.loc[:,res_col_name] = cluster_util.cluster_optics(X_w2v_rd, min_samples = min_sam)\n",
    "    \n",
    "    return cluster_util.eval_cluster_silhouette(X_w2v_rd[df_err_gvalue[res_col_name]!=-1],\n",
    "                                        df_err_gvalue.loc[df_err_gvalue[res_col_name]!=-1, res_col_name])\n",
    "\n",
    "sq_w2v = cluster_with_w2v()\n",
    "sq_w2v_sg = cluster_with_w2v(model_name=\"nberr_word2vec_sg.model\", res_col_name=\"cluster_optics_w2v_sg\")\n",
    "sq_w2v_finetune = cluster_with_w2v(model_name=\"nberr_word2vec_glove_finetune.model\", res_col_name=\"cluster_optics_w2v_finetune\")\n",
    "sq_w2v_subword2vec = cluster_with_w2v(model_name=\"nberr_subword2vec.model\", res_col_name=\"cluster_optics_w2v_subword2vec\")\n",
    "sq_w2v_subword2vec_finetune = cluster_with_w2v(model_name=\"nberr_subword2vec_finetune.model\", res_col_name=\"cluster_optics_w2v_subword2vec_finetune\")"
   ]
  },
  {
   "cell_type": "code",
   "execution_count": 11,
   "id": "bfc8a7ab",
   "metadata": {},
   "outputs": [],
   "source": [
    "df_err_gvalue_optics_w2v = df_err_gvalue[['fname','evalue','evalue_tokenized','traceback',\n",
    "               'cluster_optics_glove','cluster_optics_w2v','cluster_optics_w2v_sg',\n",
    "               'cluster_optics_w2v_finetune','cluster_optics_w2v_subword2vec','cluster_optics_w2v_subword2vec_finetune']]\n",
    "# df_err_gvalue_optics_w2v.to_excel(config.path_w2v_models.joinpath(\"nberror_gvalueerror_w2v.xlsx\"), index=False, engine='xlsxwriter')"
   ]
  },
  {
   "cell_type": "code",
   "execution_count": 12,
   "id": "1b30ce2f",
   "metadata": {},
   "outputs": [],
   "source": [
    "ss_lev_glove, sum_lev_glove = cluster_util.statistics_lev(df_err_gvalue_optics_w2v, \"cluster_optics_glove\",\"evalue\")\n",
    "ss_lev_w2v, sum_lev_w2v = cluster_util.statistics_lev(df_err_gvalue_optics_w2v, \"cluster_optics_w2v\",\"evalue\")\n",
    "ss_lev_w2v_sg, sum_lev_w2v_sg = cluster_util.statistics_lev(df_err_gvalue_optics_w2v, \"cluster_optics_w2v_sg\",\"evalue\")\n",
    "ss_lev_w2v_finetune, sum_lev_w2v_finetune = cluster_util.statistics_lev(df_err_gvalue_optics_w2v, \"cluster_optics_w2v_finetune\",\"evalue\")\n",
    "ss_lev_subword2vec, sum_lev_subword2vec = cluster_util.statistics_lev(df_err_gvalue_optics_w2v, \"cluster_optics_w2v_subword2vec\",\"evalue\")\n",
    "ss_lev_subword2vec_finetune, sum_lev_subword2vec_finetune = cluster_util.statistics_lev(df_err_gvalue_optics_w2v, \"cluster_optics_w2v_subword2vec_finetune\",\"evalue\")"
   ]
  },
  {
   "cell_type": "code",
   "execution_count": 13,
   "id": "ccb7e248",
   "metadata": {},
   "outputs": [
    {
     "data": {
      "text/html": [
       "<div>\n",
       "<style scoped>\n",
       "    .dataframe tbody tr th:only-of-type {\n",
       "        vertical-align: middle;\n",
       "    }\n",
       "\n",
       "    .dataframe tbody tr th {\n",
       "        vertical-align: top;\n",
       "    }\n",
       "\n",
       "    .dataframe thead th {\n",
       "        text-align: right;\n",
       "    }\n",
       "</style>\n",
       "<table border=\"1\" class=\"dataframe\">\n",
       "  <thead>\n",
       "    <tr style=\"text-align: right;\">\n",
       "      <th></th>\n",
       "      <th>word2vec_glove</th>\n",
       "      <th>word2vec_retrain</th>\n",
       "      <th>word2vec_retrain_sg</th>\n",
       "      <th>word2vec_finetune</th>\n",
       "      <th>word2vec_subword</th>\n",
       "      <th>word2vec_subword_finetune</th>\n",
       "    </tr>\n",
       "  </thead>\n",
       "  <tbody>\n",
       "    <tr>\n",
       "      <th>optics_sh</th>\n",
       "      <td>0.444906</td>\n",
       "      <td>0.415568</td>\n",
       "      <td>0.404909</td>\n",
       "      <td>0.384396</td>\n",
       "      <td>0.443866</td>\n",
       "      <td>0.416406</td>\n",
       "    </tr>\n",
       "    <tr>\n",
       "      <th>optics_lev</th>\n",
       "      <td>0.676546</td>\n",
       "      <td>0.670702</td>\n",
       "      <td>0.670205</td>\n",
       "      <td>0.626191</td>\n",
       "      <td>0.607081</td>\n",
       "      <td>0.662491</td>\n",
       "    </tr>\n",
       "    <tr>\n",
       "      <th>optics_lev_std</th>\n",
       "      <td>0.041100</td>\n",
       "      <td>0.039133</td>\n",
       "      <td>0.046976</td>\n",
       "      <td>0.044246</td>\n",
       "      <td>0.047247</td>\n",
       "      <td>0.047497</td>\n",
       "    </tr>\n",
       "    <tr>\n",
       "      <th>n_noise</th>\n",
       "      <td>0.572219</td>\n",
       "      <td>0.566132</td>\n",
       "      <td>0.540675</td>\n",
       "      <td>0.519092</td>\n",
       "      <td>0.497510</td>\n",
       "      <td>0.553403</td>\n",
       "    </tr>\n",
       "  </tbody>\n",
       "</table>\n",
       "</div>"
      ],
      "text/plain": [
       "                word2vec_glove  word2vec_retrain  word2vec_retrain_sg  \\\n",
       "optics_sh             0.444906          0.415568             0.404909   \n",
       "optics_lev            0.676546          0.670702             0.670205   \n",
       "optics_lev_std        0.041100          0.039133             0.046976   \n",
       "n_noise               0.572219          0.566132             0.540675   \n",
       "\n",
       "                word2vec_finetune  word2vec_subword  word2vec_subword_finetune  \n",
       "optics_sh                0.384396          0.443866                   0.416406  \n",
       "optics_lev               0.626191          0.607081                   0.662491  \n",
       "optics_lev_std           0.044246          0.047247                   0.047497  \n",
       "n_noise                  0.519092          0.497510                   0.553403  "
      ]
     },
     "execution_count": 13,
     "metadata": {},
     "output_type": "execute_result"
    }
   ],
   "source": [
    "arr_eval = np.zeros((4,6))\n",
    "name_cols = ['word2vec_glove','word2vec_retrain','word2vec_retrain_sg','word2vec_finetune','word2vec_subword','word2vec_subword_finetune']\n",
    "name_rows = ['optics_sh','optics_lev','optics_lev_std','n_noise']\n",
    "\n",
    "#ss_optics_glove\n",
    "sh_glove = cluster_util.eval_cluster_silhouette(X_glove_rd[df_err_gvalue_optics_w2v['cluster_optics_glove']!=-1],\n",
    "                                                df_err_gvalue_optics_w2v.loc[df_err_gvalue_optics_w2v['cluster_optics_glove']!=-1, 'cluster_optics_glove'])\n",
    "arr_eval[:,0] = [sh_glove]+sum_lev_glove\n",
    "\n",
    "#ss_optics_retrain\n",
    "arr_eval[:,1] = [sq_w2v]+sum_lev_w2v\n",
    "arr_eval[:,2] = [sq_w2v_sg]+sum_lev_w2v_sg\n",
    "arr_eval[:,3] = [sq_w2v_finetune]+sum_lev_w2v_finetune\n",
    "arr_eval[:,4] = [sq_w2v_subword2vec]+sum_lev_subword2vec\n",
    "arr_eval[:,5] = [sq_w2v_subword2vec_finetune]+sum_lev_subword2vec_finetune\n",
    "\n",
    "pd.DataFrame(arr_eval, index=name_rows, columns=name_cols)"
   ]
  },
  {
   "cell_type": "code",
   "execution_count": 14,
   "id": "bf5b82e8",
   "metadata": {},
   "outputs": [
    {
     "data": {
      "image/png": "[encoded data removed]",
      "text/plain": [
       "<Figure size 1500x700 with 1 Axes>"
      ]
     },
     "metadata": {},
     "output_type": "display_data"
    }
   ],
   "source": [
    "import matplotlib.pyplot as plt\n",
    "import math\n",
    "\n",
    "fig, ax = plt.subplots(figsize=(15, 7))\n",
    "ax.scatter(ss_lev_glove['mean_similarity'], ss_lev_glove.cluster_size, label = 'glove', s=4)\n",
    "ax.errorbar(ss_lev_glove['mean_similarity'], ss_lev_glove.cluster_size, xerr=ss_lev_glove['std_similarity'], \n",
    "             lw=1, capsize=3, ecolor=(0.0,0.0,1.0,0.1), ls='none')\n",
    "\n",
    "ax.scatter(ss_lev_w2v['mean_similarity'], ss_lev_w2v.cluster_size, label = 'retrain', s=4, color=\"r\")\n",
    "ax.errorbar(ss_lev_w2v['mean_similarity'], ss_lev_w2v.cluster_size, xerr=ss_lev_w2v['std_similarity'], \n",
    "             lw=1, capsize=3, ecolor=(1.0,0.0,0.0,0.1), ls='none')\n",
    "ax.legend()\n",
    "plt.show()"
   ]
  },
  {
   "cell_type": "code",
   "execution_count": null,
   "id": "5cc612e2",
   "metadata": {},
   "outputs": [],
   "source": []
  }
 ],
 "metadata": {
  "kernelspec": {
   "display_name": "Python 3 (ipykernel)",
   "language": "python",
   "name": "python3"
  },
  "language_info": {
   "codemirror_mode": {
    "name": "ipython",
    "version": 3
   },
   "file_extension": ".py",
   "mimetype": "text/x-python",
   "name": "python",
   "nbconvert_exporter": "python",
   "pygments_lexer": "ipython3",
   "version": "3.11.5"
  }
 },
 "nbformat": 4,
 "nbformat_minor": 5
}
