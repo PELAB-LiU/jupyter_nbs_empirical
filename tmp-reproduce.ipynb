{
 "cells": [
  {
   "cell_type": "code",
   "execution_count": 1,
   "id": "ee830924",
   "metadata": {},
   "outputs": [
    {
     "name": "stdout",
     "output_type": "stream",
     "text": [
      "path_default=WindowsPath('C:/Users/yirwa29/Downloads/data_jupyter_nbs_empirical')\n"
     ]
    },
    {
     "name": "stderr",
     "output_type": "stream",
     "text": [
      "C:\\Users\\yirwa29\\AppData\\Local\\anaconda3\\envs\\chatgpt\\Lib\\site-packages\\openpyxl\\worksheet\\_reader.py:329: UserWarning: Data Validation extension is not supported and will be removed\n",
      "  warn(msg)\n"
     ]
    }
   ],
   "source": [
    "import pandas as pd\n",
    "import utils.config as config\n",
    "import numpy as np\n",
    "\n",
    "df_mlerr_labels = pd.read_excel(config.path_default.joinpath('Manual_labeing/libraries/df_err_processed_pregroup_sampled4_resampled7.xlsx'),\n",
    "                                sheet_name = \"Del-All(resampled-libs_cause)\",\n",
    "                                keep_default_na=False)\n",
    "df_mlerr_labels_reproduced = pd.read_excel(config.path_default.joinpath('Manual_labeing/reproduce/df_err_sampled4_labeled_dataset_construct.xlsx'),\n",
    "                                sheet_name = \"Del(repaired)-All\",\n",
    "                                keep_default_na=False)\n",
    "# df_mlerr_labels_reproduced = df_mlerr_labels_reproduced[~(df_mlerr_labels_reproduced.Reproduce==\"\")]"
   ]
  },
  {
   "cell_type": "code",
   "execution_count": 2,
   "id": "31be69f3",
   "metadata": {},
   "outputs": [],
   "source": [
    "df_mlerr_labels = pd.merge(df_mlerr_labels, df_mlerr_labels_reproduced[[\"eid\", 'Dataset_candidate', 'Reproduce', 'Dataset_note']], on=\"eid\", how='left')"
   ]
  },
  {
   "cell_type": "code",
   "execution_count": 6,
   "id": "6f9fdb91",
   "metadata": {},
   "outputs": [],
   "source": [
    "df_mlerr_labels[['fname', 'eid', 'ename', 'cluster_id', 'evalue', 'traceback', 'Libs-cause',\n",
    "                 'label_root_cause','label_refined_exp_type','label_ML_pipeline', 'label_if_ML_bug', 'label_if_runinfo_help','label_if_code_error_align',\n",
    "                 'Comment', 'Dataset_candidate', 'Reproduce', 'Dataset_note','other',\n",
    "                 'ename_mapped', 'nb_source', 'evalue_processed', 'pregroup_cluster']].to_excel(config.path_default.joinpath(\"Manual_labeing/reproduce/df_err_sampled4_resampled7_labeled_dataset_construct.xlsx\"), index=False, engine='xlsxwriter')"
   ]
  },
  {
   "cell_type": "code",
   "execution_count": 24,
   "id": "7e1b18ed",
   "metadata": {},
   "outputs": [],
   "source": [
    "# assert(df_mlerr_labels[~(df_mlerr_labels.Reproduce.isnull())].shape[0])==df_mlerr_labels_reproduced.shape[0]"
   ]
  },
  {
   "cell_type": "code",
   "execution_count": 31,
   "id": "00e60505",
   "metadata": {},
   "outputs": [
    {
     "data": {
      "text/plain": [
       "(30, 16)"
      ]
     },
     "execution_count": 31,
     "metadata": {},
     "output_type": "execute_result"
    }
   ],
   "source": [
    "# df_mlerr_labels_reproduced = df_mlerr_labels[~(df_mlerr_labels.Reproduce.isnull())][['fname', 'eid', 'ename', 'evalue', 'traceback',\n",
    "#        'ename_mapped', 'nb_source', 'evalue_processed', 'pregroup_cluster',\n",
    "#        'cluster_id', 'label_ML_pipeline', 'label_if_ML_bug',\n",
    "#        'label_refined_exp_type', 'label_root_cause',\n",
    "#        'Reproduce', 'Dataset_note']]\n",
    "# df_mlerr_labels_reproduced.shape"
   ]
  },
  {
   "cell_type": "code",
   "execution_count": 32,
   "id": "e7c4a408",
   "metadata": {},
   "outputs": [],
   "source": [
    "# df_mlerr_labels_reproduced.to_excel(config.path_default.joinpath(\"Manual_labeing/reproduce/cluster_sampled_labeled_reproduced.xlsx\"), index=False, engine='xlsxwriter')"
   ]
  }
 ],
 "metadata": {
  "kernelspec": {
   "display_name": "Python 3 (ipykernel)",
   "language": "python",
   "name": "python3"
  },
  "language_info": {
   "codemirror_mode": {
    "name": "ipython",
    "version": 3
   },
   "file_extension": ".py",
   "mimetype": "text/x-python",
   "name": "python",
   "nbconvert_exporter": "python",
   "pygments_lexer": "ipython3",
   "version": "3.11.5"
  }
 },
 "nbformat": 4,
 "nbformat_minor": 5
}
