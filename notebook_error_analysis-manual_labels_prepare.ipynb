{
 "cells": [
  {
   "cell_type": "markdown",
   "id": "0d037800",
   "metadata": {},
   "source": [
    "# Notebook error analysis \n",
    "\n",
    "## Manual labels of the sampled errors"
   ]
  },
  {
   "cell_type": "markdown",
   "id": "7e31218f",
   "metadata": {},
   "source": [
    "# Prepare statistics"
   ]
  },
  {
   "cell_type": "code",
   "execution_count": 13,
   "id": "0c824705",
   "metadata": {},
   "outputs": [
    {
     "name": "stdout",
     "output_type": "stream",
     "text": [
      "path_default=WindowsPath('C:/Users/yirwa29/Downloads/Dataset-Nb')\n"
     ]
    }
   ],
   "source": [
    "import importlib\n",
    "importlib.reload(config)\n",
    "import config"
   ]
  },
  {
   "cell_type": "code",
   "execution_count": 1,
   "id": "851f4778",
   "metadata": {},
   "outputs": [
    {
     "name": "stdout",
     "output_type": "stream",
     "text": [
      "path_default=WindowsPath('C:/Users/yirwa29/Downloads/Dataset-Nb')\n"
     ]
    }
   ],
   "source": [
    "import pandas as pd\n",
    "import config\n",
    "import numpy as np\n",
    "\n",
    "# what have been labeled\n",
    "# df_mlerr_labels_1 = pd.read_excel(config.path_default.joinpath('data_dedup_cluster/df_err_processed_pregroup_sampled4_labeled.xlsx'),\n",
    "#                                 sheet_name = \"Del1\",\n",
    "#                                 keep_default_na=False)\n",
    "# df_mlerr_labels_1 = df_mlerr_labels_1[df_mlerr_labels_1.label_ML_pipeline != \"\"]\n",
    "# df_mlerr_labels_2 = pd.read_excel(config.path_default.joinpath('data_dedup_cluster/df_err_processed_pregroup_sampled4_labeled.xlsx'),\n",
    "#                                 sheet_name = \"Del2\",\n",
    "#                                 keep_default_na=False)\n",
    "# df_mlerr_labels_2 = df_mlerr_labels_2[df_mlerr_labels_2.label_ML_pipeline != \"\"]\n",
    "# df_mlerr_labels_3 = pd.read_excel(config.path_default.joinpath('data_dedup_cluster/df_err_processed_pregroup_sampled4_labeled.xlsx'),\n",
    "#                                 sheet_name = \"Del3\",\n",
    "#                                 keep_default_na=False)\n",
    "# df_mlerr_labels_3 = df_mlerr_labels_3[df_mlerr_labels_3.label_ML_pipeline != \"\"]\n",
    "# df_mlerr_labels = pd.concat([df_mlerr_labels_1, df_mlerr_labels_2, df_mlerr_labels_3], ignore_index=True)\n",
    "\n",
    "df_mlerr_labels = pd.read_excel(config.path_default.joinpath('data_dedup_cluster/df_err_processed_pregroup_sampled4_labeled.xlsx'),\n",
    "                                sheet_name = \"Del(repaired)-All\",\n",
    "                                keep_default_na=False)\n",
    "\n",
    "df_mlerr_label_config = pd.read_excel(config.path_default.joinpath('data_dedup_cluster/df_err_processed_pregroup_sampled4_labeled.xlsx'),\n",
    "                                sheet_name = \"Config\",\n",
    "                                keep_default_na=False)\n",
    "df_mlerr_label_config_exclude = [\"Review_res\", \"Responsible\"]\n",
    "df_mlerr_label_config.drop(df_mlerr_label_config_exclude, axis=1, inplace=True)"
   ]
  },
  {
   "cell_type": "code",
   "execution_count": 2,
   "id": "b608e516",
   "metadata": {},
   "outputs": [
    {
     "name": "stdout",
     "output_type": "stream",
     "text": [
      "label_root_cause\n",
      "['misunderstanding of types of objects', 'uninitializated', 'error inside library', '']\n",
      "label_ML_pipeline\n",
      "['']\n",
      "label_if_ML_bug\n",
      "['']\n",
      "label_refined_exp_type\n",
      "['valueerror - row count mismatch']\n",
      "label_if_runinfo_help\n",
      "['']\n",
      "label_if_code_error_align\n",
      "['']\n",
      "label_if_error_chain\n",
      "['unknown', '']\n",
      "other\n",
      "['self-raised', '']\n"
     ]
    }
   ],
   "source": [
    "# labels in the config but are not used in manual labeling\n",
    "for label_key in df_mlerr_label_config:\n",
    "    print(label_key)\n",
    "    print([i for i in df_mlerr_label_config[label_key].unique() if i not in df_mlerr_labels[label_key].unique()])\n",
    "    \n",
    "    updated_config = [i for i in df_mlerr_label_config[label_key].unique() if i in df_mlerr_labels[label_key].unique()]\n",
    "    for _ in range(len(df_mlerr_label_config)-len(updated_config)):\n",
    "        updated_config.append(np.nan)\n",
    "    for _ in range(len(updated_config)-len(df_mlerr_label_config)):\n",
    "        df_mlerr_label_config.loc[len(df_mlerr_label_config)] = pd.Series(dtype='float64')\n",
    "    \n",
    "    df_mlerr_label_config[label_key] = updated_config"
   ]
  },
  {
   "cell_type": "code",
   "execution_count": 3,
   "id": "f717bf9e",
   "metadata": {},
   "outputs": [
    {
     "name": "stdout",
     "output_type": "stream",
     "text": [
      "label_root_cause\n",
      "[]\n",
      "label_ML_pipeline\n",
      "[]\n",
      "label_if_ML_bug\n",
      "[]\n",
      "label_refined_exp_type\n",
      "[]\n",
      "label_if_runinfo_help\n",
      "[]\n",
      "label_if_code_error_align\n",
      "[]\n",
      "label_if_error_chain\n",
      "[]\n",
      "other\n",
      "[0]\n"
     ]
    }
   ],
   "source": [
    "# labels used in manual labeling but not in config !!should not happen!!\n",
    "for label_key in df_mlerr_label_config:\n",
    "    print(label_key)\n",
    "    print([i for i in df_mlerr_labels[label_key].unique() if i not in df_mlerr_label_config[label_key].unique()])"
   ]
  },
  {
   "cell_type": "code",
   "execution_count": 4,
   "id": "7c65063f",
   "metadata": {},
   "outputs": [],
   "source": [
    "# need to take care of n/a in df_mlerr_label_config (label_refined_exp_type)\n",
    "# it means the same as the enames\n",
    "\n",
    "df_mlerr_labels['label_refined_exp_type'] = np.where(df_mlerr_labels['label_refined_exp_type'] == 'n/a', \n",
    "                                                     df_mlerr_labels['ename'], \n",
    "                                                     df_mlerr_labels['label_refined_exp_type'])\n",
    "real_refined_exp_types = set(df_mlerr_label_config.label_refined_exp_type).union(set(df_mlerr_labels['label_refined_exp_type'].unique()))\n",
    "real_refined_exp_types.remove(\"n/a\")\n",
    "real_refined_exp_types.remove(np.nan)\n",
    "real_refined_exp_types=list(real_refined_exp_types)\n",
    "for _ in range(len(df_mlerr_label_config)-len(real_refined_exp_types)):\n",
    "    real_refined_exp_types.append(np.nan)\n",
    "for _ in range(len(real_refined_exp_types)-len(df_mlerr_label_config)):\n",
    "    df_mlerr_label_config.loc[len(df_mlerr_label_config)] = pd.Series(dtype='float64')\n",
    "\n",
    "df_mlerr_label_config['label_refined_exp_type'] = list(real_refined_exp_types)"
   ]
  },
  {
   "cell_type": "code",
   "execution_count": 7,
   "id": "d6032846",
   "metadata": {},
   "outputs": [],
   "source": [
    "assert(df_mlerr_labels.label_refined_exp_type.nunique()==len(df_mlerr_label_config.label_refined_exp_type))\n",
    "df_mlerr_label_config.to_excel(config.path_default.joinpath(\"data_dedup_cluster/df_err_processed_pregroup_sampled4_config.xlsx\"), index=False, engine='xlsxwriter')"
   ]
  },
  {
   "cell_type": "code",
   "execution_count": 8,
   "id": "28b93e8c",
   "metadata": {},
   "outputs": [],
   "source": [
    "df_mlerr_labels_g = df_mlerr_labels[df_mlerr_labels[\"nb_source\"]==config.NB_SOURCE[\"github\"]].reset_index(drop=True)\n",
    "df_mlerr_labels_k = df_mlerr_labels[df_mlerr_labels[\"nb_source\"]==config.NB_SOURCE[\"kaggle\"]].reset_index(drop=True)\n",
    "assert(len(df_mlerr_labels_g)+len(df_mlerr_labels_k)==len(df_mlerr_labels))\n",
    "\n",
    "df_mlerr_labels_g.to_excel(config.path_default.joinpath(\"data_dedup_cluster/df_err_processed_pregroup_sampled4_g.xlsx\"), index=False, engine='xlsxwriter')\n",
    "df_mlerr_labels_k.to_excel(config.path_default.joinpath(\"data_dedup_cluster/df_err_processed_pregroup_sampled4_k.xlsx\"), index=False, engine='xlsxwriter')"
   ]
  },
  {
   "cell_type": "code",
   "execution_count": 11,
   "id": "b14b2016",
   "metadata": {},
   "outputs": [
    {
     "name": "stdout",
     "output_type": "stream",
     "text": [
      "label_root_cause\n",
      "misunderstanding of data structure         121\n",
      "misunderstanding of APIs                   115\n",
      "nb specific - execution order               91\n",
      "file/path not found or exist                52\n",
      "unknown                                     49\n",
      "wrong implementation                        49\n",
      "undefined variable                          45\n",
      "nb specific - previous cell error           44\n",
      "invalid argument                            42\n",
      "module not installed                        30\n",
      "settings(permission, environment)           22\n",
      "insufficient resources                      19\n",
      "misunderstanding of ML model                16\n",
      "typo                                        11\n",
      "library versions incompatible               10\n",
      "nb specific - need execute future cells      7\n",
      "did not import                               5\n",
      "external control (window closed)             5\n",
      "undefined function                           4\n",
      "API change                                   4\n",
      "change of environment                        3\n",
      "misunderstanding of libraries                2\n",
      "Name: count, dtype: int64\n",
      "\n",
      "\n",
      "label_ML_pipeline\n",
      "data preparation/preprocessing                                                 204\n",
      "training/validation (grid search)                                              118\n",
      "evaluation/inference (history plot, metric visualization)                      113\n",
      "data visualization                                                              83\n",
      "not applicable - tutorial notebook                                              59\n",
      "model construction (include compilation and visualization/summary)              53\n",
      "environment setup (module not found, file/path not found)                       49\n",
      "not-applicable (sub-labels needed, e.g., tutorials, physics simulation, ..)     34\n",
      "not applicable - education                                                      25\n",
      "unknown                                                                          6\n",
      "not applicable - physics                                                         2\n",
      "Name: count, dtype: int64\n",
      "\n",
      "\n",
      "label_if_ML_bug\n",
      "ML/data science library related (ML imports, error raised by library)    479\n",
      "general code error                                                       266\n",
      "unknown                                                                    1\n",
      "Name: count, dtype: int64\n",
      "\n",
      "\n",
      "label_refined_exp_type\n",
      "variable not found                                    134\n",
      "wrong arguments to API                                 68\n",
      "module not found                                       61\n",
      "filenotfounderror                                      54\n",
      "attributeerror                                         52\n",
      "keyerror                                               50\n",
      "tensor shape mismatch                                  37\n",
      "cast exception                                         24\n",
      "valueerror - data range mismatch                       20\n",
      "function not found                                     20\n",
      "valueerror - data value violation                      20\n",
      "out of memory (OOM)                                    17\n",
      "indexerror-1d                                          15\n",
      "unsupported broadcast                                  14\n",
      "typeerror-op                                           12\n",
      "runtimeerror                                           12\n",
      "typeerror                                              12\n",
      "indexerror-nd                                          10\n",
      "requesterror                                           10\n",
      "importerror                                             9\n",
      "environment setup                                       8\n",
      "unsupported file type (read file)                       8\n",
      "valueerror - feature name mismatch                      8\n",
      "syntaxerror                                             7\n",
      "typeerror-notcallable                                   6\n",
      "typeerror-notsubscriptable                              5\n",
      "assertionerror                                          5\n",
      "typeerror-notiterable                                   5\n",
      "class not found                                         5\n",
      "file permission                                         4\n",
      "unknown                                                 4\n",
      "initialization error (call mul-times, wrong order)      3\n",
      "typeerror-unhashable                                    3\n",
      "valueerror                                              3\n",
      "jsondecodeerror                                         2\n",
      "indentationerror                                        2\n",
      "fileexistserror                                         2\n",
      "constraint violation (database)                         2\n",
      "zerodivisionerror                                       2\n",
      "incompleteparseerror                                    1\n",
      "nameerror                                               1\n",
      "out of space (disk)                                     1\n",
      "qiskiterror                                             1\n",
      "executablenotfound                                      1\n",
      "systemexit                                              1\n",
      "notfounderror                                           1\n",
      "illegalmoveerror                                        1\n",
      "nosuchwindowexception                                   1\n",
      "systemerror                                             1\n",
      "indexerror                                              1\n",
      "Name: count, dtype: int64\n",
      "\n",
      "\n",
      "label_if_runinfo_help\n",
      "no                                      280\n",
      "yes                                     178\n",
      "no need                                 177\n",
      "yes - theorically yes, but difficult     87\n",
      "unknown                                  24\n",
      "Name: count, dtype: int64\n",
      "\n",
      "\n",
      "label_if_code_error_align\n",
      "yes        676\n",
      "no          63\n",
      "unknown      7\n",
      "Name: count, dtype: int64\n",
      "\n",
      "\n",
      "label_if_error_chain\n",
      "no     702\n",
      "yes     44\n",
      "Name: count, dtype: int64\n",
      "\n",
      "\n",
      "other\n",
      "0                                 675\n",
      "intentional                        28\n",
      "example to be include in paper     16\n",
      "should exclude                     16\n",
      "API argument constraints            6\n",
      "nb specific - missing cells         5\n",
      "Name: count, dtype: int64\n",
      "\n",
      "\n"
     ]
    }
   ],
   "source": [
    "# plot the distributions, sorted with frequencies\n",
    "for label_key in df_mlerr_label_config:\n",
    "    print(df_mlerr_labels[label_key].value_counts().sort_values(ascending=False))\n",
    "    print(\"\\n\")"
   ]
  },
  {
   "cell_type": "markdown",
   "id": "a86789e0",
   "metadata": {},
   "source": [
    "# Map the summarized config\n",
    "\n",
    "to config and the data"
   ]
  },
  {
   "cell_type": "code",
   "execution_count": 1,
   "id": "ccac19b5",
   "metadata": {},
   "outputs": [
    {
     "name": "stdout",
     "output_type": "stream",
     "text": [
      "path_default=WindowsPath('C:/Users/yirwa29/Downloads/Dataset-Nb')\n"
     ]
    }
   ],
   "source": [
    "import pandas as pd\n",
    "import config\n",
    "\n",
    "# config\n",
    "df_mlerr_label_config = pd.read_excel(config.path_default.joinpath('data_dedup_cluster/df_err_processed_pregroup_sampled4_config.xlsx'),\n",
    "                                keep_default_na=False)\n",
    "for summed_label_name in config.summed_label_names:\n",
    "    option_dict = { v: k for k, l in getattr(config, summed_label_name).items() for v in l }\n",
    "    config_tobe_mapped = df_mlerr_label_config[summed_label_name]\n",
    "    list_mapped = set([\"\" if (pd.isnull(item)|(item==\"\")) else option_dict[item] for item in config_tobe_mapped])\n",
    "    list_mapped = list(filter(None, list_mapped))\n",
    "    list_mapped.extend([\"\"]*(len(config_tobe_mapped)-len(list_mapped)))\n",
    "    df_mlerr_label_config[summed_label_name] = list_mapped\n",
    "df_mlerr_label_config.to_excel(config.path_default.joinpath(\"data_dedup_cluster/df_err_processed_pregroup_sampled4_config_sum.xlsx\"), index=False, engine='xlsxwriter')\n",
    "\n",
    "# data\n",
    "df_mlerr_labels_g = pd.read_excel(config.path_default.joinpath('data_dedup_cluster/df_err_processed_pregroup_sampled4_g.xlsx'))\n",
    "df_mlerr_labels_k = pd.read_excel(config.path_default.joinpath('data_dedup_cluster/df_err_processed_pregroup_sampled4_k.xlsx'))\n",
    "for summed_label_name in config.summed_label_names:\n",
    "    option_dict = { v: k for k, l in getattr(config, summed_label_name).items() for v in l }\n",
    "    df_mlerr_labels_g[summed_label_name] = [\"\" if (pd.isnull(item)|(item==\"\")) else option_dict[item] for item in df_mlerr_labels_g[summed_label_name]]\n",
    "    df_mlerr_labels_k[summed_label_name] = [\"\" if (pd.isnull(item)|(item==\"\")) else option_dict[item] for item in df_mlerr_labels_k[summed_label_name]]"
   ]
  },
  {
   "cell_type": "code",
   "execution_count": 2,
   "id": "e4306476",
   "metadata": {},
   "outputs": [],
   "source": [
    "df_mlerr_labels_g.to_excel(config.path_default.joinpath(\"data_dedup_cluster/df_err_processed_pregroup_sampled4_g_sum.xlsx\"), index=False, engine='xlsxwriter')\n",
    "df_mlerr_labels_k.to_excel(config.path_default.joinpath(\"data_dedup_cluster/df_err_processed_pregroup_sampled4_k_sum.xlsx\"), index=False, engine='xlsxwriter')"
   ]
  }
 ],
 "metadata": {
  "kernelspec": {
   "display_name": "Python 3 (ipykernel)",
   "language": "python",
   "name": "python3"
  },
  "language_info": {
   "codemirror_mode": {
    "name": "ipython",
    "version": 3
   },
   "file_extension": ".py",
   "mimetype": "text/x-python",
   "name": "python",
   "nbconvert_exporter": "python",
   "pygments_lexer": "ipython3",
   "version": "3.11.5"
  }
 },
 "nbformat": 4,
 "nbformat_minor": 5
}
