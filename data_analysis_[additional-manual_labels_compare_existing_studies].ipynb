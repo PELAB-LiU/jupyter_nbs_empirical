{
 "cells": [
  {
   "cell_type": "markdown",
   "id": "23a391d9",
   "metadata": {},
   "source": [
    "# Compare to:\n",
    "## 1. An empirical study on program failures of deep learning jobs, Zhang et al, ICSE20"
   ]
  },
  {
   "cell_type": "markdown",
   "id": "0d037800",
   "metadata": {},
   "source": [
    "### Label automatically notebooks that are DL\n",
    "\n",
    "based on what libraries they use"
   ]
  },
  {
   "cell_type": "code",
   "execution_count": 1,
   "id": "851f4778",
   "metadata": {},
   "outputs": [
    {
     "name": "stdout",
     "output_type": "stream",
     "text": [
      "path_default=WindowsPath('C:/Users/yirwa29/Downloads/data_jupyter_nbs_empirical')\n",
      "0.4584450402144772\n",
      "0.4599447513812155\n"
     ]
    }
   ],
   "source": [
    "import pandas as pd\n",
    "import utils.config as config\n",
    "import utils.util as util\n",
    "import numpy as np\n",
    "\n",
    "# manually labeled and processed\n",
    "df_mlerr_labels = pd.read_excel(config.path_default.joinpath('Manual_labeing/cluster_sampled_labeled_processed.xlsx'))\n",
    "\n",
    "df_err_g = pd.read_excel(config.path_github_error_process.joinpath('nberror_g_all_eid_p.xlsx'))\n",
    "df_err_k = pd.read_excel(config.path_kaggle_error_process.joinpath('nberror_k_eid_p.xlsx'))\n",
    "\n",
    "df_err_g.drop_duplicates(subset=['eid'], keep='first', inplace = True)\n",
    "df_err_k.drop_duplicates(subset=['eid'], keep='first', inplace = True)\n",
    "\n",
    "def get_DL(df_mlerr_labels, save_path = None):\n",
    "    df_mlerr_labels = pd.merge(df_mlerr_labels, \n",
    "                               pd.concat([df_err_g[[\"eid\",\"lib_alias\"]], df_err_k[[\"eid\",\"lib_alias\"]]], ignore_index=True), \n",
    "                               on=\"eid\", how=\"left\")\n",
    "    df_mlerr_labels[\"is_DLnb\"] = df_mlerr_labels.lib_alias.apply(util.lib_alias_isDL)\n",
    "    print(sum(df_mlerr_labels[\"is_DLnb\"])/df_mlerr_labels.shape[0])\n",
    "    print(df_mlerr_labels[df_mlerr_labels.is_DLnb==True].fname.nunique()/df_mlerr_labels.fname.nunique())\n",
    "\n",
    "    df_mlerr_labels = df_mlerr_labels[df_mlerr_labels.is_DLnb==True]\n",
    "    df_mlerr_labels = df_mlerr_labels.drop(['is_DLnb', 'lib_alias'], axis=1)\n",
    "    if save_path:\n",
    "        df_mlerr_labels.to_excel(save_path, index=False, engine='xlsxwriter')\n",
    "    \n",
    "get_DL(df_mlerr_labels, save_path = config.path_default.joinpath(\"Manual_labeing/cluster_sampled_labeled_DL.xlsx\"))"
   ]
  },
  {
   "cell_type": "markdown",
   "id": "3436975c",
   "metadata": {},
   "source": [
    "### Map our labeling to theirs: \n",
    "\n",
    "Bug type - Main categories:\n",
    "\n",
    "    Execution environment: \n",
    "        label_root_cause == config.label_root_cause[\"environment\"]\n",
    "    Data (dueing data preocessing, data integrity is compromised. i.e., corrupt data, unexpected encoding): \n",
    "        label_refined_exp_type == [\"jsondecodeerror\", \"unsupported file type (read file)\", \"incompleteparseerror\"]\n",
    "        ename==\"unicodedecodeerror\"\n",
    "    DL specific: \n",
    "        label_if_ML_bug.isin(config.label_if_ML_bug[\"ML bug\"])&\n",
    "        (label_refined_exp_type.isin([\"tensor shape mismatch\", \"unsupported broadcast\", \n",
    "        \"valueerror - data value violation\", \"valueerror - feature name mismatch\", \n",
    "        \"initialization error (call mul-times, wrong order)\", \"runtimeerror\", \"out of memory (OOM)\"])|\n",
    "        label_root_cause.isin(config.label_root_cause[\"API misuse\"]))\n",
    "    General code error: \n",
    "        the rest\n",
    "    "
   ]
  },
  {
   "cell_type": "code",
   "execution_count": 3,
   "id": "eaeeb478",
   "metadata": {},
   "outputs": [],
   "source": [
    "import pandas as pd\n",
    "import utils.config as config\n",
    "import numpy as np\n",
    "\n",
    "df_mlerr_labels_DL = pd.read_excel(config.path_default.joinpath('Manual_labeing/cluster_sampled_labeled_DL.xlsx'))"
   ]
  },
  {
   "cell_type": "code",
   "execution_count": 4,
   "id": "844039c3",
   "metadata": {},
   "outputs": [
    {
     "name": "stdout",
     "output_type": "stream",
     "text": [
      "0.4584450402144772\n",
      "0.34102564102564104\n",
      "0.5870786516853933\n"
     ]
    }
   ],
   "source": [
    "print(df_mlerr_labels_DL.shape[0]/(390+356))\n",
    "print(df_mlerr_labels_DL[df_mlerr_labels_DL.nb_source==2].shape[0]/390) # GH\n",
    "print(df_mlerr_labels_DL[df_mlerr_labels_DL.nb_source==1].shape[0]/356) # Kaggle"
   ]
  },
  {
   "cell_type": "code",
   "execution_count": 5,
   "id": "a30886d4",
   "metadata": {},
   "outputs": [],
   "source": [
    "df_mlerr_labels_DL[\"Comp1_DLJobs\"] = -1\n",
    "df_mlerr_labels_DL[\"Comp1_DLJobs\"] = np.where(df_mlerr_labels_DL['label_root_cause'].isin(config.label_root_cause[\"environment setting\"]),\n",
    "                                              \"Execution environment\",\n",
    "                                              df_mlerr_labels_DL[\"Comp1_DLJobs\"])\n",
    "df_mlerr_labels_DL[\"Comp1_DLJobs\"] = np.where((df_mlerr_labels_DL['label_refined_exp_type'].isin([\"jsondecodeerror\", \"unsupported file type (read file)\", \"incompleteparseerror\"])|\n",
    "                                               (df_mlerr_labels_DL['ename']==\"unicodedecodeerror\"))&\n",
    "                                              (df_mlerr_labels_DL[\"Comp1_DLJobs\"]==\"-1\"),\n",
    "                                              \"Data\",\n",
    "                                              df_mlerr_labels_DL[\"Comp1_DLJobs\"])\n",
    "df_mlerr_labels_DL[\"Comp1_DLJobs\"] = np.where(df_mlerr_labels_DL['label_if_ML_bug'].isin(config.label_if_ML_bug[\"ML bug\"])&\n",
    "                                              (df_mlerr_labels_DL['label_refined_exp_type'].isin([\"tensor shape mismatch\", \"unsupported broadcast\", \n",
    "                                                                                                 \"valueerror - data value violation\", \"valueerror - feature name mismatch\",\n",
    "                                                                                                 \"initialization error (call mul-times, wrong order)\", \"runtimeerror\",\n",
    "                                                                                                 \"out of memory (OOM)\"])|\n",
    "                                               df_mlerr_labels_DL['label_root_cause'].isin(config.label_root_cause[\"API misuse\"]))&\n",
    "                                              (df_mlerr_labels_DL[\"Comp1_DLJobs\"]==\"-1\"),\n",
    "                                              \"DL specific\",\n",
    "                                              df_mlerr_labels_DL[\"Comp1_DLJobs\"])\n",
    "df_mlerr_labels_DL[\"Comp1_DLJobs\"] = np.where((df_mlerr_labels_DL[\"Comp1_DLJobs\"]==\"-1\"),\n",
    "                                              \"General code error\",\n",
    "                                              df_mlerr_labels_DL[\"Comp1_DLJobs\"])"
   ]
  },
  {
   "cell_type": "code",
   "execution_count": 6,
   "id": "a6d04af1",
   "metadata": {},
   "outputs": [
    {
     "data": {
      "text/plain": [
       "Comp1_DLJobs\n",
       "General code error       159\n",
       "DL specific              112\n",
       "Execution environment     68\n",
       "Data                       3\n",
       "Name: count, dtype: int64"
      ]
     },
     "execution_count": 6,
     "metadata": {},
     "output_type": "execute_result"
    }
   ],
   "source": [
    "df_mlerr_labels_DL[\"Comp1_DLJobs\"].value_counts()"
   ]
  },
  {
   "cell_type": "code",
   "execution_count": 7,
   "id": "572ddbc8",
   "metadata": {},
   "outputs": [
    {
     "data": {
      "text/plain": [
       "Comp1_DLJobs\n",
       "General code error       0.464912\n",
       "DL specific              0.327485\n",
       "Execution environment    0.198830\n",
       "Data                     0.008772\n",
       "Name: count, dtype: float64"
      ]
     },
     "execution_count": 7,
     "metadata": {},
     "output_type": "execute_result"
    }
   ],
   "source": [
    "df_mlerr_labels_DL[\"Comp1_DLJobs\"].value_counts()/df_mlerr_labels_DL.shape[0]"
   ]
  },
  {
   "cell_type": "markdown",
   "id": "42eba583",
   "metadata": {},
   "source": [
    "Bug type - Sub-categories:\n",
    "\n",
    "DL specific:\n",
    "\n",
    "    GPU out of memory/CPU out of memory:\n",
    "        label_refined_exp_type==\"out of memory (OOM)\"\n",
    "    Framework API misuse:\n",
    "        label_root_cause.isin(config.label_root_cause[\"API\"])\n",
    "    Tensor Mismatch:\n",
    "        label_refined_exp_type.isin([\"tensor shape mismatch\", \"unsupported broadcast\"])\n",
    "    Loss NaN: - \n",
    "    \n",
    "    ++ what is the top 3 for us?\n",
    "    \n",
    "Execution environment:\n",
    "\n",
    "    Path not found:\n",
    "        label_root_cause==\"file/path not found or exist\"\n",
    "    Library not found:\n",
    "        label_root_cause==\"module not installed\"\n",
    "    Permission denied:\n",
    "        label_root_cause==\"settings(permission, environment)\"\n",
    "    \n",
    "    ++ what is the top 1 for us?\n",
    "    \n",
    "General code error:\n",
    "\n",
    "    Illegal argument:\n",
    "        label_root_cause.isin(config.label_root_cause[\"API\"])\n",
    "    Type mismatch:\n",
    "        label_refined_exp_type.isin(config.label_refined_exp_type[\"type\"])\n",
    "    Key not found:\n",
    "        label_refined_exp_type.isin(config.label_refined_exp_type[\"key\"])\n",
    "    ...\n",
    "    \n",
    "    ++ what is the top 3 for us?\n",
    "    \n",
    "Data:\n",
    "\n",
    "    Corrupt data:\n",
    "        label_refined_exp_type == [\"unsupported file type (read file)\", \"incompleteparseerror\"]\n",
    "    Unexpected encoding:\n",
    "        label_refined_exp_type == \"jsondecodeerror\" | ename==\"unicodedecodeerror\""
   ]
  },
  {
   "cell_type": "code",
   "execution_count": 8,
   "id": "1acb9696",
   "metadata": {
    "scrolled": true
   },
   "outputs": [
    {
     "name": "stdout",
     "output_type": "stream",
     "text": [
      "GPU/CPU out of memory:  0.14285714285714285 0.04678362573099415\n",
      "Tensor Mismatch:  0.3125 0.1023391812865497\n",
      "Framework API misuse:  0.38392857142857145 0.12573099415204678\n",
      "Other:  0.1607142857142857 0.05263157894736842\n"
     ]
    },
    {
     "data": {
      "text/plain": [
       "label_refined_exp_type\n",
       "tensor shape mismatch                                 30\n",
       "out of memory (OOM)                                   16\n",
       "wrong arguments to API                                15\n",
       "valueerror - data value violation                      9\n",
       "runtimeerror                                           8\n",
       "attributeerror                                         6\n",
       "unsupported broadcast                                  5\n",
       "valueerror - feature name mismatch                     4\n",
       "keyerror                                               3\n",
       "initialization error (call mul-times, wrong order)     2\n",
       "cast exception                                         2\n",
       "indexerror-nd                                          2\n",
       "typeerror-notsubscriptable                             2\n",
       "importerror                                            1\n",
       "typeerror-unhashable                                   1\n",
       "valueerror - data range mismatch                       1\n",
       "variable not found                                     1\n",
       "typeerror-notcallable                                  1\n",
       "typeerror-notiterable                                  1\n",
       "notfounderror                                          1\n",
       "typeerror                                              1\n",
       "Name: count, dtype: int64"
      ]
     },
     "execution_count": 8,
     "metadata": {},
     "output_type": "execute_result"
    }
   ],
   "source": [
    "df_mlerr_labels_DL_dlspecific = df_mlerr_labels_DL[df_mlerr_labels_DL[\"Comp1_DLJobs\"]==\"DL specific\"]\n",
    "n_oom = sum(df_mlerr_labels_DL_dlspecific[\"label_refined_exp_type\"]==\"out of memory (OOM)\")\n",
    "n_tm = sum(df_mlerr_labels_DL_dlspecific[\"label_refined_exp_type\"].isin([\"tensor shape mismatch\", \"unsupported broadcast\"]))\n",
    "n_api = sum(df_mlerr_labels_DL_dlspecific[\"label_root_cause\"].isin(config.label_root_cause[\"API misuse\"])&(~df_mlerr_labels_DL_dlspecific[\"label_refined_exp_type\"].isin([\"tensor shape mismatch\", \"unsupported broadcast\"])))\n",
    "\n",
    "print(\"GPU/CPU out of memory: \", n_oom/df_mlerr_labels_DL_dlspecific.shape[0], n_oom/df_mlerr_labels_DL.shape[0])\n",
    "print(\"Tensor Mismatch: \", n_tm/df_mlerr_labels_DL_dlspecific.shape[0], n_tm/df_mlerr_labels_DL.shape[0])\n",
    "print(\"Framework API misuse: \", n_api/df_mlerr_labels_DL_dlspecific.shape[0], n_api/df_mlerr_labels_DL.shape[0])\n",
    "\n",
    "print(\"Other: \", 1-(n_oom+n_tm+n_api)/df_mlerr_labels_DL_dlspecific.shape[0], (df_mlerr_labels_DL_dlspecific.shape[0]-(n_oom+n_tm+n_api))/df_mlerr_labels_DL.shape[0])\n",
    "\n",
    "df_mlerr_labels_DL_dlspecific.label_refined_exp_type.value_counts()\n",
    "# our top 3 are the same as theirs (tho we label API misuse a bit differently - as root cause)"
   ]
  },
  {
   "cell_type": "code",
   "execution_count": 9,
   "id": "453f69ae",
   "metadata": {},
   "outputs": [
    {
     "name": "stdout",
     "output_type": "stream",
     "text": [
      "Path not found:  0.5147058823529411 0.1023391812865497\n",
      "Library not found:  0.16176470588235295 0.03216374269005848\n",
      "Permission denied:  0.14705882352941177 0.029239766081871343\n",
      "Other:  0.17647058823529416 0.03508771929824561\n"
     ]
    },
    {
     "data": {
      "text/plain": [
       "label_root_cause\n",
       "file/path not found or exist         35\n",
       "module not installed                 11\n",
       "settings(permission, environment)    10\n",
       "library versions incompatible         7\n",
       "change of environment                 3\n",
       "external control (window closed)      2\n",
       "Name: count, dtype: int64"
      ]
     },
     "execution_count": 9,
     "metadata": {},
     "output_type": "execute_result"
    }
   ],
   "source": [
    "df_mlerr_labels_DL_env = df_mlerr_labels_DL[df_mlerr_labels_DL[\"Comp1_DLJobs\"]==\"Execution environment\"]\n",
    "n_pnf = sum((df_mlerr_labels_DL_env[\"label_root_cause\"]==\"file/path not found or exist\"))\n",
    "n_lnf = sum(df_mlerr_labels_DL_env[\"label_root_cause\"]==\"module not installed\")\n",
    "n_pd = sum(df_mlerr_labels_DL_env[\"label_root_cause\"]==\"settings(permission, environment)\")\n",
    "\n",
    "print(\"Path not found: \", n_pnf/df_mlerr_labels_DL_env.shape[0], n_pnf/df_mlerr_labels_DL.shape[0])\n",
    "print(\"Library not found: \", n_lnf/df_mlerr_labels_DL_env.shape[0], n_lnf/df_mlerr_labels_DL.shape[0])\n",
    "print(\"Permission denied: \", n_pd/df_mlerr_labels_DL_env.shape[0], n_pd/df_mlerr_labels_DL.shape[0])\n",
    "\n",
    "print(\"Other: \", 1-(n_pnf+n_lnf+n_pd)/df_mlerr_labels_DL_env.shape[0], (df_mlerr_labels_DL_env.shape[0]-(n_pnf+n_lnf+n_pd))/df_mlerr_labels_DL.shape[0])\n",
    "\n",
    "df_mlerr_labels_DL_env.label_root_cause.value_counts()\n",
    "# top 3 align"
   ]
  },
  {
   "cell_type": "code",
   "execution_count": 10,
   "id": "7cd0e663",
   "metadata": {
    "scrolled": true
   },
   "outputs": [
    {
     "name": "stdout",
     "output_type": "stream",
     "text": [
      "Illegal argument:  0.07547169811320754 0.03508771929824561\n",
      "Type mismatch:  0.06289308176100629 0.029239766081871343\n",
      "Key not found:  0.0440251572327044 0.02046783625730994\n",
      "The rest:  0.4276729559748428 0.19883040935672514\n",
      "Other:  0.389937106918239 0.18128654970760233\n"
     ]
    },
    {
     "data": {
      "text/plain": [
       "label_refined_exp_type\n",
       "variable not found                  45\n",
       "module not found                    17\n",
       "wrong arguments to API              16\n",
       "function not found                  15\n",
       "attributeerror                      12\n",
       "keyerror                             8\n",
       "indexerror-1d                        7\n",
       "valueerror - data range mismatch     7\n",
       "indexerror-nd                        4\n",
       "typeerror                            4\n",
       "typeerror-notcallable                3\n",
       "cast exception                       3\n",
       "syntaxerror                          2\n",
       "typeerror-notsubscriptable           2\n",
       "typeerror-notiterable                2\n",
       "filenotfounderror                    2\n",
       "class not found                      2\n",
       "requesterror                         1\n",
       "indentationerror                     1\n",
       "out of space (disk)                  1\n",
       "valueerror                           1\n",
       "systemerror                          1\n",
       "typeerror-op                         1\n",
       "nameerror                            1\n",
       "unknown                              1\n",
       "Name: count, dtype: int64"
      ]
     },
     "execution_count": 10,
     "metadata": {},
     "output_type": "execute_result"
    }
   ],
   "source": [
    "df_mlerr_labels_DL_py = df_mlerr_labels_DL[df_mlerr_labels_DL[\"Comp1_DLJobs\"]==\"General code error\"]\n",
    "n_arg = sum((df_mlerr_labels_DL_py[\"label_root_cause\"].isin(config.label_root_cause[\"API misuse\"])))\n",
    "n_type = sum((~df_mlerr_labels_DL_py[\"label_root_cause\"].isin(config.label_root_cause[\"API misuse\"]))&\n",
    "             (df_mlerr_labels_DL_py[\"label_refined_exp_type\"].isin(config.label_refined_exp_type[\"type error\"])))\n",
    "n_key = sum((~df_mlerr_labels_DL_py[\"label_root_cause\"].isin(config.label_root_cause[\"API misuse\"]))&\n",
    "            (df_mlerr_labels_DL_py[\"label_refined_exp_type\"].isin(config.label_refined_exp_type[\"key error\"])))\n",
    "n_rest = sum((~df_mlerr_labels_DL_py[\"label_root_cause\"].isin(config.label_root_cause[\"API misuse\"]))&\n",
    "             (df_mlerr_labels_DL_py[\"label_refined_exp_type\"].isin([\"function not found\", \"syntaxerror\", \"zerodivisionerror\"]+\n",
    "                                                                    config.label_refined_exp_type[\"variable not found\"]+\n",
    "                                                                    config.label_refined_exp_type[\"attribute error\"]+\n",
    "                                                                    config.label_refined_exp_type[\"index error\"])))\n",
    "print(\"Illegal argument: \", n_arg/df_mlerr_labels_DL_py.shape[0], n_arg/df_mlerr_labels_DL.shape[0])\n",
    "print(\"Type mismatch: \", n_type/df_mlerr_labels_DL_py.shape[0], n_type/df_mlerr_labels_DL.shape[0])\n",
    "print(\"Key not found: \", n_key/df_mlerr_labels_DL_py.shape[0], n_key/df_mlerr_labels_DL.shape[0])\n",
    "print(\"The rest: \", n_rest/df_mlerr_labels_DL_py.shape[0], n_rest/df_mlerr_labels_DL.shape[0])\n",
    "\n",
    "print(\"Other: \", 1-(n_arg+n_type+n_key+n_rest)/df_mlerr_labels_DL_py.shape[0], (df_mlerr_labels_DL_py.shape[0]-(n_arg+n_type+n_key+n_rest))/df_mlerr_labels_DL.shape[0])\n",
    "\n",
    "df_mlerr_labels_DL_py.label_refined_exp_type.value_counts()\n",
    "# name error is the most, then illegal argument"
   ]
  },
  {
   "cell_type": "code",
   "execution_count": 11,
   "id": "90cd5817",
   "metadata": {},
   "outputs": [
    {
     "name": "stdout",
     "output_type": "stream",
     "text": [
      "Corrupt data:  1.0 0.008771929824561403\n",
      "Unexpected encoding:  0.0 0.0\n",
      "Other:  0.0 0.0\n"
     ]
    },
    {
     "data": {
      "text/plain": [
       "label_refined_exp_type\n",
       "unsupported file type (read file)    3\n",
       "Name: count, dtype: int64"
      ]
     },
     "execution_count": 11,
     "metadata": {},
     "output_type": "execute_result"
    }
   ],
   "source": [
    "df_mlerr_labels_DL_data = df_mlerr_labels_DL[df_mlerr_labels_DL[\"Comp1_DLJobs\"]==\"Data\"]\n",
    "n_cd = sum((df_mlerr_labels_DL_data[\"label_refined_exp_type\"].isin([\"unsupported file type (read file)\", \"incompleteparseerror\"])))\n",
    "n_en = sum((df_mlerr_labels_DL_data[\"label_refined_exp_type\"]==\"jsondecodeerror\")|(df_mlerr_labels_DL_data[\"ename\"]==\"unicodedecodeerror\"))\n",
    "\n",
    "print(\"Corrupt data: \", n_cd/df_mlerr_labels_DL_data.shape[0], n_cd/df_mlerr_labels_DL.shape[0])\n",
    "print(\"Unexpected encoding: \", n_en/df_mlerr_labels_DL_data.shape[0], n_en/df_mlerr_labels_DL.shape[0])\n",
    "\n",
    "print(\"Other: \", 1-(n_cd+n_en)/df_mlerr_labels_DL_data.shape[0], (df_mlerr_labels_DL_data.shape[0]-(n_cd+n_en))/df_mlerr_labels_DL.shape[0])\n",
    "\n",
    "df_mlerr_labels_DL_data.label_refined_exp_type.value_counts()\n",
    "# all three cases are corrupted data"
   ]
  },
  {
   "cell_type": "markdown",
   "id": "e0babdc4",
   "metadata": {},
   "source": [
    "ML pipeline stages:\n",
    "\n",
    "    Initialization (30.8):\n",
    "        label_ML_pipeline: config.label_ML_pipeline[\"environment setup\"]\n",
    "    Data preprocessing (30):\n",
    "        label_ML_pipeline: config.label_ML_pipeline[\"data preparation\"], config.label_ML_pipeline[\"data visualization\"]\n",
    "    Training&validation (15):\n",
    "        label_ML_pipeline: config.label_ML_pipeline[\"model construction\"], config.label_ML_pipeline[\"training\"]\n",
    "    Model evaluation (24.3):\n",
    "        label_ML_pipeline: config.label_ML_pipeline[\"evaluation/prediction\"]\n"
   ]
  },
  {
   "cell_type": "code",
   "execution_count": 14,
   "id": "54738c59",
   "metadata": {
    "scrolled": true
   },
   "outputs": [
    {
     "name": "stdout",
     "output_type": "stream",
     "text": [
      "Initialization:  0.07602339181286549\n",
      "Data preprocessing:  0.17251461988304093\n",
      "Data visualization:  0.07602339181286549\n",
      "Model construction:  0.16374269005847952\n",
      "Training:  0.2719298245614035\n",
      "Model evaluation:  0.23976608187134502\n"
     ]
    }
   ],
   "source": [
    "print(\"Initialization: \", sum((df_mlerr_labels_DL[\"label_ML_pipeline\"].isin(config.label_ML_pipeline[\"environment setup\"])))/df_mlerr_labels_DL.shape[0])\n",
    "print(\"Data preprocessing: \", sum((df_mlerr_labels_DL[\"label_ML_pipeline\"].isin(config.label_ML_pipeline[\"data preparation\"])))/df_mlerr_labels_DL.shape[0])\n",
    "print(\"Data visualization: \", sum((df_mlerr_labels_DL[\"label_ML_pipeline\"].isin(config.label_ML_pipeline[\"data visualization\"])))/df_mlerr_labels_DL.shape[0])\n",
    "print(\"Model construction: \", sum((df_mlerr_labels_DL[\"label_ML_pipeline\"].isin(config.label_ML_pipeline[\"model construction\"])))/df_mlerr_labels_DL.shape[0])\n",
    "print(\"Training: \", sum((df_mlerr_labels_DL[\"label_ML_pipeline\"].isin(config.label_ML_pipeline[\"training\"])))/df_mlerr_labels_DL.shape[0])\n",
    "print(\"Model evaluation: \", sum((df_mlerr_labels_DL[\"label_ML_pipeline\"].isin(config.label_ML_pipeline[\"evaluation/prediction\"])))/df_mlerr_labels_DL.shape[0])"
   ]
  },
  {
   "cell_type": "markdown",
   "id": "2f1ee350",
   "metadata": {},
   "source": [
    "## 2. Bug Analysis in Jupyter Notebook Projects: An Empirical Study, De Santana et al, TSEM2024"
   ]
  },
  {
   "cell_type": "markdown",
   "id": "7d145968",
   "metadata": {},
   "source": [
    "### Map our labeling to theirs: \n",
    "\n",
    "Bug type - Main categories:\n",
    "\n",
    "    Kernel: -\n",
    "    Conversion: -\n",
    "    Portability: -\n",
    "    Environment and settings (missing libraries, incompatible libraries..) (SO 43%, GH 36%):\n",
    "        label_root_cause.isin([\"module not installed\", \"library versions incompatible\"])\n",
    "        we also have: \n",
    "            change of environment, \n",
    "            file/path not found or exist, \n",
    "            settings(permission, environment), \n",
    "            external control (window closed)\n",
    "    Connection: -\n",
    "    Processing (5%, 2%):\n",
    "        label_root_cause.isin(config.label_root_cause[\"resources\"])\n",
    "    Cell defect: -\n",
    "    Implementation (22%, 44%):\n",
    "        Semantic Error (not crashes): -\n",
    "        Syntax Error: -\n",
    "        Data Science lib wrong usage:\n",
    "            label_root_cause.isin(config.label_root_cause[\"API\"])&label_if_ML_bug.isin(config.label_if_ML_bug[\"ML bug\"])\n",
    "        Data Science Algorithm Error: \n",
    "            label_root_cause.isin(config.label_root_cause[\"implementation\"])&label_if_ML_bug.isin(config.label_if_ML_bug[\"ML bug\"])\n",
    "     we also have: NB specific, data, library"
   ]
  },
  {
   "cell_type": "code",
   "execution_count": 15,
   "id": "906ba69f",
   "metadata": {},
   "outputs": [],
   "source": [
    "import pandas as pd\n",
    "import utils.config as config\n",
    "import numpy as np\n",
    "\n",
    "# manually labeled and processed\n",
    "df_mlerr_labels = pd.read_excel(config.path_default.joinpath('Manual_labeing/cluster_sampled_labeled_processed.xlsx'))\n",
    "df_mlerr_labels_sum = pd.read_excel(config.path_default.joinpath('Manual_labeing/cluster_sampled_labeled_sum.xlsx'))\n",
    "\n",
    "df_mlerr_labels_k = df_mlerr_labels[df_mlerr_labels.nb_source==config.NB_SOURCE[\"kaggle\"]]\n",
    "df_mlerr_labels_g = df_mlerr_labels[df_mlerr_labels.nb_source==config.NB_SOURCE[\"github\"]]"
   ]
  },
  {
   "cell_type": "code",
   "execution_count": 16,
   "id": "c8a6c8d8",
   "metadata": {},
   "outputs": [
    {
     "name": "stdout",
     "output_type": "stream",
     "text": [
      "Environment and settings:  0.05227882037533512 Kaggle:  0.033707865168539325 GitHub: 0.06923076923076923\n",
      "Processing:  0.022788203753351208 Kaggle:  0.03089887640449438 GitHub: 0.015384615384615385\n",
      "Implementation:  0.2479892761394102 Kaggle:  0.26685393258426965 GitHub:  0.23076923076923078\n",
      "    Implementation - Data Science lib wrong usage:  0.17024128686327078 Kaggle:  0.18258426966292135 GitHub:  0.15897435897435896\n",
      "    Implementation - Data Science Algorithm Error:  0.0777479892761394 Kaggle:  0.08426966292134831 GitHub:  0.07179487179487179\n"
     ]
    }
   ],
   "source": [
    "print(\"Environment and settings: \", \n",
    "      sum((df_mlerr_labels[\"label_root_cause\"].isin([\"module not installed\", \"library versions incompatible\"])))/df_mlerr_labels.shape[0],\n",
    "     \"Kaggle: \",\n",
    "      sum((df_mlerr_labels_k[\"label_root_cause\"].isin([\"module not installed\", \"library versions incompatible\"])))/df_mlerr_labels_k.shape[0],\n",
    "      \"GitHub:\",\n",
    "      sum((df_mlerr_labels_g[\"label_root_cause\"].isin([\"module not installed\", \"library versions incompatible\"])))/df_mlerr_labels_g.shape[0])\n",
    "print(\"Processing: \", \n",
    "      sum((df_mlerr_labels[\"label_root_cause\"].isin(config.label_root_cause[\"insufficient resource\"])))/df_mlerr_labels.shape[0],\n",
    "     \"Kaggle: \",\n",
    "      sum((df_mlerr_labels_k[\"label_root_cause\"].isin(config.label_root_cause[\"insufficient resource\"])))/df_mlerr_labels_k.shape[0],\n",
    "      \"GitHub:\",\n",
    "      sum((df_mlerr_labels_g[\"label_root_cause\"].isin(config.label_root_cause[\"insufficient resource\"])))/df_mlerr_labels_g.shape[0])\n",
    "\n",
    "n_impl_api = sum((df_mlerr_labels[\"label_root_cause\"].isin(config.label_root_cause[\"API misuse\"])&df_mlerr_labels[\"label_if_ML_bug\"].isin(config.label_if_ML_bug[\"ML bug\"])))\n",
    "n_impl_api_k = sum((df_mlerr_labels_k[\"label_root_cause\"].isin(config.label_root_cause[\"API misuse\"])&df_mlerr_labels_k[\"label_if_ML_bug\"].isin(config.label_if_ML_bug[\"ML bug\"])))\n",
    "n_impl_api_g = sum((df_mlerr_labels_g[\"label_root_cause\"].isin(config.label_root_cause[\"API misuse\"])&df_mlerr_labels_g[\"label_if_ML_bug\"].isin(config.label_if_ML_bug[\"ML bug\"])))\n",
    "n_impl_impl = sum((df_mlerr_labels[\"label_root_cause\"].isin(config.label_root_cause[\"implementation error\"])&df_mlerr_labels[\"label_if_ML_bug\"].isin(config.label_if_ML_bug[\"ML bug\"])))\n",
    "n_impl_impl_k = sum((df_mlerr_labels_k[\"label_root_cause\"].isin(config.label_root_cause[\"implementation error\"])&df_mlerr_labels_k[\"label_if_ML_bug\"].isin(config.label_if_ML_bug[\"ML bug\"])))\n",
    "n_impl_impl_g = sum((df_mlerr_labels_g[\"label_root_cause\"].isin(config.label_root_cause[\"implementation error\"])&df_mlerr_labels_g[\"label_if_ML_bug\"].isin(config.label_if_ML_bug[\"ML bug\"])))\n",
    "print(\"Implementation: \", (n_impl_api + n_impl_impl)/df_mlerr_labels.shape[0],\n",
    "     \"Kaggle: \", (n_impl_api_k + n_impl_impl_k)/df_mlerr_labels_k.shape[0],\n",
    "     \"GitHub: \", (n_impl_api_g + n_impl_impl_g)/df_mlerr_labels_g.shape[0])\n",
    "print(\"    Implementation - Data Science lib wrong usage: \", n_impl_api/df_mlerr_labels.shape[0],\n",
    "      \"Kaggle: \", n_impl_api_k/df_mlerr_labels_k.shape[0],\n",
    "      \"GitHub: \", n_impl_api_g/df_mlerr_labels_g.shape[0])\n",
    "print(\"    Implementation - Data Science Algorithm Error: \", n_impl_impl/df_mlerr_labels.shape[0],\n",
    "     \"Kaggle: \", n_impl_impl_k/df_mlerr_labels_k.shape[0],\n",
    "     \"GitHub: \", n_impl_impl_g/df_mlerr_labels_g.shape[0])"
   ]
  },
  {
   "cell_type": "code",
   "execution_count": 17,
   "id": "404ad4ef",
   "metadata": {},
   "outputs": [
    {
     "data": {
      "text/plain": [
       "label_root_cause\n",
       "API misuse               0.209115\n",
       "NB specific              0.194370\n",
       "implementation error     0.168901\n",
       "environment setting      0.167560\n",
       "data confusion           0.163539\n",
       "unknown                  0.038874\n",
       "insufficient resource    0.022788\n",
       "ML model confusion       0.022788\n",
       "library cause            0.012064\n",
       "Name: count, dtype: float64"
      ]
     },
     "execution_count": 17,
     "metadata": {},
     "output_type": "execute_result"
    }
   ],
   "source": [
    "df_mlerr_labels_sum[\"label_root_cause\"].value_counts()/df_mlerr_labels_sum.shape[0]"
   ]
  },
  {
   "cell_type": "code",
   "execution_count": 19,
   "id": "a81c6fd5",
   "metadata": {},
   "outputs": [
    {
     "data": {
      "text/plain": [
       "(0.6769999999999999, 0.6679999999999999, 0.685)"
      ]
     },
     "execution_count": 19,
     "metadata": {},
     "output_type": "execute_result"
    }
   ],
   "source": [
    "# other implementation:\n",
    "1-0.052-0.023-0.248, 1-0.034-0.031-0.267, 1-0.069-0.015-0.231"
   ]
  },
  {
   "cell_type": "code",
   "execution_count": null,
   "id": "f934008d",
   "metadata": {},
   "outputs": [],
   "source": []
  }
 ],
 "metadata": {
  "kernelspec": {
   "display_name": "Python 3 (ipykernel)",
   "language": "python",
   "name": "python3"
  },
  "language_info": {
   "codemirror_mode": {
    "name": "ipython",
    "version": 3
   },
   "file_extension": ".py",
   "mimetype": "text/x-python",
   "name": "python",
   "nbconvert_exporter": "python",
   "pygments_lexer": "ipython3",
   "version": "3.11.5"
  }
 },
 "nbformat": 4,
 "nbformat_minor": 5
}
