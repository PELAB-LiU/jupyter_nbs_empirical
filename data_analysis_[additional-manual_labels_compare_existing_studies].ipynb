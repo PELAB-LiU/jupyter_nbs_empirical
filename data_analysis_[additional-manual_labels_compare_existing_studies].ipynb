{
 "cells": [
  {
   "cell_type": "markdown",
   "id": "23a391d9",
   "metadata": {},
   "source": [
    "# Compare to:\n",
    "## 1. An empirical study on program failures of deep learning jobs, Zhang et al, ICSE20"
   ]
  },
  {
   "cell_type": "markdown",
   "id": "0d037800",
   "metadata": {},
   "source": [
    "### Label automatically notebooks that are DL\n",
    "\n",
    "based on what libraries they use"
   ]
  },
  {
   "cell_type": "code",
   "execution_count": 34,
   "id": "851f4778",
   "metadata": {},
   "outputs": [
    {
     "name": "stdout",
     "output_type": "stream",
     "text": [
      "0.4584450402144772\n",
      "0.4599447513812155\n",
      "0.4584450402144772\n",
      "0.4599447513812155\n"
     ]
    }
   ],
   "source": [
    "import pandas as pd\n",
    "import utils.config as config\n",
    "import utils.util as util\n",
    "import numpy as np\n",
    "\n",
    "# manually labeled\n",
    "df_mlerr_labels = pd.read_excel(config.path_default.joinpath('Manual_labeing/cluster_sampled_labeled_processed.xlsx'))\n",
    "df_mlerr_labels_sum = pd.read_excel(config.path_default.joinpath('Manual_labeing/cluster_sampled_labeled_sum.xlsx'))\n",
    "\n",
    "df_err_g = pd.read_excel(config.path_github_error_process.joinpath('nberror_g_all_eid_p.xlsx'))\n",
    "df_err_k = pd.read_excel(config.path_kaggle_error_process.joinpath('nberror_k_eid_p.xlsx'))\n",
    "\n",
    "df_err_g.drop_duplicates(subset=['eid'], keep='first', inplace = True)\n",
    "df_err_k.drop_duplicates(subset=['eid'], keep='first', inplace = True)\n",
    "\n",
    "def get_DL(df_mlerr_labels, save_path = None):\n",
    "    df_mlerr_labels = pd.merge(df_mlerr_labels, \n",
    "                               pd.concat([df_err_g[[\"eid\",\"lib_alias\"]], df_err_k[[\"eid\",\"lib_alias\"]]], ignore_index=True), \n",
    "                               on=\"eid\", how=\"left\")\n",
    "    df_mlerr_labels[\"is_DLnb\"] = df_mlerr_labels.lib_alias.apply(util.lib_alias_isDL)\n",
    "    print(sum(df_mlerr_labels[\"is_DLnb\"])/df_mlerr_labels.shape[0])\n",
    "    print(df_mlerr_labels[df_mlerr_labels.is_DLnb==True].fname.nunique()/df_mlerr_labels.fname.nunique())\n",
    "\n",
    "    df_mlerr_labels = df_mlerr_labels[df_mlerr_labels.is_DLnb==True]\n",
    "    df_mlerr_labels = df_mlerr_labels.drop(['is_DLnb', 'lib_alias'], axis=1)\n",
    "    if save_path:\n",
    "        df_mlerr_labels.to_excel(save_path, index=False, engine='xlsxwriter')\n",
    "    \n",
    "get_DL(df_mlerr_labels, save_path = config.path_default.joinpath(\"Manual_labeing/cluster_sampled_labeled_DL.xlsx\"))\n",
    "get_DL(df_mlerr_labels_sum, save_path = config.path_default.joinpath(\"Manual_labeing/cluster_sampled_labeled_DL_sum.xlsx\"))"
   ]
  },
  {
   "cell_type": "markdown",
   "id": "3436975c",
   "metadata": {},
   "source": [
    "### Map our labeling to theirs: \n",
    "\n",
    "    Execution environment: \n",
    "        label_root_cause == config.label_root_cause[\"environment\"]\n",
    "    Data (dueing data preocessing, data integrity is compromised. i.e., corrupt data, unexpected encoding): \n",
    "        label_refined_exp_type == [\"jsondecodeerror\", \"unsupported file type (read file)\", \"incompleteparseerror\"]\n",
    "        ename==\"unicodedecodeerror\"\n",
    "    DL specific: \n",
    "        label_if_ML_bug == config.label_if_ML_bug[\"ML bug\"]\n",
    "    General code error: \n",
    "        label_if_ML_bug == config.label_if_ML_bug[\"python bug\"]\n",
    "    "
   ]
  },
  {
   "cell_type": "code",
   "execution_count": 8,
   "id": "eaeeb478",
   "metadata": {},
   "outputs": [],
   "source": [
    "import pandas as pd\n",
    "import utils.config as config\n",
    "import utils.util as util\n",
    "import numpy as np\n",
    "\n",
    "df_mlerr_labels_DL = pd.read_excel(config.path_default.joinpath('Manual_labeing/cluster_sampled_labeled_DL.xlsx'))\n",
    "df_mlerr_labels_sum_DL = pd.read_excel(config.path_default.joinpath('Manual_labeing/cluster_sampled_labeled_DL_sum.xlsx'))"
   ]
  },
  {
   "cell_type": "code",
   "execution_count": 9,
   "id": "a30886d4",
   "metadata": {},
   "outputs": [],
   "source": [
    "df_mlerr_labels_DL[\"Comp1_DLJobs\"] = -1\n",
    "df_mlerr_labels_DL[\"Comp1_DLJobs\"] = np.where(df_mlerr_labels_DL['label_root_cause'].isin(config.label_root_cause[\"environment\"]),\n",
    "                                              \"Execution environment\",\n",
    "                                              df_mlerr_labels_DL[\"Comp1_DLJobs\"])\n",
    "df_mlerr_labels_DL[\"Comp1_DLJobs\"] = np.where((df_mlerr_labels_DL['label_refined_exp_type'].isin([\"jsondecodeerror\", \"unsupported file type (read file)\", \"incompleteparseerror\"])|(df_mlerr_labels_DL['ename']==\"unicodedecodeerror\"))&(df_mlerr_labels_DL[\"Comp1_DLJobs\"]==\"-1\"),\n",
    "                                              \"Data\",\n",
    "                                              df_mlerr_labels_DL[\"Comp1_DLJobs\"])\n",
    "df_mlerr_labels_DL[\"Comp1_DLJobs\"] = np.where(df_mlerr_labels_DL['label_if_ML_bug'].isin(config.label_if_ML_bug[\"ML bug\"])&(df_mlerr_labels_DL[\"Comp1_DLJobs\"]==\"-1\"),\n",
    "                                              \"DL specific\",\n",
    "                                              df_mlerr_labels_DL[\"Comp1_DLJobs\"])\n",
    "df_mlerr_labels_DL[\"Comp1_DLJobs\"] = np.where(df_mlerr_labels_DL['label_if_ML_bug'].isin(config.label_if_ML_bug[\"python bug\"])&(df_mlerr_labels_DL[\"Comp1_DLJobs\"]==\"-1\"),\n",
    "                                              \"General code error\",\n",
    "                                              df_mlerr_labels_DL[\"Comp1_DLJobs\"])\n",
    "df_mlerr_labels_sum_DL = pd.merge(df_mlerr_labels_sum_DL, \n",
    "                               df_mlerr_labels_DL[[\"eid\",\"Comp1_DLJobs\"]], \n",
    "                               on=\"eid\", how=\"left\")"
   ]
  },
  {
   "cell_type": "code",
   "execution_count": 10,
   "id": "572ddbc8",
   "metadata": {},
   "outputs": [
    {
     "data": {
      "text/plain": [
       "Comp1_DLJobs\n",
       "DL specific              0.599415\n",
       "Execution environment    0.198830\n",
       "General code error       0.192982\n",
       "Data                     0.008772\n",
       "Name: count, dtype: float64"
      ]
     },
     "execution_count": 10,
     "metadata": {},
     "output_type": "execute_result"
    }
   ],
   "source": [
    "df_mlerr_labels_DL[\"Comp1_DLJobs\"].value_counts()/df_mlerr_labels_DL.shape[0]"
   ]
  },
  {
   "cell_type": "markdown",
   "id": "96a035ce",
   "metadata": {},
   "source": [
    "DL specific:\n",
    "\n",
    "    GPU out of memory/CPU out of memory:\n",
    "    Framework API misuse:\n",
    "    Tensor Mismatch\n",
    "    Loss NaN: - \n",
    "    \n",
    "Execution environment:\n",
    "\n",
    "    Path not found:\n",
    "    Library not found:\n",
    "    Permission denied:\n",
    "    \n",
    "General code error:\n",
    "\n",
    "    Illegal argument:\n",
    "    Type mismatch:\n",
    "    ...\n",
    "    \n",
    "Data:\n",
    "\n",
    "    Corrupt data\n",
    "    Unexpected encoding"
   ]
  }
 ],
 "metadata": {
  "kernelspec": {
   "display_name": "Python 3 (ipykernel)",
   "language": "python",
   "name": "python3"
  },
  "language_info": {
   "codemirror_mode": {
    "name": "ipython",
    "version": 3
   },
   "file_extension": ".py",
   "mimetype": "text/x-python",
   "name": "python",
   "nbconvert_exporter": "python",
   "pygments_lexer": "ipython3",
   "version": "3.11.5"
  }
 },
 "nbformat": 4,
 "nbformat_minor": 5
}
