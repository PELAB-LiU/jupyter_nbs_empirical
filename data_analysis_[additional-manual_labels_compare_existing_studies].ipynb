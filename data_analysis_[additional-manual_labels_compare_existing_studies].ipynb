{
 "cells": [
  {
   "cell_type": "markdown",
   "id": "23a391d9",
   "metadata": {},
   "source": [
    "# Compare to:\n",
    "## 1. An empirical study on program failures of deep learning jobs, Zhang et al, ICSE20"
   ]
  },
  {
   "cell_type": "markdown",
   "id": "0d037800",
   "metadata": {},
   "source": [
    "### Label automatically notebooks that are DL\n",
    "\n",
    "based on what libraries they use"
   ]
  },
  {
   "cell_type": "code",
   "execution_count": 34,
   "id": "851f4778",
   "metadata": {},
   "outputs": [
    {
     "name": "stdout",
     "output_type": "stream",
     "text": [
      "0.4584450402144772\n",
      "0.4599447513812155\n",
      "0.4584450402144772\n",
      "0.4599447513812155\n"
     ]
    }
   ],
   "source": [
    "import pandas as pd\n",
    "import utils.config as config\n",
    "import utils.util as util\n",
    "import numpy as np\n",
    "\n",
    "# manually labeled\n",
    "df_mlerr_labels = pd.read_excel(config.path_default.joinpath('Manual_labeing/cluster_sampled_labeled_processed.xlsx'))\n",
    "df_mlerr_labels_sum = pd.read_excel(config.path_default.joinpath('Manual_labeing/cluster_sampled_labeled_sum.xlsx'))\n",
    "\n",
    "df_err_g = pd.read_excel(config.path_github_error_process.joinpath('nberror_g_all_eid_p.xlsx'))\n",
    "df_err_k = pd.read_excel(config.path_kaggle_error_process.joinpath('nberror_k_eid_p.xlsx'))\n",
    "\n",
    "df_err_g.drop_duplicates(subset=['eid'], keep='first', inplace = True)\n",
    "df_err_k.drop_duplicates(subset=['eid'], keep='first', inplace = True)\n",
    "\n",
    "def get_DL(df_mlerr_labels, save_path = None):\n",
    "    df_mlerr_labels = pd.merge(df_mlerr_labels, \n",
    "                               pd.concat([df_err_g[[\"eid\",\"lib_alias\"]], df_err_k[[\"eid\",\"lib_alias\"]]], ignore_index=True), \n",
    "                               on=\"eid\", how=\"left\")\n",
    "    df_mlerr_labels[\"is_DLnb\"] = df_mlerr_labels.lib_alias.apply(util.lib_alias_isDL)\n",
    "    print(sum(df_mlerr_labels[\"is_DLnb\"])/df_mlerr_labels.shape[0])\n",
    "    print(df_mlerr_labels[df_mlerr_labels.is_DLnb==True].fname.nunique()/df_mlerr_labels.fname.nunique())\n",
    "\n",
    "    df_mlerr_labels = df_mlerr_labels[df_mlerr_labels.is_DLnb==True]\n",
    "    df_mlerr_labels = df_mlerr_labels.drop(['is_DLnb', 'lib_alias'], axis=1)\n",
    "    if save_path:\n",
    "        df_mlerr_labels.to_excel(save_path, index=False, engine='xlsxwriter')\n",
    "    \n",
    "get_DL(df_mlerr_labels, save_path = config.path_default.joinpath(\"Manual_labeing/cluster_sampled_labeled_DL.xlsx\"))\n",
    "get_DL(df_mlerr_labels_sum, save_path = config.path_default.joinpath(\"Manual_labeing/cluster_sampled_labeled_DL_sum.xlsx\"))"
   ]
  },
  {
   "cell_type": "markdown",
   "id": "3436975c",
   "metadata": {},
   "source": [
    "### Map our labeling to theirs: \n",
    "\n",
    "Main categories:\n",
    "\n",
    "    Execution environment: \n",
    "        label_root_cause == config.label_root_cause[\"environment\"]\n",
    "    Data (dueing data preocessing, data integrity is compromised. i.e., corrupt data, unexpected encoding): \n",
    "        label_refined_exp_type == [\"jsondecodeerror\", \"unsupported file type (read file)\", \"incompleteparseerror\"]\n",
    "        ename==\"unicodedecodeerror\"\n",
    "    DL specific: \n",
    "        label_if_ML_bug == config.label_if_ML_bug[\"ML bug\"]\n",
    "    General code error: \n",
    "        label_if_ML_bug == config.label_if_ML_bug[\"python bug\"]\n",
    "    "
   ]
  },
  {
   "cell_type": "code",
   "execution_count": 8,
   "id": "eaeeb478",
   "metadata": {},
   "outputs": [],
   "source": [
    "import pandas as pd\n",
    "import utils.config as config\n",
    "import utils.util as util\n",
    "import numpy as np\n",
    "\n",
    "df_mlerr_labels_DL = pd.read_excel(config.path_default.joinpath('Manual_labeing/cluster_sampled_labeled_DL.xlsx'))\n",
    "df_mlerr_labels_sum_DL = pd.read_excel(config.path_default.joinpath('Manual_labeing/cluster_sampled_labeled_DL_sum.xlsx'))"
   ]
  },
  {
   "cell_type": "code",
   "execution_count": 9,
   "id": "a30886d4",
   "metadata": {},
   "outputs": [],
   "source": [
    "df_mlerr_labels_DL[\"Comp1_DLJobs\"] = -1\n",
    "df_mlerr_labels_DL[\"Comp1_DLJobs\"] = np.where(df_mlerr_labels_DL['label_root_cause'].isin(config.label_root_cause[\"environment\"]),\n",
    "                                              \"Execution environment\",\n",
    "                                              df_mlerr_labels_DL[\"Comp1_DLJobs\"])\n",
    "df_mlerr_labels_DL[\"Comp1_DLJobs\"] = np.where((df_mlerr_labels_DL['label_refined_exp_type'].isin([\"jsondecodeerror\", \"unsupported file type (read file)\", \"incompleteparseerror\"])|(df_mlerr_labels_DL['ename']==\"unicodedecodeerror\"))&(df_mlerr_labels_DL[\"Comp1_DLJobs\"]==\"-1\"),\n",
    "                                              \"Data\",\n",
    "                                              df_mlerr_labels_DL[\"Comp1_DLJobs\"])\n",
    "df_mlerr_labels_DL[\"Comp1_DLJobs\"] = np.where(df_mlerr_labels_DL['label_if_ML_bug'].isin(config.label_if_ML_bug[\"ML bug\"])&(df_mlerr_labels_DL[\"Comp1_DLJobs\"]==\"-1\"),\n",
    "                                              \"DL specific\",\n",
    "                                              df_mlerr_labels_DL[\"Comp1_DLJobs\"])\n",
    "df_mlerr_labels_DL[\"Comp1_DLJobs\"] = np.where(df_mlerr_labels_DL['label_if_ML_bug'].isin(config.label_if_ML_bug[\"python bug\"])&(df_mlerr_labels_DL[\"Comp1_DLJobs\"]==\"-1\"),\n",
    "                                              \"General code error\",\n",
    "                                              df_mlerr_labels_DL[\"Comp1_DLJobs\"])\n",
    "df_mlerr_labels_sum_DL = pd.merge(df_mlerr_labels_sum_DL, \n",
    "                               df_mlerr_labels_DL[[\"eid\",\"Comp1_DLJobs\"]], \n",
    "                               on=\"eid\", how=\"left\")"
   ]
  },
  {
   "cell_type": "code",
   "execution_count": 33,
   "id": "a6d04af1",
   "metadata": {},
   "outputs": [
    {
     "data": {
      "text/plain": [
       "Comp1_DLJobs\n",
       "DL specific              205\n",
       "Execution environment     68\n",
       "General code error        66\n",
       "Data                       3\n",
       "Name: count, dtype: int64"
      ]
     },
     "execution_count": 33,
     "metadata": {},
     "output_type": "execute_result"
    }
   ],
   "source": [
    "df_mlerr_labels_DL[\"Comp1_DLJobs\"].value_counts()"
   ]
  },
  {
   "cell_type": "code",
   "execution_count": 10,
   "id": "572ddbc8",
   "metadata": {},
   "outputs": [
    {
     "data": {
      "text/plain": [
       "Comp1_DLJobs\n",
       "DL specific              0.599415\n",
       "Execution environment    0.198830\n",
       "General code error       0.192982\n",
       "Data                     0.008772\n",
       "Name: count, dtype: float64"
      ]
     },
     "execution_count": 10,
     "metadata": {},
     "output_type": "execute_result"
    }
   ],
   "source": [
    "df_mlerr_labels_DL[\"Comp1_DLJobs\"].value_counts()/df_mlerr_labels_DL.shape[0]"
   ]
  },
  {
   "cell_type": "markdown",
   "id": "42eba583",
   "metadata": {},
   "source": [
    "Sub-categories:\n",
    "\n",
    "DL specific:\n",
    "\n",
    "    GPU out of memory/CPU out of memory:\n",
    "        label_refined_exp_type==\"out of memory (OOM)\"\n",
    "    Framework API misuse:\n",
    "        label_root_cause.isin(config.label_root_cause[\"API\"])\n",
    "    Tensor Mismatch:\n",
    "        label_refined_exp_type==\"tensor shape mismatch\"\n",
    "    Loss NaN: - \n",
    "    \n",
    "    ++ what is the top 3 for us?\n",
    "    \n",
    "Execution environment:\n",
    "\n",
    "    Path not found:\n",
    "        label_root_cause==\"file/path not found or exist\"\n",
    "    Library not found:\n",
    "        label_root_cause==\"module not installed\"\n",
    "    Permission denied:\n",
    "        label_root_cause==\"settings(permission, environment)\"\n",
    "    \n",
    "    ++ what is the top 1 for us?\n",
    "    \n",
    "General code error:\n",
    "\n",
    "    Illegal argument:\n",
    "        label_root_cause.isin(config.label_root_cause[\"API\"])\n",
    "    Type mismatch:\n",
    "        label_refined_exp_type.isin(config.label_refined_exp_type[\"type\"])\n",
    "    Key not found:\n",
    "        label_refined_exp_type.isin(config.label_refined_exp_type[\"key\"])\n",
    "    ...\n",
    "    \n",
    "    ++ what is the top 3 for us?\n",
    "    \n",
    "Data:\n",
    "\n",
    "    Corrupt data:\n",
    "        label_refined_exp_type == [\"unsupported file type (read file)\", \"incompleteparseerror\"]\n",
    "    Unexpected encoding:\n",
    "        label_refined_exp_type == \"jsondecodeerror\" | ename==\"unicodedecodeerror\""
   ]
  },
  {
   "cell_type": "code",
   "execution_count": 25,
   "id": "1acb9696",
   "metadata": {
    "scrolled": true
   },
   "outputs": [
    {
     "name": "stdout",
     "output_type": "stream",
     "text": [
      "GPU/CPU out of memory:  0.07804878048780488\n",
      "Tensor Mismatch:  0.14634146341463414\n",
      "Framework API misuse:  0.21951219512195122\n"
     ]
    },
    {
     "data": {
      "text/plain": [
       "label_refined_exp_type\n",
       "tensor shape mismatch                                 30\n",
       "variable not found                                    28\n",
       "wrong arguments to API                                25\n",
       "out of memory (OOM)                                   16\n",
       "attributeerror                                        13\n",
       "module not found                                      12\n",
       "keyerror                                              10\n",
       "valueerror - data value violation                      9\n",
       "runtimeerror                                           8\n",
       "unsupported broadcast                                  5\n",
       "cast exception                                         5\n",
       "valueerror - data range mismatch                       5\n",
       "indexerror-nd                                          5\n",
       "function not found                                     5\n",
       "valueerror - feature name mismatch                     4\n",
       "indexerror-1d                                          4\n",
       "typeerror-notcallable                                  3\n",
       "typeerror-notsubscriptable                             3\n",
       "typeerror                                              3\n",
       "initialization error (call mul-times, wrong order)     2\n",
       "typeerror-notiterable                                  2\n",
       "nameerror                                              1\n",
       "notfounderror                                          1\n",
       "filenotfounderror                                      1\n",
       "indentationerror                                       1\n",
       "importerror                                            1\n",
       "out of space (disk)                                    1\n",
       "typeerror-unhashable                                   1\n",
       "unknown                                                1\n",
       "Name: count, dtype: int64"
      ]
     },
     "execution_count": 25,
     "metadata": {},
     "output_type": "execute_result"
    }
   ],
   "source": [
    "df_mlerr_labels_DL_dlspecific = df_mlerr_labels_DL[df_mlerr_labels_DL[\"Comp1_DLJobs\"]==\"DL specific\"]\n",
    "print(\"GPU/CPU out of memory: \", sum((df_mlerr_labels_DL_dlspecific[\"label_refined_exp_type\"]==\"out of memory (OOM)\"))/df_mlerr_labels_DL_dlspecific.shape[0])\n",
    "print(\"Tensor Mismatch: \", sum(df_mlerr_labels_DL_dlspecific[\"label_refined_exp_type\"]==\"tensor shape mismatch\")/df_mlerr_labels_DL_dlspecific.shape[0])\n",
    "print(\"Framework API misuse: \", sum(df_mlerr_labels_DL_dlspecific[\"label_root_cause\"].isin(config.label_root_cause[\"API\"])&(df_mlerr_labels_DL_dlspecific[\"label_refined_exp_type\"]!=\"tensor shape mismatch\"))/df_mlerr_labels_DL_dlspecific.shape[0])\n",
    "\n",
    "df_mlerr_labels_DL_dlspecific.label_refined_exp_type.value_counts()\n",
    "# our top 3 are the same as theirs (tho we label API misuse a bit differently - as root cause)"
   ]
  },
  {
   "cell_type": "code",
   "execution_count": 28,
   "id": "453f69ae",
   "metadata": {},
   "outputs": [
    {
     "name": "stdout",
     "output_type": "stream",
     "text": [
      "Path not found:  0.5294117647058824\n",
      "Library not found:  0.16176470588235295\n",
      "Permission denied:  0.14705882352941177\n"
     ]
    },
    {
     "data": {
      "text/plain": [
       "label_root_cause\n",
       "file/path not found or exist         36\n",
       "module not installed                 11\n",
       "settings(permission, environment)    10\n",
       "library versions incompatible         6\n",
       "change of environment                 3\n",
       "external control (window closed)      2\n",
       "Name: count, dtype: int64"
      ]
     },
     "execution_count": 28,
     "metadata": {},
     "output_type": "execute_result"
    }
   ],
   "source": [
    "df_mlerr_labels_DL_env = df_mlerr_labels_DL[df_mlerr_labels_DL[\"Comp1_DLJobs\"]==\"Execution environment\"]\n",
    "print(\"Path not found: \", sum((df_mlerr_labels_DL_env[\"label_root_cause\"]==\"file/path not found or exist\"))/df_mlerr_labels_DL_env.shape[0])\n",
    "print(\"Library not found: \", sum(df_mlerr_labels_DL_env[\"label_root_cause\"]==\"module not installed\")/df_mlerr_labels_DL_env.shape[0])\n",
    "print(\"Permission denied: \", sum(df_mlerr_labels_DL_env[\"label_root_cause\"]==\"settings(permission, environment)\")/df_mlerr_labels_DL_env.shape[0])\n",
    "\n",
    "df_mlerr_labels_DL_env.label_root_cause.value_counts()\n",
    "# top 3 align"
   ]
  },
  {
   "cell_type": "code",
   "execution_count": 31,
   "id": "7cd0e663",
   "metadata": {
    "scrolled": true
   },
   "outputs": [
    {
     "name": "stdout",
     "output_type": "stream",
     "text": [
      "Illegal argument:  0.18181818181818182\n",
      "Type mismatch:  0.06060606060606061\n",
      "Key not found:  0.0\n",
      "Name error:  0.5303030303030303\n"
     ]
    },
    {
     "data": {
      "text/plain": [
       "label_refined_exp_type\n",
       "variable not found                  17\n",
       "function not found                  11\n",
       "attributeerror                       6\n",
       "module not found                     5\n",
       "wrong arguments to API               5\n",
       "indexerror-1d                        3\n",
       "valueerror - data range mismatch     3\n",
       "class not found                      2\n",
       "typeerror                            2\n",
       "syntaxerror                          2\n",
       "keyerror                             1\n",
       "requesterror                         1\n",
       "typeerror-notiterable                1\n",
       "systemerror                          1\n",
       "valueerror                           1\n",
       "filenotfounderror                    1\n",
       "typeerror-op                         1\n",
       "indexerror-nd                        1\n",
       "typeerror-notcallable                1\n",
       "typeerror-notsubscriptable           1\n",
       "Name: count, dtype: int64"
      ]
     },
     "execution_count": 31,
     "metadata": {},
     "output_type": "execute_result"
    }
   ],
   "source": [
    "df_mlerr_labels_DL_py = df_mlerr_labels_DL[df_mlerr_labels_DL[\"Comp1_DLJobs\"]==\"General code error\"]\n",
    "print(\"Illegal argument: \", sum((df_mlerr_labels_DL_py[\"label_root_cause\"].isin(config.label_root_cause[\"API\"])))/df_mlerr_labels_DL_py.shape[0])\n",
    "print(\"Type mismatch: \", sum((~df_mlerr_labels_DL_py[\"label_root_cause\"].isin(config.label_root_cause[\"API\"]))&(df_mlerr_labels_DL_py[\"label_refined_exp_type\"].isin(config.label_refined_exp_type[\"type\"])))/df_mlerr_labels_DL_py.shape[0])\n",
    "print(\"Key not found: \", sum((~df_mlerr_labels_DL_py[\"label_root_cause\"].isin(config.label_root_cause[\"API\"]))&(df_mlerr_labels_DL_py[\"label_refined_exp_type\"].isin(config.label_refined_exp_type[\"key\"])))/df_mlerr_labels_DL_py.shape[0])\n",
    "print(\"Name error: \", sum((~df_mlerr_labels_DL_py[\"label_root_cause\"].isin(config.label_root_cause[\"API\"]))&(df_mlerr_labels_DL_py[\"label_refined_exp_type\"].isin(config.label_refined_exp_type[\"name\"])))/df_mlerr_labels_DL_py.shape[0])\n",
    "\n",
    "df_mlerr_labels_DL_py.label_refined_exp_type.value_counts()\n",
    "# name error is the most, then illegal argument"
   ]
  },
  {
   "cell_type": "code",
   "execution_count": 32,
   "id": "90cd5817",
   "metadata": {},
   "outputs": [
    {
     "name": "stdout",
     "output_type": "stream",
     "text": [
      "Corrupt data:  1.0\n",
      "Unexpected encoding:  0.0\n"
     ]
    },
    {
     "data": {
      "text/plain": [
       "label_refined_exp_type\n",
       "unsupported file type (read file)    3\n",
       "Name: count, dtype: int64"
      ]
     },
     "execution_count": 32,
     "metadata": {},
     "output_type": "execute_result"
    }
   ],
   "source": [
    "df_mlerr_labels_DL_data = df_mlerr_labels_DL[df_mlerr_labels_DL[\"Comp1_DLJobs\"]==\"Data\"]\n",
    "print(\"Corrupt data: \", sum((df_mlerr_labels_DL_data[\"label_refined_exp_type\"].isin([\"unsupported file type (read file)\", \"incompleteparseerror\"])))/df_mlerr_labels_DL_data.shape[0])\n",
    "print(\"Unexpected encoding: \", sum((df_mlerr_labels_DL_data[\"label_refined_exp_type\"]==\"jsondecodeerror\")|df_mlerr_labels_DL_data[\"ename\"]==\"unicodedecodeerror\")/df_mlerr_labels_DL_data.shape[0])\n",
    "\n",
    "df_mlerr_labels_DL_data.label_refined_exp_type.value_counts()\n",
    "# all three cases are corrupted data"
   ]
  },
  {
   "cell_type": "markdown",
   "id": "2f1ee350",
   "metadata": {},
   "source": [
    "## 2. Bug Analysis in Jupyter Notebook Projects: An Empirical Study, De Santana et al, TSEM2024"
   ]
  },
  {
   "cell_type": "code",
   "execution_count": null,
   "id": "906ba69f",
   "metadata": {},
   "outputs": [],
   "source": []
  },
  {
   "cell_type": "code",
   "execution_count": null,
   "id": "c8a6c8d8",
   "metadata": {},
   "outputs": [],
   "source": []
  },
  {
   "cell_type": "code",
   "execution_count": null,
   "id": "404ad4ef",
   "metadata": {},
   "outputs": [],
   "source": []
  },
  {
   "cell_type": "code",
   "execution_count": null,
   "id": "a81c6fd5",
   "metadata": {},
   "outputs": [],
   "source": []
  }
 ],
 "metadata": {
  "kernelspec": {
   "display_name": "Python 3 (ipykernel)",
   "language": "python",
   "name": "python3"
  },
  "language_info": {
   "codemirror_mode": {
    "name": "ipython",
    "version": 3
   },
   "file_extension": ".py",
   "mimetype": "text/x-python",
   "name": "python",
   "nbconvert_exporter": "python",
   "pygments_lexer": "ipython3",
   "version": "3.11.5"
  }
 },
 "nbformat": 4,
 "nbformat_minor": 5
}
