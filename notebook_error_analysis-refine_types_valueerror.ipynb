{
 "cells": [
  {
   "cell_type": "markdown",
   "id": "0d037800",
   "metadata": {},
   "source": [
    "# Notebook error analysis \n",
    "\n",
    "## Refining error types - Clustering Value errors\n",
    "\n",
    "\n",
    "use OPTICS with GloVe on value errors\n",
    "\n",
    "\n",
    "## 1. nbs from GitHub"
   ]
  },
  {
   "cell_type": "markdown",
   "id": "7af3f2db",
   "metadata": {},
   "source": [
    "### 1.1 Load cluster result\n",
    "Already clustered during the method selection process, now just load the result and choose the best one (optics with word2vec/glove)"
   ]
  },
  {
   "cell_type": "code",
   "execution_count": 19,
   "id": "961e2799",
   "metadata": {},
   "outputs": [
    {
     "data": {
      "text/html": [
       "<div>\n",
       "<style scoped>\n",
       "    .dataframe tbody tr th:only-of-type {\n",
       "        vertical-align: middle;\n",
       "    }\n",
       "\n",
       "    .dataframe tbody tr th {\n",
       "        vertical-align: top;\n",
       "    }\n",
       "\n",
       "    .dataframe thead th {\n",
       "        text-align: right;\n",
       "    }\n",
       "</style>\n",
       "<table border=\"1\" class=\"dataframe\">\n",
       "  <thead>\n",
       "    <tr style=\"text-align: right;\">\n",
       "      <th></th>\n",
       "      <th>fname</th>\n",
       "      <th>evalue</th>\n",
       "      <th>evalue_tokenized</th>\n",
       "      <th>traceback</th>\n",
       "      <th>lib_parsed</th>\n",
       "      <th>cluster_optics_glove</th>\n",
       "    </tr>\n",
       "  </thead>\n",
       "  <tbody>\n",
       "    <tr>\n",
       "      <th>0</th>\n",
       "      <td>00000-1017-heatmapseq2seq.ipynb</td>\n",
       "      <td>x and y must have same first dimension, but ha...</td>\n",
       "      <td>x and y must have same first dimension but hav...</td>\n",
       "      <td>['--------------------------------------------...</td>\n",
       "      <td>matplotlib</td>\n",
       "      <td>0</td>\n",
       "    </tr>\n",
       "    <tr>\n",
       "      <th>1</th>\n",
       "      <td>00000-1572-corona-tweet-sentiment-analysis.ipynb</td>\n",
       "      <td>in user code:\\n\\n    /home/arun/.local/lib/pyt...</td>\n",
       "      <td>in user code return self iterator outputs args...</td>\n",
       "      <td>['--------------------------------------------...</td>\n",
       "      <td>tensorflow</td>\n",
       "      <td>-1</td>\n",
       "    </tr>\n",
       "    <tr>\n",
       "      <th>2</th>\n",
       "      <td>00000-1580-unet-of-cnn-airfoil.ipynb</td>\n",
       "      <td>x and y must have same first dimension, but ha...</td>\n",
       "      <td>x and y must have same first dimension but hav...</td>\n",
       "      <td>['--------------------------------------------...</td>\n",
       "      <td>matplotlib</td>\n",
       "      <td>0</td>\n",
       "    </tr>\n",
       "    <tr>\n",
       "      <th>3</th>\n",
       "      <td>00000-1588-9-hackerearth-ml-all-classifiers-en...</td>\n",
       "      <td>Classification metrics can't handle a mix of c...</td>\n",
       "      <td>classification metrics ca nt handle a mix of c...</td>\n",
       "      <td>['--------------------------------------------...</td>\n",
       "      <td>sklearn</td>\n",
       "      <td>37</td>\n",
       "    </tr>\n",
       "    <tr>\n",
       "      <th>4</th>\n",
       "      <td>00000-1711-ls-ds-433-autoencoders-lecture.ipynb</td>\n",
       "      <td>num must be 1 &lt;= num &lt;= 20, not 0</td>\n",
       "      <td>num must be num not</td>\n",
       "      <td>['--------------------------------------------...</td>\n",
       "      <td>matplotlib</td>\n",
       "      <td>75</td>\n",
       "    </tr>\n",
       "  </tbody>\n",
       "</table>\n",
       "</div>"
      ],
      "text/plain": [
       "                                               fname  \\\n",
       "0                    00000-1017-heatmapseq2seq.ipynb   \n",
       "1   00000-1572-corona-tweet-sentiment-analysis.ipynb   \n",
       "2               00000-1580-unet-of-cnn-airfoil.ipynb   \n",
       "3  00000-1588-9-hackerearth-ml-all-classifiers-en...   \n",
       "4    00000-1711-ls-ds-433-autoencoders-lecture.ipynb   \n",
       "\n",
       "                                              evalue  \\\n",
       "0  x and y must have same first dimension, but ha...   \n",
       "1  in user code:\\n\\n    /home/arun/.local/lib/pyt...   \n",
       "2  x and y must have same first dimension, but ha...   \n",
       "3  Classification metrics can't handle a mix of c...   \n",
       "4                  num must be 1 <= num <= 20, not 0   \n",
       "\n",
       "                                    evalue_tokenized  \\\n",
       "0  x and y must have same first dimension but hav...   \n",
       "1  in user code return self iterator outputs args...   \n",
       "2  x and y must have same first dimension but hav...   \n",
       "3  classification metrics ca nt handle a mix of c...   \n",
       "4                                num must be num not   \n",
       "\n",
       "                                           traceback  lib_parsed  \\\n",
       "0  ['--------------------------------------------...  matplotlib   \n",
       "1  ['--------------------------------------------...  tensorflow   \n",
       "2  ['--------------------------------------------...  matplotlib   \n",
       "3  ['--------------------------------------------...     sklearn   \n",
       "4  ['--------------------------------------------...  matplotlib   \n",
       "\n",
       "   cluster_optics_glove  \n",
       "0                     0  \n",
       "1                    -1  \n",
       "2                     0  \n",
       "3                    37  \n",
       "4                    75  "
      ]
     },
     "execution_count": 19,
     "metadata": {},
     "output_type": "execute_result"
    }
   ],
   "source": [
    "# read in all errors from the file\n",
    "import pandas as pd\n",
    "import numpy as np \n",
    "import cluster_util\n",
    "\n",
    "path = r\"C:\\Users\\yirwa29\\Downloads\\Dataset-Nb\\nbdata_g_error\\analysis_gerr\"\n",
    "path_file = path+\"/cluster_selection_g_valueerror/nberror_g_cluster_valueerror.xlsx\"\n",
    "\n",
    "df2_err_valueerr_clusters = pd.read_excel(path_file)\n",
    "df2_err_valueerr_clusters = df2_err_valueerr_clusters[['fname','evalue','evalue_tokenized','traceback','lib_parsed','cluster_optics_glove']]\n",
    "df2_err_valueerr_clusters.head()"
   ]
  },
  {
   "cell_type": "code",
   "execution_count": 20,
   "id": "397a7b5c",
   "metadata": {},
   "outputs": [],
   "source": [
    "path_value_err = path+'/cluster_g_valueerror'\n",
    "df2_err_valueerr_clusters.to_excel(path_value_err+'/cluster_res.xlsx', index=False, engine='xlsxwriter')"
   ]
  },
  {
   "cell_type": "markdown",
   "id": "a546427e",
   "metadata": {},
   "source": [
    "### 1.2 sort\n",
    "Sort the clustering result of the value errors, manually inspect the clustered ones, and recluster the noise samples."
   ]
  },
  {
   "cell_type": "code",
   "execution_count": 28,
   "id": "651d685a",
   "metadata": {},
   "outputs": [],
   "source": [
    "# save sorted clusters\n",
    "df2_err_valueerr_clusters[df2_err_valueerr_clusters['cluster_optics_glove']!=-1].sort_values('cluster_optics_glove').to_excel(path_value_err+'/cluster_res_sorted.xlsx', index=False, engine='xlsxwriter')\n",
    "# save only noise samples\n",
    "df2_err_valueerr_clusters[df2_err_valueerr_clusters['cluster_optics_glove']==-1].sort_values('cluster_optics_glove').to_excel(path_value_err+'/cluster_res_noise.xlsx', index=False, engine='xlsxwriter')"
   ]
  },
  {
   "cell_type": "code",
   "execution_count": 29,
   "id": "6a2b8d06",
   "metadata": {},
   "outputs": [
    {
     "data": {
      "text/plain": [
       "8502"
      ]
     },
     "execution_count": 29,
     "metadata": {},
     "output_type": "execute_result"
    }
   ],
   "source": [
    "# clustered points\n",
    "len(df2_err_valueerr_clusters.loc[df2_err_valueerr_clusters['cluster_optics_glove']!=-1])"
   ]
  },
  {
   "cell_type": "code",
   "execution_count": 30,
   "id": "d8d2685c",
   "metadata": {},
   "outputs": [
    {
     "data": {
      "text/plain": [
       "7068"
      ]
     },
     "execution_count": 30,
     "metadata": {},
     "output_type": "execute_result"
    }
   ],
   "source": [
    "# noise points\n",
    "len(df2_err_valueerr_clusters.loc[df2_err_valueerr_clusters['cluster_optics_glove']==-1])"
   ]
  },
  {
   "cell_type": "markdown",
   "id": "bc9ad452",
   "metadata": {},
   "source": [
    "Load all the unclustered samples (clustered as noise) of the value errors\n",
    "\n",
    "try to cluster them again"
   ]
  },
  {
   "cell_type": "code",
   "execution_count": 1,
   "id": "b80b753d",
   "metadata": {},
   "outputs": [],
   "source": [
    "import pandas as pd\n",
    "import config\n",
    "import numpy as np\n",
    "import cluster_util\n",
    "\n",
    "path = r\"C:\\Users\\yirwa29\\Downloads\\Dataset-Nb\\nbdata_g_error\\analysis_gerr\"\n",
    "path_value_err = path+'/cluster_g_valueerror'\n",
    "df2_err_valueerr_clusters_noise = pd.read_excel(path_value_err+'/cluster_res_noise.xlsx')\n",
    "\n",
    "# # GloVe embeddings\n",
    "# glove_vectors = cluster_util.load_glove(\"C:/Users/yirwa29/Downloads/Dataset-Nb/glove.6B/glove.6B.200d.txt\")\n",
    "# X2_noise_glove = np.array([cluster_util.vectorizer_word2vec(xi, glove_vectors, 200) for xi in df2_err_valueerr_clusters_noise['evalue_tokenized'].values.astype('U')])\n",
    "\n",
    "# with open(path_value_err+'/nberror_g_valueerror_noise_embeddings_glove.txt', 'wb') as f:\n",
    "#     np.save(f, X2_noise_glove)\n",
    "\n",
    "with open(path_value_err+'/nberror_g_valueerror_noise_embeddings_glove.txt', 'rb') as f:\n",
    "    X2_noise_glove = np.load(f)"
   ]
  },
  {
   "cell_type": "code",
   "execution_count": 47,
   "id": "8de92564",
   "metadata": {},
   "outputs": [
    {
     "data": {
      "text/plain": [
       "7068"
      ]
     },
     "execution_count": 47,
     "metadata": {},
     "output_type": "execute_result"
    }
   ],
   "source": [
    "# total amount of noise samples\n",
    "len(df2_err_valueerr_clusters_noise)"
   ]
  },
  {
   "cell_type": "code",
   "execution_count": 2,
   "id": "9adf7938",
   "metadata": {},
   "outputs": [
    {
     "data": {
      "text/plain": [
       "4953"
      ]
     },
     "execution_count": 2,
     "metadata": {},
     "output_type": "execute_result"
    }
   ],
   "source": [
    "# see how many noise samples are ML library related\n",
    "len(df2_err_valueerr_clusters_noise[df2_err_valueerr_clusters_noise.lib_parsed.isin(config.top_lib_names)])"
   ]
  },
  {
   "cell_type": "markdown",
   "id": "dbb4c1a1",
   "metadata": {},
   "source": [
    "try to lower the min samples - still too many noise points"
   ]
  },
  {
   "cell_type": "code",
   "execution_count": 5,
   "id": "38671347",
   "metadata": {},
   "outputs": [
    {
     "name": "stdout",
     "output_type": "stream",
     "text": [
      "Estimated no. of clusters: 363\n",
      "Estimated no. of noise points: 3489\n"
     ]
    },
    {
     "name": "stderr",
     "output_type": "stream",
     "text": [
      "C:\\Users\\yirwa29\\AppData\\Local\\anaconda3\\envs\\chatgpt\\Lib\\site-packages\\sklearn\\cluster\\_optics.py:1081: RuntimeWarning: divide by zero encountered in divide\n",
      "  ratio = reachability_plot[:-1] / reachability_plot[1:]\n"
     ]
    }
   ],
   "source": [
    "res2_noise = cluster_util.cluster_optics(X2_noise_glove, min_samples = 5)"
   ]
  },
  {
   "cell_type": "markdown",
   "id": "3e52f402",
   "metadata": {},
   "source": [
    "maybe try PCA to reduce dimension\n",
    "\n",
    "GloVe dimension=200 -> 50?20?10?2?"
   ]
  },
  {
   "cell_type": "code",
   "execution_count": 83,
   "id": "459bc79b",
   "metadata": {},
   "outputs": [],
   "source": [
    "X2_noise_glove_rd = cluster_util.pca(X2_noise_glove, n_component = 2)"
   ]
  },
  {
   "cell_type": "code",
   "execution_count": 84,
   "id": "1fbf31c8",
   "metadata": {},
   "outputs": [
    {
     "name": "stdout",
     "output_type": "stream",
     "text": [
      "Estimated no. of clusters: 533\n",
      "Estimated no. of noise points: 1617\n"
     ]
    },
    {
     "name": "stderr",
     "output_type": "stream",
     "text": [
      "C:\\Users\\yirwa29\\AppData\\Local\\anaconda3\\envs\\chatgpt\\Lib\\site-packages\\sklearn\\cluster\\_optics.py:1081: RuntimeWarning: divide by zero encountered in divide\n",
      "  ratio = reachability_plot[:-1] / reachability_plot[1:]\n"
     ]
    }
   ],
   "source": [
    "# this is so far the best, but still many noise\n",
    "res2_noise = cluster_util.cluster_optics(X2_noise_glove_rd, min_samples = 5)"
   ]
  },
  {
   "cell_type": "code",
   "execution_count": 85,
   "id": "979cc580",
   "metadata": {},
   "outputs": [
    {
     "data": {
      "text/plain": [
       "0.7452030664694608"
      ]
     },
     "execution_count": 85,
     "metadata": {},
     "output_type": "execute_result"
    }
   ],
   "source": [
    "# cluster score\n",
    "cluster_util.eval_cluster_silhouette(X2_noise_glove_rd[res2_noise!=-1], res2_noise[res2_noise!=-1])"
   ]
  },
  {
   "cell_type": "code",
   "execution_count": 86,
   "id": "83a831fa",
   "metadata": {},
   "outputs": [
    {
     "data": {
      "text/plain": [
       "6"
      ]
     },
     "execution_count": 86,
     "metadata": {},
     "output_type": "execute_result"
    }
   ],
   "source": [
    "df2_err_valueerr_clusters_noise[\"cluster_optics_glove\"]=res2_noise\n",
    "len(df2_err_valueerr_clusters_noise[df2_err_valueerr_clusters_noise.cluster_optics_glove==-1 & df2_err_valueerr_clusters_noise.lib_parsed.isin(config.top_lib_names)])"
   ]
  },
  {
   "cell_type": "code",
   "execution_count": 88,
   "id": "7dc0fde3",
   "metadata": {},
   "outputs": [],
   "source": [
    "df2_err_valueerr_clusters_noise.to_excel(path_value_err+'/cluster_res_noise_reclustered.xlsx', index=False, engine='xlsxwriter')"
   ]
  },
  {
   "cell_type": "code",
   "execution_count": null,
   "id": "bb96258a",
   "metadata": {},
   "outputs": [],
   "source": []
  },
  {
   "cell_type": "code",
   "execution_count": 65,
   "id": "12aac4ee",
   "metadata": {},
   "outputs": [
    {
     "name": "stdout",
     "output_type": "stream",
     "text": [
      "0.6316662692131638\n",
      "Estimated no. of clusters: 96\n",
      "Estimated no. of noise points: 792\n"
     ]
    }
   ],
   "source": [
    "eps2 = cluster_util.epsilon_search_dbscan(X2_noise_glove_rd)\n",
    "print(eps2)\n",
    "res2_noise2 = cluster_util.cluster_dbscan(X2_noise_glove_rd, eps=eps2, min_samples=5)"
   ]
  },
  {
   "cell_type": "code",
   "execution_count": 66,
   "id": "48b1707f",
   "metadata": {},
   "outputs": [
    {
     "data": {
      "text/plain": [
       "-0.08378285822404327"
      ]
     },
     "execution_count": 66,
     "metadata": {},
     "output_type": "execute_result"
    }
   ],
   "source": [
    "# cluster score        negative...???\n",
    "cluster_util.eval_cluster_silhouette(X2_noise_glove_rd[res2_noise2!=-1], res2_noise2[res2_noise2!=-1])"
   ]
  },
  {
   "cell_type": "code",
   "execution_count": null,
   "id": "6f28ad3c",
   "metadata": {},
   "outputs": [],
   "source": []
  },
  {
   "cell_type": "code",
   "execution_count": null,
   "id": "651f78ec",
   "metadata": {},
   "outputs": [],
   "source": []
  },
  {
   "cell_type": "code",
   "execution_count": 67,
   "id": "e851378f",
   "metadata": {},
   "outputs": [
    {
     "name": "stderr",
     "output_type": "stream",
     "text": [
      "C:\\Users\\yirwa29\\AppData\\Local\\anaconda3\\envs\\chatgpt\\Lib\\site-packages\\sklearn\\cluster\\_optics.py:1081: RuntimeWarning: divide by zero encountered in divide\n",
      "  ratio = reachability_plot[:-1] / reachability_plot[1:]\n"
     ]
    },
    {
     "name": "stdout",
     "output_type": "stream",
     "text": [
      "Estimated no. of clusters: 381\n",
      "Estimated no. of noise points: 3245\n"
     ]
    },
    {
     "data": {
      "text/plain": [
       "0.79985183"
      ]
     },
     "execution_count": 67,
     "metadata": {},
     "output_type": "execute_result"
    }
   ],
   "source": [
    "X2_noise_transformers = cluster_util.vectorizer_sentence2vec(df2_err_valueerr_clusters_noise['evalue_tokenized'].values.astype('U'))\n",
    "res2_noise = cluster_util.cluster_optics(X2_noise_transformers, min_samples = 5) # still too many noise points\n",
    "# cluster score\n",
    "cluster_util.eval_cluster_silhouette(X2_noise_transformers[res2_noise!=-1], res2_noise[res2_noise!=-1])"
   ]
  },
  {
   "cell_type": "code",
   "execution_count": null,
   "id": "a90c78b6",
   "metadata": {},
   "outputs": [],
   "source": []
  },
  {
   "cell_type": "code",
   "execution_count": 68,
   "id": "91ebe4fd",
   "metadata": {},
   "outputs": [],
   "source": [
    "X2_noise_transformers_rd = cluster_util.pca(X2_noise_transformers, n_component = 10)"
   ]
  },
  {
   "cell_type": "code",
   "execution_count": 69,
   "id": "4d5ad8b2",
   "metadata": {},
   "outputs": [
    {
     "name": "stdout",
     "output_type": "stream",
     "text": [
      "Estimated no. of clusters: 461\n",
      "Estimated no. of noise points: 3387\n"
     ]
    },
    {
     "name": "stderr",
     "output_type": "stream",
     "text": [
      "C:\\Users\\yirwa29\\AppData\\Local\\anaconda3\\envs\\chatgpt\\Lib\\site-packages\\sklearn\\cluster\\_optics.py:1081: RuntimeWarning: divide by zero encountered in divide\n",
      "  ratio = reachability_plot[:-1] / reachability_plot[1:]\n"
     ]
    }
   ],
   "source": [
    "res2_noise = cluster_util.cluster_optics(X2_noise_transformers_rd, min_samples = 5) # still too many noise points"
   ]
  },
  {
   "cell_type": "code",
   "execution_count": 70,
   "id": "811250a0",
   "metadata": {},
   "outputs": [
    {
     "data": {
      "text/plain": [
       "0.7622353"
      ]
     },
     "execution_count": 70,
     "metadata": {},
     "output_type": "execute_result"
    }
   ],
   "source": [
    "# cluster score\n",
    "cluster_util.eval_cluster_silhouette(X2_noise_transformers_rd[res2_noise!=-1], res2_noise[res2_noise!=-1])"
   ]
  },
  {
   "cell_type": "code",
   "execution_count": 71,
   "id": "607e575d",
   "metadata": {},
   "outputs": [
    {
     "name": "stdout",
     "output_type": "stream",
     "text": [
      "0.18483255172777158\n",
      "Estimated no. of clusters: 248\n",
      "Estimated no. of noise points: 1871\n"
     ]
    },
    {
     "data": {
      "text/plain": [
       "0.36284482"
      ]
     },
     "execution_count": 71,
     "metadata": {},
     "output_type": "execute_result"
    }
   ],
   "source": [
    "eps2 = cluster_util.epsilon_search_dbscan(X2_noise_transformers_rd)\n",
    "print(eps2)\n",
    "res2_noise2 = cluster_util.cluster_dbscan(X2_noise_transformers_rd, eps=eps2, min_samples=5)\n",
    "# cluster score\n",
    "cluster_util.eval_cluster_silhouette(X2_noise_transformers_rd[res2_noise2!=-1], res2_noise2[res2_noise2!=-1])"
   ]
  },
  {
   "cell_type": "code",
   "execution_count": null,
   "id": "bc91f2dd",
   "metadata": {},
   "outputs": [],
   "source": []
  },
  {
   "cell_type": "code",
   "execution_count": null,
   "id": "f0a88615",
   "metadata": {},
   "outputs": [],
   "source": []
  },
  {
   "cell_type": "markdown",
   "id": "b278c574",
   "metadata": {},
   "source": [
    "## 2. nbs from Kaggle"
   ]
  },
  {
   "cell_type": "markdown",
   "id": "805d8e62",
   "metadata": {},
   "source": [
    "### 2.1 perform clustering"
   ]
  },
  {
   "cell_type": "code",
   "execution_count": null,
   "id": "195eef64",
   "metadata": {},
   "outputs": [],
   "source": [
    "import pandas as pd\n",
    "import numpy as np \n",
    "import cluster_util\n",
    "\n",
    "path = r\"C:\\Users\\yirwa29\\Downloads\\Dataset-Nb\\nbdata_k_error\\analysis_kerr/cluster_k_valueerror\"\n",
    "path_file = path+\"/nberror_k_cluster_valueerror.xlsx\"\n",
    "# read in all errors from the file\n",
    "df_err = pd.read_excel(r\"C:\\Users\\yirwa29\\Downloads\\Dataset-Nb\\nbdata_k_error/nberror_k_p5_evaluetokenized.xlsx\")\n",
    "# get only valueerror\n",
    "df_err_ename = df_err[df_err['ename']=='valueerror']\n",
    "err_descs = df_err_ename['evalue_tokenized'].values.astype('U')\n",
    "\n",
    "# GloVe embeddings\n",
    "glove_vectors = cluster_util.load_glove(\"C:/Users/yirwa29/Downloads/Dataset-Nb/glove.6B/glove.6B.200d.txt\")\n",
    "X_glove = np.array([cluster_util.vectorizer_word2vec(xi, glove_vectors, 200) for xi in err_descs])\n",
    "print(\"The shape of the GloVe embedding is\", X_glove.shape)\n",
    "# save embeddings\n",
    "with open(path+'/nberror_k_valueerror_embeddings_glove.txt', 'wb') as f:\n",
    "    np.save(f, X_glove)\n",
    "\n",
    "# save a checkpoint\n",
    "df_err_ename.to_excel(path_file, index=False, engine='xlsxwriter')"
   ]
  },
  {
   "cell_type": "code",
   "execution_count": 1,
   "id": "0430db3b",
   "metadata": {},
   "outputs": [
    {
     "name": "stderr",
     "output_type": "stream",
     "text": [
      "C:\\Users\\yirwa29\\AppData\\Local\\anaconda3\\envs\\chatgpt\\Lib\\site-packages\\tqdm\\auto.py:21: TqdmWarning: IProgress not found. Please update jupyter and ipywidgets. See https://ipywidgets.readthedocs.io/en/stable/user_install.html\n",
      "  from .autonotebook import tqdm as notebook_tqdm\n"
     ]
    }
   ],
   "source": [
    "# load a checkpoint\n",
    "import pandas as pd\n",
    "import numpy as np \n",
    "import cluster_util\n",
    "\n",
    "path = r\"C:\\Users\\yirwa29\\Downloads\\Dataset-Nb\\nbdata_k_error\\analysis_kerr/cluster_k_valueerror\"\n",
    "path_file = path+\"/nberror_k_cluster_valueerror.xlsx\"\n",
    "df_err_ename = pd.read_excel(path_file)\n",
    "with open(path+'/nberror_k_valueerror_embeddings_glove.txt', 'rb') as f:\n",
    "    X_glove = np.load(f)"
   ]
  },
  {
   "cell_type": "code",
   "execution_count": 7,
   "id": "1900469b",
   "metadata": {},
   "outputs": [
    {
     "name": "stdout",
     "output_type": "stream",
     "text": [
      "Estimated no. of clusters: 58\n",
      "Estimated no. of noise points: 370\n"
     ]
    },
    {
     "name": "stderr",
     "output_type": "stream",
     "text": [
      "C:\\Users\\yirwa29\\AppData\\Local\\anaconda3\\envs\\chatgpt\\Lib\\site-packages\\sklearn\\cluster\\_optics.py:1081: RuntimeWarning: divide by zero encountered in divide\n",
      "  ratio = reachability_plot[:-1] / reachability_plot[1:]\n"
     ]
    }
   ],
   "source": [
    "# optics clustering \n",
    "res = cluster_util.cluster_optics(X_glove, min_samples = 5)\n",
    "df_err_ename.loc[:,\"cluster_optics_glove\"] = res"
   ]
  },
  {
   "cell_type": "code",
   "execution_count": 10,
   "id": "5dcd9904",
   "metadata": {},
   "outputs": [],
   "source": [
    "# save the cluster result\n",
    "df_err_ename.to_excel(path_file, index=False, engine='xlsxwriter')"
   ]
  },
  {
   "cell_type": "markdown",
   "id": "7ec564f3",
   "metadata": {},
   "source": [
    "### 2.2 sort"
   ]
  },
  {
   "cell_type": "code",
   "execution_count": 14,
   "id": "6fa7a150",
   "metadata": {},
   "outputs": [],
   "source": [
    "import pandas as pd\n",
    "import numpy as np \n",
    "import cluster_util\n",
    "\n",
    "path = r\"C:\\Users\\yirwa29\\Downloads\\Dataset-Nb\\nbdata_k_error\\analysis_kerr/cluster_k_valueerror\"\n",
    "path_file = path+\"/nberror_k_cluster_valueerror.xlsx\"\n",
    "df_err_ename = pd.read_excel(path_file)\n",
    "\n",
    "# save sorted clusters\n",
    "df_err_ename.loc[df_err_ename['cluster_optics_glove']!=-1].sort_values('cluster_optics_glove').to_excel(path+'/cluster_res_sorted.xlsx', index=False, engine='xlsxwriter')\n",
    "# save only noise samples\n",
    "df_err_ename.loc[df_err_ename['cluster_optics_glove']==-1].sort_values('cluster_optics_glove').to_excel(path+'/cluster_res_noise.xlsx', index=False, engine='xlsxwriter')"
   ]
  },
  {
   "cell_type": "markdown",
   "id": "5ca69828",
   "metadata": {},
   "source": [
    "recluster the noise samples"
   ]
  },
  {
   "cell_type": "code",
   "execution_count": 16,
   "id": "a161607e",
   "metadata": {},
   "outputs": [
    {
     "data": {
      "text/html": [
       "<div>\n",
       "<style scoped>\n",
       "    .dataframe tbody tr th:only-of-type {\n",
       "        vertical-align: middle;\n",
       "    }\n",
       "\n",
       "    .dataframe tbody tr th {\n",
       "        vertical-align: top;\n",
       "    }\n",
       "\n",
       "    .dataframe thead th {\n",
       "        text-align: right;\n",
       "    }\n",
       "</style>\n",
       "<table border=\"1\" class=\"dataframe\">\n",
       "  <thead>\n",
       "    <tr style=\"text-align: right;\">\n",
       "      <th></th>\n",
       "      <th>fname</th>\n",
       "      <th>ename</th>\n",
       "      <th>evalue</th>\n",
       "      <th>evalue_tokenized</th>\n",
       "      <th>traceback</th>\n",
       "      <th>lib_parsed</th>\n",
       "      <th>cluster_optics_glove</th>\n",
       "    </tr>\n",
       "  </thead>\n",
       "  <tbody>\n",
       "    <tr>\n",
       "      <th>0</th>\n",
       "      <td>ahmadfadliramadhan_covid-19-south-korea-visual...</td>\n",
       "      <td>valueerror</td>\n",
       "      <td>attempt to get argmax of an empty sequence</td>\n",
       "      <td>attempt to get argmax of an empty sequence</td>\n",
       "      <td>['--------------------------------------------...</td>\n",
       "      <td>pandas</td>\n",
       "      <td>-1</td>\n",
       "    </tr>\n",
       "    <tr>\n",
       "      <th>1</th>\n",
       "      <td>vaniatsai_bimbo-0000.ipynb</td>\n",
       "      <td>valueerror</td>\n",
       "      <td>Input data must be 2 dimensional and non empty.</td>\n",
       "      <td>input data must be dimensional and non empty</td>\n",
       "      <td>['--------------------------------------------...</td>\n",
       "      <td>numpy</td>\n",
       "      <td>-1</td>\n",
       "    </tr>\n",
       "    <tr>\n",
       "      <th>2</th>\n",
       "      <td>tanbeerjubaer_first-notebook.ipynb</td>\n",
       "      <td>valueerror</td>\n",
       "      <td>Cannot assign value to variable ' embedding_2/...</td>\n",
       "      <td>can not assign value to variable shape mismatc...</td>\n",
       "      <td>['--------------------------------------------...</td>\n",
       "      <td>tensorflow</td>\n",
       "      <td>-1</td>\n",
       "    </tr>\n",
       "    <tr>\n",
       "      <th>3</th>\n",
       "      <td>tanbeerjubaer_first-notebook.ipynb</td>\n",
       "      <td>valueerror</td>\n",
       "      <td>dtype='numeric' is not compatible with arrays ...</td>\n",
       "      <td>dtypenumeric is not compatible with arrays of ...</td>\n",
       "      <td>['--------------------------------------------...</td>\n",
       "      <td>sklearn</td>\n",
       "      <td>-1</td>\n",
       "    </tr>\n",
       "    <tr>\n",
       "      <th>4</th>\n",
       "      <td>tanbeerjubaer_first-notebook.ipynb</td>\n",
       "      <td>valueerror</td>\n",
       "      <td>setting an array element with a sequence. The ...</td>\n",
       "      <td>setting an array element with a sequence the r...</td>\n",
       "      <td>['--------------------------------------------...</td>\n",
       "      <td>sklearn</td>\n",
       "      <td>-1</td>\n",
       "    </tr>\n",
       "    <tr>\n",
       "      <th>...</th>\n",
       "      <td>...</td>\n",
       "      <td>...</td>\n",
       "      <td>...</td>\n",
       "      <td>...</td>\n",
       "      <td>...</td>\n",
       "      <td>...</td>\n",
       "      <td>...</td>\n",
       "    </tr>\n",
       "    <tr>\n",
       "      <th>365</th>\n",
       "      <td>akshit8459_hiring-candidate.ipynb</td>\n",
       "      <td>valueerror</td>\n",
       "      <td>Type of input is not string! Please enter a va...</td>\n",
       "      <td>type of input is not string please enter a val...</td>\n",
       "      <td>['--------------------------------------------...</td>\n",
       "      <td>pandas</td>\n",
       "      <td>-1</td>\n",
       "    </tr>\n",
       "    <tr>\n",
       "      <th>366</th>\n",
       "      <td>yiqwantang_item-demand-sarima.ipynb</td>\n",
       "      <td>valueerror</td>\n",
       "      <td>The indices for endog and exog are not aligned</td>\n",
       "      <td>the indices for endog and exog are not aligned</td>\n",
       "      <td>['--------------------------------------------...</td>\n",
       "      <td>statsmodels</td>\n",
       "      <td>-1</td>\n",
       "    </tr>\n",
       "    <tr>\n",
       "      <th>367</th>\n",
       "      <td>yfwei36_small-businesses-loans-analysis.ipynb</td>\n",
       "      <td>valueerror</td>\n",
       "      <td>could not convert string to float: 'ABC HOBBYC...</td>\n",
       "      <td>could not convert string to float abc hobbycraft</td>\n",
       "      <td>['--------------------------------------------...</td>\n",
       "      <td>pandas</td>\n",
       "      <td>-1</td>\n",
       "    </tr>\n",
       "    <tr>\n",
       "      <th>368</th>\n",
       "      <td>dhairyapandya1_duplicate-question-quora.ipynb</td>\n",
       "      <td>valueerror</td>\n",
       "      <td>feature_names must be unique</td>\n",
       "      <td>must be unique</td>\n",
       "      <td>['--------------------------------------------...</td>\n",
       "      <td>xgboost</td>\n",
       "      <td>-1</td>\n",
       "    </tr>\n",
       "    <tr>\n",
       "      <th>369</th>\n",
       "      <td>ujjwalasthana_notebooke6ccff0f5f.ipynb</td>\n",
       "      <td>valueerror</td>\n",
       "      <td>only one element tensors can be converted to P...</td>\n",
       "      <td>only one element tensors can be converted to p...</td>\n",
       "      <td>['--------------------------------------------...</td>\n",
       "      <td>NaN</td>\n",
       "      <td>-1</td>\n",
       "    </tr>\n",
       "  </tbody>\n",
       "</table>\n",
       "<p>370 rows × 7 columns</p>\n",
       "</div>"
      ],
      "text/plain": [
       "                                                 fname       ename  \\\n",
       "0    ahmadfadliramadhan_covid-19-south-korea-visual...  valueerror   \n",
       "1                           vaniatsai_bimbo-0000.ipynb  valueerror   \n",
       "2                   tanbeerjubaer_first-notebook.ipynb  valueerror   \n",
       "3                   tanbeerjubaer_first-notebook.ipynb  valueerror   \n",
       "4                   tanbeerjubaer_first-notebook.ipynb  valueerror   \n",
       "..                                                 ...         ...   \n",
       "365                  akshit8459_hiring-candidate.ipynb  valueerror   \n",
       "366                yiqwantang_item-demand-sarima.ipynb  valueerror   \n",
       "367      yfwei36_small-businesses-loans-analysis.ipynb  valueerror   \n",
       "368      dhairyapandya1_duplicate-question-quora.ipynb  valueerror   \n",
       "369             ujjwalasthana_notebooke6ccff0f5f.ipynb  valueerror   \n",
       "\n",
       "                                                evalue  \\\n",
       "0           attempt to get argmax of an empty sequence   \n",
       "1      Input data must be 2 dimensional and non empty.   \n",
       "2    Cannot assign value to variable ' embedding_2/...   \n",
       "3    dtype='numeric' is not compatible with arrays ...   \n",
       "4    setting an array element with a sequence. The ...   \n",
       "..                                                 ...   \n",
       "365  Type of input is not string! Please enter a va...   \n",
       "366     The indices for endog and exog are not aligned   \n",
       "367  could not convert string to float: 'ABC HOBBYC...   \n",
       "368                       feature_names must be unique   \n",
       "369  only one element tensors can be converted to P...   \n",
       "\n",
       "                                      evalue_tokenized  \\\n",
       "0           attempt to get argmax of an empty sequence   \n",
       "1         input data must be dimensional and non empty   \n",
       "2    can not assign value to variable shape mismatc...   \n",
       "3    dtypenumeric is not compatible with arrays of ...   \n",
       "4    setting an array element with a sequence the r...   \n",
       "..                                                 ...   \n",
       "365  type of input is not string please enter a val...   \n",
       "366     the indices for endog and exog are not aligned   \n",
       "367   could not convert string to float abc hobbycraft   \n",
       "368                                     must be unique   \n",
       "369  only one element tensors can be converted to p...   \n",
       "\n",
       "                                             traceback   lib_parsed  \\\n",
       "0    ['--------------------------------------------...       pandas   \n",
       "1    ['--------------------------------------------...        numpy   \n",
       "2    ['--------------------------------------------...   tensorflow   \n",
       "3    ['--------------------------------------------...      sklearn   \n",
       "4    ['--------------------------------------------...      sklearn   \n",
       "..                                                 ...          ...   \n",
       "365  ['--------------------------------------------...       pandas   \n",
       "366  ['--------------------------------------------...  statsmodels   \n",
       "367  ['--------------------------------------------...       pandas   \n",
       "368  ['--------------------------------------------...      xgboost   \n",
       "369  ['--------------------------------------------...          NaN   \n",
       "\n",
       "     cluster_optics_glove  \n",
       "0                      -1  \n",
       "1                      -1  \n",
       "2                      -1  \n",
       "3                      -1  \n",
       "4                      -1  \n",
       "..                    ...  \n",
       "365                    -1  \n",
       "366                    -1  \n",
       "367                    -1  \n",
       "368                    -1  \n",
       "369                    -1  \n",
       "\n",
       "[370 rows x 7 columns]"
      ]
     },
     "execution_count": 16,
     "metadata": {},
     "output_type": "execute_result"
    }
   ],
   "source": [
    "import pandas as pd\n",
    "\n",
    "path = r\"C:\\Users\\yirwa29\\Downloads\\Dataset-Nb\\nbdata_k_error\\analysis_kerr/cluster_k_valueerror\"\n",
    "df_err_ename = pd.read_excel(path+'/cluster_res_noise.xlsx')\n",
    "df_err_ename"
   ]
  },
  {
   "cell_type": "code",
   "execution_count": null,
   "id": "d7c45936",
   "metadata": {},
   "outputs": [],
   "source": []
  },
  {
   "cell_type": "code",
   "execution_count": null,
   "id": "a86141c4",
   "metadata": {},
   "outputs": [],
   "source": []
  }
 ],
 "metadata": {
  "kernelspec": {
   "display_name": "Python 3 (ipykernel)",
   "language": "python",
   "name": "python3"
  },
  "language_info": {
   "codemirror_mode": {
    "name": "ipython",
    "version": 3
   },
   "file_extension": ".py",
   "mimetype": "text/x-python",
   "name": "python",
   "nbconvert_exporter": "python",
   "pygments_lexer": "ipython3",
   "version": "3.11.5"
  }
 },
 "nbformat": 4,
 "nbformat_minor": 5
}
