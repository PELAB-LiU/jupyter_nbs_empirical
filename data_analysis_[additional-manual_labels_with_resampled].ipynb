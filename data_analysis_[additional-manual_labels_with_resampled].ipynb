{
 "cells": [
  {
   "cell_type": "markdown",
   "id": "0d037800",
   "metadata": {},
   "source": [
    "# Data preparation of labels from manual labeling and reviewing process\n",
    "\n",
    "of the sampled crashes"
   ]
  },
  {
   "cell_type": "code",
   "execution_count": null,
   "id": "0c824705",
   "metadata": {},
   "outputs": [],
   "source": [
    "# import importlib\n",
    "# importlib.reload(config)\n",
    "# import utils.config as config"
   ]
  },
  {
   "cell_type": "code",
   "execution_count": 15,
   "id": "851f4778",
   "metadata": {},
   "outputs": [
    {
     "name": "stderr",
     "output_type": "stream",
     "text": [
      "C:\\Users\\yirwa29\\AppData\\Local\\anaconda3\\envs\\chatgpt\\Lib\\site-packages\\openpyxl\\worksheet\\_reader.py:329: UserWarning: Data Validation extension is not supported and will be removed\n",
      "  warn(msg)\n"
     ]
    }
   ],
   "source": [
    "import pandas as pd\n",
    "import utils.config as config\n",
    "import numpy as np\n",
    "\n",
    "# manually labeled\n",
    "df_mlerr_labels = pd.read_excel(config.path_default.joinpath('Manual_labeing/cluster_sampled_labeled.xlsx'),\n",
    "                                sheet_name = \"Del-All\",\n",
    "                                keep_default_na=False)\n",
    "\n",
    "df_mlerr_label_config = pd.read_excel(config.path_default.joinpath('Manual_labeing/cluster_sampled_labeled.xlsx'),\n",
    "                                sheet_name = \"Config\",\n",
    "                                keep_default_na=False)\n",
    "df_mlerr_label_config_exclude = [\"Review_res\", \"Responsible\"]\n",
    "df_mlerr_label_config.drop(df_mlerr_label_config_exclude, axis=1, inplace=True)\n",
    "df_mlerr_labels['other'].replace([0], \"\", inplace=True)"
   ]
  },
  {
   "cell_type": "code",
   "execution_count": 17,
   "id": "b608e516",
   "metadata": {},
   "outputs": [
    {
     "name": "stdout",
     "output_type": "stream",
     "text": [
      "label_root_cause\n",
      "['intentional', '']\n",
      "label_ML_pipeline\n",
      "['not-applicable (sub-labels needed, e.g., tutorials, physics simulation, ..)', 'unknown', 'not applicable - tutorial notebook', 'not applicable - physics', 'not applicable - education', '']\n",
      "label_if_ML_bug\n",
      "['unknown', '']\n",
      "label_refined_exp_type\n",
      "['constraint violation (database)']\n",
      "label_if_runinfo_help\n",
      "['']\n",
      "label_if_code_error_align\n",
      "['']\n",
      "label_if_error_chain\n",
      "['unknown', '']\n",
      "other\n",
      "['intentional', 'should exclude']\n"
     ]
    }
   ],
   "source": [
    "# labels in the config but are not used in manual labeling\n",
    "for label_key in df_mlerr_label_config:\n",
    "    print(label_key)\n",
    "    print([i for i in df_mlerr_label_config[label_key].unique() if i not in df_mlerr_labels[label_key].unique()])\n",
    "    \n",
    "    updated_config = [i for i in df_mlerr_label_config[label_key].unique() if i in df_mlerr_labels[label_key].unique()]\n",
    "    for _ in range(len(df_mlerr_label_config)-len(updated_config)):\n",
    "        updated_config.append(np.nan)\n",
    "    for _ in range(len(updated_config)-len(df_mlerr_label_config)):\n",
    "        df_mlerr_label_config.loc[len(df_mlerr_label_config)] = pd.Series(dtype='float64')\n",
    "    \n",
    "    df_mlerr_label_config[label_key] = updated_config"
   ]
  },
  {
   "cell_type": "code",
   "execution_count": 18,
   "id": "f717bf9e",
   "metadata": {
    "scrolled": false
   },
   "outputs": [
    {
     "name": "stdout",
     "output_type": "stream",
     "text": [
      "label_root_cause\n",
      "[]\n",
      "label_ML_pipeline\n",
      "[]\n",
      "label_if_ML_bug\n",
      "[]\n",
      "label_refined_exp_type\n",
      "[]\n",
      "label_if_runinfo_help\n",
      "[]\n",
      "label_if_code_error_align\n",
      "[]\n",
      "label_if_error_chain\n",
      "[]\n",
      "other\n",
      "[]\n"
     ]
    }
   ],
   "source": [
    "# labels used in manual labeling but not in config !!should not happen!!\n",
    "for label_key in df_mlerr_label_config:\n",
    "    print(label_key)\n",
    "    print([i for i in df_mlerr_labels[label_key].unique() if i not in df_mlerr_label_config[label_key].unique()])"
   ]
  },
  {
   "cell_type": "code",
   "execution_count": 19,
   "id": "7c65063f",
   "metadata": {},
   "outputs": [],
   "source": [
    "# need to take care of n/a in df_mlerr_label_config (label_refined_exp_type)\n",
    "# it means the same as the enames\n",
    "\n",
    "df_mlerr_labels['label_refined_exp_type'] = np.where(df_mlerr_labels['label_refined_exp_type'] == 'n/a', \n",
    "                                                     df_mlerr_labels['ename'], \n",
    "                                                     df_mlerr_labels['label_refined_exp_type'])\n",
    "real_refined_exp_types = set(df_mlerr_label_config.label_refined_exp_type).union(set(df_mlerr_labels['label_refined_exp_type'].unique()))\n",
    "real_refined_exp_types.remove(\"n/a\")\n",
    "real_refined_exp_types.remove(np.nan)\n",
    "real_refined_exp_types=list(real_refined_exp_types)\n",
    "for _ in range(len(df_mlerr_label_config)-len(real_refined_exp_types)):\n",
    "    real_refined_exp_types.append(np.nan)\n",
    "for _ in range(len(real_refined_exp_types)-len(df_mlerr_label_config)):\n",
    "    df_mlerr_label_config.loc[len(df_mlerr_label_config)] = pd.Series(dtype='float64')\n",
    "\n",
    "df_mlerr_label_config['label_refined_exp_type'] = list(real_refined_exp_types)"
   ]
  },
  {
   "cell_type": "code",
   "execution_count": 20,
   "id": "d6032846",
   "metadata": {},
   "outputs": [],
   "source": [
    "assert(df_mlerr_labels.label_refined_exp_type.nunique()==len(df_mlerr_label_config.label_refined_exp_type))\n",
    "df_mlerr_label_config.to_excel(config.path_default.joinpath(\"Manual_labeing/cluster_sampled_labeled_config.xlsx\"), index=False, engine='xlsxwriter')"
   ]
  },
  {
   "cell_type": "markdown",
   "id": "a86789e0",
   "metadata": {},
   "source": [
    "Map the summarized config to config and the data"
   ]
  },
  {
   "cell_type": "code",
   "execution_count": 23,
   "id": "ccac19b5",
   "metadata": {},
   "outputs": [],
   "source": [
    "# config\n",
    "df_mlerr_label_config_sum = df_mlerr_label_config.copy()\n",
    "for summed_label_name in config.summed_label_names:\n",
    "    option_dict = { v: k for k, l in getattr(config, summed_label_name).items() for v in l }\n",
    "    config_tobe_mapped = df_mlerr_label_config_sum[summed_label_name]\n",
    "    list_mapped = set([\"\" if (pd.isnull(item)|(item==\"\")) else option_dict[item] for item in config_tobe_mapped])\n",
    "    list_mapped = list(filter(None, list_mapped))\n",
    "    list_mapped.extend([\"\"]*(len(config_tobe_mapped)-len(list_mapped)))\n",
    "    df_mlerr_label_config_sum[summed_label_name] = list_mapped\n",
    "df_mlerr_label_config_sum.to_excel(config.path_default.joinpath(\"Manual_labeing/cluster_sampled_labeled_config_sum.xlsx\"), index=False, engine='xlsxwriter')\n",
    "\n",
    "# data\n",
    "df_mlerr_labels_sum = df_mlerr_labels.copy()\n",
    "for summed_label_name in config.summed_label_names:\n",
    "    option_dict = { v: k for k, l in getattr(config, summed_label_name).items() for v in l }\n",
    "    df_mlerr_labels_sum[summed_label_name] = [\"\" if (pd.isnull(item)|(item==\"\")) else option_dict[item] for item in df_mlerr_labels_sum[summed_label_name]]\n",
    "df_mlerr_labels_sum.to_excel(config.path_default.joinpath(\"Manual_labeing/cluster_sampled_labeled_sum.xlsx\"), index=False, engine='xlsxwriter')"
   ]
  },
  {
   "cell_type": "markdown",
   "id": "75fa4720",
   "metadata": {},
   "source": [
    "# Visualization"
   ]
  },
  {
   "cell_type": "code",
   "execution_count": 21,
   "id": "e4306476",
   "metadata": {},
   "outputs": [],
   "source": [
    "# plot settings\n",
    "import utils.Mycolor as Mycolor\n",
    "import matplotlib.pyplot as plt\n",
    "import numpy as np\n",
    "\n",
    "mycolor = Mycolor.Mycolor()\n",
    "cm = mycolor.cm\n",
    "cm_2 = mycolor.cm_2\n",
    "cm_3 = mycolor.cm_3\n",
    "cm_dp = mycolor.cm_dp\n",
    "\n",
    "# some other settings\n",
    "rc2abbr = {\"API\":\"API\",\"NB specific\":\"NB\",\"data\":\"DATA\",\"environment\":\"ENV\",\"implementation\":\"IMPL\",\n",
    "           \"library\":\"LIB\",\"resources\":\"RSC\",\"unknown\":\"UNK\"}\n",
    "mlpp2abbr = {'environment setup':\"ENVS\", 'data preparation':\"DATAP\", 'data visualization':\"DATAV\",\n",
    "             'model construction':\"MCONS\", 'training':\"MTRAIN\", 'evaluation/prediction':\"EVAL\"}\n",
    "order_mlpp = [\"environment setup\", \"data preparation\", \"data visualization\", \"model construction\", \"training\", \"evaluation/prediction\"]"
   ]
  },
  {
   "cell_type": "code",
   "execution_count": 1,
   "id": "fdde078a",
   "metadata": {},
   "outputs": [
    {
     "name": "stdout",
     "output_type": "stream",
     "text": [
      "path_default=WindowsPath('C:/Users/yirwa29/Downloads/data_jupyter_nbs_empirical')\n"
     ]
    },
    {
     "name": "stderr",
     "output_type": "stream",
     "text": [
      "C:\\Users\\yirwa29\\AppData\\Local\\anaconda3\\envs\\chatgpt\\Lib\\site-packages\\openpyxl\\worksheet\\_reader.py:329: UserWarning: Data Validation extension is not supported and will be removed\n",
      "  warn(msg)\n"
     ]
    },
    {
     "name": "stdout",
     "output_type": "stream",
     "text": [
      "390\n",
      "356\n",
      "390\n",
      "356\n"
     ]
    }
   ],
   "source": [
    "# prepare data\n",
    "\n",
    "import pandas as pd\n",
    "import utils.config as config\n",
    "import utils.visualization_util as visualization_util\n",
    "\n",
    "# original data and config\n",
    "df_mlerr_label_config = pd.read_excel(config.path_default.joinpath('Manual_labeing/cluster_sampled_labeled_config.xlsx'),\n",
    "                                keep_default_na=False)\n",
    "exclude_config = [\"label_if_error_chain\"] # because it is the same as root cause==nb specific-previous cell error\n",
    "df_mlerr_label_config.drop(exclude_config, axis=1, inplace=True)\n",
    "# data\n",
    "df_mlerr_labels = pd.read_excel(config.path_default.joinpath('Manual_labeing/cluster_sampled_labeled.xlsx'),\n",
    "                                sheet_name = \"Del-All\",\n",
    "                                keep_default_na=False)\n",
    "df_mlerr_labels_g = df_mlerr_labels[df_mlerr_labels[\"nb_source\"]==config.NB_SOURCE[\"github\"]].reset_index(drop=True)\n",
    "df_mlerr_labels_k = df_mlerr_labels[df_mlerr_labels[\"nb_source\"]==config.NB_SOURCE[\"kaggle\"]].reset_index(drop=True)\n",
    "del df_mlerr_labels\n",
    "\n",
    "print(df_mlerr_labels_g.eid.nunique())\n",
    "print(df_mlerr_labels_k.eid.nunique())\n",
    "\n",
    "# summed data and config\n",
    "# config\n",
    "df_mlerr_label_config_sum = pd.read_excel(config.path_default.joinpath('Manual_labeing/cluster_sampled_labeled_config_sum.xlsx'),\n",
    "                                keep_default_na=False)\n",
    "exclude_config = [\"label_if_error_chain\"] # because it is the same as root cause==nb specific-previous cell error\n",
    "df_mlerr_label_config_sum.drop(exclude_config, axis=1, inplace=True)\n",
    "# data\n",
    "df_mlerr_labels_sum = pd.read_excel(config.path_default.joinpath('Manual_labeing/cluster_sampled_labeled_sum.xlsx'))\n",
    "df_mlerr_labels_g_sum = df_mlerr_labels_sum[df_mlerr_labels_sum[\"nb_source\"]==config.NB_SOURCE[\"github\"]].reset_index(drop=True)\n",
    "df_mlerr_labels_k_sum = df_mlerr_labels_sum[df_mlerr_labels_sum[\"nb_source\"]==config.NB_SOURCE[\"kaggle\"]].reset_index(drop=True)\n",
    "del df_mlerr_labels_sum\n",
    "\n",
    "print(df_mlerr_labels_g_sum.eid.nunique())\n",
    "print(df_mlerr_labels_k_sum.eid.nunique())\n",
    "\n",
    "# Summarize the statistics based on - df_mlerr_labels_sum\n",
    "# github stats\n",
    "cluster_res_g_sum = visualization_util.statistics_labels(df_mlerr_label_config_sum, df_mlerr_labels_g_sum)\n",
    "for label_key in df_mlerr_label_config_sum:\n",
    "    cluster_res_g_sum[label_key] = pd.DataFrame.from_dict(cluster_res_g_sum[label_key]).rename_axis('cluster_id').reset_index()\n",
    "# for all clusters    \n",
    "cluster_res_g_sum_weighted_sum = visualization_util.cal_weighted_sum(df_mlerr_label_config_sum, cluster_res_g_sum)\n",
    "\n",
    "# kaggle stats\n",
    "cluster_res_k_sum = visualization_util.statistics_labels(df_mlerr_label_config_sum, df_mlerr_labels_k_sum)\n",
    "for label_key in df_mlerr_label_config_sum:\n",
    "    cluster_res_k_sum[label_key] = pd.DataFrame.from_dict(cluster_res_k_sum[label_key]).rename_axis('cluster_id').reset_index()\n",
    "cluster_res_k_sum_weighted_sum = visualization_util.cal_weighted_sum(df_mlerr_label_config_sum, cluster_res_k_sum)"
   ]
  },
  {
   "cell_type": "markdown",
   "id": "a553902e",
   "metadata": {},
   "source": [
    "### rq1: What are the prevalent exception types and root causes in ML notebooks?"
   ]
  },
  {
   "cell_type": "code",
   "execution_count": 3,
   "id": "9e8ceb3b",
   "metadata": {},
   "outputs": [
    {
     "data": {
      "text/html": [
       "<div>\n",
       "<style scoped>\n",
       "    .dataframe tbody tr th:only-of-type {\n",
       "        vertical-align: middle;\n",
       "    }\n",
       "\n",
       "    .dataframe tbody tr th {\n",
       "        vertical-align: top;\n",
       "    }\n",
       "\n",
       "    .dataframe thead th {\n",
       "        text-align: right;\n",
       "    }\n",
       "</style>\n",
       "<table border=\"1\" class=\"dataframe\">\n",
       "  <thead>\n",
       "    <tr style=\"text-align: right;\">\n",
       "      <th></th>\n",
       "      <th>Combined</th>\n",
       "      <th>GitHub</th>\n",
       "      <th>Kaggle</th>\n",
       "    </tr>\n",
       "    <tr>\n",
       "      <th>Exception type</th>\n",
       "      <th></th>\n",
       "      <th></th>\n",
       "      <th></th>\n",
       "    </tr>\n",
       "  </thead>\n",
       "  <tbody>\n",
       "    <tr>\n",
       "      <th>name</th>\n",
       "      <td>222</td>\n",
       "      <td>121</td>\n",
       "      <td>101</td>\n",
       "    </tr>\n",
       "    <tr>\n",
       "      <th>value</th>\n",
       "      <td>131</td>\n",
       "      <td>63</td>\n",
       "      <td>68</td>\n",
       "    </tr>\n",
       "    <tr>\n",
       "      <th>API arg</th>\n",
       "      <td>73</td>\n",
       "      <td>40</td>\n",
       "      <td>33</td>\n",
       "    </tr>\n",
       "    <tr>\n",
       "      <th>io</th>\n",
       "      <td>71</td>\n",
       "      <td>34</td>\n",
       "      <td>37</td>\n",
       "    </tr>\n",
       "    <tr>\n",
       "      <th>attribute</th>\n",
       "      <td>52</td>\n",
       "      <td>29</td>\n",
       "      <td>23</td>\n",
       "    </tr>\n",
       "    <tr>\n",
       "      <th>key</th>\n",
       "      <td>50</td>\n",
       "      <td>21</td>\n",
       "      <td>29</td>\n",
       "    </tr>\n",
       "    <tr>\n",
       "      <th>type</th>\n",
       "      <td>40</td>\n",
       "      <td>24</td>\n",
       "      <td>16</td>\n",
       "    </tr>\n",
       "    <tr>\n",
       "      <th>index</th>\n",
       "      <td>29</td>\n",
       "      <td>17</td>\n",
       "      <td>12</td>\n",
       "    </tr>\n",
       "    <tr>\n",
       "      <th>resource</th>\n",
       "      <td>17</td>\n",
       "      <td>6</td>\n",
       "      <td>11</td>\n",
       "    </tr>\n",
       "    <tr>\n",
       "      <th>runtime</th>\n",
       "      <td>17</td>\n",
       "      <td>9</td>\n",
       "      <td>8</td>\n",
       "    </tr>\n",
       "    <tr>\n",
       "      <th>other</th>\n",
       "      <td>44</td>\n",
       "      <td>26</td>\n",
       "      <td>18</td>\n",
       "    </tr>\n",
       "    <tr>\n",
       "      <th>total</th>\n",
       "      <td>746</td>\n",
       "      <td>390</td>\n",
       "      <td>356</td>\n",
       "    </tr>\n",
       "  </tbody>\n",
       "</table>\n",
       "</div>"
      ],
      "text/plain": [
       "                Combined  GitHub  Kaggle\n",
       "Exception type                          \n",
       "name                 222     121     101\n",
       "value                131      63      68\n",
       "API arg               73      40      33\n",
       "io                    71      34      37\n",
       "attribute             52      29      23\n",
       "key                   50      21      29\n",
       "type                  40      24      16\n",
       "index                 29      17      12\n",
       "resource              17       6      11\n",
       "runtime               17       9       8\n",
       "other                 44      26      18\n",
       "total                746     390     356"
      ]
     },
     "execution_count": 3,
     "metadata": {},
     "output_type": "execute_result"
    }
   ],
   "source": [
    "# exception types\n",
    "# top 10 + other (remainings)\n",
    "\n",
    "cluster_res_exp_type_sum_weighted_sum = {x: cluster_res_k_sum_weighted_sum['label_refined_exp_type'].get(x, 0) + cluster_res_g_sum_weighted_sum['label_refined_exp_type'].get(x, 0)\n",
    "                                         for x in set(cluster_res_k_sum_weighted_sum['label_refined_exp_type']).union(cluster_res_g_sum_weighted_sum['label_refined_exp_type'])}\n",
    "df_cluster_res_exp_type_sum = pd.DataFrame(cluster_res_exp_type_sum_weighted_sum, index=[\"Combined\"]).T.sort_values(by=\"Combined\", ascending=False)\n",
    "include_num = 10\n",
    "df_cluster_res_exp_type_other = pd.DataFrame(df_cluster_res_exp_type_sum[include_num:].sum(axis=0)).T.rename(index={0: \"other\"})\n",
    "df_cluster_res_exp_type_sum = pd.concat([df_cluster_res_exp_type_sum[:include_num], df_cluster_res_exp_type_other])\n",
    "\n",
    "df_cluster_res_exp_type_kg = pd.DataFrame([cluster_res_k_sum_weighted_sum['label_refined_exp_type'],\n",
    "                   cluster_res_g_sum_weighted_sum['label_refined_exp_type']]).T.rename(columns={0: 'Kaggle', 1: 'GitHub'})\n",
    "\n",
    "df_cluster_res_exp_type_kg_other = pd.DataFrame(df_cluster_res_exp_type_kg[~df_cluster_res_exp_type_kg.index.isin(df_cluster_res_exp_type_sum.index[:include_num])].sum(axis=0)).T.rename(index={0: \"other\"})\n",
    "df_cluster_res_exp_type_kg = pd.concat([df_cluster_res_exp_type_kg.loc[df_cluster_res_exp_type_sum.index[:include_num].to_list()], df_cluster_res_exp_type_kg_other])\n",
    "df_cluster_res_exp_type_kg = pd.concat([df_cluster_res_exp_type_sum, df_cluster_res_exp_type_kg], axis=1)\n",
    "df_cluster_res_exp_type_kg.loc['total']= df_cluster_res_exp_type_kg.sum()\n",
    "\n",
    "df_cluster_res_exp_type_kg.index.name = \"Exception type\"\n",
    "df_cluster_res_exp_type_kg[[\"Combined\",\"GitHub\",\"Kaggle\"]]"
   ]
  },
  {
   "cell_type": "code",
   "execution_count": 4,
   "id": "44baa546",
   "metadata": {},
   "outputs": [
    {
     "name": "stderr",
     "output_type": "stream",
     "text": [
      "C:\\Users\\yirwa29\\AppData\\Local\\Temp\\ipykernel_26444\\1978658013.py:3: FutureWarning: Setting an item of incompatible dtype is deprecated and will raise in a future error of pandas. Value '[ 28.37  19.1    9.27  10.39   6.46   8.15   4.49   3.37   3.09   2.25\n",
      "   5.06 100.  ]' has dtype incompatible with int64, please explicitly cast to a compatible dtype first.\n",
      "  exp_plot.loc[:,'Kaggle']=(df_cluster_res_exp_type_kg['Kaggle']/df_cluster_res_exp_type_kg[:-1]['Kaggle'].sum()*100).round(2)\n",
      "C:\\Users\\yirwa29\\AppData\\Local\\Temp\\ipykernel_26444\\1978658013.py:4: FutureWarning: Setting an item of incompatible dtype is deprecated and will raise in a future error of pandas. Value '[ 31.03  16.15  10.26   8.72   7.44   5.38   6.15   4.36   1.54   2.31\n",
      "   6.67 100.  ]' has dtype incompatible with int64, please explicitly cast to a compatible dtype first.\n",
      "  exp_plot.loc[:,'GitHub']=(df_cluster_res_exp_type_kg['GitHub']/df_cluster_res_exp_type_kg[:-1]['GitHub'].sum()*100).round(2)\n"
     ]
    }
   ],
   "source": [
    "# transform to percentages\n",
    "exp_plot = df_cluster_res_exp_type_kg.copy()\n",
    "exp_plot.loc[:,'Kaggle']=(df_cluster_res_exp_type_kg['Kaggle']/df_cluster_res_exp_type_kg[:-1]['Kaggle'].sum()*100).round(2)\n",
    "exp_plot.loc[:,'GitHub']=(df_cluster_res_exp_type_kg['GitHub']/df_cluster_res_exp_type_kg[:-1]['GitHub'].sum()*100).round(2)\n",
    "exp_plot = exp_plot[:-1][[\"GitHub\",\"Kaggle\"]]"
   ]
  },
  {
   "cell_type": "code",
   "execution_count": 5,
   "id": "e7f20cb2",
   "metadata": {},
   "outputs": [
    {
     "data": {
      "image/png": "[encoded data removed]",
      "text/plain": [
       "<Figure size 1000x400 with 1 Axes>"
      ]
     },
     "metadata": {},
     "output_type": "display_data"
    }
   ],
   "source": [
    "from matplotlib.ticker import PercentFormatter\n",
    "\n",
    "# plot\n",
    "ind = np.arange(len(exp_plot.index))\n",
    "\n",
    "width = 0.4\n",
    "fontsize = 16\n",
    "fig = plt.figure(figsize=(10,4))\n",
    "bars = plt.bar(ind - width / 2, exp_plot.GitHub, width, label = 'GitHub', alpha = 0.8, color = 'coral', edgecolor = 'black')\n",
    "for id_bar in range(len(bars)):\n",
    "    bar = bars[id_bar]\n",
    "    plt.text(bar.get_x()+.05, bar.get_height()+.05, df_cluster_res_exp_type_kg.GitHub.iloc[id_bar], fontsize=11)\n",
    "bars = plt.bar(ind + width / 2, exp_plot.Kaggle, width, label = 'Kaggle', alpha = 0.8, color = 'seagreen', edgecolor = 'black')\n",
    "for id_bar in range(len(bars)):\n",
    "    bar = bars[id_bar]\n",
    "    plt.text(bar.get_x()+.05, bar.get_height()+.05, df_cluster_res_exp_type_kg.Kaggle.iloc[id_bar], fontsize=11)\n",
    "\n",
    "# x ticks\n",
    "plt.xticks(ind, exp_plot.index, rotation=45, fontsize=fontsize-5)\n",
    "plt.yticks(fontsize=fontsize-3)\n",
    "\n",
    "fig.axes[0].yaxis.set_major_formatter(PercentFormatter(decimals=0))\n",
    "    \n",
    "# original legend   \n",
    "plt.legend(fontsize=fontsize-4) \n",
    "\n",
    "# plt.savefig(config.path_default.joinpath('exp.pdf'), bbox_inches='tight')\n",
    "plt.show()"
   ]
  },
  {
   "cell_type": "code",
   "execution_count": 8,
   "id": "f332c068",
   "metadata": {},
   "outputs": [
    {
     "data": {
      "text/html": [
       "<div>\n",
       "<style scoped>\n",
       "    .dataframe tbody tr th:only-of-type {\n",
       "        vertical-align: middle;\n",
       "    }\n",
       "\n",
       "    .dataframe tbody tr th {\n",
       "        vertical-align: top;\n",
       "    }\n",
       "\n",
       "    .dataframe thead th {\n",
       "        text-align: right;\n",
       "    }\n",
       "</style>\n",
       "<table border=\"1\" class=\"dataframe\">\n",
       "  <thead>\n",
       "    <tr style=\"text-align: right;\">\n",
       "      <th></th>\n",
       "      <th>Combined</th>\n",
       "      <th>GitHub</th>\n",
       "      <th>Kaggle</th>\n",
       "    </tr>\n",
       "    <tr>\n",
       "      <th>Root cause</th>\n",
       "      <th></th>\n",
       "      <th></th>\n",
       "      <th></th>\n",
       "    </tr>\n",
       "  </thead>\n",
       "  <tbody>\n",
       "    <tr>\n",
       "      <th>API</th>\n",
       "      <td>159</td>\n",
       "      <td>83</td>\n",
       "      <td>76</td>\n",
       "    </tr>\n",
       "    <tr>\n",
       "      <th>NB specific</th>\n",
       "      <td>143</td>\n",
       "      <td>75</td>\n",
       "      <td>68</td>\n",
       "    </tr>\n",
       "    <tr>\n",
       "      <th>data</th>\n",
       "      <td>138</td>\n",
       "      <td>70</td>\n",
       "      <td>68</td>\n",
       "    </tr>\n",
       "    <tr>\n",
       "      <th>environment</th>\n",
       "      <td>125</td>\n",
       "      <td>70</td>\n",
       "      <td>55</td>\n",
       "    </tr>\n",
       "    <tr>\n",
       "      <th>implementation</th>\n",
       "      <td>124</td>\n",
       "      <td>67</td>\n",
       "      <td>57</td>\n",
       "    </tr>\n",
       "    <tr>\n",
       "      <th>unknown</th>\n",
       "      <td>31</td>\n",
       "      <td>18</td>\n",
       "      <td>13</td>\n",
       "    </tr>\n",
       "    <tr>\n",
       "      <th>resources</th>\n",
       "      <td>17</td>\n",
       "      <td>6</td>\n",
       "      <td>11</td>\n",
       "    </tr>\n",
       "    <tr>\n",
       "      <th>library</th>\n",
       "      <td>9</td>\n",
       "      <td>1</td>\n",
       "      <td>8</td>\n",
       "    </tr>\n",
       "    <tr>\n",
       "      <th>total</th>\n",
       "      <td>746</td>\n",
       "      <td>390</td>\n",
       "      <td>356</td>\n",
       "    </tr>\n",
       "  </tbody>\n",
       "</table>\n",
       "</div>"
      ],
      "text/plain": [
       "                Combined  GitHub  Kaggle\n",
       "Root cause                              \n",
       "API                  159      83      76\n",
       "NB specific          143      75      68\n",
       "data                 138      70      68\n",
       "environment          125      70      55\n",
       "implementation       124      67      57\n",
       "unknown               31      18      13\n",
       "resources             17       6      11\n",
       "library                9       1       8\n",
       "total                746     390     356"
      ]
     },
     "execution_count": 8,
     "metadata": {},
     "output_type": "execute_result"
    }
   ],
   "source": [
    "# root cause\n",
    "rc = pd.DataFrame([cluster_res_k_sum_weighted_sum['label_root_cause'],\n",
    "                   cluster_res_g_sum_weighted_sum['label_root_cause']]).T.rename(columns={0: 'Kaggle', 1: 'GitHub'})\n",
    "\n",
    "rc.index.name = \"Root cause\"\n",
    "rc['Combined'] = rc['Kaggle']+rc['GitHub']\n",
    "rc = rc.sort_values(by=['Combined'], ascending=False)\n",
    "rc.loc['total']= rc.sum()\n",
    "# print((rc['Combined'].loc['API']+rc['Combined'].loc['data']+rc['Combined'].loc['implementation'])/rc['Combined'].loc['total'])\n",
    "rc[[\"Combined\",\"GitHub\",\"Kaggle\"]]\n",
    "# (rc/rc[1:].sum()*100).round(2)"
   ]
  },
  {
   "cell_type": "code",
   "execution_count": 9,
   "id": "39e9e803",
   "metadata": {},
   "outputs": [
    {
     "data": {
      "text/html": [
       "<div>\n",
       "<style scoped>\n",
       "    .dataframe tbody tr th:only-of-type {\n",
       "        vertical-align: middle;\n",
       "    }\n",
       "\n",
       "    .dataframe tbody tr th {\n",
       "        vertical-align: top;\n",
       "    }\n",
       "\n",
       "    .dataframe thead th {\n",
       "        text-align: right;\n",
       "    }\n",
       "</style>\n",
       "<table border=\"1\" class=\"dataframe\">\n",
       "  <thead>\n",
       "    <tr style=\"text-align: right;\">\n",
       "      <th>NB specific</th>\n",
       "      <th>GitHub</th>\n",
       "      <th>Kaggle</th>\n",
       "    </tr>\n",
       "  </thead>\n",
       "  <tbody>\n",
       "    <tr>\n",
       "      <th>Out-of-order execution</th>\n",
       "      <td>60.0%</td>\n",
       "      <td>75.0%</td>\n",
       "    </tr>\n",
       "    <tr>\n",
       "      <th>Previous cell error</th>\n",
       "      <td>40.0%</td>\n",
       "      <td>25.0%</td>\n",
       "    </tr>\n",
       "  </tbody>\n",
       "</table>\n",
       "</div>"
      ],
      "text/plain": [
       "NB specific            GitHub Kaggle\n",
       "Out-of-order execution  60.0%  75.0%\n",
       "Previous cell error     40.0%  25.0%"
      ]
     },
     "execution_count": 9,
     "metadata": {},
     "output_type": "execute_result"
    }
   ],
   "source": [
    "# zoom in to root cause == NB specific - xxx\n",
    "nb_g = df_mlerr_labels_g[df_mlerr_labels_g[\"label_root_cause\"].isin(config.label_root_cause[\"NB specific\"])]\n",
    "nb_g_counts = nb_g.groupby(\"label_root_cause\")[\"label_root_cause\"].value_counts().sort_values(ascending=False)\n",
    "# merge out-of-order implementation into out-of-order execution\n",
    "nb_g_counts[\"nb specific - execution order\"] = nb_g_counts[\"nb specific - execution order\"]+nb_g_counts[\"nb specific - need execute future cells\"]\n",
    "nb_g_counts = nb_g_counts[[\"nb specific - execution order\",\"nb specific - previous cell error\"]]\n",
    "nb_g_counts = (nb_g_counts/nb_g_counts.sum()*100).round(2)\n",
    "nb_k = df_mlerr_labels_k[df_mlerr_labels_k[\"label_root_cause\"].isin(config.label_root_cause[\"NB specific\"])]\n",
    "nb_k_counts = nb_k.groupby(\"label_root_cause\")[\"label_root_cause\"].value_counts().sort_values(ascending=False)\n",
    "nb_k_counts[\"nb specific - execution order\"] = nb_k_counts[\"nb specific - execution order\"]+nb_k_counts[\"nb specific - need execute future cells\"]\n",
    "nb_k_counts = nb_k_counts[[\"nb specific - execution order\",\"nb specific - previous cell error\"]]\n",
    "nb_k_counts = (nb_k_counts/nb_k_counts.sum()*100).round(2)\n",
    "\n",
    "nb_pp = pd.DataFrame([nb_g_counts,nb_k_counts],index=['GitHub','Kaggle'])\n",
    "nb_pp.columns=[\"Out-of-order execution\", \"Previous cell error\"] # \"Out of order implementation\"\n",
    "nb_pp.index.name = 'NB specific'\n",
    "\n",
    "nb_pp.T.astype(str) + '%'"
   ]
  },
  {
   "cell_type": "code",
   "execution_count": 10,
   "id": "af14d04e",
   "metadata": {},
   "outputs": [
    {
     "name": "stderr",
     "output_type": "stream",
     "text": [
      "C:\\Users\\yirwa29\\AppData\\Local\\Temp\\ipykernel_26444\\1976806851.py:3: FutureWarning: Setting an item of incompatible dtype is deprecated and will raise in a future error of pandas. Value '[10.67  9.55  9.55  7.72  8.01  1.83  1.54  1.12]' has dtype incompatible with int64, please explicitly cast to a compatible dtype first.\n",
      "  rc_plot.loc[:,'Kaggle']=(rc['Kaggle']/rc['Kaggle'].sum()*100).round(2)\n",
      "C:\\Users\\yirwa29\\AppData\\Local\\Temp\\ipykernel_26444\\1976806851.py:4: FutureWarning: Setting an item of incompatible dtype is deprecated and will raise in a future error of pandas. Value '[10.64  9.62  8.97  8.97  8.59  2.31  0.77  0.13]' has dtype incompatible with int64, please explicitly cast to a compatible dtype first.\n",
      "  rc_plot.loc[:,'GitHub']=(rc['GitHub']/rc['GitHub'].sum()*100).round(2)\n"
     ]
    }
   ],
   "source": [
    "# transform to percentages\n",
    "rc_plot = rc[:-1].copy()\n",
    "rc_plot.loc[:,'Kaggle']=(rc['Kaggle']/rc['Kaggle'].sum()*100).round(2)\n",
    "rc_plot.loc[:,'GitHub']=(rc['GitHub']/rc['GitHub'].sum()*100).round(2)\n",
    "\n",
    "rc_nb_g = rc_plot.loc[\"NB specific\",\"GitHub\"]\n",
    "rc_nb_k = rc_plot.loc[\"NB specific\",\"Kaggle\"]\n",
    "rc_plot.loc[\"NB specific\",\"GitHub\"]=0\n",
    "rc_plot.loc[\"NB specific\",\"Kaggle\"]=0"
   ]
  },
  {
   "cell_type": "code",
   "execution_count": 11,
   "id": "c7299abd",
   "metadata": {},
   "outputs": [
    {
     "name": "stdout",
     "output_type": "stream",
     "text": [
      "Index(['Out-of-order execution', 'Previous cell error'], dtype='object')\n"
     ]
    },
    {
     "data": {
      "image/png": "[encoded data removed]",
      "text/plain": [
       "<Figure size 1000x400 with 1 Axes>"
      ]
     },
     "metadata": {},
     "output_type": "display_data"
    }
   ],
   "source": [
    "from matplotlib.ticker import PercentFormatter\n",
    "\n",
    "# plot\n",
    "ind = np.arange(len(rc_plot.index))\n",
    "\n",
    "width = 0.4\n",
    "fontsize = 16\n",
    "fig = plt.figure(figsize=(10,4))\n",
    "bars = plt.bar(ind - width / 2, rc_plot.GitHub, width, label = 'GitHub', alpha = 0.8, color = 'coral', edgecolor = 'black')\n",
    "for id_bar in range(len(bars)):\n",
    "    bar = bars[id_bar]\n",
    "    if id_bar==1:\n",
    "        plt.text(bar.get_x()+.05, rc_nb_g+.0, rc.GitHub.iloc[id_bar], fontsize=11)\n",
    "        continue\n",
    "    plt.text(bar.get_x()+.05, bar.get_height()+.05, rc.GitHub.iloc[id_bar], fontsize=11)\n",
    "\n",
    "bars = plt.bar(ind + width / 2, rc_plot.Kaggle, width, label = 'Kaggle', alpha = 0.8, color = 'seagreen', edgecolor = 'black')\n",
    "for id_bar in range(len(bars)):\n",
    "    bar = bars[id_bar]\n",
    "    if id_bar==1:\n",
    "        plt.text(bar.get_x()+.05, rc_nb_k+.0, rc.Kaggle.iloc[id_bar], fontsize=11)\n",
    "        continue\n",
    "    plt.text(bar.get_x()+.05, bar.get_height()+.05, rc.Kaggle.iloc[id_bar], fontsize=11)\n",
    "\n",
    "\n",
    "# np specific\n",
    "npspe_list = nb_pp.T.index\n",
    "weight_count_g = nb_pp.T[\"GitHub\"]*rc_nb_g/100\n",
    "weight_count_k = nb_pp.T[\"Kaggle\"]*rc_nb_k/100\n",
    "bottom_g, bottom_k = 0,0\n",
    "for i in range(len(npspe_list)):\n",
    "    plt.bar(1 - width / 2, weight_count_g.iloc[i], width, alpha=0.8, color = cm_2(i*5), edgecolor = 'black',  bottom=bottom_g) \n",
    "    bottom_g += weight_count_g.iloc[i]-0.03\n",
    "    plt.bar(1 + width / 2, weight_count_k.iloc[i], width, alpha=0.8, color = cm(i*5), edgecolor = 'black',  bottom=bottom_k) \n",
    "    bottom_k += weight_count_k.iloc[i]-0.03\n",
    "\n",
    "# x ticks\n",
    "xticks_labels_new = [rc2abbr[x] for x in rc_plot.index]\n",
    "plt.xticks(ind, xticks_labels_new, rotation=0, fontsize=fontsize-5)\n",
    "plt.yticks(fontsize=fontsize-3)\n",
    "\n",
    "fig.axes[0].yaxis.set_major_formatter(PercentFormatter(decimals=0))\n",
    "# plt.xlabel(\"Exception types\", fontsize=fontsize) \n",
    "# plt.ylabel(\"Percentage of errors\", fontsize=fontsize) \n",
    "\n",
    "# np specific - add another legend\n",
    "lgd_colors = [cm_2(i*5) for i in range(2)] + [cm(i*5) for i in range(2)]\n",
    "print(npspe_list)\n",
    "# legend 2 labels\n",
    "lgd_labels=[\"\"]*2+[\"Out-of-order execution\", \"Previous cell error\"] #, \"Out-of-order implementation\"\n",
    "\n",
    "lgnd = fig.axes[0].legend(labels=lgd_labels, loc=\"center right\", ncols=2, fontsize=fontsize-5,columnspacing=-1.7, \n",
    "                          title=\"NB-specific\", title_fontsize=fontsize-5)\n",
    "fig.axes[0].add_artist(lgnd)\n",
    "i=0\n",
    "for handle in lgnd.legend_handles:\n",
    "    handle.set_width(12)\n",
    "    handle.set_color(lgd_colors[i])\n",
    "    handle.set_edgecolor(\"black\")\n",
    "    i+=1\n",
    "        \n",
    "# original legend   \n",
    "plt.legend(fontsize=fontsize-4) \n",
    "\n",
    "# plt.savefig(config.path_default.joinpath('rc.pdf'), bbox_inches='tight')\n",
    "plt.show()"
   ]
  },
  {
   "cell_type": "markdown",
   "id": "9a82be30",
   "metadata": {},
   "source": [
    "### rq2: To what extent are failures in ML/data science notebooks related to ML libraries?"
   ]
  },
  {
   "cell_type": "code",
   "execution_count": 14,
   "id": "4da34cdf",
   "metadata": {},
   "outputs": [
    {
     "data": {
      "text/html": [
       "<div>\n",
       "<style scoped>\n",
       "    .dataframe tbody tr th:only-of-type {\n",
       "        vertical-align: middle;\n",
       "    }\n",
       "\n",
       "    .dataframe tbody tr th {\n",
       "        vertical-align: top;\n",
       "    }\n",
       "\n",
       "    .dataframe thead th {\n",
       "        text-align: right;\n",
       "    }\n",
       "</style>\n",
       "<table border=\"1\" class=\"dataframe\">\n",
       "  <thead>\n",
       "    <tr style=\"text-align: right;\">\n",
       "      <th></th>\n",
       "      <th>Kaggle</th>\n",
       "      <th>GitHub</th>\n",
       "      <th>combined</th>\n",
       "    </tr>\n",
       "    <tr>\n",
       "      <th>If ML bug</th>\n",
       "      <th></th>\n",
       "      <th></th>\n",
       "      <th></th>\n",
       "    </tr>\n",
       "  </thead>\n",
       "  <tbody>\n",
       "    <tr>\n",
       "      <th>ML bug</th>\n",
       "      <td>72.47</td>\n",
       "      <td>61.03</td>\n",
       "      <td>66.49</td>\n",
       "    </tr>\n",
       "    <tr>\n",
       "      <th>Python bug</th>\n",
       "      <td>27.53</td>\n",
       "      <td>38.97</td>\n",
       "      <td>33.51</td>\n",
       "    </tr>\n",
       "  </tbody>\n",
       "</table>\n",
       "</div>"
      ],
      "text/plain": [
       "            Kaggle  GitHub  combined\n",
       "If ML bug                           \n",
       "ML bug       72.47   61.03     66.49\n",
       "Python bug   27.53   38.97     33.51"
      ]
     },
     "execution_count": 14,
     "metadata": {},
     "output_type": "execute_result"
    }
   ],
   "source": [
    "mlbug = pd.DataFrame([cluster_res_k_sum_weighted_sum['label_if_ML_bug'],\n",
    "                   cluster_res_g_sum_weighted_sum['label_if_ML_bug']]).T.rename(columns={0: 'Kaggle', 1: 'GitHub'})\n",
    "mlbug['combined'] = mlbug['Kaggle'] + mlbug['GitHub']\n",
    "mlbug['combined']=(mlbug['combined']/mlbug['combined'].sum()*100).round(2)\n",
    "mlbug['Kaggle']=(mlbug['Kaggle']/mlbug['Kaggle'].sum()*100).round(2)\n",
    "mlbug['GitHub']=(mlbug['GitHub']/mlbug['GitHub'].sum()*100).round(2)\n",
    "\n",
    "mlbug.index=[\"ML bug\", \"Python bug\"]\n",
    "mlbug.index.name = 'If ML bug'\n",
    "mlbug #[[\"GitHub\",\"Kaggle\"]]"
   ]
  },
  {
   "cell_type": "code",
   "execution_count": 16,
   "id": "cc77b917",
   "metadata": {},
   "outputs": [],
   "source": [
    "df_grouped_g = df_mlerr_labels_g_sum.groupby(\"label_if_ML_bug\")[\"label_root_cause\"].value_counts().unstack(\"label_root_cause\")\n",
    "# df_grouped_g.insert(6, \"library\", 0)\n",
    "df_grouped_k = df_mlerr_labels_k_sum.groupby(\"label_if_ML_bug\")[\"label_root_cause\"].value_counts().unstack(\"label_root_cause\")\n",
    "\n",
    "df_grouped = df_grouped_g + df_grouped_k\n",
    "df_grouped = (df_grouped.T/df_grouped.sum(axis=1)).fillna(0)\n",
    "df_grouped_g = (df_grouped_g.T/df_grouped_g.sum(axis=1)).fillna(0)\n",
    "df_grouped_k = (df_grouped_k.T/df_grouped_k.sum(axis=1)).fillna(0)\n",
    "\n",
    "df_grouped_g = df_grouped_g.rename(columns={\"python bug\": \"Python bug\"})\n",
    "df_grouped_k = df_grouped_k.rename(columns={\"python bug\": \"Python bug\"})\n",
    "df_grouped = df_grouped.rename(columns={\"python bug\": \"Python bug\"})"
   ]
  },
  {
   "cell_type": "code",
   "execution_count": 17,
   "id": "ea7b9d89",
   "metadata": {},
   "outputs": [
    {
     "data": {
      "image/png": "[encoded data removed]",
      "text/plain": [
       "<Figure size 700x100 with 2 Axes>"
      ]
     },
     "metadata": {},
     "output_type": "display_data"
    }
   ],
   "source": [
    "import seaborn as sns\n",
    "\n",
    "# plot the heatmap for the combined dataset, rc and mlbug relationship in percentages\n",
    "f,(ax1) = plt.subplots(1, 1, figsize=(7, 1))\n",
    "rc_new = [rc2abbr[x] for x in df_grouped.index]\n",
    "s = sns.heatmap((df_grouped*100).round(0).astype(int).T, fmt = \"d\", cbar_kws={'format': '%d%%'},\n",
    "                annot=True, xticklabels=rc_new, \n",
    "                cmap=cm_dp,# \"vlag\", \n",
    "                center=0, #vmin=0, vmax=25,\n",
    "                ax=ax1)\n",
    "s.set(xlabel='', ylabel='')\n",
    "\n",
    "# f.savefig(config.path_default.joinpath('mlbug_rc.pdf'), bbox_inches='tight')\n",
    "plt.show()"
   ]
  },
  {
   "cell_type": "markdown",
   "id": "c39e49ff",
   "metadata": {},
   "source": [
    "### rq3: In which phases of ML development in notebooks are exceptions most likely to occur? "
   ]
  },
  {
   "cell_type": "code",
   "execution_count": 22,
   "id": "82b6bf1f",
   "metadata": {},
   "outputs": [
    {
     "data": {
      "text/html": [
       "<div>\n",
       "<style scoped>\n",
       "    .dataframe tbody tr th:only-of-type {\n",
       "        vertical-align: middle;\n",
       "    }\n",
       "\n",
       "    .dataframe tbody tr th {\n",
       "        vertical-align: top;\n",
       "    }\n",
       "\n",
       "    .dataframe thead th {\n",
       "        text-align: right;\n",
       "    }\n",
       "</style>\n",
       "<table border=\"1\" class=\"dataframe\">\n",
       "  <thead>\n",
       "    <tr style=\"text-align: right;\">\n",
       "      <th></th>\n",
       "      <th>Kaggle</th>\n",
       "      <th>GitHub</th>\n",
       "      <th>combined</th>\n",
       "    </tr>\n",
       "    <tr>\n",
       "      <th>ML pipeline</th>\n",
       "      <th></th>\n",
       "      <th></th>\n",
       "      <th></th>\n",
       "    </tr>\n",
       "  </thead>\n",
       "  <tbody>\n",
       "    <tr>\n",
       "      <th>environment setup</th>\n",
       "      <td>19</td>\n",
       "      <td>36</td>\n",
       "      <td>55</td>\n",
       "    </tr>\n",
       "    <tr>\n",
       "      <th>data preparation</th>\n",
       "      <td>99</td>\n",
       "      <td>147</td>\n",
       "      <td>246</td>\n",
       "    </tr>\n",
       "    <tr>\n",
       "      <th>data visualization</th>\n",
       "      <td>46</td>\n",
       "      <td>53</td>\n",
       "      <td>99</td>\n",
       "    </tr>\n",
       "    <tr>\n",
       "      <th>model construction</th>\n",
       "      <td>35</td>\n",
       "      <td>28</td>\n",
       "      <td>63</td>\n",
       "    </tr>\n",
       "    <tr>\n",
       "      <th>training</th>\n",
       "      <td>77</td>\n",
       "      <td>69</td>\n",
       "      <td>146</td>\n",
       "    </tr>\n",
       "    <tr>\n",
       "      <th>evaluation/prediction</th>\n",
       "      <td>80</td>\n",
       "      <td>57</td>\n",
       "      <td>137</td>\n",
       "    </tr>\n",
       "    <tr>\n",
       "      <th>total</th>\n",
       "      <td>356</td>\n",
       "      <td>390</td>\n",
       "      <td>746</td>\n",
       "    </tr>\n",
       "  </tbody>\n",
       "</table>\n",
       "</div>"
      ],
      "text/plain": [
       "                       Kaggle  GitHub  combined\n",
       "ML pipeline                                    \n",
       "environment setup          19      36        55\n",
       "data preparation           99     147       246\n",
       "data visualization         46      53        99\n",
       "model construction         35      28        63\n",
       "training                   77      69       146\n",
       "evaluation/prediction      80      57       137\n",
       "total                     356     390       746"
      ]
     },
     "execution_count": 22,
     "metadata": {},
     "output_type": "execute_result"
    }
   ],
   "source": [
    "df_mlpp = pd.DataFrame([cluster_res_k_sum_weighted_sum['label_ML_pipeline'],\n",
    "                     cluster_res_g_sum_weighted_sum['label_ML_pipeline']]).T.rename(columns={0: 'Kaggle', 1: 'GitHub'})\n",
    "df_mlpp.index.name = \"ML pipeline\"\n",
    "df_mlpp = df_mlpp.reindex(order_mlpp)\n",
    "df_mlpp.loc['total']= df_mlpp.sum()\n",
    "df_mlpp['combined'] = df_mlpp['Kaggle']+df_mlpp['GitHub']\n",
    "df_mlpp"
   ]
  },
  {
   "cell_type": "code",
   "execution_count": 23,
   "id": "f9ebe667",
   "metadata": {},
   "outputs": [],
   "source": [
    "# data prepare\n",
    "# ml pipeline distribution\n",
    "mlpp_raw = pd.DataFrame([cluster_res_k_sum_weighted_sum['label_ML_pipeline'],\n",
    "                         cluster_res_g_sum_weighted_sum['label_ML_pipeline']]).T.rename(columns={0: 'Kaggle', 1: 'GitHub'})\n",
    "mlpp = mlpp_raw.copy()\n",
    "mlpp['Kaggle']=(mlpp_raw['Kaggle']/mlpp_raw['Kaggle'].sum()*100).round(2)\n",
    "mlpp['GitHub']=(mlpp_raw['GitHub']/mlpp_raw['GitHub'].sum()*100).round(2)\n",
    "mlpp = mlpp.reindex(order_mlpp)\n",
    "mlpp_raw = mlpp_raw.reindex(order_mlpp)\n",
    "\n",
    "# ml bug distribution for each pipeline\n",
    "nb_mlpp_mlbug_g = df_mlerr_labels_g_sum.groupby(\"label_ML_pipeline\")[\"label_if_ML_bug\"].value_counts().unstack(\"label_if_ML_bug\").T\n",
    "nb_mlpp_mlbug_g.index = nb_mlpp_mlbug_g.index+\"(GitHub)\"\n",
    "nb_mlpp_mlbug_k = df_mlerr_labels_k_sum.groupby(\"label_ML_pipeline\")[\"label_if_ML_bug\"].value_counts().unstack(\"label_if_ML_bug\").T\n",
    "nb_mlpp_mlbug_k.index = nb_mlpp_mlbug_k.index+\"(Kaggle)\"\n",
    "# nb_mlpp_mlbug = pd.concat([nb_mlpp_mlbug_g, nb_mlpp_mlbug_k], axis=0)\n",
    "nb_mlpp_mlbug_g_percent = (nb_mlpp_mlbug_g/nb_mlpp_mlbug_g.sum()).round(4)[order_mlpp]\n",
    "nb_mlpp_mlbug_k_percent = (nb_mlpp_mlbug_k/nb_mlpp_mlbug_k.sum()).round(4)[order_mlpp]"
   ]
  },
  {
   "cell_type": "code",
   "execution_count": 24,
   "id": "5effd1b9",
   "metadata": {},
   "outputs": [
    {
     "data": {
      "image/png": "[encoded data removed]",
      "text/plain": [
       "<Figure size 700x500 with 1 Axes>"
      ]
     },
     "metadata": {},
     "output_type": "display_data"
    }
   ],
   "source": [
    "import numpy as np\n",
    "\n",
    "def plot_mlpp_mlbug(mlpp, mlpp_raw, nb_mlpp_mlbug_g_percent, nb_mlpp_mlbug_k_percent, if_save = False, save_name=\"mlpp_mlbug.pdf\"):\n",
    "    # plot\n",
    "    inds = np.arange(len(mlpp.index))\n",
    "\n",
    "    width = 0.4\n",
    "    fontsize = 16\n",
    "    fig = plt.figure(figsize=(7,5))\n",
    "\n",
    "    weight_count_g = (mlpp[\"GitHub\"] * nb_mlpp_mlbug_g_percent)\n",
    "    weight_count_k = (mlpp[\"Kaggle\"] * nb_mlpp_mlbug_k_percent)\n",
    "\n",
    "    bars_g = []\n",
    "    bars_k = []\n",
    "    for ind in inds:\n",
    "        bottom_g, bottom_k = 0,0\n",
    "        for i in range(max(len(nb_mlpp_mlbug_g_percent.index),len(nb_mlpp_mlbug_k_percent.index))):\n",
    "            wg = weight_count_g[mlpp.index[ind]]\n",
    "            if i < len(wg.index):\n",
    "                bar_g = plt.bar(ind - width / 2, wg.iloc[i], width, alpha=0.8, color = cm_2(i*3+2), edgecolor = 'black',  bottom=bottom_g) \n",
    "                bottom_g += wg.iloc[i]\n",
    "            wk = weight_count_k[mlpp.index[ind]]\n",
    "            if i < len(wk.index):\n",
    "                bar_k = plt.bar(ind + width / 2, wk.iloc[i], width, alpha=0.8, color = cm(i*3+2), edgecolor = 'black',  bottom=bottom_k) \n",
    "                bottom_k += wk.iloc[i]\n",
    "        bars_g.append(bar_g)\n",
    "        bars_k.append(bar_k)\n",
    "\n",
    "    for id_bar in range(len(bars_g)):\n",
    "        bar_g = bars_g[id_bar][0]\n",
    "        bar_k = bars_k[id_bar][0]\n",
    "        adjust_x = .04\n",
    "        if mlpp_raw.GitHub.iloc[id_bar]>99:\n",
    "            adjust_x = .0\n",
    "        plt.text(bar_g.get_x()+adjust_x, mlpp.GitHub.iloc[id_bar]+.08, mlpp_raw.GitHub.iloc[id_bar], fontsize=fontsize-4)\n",
    "        adjust_x = .04\n",
    "        if mlpp_raw.Kaggle.iloc[id_bar]>99:\n",
    "            adjust_x = .0\n",
    "        plt.text(bar_k.get_x()+adjust_x, mlpp.Kaggle.iloc[id_bar]+.08, mlpp_raw.Kaggle.iloc[id_bar], fontsize=fontsize-4)\n",
    "\n",
    "    fig.axes[0].yaxis.set_major_formatter(PercentFormatter(decimals=0))\n",
    "    xticks_labels = [mlpp2abbr[x] for x in mlpp.index]\n",
    "    plt.xticks(inds, xticks_labels, rotation=0, fontsize=fontsize-5)\n",
    "    plt.yticks(fontsize=fontsize-2)\n",
    "\n",
    "    # legend\n",
    "    lgd_colors = [cm_2(i*3+2) for i in range(2)] + [cm(i*3+2) for i in range(2)]\n",
    "    lgd_labels=[\"ML bug (GitHub)\", \"Python bug (GitHub)\", \"ML bug (Kaggle)\", \"Python bug (Kaggle)\"]\n",
    "\n",
    "    # lgnd = plt.legend(lgd_labels, loc=\"upper center\", ncols=2, fontsize=fontsize-5, columnspacing=0.5)\n",
    "    lgnd = plt.legend(lgd_labels, bbox_to_anchor=(0.53, 0.845), loc=\"center\", frameon=True, ncols=1, fontsize=fontsize-5, columnspacing=0.5)\n",
    "\n",
    "    i=0\n",
    "    for handle in lgnd.legend_handles:\n",
    "    #     handle.set_width(11)\n",
    "        handle.set_color(lgd_colors[i])\n",
    "        handle.set_edgecolor(\"black\")\n",
    "        i+=1 \n",
    "\n",
    "    if if_save:\n",
    "        plt.savefig(config.path_default.joinpath(\"{}\".format(save_name)), bbox_inches='tight')\n",
    "    plt.show()\n",
    "    return weight_count_g, weight_count_k\n",
    "    \n",
    "weight_count_g, weight_count_k = plot_mlpp_mlbug(mlpp, mlpp_raw, nb_mlpp_mlbug_g_percent, nb_mlpp_mlbug_k_percent, \n",
    "                                                 if_save = False, save_name=\"mlpp_mlbug1.pdf\")"
   ]
  },
  {
   "cell_type": "code",
   "execution_count": 26,
   "id": "89ffd5bb",
   "metadata": {},
   "outputs": [],
   "source": [
    "# rc distribution for each pipeline\n",
    "\n",
    "nb_mlpp_rc_g = df_mlerr_labels_g_sum.groupby(\"label_ML_pipeline\")[\"label_root_cause\"].value_counts().unstack(\"label_root_cause\").T\n",
    "nb_mlpp_rc_k = df_mlerr_labels_k_sum.groupby(\"label_ML_pipeline\")[\"label_root_cause\"].value_counts().unstack(\"label_root_cause\").T\n",
    "\n",
    "nb_mlpp_rc_g = nb_mlpp_rc_g.fillna(0)\n",
    "nb_mlpp_rc_k = nb_mlpp_rc_k.fillna(0)\n",
    "nb_mlpp_rc = nb_mlpp_rc_g + nb_mlpp_rc_k\n",
    "\n",
    "nb_mlpp_rc_percent = (nb_mlpp_rc/nb_mlpp_rc.sum())[order_mlpp].fillna(0)"
   ]
  },
  {
   "cell_type": "code",
   "execution_count": 27,
   "id": "69708153",
   "metadata": {},
   "outputs": [
    {
     "data": {
      "image/png": "[encoded data removed]",
      "text/plain": [
       "<Figure size 700x300 with 2 Axes>"
      ]
     },
     "metadata": {},
     "output_type": "display_data"
    }
   ],
   "source": [
    "f,(ax1) = plt.subplots(1, 1, figsize=(7, 3))\n",
    "# ax1.get_shared_y_axes().join(ax2)\n",
    "rc_new = [rc2abbr[x] for x in nb_mlpp_rc_percent.index]\n",
    "mlpp_new = [mlpp2abbr[x] for x in nb_mlpp_rc_percent.columns]\n",
    "s = sns.heatmap((nb_mlpp_rc_percent*100).round(0).astype(int).T, fmt = \"d\", cbar_kws={'format': '%d%%'},\n",
    "                annot=True, xticklabels=rc_new, yticklabels=mlpp_new,\n",
    "                cmap=cm_dp,# \"vlag\", \n",
    "                center=0, #vmin=0, vmax=50,\n",
    "                ax=ax1)\n",
    "s.set(xlabel='', ylabel='')\n",
    "# plt.savefig(config.path_default.joinpath('mlpp_rc.pdf'), bbox_inches='tight')\n",
    "plt.show()"
   ]
  }
 ],
 "metadata": {
  "kernelspec": {
   "display_name": "Python 3 (ipykernel)",
   "language": "python",
   "name": "python3"
  },
  "language_info": {
   "codemirror_mode": {
    "name": "ipython",
    "version": 3
   },
   "file_extension": ".py",
   "mimetype": "text/x-python",
   "name": "python",
   "nbconvert_exporter": "python",
   "pygments_lexer": "ipython3",
   "version": "3.11.5"
  }
 },
 "nbformat": 4,
 "nbformat_minor": 5
}
