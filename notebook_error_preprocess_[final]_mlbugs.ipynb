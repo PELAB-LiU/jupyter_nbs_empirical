{
 "cells": [
  {
   "cell_type": "markdown",
   "id": "a976ac74",
   "metadata": {},
   "source": [
    "## Mark ML bugs"
   ]
  },
  {
   "cell_type": "markdown",
   "id": "4b94c86f",
   "metadata": {},
   "source": [
    "We define ML bugs as any bugs that are related to a ML library.\n",
    "\n",
    "The extraction of the linked ML libraries to exceptions or errors are: /exception_to_library_linker\n",
    "\n",
    "The filtered notebooks/errors (Final dataset) can be obtained by: \n",
    "\n",
    "    df_err.is_MLnb&df_err.is_relevant&df_err.if_ast==1.0"
   ]
  },
  {
   "cell_type": "markdown",
   "id": "1f60e92b",
   "metadata": {},
   "source": [
    "### 1. nb errors in Kaggle"
   ]
  },
  {
   "cell_type": "code",
   "execution_count": 52,
   "id": "33a52057",
   "metadata": {},
   "outputs": [],
   "source": [
    "import pandas as pd\n",
    "import json\n",
    "import config, util\n",
    "\n",
    "path_err = config.path_kaggle_error_process.joinpath('nberror_k_eid_p.xlsx')\n",
    "path_exp_libs = config.path_kaggle_error_process.joinpath('links_exceptions_to_libraries.jsonl')\n",
    "df_err = pd.read_excel(path_err)\n",
    "df_err = df_err[df_err.is_MLnb&df_err.is_relevant&df_err.if_ast==1.0]"
   ]
  },
  {
   "cell_type": "code",
   "execution_count": 56,
   "id": "787fc9a3",
   "metadata": {},
   "outputs": [],
   "source": [
    "res_exp_mllib = util.get_exp_mllib(path_exp_libs, df_err)\n",
    "df_exp_mllib = pd.DataFrame(res_exp_mllib.items(), columns=[\"eid\", \"exp_mllib\"])"
   ]
  },
  {
   "cell_type": "code",
   "execution_count": 59,
   "id": "ff0c8f2a",
   "metadata": {},
   "outputs": [],
   "source": [
    "df_err_merged = pd.merge(df_err, df_exp_mllib, on=\"eid\", how=\"left\")\n",
    "df_err_merged = df_err_merged.drop_duplicates(subset='eid', keep=\"first\")"
   ]
  },
  {
   "cell_type": "code",
   "execution_count": 62,
   "id": "ef47fbc1",
   "metadata": {},
   "outputs": [
    {
     "name": "stdout",
     "output_type": "stream",
     "text": [
      "There are 60.20% (1629) notebooks existing ML bugs\n",
      "There are 55.59% (2167) errors are ML bugs\n"
     ]
    }
   ],
   "source": [
    "# percentages on the notebooks (is_MLnb&is_relevant&if_ast)\n",
    "print(\"There are {:.2%} ({}) notebooks existing ML bugs\".format(\n",
    "    df_err_merged[~df_err_merged.exp_mllib.isnull()].fname.nunique()/df_err_merged.fname.nunique(),\n",
    "    df_err_merged[~df_err_merged.exp_mllib.isnull()].fname.nunique()))\n",
    "# percentages on the errors (is_MLnb&is_relevant&if_ast)\n",
    "print(\"There are {:.2%} ({}) errors are ML bugs\".format(\n",
    "    df_err_merged[~df_err_merged.exp_mllib.isnull()].eid.nunique()/df_err_merged.eid.nunique(),\n",
    "    df_err_merged[~df_err_merged.exp_mllib.isnull()].eid.nunique()))"
   ]
  },
  {
   "cell_type": "code",
   "execution_count": 64,
   "id": "b84f873f",
   "metadata": {},
   "outputs": [],
   "source": [
    "# exclude: 'if_ast', 'is_MLnb', 'is_relevant'\n",
    "df_err_merged[['fname', 'eid', 'ename', 'evalue', 'traceback', \n",
    "               'ename_mapped','imports', 'lib_alias',\n",
    "               'exp_mllib','python_version']].to_excel(config.path_kaggle_error_process.joinpath('nberror_k_eid_p_mlbugs.xlsx'), \n",
    "                                                       index=False, engine='xlsxwriter')"
   ]
  },
  {
   "cell_type": "markdown",
   "id": "32e802be",
   "metadata": {},
   "source": [
    "### 2. nb errors in Github"
   ]
  },
  {
   "cell_type": "code",
   "execution_count": 1,
   "id": "a7d9d206",
   "metadata": {},
   "outputs": [],
   "source": [
    "import pandas as pd\n",
    "import json\n",
    "import config\n",
    "\n",
    "path2_err = config.path_github_error_process.joinpath('nberror_g_all_eid_p.xlsx')\n",
    "path_exp_libs = config.path_github_error_process.joinpath('links_exceptions_to_libraries.jsonl')\n",
    "\n",
    "df2_err = pd.read_excel(path2_err)\n",
    "df2_err = df2_err[df2_err.is_MLnb&df2_err.is_relevant&df2_err.if_ast==1.0]"
   ]
  },
  {
   "cell_type": "code",
   "execution_count": null,
   "id": "501a93f3",
   "metadata": {},
   "outputs": [],
   "source": []
  }
 ],
 "metadata": {
  "kernelspec": {
   "display_name": "Python 3 (ipykernel)",
   "language": "python",
   "name": "python3"
  },
  "language_info": {
   "codemirror_mode": {
    "name": "ipython",
    "version": 3
   },
   "file_extension": ".py",
   "mimetype": "text/x-python",
   "name": "python",
   "nbconvert_exporter": "python",
   "pygments_lexer": "ipython3",
   "version": "3.11.5"
  }
 },
 "nbformat": 4,
 "nbformat_minor": 5
}
