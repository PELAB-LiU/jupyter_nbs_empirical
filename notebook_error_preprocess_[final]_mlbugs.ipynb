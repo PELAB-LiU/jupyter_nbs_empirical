{
 "cells": [
  {
   "cell_type": "markdown",
   "id": "a976ac74",
   "metadata": {},
   "source": [
    "## Mark ML bugs"
   ]
  },
  {
   "cell_type": "markdown",
   "id": "4b94c86f",
   "metadata": {},
   "source": [
    "We define ML bugs as any bugs that are related to a ML library.\n",
    "\n",
    "The extraction of the linked ML libraries to exceptions or errors are: /exception_to_library_linker\n",
    "\n",
    "The filtered notebooks/errors (Final dataset) can be obtained by: \n",
    "\n",
    "    df_err.is_MLnb&df_err.is_relevant&df_err.if_ast==1.0"
   ]
  },
  {
   "cell_type": "markdown",
   "id": "1f60e92b",
   "metadata": {},
   "source": [
    "### 1. nb errors in Kaggle"
   ]
  },
  {
   "cell_type": "code",
   "execution_count": 52,
   "id": "33a52057",
   "metadata": {},
   "outputs": [],
   "source": [
    "import pandas as pd\n",
    "import json\n",
    "import config, util\n",
    "\n",
    "path_err = config.path_kaggle_error_process.joinpath('nberror_k_eid_p.xlsx')\n",
    "path_exp_libs = config.path_kaggle_error_process.joinpath('links_exceptions_to_libraries.jsonl')\n",
    "df_err = pd.read_excel(path_err)\n",
    "df_err = df_err[df_err.is_MLnb&df_err.is_relevant&df_err.if_ast==1.0]"
   ]
  },
  {
   "cell_type": "code",
   "execution_count": 56,
   "id": "787fc9a3",
   "metadata": {},
   "outputs": [],
   "source": [
    "res_exp_mllib = util.get_exp_mllib(path_exp_libs, df_err)\n",
    "df_exp_mllib = pd.DataFrame(res_exp_mllib.items(), columns=[\"eid\", \"exp_mllib\"])"
   ]
  },
  {
   "cell_type": "code",
   "execution_count": 59,
   "id": "ff0c8f2a",
   "metadata": {},
   "outputs": [],
   "source": [
    "df_err_merged = pd.merge(df_err, df_exp_mllib, on=\"eid\", how=\"left\")\n",
    "df_err_merged = df_err_merged.drop_duplicates(subset='eid', keep=\"first\")"
   ]
  },
  {
   "cell_type": "code",
   "execution_count": 62,
   "id": "ef47fbc1",
   "metadata": {},
   "outputs": [
    {
     "name": "stdout",
     "output_type": "stream",
     "text": [
      "There are 60.20% (1629) notebooks existing ML bugs\n",
      "There are 55.59% (2167) errors are ML bugs\n"
     ]
    }
   ],
   "source": [
    "# percentages on the notebooks (is_MLnb&is_relevant&if_ast)\n",
    "print(\"There are {:.2%} ({}) notebooks existing ML bugs\".format(\n",
    "    df_err_merged[~df_err_merged.exp_mllib.isnull()].fname.nunique()/df_err_merged.fname.nunique(),\n",
    "    df_err_merged[~df_err_merged.exp_mllib.isnull()].fname.nunique()))\n",
    "# percentages on the errors (is_MLnb&is_relevant&if_ast)\n",
    "print(\"There are {:.2%} ({}) errors are ML bugs\".format(\n",
    "    df_err_merged[~df_err_merged.exp_mllib.isnull()].eid.nunique()/df_err_merged.eid.nunique(),\n",
    "    df_err_merged[~df_err_merged.exp_mllib.isnull()].eid.nunique()))"
   ]
  },
  {
   "cell_type": "code",
   "execution_count": 64,
   "id": "b84f873f",
   "metadata": {},
   "outputs": [],
   "source": [
    "# exclude: 'if_ast', 'is_MLnb', 'is_relevant'\n",
    "df_err_merged[['fname', 'eid', 'ename', 'evalue', 'traceback', \n",
    "               'ename_mapped','imports', 'lib_alias',\n",
    "               'exp_mllib','python_version']].to_excel(config.path_kaggle_error_process.joinpath('nberror_k_eid_p_mlbugs.xlsx'), \n",
    "                                                       index=False, engine='xlsxwriter')"
   ]
  },
  {
   "cell_type": "markdown",
   "id": "32e802be",
   "metadata": {},
   "source": [
    "### 2. nb errors in Github"
   ]
  },
  {
   "cell_type": "code",
   "execution_count": 1,
   "id": "a7d9d206",
   "metadata": {},
   "outputs": [
    {
     "name": "stdout",
     "output_type": "stream",
     "text": [
      "path_default=WindowsPath('C:/Users/yirwa29/Downloads/Dataset-Nb')\n"
     ]
    }
   ],
   "source": [
    "import pandas as pd\n",
    "import json\n",
    "import config, util\n",
    "\n",
    "path2_err = config.path_github_error_process.joinpath('nberror_g_all_eid_p.xlsx')\n",
    "path_exp_libs = config.path_github_error_process.joinpath('links_exceptions_to_libraries.jsonl')\n",
    "\n",
    "df2_err = pd.read_excel(path2_err)\n",
    "df2_err = df2_err[df2_err.is_MLnb&df2_err.is_relevant&df2_err.if_ast==1.0]"
   ]
  },
  {
   "cell_type": "code",
   "execution_count": 3,
   "id": "501a93f3",
   "metadata": {},
   "outputs": [],
   "source": [
    "res_exp_mllib = util.get_exp_mllib(path_exp_libs, df2_err)\n",
    "df_exp_mllib = pd.DataFrame(res_exp_mllib.items(), columns=[\"eid\", \"exp_mllib\"])"
   ]
  },
  {
   "cell_type": "code",
   "execution_count": 4,
   "id": "a464e76a",
   "metadata": {},
   "outputs": [],
   "source": [
    "df_err_merged = pd.merge(df2_err, df_exp_mllib, on=\"eid\", how=\"left\")\n",
    "df_err_merged = df_err_merged.drop_duplicates(subset='eid', keep=\"first\")"
   ]
  },
  {
   "cell_type": "code",
   "execution_count": 5,
   "id": "5cdfd88e",
   "metadata": {},
   "outputs": [
    {
     "name": "stdout",
     "output_type": "stream",
     "text": [
      "There are 14.41% (9620) notebooks existing ML bugs\n",
      "There are 11.94% (11674) errors are ML bugs\n"
     ]
    }
   ],
   "source": [
    "# percentages on the notebooks (is_MLnb&is_relevant&if_ast)\n",
    "print(\"There are {:.2%} ({}) notebooks existing ML bugs\".format(\n",
    "    df_err_merged[~df_err_merged.exp_mllib.isnull()].fname.nunique()/df_err_merged.fname.nunique(),\n",
    "    df_err_merged[~df_err_merged.exp_mllib.isnull()].fname.nunique()))\n",
    "# percentages on the errors (is_MLnb&is_relevant&if_ast)\n",
    "print(\"There are {:.2%} ({}) errors are ML bugs\".format(\n",
    "    df_err_merged[~df_err_merged.exp_mllib.isnull()].eid.nunique()/df_err_merged.eid.nunique(),\n",
    "    df_err_merged[~df_err_merged.exp_mllib.isnull()].eid.nunique()))"
   ]
  },
  {
   "cell_type": "code",
   "execution_count": 15,
   "id": "2537142e",
   "metadata": {},
   "outputs": [
    {
     "name": "stdout",
     "output_type": "stream",
     "text": [
      "8567 0.15230492986541982\n"
     ]
    }
   ],
   "source": [
    "# python 3\n",
    "tmp_py3 = df_err_merged[(df_err_merged.python_version==3) & (~df_err_merged.exp_mllib.isnull())].fname.nunique()\n",
    "print(tmp_py3, tmp_py3/df_err_merged[df_err_merged.python_version==3].fname.nunique())"
   ]
  },
  {
   "cell_type": "code",
   "execution_count": 36,
   "id": "aaf9d9ee",
   "metadata": {},
   "outputs": [
    {
     "name": "stdout",
     "output_type": "stream",
     "text": [
      "00000-1076-in-class-project-1-morning-section.ipynb\n",
      "d132c896-1f66-37d7-b5a4-cd76beccffdf\n",
      "---------------------------------------------------------------------------\n",
      "TypeError                                 Traceback (most recent call last)\n",
      "<ipython-input-8-d37d0ad45829> in <module>()\n",
      "     29 sample_size = data['Count'].sum() #overall total of people born\n",
      "     30 data['proportions'] = data['Count']/sample_size\n",
      "---> 31 data['entropy_calc'] = data['proportions'] * log(data['proportions'], 2)\n",
      "\n",
      "/usr/local/lib/python3.4/dist-packages/pandas/core/series.py in wrapper(self)\n",
      "     78             return converter(self.iloc[0])\n",
      "     79         raise TypeError(\"cannot convert the series to \"\n",
      "---> 80                         \"{0}\".format(str(converter)))\n",
      "     81 \n",
      "     82     return wrapper\n",
      "\n",
      "TypeError: cannot convert the series to <class 'float'>\n"
     ]
    }
   ],
   "source": [
    "tmp_exp = df_err_merged[(df_err_merged.python_version==3) & (df_err_merged.exp_mllib.isnull())].iloc[5]\n",
    "print(tmp_exp.fname)\n",
    "print(tmp_exp.eid)\n",
    "util.print_traceback(tmp_exp.traceback)"
   ]
  },
  {
   "cell_type": "code",
   "execution_count": 38,
   "id": "4c834413",
   "metadata": {},
   "outputs": [
    {
     "name": "stdout",
     "output_type": "stream",
     "text": [
      "00000-1103-ls-ds-213-assignment.ipynb\n",
      "39b9a112-0b00-3d7f-983a-85171a954375\n",
      "---------------------------------------------------------------------------\n",
      "AttributeError                            Traceback (most recent call last)\n",
      "<ipython-input-93-db1fe3d25a3a> in <module>()\n",
      "----> 1 transform_train.sample()\n",
      "\n",
      "AttributeError: 'numpy.ndarray' object has no attribute 'sample'\n"
     ]
    }
   ],
   "source": [
    "tmp_exp = df_err_merged[(df_err_merged.python_version==3) & (df_err_merged.exp_mllib.isnull())].iloc[6]\n",
    "print(tmp_exp.fname)\n",
    "print(tmp_exp.eid)\n",
    "util.print_traceback(tmp_exp.traceback)"
   ]
  },
  {
   "cell_type": "code",
   "execution_count": 16,
   "id": "39a87a18",
   "metadata": {},
   "outputs": [
    {
     "name": "stdout",
     "output_type": "stream",
     "text": [
      "73 0.020088057237204183\n"
     ]
    }
   ],
   "source": [
    "# python 2\n",
    "tmp_py2 = df_err_merged[(df_err_merged.python_version==2) & (~df_err_merged.exp_mllib.isnull())].fname.nunique()\n",
    "print(tmp_py2, tmp_py2/df_err_merged[df_err_merged.python_version==2].fname.nunique())"
   ]
  },
  {
   "cell_type": "code",
   "execution_count": 17,
   "id": "f6b5b88e",
   "metadata": {},
   "outputs": [
    {
     "name": "stdout",
     "output_type": "stream",
     "text": [
      "980 0.14227642276422764\n"
     ]
    }
   ],
   "source": [
    "# python -1 / unknown\n",
    "tmp_pynone = df_err_merged[(df_err_merged.python_version==-1) & (~df_err_merged.exp_mllib.isnull())].fname.nunique()\n",
    "print(tmp_pynone, tmp_pynone/df_err_merged[df_err_merged.python_version==-1].fname.nunique())"
   ]
  }
 ],
 "metadata": {
  "kernelspec": {
   "display_name": "Python 3 (ipykernel)",
   "language": "python",
   "name": "python3"
  },
  "language_info": {
   "codemirror_mode": {
    "name": "ipython",
    "version": 3
   },
   "file_extension": ".py",
   "mimetype": "text/x-python",
   "name": "python",
   "nbconvert_exporter": "python",
   "pygments_lexer": "ipython3",
   "version": "3.11.5"
  }
 },
 "nbformat": 4,
 "nbformat_minor": 5
}
