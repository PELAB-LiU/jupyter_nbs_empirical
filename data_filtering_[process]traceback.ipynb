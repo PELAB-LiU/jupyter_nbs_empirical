{
 "cells": [
  {
   "cell_type": "markdown",
   "id": "c9f1f785",
   "metadata": {},
   "source": [
    "## Parse the traceback column to readable texts"
   ]
  },
  {
   "cell_type": "markdown",
   "id": "1f60e92b",
   "metadata": {},
   "source": [
    "## 1. nb errors in Kaggle"
   ]
  },
  {
   "cell_type": "code",
   "execution_count": null,
   "id": "33a52057",
   "metadata": {},
   "outputs": [
    {
     "name": "stdout",
     "output_type": "stream",
     "text": [
      "path_default=WindowsPath('C:/Users/yirwa29/Downloads/Dataset-Nb')\n"
     ]
    }
   ],
   "source": [
    "import pandas as pd\n",
    "import utils.util as util\n",
    "import utils.config as config\n",
    "\n",
    "path_err = config.path_kaggle_error_process.joinpath('nberror_k_eid_p.xlsx')\n",
    "df_err = pd.read_excel(path_err)"
   ]
  },
  {
   "cell_type": "code",
   "execution_count": 2,
   "id": "bfd41de2",
   "metadata": {
    "scrolled": true
   },
   "outputs": [
    {
     "data": {
      "text/plain": [
       "['\\x1b[0;31m---------------------------------------------------------------------------\\x1b[0m',\n",
       " '\\x1b[0;31mNameError\\x1b[0m                                 Traceback (most recent call last)',\n",
       " '\\x1b[0;32m/tmp/ipykernel_27/1601116064.py\\x1b[0m in \\x1b[0;36m<module>\\x1b[0;34m\\x1b[0m\\n\\x1b[1;32m      1\\x1b[0m \\x1b[0;31m#filter na\\x1b[0m\\x1b[0;34m\\x1b[0m\\x1b[0;34m\\x1b[0m\\x1b[0;34m\\x1b[0m\\x1b[0m\\n\\x1b[0;32m----> 2\\x1b[0;31m \\x1b[0mtest4\\x1b[0m\\x1b[0;34m.\\x1b[0m\\x1b[0mdropna\\x1b[0m\\x1b[0;34m(\\x1b[0m\\x1b[0minplace\\x1b[0m \\x1b[0;34m=\\x1b[0m \\x1b[0;32mTrue\\x1b[0m\\x1b[0;34m,\\x1b[0m \\x1b[0msubset\\x1b[0m \\x1b[0;34m=\\x1b[0m \\x1b[0;34m[\\x1b[0m\\x1b[0;34m\"InvestorsName\"\\x1b[0m\\x1b[0;34m,\\x1b[0m \\x1b[0;34m\"StartupName\"\\x1b[0m\\x1b[0;34m,\\x1b[0m \\x1b[0;34m\"InvestmentType\"\\x1b[0m\\x1b[0;34m]\\x1b[0m\\x1b[0;34m)\\x1b[0m\\x1b[0;34m\\x1b[0m\\x1b[0;34m\\x1b[0m\\x1b[0m\\n\\x1b[0m\\x1b[1;32m      3\\x1b[0m \\x1b[0mtest4\\x1b[0m\\x1b[0;34m.\\x1b[0m\\x1b[0mreset_index\\x1b[0m\\x1b[0;34m(\\x1b[0m\\x1b[0minplace\\x1b[0m \\x1b[0;34m=\\x1b[0m \\x1b[0;32mTrue\\x1b[0m\\x1b[0;34m,\\x1b[0m \\x1b[0mdrop\\x1b[0m \\x1b[0;34m=\\x1b[0m \\x1b[0;32mTrue\\x1b[0m\\x1b[0;34m)\\x1b[0m\\x1b[0;34m\\x1b[0m\\x1b[0;34m\\x1b[0m\\x1b[0m\\n',\n",
       " \"\\x1b[0;31mNameError\\x1b[0m: name 'test4' is not defined\"]"
      ]
     },
     "execution_count": 2,
     "metadata": {},
     "output_type": "execute_result"
    }
   ],
   "source": [
    "# before\n",
    "util.list_traceback(df_err.traceback.iloc[109])"
   ]
  },
  {
   "cell_type": "code",
   "execution_count": 3,
   "id": "5041c2bf",
   "metadata": {},
   "outputs": [],
   "source": [
    "df_err['traceback'] = df_err['traceback'].map(util.parse_traceback)\n",
    "df_err.to_excel(path_err, index=False, engine='xlsxwriter')"
   ]
  },
  {
   "cell_type": "code",
   "execution_count": 4,
   "id": "3dc259ee",
   "metadata": {},
   "outputs": [
    {
     "name": "stdout",
     "output_type": "stream",
     "text": [
      "---------------------------------------------------------------------------\n",
      "NameError                                 Traceback (most recent call last)\n",
      "/tmp/ipykernel_27/1601116064.py in <module>\n",
      "      1 #filter na\n",
      "----> 2 test4.dropna(inplace = True, subset = [\"InvestorsName\", \"StartupName\", \"InvestmentType\"])\n",
      "      3 test4.reset_index(inplace = True, drop = True)\n",
      "\n",
      "NameError: name 'test4' is not defined\n"
     ]
    }
   ],
   "source": [
    "# after\n",
    "util.print_traceback(df_err.traceback.iloc[109])"
   ]
  },
  {
   "cell_type": "markdown",
   "id": "32e802be",
   "metadata": {},
   "source": [
    "### 2. nb errors in Github"
   ]
  },
  {
   "cell_type": "code",
   "execution_count": null,
   "id": "1a4b4583",
   "metadata": {},
   "outputs": [],
   "source": [
    "import pandas as pd\n",
    "import utils.util as util\n",
    "import utils.config as config\n",
    "\n",
    "df2_err = pd.read_excel(config.path_github_error_process.joinpath(\"nberror_g_all_eid_p.xlsx\"))\n",
    "df2_err['traceback'] = df2_err['traceback'].map(util.parse_traceback)\n",
    "df2_err.to_excel(config.path_github_error_process.joinpath(\"nberror_g_all_eid_p.xlsx\"), index=False, engine='xlsxwriter')"
   ]
  },
  {
   "cell_type": "code",
   "execution_count": 6,
   "id": "7f53ec1a",
   "metadata": {},
   "outputs": [
    {
     "name": "stdout",
     "output_type": "stream",
     "text": [
      "---------------------------------------------------------------------------\n",
      "AttributeError                            Traceback (most recent call last)\n",
      "<ipython-input-15-b82b732fff69> in <module>()\n",
      "----> 1 vectors.show()\n",
      "\n",
      "C:\\ProgramData\\Anaconda3\\lib\\site-packages\\scipy\\sparse\\base.py in __getattr__(self, attr)\n",
      "    645             return self.getnnz()\n",
      "    646         else:\n",
      "--> 647             raise AttributeError(attr + \" not found\")\n",
      "    648 \n",
      "    649     def transpose(self, axes=None, copy=False):\n",
      "\n",
      "AttributeError: show not found\n"
     ]
    }
   ],
   "source": [
    "util.print_traceback(df2_err.traceback.iloc[109])"
   ]
  },
  {
   "cell_type": "code",
   "execution_count": null,
   "id": "134411ed",
   "metadata": {},
   "outputs": [],
   "source": []
  }
 ],
 "metadata": {
  "kernelspec": {
   "display_name": "Python 3 (ipykernel)",
   "language": "python",
   "name": "python3"
  },
  "language_info": {
   "codemirror_mode": {
    "name": "ipython",
    "version": 3
   },
   "file_extension": ".py",
   "mimetype": "text/x-python",
   "name": "python",
   "nbconvert_exporter": "python",
   "pygments_lexer": "ipython3",
   "version": "3.11.5"
  }
 },
 "nbformat": 4,
 "nbformat_minor": 5
}
