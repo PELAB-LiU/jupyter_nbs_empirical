{
 "cells": [
  {
   "cell_type": "markdown",
   "id": "1f60e92b",
   "metadata": {},
   "source": [
    "## Process evalues for those evalues are very long(noisy)\n",
    "\n",
    "When clustering valueerror for GitHub error dataset, found that many noise points whose evalues are very long, for example:\n",
    "\n",
    "    \"in user code:\n",
    "\n",
    "        R:\\Work\\Anacond\\lib\\site-packages\\keras\\engine\\training.py:830 train_function  *\n",
    "            return step_function(self, iterator)\n",
    "        R:\\Work\\Anacond\\lib\\site-packages\\keras\\engine\\training.py:813 run_step  *\n",
    "            outputs = model.train_step(data)\n",
    "        R:\\Work\\Anacond\\lib\\site-packages\\keras\\engine\\training.py:771 train_step  *\n",
    "            loss = self.compiled_loss(\n",
    "        R:\\Work\\Anacond\\lib\\site-packages\\keras\\engine\\compile_utils.py:201 __call__  *\n",
    "            loss_value = loss_obj(y_t, y_p, sample_weight=sw)\n",
    "        R:\\Work\\Anacond\\lib\\site-packages\\keras\\losses.py:142 __call__  *\n",
    "            losses = call_fn(y_true, y_pred)\n",
    "        R:\\Work\\Anacond\\lib\\site-packages\\keras\\losses.py:246 call  *\n",
    "            return ag_fn(y_true, y_pred, **self._fn_kwargs)\n",
    "        R:\\Work\\Anacond\\lib\\site-packages\\tensorflow\\python\\util\\dispatch.py:206 wrapper  **\n",
    "            return target(*args, **kwargs)\n",
    "        R:\\Work\\Anacond\\lib\\site-packages\\keras\\losses.py:1742 binary_crossentropy\n",
    "            y_true, y_pred, from_logits=from_logits), axis=-1)\n",
    "        R:\\Work\\Anacond\\lib\\site-packages\\tensorflow\\python\\util\\dispatch.py:206 wrapper\n",
    "            return target(*args, **kwargs)\n",
    "        R:\\Work\\Anacond\\lib\\site-packages\\keras\\backend.py:4988 binary_crossentropy\n",
    "            return tf.compat.v1.nn.sigmoid_cross_entropy_with_logits(labels=target, logits=output)\n",
    "        R:\\Work\\Anacond\\lib\\site-packages\\tensorflow\\python\\util\\dispatch.py:206 wrapper\n",
    "            return target(*args, **kwargs)\n",
    "        R:\\Work\\Anacond\\lib\\site-packages\\tensorflow\\python\\ops\\nn_impl.py:133 sigmoid_cross_entropy_with_logits\n",
    "            (logits.get_shape(), labels.get_shape()))\n",
    "\n",
    "        ValueError: logits and labels must have the same shape ((None, 150, 99) vs (None, 99))\n",
    "    \"\n",
    "where only the last sentence should be there.we want to denoise those evalues in a domain-specific way."
   ]
  },
  {
   "cell_type": "code",
   "execution_count": 1,
   "id": "70f81f27",
   "metadata": {},
   "outputs": [
    {
     "name": "stderr",
     "output_type": "stream",
     "text": [
      "C:\\Users\\yirwa29\\AppData\\Local\\anaconda3\\envs\\chatgpt\\Lib\\site-packages\\tqdm\\auto.py:21: TqdmWarning: IProgress not found. Please update jupyter and ipywidgets. See https://ipywidgets.readthedocs.io/en/stable/user_install.html\n",
      "  from .autonotebook import tqdm as notebook_tqdm\n"
     ]
    }
   ],
   "source": [
    "import pandas as pd \n",
    "import cluster_util\n",
    "\n",
    "path = r\"C:\\Users\\yirwa29\\Downloads\\Dataset-Nb\\nbdata_g_error\\analysis_gerr\"\n",
    "\n",
    "df2_err = pd.read_excel(path + '/nberror_g_all_p6.xlsx')"
   ]
  },
  {
   "cell_type": "code",
   "execution_count": 100,
   "id": "1bc06e64",
   "metadata": {},
   "outputs": [
    {
     "data": {
      "text/plain": [
       "fname         20\n",
       "ename         20\n",
       "evalue        20\n",
       "traceback     20\n",
       "lib            8\n",
       "lib2           3\n",
       "lib_parsed     9\n",
       "dtype: int64"
      ]
     },
     "execution_count": 100,
     "metadata": {},
     "output_type": "execute_result"
    }
   ],
   "source": [
    "import config\n",
    "\n",
    "# already done, but if can do anything more?\n",
    "df2_err[(df2_err['evalue']=='ignored')&~(df2_err['ename'].isin(config.builtin_exps_excluded))].count()"
   ]
  },
  {
   "cell_type": "code",
   "execution_count": 102,
   "id": "ad45eebb",
   "metadata": {},
   "outputs": [],
   "source": [
    "util.get_evalue_ignored_from_traceback_2(df2_err[(df2_err['evalue']=='ignored')&~(df2_err['ename'].isin(config.builtin_exps_excluded))].iloc[1])"
   ]
  },
  {
   "cell_type": "code",
   "execution_count": 75,
   "id": "fabf2f23",
   "metadata": {},
   "outputs": [
    {
     "name": "stdout",
     "output_type": "stream",
     "text": [
      "exception when listing traceback\n"
     ]
    },
    {
     "data": {
      "text/plain": [
       "fname         49\n",
       "ename         49\n",
       "evalue        49\n",
       "traceback     49\n",
       "lib            9\n",
       "lib2           3\n",
       "lib_parsed    10\n",
       "dtype: int64"
      ]
     },
     "execution_count": 75,
     "metadata": {},
     "output_type": "execute_result"
    }
   ],
   "source": [
    "df2_err_ignored = df2_err[df2_err['evalue']=='ignored']\n",
    "for index, row in df2_err_ignored.iterrows():\n",
    "    res = get_evalue_ignored_from_traceback_2(row)\n",
    "    if res!=None:\n",
    "        df2_err.loc[index, \"evalue\"] = res\n",
    "df2_err[df2_err['evalue']=='ignored'].count()"
   ]
  },
  {
   "cell_type": "code",
   "execution_count": 77,
   "id": "0c14dedb",
   "metadata": {},
   "outputs": [
    {
     "data": {
      "text/plain": [
       "fname              00050-551-multi-layer-perceptron-model.ipynb\n",
       "ename                                           libcustomerrors\n",
       "evalue                                                  ignored\n",
       "traceback     ['--------------------------------------------...\n",
       "lib                                                         NaN\n",
       "lib2                                                        NaN\n",
       "lib_parsed                                                  NaN\n",
       "Name: 24413, dtype: object"
      ]
     },
     "execution_count": 77,
     "metadata": {},
     "output_type": "execute_result"
    }
   ],
   "source": [
    "df2_err[(df2_err['evalue']=='ignored')&~(df2_err['ename'].isin(config.builtin_exps_excluded))].iloc[1]"
   ]
  },
  {
   "cell_type": "code",
   "execution_count": 97,
   "id": "d49d14fa",
   "metadata": {},
   "outputs": [
    {
     "ename": "IndexError",
     "evalue": "single positional indexer is out-of-bounds",
     "output_type": "error",
     "traceback": [
      "\u001b[1;31m---------------------------------------------------------------------------\u001b[0m",
      "\u001b[1;31mIndexError\u001b[0m                                Traceback (most recent call last)",
      "Cell \u001b[1;32mIn[97], line 3\u001b[0m\n\u001b[0;32m      1\u001b[0m \u001b[38;5;28;01mimport\u001b[39;00m \u001b[38;5;21;01mutil\u001b[39;00m\n\u001b[1;32m----> 3\u001b[0m util\u001b[38;5;241m.\u001b[39mprint_traceback(df2_err[(df2_err[\u001b[38;5;124m'\u001b[39m\u001b[38;5;124mevalue\u001b[39m\u001b[38;5;124m'\u001b[39m]\u001b[38;5;241m==\u001b[39m\u001b[38;5;124m'\u001b[39m\u001b[38;5;124mignored\u001b[39m\u001b[38;5;124m'\u001b[39m)\u001b[38;5;241m&\u001b[39m\u001b[38;5;241m~\u001b[39m(df2_err[\u001b[38;5;124m'\u001b[39m\u001b[38;5;124mename\u001b[39m\u001b[38;5;124m'\u001b[39m]\u001b[38;5;241m.\u001b[39misin(config\u001b[38;5;241m.\u001b[39mbuiltin_exps_excluded))]\u001b[38;5;241m.\u001b[39miloc[\u001b[38;5;241m20\u001b[39m]\u001b[38;5;241m.\u001b[39mtraceback)\n",
      "File \u001b[1;32m~\\AppData\\Local\\anaconda3\\envs\\chatgpt\\Lib\\site-packages\\pandas\\core\\indexing.py:1192\u001b[0m, in \u001b[0;36m_LocationIndexer.__getitem__\u001b[1;34m(self, key)\u001b[0m\n\u001b[0;32m   1190\u001b[0m maybe_callable \u001b[38;5;241m=\u001b[39m com\u001b[38;5;241m.\u001b[39mapply_if_callable(key, \u001b[38;5;28mself\u001b[39m\u001b[38;5;241m.\u001b[39mobj)\n\u001b[0;32m   1191\u001b[0m maybe_callable \u001b[38;5;241m=\u001b[39m \u001b[38;5;28mself\u001b[39m\u001b[38;5;241m.\u001b[39m_check_deprecated_callable_usage(key, maybe_callable)\n\u001b[1;32m-> 1192\u001b[0m \u001b[38;5;28;01mreturn\u001b[39;00m \u001b[38;5;28mself\u001b[39m\u001b[38;5;241m.\u001b[39m_getitem_axis(maybe_callable, axis\u001b[38;5;241m=\u001b[39maxis)\n",
      "File \u001b[1;32m~\\AppData\\Local\\anaconda3\\envs\\chatgpt\\Lib\\site-packages\\pandas\\core\\indexing.py:1753\u001b[0m, in \u001b[0;36m_iLocIndexer._getitem_axis\u001b[1;34m(self, key, axis)\u001b[0m\n\u001b[0;32m   1750\u001b[0m     \u001b[38;5;28;01mraise\u001b[39;00m \u001b[38;5;167;01mTypeError\u001b[39;00m(\u001b[38;5;124m\"\u001b[39m\u001b[38;5;124mCannot index by location index with a non-integer key\u001b[39m\u001b[38;5;124m\"\u001b[39m)\n\u001b[0;32m   1752\u001b[0m \u001b[38;5;66;03m# validate the location\u001b[39;00m\n\u001b[1;32m-> 1753\u001b[0m \u001b[38;5;28mself\u001b[39m\u001b[38;5;241m.\u001b[39m_validate_integer(key, axis)\n\u001b[0;32m   1755\u001b[0m \u001b[38;5;28;01mreturn\u001b[39;00m \u001b[38;5;28mself\u001b[39m\u001b[38;5;241m.\u001b[39mobj\u001b[38;5;241m.\u001b[39m_ixs(key, axis\u001b[38;5;241m=\u001b[39maxis)\n",
      "File \u001b[1;32m~\\AppData\\Local\\anaconda3\\envs\\chatgpt\\Lib\\site-packages\\pandas\\core\\indexing.py:1686\u001b[0m, in \u001b[0;36m_iLocIndexer._validate_integer\u001b[1;34m(self, key, axis)\u001b[0m\n\u001b[0;32m   1684\u001b[0m len_axis \u001b[38;5;241m=\u001b[39m \u001b[38;5;28mlen\u001b[39m(\u001b[38;5;28mself\u001b[39m\u001b[38;5;241m.\u001b[39mobj\u001b[38;5;241m.\u001b[39m_get_axis(axis))\n\u001b[0;32m   1685\u001b[0m \u001b[38;5;28;01mif\u001b[39;00m key \u001b[38;5;241m>\u001b[39m\u001b[38;5;241m=\u001b[39m len_axis \u001b[38;5;129;01mor\u001b[39;00m key \u001b[38;5;241m<\u001b[39m \u001b[38;5;241m-\u001b[39mlen_axis:\n\u001b[1;32m-> 1686\u001b[0m     \u001b[38;5;28;01mraise\u001b[39;00m \u001b[38;5;167;01mIndexError\u001b[39;00m(\u001b[38;5;124m\"\u001b[39m\u001b[38;5;124msingle positional indexer is out-of-bounds\u001b[39m\u001b[38;5;124m\"\u001b[39m)\n",
      "\u001b[1;31mIndexError\u001b[0m: single positional indexer is out-of-bounds"
     ]
    }
   ],
   "source": [
    "import util\n",
    "\n",
    "util.print_traceback(df2_err[(df2_err['evalue']=='ignored')&~(df2_err['ename'].isin(config.builtin_exps_excluded))].iloc[20].traceback)"
   ]
  },
  {
   "cell_type": "code",
   "execution_count": 5,
   "id": "c1e2a333",
   "metadata": {},
   "outputs": [
    {
     "name": "stdout",
     "output_type": "stream",
     "text": [
      "Extract 0.52% libraries from crash traceback values\n"
     ]
    }
   ],
   "source": [
    "# denoise evalue\n",
    "df_err['evalue'] = df_err['evalue'].apply(util.extract_lib)\n"
   ]
  },
  {
   "cell_type": "code",
   "execution_count": null,
   "id": "19c22009",
   "metadata": {},
   "outputs": [],
   "source": []
  },
  {
   "cell_type": "code",
   "execution_count": null,
   "id": "0f871a57",
   "metadata": {},
   "outputs": [],
   "source": []
  }
 ],
 "metadata": {
  "kernelspec": {
   "display_name": "Python 3 (ipykernel)",
   "language": "python",
   "name": "python3"
  },
  "language_info": {
   "codemirror_mode": {
    "name": "ipython",
    "version": 3
   },
   "file_extension": ".py",
   "mimetype": "text/x-python",
   "name": "python",
   "nbconvert_exporter": "python",
   "pygments_lexer": "ipython3",
   "version": "3.11.5"
  }
 },
 "nbformat": 4,
 "nbformat_minor": 5
}
