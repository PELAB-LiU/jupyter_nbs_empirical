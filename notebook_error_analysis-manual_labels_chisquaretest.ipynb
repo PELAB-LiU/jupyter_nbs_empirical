{
 "cells": [
  {
   "cell_type": "markdown",
   "id": "0d037800",
   "metadata": {},
   "source": [
    "# Notebook error analysis \n",
    "\n",
    "## Manual labels of the sampled errors"
   ]
  },
  {
   "cell_type": "markdown",
   "id": "d1670341",
   "metadata": {},
   "source": [
    "## Chi-square test\n",
    "\n",
    "An often quoted guideline for the validity of this calculation is that the test should be used only if the observed and expected frequencies in each cell are at least 5.\n",
    "\n",
    "    p-value<0.05 -> reject the null hypothesis (there s no difference between the two distributions)-> the two dist are statistically different\n",
    "    p-value>0.05 -> cannot reject the null, not different\n",
    "\n",
    "[scipy.stats.chi2_contingency](https://docs.scipy.org/doc/scipy/reference/generated/scipy.stats.chi2_contingency.html)\n",
    "\n",
    "[Chi-squared_test](https://en.wikipedia.org/wiki/Chi-squared_test)\n",
    "\n",
    "[color map](https://matplotlib.org/stable/users/explain/colors/colormaps.html)"
   ]
  },
  {
   "cell_type": "code",
   "execution_count": 23,
   "id": "0c824705",
   "metadata": {},
   "outputs": [],
   "source": [
    "# import importlib\n",
    "# importlib.reload(visualization_util)\n",
    "# import visualization_util"
   ]
  },
  {
   "cell_type": "code",
   "execution_count": 1,
   "id": "c732a02d",
   "metadata": {},
   "outputs": [
    {
     "name": "stdout",
     "output_type": "stream",
     "text": [
      "path_default=WindowsPath('C:/Users/yirwa29/Downloads/Dataset-Nb')\n"
     ]
    }
   ],
   "source": [
    "import pandas as pd\n",
    "import config\n",
    "import visualization_util\n",
    "\n",
    "# summed config\n",
    "# config\n",
    "df_mlerr_label_config_sum = pd.read_excel(config.path_default.joinpath('data_dedup_cluster/df_err_processed_pregroup_sampled4_config_sum.xlsx'),\n",
    "                                keep_default_na=False)\n",
    "# data\n",
    "df_mlerr_labels_g_sum = pd.read_excel(config.path_default.joinpath('data_dedup_cluster/df_err_processed_pregroup_sampled4_g_sum.xlsx'))\n",
    "df_mlerr_labels_k_sum = pd.read_excel(config.path_default.joinpath('data_dedup_cluster/df_err_processed_pregroup_sampled4_k_sum.xlsx'))"
   ]
  },
  {
   "cell_type": "code",
   "execution_count": 2,
   "id": "304692d9",
   "metadata": {},
   "outputs": [],
   "source": [
    "exclude_config = [\"label_if_error_chain\"] # because it is the same as root cause==nb specific-previous cell error\n",
    "df_mlerr_label_config_sum.drop(exclude_config, axis=1, inplace=True)"
   ]
  },
  {
   "cell_type": "code",
   "execution_count": 3,
   "id": "5d8f2a2d",
   "metadata": {},
   "outputs": [],
   "source": [
    "exclude_other = ['intentional', 'should exclude']\n",
    "exclude_ml_pipeline_sum = ['not applicable','unknown']\n",
    "df_mlerr_labels_g_sum_exed = df_mlerr_labels_g_sum[(~df_mlerr_labels_g_sum.label_ML_pipeline.isin(exclude_ml_pipeline_sum))&(~df_mlerr_labels_g_sum.other.isin(exclude_other))]\n",
    "df_mlerr_labels_k_sum_exed = df_mlerr_labels_k_sum[(~df_mlerr_labels_k_sum.label_ML_pipeline.isin(exclude_ml_pipeline_sum))&(~df_mlerr_labels_k_sum.other.isin(exclude_other))]"
   ]
  },
  {
   "cell_type": "code",
   "execution_count": 4,
   "id": "685f5d16",
   "metadata": {},
   "outputs": [
    {
     "name": "stdout",
     "output_type": "stream",
     "text": [
      "390 291\n",
      "356 321\n"
     ]
    }
   ],
   "source": [
    "# before/after filtering\n",
    "print(df_mlerr_labels_g_sum.eid.nunique(), df_mlerr_labels_g_sum_exed.eid.nunique())\n",
    "print(df_mlerr_labels_k_sum.eid.nunique(), df_mlerr_labels_k_sum_exed.eid.nunique())"
   ]
  },
  {
   "cell_type": "code",
   "execution_count": 24,
   "id": "49a2f1c6",
   "metadata": {},
   "outputs": [
    {
     "name": "stdout",
     "output_type": "stream",
     "text": [
      "\n",
      "label_root_cause\n",
      "Removed number of features due to few(<5) data points: 1 1\n",
      "Chi2ContingencyResult: pvalue is  0.4596177676743869 (Not statistically different)\n",
      "\n",
      "label_ML_pipeline\n",
      "Removed number of features due to few(<5) data points: 1 1\n",
      "Chi2ContingencyResult: pvalue is  0.2732740240108426 (Not statistically different)\n",
      "\n",
      "label_if_ML_bug\n",
      "Removed number of features due to few(<5) data points: 1 1\n",
      "Chi2ContingencyResult: pvalue is  0.0006573781176067545 (Statistically different)\n",
      "\n",
      "label_refined_exp_type\n",
      "Removed number of features due to few(<5) data points: 4 4\n",
      "Chi2ContingencyResult: pvalue is  0.9979644707467282 (Not statistically different)\n",
      "\n",
      "label_if_runinfo_help\n",
      "Removed number of features due to few(<5) data points: 0 0\n",
      "Chi2ContingencyResult: pvalue is  0.033887291967164675 (Statistically different)\n",
      "\n",
      "label_if_code_error_align\n",
      "Removed number of features due to few(<5) data points: 1 1\n",
      "Chi2ContingencyResult: pvalue is  0.7275152831231373 (Not statistically different)\n",
      "\n",
      "other\n",
      "Removed number of features due to few(<5) data points: 2 2\n",
      "Chi2ContingencyResult: pvalue is  0.1146782795333066 (Not statistically different)\n"
     ]
    }
   ],
   "source": [
    "# Summarize the statistics - df_mlerr_labels_sum\n",
    "# github stats\n",
    "cluster_res_g_sum = visualization_util.statistics_labels(df_mlerr_label_config_sum, df_mlerr_labels_g_sum)\n",
    "for label_key in df_mlerr_label_config_sum:\n",
    "    cluster_res_g_sum[label_key] = pd.DataFrame.from_dict(cluster_res_g_sum[label_key]).rename_axis('cluster_id').reset_index()\n",
    "# for all clusters    \n",
    "cluster_res_g_sum_weighted_sum = visualization_util.cal_weighted_sum(df_mlerr_label_config_sum, cluster_res_g_sum)\n",
    "\n",
    "# kaggle stats\n",
    "cluster_res_k_sum = visualization_util.statistics_labels(df_mlerr_label_config_sum, df_mlerr_labels_k_sum)\n",
    "for label_key in df_mlerr_label_config_sum:\n",
    "    cluster_res_k_sum[label_key] = pd.DataFrame.from_dict(cluster_res_k_sum[label_key]).rename_axis('cluster_id').reset_index()\n",
    "cluster_res_k_sum_weighted_sum = visualization_util.cal_weighted_sum(df_mlerr_label_config_sum, cluster_res_k_sum)\n",
    "\n",
    "for label_key in df_mlerr_label_config_sum:\n",
    "    visualization_util.chisquare_test(cluster_res_g_sum_weighted_sum[label_key], cluster_res_k_sum_weighted_sum[label_key], label_key)"
   ]
  },
  {
   "cell_type": "code",
   "execution_count": 27,
   "id": "d0795d84",
   "metadata": {},
   "outputs": [
    {
     "name": "stdout",
     "output_type": "stream",
     "text": [
      "\n",
      "label_root_cause\n",
      "Removed number of features due to few(<5) data points: 2 2\n",
      "Chi2ContingencyResult: pvalue is  0.995350549903933 (Not statistically different)\n",
      "\n",
      "label_ML_pipeline\n",
      "Removed number of features due to few(<5) data points: 2 2\n",
      "Chi2ContingencyResult: pvalue is  0.03596999308750023 (Statistically different)\n",
      "\n",
      "label_if_ML_bug\n",
      "Removed number of features due to few(<5) data points: 1 1\n",
      "Chi2ContingencyResult: pvalue is  0.008555990412985853 (Statistically different)\n",
      "\n",
      "label_refined_exp_type\n",
      "Removed number of features due to few(<5) data points: 5 5\n",
      "Chi2ContingencyResult: pvalue is  0.8513610498818229 (Not statistically different)\n",
      "\n",
      "label_if_runinfo_help\n",
      "Removed number of features due to few(<5) data points: 0 0\n",
      "Chi2ContingencyResult: pvalue is  0.02065055090540317 (Statistically different)\n",
      "\n",
      "label_if_code_error_align\n",
      "Removed number of features due to few(<5) data points: 1 1\n",
      "Chi2ContingencyResult: pvalue is  0.9271097582075327 (Not statistically different)\n",
      "\n",
      "other\n",
      "Removed number of features due to few(<5) data points: 4 4\n",
      "Chi2ContingencyResult: pvalue is  1.0 (Not statistically different)\n"
     ]
    }
   ],
   "source": [
    "# Summarize the statistics - df_mlerr_labels_sum_excluded\n",
    "# github stats\n",
    "cluster_res_g_sum_exed = visualization_util.statistics_labels(df_mlerr_label_config_sum, df_mlerr_labels_g_sum_exed)\n",
    "for label_key in df_mlerr_label_config_sum:\n",
    "    cluster_res_g_sum_exed[label_key] = pd.DataFrame.from_dict(cluster_res_g_sum_exed[label_key]).rename_axis('cluster_id').reset_index()\n",
    "# for all clusters    \n",
    "cluster_res_g_sum_exed_weighted_sum = visualization_util.cal_weighted_sum(df_mlerr_label_config_sum, cluster_res_g_sum_exed)\n",
    "\n",
    "# kaggle stats\n",
    "cluster_res_k_sum_exed = visualization_util.statistics_labels(df_mlerr_label_config_sum, df_mlerr_labels_k_sum_exed)\n",
    "for label_key in df_mlerr_label_config_sum:\n",
    "    cluster_res_k_sum_exed[label_key] = pd.DataFrame.from_dict(cluster_res_k_sum_exed[label_key]).rename_axis('cluster_id').reset_index()\n",
    "cluster_res_k_sum_exed_weighted_sum = visualization_util.cal_weighted_sum(df_mlerr_label_config_sum, cluster_res_k_sum_exed)\n",
    "\n",
    "for label_key in df_mlerr_label_config_sum:\n",
    "    visualization_util.chisquare_test(cluster_res_g_sum_exed_weighted_sum[label_key], cluster_res_k_sum_exed_weighted_sum[label_key], label_key)"
   ]
  },
  {
   "cell_type": "code",
   "execution_count": 30,
   "id": "f46e7314",
   "metadata": {},
   "outputs": [
    {
     "name": "stdout",
     "output_type": "stream",
     "text": [
      "\n",
      "label_root_cause-GitHub\n",
      "Removed number of features due to few(<5) data points: 2 2\n",
      "Chi2ContingencyResult: pvalue is  0.3474588635428433 (Not statistically different)\n",
      "\n",
      "label_root_cause-Kaggle\n",
      "Removed number of features due to few(<5) data points: 1 1\n",
      "Chi2ContingencyResult: pvalue is  0.9928653952841635 (Not statistically different)\n",
      "\n",
      "label_ML_pipeline-GitHub\n",
      "Removed number of features due to few(<5) data points: 2 2\n",
      "Chi2ContingencyResult: pvalue is  0.059500165212591064 (Not statistically different)\n",
      "\n",
      "label_ML_pipeline-Kaggle\n",
      "Removed number of features due to few(<5) data points: 2 2\n",
      "Chi2ContingencyResult: pvalue is  0.9216242609577472 (Not statistically different)\n",
      "\n",
      "label_if_ML_bug-GitHub\n",
      "Removed number of features due to few(<5) data points: 1 1\n",
      "Chi2ContingencyResult: pvalue is  0.3186172623641528 (Not statistically different)\n",
      "\n",
      "label_if_ML_bug-Kaggle\n",
      "Removed number of features due to few(<5) data points: 1 1\n",
      "Chi2ContingencyResult: pvalue is  0.6019274363846382 (Not statistically different)\n",
      "\n",
      "label_refined_exp_type-GitHub\n",
      "Removed number of features due to few(<5) data points: 5 5\n",
      "Chi2ContingencyResult: pvalue is  0.988953447051714 (Not statistically different)\n",
      "\n",
      "label_refined_exp_type-Kaggle\n",
      "Removed number of features due to few(<5) data points: 5 5\n",
      "Chi2ContingencyResult: pvalue is  0.9999903103368054 (Not statistically different)\n",
      "\n",
      "label_if_runinfo_help-GitHub\n",
      "Removed number of features due to few(<5) data points: 0 0\n",
      "Chi2ContingencyResult: pvalue is  0.5823663908553759 (Not statistically different)\n",
      "\n",
      "label_if_runinfo_help-Kaggle\n",
      "Removed number of features due to few(<5) data points: 0 0\n",
      "Chi2ContingencyResult: pvalue is  0.9977194036749615 (Not statistically different)\n",
      "\n",
      "label_if_code_error_align-GitHub\n",
      "Removed number of features due to few(<5) data points: 1 1\n",
      "Chi2ContingencyResult: pvalue is  1.0 (Not statistically different)\n",
      "\n",
      "label_if_code_error_align-Kaggle\n",
      "Removed number of features due to few(<5) data points: 1 1\n",
      "Chi2ContingencyResult: pvalue is  0.8988166849023752 (Not statistically different)\n",
      "\n",
      "other-GitHub\n",
      "Removed number of features due to few(<5) data points: 4 4\n",
      "Chi2ContingencyResult: pvalue is  1.0 (Not statistically different)\n",
      "\n",
      "other-Kaggle\n",
      "Removed number of features due to few(<5) data points: 3 3\n",
      "Chi2ContingencyResult: pvalue is  0.6799729806982775 (Not statistically different)\n"
     ]
    }
   ],
   "source": [
    "# should we exclude the notebooks?\n",
    "\n",
    "# Summarize the statistics - df_mlerr_labels_sum vs. df_mlerr_labels_sum_excluded\n",
    "for label_key in df_mlerr_label_config_sum:\n",
    "    visualization_util.chisquare_test(cluster_res_g_sum_exed_weighted_sum[label_key], cluster_res_g_sum_weighted_sum[label_key], label_key+\"-GitHub\")\n",
    "    visualization_util.chisquare_test(cluster_res_k_sum_exed_weighted_sum[label_key], cluster_res_k_sum_weighted_sum[label_key], label_key+\"-Kaggle\")"
   ]
  },
  {
   "cell_type": "code",
   "execution_count": null,
   "id": "597390b4",
   "metadata": {},
   "outputs": [],
   "source": []
  }
 ],
 "metadata": {
  "kernelspec": {
   "display_name": "Python 3 (ipykernel)",
   "language": "python",
   "name": "python3"
  },
  "language_info": {
   "codemirror_mode": {
    "name": "ipython",
    "version": 3
   },
   "file_extension": ".py",
   "mimetype": "text/x-python",
   "name": "python",
   "nbconvert_exporter": "python",
   "pygments_lexer": "ipython3",
   "version": "3.11.5"
  }
 },
 "nbformat": 4,
 "nbformat_minor": 5
}
