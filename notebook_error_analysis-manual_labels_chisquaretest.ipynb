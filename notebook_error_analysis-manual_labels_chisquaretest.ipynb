{
 "cells": [
  {
   "cell_type": "markdown",
   "id": "0d037800",
   "metadata": {},
   "source": [
    "# Notebook error analysis \n",
    "\n",
    "## Manual labels of the sampled errors"
   ]
  },
  {
   "cell_type": "markdown",
   "id": "d1670341",
   "metadata": {},
   "source": [
    "## Chi-square test\n",
    "\n",
    "An often quoted guideline for the validity of this calculation is that the test should be used only if the observed and expected frequencies in each cell are at least 5.\n",
    "\n",
    "    p-value<0.05 -> reject the null hypothesis (there s no difference between the two distributions)-> the two dist are statistically different\n",
    "    p-value>0.05 -> cannot reject the null, not different\n",
    "\n",
    "[scipy.stats.chi2_contingency](https://docs.scipy.org/doc/scipy/reference/generated/scipy.stats.chi2_contingency.html)\n",
    "\n",
    "[Chi-squared_test](https://en.wikipedia.org/wiki/Chi-squared_test)\n",
    "\n",
    "[color map](https://matplotlib.org/stable/users/explain/colors/colormaps.html)"
   ]
  },
  {
   "cell_type": "code",
   "execution_count": 23,
   "id": "0c824705",
   "metadata": {},
   "outputs": [],
   "source": [
    "# import importlib\n",
    "# importlib.reload(visualization_util)\n",
    "# import visualization_util"
   ]
  },
  {
   "cell_type": "code",
   "execution_count": 1,
   "id": "c732a02d",
   "metadata": {},
   "outputs": [
    {
     "name": "stdout",
     "output_type": "stream",
     "text": [
      "path_default=WindowsPath('C:/Users/yirwa29/Downloads/Dataset-Nb')\n"
     ]
    }
   ],
   "source": [
    "import pandas as pd\n",
    "import config\n",
    "import visualization_util\n",
    "\n",
    "# summed config\n",
    "# config\n",
    "df_mlerr_label_config_sum = pd.read_excel(config.path_default.joinpath('data_dedup_cluster/df_err_processed_pregroup_sampled4_config_sum.xlsx'),\n",
    "                                keep_default_na=False)\n",
    "# data\n",
    "df_mlerr_labels_g_sum = pd.read_excel(config.path_default.joinpath('data_dedup_cluster/df_err_processed_pregroup_sampled4_g_sum.xlsx'))\n",
    "df_mlerr_labels_k_sum = pd.read_excel(config.path_default.joinpath('data_dedup_cluster/df_err_processed_pregroup_sampled4_k_sum.xlsx'))"
   ]
  },
  {
   "cell_type": "code",
   "execution_count": 2,
   "id": "304692d9",
   "metadata": {},
   "outputs": [],
   "source": [
    "exclude_config = [\"label_if_error_chain\"] # because it is the same as root cause==nb specific-previous cell error\n",
    "df_mlerr_label_config_sum.drop(exclude_config, axis=1, inplace=True)"
   ]
  },
  {
   "cell_type": "code",
   "execution_count": 3,
   "id": "5d8f2a2d",
   "metadata": {},
   "outputs": [],
   "source": [
    "exclude_other = ['should exclude']\n",
    "exclude_ml_pipeline_sum = [] #'not applicable','unknown'\n",
    "df_mlerr_labels_g_sum_exed = df_mlerr_labels_g_sum[(~df_mlerr_labels_g_sum.label_ML_pipeline.isin(exclude_ml_pipeline_sum))&(~df_mlerr_labels_g_sum.other.isin(exclude_other))]\n",
    "df_mlerr_labels_k_sum_exed = df_mlerr_labels_k_sum[(~df_mlerr_labels_k_sum.label_ML_pipeline.isin(exclude_ml_pipeline_sum))&(~df_mlerr_labels_k_sum.other.isin(exclude_other))]"
   ]
  },
  {
   "cell_type": "code",
   "execution_count": 4,
   "id": "685f5d16",
   "metadata": {},
   "outputs": [
    {
     "name": "stdout",
     "output_type": "stream",
     "text": [
      "390 389\n",
      "356 354\n"
     ]
    }
   ],
   "source": [
    "# before/after filtering\n",
    "print(df_mlerr_labels_g_sum.eid.nunique(), df_mlerr_labels_g_sum_exed.eid.nunique())\n",
    "print(df_mlerr_labels_k_sum.eid.nunique(), df_mlerr_labels_k_sum_exed.eid.nunique())"
   ]
  },
  {
   "cell_type": "code",
   "execution_count": 5,
   "id": "49a2f1c6",
   "metadata": {},
   "outputs": [],
   "source": [
    "# # Summarize the statistics - df_mlerr_labels_sum\n",
    "# # github stats\n",
    "# cluster_res_g_sum = visualization_util.statistics_labels(df_mlerr_label_config_sum, df_mlerr_labels_g_sum)\n",
    "# for label_key in df_mlerr_label_config_sum:\n",
    "#     cluster_res_g_sum[label_key] = pd.DataFrame.from_dict(cluster_res_g_sum[label_key]).rename_axis('cluster_id').reset_index()\n",
    "# # for all clusters    \n",
    "# cluster_res_g_sum_weighted_sum = visualization_util.cal_weighted_sum(df_mlerr_label_config_sum, cluster_res_g_sum)\n",
    "\n",
    "# # kaggle stats\n",
    "# cluster_res_k_sum = visualization_util.statistics_labels(df_mlerr_label_config_sum, df_mlerr_labels_k_sum)\n",
    "# for label_key in df_mlerr_label_config_sum:\n",
    "#     cluster_res_k_sum[label_key] = pd.DataFrame.from_dict(cluster_res_k_sum[label_key]).rename_axis('cluster_id').reset_index()\n",
    "# cluster_res_k_sum_weighted_sum = visualization_util.cal_weighted_sum(df_mlerr_label_config_sum, cluster_res_k_sum)\n",
    "\n",
    "# for label_key in df_mlerr_label_config_sum:\n",
    "#     visualization_util.chisquare_test(cluster_res_g_sum_weighted_sum[label_key], cluster_res_k_sum_weighted_sum[label_key], label_key)"
   ]
  },
  {
   "cell_type": "code",
   "execution_count": 5,
   "id": "d0795d84",
   "metadata": {},
   "outputs": [
    {
     "name": "stdout",
     "output_type": "stream",
     "text": [
      "\n",
      "label_root_cause\n",
      "Removed number of features due to few(<5) data points: 1 1\n",
      "Chi2ContingencyResult: pvalue is  0.8903183509967174 (Not statistically different)\n",
      "\n",
      "label_ML_pipeline\n",
      "Removed number of features due to few(<5) data points: 0 0\n",
      "Chi2ContingencyResult: pvalue is  0.2999021920694616 (Not statistically different)\n",
      "\n",
      "label_if_ML_bug\n",
      "Removed number of features due to few(<5) data points: 1 1\n",
      "Chi2ContingencyResult: pvalue is  0.0006922742319700213 (Statistically different)\n",
      "\n",
      "label_refined_exp_type\n",
      "Removed number of features due to few(<5) data points: 4 4\n",
      "Chi2ContingencyResult: pvalue is  0.9965437390911309 (Not statistically different)\n",
      "\n",
      "label_if_runinfo_help\n",
      "Removed number of features due to few(<5) data points: 0 0\n",
      "Chi2ContingencyResult: pvalue is  0.031809886984527844 (Statistically different)\n",
      "\n",
      "label_if_code_error_align\n",
      "Removed number of features due to few(<5) data points: 1 1\n",
      "Chi2ContingencyResult: pvalue is  0.7260226701460115 (Not statistically different)\n",
      "\n",
      "other\n",
      "Removed number of features due to few(<5) data points: 2 2\n",
      "Chi2ContingencyResult: pvalue is  0.1940304050606835 (Not statistically different)\n"
     ]
    }
   ],
   "source": [
    "# Summarize the statistics - df_mlerr_labels_sum_excluded\n",
    "# github stats\n",
    "cluster_res_g_sum_exed = visualization_util.statistics_labels(df_mlerr_label_config_sum, df_mlerr_labels_g_sum_exed)\n",
    "for label_key in df_mlerr_label_config_sum:\n",
    "    cluster_res_g_sum_exed[label_key] = pd.DataFrame.from_dict(cluster_res_g_sum_exed[label_key]).rename_axis('cluster_id').reset_index()\n",
    "# for all clusters    \n",
    "cluster_res_g_sum_exed_weighted_sum = visualization_util.cal_weighted_sum(df_mlerr_label_config_sum, cluster_res_g_sum_exed)\n",
    "\n",
    "# kaggle stats\n",
    "cluster_res_k_sum_exed = visualization_util.statistics_labels(df_mlerr_label_config_sum, df_mlerr_labels_k_sum_exed)\n",
    "for label_key in df_mlerr_label_config_sum:\n",
    "    cluster_res_k_sum_exed[label_key] = pd.DataFrame.from_dict(cluster_res_k_sum_exed[label_key]).rename_axis('cluster_id').reset_index()\n",
    "cluster_res_k_sum_exed_weighted_sum = visualization_util.cal_weighted_sum(df_mlerr_label_config_sum, cluster_res_k_sum_exed)\n",
    "\n",
    "for label_key in df_mlerr_label_config_sum:\n",
    "    visualization_util.chisquare_test(cluster_res_g_sum_exed_weighted_sum[label_key], cluster_res_k_sum_exed_weighted_sum[label_key], label_key)"
   ]
  },
  {
   "cell_type": "code",
   "execution_count": 7,
   "id": "f46e7314",
   "metadata": {},
   "outputs": [],
   "source": [
    "# # should we exclude the notebooks?\n",
    "\n",
    "# # Summarize the statistics - df_mlerr_labels_sum vs. df_mlerr_labels_sum_excluded\n",
    "# for label_key in df_mlerr_label_config_sum:\n",
    "#     visualization_util.chisquare_test(cluster_res_g_sum_exed_weighted_sum[label_key], cluster_res_g_sum_weighted_sum[label_key], label_key+\"-GitHub\")\n",
    "#     visualization_util.chisquare_test(cluster_res_k_sum_exed_weighted_sum[label_key], cluster_res_k_sum_weighted_sum[label_key], label_key+\"-Kaggle\")"
   ]
  },
  {
   "cell_type": "code",
   "execution_count": null,
   "id": "597390b4",
   "metadata": {},
   "outputs": [],
   "source": []
  }
 ],
 "metadata": {
  "kernelspec": {
   "display_name": "Python 3 (ipykernel)",
   "language": "python",
   "name": "python3"
  },
  "language_info": {
   "codemirror_mode": {
    "name": "ipython",
    "version": 3
   },
   "file_extension": ".py",
   "mimetype": "text/x-python",
   "name": "python",
   "nbconvert_exporter": "python",
   "pygments_lexer": "ipython3",
   "version": "3.11.5"
  }
 },
 "nbformat": 4,
 "nbformat_minor": 5
}
