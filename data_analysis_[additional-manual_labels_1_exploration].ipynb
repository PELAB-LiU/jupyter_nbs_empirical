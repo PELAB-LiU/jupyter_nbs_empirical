{
 "cells": [
  {
   "cell_type": "code",
   "execution_count": 35,
   "id": "0c824705",
   "metadata": {},
   "outputs": [
    {
     "name": "stdout",
     "output_type": "stream",
     "text": [
      "path_default=WindowsPath('C:/Users/yirwa29/Downloads/data_jupyter_nbs_empirical')\n"
     ]
    }
   ],
   "source": [
    "# import importlib\n",
    "# importlib.reload(config)\n",
    "# import utils.config as config"
   ]
  },
  {
   "cell_type": "markdown",
   "id": "816896bc",
   "metadata": {},
   "source": [
    "# Exploration"
   ]
  },
  {
   "cell_type": "code",
   "execution_count": 1,
   "id": "2b3507e2",
   "metadata": {},
   "outputs": [
    {
     "name": "stdout",
     "output_type": "stream",
     "text": [
      "path_default=WindowsPath('C:/Users/yirwa29/Downloads/data_jupyter_nbs_empirical')\n"
     ]
    }
   ],
   "source": [
    "import pandas as pd\n",
    "import utils.config as config\n",
    "\n",
    "# data and config\n",
    "df_mlerr_label_config = pd.read_excel(config.path_default.joinpath('Manual_labeing/cluster_sampled_labeled_config.xlsx'), keep_default_na=False)\n",
    "df_mlerr_labels = pd.read_excel(config.path_default.joinpath('Manual_labeing/cluster_sampled_labeled_processed.xlsx'))"
   ]
  },
  {
   "cell_type": "code",
   "execution_count": 2,
   "id": "ea8847e2",
   "metadata": {
    "scrolled": true
   },
   "outputs": [
    {
     "data": {
      "text/plain": [
       "label_refined_exp_type\n",
       "variable not found                                    133\n",
       "wrong arguments to API                                 73\n",
       "module not found                                       60\n",
       "filenotfounderror                                      56\n",
       "attributeerror                                         52\n",
       "keyerror                                               49\n",
       "tensor shape mismatch                                  41\n",
       "valueerror - data value violation                      26\n",
       "function not found                                     22\n",
       "cast exception                                         21\n",
       "valueerror - data range mismatch                       19\n",
       "indexerror-1d                                          18\n",
       "out of memory (OOM)                                    16\n",
       "typeerror                                              15\n",
       "requesterror                                           13\n",
       "unsupported broadcast                                  12\n",
       "runtimeerror                                           11\n",
       "indexerror-nd                                          11\n",
       "importerror                                             9\n",
       "valueerror - feature name mismatch                      9\n",
       "unsupported file type (read file)                       8\n",
       "syntaxerror                                             7\n",
       "environment setup                                       7\n",
       "typeerror-notcallable                                   6\n",
       "typeerror-op                                            6\n",
       "class not found                                         6\n",
       "initialization error (call mul-times, wrong order)      5\n",
       "typeerror-notsubscriptable                              5\n",
       "typeerror-notiterable                                   5\n",
       "file permission                                         4\n",
       "typeerror-unhashable                                    3\n",
       "valueerror                                              3\n",
       "zerodivisionerror                                       2\n",
       "assertionerror                                          2\n",
       "fileexistserror                                         2\n",
       "notfounderror                                           1\n",
       "unknown                                                 1\n",
       "indentationerror                                        1\n",
       "systemerror                                             1\n",
       "nameerror                                               1\n",
       "out of space (disk)                                     1\n",
       "executablenotfound                                      1\n",
       "incompleteparseerror                                    1\n",
       "jsondecodeerror                                         1\n",
       "Name: count, dtype: int64"
      ]
     },
     "execution_count": 2,
     "metadata": {},
     "output_type": "execute_result"
    }
   ],
   "source": [
    "df_mlerr_labels.label_refined_exp_type.value_counts()"
   ]
  },
  {
   "cell_type": "code",
   "execution_count": 3,
   "id": "4524da0c",
   "metadata": {
    "scrolled": true
   },
   "outputs": [
    {
     "data": {
      "text/plain": [
       "label_root_cause\n",
       "misunderstanding of data structure         123\n",
       "misunderstanding of APIs                   107\n",
       "nb specific - execution order               91\n",
       "wrong implementation                        58\n",
       "file/path not found or exist                53\n",
       "nb specific - previous cell error           48\n",
       "undefined variable                          42\n",
       "invalid argument                            42\n",
       "module not installed                        31\n",
       "unknown                                     29\n",
       "settings(permission, environment)           22\n",
       "insufficient resources                      17\n",
       "misunderstanding of ML model                17\n",
       "typo                                        12\n",
       "external control (window closed)             8\n",
       "library versions incompatible                8\n",
       "undefined function                           7\n",
       "misunderstanding of libraries                7\n",
       "API change                                   7\n",
       "did not import                               6\n",
       "nb specific - need execute future cells      6\n",
       "change of environment                        3\n",
       "error inside library                         2\n",
       "Name: count, dtype: int64"
      ]
     },
     "execution_count": 3,
     "metadata": {},
     "output_type": "execute_result"
    }
   ],
   "source": [
    "df_mlerr_labels.label_root_cause.value_counts()"
   ]
  },
  {
   "cell_type": "code",
   "execution_count": 41,
   "id": "941c3374",
   "metadata": {},
   "outputs": [],
   "source": [
    "# summed data and config\n",
    "df_mlerr_label_config_sum = pd.read_excel(config.path_default.joinpath('Manual_labeing/cluster_sampled_labeled_config_sum.xlsx'), keep_default_na=False)\n",
    "df_mlerr_labels_sum = pd.read_excel(config.path_default.joinpath('Manual_labeing/cluster_sampled_labeled_sum.xlsx'))"
   ]
  },
  {
   "cell_type": "code",
   "execution_count": 42,
   "id": "fd54dd28",
   "metadata": {
    "scrolled": true
   },
   "outputs": [
    {
     "data": {
      "text/plain": [
       "label_refined_exp_type\n",
       "variable not found            133\n",
       "invalid argument               73\n",
       "io error                       72\n",
       "module not found               60\n",
       "attribute error                52\n",
       "key error                      50\n",
       "value error                    43\n",
       "tensor shape mismatch          41\n",
       "type error                     40\n",
       "name error                     29\n",
       "index error                    29\n",
       "data value violation           26\n",
       "OOM                            16\n",
       "other                          16\n",
       "environment error              16\n",
       "request error                  13\n",
       "unsupported broadcast          12\n",
       "runtime error                  11\n",
       "feature name mismatch           9\n",
       "model initialization error      5\n",
       "Name: count, dtype: int64"
      ]
     },
     "execution_count": 42,
     "metadata": {},
     "output_type": "execute_result"
    }
   ],
   "source": [
    "df_mlerr_labels_sum.label_refined_exp_type.value_counts()"
   ]
  },
  {
   "cell_type": "code",
   "execution_count": 43,
   "id": "37343138",
   "metadata": {},
   "outputs": [
    {
     "data": {
      "text/plain": [
       "label_root_cause\n",
       "API misuse               156\n",
       "NB specific              145\n",
       "implementation error     125\n",
       "environment setting      125\n",
       "data confusion           123\n",
       "unknown                   29\n",
       "insufficient resource     17\n",
       "ML model confusion        17\n",
       "library cause              9\n",
       "Name: count, dtype: int64"
      ]
     },
     "execution_count": 43,
     "metadata": {},
     "output_type": "execute_result"
    }
   ],
   "source": [
    "df_mlerr_labels_sum.label_root_cause.value_counts()"
   ]
  },
  {
   "cell_type": "markdown",
   "id": "04e0e896",
   "metadata": {},
   "source": [
    "### Extra: errors specific to ML bugs"
   ]
  },
  {
   "cell_type": "code",
   "execution_count": 8,
   "id": "4304ea9b",
   "metadata": {},
   "outputs": [],
   "source": [
    "df_mlerr_labels_g = df_mlerr_labels[df_mlerr_labels[\"nb_source\"]==config.NB_SOURCE[\"github\"]].reset_index(drop=True)\n",
    "df_mlerr_labels_k = df_mlerr_labels[df_mlerr_labels[\"nb_source\"]==config.NB_SOURCE[\"kaggle\"]].reset_index(drop=True)"
   ]
  },
  {
   "cell_type": "code",
   "execution_count": 15,
   "id": "0447aaf4",
   "metadata": {},
   "outputs": [],
   "source": [
    "def unique_to_target(check_label = \"label_refined_exp_type\", \n",
    "                     target_label = \"label_if_ML_bug\", \n",
    "                     target_values = config.label_if_ML_bug[\"ML bug\"]):\n",
    "    print(\"Unique labels of {} to {}={}: \\n\".format(check_label, target_label, target_values))\n",
    "#     set_unique = ((set(df_mlerr_labels[df_mlerr_labels[target_label].isin(target_values)][check_label].unique()) - \n",
    "#                   set(df_mlerr_labels[~df_mlerr_labels[target_label].isin(target_values)][check_label].unique())))\n",
    "    set_unique = ((set(df_mlerr_labels_g[df_mlerr_labels_g[target_label].isin(target_values)][check_label].unique()) - \n",
    "                  set(df_mlerr_labels_g[~df_mlerr_labels_g[target_label].isin(target_values)][check_label].unique())) &\n",
    "                  (set(df_mlerr_labels_k[df_mlerr_labels_k[target_label].isin(target_values)][check_label].unique()) - \n",
    "                   set(df_mlerr_labels_k[~df_mlerr_labels_k[target_label].isin(target_values)][check_label].unique())))\n",
    "    print(*set_unique, sep='\\n')\n",
    "#     return set_unique"
   ]
  },
  {
   "cell_type": "code",
   "execution_count": 16,
   "id": "196ebf84",
   "metadata": {},
   "outputs": [
    {
     "name": "stdout",
     "output_type": "stream",
     "text": [
      "Unique labels of label_refined_exp_type to label_if_ML_bug=['ML/data science library related (ML imports, error raised by library)']: \n",
      "\n",
      "tensor shape mismatch\n",
      "typeerror-unhashable\n",
      "valueerror - data value violation\n",
      "initialization error (call mul-times, wrong order)\n",
      "out of memory (OOM)\n",
      "valueerror - feature name mismatch\n",
      "unsupported broadcast\n"
     ]
    }
   ],
   "source": [
    "unique_to_target(check_label=\"label_refined_exp_type\")"
   ]
  },
  {
   "cell_type": "code",
   "execution_count": 21,
   "id": "6c4bf796",
   "metadata": {
    "scrolled": true
   },
   "outputs": [
    {
     "name": "stdout",
     "output_type": "stream",
     "text": [
      "Unique labels of label_root_cause to label_if_ML_bug=['ML/data science library related (ML imports, error raised by library)']: \n",
      "\n",
      "insufficient resources\n",
      "misunderstanding of ML model\n"
     ]
    }
   ],
   "source": [
    "unique_to_target(check_label=\"label_root_cause\")"
   ]
  },
  {
   "cell_type": "code",
   "execution_count": null,
   "id": "a47ca225",
   "metadata": {},
   "outputs": [],
   "source": []
  }
 ],
 "metadata": {
  "kernelspec": {
   "display_name": "Python 3 (ipykernel)",
   "language": "python",
   "name": "python3"
  },
  "language_info": {
   "codemirror_mode": {
    "name": "ipython",
    "version": 3
   },
   "file_extension": ".py",
   "mimetype": "text/x-python",
   "name": "python",
   "nbconvert_exporter": "python",
   "pygments_lexer": "ipython3",
   "version": "3.11.5"
  }
 },
 "nbformat": 4,
 "nbformat_minor": 5
}
