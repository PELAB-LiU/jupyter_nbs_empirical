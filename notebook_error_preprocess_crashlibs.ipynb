{
 "cells": [
  {
   "cell_type": "markdown",
   "id": "a976ac74",
   "metadata": {},
   "source": [
    "## Extract crash libraries from traceback"
   ]
  },
  {
   "cell_type": "markdown",
   "id": "4b94c86f",
   "metadata": {},
   "source": [
    "#### crash inside a library: util.extract_lib\n",
    "\n",
    "#### rules for extracting related libs from error information: util.extract_lib_2\n",
    " \n",
    "    2. compile a list of popular libraries used in data science and ML\n",
    "        1. if library name is in error value. e.g., \n",
    "            TypeError: 'numpy.float64' object is not callable\n",
    "            AttributeError: module 'torchvision.transforms.v2' has no attribute 'CutMix'\n",
    "        2. for pattern \"----> line_number xx.yy\", check if xx is alias of an import library\n",
    "        ??? 3. similarly, for yy, can check if the property name is from a library. Do not know how.\n",
    "        4. for some type errors and attribute errors, where to check the object name is from which library.\n",
    "            AttributeError: 'Sequential' object has no attribute 'predict_classes'\n",
    "            TypeError: 'AxesSubplot' object is not subscriptable\n",
    "        ??? 5. for ValueError, certain keywords in error values indicates library names\n",
    "            broadcast, array, shape -> numpy"
   ]
  },
  {
   "cell_type": "markdown",
   "id": "1f60e92b",
   "metadata": {},
   "source": [
    "### 1. nb errors in Kaggle"
   ]
  },
  {
   "cell_type": "code",
   "execution_count": 3,
   "id": "33a52057",
   "metadata": {},
   "outputs": [],
   "source": [
    "import pandas as pd\n",
    "import util\n",
    "import config\n",
    "\n",
    "path_err = config.path_kaggle_error_process.joinpath('nberror_k_p.xlsx')"
   ]
  },
  {
   "cell_type": "code",
   "execution_count": null,
   "id": "cc961036",
   "metadata": {},
   "outputs": [],
   "source": [
    "### Simply parse libraries from crash line from traceback"
   ]
  },
  {
   "cell_type": "code",
   "execution_count": 4,
   "id": "d31d9ce8",
   "metadata": {},
   "outputs": [],
   "source": [
    "df_err = pd.read_excel(path_err)"
   ]
  },
  {
   "cell_type": "code",
   "execution_count": 5,
   "id": "c1e2a333",
   "metadata": {},
   "outputs": [
    {
     "name": "stdout",
     "output_type": "stream",
     "text": [
      "Extract 0.52% libraries from crash traceback values\n"
     ]
    }
   ],
   "source": [
    "df_err['lib'] = df_err['traceback'].apply(util.extract_lib)\n",
    "print(\"Extract {0:2.2f}% libraries from crash traceback values\".format(100*\n",
    "    (len(df_err)-len(df_err[df_err['lib'].isnull()]))/len(df_err)))\n",
    "df_output_path = config.path_kaggle_error_process.joinpath(\"nberror_k_p3.xlsx\")\n",
    "df_err.to_excel(df_output_path, index=False, engine='xlsxwriter')"
   ]
  },
  {
   "cell_type": "code",
   "execution_count": null,
   "id": "19c22009",
   "metadata": {},
   "outputs": [],
   "source": [
    "# again\n",
    "\n",
    "import pandas as pd\n",
    "import pickle\n",
    "import util\n",
    "\n",
    "path_err_nbs = config.path_kaggle_error_process\n",
    "df_err = pd.read_excel(path_err_nbs.joinpath('nberror_k_p3.xlsx'))\n",
    "df_imports = pd.read_excel(path_err_nbs.joinpath('imports_all_info.xlsx'))\n",
    "\n",
    "df_err[\"lib2\"] = df_err.apply(util.extract_lib_2, lib_names=config.top_lib_names, df_imports=df_imports, lib_classes_dict=lib_classes_dict, axis=1)\n",
    "\n",
    "1-len(df_err[df_err.lib.isnull()&df_err.lib2.isnull()])/len(df_err)"
   ]
  },
  {
   "cell_type": "code",
   "execution_count": null,
   "id": "e2192255",
   "metadata": {},
   "outputs": [],
   "source": [
    "df_err[\"lib_parsed\"] = df_err[\"lib2\"].fillna(df_err[\"lib\"]).map(util.simple_lib_parser)\n",
    "xl_out_path = path_err_nbs.joinpath(\"nberror_k_all_p3_lib_parsed.xlsx\")\n",
    "df_err.to_excel(xl_out_path, index=False, engine='xlsxwriter')"
   ]
  },
  {
   "cell_type": "code",
   "execution_count": null,
   "id": "ef47fbc1",
   "metadata": {},
   "outputs": [],
   "source": [
    "# percentages on the whole dataset\n",
    "\n",
    "# percentages on the filtered dataset (is_MLnb&is_relevant)\n"
   ]
  },
  {
   "cell_type": "markdown",
   "id": "32e802be",
   "metadata": {},
   "source": [
    "### 2. nb errors in Github"
   ]
  },
  {
   "cell_type": "code",
   "execution_count": 1,
   "id": "a7d9d206",
   "metadata": {},
   "outputs": [],
   "source": [
    "import pandas as pd\n",
    "import util\n",
    "import config\n",
    "\n",
    "path = config.path_github_error_process.joinpath('nberror_g_all_p.xlsx')\n",
    "df2_err = pd.read_excel(path)"
   ]
  },
  {
   "cell_type": "code",
   "execution_count": 5,
   "id": "9097e925",
   "metadata": {},
   "outputs": [],
   "source": [
    "df2_err['lib'] = df2_err['traceback'].apply(util.extract_lib)"
   ]
  },
  {
   "cell_type": "code",
   "execution_count": 23,
   "id": "ba84bdc4",
   "metadata": {},
   "outputs": [
    {
     "name": "stdout",
     "output_type": "stream",
     "text": [
      "Extract 0.35% libraries from crash traceback values\n"
     ]
    }
   ],
   "source": [
    "print(\"Extract {0:2.2f}% libraries from crash traceback values\".format(\n",
    "    (len(df2_err)-len(df2_err[df2_err['lib'].isnull()]))/len(df2_err)))"
   ]
  },
  {
   "cell_type": "code",
   "execution_count": null,
   "id": "78f39fc4",
   "metadata": {},
   "outputs": [],
   "source": [
    "# lib2 parsing config\n",
    "import pickle\n",
    "import config\n",
    "\n",
    "#config.top_lib_names\n",
    "with open('lib_classes.pickle', 'rb') as f:\n",
    "    lib_classes_dict = pickle.load(f)"
   ]
  },
  {
   "cell_type": "code",
   "execution_count": null,
   "id": "8ccdcce5",
   "metadata": {},
   "outputs": [],
   "source": [
    "path_err_nbs = config.path_github_error_process\n",
    "df_input_path = path_err_nbs.joinpath(\"imports_all_info.xlsx\")\n",
    "df2_err[\"lib2\"] = df2_err.apply(util.extract_lib_2, lib_names=config.top_lib_names, df_imports=df_imports, lib_classes_dict=lib_classes_dict, axis=1)"
   ]
  },
  {
   "cell_type": "code",
   "execution_count": null,
   "id": "1ef5df53",
   "metadata": {},
   "outputs": [],
   "source": [
    "df2_err[\"lib_parsed\"] = df2_err[\"lib2\"].fillna(df2_err[\"lib\"]).map(util.simple_lib_parser)\n",
    "df_output_path = path_err_nbs.joinpath(\"nberror_g_all_p4_exception_types_lib_parsed.xlsx\")\n",
    "df2_err.to_excel(df_output_path, index=False, engine='xlsxwriter')\n",
    "sum(~df2_err[\"lib_parsed\"].isna())/len(df2_err)"
   ]
  },
  {
   "cell_type": "code",
   "execution_count": null,
   "id": "260bcb4c",
   "metadata": {},
   "outputs": [],
   "source": [
    "# percentages on the whole dataset\n",
    "\n",
    "# percentages on the filtered dataset (is_MLnb&is_relevant)\n"
   ]
  },
  {
   "cell_type": "code",
   "execution_count": null,
   "id": "5f400c17",
   "metadata": {},
   "outputs": [],
   "source": []
  },
  {
   "cell_type": "code",
   "execution_count": 25,
   "id": "03759a15",
   "metadata": {},
   "outputs": [],
   "source": [
    "\n",
    "df_output_path = config.path_github_error_process.joinpath('nberror_g_all_p4.xlsx')\n",
    "df2_err.to_excel(df_output_path, index=False, engine='xlsxwriter')"
   ]
  },
  {
   "cell_type": "code",
   "execution_count": null,
   "id": "0f871a57",
   "metadata": {},
   "outputs": [],
   "source": []
  }
 ],
 "metadata": {
  "kernelspec": {
   "display_name": "Python 3 (ipykernel)",
   "language": "python",
   "name": "python3"
  },
  "language_info": {
   "codemirror_mode": {
    "name": "ipython",
    "version": 3
   },
   "file_extension": ".py",
   "mimetype": "text/x-python",
   "name": "python",
   "nbconvert_exporter": "python",
   "pygments_lexer": "ipython3",
   "version": "3.11.5"
  }
 },
 "nbformat": 4,
 "nbformat_minor": 5
}
