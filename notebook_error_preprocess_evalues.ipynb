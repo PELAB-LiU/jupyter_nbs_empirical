{
 "cells": [
  {
   "cell_type": "markdown",
   "id": "f6c402f5",
   "metadata": {},
   "source": [
    "## Extract and parse meaningful evalues for those with ignored, null, or noisy evalues\n",
    "\n",
    "Ignored evalue example:\n",
    "\n",
    "    fname                             00000-1828-homework1-1.ipynb\n",
    "    ename                                                NameError\n",
    "    evalue                                                 ignored\n",
    "    traceback    ['---------------------------------------------------------------------------', 'NameError                                 Traceback (most recent call last)', '<ipython-input-8-287bf352fb78> in <module>()\\n      3 c1= nd.norm(nd.dot(A, B))\\n      4 c= mx.ndarray.power(c1,2)\\n----> 5 tic= time.time()\\n      6 print(time.time() - tic)\\n      7 \\n', \"NameError: name 'time' is not defined\"]\n",
    "\n",
    "\n",
    "Noisy evalue example:\n",
    "\n",
    "When clustering valueerror for GitHub error dataset, found that many noise points whose evalues are very long, for example:\n",
    "\n",
    "    \"in user code:\n",
    "\n",
    "        R:\\Work\\Anacond\\lib\\site-packages\\keras\\engine\\training.py:830 train_function  *\n",
    "            return step_function(self, iterator)\n",
    "        R:\\Work\\Anacond\\lib\\site-packages\\keras\\engine\\training.py:813 run_step  *\n",
    "            outputs = model.train_step(data)\n",
    "        R:\\Work\\Anacond\\lib\\site-packages\\keras\\engine\\training.py:771 train_step  *\n",
    "            loss = self.compiled_loss(\n",
    "        R:\\Work\\Anacond\\lib\\site-packages\\keras\\engine\\compile_utils.py:201 __call__  *\n",
    "            loss_value = loss_obj(y_t, y_p, sample_weight=sw)\n",
    "        R:\\Work\\Anacond\\lib\\site-packages\\keras\\losses.py:142 __call__  *\n",
    "            losses = call_fn(y_true, y_pred)\n",
    "        R:\\Work\\Anacond\\lib\\site-packages\\keras\\losses.py:246 call  *\n",
    "            return ag_fn(y_true, y_pred, **self._fn_kwargs)\n",
    "        R:\\Work\\Anacond\\lib\\site-packages\\tensorflow\\python\\util\\dispatch.py:206 wrapper  **\n",
    "            return target(*args, **kwargs)\n",
    "        R:\\Work\\Anacond\\lib\\site-packages\\keras\\losses.py:1742 binary_crossentropy\n",
    "            y_true, y_pred, from_logits=from_logits), axis=-1)\n",
    "        R:\\Work\\Anacond\\lib\\site-packages\\tensorflow\\python\\util\\dispatch.py:206 wrapper\n",
    "            return target(*args, **kwargs)\n",
    "        R:\\Work\\Anacond\\lib\\site-packages\\keras\\backend.py:4988 binary_crossentropy\n",
    "            return tf.compat.v1.nn.sigmoid_cross_entropy_with_logits(labels=target, logits=output)\n",
    "        R:\\Work\\Anacond\\lib\\site-packages\\tensorflow\\python\\util\\dispatch.py:206 wrapper\n",
    "            return target(*args, **kwargs)\n",
    "        R:\\Work\\Anacond\\lib\\site-packages\\tensorflow\\python\\ops\\nn_impl.py:133 sigmoid_cross_entropy_with_logits\n",
    "            (logits.get_shape(), labels.get_shape()))\n",
    "\n",
    "        ValueError: logits and labels must have the same shape ((None, 150, 99) vs (None, 99))\n",
    "    \"\n",
    "where only the last sentence should be there.we want to denoise those evalues in a domain-specific way."
   ]
  },
  {
   "cell_type": "markdown",
   "id": "1f60e92b",
   "metadata": {},
   "source": [
    "### 1. nb errors in Kaggle"
   ]
  },
  {
   "cell_type": "code",
   "execution_count": 3,
   "id": "33a52057",
   "metadata": {},
   "outputs": [],
   "source": [
    "import pandas as pd\n",
    "import util\n",
    "import config\n",
    "\n",
    "path_err = config.path_kaggle_error_process + '/nberror_k_p.xlsx'\n",
    "df_err = pd.read_excel(path_err)"
   ]
  },
  {
   "cell_type": "code",
   "execution_count": null,
   "id": "9bf9b086",
   "metadata": {},
   "outputs": [],
   "source": [
    "### Extract meaningful and short evalues from traceback for those with ignored evalues"
   ]
  },
  {
   "cell_type": "code",
   "execution_count": 3,
   "id": "3b6fc5db",
   "metadata": {},
   "outputs": [
    {
     "data": {
      "text/plain": [
       "fname        175\n",
       "ename        175\n",
       "evalue       175\n",
       "traceback    175\n",
       "dtype: int64"
      ]
     },
     "execution_count": 3,
     "metadata": {},
     "output_type": "execute_result"
    }
   ],
   "source": [
    "df_err = pd.read_excel(config.path_kaggle_error_process+'/nberror_k_p.xlsx')\n",
    "df_err_ignored = df_err[df_err['evalue']=='ignored']\n",
    "df_err_ignored.count()"
   ]
  },
  {
   "cell_type": "code",
   "execution_count": 4,
   "id": "886fa40f",
   "metadata": {},
   "outputs": [
    {
     "name": "stdout",
     "output_type": "stream",
     "text": [
      "exception when listing traceback\n",
      "exception when listing traceback\n"
     ]
    },
    {
     "data": {
      "text/plain": [
       "fname        39\n",
       "ename        39\n",
       "evalue       39\n",
       "traceback    39\n",
       "dtype: int64"
      ]
     },
     "execution_count": 4,
     "metadata": {},
     "output_type": "execute_result"
    }
   ],
   "source": [
    "for index, row in df_err_ignored.iterrows():\n",
    "    res = util.get_evalue_ignored_from_traceback(row)\n",
    "    if res:\n",
    "        df_err.loc[index, \"evalue\"] = res\n",
    "df_err[df_err['evalue']=='ignored'].count()"
   ]
  },
  {
   "cell_type": "code",
   "execution_count": null,
   "id": "e2192255",
   "metadata": {},
   "outputs": [],
   "source": [
    "df_err.to_excel(path_err_nbs+\"/nberror_k_all_p3_lib_parsed.xlsx\", index=False, engine='xlsxwriter')"
   ]
  },
  {
   "cell_type": "code",
   "execution_count": null,
   "id": "9cc7120b",
   "metadata": {},
   "outputs": [],
   "source": [
    "# percentages on the whole dataset\n",
    "\n",
    "# percentages on the filtered dataset (is_MLnb&is_relevant)\n"
   ]
  },
  {
   "cell_type": "markdown",
   "id": "32e802be",
   "metadata": {},
   "source": [
    "### 2. nb errors in Github"
   ]
  },
  {
   "cell_type": "code",
   "execution_count": 10,
   "id": "1a4b4583",
   "metadata": {},
   "outputs": [],
   "source": [
    "import pandas as pd\n",
    "import util\n",
    "import config\n",
    "\n",
    "df2_err = pd.read_excel(config.path_github_error_process + '/nberror_g_all_p.xlsx')"
   ]
  },
  {
   "cell_type": "code",
   "execution_count": 12,
   "id": "32e1e68c",
   "metadata": {},
   "outputs": [
    {
     "data": {
      "text/plain": [
       "fname        17478\n",
       "ename        17466\n",
       "evalue       17478\n",
       "traceback    17478\n",
       "dtype: int64"
      ]
     },
     "execution_count": 12,
     "metadata": {},
     "output_type": "execute_result"
    }
   ],
   "source": [
    "import pandas as pd\n",
    "import util\n",
    "import config\n",
    "\n",
    "df2_err = pd.read_excel(config.path_github_error_process + '/nberror_g_all_p.xlsx')\n",
    "df2_err_ignored = df2_err[df2_err['evalue']=='ignored']\n",
    "df2_err_ignored.count()"
   ]
  },
  {
   "cell_type": "code",
   "execution_count": 92,
   "id": "ae8626b7",
   "metadata": {},
   "outputs": [],
   "source": [
    "for index, row in df2_err_ignored.iterrows():\n",
    "    res = util.get_evalue_ignored_from_traceback(row)\n",
    "    if res:\n",
    "        df2_err.loc[index, \"evalue\"] = res"
   ]
  },
  {
   "cell_type": "code",
   "execution_count": 93,
   "id": "f9703a97",
   "metadata": {},
   "outputs": [
    {
     "data": {
      "text/plain": [
       "fname        4678\n",
       "ename        4666\n",
       "evalue       4678\n",
       "traceback    4678\n",
       "dtype: int64"
      ]
     },
     "execution_count": 93,
     "metadata": {},
     "output_type": "execute_result"
    }
   ],
   "source": [
    "df2_err[df2_err['evalue']=='ignored'].count() # managed to filled 12800/17478 ignored evalues"
   ]
  },
  {
   "cell_type": "code",
   "execution_count": 96,
   "id": "4ce7304a",
   "metadata": {},
   "outputs": [],
   "source": [
    "df2_err.to_excel(config.path_github_error_process + '/nberror_g_all_p2.xlsx', index=False, engine='xlsxwriter')"
   ]
  },
  {
   "cell_type": "code",
   "execution_count": null,
   "id": "0f871a57",
   "metadata": {},
   "outputs": [],
   "source": []
  }
 ],
 "metadata": {
  "kernelspec": {
   "display_name": "Python 3 (ipykernel)",
   "language": "python",
   "name": "python3"
  },
  "language_info": {
   "codemirror_mode": {
    "name": "ipython",
    "version": 3
   },
   "file_extension": ".py",
   "mimetype": "text/x-python",
   "name": "python",
   "nbconvert_exporter": "python",
   "pygments_lexer": "ipython3",
   "version": "3.11.5"
  }
 },
 "nbformat": 4,
 "nbformat_minor": 5
}
