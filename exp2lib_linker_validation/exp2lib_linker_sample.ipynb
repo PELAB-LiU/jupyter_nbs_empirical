{
 "cells": [
  {
   "cell_type": "code",
   "execution_count": 1,
   "id": "47f41d4d",
   "metadata": {},
   "outputs": [],
   "source": [
    "# import importlib\n",
    "# importlib.reload(cluster_util)\n",
    "# import cluster_util"
   ]
  },
  {
   "cell_type": "code",
   "execution_count": null,
   "id": "9b4cb0ad",
   "metadata": {},
   "outputs": [],
   "source": [
    "import os\n",
    "import sys\n",
    "\n",
    "sys.path.insert(1, os.path.realpath(os.path.pardir))"
   ]
  },
  {
   "cell_type": "markdown",
   "id": "4566c1f6",
   "metadata": {},
   "source": [
    "# Notebook error analysis \n",
    "\n",
    "## Evaluate ml linker"
   ]
  },
  {
   "cell_type": "code",
   "execution_count": 5,
   "id": "e2bdfbe2",
   "metadata": {},
   "outputs": [],
   "source": [
    "import pandas as pd\n",
    "import config\n",
    "\n",
    "df_err_k = pd.read_excel(config.path_kaggle_error_process.joinpath('nberror_k_eid_p.xlsx'))\n",
    "df_err_g = pd.read_excel(config.path_github_error_process.joinpath('nberror_g_all_eid_p.xlsx'))\n",
    "\n",
    "df_err_k = df_err_k[df_err_k.is_MLnb&df_err_k.is_relevant&df_err_k.if_ast==1.0]\n",
    "df_err_g = df_err_g[df_err_g.is_MLnb&df_err_g.is_relevant&df_err_g.if_ast==1.0]"
   ]
  },
  {
   "cell_type": "code",
   "execution_count": 8,
   "id": "c237c805",
   "metadata": {},
   "outputs": [
    {
     "name": "stdout",
     "output_type": "stream",
     "text": [
      "2706\n",
      "66771\n"
     ]
    }
   ],
   "source": [
    "print(df_err_k.fname.nunique())\n",
    "print(df_err_g.fname.nunique())"
   ]
  },
  {
   "cell_type": "code",
   "execution_count": 18,
   "id": "fb713ab2",
   "metadata": {},
   "outputs": [
    {
     "name": "stdout",
     "output_type": "stream",
     "text": [
      "30\n",
      "30\n"
     ]
    }
   ],
   "source": [
    "# sample on fname/notebooks\n",
    "\n",
    "import numpy as np\n",
    "\n",
    "n = 30\n",
    "k_sampled_fname = np.random.choice(df_err_k.fname.unique(), n, replace=False)\n",
    "print(len(np.unique(k_sampled_fname)))\n",
    "\n",
    "g_sampled_fname = np.random.choice(df_err_g.fname.unique(), n, replace=False)\n",
    "print(len(np.unique(g_sampled_fname)))"
   ]
  },
  {
   "cell_type": "code",
   "execution_count": 36,
   "id": "a17d3bf6",
   "metadata": {},
   "outputs": [
    {
     "name": "stderr",
     "output_type": "stream",
     "text": [
      "C:\\Users\\yirwa29\\AppData\\Local\\Temp\\ipykernel_3196\\889860243.py:3: DeprecationWarning: DataFrameGroupBy.apply operated on the grouping columns. This behavior is deprecated, and in a future version of pandas the grouping columns will be excluded from the operation. Either pass `include_groups=False` to exclude the groupings or explicitly select the grouping columns after groupby to silence this warning.\n",
      "  k_sampled_fname_eid = (df_err_k[df_err_k.fname.isin(k_sampled_fname)]).groupby('fname').apply(\n",
      "C:\\Users\\yirwa29\\AppData\\Local\\Temp\\ipykernel_3196\\889860243.py:9: DeprecationWarning: DataFrameGroupBy.apply operated on the grouping columns. This behavior is deprecated, and in a future version of pandas the grouping columns will be excluded from the operation. Either pass `include_groups=False` to exclude the groupings or explicitly select the grouping columns after groupby to silence this warning.\n",
      "  g_sampled_fname_eid = (df_err_g[df_err_g.fname.isin(g_sampled_fname)]).groupby('fname').apply(\n"
     ]
    }
   ],
   "source": [
    "# then further sample on eid/1 error per notebook\n",
    "\n",
    "k_sampled_fname_eid = (df_err_k[df_err_k.fname.isin(k_sampled_fname)]).groupby('fname').apply(\n",
    "    pd.DataFrame.sample, \n",
    "    n=1,\n",
    "    include_groups=True\n",
    ").reset_index(level=0, drop=True).sort_index()\n",
    "\n",
    "g_sampled_fname_eid = (df_err_g[df_err_g.fname.isin(g_sampled_fname)]).groupby('fname').apply(\n",
    "    pd.DataFrame.sample, \n",
    "    n=1,\n",
    "    include_groups=True\n",
    ").reset_index(level=0, drop=True).sort_index()"
   ]
  },
  {
   "cell_type": "code",
   "execution_count": 43,
   "id": "8b43084a",
   "metadata": {},
   "outputs": [],
   "source": [
    "k_sampled_fname_eid.to_excel(config.path_kaggle_error_process.joinpath(\"nberror_k_eid_p_mllinker_validation_sample0.xlsx\"),\n",
    "                             index=False, engine='xlsxwriter')\n",
    "g_sampled_fname_eid.to_excel(config.path_github_error_process.joinpath(\"nberror_g_all_eid_p_mllinker_validation_sample0.xlsx\"),\n",
    "                             index=False, engine='xlsxwriter')"
   ]
  },
  {
   "cell_type": "code",
   "execution_count": null,
   "id": "9d181f6f",
   "metadata": {},
   "outputs": [],
   "source": []
  }
 ],
 "metadata": {
  "kernelspec": {
   "display_name": "Python 3 (ipykernel)",
   "language": "python",
   "name": "python3"
  },
  "language_info": {
   "codemirror_mode": {
    "name": "ipython",
    "version": 3
   },
   "file_extension": ".py",
   "mimetype": "text/x-python",
   "name": "python",
   "nbconvert_exporter": "python",
   "pygments_lexer": "ipython3",
   "version": "3.11.5"
  }
 },
 "nbformat": 4,
 "nbformat_minor": 5
}
