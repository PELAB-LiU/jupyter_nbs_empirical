{
 "cells": [
  {
   "cell_type": "code",
   "execution_count": 1,
   "id": "47f41d4d",
   "metadata": {},
   "outputs": [],
   "source": [
    "# import importlib\n",
    "# importlib.reload(cluster_util)\n",
    "# import cluster_util"
   ]
  },
  {
   "cell_type": "code",
   "execution_count": 2,
   "id": "9b4cb0ad",
   "metadata": {},
   "outputs": [],
   "source": [
    "import os\n",
    "import sys\n",
    "\n",
    "sys.path.insert(1, os.path.realpath(os.path.pardir))"
   ]
  },
  {
   "cell_type": "markdown",
   "id": "4566c1f6",
   "metadata": {},
   "source": [
    "# Notebook error analysis \n",
    "\n",
    "## Evaluate ml linker"
   ]
  },
  {
   "cell_type": "code",
   "execution_count": 3,
   "id": "e2bdfbe2",
   "metadata": {},
   "outputs": [
    {
     "name": "stdout",
     "output_type": "stream",
     "text": [
      "path_default=WindowsPath('C:/Users/yirwa29/Downloads/Dataset-Nb')\n"
     ]
    }
   ],
   "source": [
    "import pandas as pd\n",
    "import config\n",
    "\n",
    "df_err_k = pd.read_excel(config.path_kaggle_error_process.joinpath('nberror_k_eid_p.xlsx'))\n",
    "df_err_g = pd.read_excel(config.path_github_error_process.joinpath('nberror_g_all_eid_p.xlsx'))\n",
    "\n",
    "df_err_k = df_err_k[df_err_k.is_MLnb&df_err_k.is_relevant&df_err_k.if_ast==1.0]\n",
    "df_err_g = df_err_g[df_err_g.is_MLnb&df_err_g.is_relevant&df_err_g.if_ast==1.0]"
   ]
  },
  {
   "cell_type": "code",
   "execution_count": 4,
   "id": "c237c805",
   "metadata": {},
   "outputs": [
    {
     "name": "stdout",
     "output_type": "stream",
     "text": [
      "2706\n",
      "62265\n"
     ]
    }
   ],
   "source": [
    "print(df_err_k.fname.nunique())\n",
    "print(df_err_g.fname.nunique())"
   ]
  },
  {
   "cell_type": "code",
   "execution_count": 18,
   "id": "fb713ab2",
   "metadata": {},
   "outputs": [
    {
     "name": "stdout",
     "output_type": "stream",
     "text": [
      "30\n",
      "30\n"
     ]
    }
   ],
   "source": [
    "# sample on fname/notebooks\n",
    "\n",
    "import numpy as np\n",
    "\n",
    "n = 30\n",
    "k_sampled_fname = np.random.choice(df_err_k.fname.unique(), n, replace=False)\n",
    "print(len(np.unique(k_sampled_fname)))\n",
    "\n",
    "g_sampled_fname = np.random.choice(df_err_g.fname.unique(), n, replace=False)\n",
    "print(len(np.unique(g_sampled_fname)))"
   ]
  },
  {
   "cell_type": "code",
   "execution_count": 36,
   "id": "a17d3bf6",
   "metadata": {},
   "outputs": [
    {
     "name": "stderr",
     "output_type": "stream",
     "text": [
      "C:\\Users\\yirwa29\\AppData\\Local\\Temp\\ipykernel_3196\\889860243.py:3: DeprecationWarning: DataFrameGroupBy.apply operated on the grouping columns. This behavior is deprecated, and in a future version of pandas the grouping columns will be excluded from the operation. Either pass `include_groups=False` to exclude the groupings or explicitly select the grouping columns after groupby to silence this warning.\n",
      "  k_sampled_fname_eid = (df_err_k[df_err_k.fname.isin(k_sampled_fname)]).groupby('fname').apply(\n",
      "C:\\Users\\yirwa29\\AppData\\Local\\Temp\\ipykernel_3196\\889860243.py:9: DeprecationWarning: DataFrameGroupBy.apply operated on the grouping columns. This behavior is deprecated, and in a future version of pandas the grouping columns will be excluded from the operation. Either pass `include_groups=False` to exclude the groupings or explicitly select the grouping columns after groupby to silence this warning.\n",
      "  g_sampled_fname_eid = (df_err_g[df_err_g.fname.isin(g_sampled_fname)]).groupby('fname').apply(\n"
     ]
    }
   ],
   "source": [
    "# then further sample on eid/1 error per notebook\n",
    "\n",
    "k_sampled_fname_eid = (df_err_k[df_err_k.fname.isin(k_sampled_fname)]).groupby('fname').apply(\n",
    "    pd.DataFrame.sample, \n",
    "    n=1,\n",
    "    include_groups=True\n",
    ").reset_index(level=0, drop=True).sort_index()\n",
    "\n",
    "g_sampled_fname_eid = (df_err_g[df_err_g.fname.isin(g_sampled_fname)]).groupby('fname').apply(\n",
    "    pd.DataFrame.sample, \n",
    "    n=1,\n",
    "    include_groups=True\n",
    ").reset_index(level=0, drop=True).sort_index()"
   ]
  },
  {
   "cell_type": "code",
   "execution_count": 43,
   "id": "8b43084a",
   "metadata": {},
   "outputs": [],
   "source": [
    "k_sampled_fname_eid.to_excel(config.path_kaggle_error_process.joinpath(\"nberror_k_eid_p_mllinker_validation_sample0.xlsx\"),\n",
    "                             index=False, engine='xlsxwriter')\n",
    "g_sampled_fname_eid.to_excel(config.path_github_error_process.joinpath(\"nberror_g_all_eid_p_mllinker_validation_sample0.xlsx\"),\n",
    "                             index=False, engine='xlsxwriter')"
   ]
  },
  {
   "cell_type": "markdown",
   "id": "be09a88b",
   "metadata": {},
   "source": [
    "## check manual labels with the linker"
   ]
  },
  {
   "cell_type": "code",
   "execution_count": 5,
   "id": "51a8e271",
   "metadata": {},
   "outputs": [],
   "source": [
    "import pandas as pd\n",
    "import config\n",
    "\n",
    "k_sampled_fname_eid = pd.read_excel(config.path_kaggle_error_process.joinpath('nberror_k_eid_p_mllinker_validation_sample0.xlsx'))\n",
    "g_sampled_fname_eid = pd.read_excel(config.path_github_error_process.joinpath('nberror_g_all_eid_p_mllinker_validation_sample0.xlsx'))"
   ]
  },
  {
   "cell_type": "code",
   "execution_count": 6,
   "id": "e31dabf1",
   "metadata": {},
   "outputs": [],
   "source": [
    "# temp fix (changed if_ast to the ones using ast module of py3)\n",
    "g_sampled_fname_eid = g_sampled_fname_eid.drop([\"if_ast\"], axis=1)\n",
    "g_sampled_fname_eid = pd.merge(g_sampled_fname_eid, df_err_g[[\"eid\", \"if_ast\"]], on=\"eid\", how=\"left\")\n",
    "g_sampled_fname_eid = g_sampled_fname_eid[g_sampled_fname_eid.if_ast==1]"
   ]
  },
  {
   "cell_type": "code",
   "execution_count": 7,
   "id": "490104ee",
   "metadata": {},
   "outputs": [
    {
     "data": {
      "text/plain": [
       "58"
      ]
     },
     "execution_count": 7,
     "metadata": {},
     "output_type": "execute_result"
    }
   ],
   "source": [
    "# join the two datasets\n",
    "k_sampled_fname_eid.loc[:,\"nb_source\"] = config.NB_SOURCE[\"kaggle\"]\n",
    "g_sampled_fname_eid.loc[:,\"nb_source\"] = config.NB_SOURCE[\"github\"]\n",
    "df_sampled = pd.concat([k_sampled_fname_eid, g_sampled_fname_eid], ignore_index=True, sort=False)\n",
    "len(df_sampled) "
   ]
  },
  {
   "cell_type": "code",
   "execution_count": 8,
   "id": "6fb015c7",
   "metadata": {},
   "outputs": [],
   "source": [
    "import util\n",
    "\n",
    "path_exp_libs = config.path_default.joinpath('links_exceptions_to_libraries.jsonl')\n",
    "# res_exp_mllib = util.get_exp_mllib(path_exp_libs, df_sampled)\n",
    "# df_exp_mllib = pd.DataFrame(res_exp_mllib.items(), columns=[\"eid\", \"exp_mllib\"])\n",
    "# df_sampled_merged = pd.merge(df_sampled, df_exp_mllib, on=\"eid\", how=\"left\")"
   ]
  },
  {
   "cell_type": "code",
   "execution_count": 9,
   "id": "e3476c1b",
   "metadata": {},
   "outputs": [],
   "source": [
    "import json\n",
    "# \"empty\" which means found eid but not mlbug\n",
    "# use this to check if there is no eid found in the linker (which will be None)\n",
    "def get_exp_mllib(path_exp_libs, df_err):\n",
    "    res = {eid:None for eid in df_err.eid}\n",
    "    with open(path_exp_libs, \"r\", encoding=\"utf-8\") as output_file:\n",
    "        data = output_file.readlines()\n",
    "        \n",
    "    for line in data:\n",
    "        j_data = json.loads(line)\n",
    "        ml_links = j_data[\"exc_to_lib_links\"]\n",
    "        if len(ml_links) > 0:\n",
    "            for ml_link in ml_links:\n",
    "                eid = ml_link[\"exception_id:\"]\n",
    "                if eid in res:\n",
    "                    if len(ml_link[\"libraries\"]) > 0:\n",
    "                        res[eid] = ml_link[\"libraries\"]\n",
    "                    else:\n",
    "                        res[eid] = \"empty\"\n",
    "#                 else:\n",
    "#                     print(\"Error id not exist in error dataset:\", Path(j_data[\"notebook\"]).name, eid)\n",
    "    return res\n",
    "res_exp_mllib = get_exp_mllib(path_exp_libs, df_sampled)\n",
    "df_exp_mllib = pd.DataFrame(res_exp_mllib.items(), columns=[\"eid\", \"exp_mllib\"])\n",
    "df_sampled_merged = pd.merge(df_sampled, df_exp_mllib, on=\"eid\", how=\"left\")"
   ]
  },
  {
   "cell_type": "code",
   "execution_count": 10,
   "id": "3fc1ece1",
   "metadata": {},
   "outputs": [],
   "source": [
    "assert(sum(df_exp_mllib.exp_mllib.isnull())==0)"
   ]
  },
  {
   "cell_type": "code",
   "execution_count": 11,
   "id": "13b4e5ed",
   "metadata": {},
   "outputs": [
    {
     "data": {
      "text/plain": [
       "27"
      ]
     },
     "execution_count": 11,
     "metadata": {},
     "output_type": "execute_result"
    }
   ],
   "source": [
    "df_sampled_merged.loc[df_sampled_merged.exp_mllib==\"empty\",\"exp_mllib\"]=None\n",
    "sum(df_sampled_merged.exp_mllib.isnull())"
   ]
  },
  {
   "cell_type": "code",
   "execution_count": 12,
   "id": "eb9b7242",
   "metadata": {},
   "outputs": [],
   "source": [
    "df_sampled_merged[\"is_Mlbug_algorithm\"]=(~df_sampled_merged.exp_mllib.isnull()).astype(int)"
   ]
  },
  {
   "cell_type": "code",
   "execution_count": 18,
   "id": "6a6d722d",
   "metadata": {},
   "outputs": [
    {
     "name": "stdout",
     "output_type": "stream",
     "text": [
      "Statistics for kaggle\n"
     ]
    },
    {
     "data": {
      "image/png": "[encoded data removed]",
      "text/plain": [
       "<Figure size 300x300 with 2 Axes>"
      ]
     },
     "metadata": {},
     "output_type": "display_data"
    },
    {
     "name": "stdout",
     "output_type": "stream",
     "text": [
      "F1 score is: 0.9411764705882353\n",
      "\n",
      "Statistics for github\n"
     ]
    },
    {
     "data": {
      "image/png": "[encoded data removed]",
      "text/plain": [
       "<Figure size 300x300 with 2 Axes>"
      ]
     },
     "metadata": {},
     "output_type": "display_data"
    },
    {
     "name": "stdout",
     "output_type": "stream",
     "text": [
      "F1 score is: 0.5263157894736842\n",
      "\n"
     ]
    }
   ],
   "source": [
    "from sklearn.metrics import f1_score, confusion_matrix, ConfusionMatrixDisplay\n",
    "import matplotlib.pyplot as plt\n",
    "\n",
    "def print_statistics(df_sampled_merged, source=\"kaggle\"):\n",
    "    df_sampled_source = df_sampled_merged[df_sampled_merged.nb_source == config.NB_SOURCE[source]]\n",
    "    print(\"Statistics for {}\".format(source))\n",
    "#     print(\"Positives {}\\nNegatives: {}\".format(\n",
    "#         len(df_sampled_source[(df_sampled_source.is_Mlbug_manual==1)]),\n",
    "#         len(df_sampled_source[(df_sampled_source.is_Mlbug_manual==0)])))\n",
    "#     print(\"True positives {}\\nFalse Positives: {}\\nTrue Negatives: {}\\nFalse Negatives: {}\".format(\n",
    "#         len(df_sampled_source[(~df_sampled_source.exp_mllib.isnull())&(df_sampled_source.is_Mlbug_manual==1)]),\n",
    "#         len(df_sampled_source[(~df_sampled_source.exp_mllib.isnull())&(df_sampled_source.is_Mlbug_manual==0)]),\n",
    "#         len(df_sampled_source[df_sampled_source.exp_mllib.isnull()&(df_sampled_source.is_Mlbug_manual==0)]),\n",
    "#         len(df_sampled_source[df_sampled_source.exp_mllib.isnull()&(df_sampled_source.is_Mlbug_manual==1)])))\n",
    "    cm = confusion_matrix(df_sampled_source.is_Mlbug_manual, ~df_sampled_source.exp_mllib.isnull())\n",
    "    disp = ConfusionMatrixDisplay(confusion_matrix=cm, display_labels=[\"not_MLbug\", \"is_MLbug\"])\n",
    "    fig, ax = plt.subplots(figsize=(3,3))\n",
    "    disp.plot(ax=ax)\n",
    "    plt.show()\n",
    "    print(\"F1 score is: {}\\n\".format(f1_score(df_sampled_source.is_Mlbug_manual, ~df_sampled_source.exp_mllib.isnull())))\n",
    "print_statistics(df_sampled_merged, source=\"kaggle\")\n",
    "print_statistics(df_sampled_merged, source=\"github\")"
   ]
  },
  {
   "cell_type": "code",
   "execution_count": 25,
   "id": "f605096b",
   "metadata": {},
   "outputs": [
    {
     "name": "stdout",
     "output_type": "stream",
     "text": [
      "0.8\n",
      "0.1\n",
      "0.03333333333333333\n"
     ]
    }
   ],
   "source": [
    "#p11 (expected proportion of true positive = n11/n)\n",
    "print(24/30)\n",
    "#p00 (expected proportion of true negative n00/n); is not TNR = TN/(TN+FP)\n",
    "print(3/30)\n",
    "#p01 (expected proportion of false positive n01/n\n",
    "print(1/30)\n",
    "# ---sample size = 53 for kagle"
   ]
  },
  {
   "cell_type": "code",
   "execution_count": 26,
   "id": "515d407c",
   "metadata": {},
   "outputs": [
    {
     "name": "stdout",
     "output_type": "stream",
     "text": [
      "0.16666666666666666\n",
      "0.5333333333333333\n",
      "0.03333333333333333\n"
     ]
    }
   ],
   "source": [
    "#p11 (expected proportion of true positive = n11/n)\n",
    "print(5/28)\n",
    "#p00 (expected proportion of true negative n00/n); is not TNR = TN/(TN+FP)\n",
    "print(14/28)\n",
    "#p01 (expected proportion of false positive n01/n\n",
    "print(1/28)\n",
    "# ---sample size = 832 for github"
   ]
  },
  {
   "cell_type": "code",
   "execution_count": 56,
   "id": "16ab4aa0",
   "metadata": {},
   "outputs": [],
   "source": [
    "df_sampled_merged.to_excel(config.path_github_error_process.joinpath(\"tmp.xlsx\"), index=False, engine='xlsxwriter')"
   ]
  }
 ],
 "metadata": {
  "kernelspec": {
   "display_name": "Python 3 (ipykernel)",
   "language": "python",
   "name": "python3"
  },
  "language_info": {
   "codemirror_mode": {
    "name": "ipython",
    "version": 3
   },
   "file_extension": ".py",
   "mimetype": "text/x-python",
   "name": "python",
   "nbconvert_exporter": "python",
   "pygments_lexer": "ipython3",
   "version": "3.11.5"
  }
 },
 "nbformat": 4,
 "nbformat_minor": 5
}
