{
 "cells": [
  {
   "cell_type": "markdown",
   "metadata": {},
   "source": [
    "Calculate desired sample size based on estimated:\n",
    "\n",
    "    p11 (expected proportion of true positive = n11/n); is not TPR = TP/(TP+FN)\n",
    "    p00 (expected proportion of true negative n00/n); is not TNR = TN/(TN+FP)\n",
    "    p01 (expected proportion of false positive n01/n); is not FPR =  FP/(FP+TN)\n",
    "    confidence level (default 95%)\n",
    "    margin of error (ME) (how narrow confidence interval you are aiming for)"
   ]
  },
  {
   "cell_type": "code",
   "execution_count": 8,
   "metadata": {},
   "outputs": [],
   "source": [
    "import math\n",
    "import scipy.stats as stats\n",
    "\n",
    "# Function to estimate sample size based on expected TPR, FPR, TNR, chosen confidence levels (default 95%) \n",
    "# and width of ME (default 0.05)\n",
    "def samp_size_F1_CI(p11, p00, p01, confidence_level=0.95, ME=0.05):\n",
    "    sum_p = p11 + p00 + p01 \n",
    "    if sum_p > 1:\n",
    "        raise ValueError(\"Error: p11 + p00 + p01 need to be less or equal to 1\")\n",
    "    if confidence_level > 1:\n",
    "        raise ValueError(\"Error: Confidence level need to be less or equal to 1\")\n",
    "    if ME > 1:\n",
    "        raise ValueError(\"Error: margin of error (ME) need to be less or equal to 1\")\n",
    "    p10 = 1 - sum_p\n",
    "    F1 = 2*p11 / (2*p11 + p01 + p10)\n",
    "    \n",
    "    alpha = 1 - confidence_level\n",
    "    z_val = stats.norm.ppf(1-alpha/2)\n",
    "    samp_size = math.ceil((z_val**2*(F1*(1-F1)*(2-F1)**2)/(2*ME**2))/(1-p00))\n",
    "    return samp_size"
   ]
  },
  {
   "cell_type": "code",
   "execution_count": 11,
   "metadata": {},
   "outputs": [
    {
     "name": "stdout",
     "output_type": "stream",
     "text": [
      "153\n"
     ]
    }
   ],
   "source": [
    "# Test run the function\n",
    "\n",
    "# if taking a sample size of 100 (50P, 50N), result shows 45P, 45N, 5FN, and 5FP\n",
    "sample_size = samp_size_F1_CI(p11 = 0.45, p00 = 0.45, p01 = 0.05)\n",
    "print(sample_size)"
   ]
  },
  {
   "cell_type": "markdown",
   "metadata": {},
   "source": [
    "It is not an exact science and since there are several methods for calculating the confidence interval for F1 I would consider the estimated sample size more as an indication minimum number you need to sample, maybe go for n0 + 0.1* n0. So a small over-sampling."
   ]
  }
 ],
 "metadata": {
  "kernelspec": {
   "display_name": "Python 3 (ipykernel)",
   "language": "python",
   "name": "python3"
  },
  "language_info": {
   "codemirror_mode": {
    "name": "ipython",
    "version": 3
   },
   "file_extension": ".py",
   "mimetype": "text/x-python",
   "name": "python",
   "nbconvert_exporter": "python",
   "pygments_lexer": "ipython3",
   "version": "3.11.5"
  }
 },
 "nbformat": 4,
 "nbformat_minor": 2
}
