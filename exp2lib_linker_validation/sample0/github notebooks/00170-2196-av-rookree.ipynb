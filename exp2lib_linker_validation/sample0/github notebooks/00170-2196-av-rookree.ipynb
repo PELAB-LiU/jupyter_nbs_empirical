{
    "cells": [
        {
            "cell_type": "code",
            "execution_count": 1,
            "metadata": {
                "ExecuteTime": {
                    "end_time": "2018-03-18T17:48:15.518853Z",
                    "start_time": "2018-03-18T17:48:15.136876Z"
                }
            },
            "outputs": [],
            "source": [
                "%load_ext autoreload\n",
                "%autoreload 2\n",
                "\n",
                "%matplotlib inline"
            ]
        },
        {
            "cell_type": "code",
            "execution_count": 2,
            "metadata": {
                "ExecuteTime": {
                    "end_time": "2018-03-18T17:48:16.582397Z",
                    "start_time": "2018-03-18T17:48:15.518853Z"
                }
            },
            "outputs": [],
            "source": [
                "from fastai.imports import *\n",
                "from fastai.structured import *\n",
                "\n",
                "from pandas_summary import DataFrameSummary\n",
                "from sklearn.ensemble import RandomForestRegressor, RandomForestClassifier\n",
                "from IPython.display import display\n",
                "\n",
                "from sklearn import metrics"
            ]
        },
        {
            "cell_type": "code",
            "execution_count": 3,
            "metadata": {
                "ExecuteTime": {
                    "end_time": "2018-03-18T17:48:16.730992Z",
                    "start_time": "2018-03-18T17:48:16.582397Z"
                }
            },
            "outputs": [
                {
                    "data": {
                        "text/plain": [
                            "'D:\\\\Github\\\\fastai\\\\courses\\\\ml1'"
                        ]
                    },
                    "execution_count": 3,
                    "metadata": {},
                    "output_type": "execute_result"
                }
            ],
            "source": [
                "PATH = os.getcwd();\n",
                "PATH"
            ]
        },
        {
            "cell_type": "code",
            "execution_count": 4,
            "metadata": {
                "ExecuteTime": {
                    "end_time": "2018-03-18T17:20:55.964161Z",
                    "start_time": "2018-03-18T17:20:53.623056Z"
                }
            },
            "outputs": [],
            "source": [
                "df_raw = pd.read_csv(f'{PATH}\\\\av_train_DaEJRFg.csv', low_memory=False, parse_dates=['incident_date'])"
            ]
        },
        {
            "cell_type": "code",
            "execution_count": 5,
            "metadata": {
                "ExecuteTime": {
                    "end_time": "2018-03-18T17:20:56.337037Z",
                    "start_time": "2018-03-18T17:20:55.964161Z"
                }
            },
            "outputs": [
                {
                    "data": {
                        "text/html": [
                            "<div>\n",
                            "<style>\n",
                            "    .dataframe thead tr:only-child th {\n",
                            "        text-align: right;\n",
                            "    }\n",
                            "\n",
                            "    .dataframe thead th {\n",
                            "        text-align: left;\n",
                            "    }\n",
                            "\n",
                            "    .dataframe tbody tr th {\n",
                            "        vertical-align: top;\n",
                            "    }\n",
                            "</style>\n",
                            "<table border=\"1\" class=\"dataframe\">\n",
                            "  <thead>\n",
                            "    <tr style=\"text-align: right;\">\n",
                            "      <th></th>\n",
                            "      <th>victim_id</th>\n",
                            "      <th>incident_time</th>\n",
                            "      <th>incident_date</th>\n",
                            "      <th>incident_location</th>\n",
                            "      <th>incident_tehsil</th>\n",
                            "      <th>cause_of_emergency</th>\n",
                            "      <th>base_to_scene_distance</th>\n",
                            "      <th>scene_to_hospital_distance</th>\n",
                            "      <th>roadway_feature</th>\n",
                            "      <th>road_type</th>\n",
                            "      <th>surrounding_area</th>\n",
                            "      <th>criticality</th>\n",
                            "    </tr>\n",
                            "  </thead>\n",
                            "  <tbody>\n",
                            "    <tr>\n",
                            "      <th>0</th>\n",
                            "      <td>VIC20120001987267</td>\n",
                            "      <td>22:23:19</td>\n",
                            "      <td>2012-07-11</td>\n",
                            "      <td>Subhash Nagar</td>\n",
                            "      <td>Raipur</td>\n",
                            "      <td>Multiple Vehicular Incident</td>\n",
                            "      <td>13</td>\n",
                            "      <td>12</td>\n",
                            "      <td>CUR</td>\n",
                            "      <td>HIW</td>\n",
                            "      <td>FOR</td>\n",
                            "      <td>0</td>\n",
                            "    </tr>\n",
                            "  </tbody>\n",
                            "</table>\n",
                            "</div>"
                        ],
                        "text/plain": [
                            "           victim_id incident_time incident_date incident_location  \\\n",
                            "0  VIC20120001987267      22:23:19    2012-07-11     Subhash Nagar   \n",
                            "\n",
                            "  incident_tehsil           cause_of_emergency  base_to_scene_distance  \\\n",
                            "0          Raipur  Multiple Vehicular Incident                      13   \n",
                            "\n",
                            "   scene_to_hospital_distance roadway_feature road_type surrounding_area  \\\n",
                            "0                          12             CUR       HIW              FOR   \n",
                            "\n",
                            "   criticality  \n",
                            "0            0  "
                        ]
                    },
                    "execution_count": 5,
                    "metadata": {},
                    "output_type": "execute_result"
                }
            ],
            "source": [
                "df_raw.head(1)"
            ]
        },
        {
            "cell_type": "code",
            "execution_count": 6,
            "metadata": {
                "ExecuteTime": {
                    "end_time": "2018-03-18T17:20:56.521825Z",
                    "start_time": "2018-03-18T17:20:56.337037Z"
                }
            },
            "outputs": [
                {
                    "data": {
                        "text/plain": [
                            "0    11255\n",
                            "1      522\n",
                            "Name: criticality, dtype: int64"
                        ]
                    },
                    "execution_count": 6,
                    "metadata": {},
                    "output_type": "execute_result"
                }
            ],
            "source": [
                "df_raw.criticality.value_counts()"
            ]
        },
        {
            "cell_type": "code",
            "execution_count": 7,
            "metadata": {
                "ExecuteTime": {
                    "end_time": "2018-03-18T17:20:56.693823Z",
                    "start_time": "2018-03-18T17:20:56.521825Z"
                }
            },
            "outputs": [
                {
                    "data": {
                        "text/html": [
                            "<div>\n",
                            "<style>\n",
                            "    .dataframe thead tr:only-child th {\n",
                            "        text-align: right;\n",
                            "    }\n",
                            "\n",
                            "    .dataframe thead th {\n",
                            "        text-align: left;\n",
                            "    }\n",
                            "\n",
                            "    .dataframe tbody tr th {\n",
                            "        vertical-align: top;\n",
                            "    }\n",
                            "</style>\n",
                            "<table border=\"1\" class=\"dataframe\">\n",
                            "  <thead>\n",
                            "    <tr style=\"text-align: right;\">\n",
                            "      <th></th>\n",
                            "      <th>victim_id</th>\n",
                            "      <th>incident_time</th>\n",
                            "      <th>incident_date</th>\n",
                            "      <th>incident_location</th>\n",
                            "      <th>incident_tehsil</th>\n",
                            "      <th>cause_of_emergency</th>\n",
                            "      <th>base_to_scene_distance</th>\n",
                            "      <th>scene_to_hospital_distance</th>\n",
                            "      <th>roadway_feature</th>\n",
                            "      <th>road_type</th>\n",
                            "      <th>surrounding_area</th>\n",
                            "      <th>criticality</th>\n",
                            "    </tr>\n",
                            "  </thead>\n",
                            "  <tbody>\n",
                            "    <tr>\n",
                            "      <th>0</th>\n",
                            "      <td>VIC20120001987267</td>\n",
                            "      <td>22:23:19</td>\n",
                            "      <td>2012-07-11</td>\n",
                            "      <td>Subhash Nagar</td>\n",
                            "      <td>Raipur</td>\n",
                            "      <td>Multiple Vehicular Incident</td>\n",
                            "      <td>13</td>\n",
                            "      <td>12</td>\n",
                            "      <td>CUR</td>\n",
                            "      <td>HIW</td>\n",
                            "      <td>FOR</td>\n",
                            "      <td>0</td>\n",
                            "    </tr>\n",
                            "    <tr>\n",
                            "      <th>1</th>\n",
                            "      <td>VIC20110002147887</td>\n",
                            "      <td>20:23:09</td>\n",
                            "      <td>2011-02-11</td>\n",
                            "      <td>Coro Nation</td>\n",
                            "      <td>Raipur</td>\n",
                            "      <td>2 Wheeler accidents</td>\n",
                            "      <td>1</td>\n",
                            "      <td>5</td>\n",
                            "      <td>CUR</td>\n",
                            "      <td>HIW</td>\n",
                            "      <td>AGL</td>\n",
                            "      <td>0</td>\n",
                            "    </tr>\n",
                            "    <tr>\n",
                            "      <th>2</th>\n",
                            "      <td>VIC20090001391483</td>\n",
                            "      <td>20:37:15</td>\n",
                            "      <td>2009-07-25</td>\n",
                            "      <td>Kewal Vihar</td>\n",
                            "      <td>Raipur</td>\n",
                            "      <td>Non motorised vehicle accidents(Bullock cart,B...</td>\n",
                            "      <td>2</td>\n",
                            "      <td>2</td>\n",
                            "      <td>INT</td>\n",
                            "      <td>LOC</td>\n",
                            "      <td>HOSP</td>\n",
                            "      <td>0</td>\n",
                            "    </tr>\n",
                            "  </tbody>\n",
                            "</table>\n",
                            "</div>"
                        ],
                        "text/plain": [
                            "           victim_id incident_time incident_date incident_location  \\\n",
                            "0  VIC20120001987267      22:23:19    2012-07-11     Subhash Nagar   \n",
                            "1  VIC20110002147887      20:23:09    2011-02-11       Coro Nation   \n",
                            "2  VIC20090001391483      20:37:15    2009-07-25       Kewal Vihar   \n",
                            "\n",
                            "  incident_tehsil                                 cause_of_emergency  \\\n",
                            "0          Raipur                        Multiple Vehicular Incident   \n",
                            "1          Raipur                                2 Wheeler accidents   \n",
                            "2          Raipur  Non motorised vehicle accidents(Bullock cart,B...   \n",
                            "\n",
                            "   base_to_scene_distance  scene_to_hospital_distance roadway_feature  \\\n",
                            "0                      13                          12             CUR   \n",
                            "1                       1                           5             CUR   \n",
                            "2                       2                           2             INT   \n",
                            "\n",
                            "  road_type surrounding_area  criticality  \n",
                            "0       HIW              FOR            0  \n",
                            "1       HIW              AGL            0  \n",
                            "2       LOC             HOSP            0  "
                        ]
                    },
                    "execution_count": 7,
                    "metadata": {},
                    "output_type": "execute_result"
                }
            ],
            "source": [
                "df_raw.head(3)"
            ]
        },
        {
            "cell_type": "code",
            "execution_count": 24,
            "metadata": {
                "ExecuteTime": {
                    "end_time": "2018-03-18T17:38:33.170210Z",
                    "start_time": "2018-03-18T17:38:32.960376Z"
                }
            },
            "outputs": [
                {
                    "data": {
                        "text/html": [
                            "<div>\n",
                            "<style>\n",
                            "    .dataframe thead tr:only-child th {\n",
                            "        text-align: right;\n",
                            "    }\n",
                            "\n",
                            "    .dataframe thead th {\n",
                            "        text-align: left;\n",
                            "    }\n",
                            "\n",
                            "    .dataframe tbody tr th {\n",
                            "        vertical-align: top;\n",
                            "    }\n",
                            "</style>\n",
                            "<table border=\"1\" class=\"dataframe\">\n",
                            "  <thead>\n",
                            "    <tr style=\"text-align: right;\">\n",
                            "      <th></th>\n",
                            "      <th>victim_id</th>\n",
                            "      <th>incident_time</th>\n",
                            "      <th>incident_location</th>\n",
                            "      <th>incident_tehsil</th>\n",
                            "      <th>cause_of_emergency</th>\n",
                            "      <th>base_to_scene_distance</th>\n",
                            "      <th>scene_to_hospital_distance</th>\n",
                            "      <th>roadway_feature</th>\n",
                            "      <th>road_type</th>\n",
                            "      <th>surrounding_area</th>\n",
                            "      <th>...</th>\n",
                            "      <th>incident_Day</th>\n",
                            "      <th>incident_Dayofweek</th>\n",
                            "      <th>incident_Dayofyear</th>\n",
                            "      <th>incident_Is_month_end</th>\n",
                            "      <th>incident_Is_month_start</th>\n",
                            "      <th>incident_Is_quarter_end</th>\n",
                            "      <th>incident_Is_quarter_start</th>\n",
                            "      <th>incident_Is_year_end</th>\n",
                            "      <th>incident_Is_year_start</th>\n",
                            "      <th>incident_Elapsed</th>\n",
                            "    </tr>\n",
                            "  </thead>\n",
                            "  <tbody>\n",
                            "    <tr>\n",
                            "      <th>0</th>\n",
                            "      <td>VIC20100001032706</td>\n",
                            "      <td>15:46:12</td>\n",
                            "      <td>Chc Sahaspur</td>\n",
                            "      <td>Sahaspur</td>\n",
                            "      <td>MVC - Pedestrian (Run Over/Hit &amp; Run)</td>\n",
                            "      <td>23</td>\n",
                            "      <td>27</td>\n",
                            "      <td>INT</td>\n",
                            "      <td>LOC</td>\n",
                            "      <td>MAR</td>\n",
                            "      <td>...</td>\n",
                            "      <td>19</td>\n",
                            "      <td>2</td>\n",
                            "      <td>139</td>\n",
                            "      <td>False</td>\n",
                            "      <td>False</td>\n",
                            "      <td>False</td>\n",
                            "      <td>False</td>\n",
                            "      <td>False</td>\n",
                            "      <td>False</td>\n",
                            "      <td>1274227200</td>\n",
                            "    </tr>\n",
                            "    <tr>\n",
                            "      <th>1</th>\n",
                            "      <td>VIC20120000441519</td>\n",
                            "      <td>16:55:28</td>\n",
                            "      <td>Doiwala Ambulance</td>\n",
                            "      <td>Doiwala</td>\n",
                            "      <td>Multiple Vehicular Incident</td>\n",
                            "      <td>5</td>\n",
                            "      <td>21</td>\n",
                            "      <td>CUR</td>\n",
                            "      <td>HIW</td>\n",
                            "      <td>AGL</td>\n",
                            "      <td>...</td>\n",
                            "      <td>18</td>\n",
                            "      <td>6</td>\n",
                            "      <td>78</td>\n",
                            "      <td>False</td>\n",
                            "      <td>False</td>\n",
                            "      <td>False</td>\n",
                            "      <td>False</td>\n",
                            "      <td>False</td>\n",
                            "      <td>False</td>\n",
                            "      <td>1332028800</td>\n",
                            "    </tr>\n",
                            "    <tr>\n",
                            "      <th>2</th>\n",
                            "      <td>VIC20130000014119</td>\n",
                            "      <td>18:49:35</td>\n",
                            "      <td>Race Course Chowk</td>\n",
                            "      <td>Raipur</td>\n",
                            "      <td>Multiple Vehicular Incident</td>\n",
                            "      <td>3</td>\n",
                            "      <td>1</td>\n",
                            "      <td>CUR</td>\n",
                            "      <td>HIW</td>\n",
                            "      <td>AGL</td>\n",
                            "      <td>...</td>\n",
                            "      <td>1</td>\n",
                            "      <td>0</td>\n",
                            "      <td>91</td>\n",
                            "      <td>False</td>\n",
                            "      <td>True</td>\n",
                            "      <td>False</td>\n",
                            "      <td>True</td>\n",
                            "      <td>False</td>\n",
                            "      <td>False</td>\n",
                            "      <td>1364774400</td>\n",
                            "    </tr>\n",
                            "    <tr>\n",
                            "      <th>3</th>\n",
                            "      <td>VIC20140000614145</td>\n",
                            "      <td>16:22:55</td>\n",
                            "      <td>Selaqui</td>\n",
                            "      <td>Sahaspur</td>\n",
                            "      <td>Multiple Vehicular Incident</td>\n",
                            "      <td>18</td>\n",
                            "      <td>14</td>\n",
                            "      <td>UNK</td>\n",
                            "      <td>LOC</td>\n",
                            "      <td>AGL</td>\n",
                            "      <td>...</td>\n",
                            "      <td>31</td>\n",
                            "      <td>5</td>\n",
                            "      <td>151</td>\n",
                            "      <td>True</td>\n",
                            "      <td>False</td>\n",
                            "      <td>False</td>\n",
                            "      <td>False</td>\n",
                            "      <td>False</td>\n",
                            "      <td>False</td>\n",
                            "      <td>1401494400</td>\n",
                            "    </tr>\n",
                            "    <tr>\n",
                            "      <th>4</th>\n",
                            "      <td>VIC20090002298916</td>\n",
                            "      <td>15:35:15</td>\n",
                            "      <td>Ambari Mode,Dakpather</td>\n",
                            "      <td>Vikasnagar</td>\n",
                            "      <td>2 Wheeler accidents</td>\n",
                            "      <td>6</td>\n",
                            "      <td>10</td>\n",
                            "      <td>INT</td>\n",
                            "      <td>LOC</td>\n",
                            "      <td>MAR</td>\n",
                            "      <td>...</td>\n",
                            "      <td>12</td>\n",
                            "      <td>2</td>\n",
                            "      <td>224</td>\n",
                            "      <td>False</td>\n",
                            "      <td>False</td>\n",
                            "      <td>False</td>\n",
                            "      <td>False</td>\n",
                            "      <td>False</td>\n",
                            "      <td>False</td>\n",
                            "      <td>1250035200</td>\n",
                            "    </tr>\n",
                            "  </tbody>\n",
                            "</table>\n",
                            "<p>5 rows × 23 columns</p>\n",
                            "</div>"
                        ],
                        "text/plain": [
                            "           victim_id incident_time      incident_location incident_tehsil  \\\n",
                            "0  VIC20100001032706      15:46:12           Chc Sahaspur        Sahaspur   \n",
                            "1  VIC20120000441519      16:55:28      Doiwala Ambulance         Doiwala   \n",
                            "2  VIC20130000014119      18:49:35      Race Course Chowk          Raipur   \n",
                            "3  VIC20140000614145      16:22:55                Selaqui        Sahaspur   \n",
                            "4  VIC20090002298916      15:35:15  Ambari Mode,Dakpather      Vikasnagar   \n",
                            "\n",
                            "                      cause_of_emergency  base_to_scene_distance  \\\n",
                            "0  MVC - Pedestrian (Run Over/Hit & Run)                      23   \n",
                            "1            Multiple Vehicular Incident                       5   \n",
                            "2            Multiple Vehicular Incident                       3   \n",
                            "3            Multiple Vehicular Incident                      18   \n",
                            "4                    2 Wheeler accidents                       6   \n",
                            "\n",
                            "   scene_to_hospital_distance roadway_feature road_type surrounding_area  \\\n",
                            "0                          27             INT       LOC              MAR   \n",
                            "1                          21             CUR       HIW              AGL   \n",
                            "2                           1             CUR       HIW              AGL   \n",
                            "3                          14             UNK       LOC              AGL   \n",
                            "4                          10             INT       LOC              MAR   \n",
                            "\n",
                            "         ...         incident_Day  incident_Dayofweek  incident_Dayofyear  \\\n",
                            "0        ...                   19                   2                 139   \n",
                            "1        ...                   18                   6                  78   \n",
                            "2        ...                    1                   0                  91   \n",
                            "3        ...                   31                   5                 151   \n",
                            "4        ...                   12                   2                 224   \n",
                            "\n",
                            "   incident_Is_month_end  incident_Is_month_start  incident_Is_quarter_end  \\\n",
                            "0                  False                    False                    False   \n",
                            "1                  False                    False                    False   \n",
                            "2                  False                     True                    False   \n",
                            "3                   True                    False                    False   \n",
                            "4                  False                    False                    False   \n",
                            "\n",
                            "   incident_Is_quarter_start  incident_Is_year_end  incident_Is_year_start  \\\n",
                            "0                      False                 False                   False   \n",
                            "1                      False                 False                   False   \n",
                            "2                       True                 False                   False   \n",
                            "3                      False                 False                   False   \n",
                            "4                      False                 False                   False   \n",
                            "\n",
                            "   incident_Elapsed  \n",
                            "0        1274227200  \n",
                            "1        1332028800  \n",
                            "2        1364774400  \n",
                            "3        1401494400  \n",
                            "4        1250035200  \n",
                            "\n",
                            "[5 rows x 23 columns]"
                        ]
                    },
                    "execution_count": 24,
                    "metadata": {},
                    "output_type": "execute_result"
                }
            ],
            "source": [
                "add_datepart(test, 'incident_date')\n",
                "test.head()"
            ]
        },
        {
            "cell_type": "code",
            "execution_count": 25,
            "metadata": {
                "ExecuteTime": {
                    "end_time": "2018-03-18T17:38:33.330817Z",
                    "start_time": "2018-03-18T17:38:33.170210Z"
                }
            },
            "outputs": [],
            "source": [
                "test.drop('incident_Elapsed', axis=1, inplace=True)"
            ]
        },
        {
            "cell_type": "code",
            "execution_count": 26,
            "metadata": {
                "ExecuteTime": {
                    "end_time": "2018-03-18T17:38:33.486532Z",
                    "start_time": "2018-03-18T17:38:33.330817Z"
                }
            },
            "outputs": [],
            "source": [
                "test['incident_location'].fillna('Dehradun',inplace=True)"
            ]
        },
        {
            "cell_type": "code",
            "execution_count": 27,
            "metadata": {
                "ExecuteTime": {
                    "end_time": "2018-03-18T17:38:33.658652Z",
                    "start_time": "2018-03-18T17:38:33.486532Z"
                }
            },
            "outputs": [],
            "source": [
                "train_cats(test)"
            ]
        },
        {
            "cell_type": "code",
            "execution_count": 115,
            "metadata": {
                "ExecuteTime": {
                    "end_time": "2018-03-18T07:56:04.246473Z",
                    "start_time": "2018-03-18T07:56:03.998286Z"
                }
            },
            "outputs": [],
            "source": [
                "os.makedirs('tmp', exist_ok=True)\n",
                "df_raw.to_feather('tmp/av_rookree_raw')"
            ]
        },
        {
            "cell_type": "code",
            "execution_count": 187,
            "metadata": {
                "ExecuteTime": {
                    "end_time": "2018-03-18T08:31:34.888128Z",
                    "start_time": "2018-03-18T08:31:34.689418Z"
                }
            },
            "outputs": [
                {
                    "data": {
                        "text/html": [
                            "<div>\n",
                            "<style>\n",
                            "    .dataframe thead tr:only-child th {\n",
                            "        text-align: right;\n",
                            "    }\n",
                            "\n",
                            "    .dataframe thead th {\n",
                            "        text-align: left;\n",
                            "    }\n",
                            "\n",
                            "    .dataframe tbody tr th {\n",
                            "        vertical-align: top;\n",
                            "    }\n",
                            "</style>\n",
                            "<table border=\"1\" class=\"dataframe\">\n",
                            "  <thead>\n",
                            "    <tr style=\"text-align: right;\">\n",
                            "      <th></th>\n",
                            "      <th>victim_id</th>\n",
                            "      <th>incident_time</th>\n",
                            "      <th>incident_location</th>\n",
                            "      <th>incident_tehsil</th>\n",
                            "      <th>cause_of_emergency</th>\n",
                            "      <th>base_to_scene_distance</th>\n",
                            "      <th>scene_to_hospital_distance</th>\n",
                            "      <th>roadway_feature</th>\n",
                            "      <th>road_type</th>\n",
                            "      <th>surrounding_area</th>\n",
                            "      <th>...</th>\n",
                            "      <th>incident_Week</th>\n",
                            "      <th>incident_Day</th>\n",
                            "      <th>incident_Dayofweek</th>\n",
                            "      <th>incident_Dayofyear</th>\n",
                            "      <th>incident_Is_month_end</th>\n",
                            "      <th>incident_Is_month_start</th>\n",
                            "      <th>incident_Is_quarter_end</th>\n",
                            "      <th>incident_Is_quarter_start</th>\n",
                            "      <th>incident_Is_year_end</th>\n",
                            "      <th>incident_Is_year_start</th>\n",
                            "    </tr>\n",
                            "  </thead>\n",
                            "  <tbody>\n",
                            "    <tr>\n",
                            "      <th>0</th>\n",
                            "      <td>VIC20100001032706</td>\n",
                            "      <td>15:46:12</td>\n",
                            "      <td>Chc Sahaspur</td>\n",
                            "      <td>Sahaspur</td>\n",
                            "      <td>MVC - Pedestrian (Run Over/Hit &amp; Run)</td>\n",
                            "      <td>23</td>\n",
                            "      <td>27</td>\n",
                            "      <td>INT</td>\n",
                            "      <td>LOC</td>\n",
                            "      <td>MAR</td>\n",
                            "      <td>...</td>\n",
                            "      <td>20</td>\n",
                            "      <td>19</td>\n",
                            "      <td>2</td>\n",
                            "      <td>139</td>\n",
                            "      <td>False</td>\n",
                            "      <td>False</td>\n",
                            "      <td>False</td>\n",
                            "      <td>False</td>\n",
                            "      <td>False</td>\n",
                            "      <td>False</td>\n",
                            "    </tr>\n",
                            "    <tr>\n",
                            "      <th>1</th>\n",
                            "      <td>VIC20120000441519</td>\n",
                            "      <td>16:55:28</td>\n",
                            "      <td>Doiwala Ambulance</td>\n",
                            "      <td>Doiwala</td>\n",
                            "      <td>Multiple Vehicular Incident</td>\n",
                            "      <td>5</td>\n",
                            "      <td>21</td>\n",
                            "      <td>CUR</td>\n",
                            "      <td>HIW</td>\n",
                            "      <td>AGL</td>\n",
                            "      <td>...</td>\n",
                            "      <td>11</td>\n",
                            "      <td>18</td>\n",
                            "      <td>6</td>\n",
                            "      <td>78</td>\n",
                            "      <td>False</td>\n",
                            "      <td>False</td>\n",
                            "      <td>False</td>\n",
                            "      <td>False</td>\n",
                            "      <td>False</td>\n",
                            "      <td>False</td>\n",
                            "    </tr>\n",
                            "  </tbody>\n",
                            "</table>\n",
                            "<p>2 rows × 22 columns</p>\n",
                            "</div>"
                        ],
                        "text/plain": [
                            "           victim_id incident_time  incident_location incident_tehsil  \\\n",
                            "0  VIC20100001032706      15:46:12       Chc Sahaspur        Sahaspur   \n",
                            "1  VIC20120000441519      16:55:28  Doiwala Ambulance         Doiwala   \n",
                            "\n",
                            "                      cause_of_emergency  base_to_scene_distance  \\\n",
                            "0  MVC - Pedestrian (Run Over/Hit & Run)                      23   \n",
                            "1            Multiple Vehicular Incident                       5   \n",
                            "\n",
                            "   scene_to_hospital_distance roadway_feature road_type surrounding_area  \\\n",
                            "0                          27             INT       LOC              MAR   \n",
                            "1                          21             CUR       HIW              AGL   \n",
                            "\n",
                            "            ...            incident_Week  incident_Day  incident_Dayofweek  \\\n",
                            "0           ...                       20            19                   2   \n",
                            "1           ...                       11            18                   6   \n",
                            "\n",
                            "   incident_Dayofyear  incident_Is_month_end  incident_Is_month_start  \\\n",
                            "0                 139                  False                    False   \n",
                            "1                  78                  False                    False   \n",
                            "\n",
                            "   incident_Is_quarter_end  incident_Is_quarter_start  incident_Is_year_end  \\\n",
                            "0                    False                      False                 False   \n",
                            "1                    False                      False                 False   \n",
                            "\n",
                            "   incident_Is_year_start  \n",
                            "0                   False  \n",
                            "1                   False  \n",
                            "\n",
                            "[2 rows x 22 columns]"
                        ]
                    },
                    "execution_count": 187,
                    "metadata": {},
                    "output_type": "execute_result"
                }
            ],
            "source": [
                "test.head(2)"
            ]
        },
        {
            "cell_type": "code",
            "execution_count": 188,
            "metadata": {
                "ExecuteTime": {
                    "end_time": "2018-03-18T08:31:35.080079Z",
                    "start_time": "2018-03-18T08:31:34.888128Z"
                }
            },
            "outputs": [
                {
                    "name": "stdout",
                    "output_type": "stream",
                    "text": [
                        "<class 'pandas.core.frame.DataFrame'>\n",
                        "RangeIndex: 5048 entries, 0 to 5047\n",
                        "Data columns (total 22 columns):\n",
                        "victim_id                     5048 non-null category\n",
                        "incident_time                 5048 non-null category\n",
                        "incident_location             5048 non-null category\n",
                        "incident_tehsil               5048 non-null category\n",
                        "cause_of_emergency            5048 non-null category\n",
                        "base_to_scene_distance        5048 non-null int64\n",
                        "scene_to_hospital_distance    5048 non-null int64\n",
                        "roadway_feature               5048 non-null category\n",
                        "road_type                     5048 non-null category\n",
                        "surrounding_area              5048 non-null category\n",
                        "incident_Year                 5048 non-null int64\n",
                        "incident_Month                5048 non-null int64\n",
                        "incident_Week                 5048 non-null int64\n",
                        "incident_Day                  5048 non-null int64\n",
                        "incident_Dayofweek            5048 non-null int64\n",
                        "incident_Dayofyear            5048 non-null int64\n",
                        "incident_Is_month_end         5048 non-null bool\n",
                        "incident_Is_month_start       5048 non-null bool\n",
                        "incident_Is_quarter_end       5048 non-null bool\n",
                        "incident_Is_quarter_start     5048 non-null bool\n",
                        "incident_Is_year_end          5048 non-null bool\n",
                        "incident_Is_year_start        5048 non-null bool\n",
                        "dtypes: bool(6), category(8), int64(8)\n",
                        "memory usage: 899.9 KB\n"
                    ]
                }
            ],
            "source": [
                "test.info()"
            ]
        },
        {
            "cell_type": "code",
            "execution_count": 15,
            "metadata": {
                "ExecuteTime": {
                    "end_time": "2018-03-18T17:22:08.757961Z",
                    "start_time": "2018-03-18T17:22:08.593351Z"
                }
            },
            "outputs": [],
            "source": [
                "y = df_raw.criticality"
            ]
        },
        {
            "cell_type": "code",
            "execution_count": 16,
            "metadata": {
                "ExecuteTime": {
                    "end_time": "2018-03-18T17:22:11.668493Z",
                    "start_time": "2018-03-18T17:22:11.458156Z"
                }
            },
            "outputs": [],
            "source": [
                "df_raw.drop('criticality',axis=1,inplace=True)"
            ]
        },
        {
            "cell_type": "code",
            "execution_count": 17,
            "metadata": {
                "ExecuteTime": {
                    "end_time": "2018-03-18T17:22:12.675543Z",
                    "start_time": "2018-03-18T17:22:12.309963Z"
                }
            },
            "outputs": [
                {
                    "name": "stderr",
                    "output_type": "stream",
                    "text": [
                        "C:\\ProgramData\\Anaconda3\\lib\\site-packages\\sklearn\\model_selection\\_split.py:2026: FutureWarning: From version 0.21, test_size will always complement train_size unless both are specified.\n",
                        "  FutureWarning)\n"
                    ]
                }
            ],
            "source": [
                "from sklearn.model_selection import train_test_split\n",
                "X_train, X_validation, y_train, y_validation = train_test_split(df_raw, y, train_size=0.8, random_state=1234)"
            ]
        },
        {
            "cell_type": "code",
            "execution_count": 18,
            "metadata": {
                "ExecuteTime": {
                    "end_time": "2018-03-18T17:22:13.018741Z",
                    "start_time": "2018-03-18T17:22:12.830743Z"
                }
            },
            "outputs": [
                {
                    "name": "stdout",
                    "output_type": "stream",
                    "text": [
                        "<class 'pandas.core.frame.DataFrame'>\n",
                        "RangeIndex: 11777 entries, 0 to 11776\n",
                        "Data columns (total 22 columns):\n",
                        "victim_id                     11777 non-null category\n",
                        "incident_time                 11777 non-null category\n",
                        "incident_location             11777 non-null category\n",
                        "incident_tehsil               11777 non-null category\n",
                        "cause_of_emergency            11777 non-null category\n",
                        "base_to_scene_distance        11777 non-null int64\n",
                        "scene_to_hospital_distance    11777 non-null int64\n",
                        "roadway_feature               11777 non-null category\n",
                        "road_type                     11777 non-null category\n",
                        "surrounding_area              11777 non-null category\n",
                        "incident_Year                 11777 non-null int64\n",
                        "incident_Month                11777 non-null int64\n",
                        "incident_Week                 11777 non-null int64\n",
                        "incident_Day                  11777 non-null int64\n",
                        "incident_Dayofweek            11777 non-null int64\n",
                        "incident_Dayofyear            11777 non-null int64\n",
                        "incident_Is_month_end         11777 non-null bool\n",
                        "incident_Is_month_start       11777 non-null bool\n",
                        "incident_Is_quarter_end       11777 non-null bool\n",
                        "incident_Is_quarter_start     11777 non-null bool\n",
                        "incident_Is_year_end          11777 non-null bool\n",
                        "incident_Is_year_start        11777 non-null bool\n",
                        "dtypes: bool(6), category(8), int64(8)\n",
                        "memory usage: 1.9 MB\n"
                    ]
                }
            ],
            "source": [
                "df_raw.info()"
            ]
        },
        {
            "cell_type": "code",
            "execution_count": 19,
            "metadata": {
                "ExecuteTime": {
                    "end_time": "2018-03-18T17:22:14.354727Z",
                    "start_time": "2018-03-18T17:22:14.111281Z"
                }
            },
            "outputs": [],
            "source": [
                "categorical_features_indices = np.where(df_raw.dtypes != (np.int64 or np.bool))[0]"
            ]
        },
        {
            "cell_type": "code",
            "execution_count": 20,
            "metadata": {
                "ExecuteTime": {
                    "end_time": "2018-03-18T17:22:15.729198Z",
                    "start_time": "2018-03-18T17:22:15.499381Z"
                }
            },
            "outputs": [
                {
                    "data": {
                        "text/plain": [
                            "array([ 0,  1,  2,  3,  4,  7,  8,  9, 16, 17, 18, 19, 20, 21], dtype=int64)"
                        ]
                    },
                    "execution_count": 20,
                    "metadata": {},
                    "output_type": "execute_result"
                }
            ],
            "source": [
                "categorical_features_indices"
            ]
        },
        {
            "cell_type": "code",
            "execution_count": 21,
            "metadata": {
                "ExecuteTime": {
                    "end_time": "2018-03-18T17:38:31.826368Z",
                    "start_time": "2018-03-18T17:22:27.028645Z"
                },
                "scrolled": true
            },
            "outputs": [
                {
                    "name": "stdout",
                    "output_type": "stream",
                    "text": [
                        "0:\tlearn: 0.6787930\ttest: 0.6787468\tbest: 0.6787468 (0)\ttotal: 204ms\tremaining: 3m 23s\n",
                        "1:\tlearn: 0.6652549\ttest: 0.6651285\tbest: 0.6651285 (1)\ttotal: 318ms\tremaining: 2m 38s\n",
                        "2:\tlearn: 0.6521447\ttest: 0.6519880\tbest: 0.6519880 (2)\ttotal: 342ms\tremaining: 1m 53s\n",
                        "3:\tlearn: 0.6390820\ttest: 0.6389544\tbest: 0.6389544 (3)\ttotal: 412ms\tremaining: 1m 42s\n",
                        "4:\tlearn: 0.6266753\ttest: 0.6265258\tbest: 0.6265258 (4)\ttotal: 425ms\tremaining: 1m 24s\n",
                        "5:\tlearn: 0.6144091\ttest: 0.6142177\tbest: 0.6142177 (5)\ttotal: 467ms\tremaining: 1m 17s\n",
                        "6:\tlearn: 0.6026720\ttest: 0.6024569\tbest: 0.6024569 (6)\ttotal: 484ms\tremaining: 1m 8s\n",
                        "7:\tlearn: 0.5912546\ttest: 0.5910012\tbest: 0.5910012 (7)\ttotal: 532ms\tremaining: 1m 6s\n",
                        "8:\tlearn: 0.5801494\ttest: 0.5798758\tbest: 0.5798758 (8)\ttotal: 542ms\tremaining: 59.7s\n",
                        "9:\tlearn: 0.5693514\ttest: 0.5690566\tbest: 0.5690566 (9)\ttotal: 569ms\tremaining: 56.3s\n",
                        "10:\tlearn: 0.5588476\ttest: 0.5585331\tbest: 0.5585331 (10)\ttotal: 578ms\tremaining: 51.9s\n",
                        "11:\tlearn: 0.5485114\ttest: 0.5481499\tbest: 0.5481499 (11)\ttotal: 656ms\tremaining: 54s\n",
                        "12:\tlearn: 0.5385818\ttest: 0.5382019\tbest: 0.5382019 (12)\ttotal: 668ms\tremaining: 50.7s\n",
                        "13:\tlearn: 0.5289121\ttest: 0.5285203\tbest: 0.5285203 (13)\ttotal: 767ms\tremaining: 54s\n",
                        "14:\tlearn: 0.5193906\ttest: 0.5190377\tbest: 0.5190377 (14)\ttotal: 809ms\tremaining: 53.1s\n",
                        "15:\tlearn: 0.5098752\ttest: 0.5091187\tbest: 0.5091187 (15)\ttotal: 826ms\tremaining: 50.8s\n",
                        "16:\tlearn: 0.5006800\ttest: 0.4996631\tbest: 0.4996631 (16)\ttotal: 867ms\tremaining: 50.2s\n",
                        "17:\tlearn: 0.4917342\ttest: 0.4907449\tbest: 0.4907449 (17)\ttotal: 965ms\tremaining: 52.6s\n",
                        "18:\tlearn: 0.4833670\ttest: 0.4823369\tbest: 0.4823369 (18)\ttotal: 984ms\tremaining: 50.8s\n",
                        "19:\tlearn: 0.4751319\ttest: 0.4740782\tbest: 0.4740782 (19)\ttotal: 1.03s\tremaining: 50.5s\n",
                        "20:\tlearn: 0.4671706\ttest: 0.4660472\tbest: 0.4660472 (20)\ttotal: 1.07s\tremaining: 50s\n",
                        "21:\tlearn: 0.4594705\ttest: 0.4583371\tbest: 0.4583371 (21)\ttotal: 1.14s\tremaining: 50.7s\n",
                        "22:\tlearn: 0.4520095\ttest: 0.4508708\tbest: 0.4508708 (22)\ttotal: 1.15s\tremaining: 48.9s\n",
                        "23:\tlearn: 0.4447568\ttest: 0.4436094\tbest: 0.4436094 (23)\ttotal: 1.18s\tremaining: 48s\n",
                        "24:\tlearn: 0.4377091\ttest: 0.4365557\tbest: 0.4365557 (24)\ttotal: 1.2s\tremaining: 46.8s\n",
                        "25:\tlearn: 0.4308572\ttest: 0.4296985\tbest: 0.4296985 (25)\ttotal: 1.21s\tremaining: 45.3s\n",
                        "26:\tlearn: 0.4241972\ttest: 0.4230332\tbest: 0.4230332 (26)\ttotal: 1.22s\tremaining: 43.9s\n",
                        "27:\tlearn: 0.4175402\ttest: 0.4163914\tbest: 0.4163914 (27)\ttotal: 1.26s\tremaining: 43.7s\n",
                        "28:\tlearn: 0.4112463\ttest: 0.4100896\tbest: 0.4100896 (28)\ttotal: 1.32s\tremaining: 44.3s\n",
                        "29:\tlearn: 0.4050687\ttest: 0.4039014\tbest: 0.4039014 (29)\ttotal: 1.34s\tremaining: 43.4s\n",
                        "30:\tlearn: 0.3989607\ttest: 0.3978028\tbest: 0.3978028 (30)\ttotal: 1.36s\tremaining: 42.6s\n",
                        "31:\tlearn: 0.3928420\ttest: 0.3914250\tbest: 0.3914250 (31)\ttotal: 1.42s\tremaining: 43s\n",
                        "32:\tlearn: 0.3872408\ttest: 0.3858225\tbest: 0.3858225 (32)\ttotal: 1.43s\tremaining: 42s\n",
                        "33:\tlearn: 0.3817962\ttest: 0.3803766\tbest: 0.3803766 (33)\ttotal: 1.44s\tremaining: 41s\n",
                        "34:\tlearn: 0.3765039\ttest: 0.3750827\tbest: 0.3750827 (34)\ttotal: 1.46s\tremaining: 40.2s\n",
                        "35:\tlearn: 0.3713527\ttest: 0.3699029\tbest: 0.3699029 (35)\ttotal: 1.48s\tremaining: 39.5s\n",
                        "36:\tlearn: 0.3663520\ttest: 0.3649010\tbest: 0.3649010 (36)\ttotal: 1.48s\tremaining: 38.6s\n",
                        "37:\tlearn: 0.3614849\ttest: 0.3600358\tbest: 0.3600358 (37)\ttotal: 1.53s\tremaining: 38.7s\n",
                        "38:\tlearn: 0.3567174\ttest: 0.3552602\tbest: 0.3552602 (38)\ttotal: 1.56s\tremaining: 38.5s\n",
                        "39:\tlearn: 0.3519573\ttest: 0.3504922\tbest: 0.3504922 (39)\ttotal: 1.63s\tremaining: 39.1s\n",
                        "40:\tlearn: 0.3473389\ttest: 0.3458868\tbest: 0.3458868 (40)\ttotal: 1.65s\tremaining: 38.7s\n",
                        "41:\tlearn: 0.3429879\ttest: 0.3415064\tbest: 0.3415064 (41)\ttotal: 1.7s\tremaining: 38.7s\n",
                        "42:\tlearn: 0.3381973\ttest: 0.3367167\tbest: 0.3367167 (42)\ttotal: 1.73s\tremaining: 38.5s\n",
                        "43:\tlearn: 0.3341068\ttest: 0.3326314\tbest: 0.3326314 (43)\ttotal: 1.76s\tremaining: 38.2s\n",
                        "44:\tlearn: 0.3301331\ttest: 0.3286569\tbest: 0.3286569 (44)\ttotal: 1.77s\tremaining: 37.6s\n",
                        "45:\tlearn: 0.3262674\ttest: 0.3247906\tbest: 0.3247906 (45)\ttotal: 1.85s\tremaining: 38.5s\n",
                        "46:\tlearn: 0.3224333\ttest: 0.3209124\tbest: 0.3209124 (46)\ttotal: 1.89s\tremaining: 38.3s\n",
                        "47:\tlearn: 0.3187813\ttest: 0.3172605\tbest: 0.3172605 (47)\ttotal: 1.9s\tremaining: 37.6s\n",
                        "48:\tlearn: 0.3152299\ttest: 0.3137090\tbest: 0.3137090 (48)\ttotal: 1.91s\tremaining: 37s\n",
                        "49:\tlearn: 0.3117762\ttest: 0.3102551\tbest: 0.3102551 (49)\ttotal: 1.92s\tremaining: 36.5s\n",
                        "50:\tlearn: 0.3084151\ttest: 0.3068938\tbest: 0.3068938 (50)\ttotal: 1.94s\tremaining: 36.1s\n",
                        "51:\tlearn: 0.3051454\ttest: 0.3036281\tbest: 0.3036281 (51)\ttotal: 1.97s\tremaining: 35.9s\n",
                        "52:\tlearn: 0.3019419\ttest: 0.3004225\tbest: 0.3004225 (52)\ttotal: 2.1s\tremaining: 37.5s\n",
                        "53:\tlearn: 0.2988520\ttest: 0.2973322\tbest: 0.2973322 (53)\ttotal: 2.11s\tremaining: 37s\n",
                        "54:\tlearn: 0.2958475\ttest: 0.2943256\tbest: 0.2943256 (54)\ttotal: 2.15s\tremaining: 36.9s\n",
                        "55:\tlearn: 0.2929247\ttest: 0.2913996\tbest: 0.2913996 (55)\ttotal: 2.19s\tremaining: 36.9s\n",
                        "56:\tlearn: 0.2900805\ttest: 0.2885547\tbest: 0.2885547 (56)\ttotal: 2.2s\tremaining: 36.4s\n",
                        "57:\tlearn: 0.2870972\ttest: 0.2855454\tbest: 0.2855454 (57)\ttotal: 2.23s\tremaining: 36.2s\n",
                        "58:\tlearn: 0.2844087\ttest: 0.2828559\tbest: 0.2828559 (58)\ttotal: 2.24s\tremaining: 35.8s\n",
                        "59:\tlearn: 0.2817930\ttest: 0.2802392\tbest: 0.2802392 (59)\ttotal: 2.25s\tremaining: 35.3s\n",
                        "60:\tlearn: 0.2792483\ttest: 0.2776926\tbest: 0.2776926 (60)\ttotal: 2.3s\tremaining: 35.4s\n",
                        "61:\tlearn: 0.2767720\ttest: 0.2752150\tbest: 0.2752150 (61)\ttotal: 2.31s\tremaining: 34.9s\n",
                        "62:\tlearn: 0.2741392\ttest: 0.2724993\tbest: 0.2724993 (62)\ttotal: 2.38s\tremaining: 35.4s\n",
                        "63:\tlearn: 0.2717978\ttest: 0.2701579\tbest: 0.2701579 (63)\ttotal: 2.39s\tremaining: 35s\n",
                        "64:\tlearn: 0.2693211\ttest: 0.2676554\tbest: 0.2676554 (64)\ttotal: 2.42s\tremaining: 34.8s\n",
                        "65:\tlearn: 0.2668889\ttest: 0.2652464\tbest: 0.2652464 (65)\ttotal: 2.44s\tremaining: 34.6s\n",
                        "66:\tlearn: 0.2647376\ttest: 0.2630946\tbest: 0.2630946 (66)\ttotal: 2.46s\tremaining: 34.3s\n",
                        "67:\tlearn: 0.2625434\ttest: 0.2609098\tbest: 0.2609098 (67)\ttotal: 2.48s\tremaining: 34.1s\n",
                        "68:\tlearn: 0.2605059\ttest: 0.2588715\tbest: 0.2588715 (68)\ttotal: 2.5s\tremaining: 33.8s\n",
                        "69:\tlearn: 0.2583507\ttest: 0.2567468\tbest: 0.2567468 (69)\ttotal: 2.69s\tremaining: 35.7s\n",
                        "70:\tlearn: 0.2558165\ttest: 0.2542685\tbest: 0.2542685 (70)\ttotal: 2.76s\tremaining: 36.1s\n",
                        "71:\tlearn: 0.2535561\ttest: 0.2520146\tbest: 0.2520146 (71)\ttotal: 2.79s\tremaining: 36s\n",
                        "72:\tlearn: 0.2517435\ttest: 0.2502007\tbest: 0.2502007 (72)\ttotal: 2.81s\tremaining: 35.7s\n",
                        "73:\tlearn: 0.2498201\ttest: 0.2482478\tbest: 0.2482478 (73)\ttotal: 2.87s\tremaining: 35.9s\n",
                        "74:\tlearn: 0.2479455\ttest: 0.2463589\tbest: 0.2463589 (74)\ttotal: 2.94s\tremaining: 36.3s\n",
                        "75:\tlearn: 0.2462764\ttest: 0.2446893\tbest: 0.2446893 (75)\ttotal: 2.96s\tremaining: 36s\n",
                        "76:\tlearn: 0.2439186\ttest: 0.2423557\tbest: 0.2423557 (76)\ttotal: 3.02s\tremaining: 36.2s\n",
                        "77:\tlearn: 0.2423455\ttest: 0.2407817\tbest: 0.2407817 (77)\ttotal: 3.07s\tremaining: 36.3s\n",
                        "78:\tlearn: 0.2404637\ttest: 0.2388936\tbest: 0.2388936 (78)\ttotal: 3.45s\tremaining: 40.2s\n",
                        "79:\tlearn: 0.2388742\ttest: 0.2373195\tbest: 0.2373195 (79)\ttotal: 3.5s\tremaining: 40.3s\n",
                        "80:\tlearn: 0.2373788\ttest: 0.2358148\tbest: 0.2358148 (80)\ttotal: 3.56s\tremaining: 40.4s\n",
                        "81:\tlearn: 0.2358280\ttest: 0.2342438\tbest: 0.2342438 (81)\ttotal: 3.69s\tremaining: 41.3s\n",
                        "82:\tlearn: 0.2344317\ttest: 0.2328475\tbest: 0.2328475 (82)\ttotal: 3.73s\tremaining: 41.2s\n",
                        "83:\tlearn: 0.2327616\ttest: 0.2311560\tbest: 0.2311560 (83)\ttotal: 3.78s\tremaining: 41.2s\n",
                        "84:\tlearn: 0.2314650\ttest: 0.2298589\tbest: 0.2298589 (84)\ttotal: 3.8s\tremaining: 40.9s\n",
                        "85:\tlearn: 0.2302012\ttest: 0.2285947\tbest: 0.2285947 (85)\ttotal: 3.82s\tremaining: 40.6s\n",
                        "86:\tlearn: 0.2286372\ttest: 0.2270156\tbest: 0.2270156 (86)\ttotal: 3.89s\tremaining: 40.8s\n",
                        "87:\tlearn: 0.2274414\ttest: 0.2258196\tbest: 0.2258196 (87)\ttotal: 3.9s\tremaining: 40.4s\n",
                        "88:\tlearn: 0.2261396\ttest: 0.2244351\tbest: 0.2244351 (88)\ttotal: 3.94s\tremaining: 40.3s\n",
                        "89:\tlearn: 0.2247189\ttest: 0.2229492\tbest: 0.2229492 (89)\ttotal: 4.02s\tremaining: 40.7s\n",
                        "90:\tlearn: 0.2231142\ttest: 0.2213914\tbest: 0.2213914 (90)\ttotal: 4.11s\tremaining: 41.1s\n",
                        "91:\tlearn: 0.2219696\ttest: 0.2202679\tbest: 0.2202679 (91)\ttotal: 4.18s\tremaining: 41.2s\n",
                        "92:\tlearn: 0.2208090\ttest: 0.2191206\tbest: 0.2191206 (92)\ttotal: 4.24s\tremaining: 41.4s\n",
                        "93:\tlearn: 0.2197871\ttest: 0.2181003\tbest: 0.2181003 (93)\ttotal: 4.32s\tremaining: 41.6s\n"
                    ]
                },
                {
                    "name": "stdout",
                    "output_type": "stream",
                    "text": [
                        "94:\tlearn: 0.2187999\ttest: 0.2171142\tbest: 0.2171142 (94)\ttotal: 4.33s\tremaining: 41.2s\n",
                        "95:\tlearn: 0.2174298\ttest: 0.2157718\tbest: 0.2157718 (95)\ttotal: 4.36s\tremaining: 41.1s\n",
                        "96:\tlearn: 0.2162001\ttest: 0.2145409\tbest: 0.2145409 (96)\ttotal: 4.39s\tremaining: 40.9s\n",
                        "97:\tlearn: 0.2149838\ttest: 0.2133196\tbest: 0.2133196 (97)\ttotal: 4.49s\tremaining: 41.3s\n",
                        "98:\tlearn: 0.2136957\ttest: 0.2120635\tbest: 0.2120635 (98)\ttotal: 4.68s\tremaining: 42.6s\n",
                        "99:\tlearn: 0.2125096\ttest: 0.2108782\tbest: 0.2108782 (99)\ttotal: 4.77s\tremaining: 42.9s\n",
                        "100:\tlearn: 0.2116802\ttest: 0.2100498\tbest: 0.2100498 (100)\ttotal: 4.78s\tremaining: 42.5s\n",
                        "101:\tlearn: 0.2103530\ttest: 0.2088000\tbest: 0.2088000 (101)\ttotal: 4.87s\tremaining: 42.9s\n",
                        "102:\tlearn: 0.2095695\ttest: 0.2080174\tbest: 0.2080174 (102)\ttotal: 4.88s\tremaining: 42.5s\n",
                        "103:\tlearn: 0.2086363\ttest: 0.2070568\tbest: 0.2070568 (103)\ttotal: 5s\tremaining: 43.1s\n",
                        "104:\tlearn: 0.2078927\ttest: 0.2063144\tbest: 0.2063144 (104)\ttotal: 5.01s\tremaining: 42.7s\n",
                        "105:\tlearn: 0.2070355\ttest: 0.2054521\tbest: 0.2054521 (105)\ttotal: 5.04s\tremaining: 42.5s\n",
                        "106:\tlearn: 0.2063109\ttest: 0.2047276\tbest: 0.2047276 (106)\ttotal: 5.06s\tremaining: 42.2s\n",
                        "107:\tlearn: 0.2053479\ttest: 0.2037818\tbest: 0.2037818 (107)\ttotal: 5.09s\tremaining: 42s\n",
                        "108:\tlearn: 0.2046785\ttest: 0.2031135\tbest: 0.2031135 (108)\ttotal: 5.1s\tremaining: 41.7s\n",
                        "109:\tlearn: 0.2040255\ttest: 0.2024614\tbest: 0.2024614 (109)\ttotal: 5.11s\tremaining: 41.4s\n",
                        "110:\tlearn: 0.2032039\ttest: 0.2016281\tbest: 0.2016281 (110)\ttotal: 5.16s\tremaining: 41.3s\n",
                        "111:\tlearn: 0.2024540\ttest: 0.2008920\tbest: 0.2008920 (111)\ttotal: 5.18s\tremaining: 41.1s\n",
                        "112:\tlearn: 0.2015433\ttest: 0.1999753\tbest: 0.1999753 (112)\ttotal: 5.29s\tremaining: 41.6s\n",
                        "113:\tlearn: 0.2008659\ttest: 0.1992790\tbest: 0.1992790 (113)\ttotal: 5.32s\tremaining: 41.3s\n",
                        "114:\tlearn: 0.1999187\ttest: 0.1983665\tbest: 0.1983665 (114)\ttotal: 5.37s\tremaining: 41.3s\n",
                        "115:\tlearn: 0.1991377\ttest: 0.1976051\tbest: 0.1976051 (115)\ttotal: 5.41s\tremaining: 41.2s\n",
                        "116:\tlearn: 0.1984956\ttest: 0.1969442\tbest: 0.1969442 (116)\ttotal: 5.46s\tremaining: 41.2s\n",
                        "117:\tlearn: 0.1975595\ttest: 0.1960370\tbest: 0.1960370 (117)\ttotal: 5.52s\tremaining: 41.3s\n",
                        "118:\tlearn: 0.1968006\ttest: 0.1952701\tbest: 0.1952701 (118)\ttotal: 5.62s\tremaining: 41.6s\n",
                        "119:\tlearn: 0.1963061\ttest: 0.1947771\tbest: 0.1947771 (119)\ttotal: 5.63s\tremaining: 41.3s\n",
                        "120:\tlearn: 0.1958234\ttest: 0.1942958\tbest: 0.1942958 (120)\ttotal: 5.64s\tremaining: 41s\n",
                        "121:\tlearn: 0.1951076\ttest: 0.1935861\tbest: 0.1935861 (121)\ttotal: 5.66s\tremaining: 40.8s\n",
                        "122:\tlearn: 0.1946498\ttest: 0.1931297\tbest: 0.1931297 (122)\ttotal: 5.68s\tremaining: 40.5s\n",
                        "123:\tlearn: 0.1940951\ttest: 0.1925750\tbest: 0.1925750 (123)\ttotal: 5.73s\tremaining: 40.5s\n",
                        "124:\tlearn: 0.1934573\ttest: 0.1919240\tbest: 0.1919240 (124)\ttotal: 5.75s\tremaining: 40.2s\n",
                        "125:\tlearn: 0.1929123\ttest: 0.1913517\tbest: 0.1913517 (125)\ttotal: 5.77s\tremaining: 40s\n",
                        "126:\tlearn: 0.1921126\ttest: 0.1905725\tbest: 0.1905725 (126)\ttotal: 5.9s\tremaining: 40.6s\n",
                        "127:\tlearn: 0.1913718\ttest: 0.1898547\tbest: 0.1898547 (127)\ttotal: 6.01s\tremaining: 40.9s\n",
                        "128:\tlearn: 0.1909844\ttest: 0.1894689\tbest: 0.1894689 (128)\ttotal: 6.03s\tremaining: 40.7s\n",
                        "129:\tlearn: 0.1902777\ttest: 0.1888180\tbest: 0.1888180 (129)\ttotal: 6.12s\tremaining: 41s\n",
                        "130:\tlearn: 0.1899104\ttest: 0.1884522\tbest: 0.1884522 (130)\ttotal: 6.13s\tremaining: 40.7s\n",
                        "131:\tlearn: 0.1893847\ttest: 0.1879344\tbest: 0.1879344 (131)\ttotal: 6.16s\tremaining: 40.5s\n",
                        "132:\tlearn: 0.1890350\ttest: 0.1875866\tbest: 0.1875866 (132)\ttotal: 6.18s\tremaining: 40.3s\n",
                        "133:\tlearn: 0.1886266\ttest: 0.1871596\tbest: 0.1871596 (133)\ttotal: 6.21s\tremaining: 40.1s\n",
                        "134:\tlearn: 0.1881719\ttest: 0.1866806\tbest: 0.1866806 (134)\ttotal: 6.25s\tremaining: 40s\n",
                        "135:\tlearn: 0.1876600\ttest: 0.1861636\tbest: 0.1861636 (135)\ttotal: 6.27s\tremaining: 39.9s\n",
                        "136:\tlearn: 0.1868521\ttest: 0.1854969\tbest: 0.1854969 (136)\ttotal: 6.45s\tremaining: 40.6s\n",
                        "137:\tlearn: 0.1863301\ttest: 0.1849854\tbest: 0.1849854 (137)\ttotal: 6.47s\tremaining: 40.4s\n",
                        "138:\tlearn: 0.1860333\ttest: 0.1846905\tbest: 0.1846905 (138)\ttotal: 6.49s\tremaining: 40.2s\n",
                        "139:\tlearn: 0.1856583\ttest: 0.1843019\tbest: 0.1843019 (139)\ttotal: 6.52s\tremaining: 40s\n",
                        "140:\tlearn: 0.1853004\ttest: 0.1839221\tbest: 0.1839221 (140)\ttotal: 6.59s\tremaining: 40.2s\n",
                        "141:\tlearn: 0.1850256\ttest: 0.1836479\tbest: 0.1836479 (141)\ttotal: 6.61s\tremaining: 39.9s\n",
                        "142:\tlearn: 0.1845373\ttest: 0.1831676\tbest: 0.1831676 (142)\ttotal: 6.64s\tremaining: 39.8s\n",
                        "143:\tlearn: 0.1842766\ttest: 0.1829075\tbest: 0.1829075 (143)\ttotal: 6.65s\tremaining: 39.5s\n",
                        "144:\tlearn: 0.1838531\ttest: 0.1824728\tbest: 0.1824728 (144)\ttotal: 6.67s\tremaining: 39.3s\n",
                        "145:\tlearn: 0.1834404\ttest: 0.1820488\tbest: 0.1820488 (145)\ttotal: 6.69s\tremaining: 39.1s\n",
                        "146:\tlearn: 0.1828402\ttest: 0.1815168\tbest: 0.1815168 (146)\ttotal: 6.78s\tremaining: 39.4s\n",
                        "147:\tlearn: 0.1823276\ttest: 0.1810432\tbest: 0.1810432 (147)\ttotal: 7.29s\tremaining: 41.9s\n",
                        "148:\tlearn: 0.1821013\ttest: 0.1808173\tbest: 0.1808173 (148)\ttotal: 7.3s\tremaining: 41.7s\n",
                        "149:\tlearn: 0.1815476\ttest: 0.1803074\tbest: 0.1803074 (149)\ttotal: 7.42s\tremaining: 42.1s\n",
                        "150:\tlearn: 0.1811840\ttest: 0.1799477\tbest: 0.1799477 (150)\ttotal: 7.45s\tremaining: 41.9s\n",
                        "151:\tlearn: 0.1809753\ttest: 0.1797395\tbest: 0.1797395 (151)\ttotal: 7.46s\tremaining: 41.6s\n",
                        "152:\tlearn: 0.1804570\ttest: 0.1792506\tbest: 0.1792506 (152)\ttotal: 7.54s\tremaining: 41.7s\n",
                        "153:\tlearn: 0.1799339\ttest: 0.1787694\tbest: 0.1787694 (153)\ttotal: 7.59s\tremaining: 41.7s\n",
                        "154:\tlearn: 0.1794025\ttest: 0.1782851\tbest: 0.1782851 (154)\ttotal: 7.67s\tremaining: 41.8s\n",
                        "155:\tlearn: 0.1790514\ttest: 0.1779248\tbest: 0.1779248 (155)\ttotal: 7.7s\tremaining: 41.7s\n",
                        "156:\tlearn: 0.1788713\ttest: 0.1777450\tbest: 0.1777450 (156)\ttotal: 7.71s\tremaining: 41.4s\n",
                        "157:\tlearn: 0.1784453\ttest: 0.1773499\tbest: 0.1773499 (157)\ttotal: 7.77s\tremaining: 41.4s\n",
                        "158:\tlearn: 0.1780523\ttest: 0.1769844\tbest: 0.1769844 (158)\ttotal: 7.82s\tremaining: 41.4s\n",
                        "159:\tlearn: 0.1776167\ttest: 0.1765805\tbest: 0.1765805 (159)\ttotal: 8s\tremaining: 42s\n",
                        "160:\tlearn: 0.1773659\ttest: 0.1763311\tbest: 0.1763311 (160)\ttotal: 8.04s\tremaining: 41.9s\n",
                        "161:\tlearn: 0.1771311\ttest: 0.1760992\tbest: 0.1760992 (161)\ttotal: 8.06s\tremaining: 41.7s\n",
                        "162:\tlearn: 0.1768576\ttest: 0.1758123\tbest: 0.1758123 (162)\ttotal: 8.1s\tremaining: 41.6s\n",
                        "163:\tlearn: 0.1767067\ttest: 0.1756660\tbest: 0.1756660 (163)\ttotal: 8.14s\tremaining: 41.5s\n",
                        "164:\tlearn: 0.1765120\ttest: 0.1754561\tbest: 0.1754561 (164)\ttotal: 8.18s\tremaining: 41.4s\n",
                        "165:\tlearn: 0.1760607\ttest: 0.1750829\tbest: 0.1750829 (165)\ttotal: 11.2s\tremaining: 56s\n",
                        "166:\tlearn: 0.1756024\ttest: 0.1746803\tbest: 0.1746803 (166)\ttotal: 11.2s\tremaining: 56.1s\n",
                        "167:\tlearn: 0.1751849\ttest: 0.1742979\tbest: 0.1742979 (167)\ttotal: 11.3s\tremaining: 56s\n",
                        "168:\tlearn: 0.1748519\ttest: 0.1739769\tbest: 0.1739769 (168)\ttotal: 11.3s\tremaining: 55.7s\n",
                        "169:\tlearn: 0.1746681\ttest: 0.1737819\tbest: 0.1737819 (169)\ttotal: 11.4s\tremaining: 55.6s\n",
                        "170:\tlearn: 0.1744237\ttest: 0.1735373\tbest: 0.1735373 (170)\ttotal: 11.4s\tremaining: 55.3s\n",
                        "171:\tlearn: 0.1743048\ttest: 0.1734186\tbest: 0.1734186 (171)\ttotal: 11.4s\tremaining: 55s\n",
                        "172:\tlearn: 0.1740292\ttest: 0.1731351\tbest: 0.1731351 (172)\ttotal: 11.5s\tremaining: 54.7s\n",
                        "173:\tlearn: 0.1735988\ttest: 0.1727646\tbest: 0.1727646 (173)\ttotal: 13.8s\tremaining: 1m 5s\n",
                        "174:\tlearn: 0.1733842\ttest: 0.1725473\tbest: 0.1725473 (174)\ttotal: 13.8s\tremaining: 1m 5s\n",
                        "175:\tlearn: 0.1732303\ttest: 0.1723805\tbest: 0.1723805 (175)\ttotal: 13.9s\tremaining: 1m 4s\n",
                        "176:\tlearn: 0.1728735\ttest: 0.1720282\tbest: 0.1720282 (176)\ttotal: 13.9s\tremaining: 1m 4s\n",
                        "177:\tlearn: 0.1726750\ttest: 0.1718148\tbest: 0.1718148 (177)\ttotal: 13.9s\tremaining: 1m 4s\n",
                        "178:\tlearn: 0.1723012\ttest: 0.1714965\tbest: 0.1714965 (178)\ttotal: 14.2s\tremaining: 1m 5s\n",
                        "179:\tlearn: 0.1721692\ttest: 0.1713742\tbest: 0.1713742 (179)\ttotal: 14.2s\tremaining: 1m 4s\n",
                        "180:\tlearn: 0.1720767\ttest: 0.1712818\tbest: 0.1712818 (180)\ttotal: 14.2s\tremaining: 1m 4s\n",
                        "181:\tlearn: 0.1719633\ttest: 0.1711615\tbest: 0.1711615 (181)\ttotal: 14.3s\tremaining: 1m 4s\n",
                        "182:\tlearn: 0.1715781\ttest: 0.1708442\tbest: 0.1708442 (182)\ttotal: 16.5s\tremaining: 1m 13s\n",
                        "183:\tlearn: 0.1712590\ttest: 0.1705294\tbest: 0.1705294 (183)\ttotal: 16.6s\tremaining: 1m 13s\n",
                        "184:\tlearn: 0.1710904\ttest: 0.1703510\tbest: 0.1703510 (184)\ttotal: 16.9s\tremaining: 1m 14s\n",
                        "185:\tlearn: 0.1709053\ttest: 0.1701590\tbest: 0.1701590 (185)\ttotal: 17s\tremaining: 1m 14s\n"
                    ]
                },
                {
                    "name": "stdout",
                    "output_type": "stream",
                    "text": [
                        "186:\tlearn: 0.1707890\ttest: 0.1700298\tbest: 0.1700298 (186)\ttotal: 17s\tremaining: 1m 13s\n",
                        "187:\tlearn: 0.1706104\ttest: 0.1698478\tbest: 0.1698478 (187)\ttotal: 17s\tremaining: 1m 13s\n",
                        "188:\tlearn: 0.1704348\ttest: 0.1696952\tbest: 0.1696952 (188)\ttotal: 17.1s\tremaining: 1m 13s\n",
                        "189:\tlearn: 0.1701179\ttest: 0.1694386\tbest: 0.1694386 (189)\ttotal: 17.2s\tremaining: 1m 13s\n",
                        "190:\tlearn: 0.1698577\ttest: 0.1691917\tbest: 0.1691917 (190)\ttotal: 17.3s\tremaining: 1m 13s\n",
                        "191:\tlearn: 0.1696792\ttest: 0.1690140\tbest: 0.1690140 (191)\ttotal: 17.4s\tremaining: 1m 13s\n",
                        "192:\tlearn: 0.1695128\ttest: 0.1688522\tbest: 0.1688522 (192)\ttotal: 17.4s\tremaining: 1m 12s\n",
                        "193:\tlearn: 0.1693406\ttest: 0.1686727\tbest: 0.1686727 (193)\ttotal: 17.4s\tremaining: 1m 12s\n",
                        "194:\tlearn: 0.1690332\ttest: 0.1684541\tbest: 0.1684541 (194)\ttotal: 17.7s\tremaining: 1m 13s\n",
                        "195:\tlearn: 0.1688289\ttest: 0.1682439\tbest: 0.1682439 (195)\ttotal: 17.8s\tremaining: 1m 12s\n",
                        "196:\tlearn: 0.1686071\ttest: 0.1680278\tbest: 0.1680278 (196)\ttotal: 17.8s\tremaining: 1m 12s\n",
                        "197:\tlearn: 0.1683981\ttest: 0.1678362\tbest: 0.1678362 (197)\ttotal: 17.8s\tremaining: 1m 12s\n",
                        "198:\tlearn: 0.1681975\ttest: 0.1676612\tbest: 0.1676612 (198)\ttotal: 17.9s\tremaining: 1m 12s\n",
                        "199:\tlearn: 0.1679217\ttest: 0.1674533\tbest: 0.1674533 (199)\ttotal: 18.9s\tremaining: 1m 15s\n",
                        "200:\tlearn: 0.1678020\ttest: 0.1673388\tbest: 0.1673388 (200)\ttotal: 18.9s\tremaining: 1m 15s\n",
                        "201:\tlearn: 0.1675898\ttest: 0.1671418\tbest: 0.1671418 (201)\ttotal: 19s\tremaining: 1m 14s\n",
                        "202:\tlearn: 0.1674262\ttest: 0.1669997\tbest: 0.1669997 (202)\ttotal: 19s\tremaining: 1m 14s\n",
                        "203:\tlearn: 0.1673409\ttest: 0.1669021\tbest: 0.1669021 (203)\ttotal: 19s\tremaining: 1m 14s\n",
                        "204:\tlearn: 0.1672193\ttest: 0.1667808\tbest: 0.1667808 (204)\ttotal: 19.1s\tremaining: 1m 13s\n",
                        "205:\tlearn: 0.1670811\ttest: 0.1666414\tbest: 0.1666414 (205)\ttotal: 19.1s\tremaining: 1m 13s\n",
                        "206:\tlearn: 0.1669232\ttest: 0.1665173\tbest: 0.1665173 (206)\ttotal: 19.2s\tremaining: 1m 13s\n",
                        "207:\tlearn: 0.1668551\ttest: 0.1664399\tbest: 0.1664399 (207)\ttotal: 19.2s\tremaining: 1m 13s\n",
                        "208:\tlearn: 0.1667080\ttest: 0.1663213\tbest: 0.1663213 (208)\ttotal: 19.5s\tremaining: 1m 13s\n",
                        "209:\tlearn: 0.1663633\ttest: 0.1661242\tbest: 0.1661242 (209)\ttotal: 21.9s\tremaining: 1m 22s\n",
                        "210:\tlearn: 0.1662127\ttest: 0.1659677\tbest: 0.1659677 (210)\ttotal: 21.9s\tremaining: 1m 21s\n",
                        "211:\tlearn: 0.1659264\ttest: 0.1657746\tbest: 0.1657746 (211)\ttotal: 24.2s\tremaining: 1m 29s\n",
                        "212:\tlearn: 0.1657584\ttest: 0.1656371\tbest: 0.1656371 (212)\ttotal: 24.2s\tremaining: 1m 29s\n",
                        "213:\tlearn: 0.1655500\ttest: 0.1654835\tbest: 0.1654835 (213)\ttotal: 24.3s\tremaining: 1m 29s\n",
                        "214:\tlearn: 0.1653317\ttest: 0.1653269\tbest: 0.1653269 (214)\ttotal: 25.2s\tremaining: 1m 32s\n",
                        "215:\tlearn: 0.1651613\ttest: 0.1651844\tbest: 0.1651844 (215)\ttotal: 25.3s\tremaining: 1m 31s\n",
                        "216:\tlearn: 0.1649095\ttest: 0.1649814\tbest: 0.1649814 (216)\ttotal: 25.6s\tremaining: 1m 32s\n",
                        "217:\tlearn: 0.1648449\ttest: 0.1649093\tbest: 0.1649093 (217)\ttotal: 25.6s\tremaining: 1m 31s\n",
                        "218:\tlearn: 0.1646882\ttest: 0.1647909\tbest: 0.1647909 (218)\ttotal: 25.7s\tremaining: 1m 31s\n",
                        "219:\tlearn: 0.1644362\ttest: 0.1645946\tbest: 0.1645946 (219)\ttotal: 26s\tremaining: 1m 32s\n",
                        "220:\tlearn: 0.1644071\ttest: 0.1645656\tbest: 0.1645656 (220)\ttotal: 26s\tremaining: 1m 31s\n",
                        "221:\tlearn: 0.1642347\ttest: 0.1645239\tbest: 0.1645239 (221)\ttotal: 28.6s\tremaining: 1m 40s\n",
                        "222:\tlearn: 0.1641681\ttest: 0.1644622\tbest: 0.1644622 (222)\ttotal: 28.6s\tremaining: 1m 39s\n",
                        "223:\tlearn: 0.1639671\ttest: 0.1643260\tbest: 0.1643260 (223)\ttotal: 28.7s\tremaining: 1m 39s\n",
                        "224:\tlearn: 0.1637852\ttest: 0.1641731\tbest: 0.1641731 (224)\ttotal: 29.7s\tremaining: 1m 42s\n",
                        "225:\tlearn: 0.1637339\ttest: 0.1641193\tbest: 0.1641193 (225)\ttotal: 29.8s\tremaining: 1m 41s\n",
                        "226:\tlearn: 0.1637091\ttest: 0.1640947\tbest: 0.1640947 (226)\ttotal: 29.8s\tremaining: 1m 41s\n",
                        "227:\tlearn: 0.1636439\ttest: 0.1640264\tbest: 0.1640264 (227)\ttotal: 30s\tremaining: 1m 41s\n",
                        "228:\tlearn: 0.1635610\ttest: 0.1639448\tbest: 0.1639448 (228)\ttotal: 30.1s\tremaining: 1m 41s\n",
                        "229:\tlearn: 0.1635155\ttest: 0.1638950\tbest: 0.1638950 (229)\ttotal: 30.1s\tremaining: 1m 40s\n",
                        "230:\tlearn: 0.1634166\ttest: 0.1638468\tbest: 0.1638468 (230)\ttotal: 30.2s\tremaining: 1m 40s\n",
                        "231:\tlearn: 0.1632702\ttest: 0.1637242\tbest: 0.1637242 (231)\ttotal: 30.3s\tremaining: 1m 40s\n",
                        "232:\tlearn: 0.1632285\ttest: 0.1636789\tbest: 0.1636789 (232)\ttotal: 30.3s\tremaining: 1m 39s\n",
                        "233:\tlearn: 0.1629903\ttest: 0.1635168\tbest: 0.1635168 (233)\ttotal: 31.4s\tremaining: 1m 42s\n",
                        "234:\tlearn: 0.1628473\ttest: 0.1633778\tbest: 0.1633778 (234)\ttotal: 31.5s\tremaining: 1m 42s\n",
                        "235:\tlearn: 0.1627553\ttest: 0.1632963\tbest: 0.1632963 (235)\ttotal: 31.6s\tremaining: 1m 42s\n",
                        "236:\tlearn: 0.1626589\ttest: 0.1632106\tbest: 0.1632106 (236)\ttotal: 31.7s\tremaining: 1m 42s\n",
                        "237:\tlearn: 0.1626404\ttest: 0.1631925\tbest: 0.1631925 (237)\ttotal: 31.7s\tremaining: 1m 41s\n",
                        "238:\tlearn: 0.1625527\ttest: 0.1631240\tbest: 0.1631240 (238)\ttotal: 31.8s\tremaining: 1m 41s\n",
                        "239:\tlearn: 0.1622615\ttest: 0.1629216\tbest: 0.1629216 (239)\ttotal: 34.7s\tremaining: 1m 49s\n",
                        "240:\tlearn: 0.1620341\ttest: 0.1627251\tbest: 0.1627251 (240)\ttotal: 35.2s\tremaining: 1m 50s\n",
                        "241:\tlearn: 0.1619072\ttest: 0.1626201\tbest: 0.1626201 (241)\ttotal: 35.2s\tremaining: 1m 50s\n",
                        "242:\tlearn: 0.1618329\ttest: 0.1625595\tbest: 0.1625595 (242)\ttotal: 35.3s\tremaining: 1m 49s\n",
                        "243:\tlearn: 0.1617111\ttest: 0.1624639\tbest: 0.1624639 (243)\ttotal: 35.3s\tremaining: 1m 49s\n",
                        "244:\tlearn: 0.1615358\ttest: 0.1623282\tbest: 0.1623282 (244)\ttotal: 36.2s\tremaining: 1m 51s\n",
                        "245:\tlearn: 0.1614165\ttest: 0.1622555\tbest: 0.1622555 (245)\ttotal: 36.4s\tremaining: 1m 51s\n",
                        "246:\tlearn: 0.1613404\ttest: 0.1621880\tbest: 0.1621880 (246)\ttotal: 36.4s\tremaining: 1m 50s\n",
                        "247:\tlearn: 0.1612801\ttest: 0.1621224\tbest: 0.1621224 (247)\ttotal: 36.5s\tremaining: 1m 50s\n",
                        "248:\tlearn: 0.1611967\ttest: 0.1620676\tbest: 0.1620676 (248)\ttotal: 36.6s\tremaining: 1m 50s\n",
                        "249:\tlearn: 0.1610379\ttest: 0.1619325\tbest: 0.1619325 (249)\ttotal: 36.7s\tremaining: 1m 50s\n",
                        "250:\tlearn: 0.1608425\ttest: 0.1618319\tbest: 0.1618319 (250)\ttotal: 38.9s\tremaining: 1m 56s\n",
                        "251:\tlearn: 0.1604575\ttest: 0.1616962\tbest: 0.1616962 (251)\ttotal: 41.1s\tremaining: 2m 2s\n",
                        "252:\tlearn: 0.1603754\ttest: 0.1616248\tbest: 0.1616248 (252)\ttotal: 41.2s\tremaining: 2m 1s\n",
                        "253:\tlearn: 0.1603615\ttest: 0.1616138\tbest: 0.1616138 (253)\ttotal: 41.3s\tremaining: 2m 1s\n",
                        "254:\tlearn: 0.1601903\ttest: 0.1615360\tbest: 0.1615360 (254)\ttotal: 41.6s\tremaining: 2m 1s\n",
                        "255:\tlearn: 0.1599768\ttest: 0.1614231\tbest: 0.1614231 (255)\ttotal: 42.1s\tremaining: 2m 2s\n",
                        "256:\tlearn: 0.1599207\ttest: 0.1613663\tbest: 0.1613663 (256)\ttotal: 42.1s\tremaining: 2m 1s\n",
                        "257:\tlearn: 0.1598066\ttest: 0.1613086\tbest: 0.1613086 (257)\ttotal: 42.2s\tremaining: 2m 1s\n",
                        "258:\tlearn: 0.1596639\ttest: 0.1612573\tbest: 0.1612573 (258)\ttotal: 42.8s\tremaining: 2m 2s\n",
                        "259:\tlearn: 0.1595486\ttest: 0.1612010\tbest: 0.1612010 (259)\ttotal: 42.9s\tremaining: 2m 1s\n",
                        "260:\tlearn: 0.1595066\ttest: 0.1611749\tbest: 0.1611749 (260)\ttotal: 42.9s\tremaining: 2m 1s\n",
                        "261:\tlearn: 0.1594186\ttest: 0.1610935\tbest: 0.1610935 (261)\ttotal: 43s\tremaining: 2m 1s\n",
                        "262:\tlearn: 0.1593159\ttest: 0.1610109\tbest: 0.1610109 (262)\ttotal: 43s\tremaining: 2m\n",
                        "263:\tlearn: 0.1591811\ttest: 0.1609571\tbest: 0.1609571 (263)\ttotal: 46.3s\tremaining: 2m 9s\n",
                        "264:\tlearn: 0.1591594\ttest: 0.1609408\tbest: 0.1609408 (264)\ttotal: 46.3s\tremaining: 2m 8s\n",
                        "265:\tlearn: 0.1591047\ttest: 0.1608960\tbest: 0.1608960 (265)\ttotal: 46.4s\tremaining: 2m 7s\n",
                        "266:\tlearn: 0.1589968\ttest: 0.1608101\tbest: 0.1608101 (266)\ttotal: 46.4s\tremaining: 2m 7s\n",
                        "267:\tlearn: 0.1589725\ttest: 0.1607763\tbest: 0.1607763 (267)\ttotal: 46.4s\tremaining: 2m 6s\n",
                        "268:\tlearn: 0.1588233\ttest: 0.1607202\tbest: 0.1607202 (268)\ttotal: 49.1s\tremaining: 2m 13s\n",
                        "269:\tlearn: 0.1587087\ttest: 0.1606453\tbest: 0.1606453 (269)\ttotal: 49.3s\tremaining: 2m 13s\n",
                        "270:\tlearn: 0.1586659\ttest: 0.1606037\tbest: 0.1606037 (270)\ttotal: 49.3s\tremaining: 2m 12s\n",
                        "271:\tlearn: 0.1585975\ttest: 0.1605581\tbest: 0.1605581 (271)\ttotal: 49.4s\tremaining: 2m 12s\n",
                        "272:\tlearn: 0.1582929\ttest: 0.1604423\tbest: 0.1604423 (272)\ttotal: 51.7s\tremaining: 2m 17s\n",
                        "273:\tlearn: 0.1582553\ttest: 0.1604080\tbest: 0.1604080 (273)\ttotal: 51.7s\tremaining: 2m 16s\n",
                        "274:\tlearn: 0.1580914\ttest: 0.1603110\tbest: 0.1603110 (274)\ttotal: 52.2s\tremaining: 2m 17s\n",
                        "275:\tlearn: 0.1579560\ttest: 0.1602505\tbest: 0.1602505 (275)\ttotal: 52.6s\tremaining: 2m 18s\n",
                        "276:\tlearn: 0.1576777\ttest: 0.1601206\tbest: 0.1601206 (276)\ttotal: 55.3s\tremaining: 2m 24s\n"
                    ]
                },
                {
                    "name": "stdout",
                    "output_type": "stream",
                    "text": [
                        "277:\tlearn: 0.1576463\ttest: 0.1600953\tbest: 0.1600953 (277)\ttotal: 55.3s\tremaining: 2m 23s\n",
                        "278:\tlearn: 0.1575568\ttest: 0.1600105\tbest: 0.1600105 (278)\ttotal: 55.5s\tremaining: 2m 23s\n",
                        "279:\tlearn: 0.1575522\ttest: 0.1600063\tbest: 0.1600063 (279)\ttotal: 55.5s\tremaining: 2m 22s\n",
                        "280:\tlearn: 0.1574822\ttest: 0.1599371\tbest: 0.1599371 (280)\ttotal: 55.5s\tremaining: 2m 22s\n",
                        "281:\tlearn: 0.1574281\ttest: 0.1598972\tbest: 0.1598972 (281)\ttotal: 55.6s\tremaining: 2m 21s\n",
                        "282:\tlearn: 0.1572938\ttest: 0.1598103\tbest: 0.1598103 (282)\ttotal: 55.8s\tremaining: 2m 21s\n",
                        "283:\tlearn: 0.1572765\ttest: 0.1598130\tbest: 0.1598103 (282)\ttotal: 55.8s\tremaining: 2m 20s\n",
                        "284:\tlearn: 0.1572323\ttest: 0.1597714\tbest: 0.1597714 (284)\ttotal: 55.8s\tremaining: 2m 20s\n",
                        "285:\tlearn: 0.1572162\ttest: 0.1597561\tbest: 0.1597561 (285)\ttotal: 55.9s\tremaining: 2m 19s\n",
                        "286:\tlearn: 0.1571401\ttest: 0.1597218\tbest: 0.1597218 (286)\ttotal: 56s\tremaining: 2m 19s\n",
                        "287:\tlearn: 0.1569386\ttest: 0.1596601\tbest: 0.1596601 (287)\ttotal: 58.5s\tremaining: 2m 24s\n",
                        "288:\tlearn: 0.1569215\ttest: 0.1596375\tbest: 0.1596375 (288)\ttotal: 58.5s\tremaining: 2m 23s\n",
                        "289:\tlearn: 0.1567019\ttest: 0.1595704\tbest: 0.1595704 (289)\ttotal: 1m 1s\tremaining: 2m 29s\n",
                        "290:\tlearn: 0.1566614\ttest: 0.1595418\tbest: 0.1595418 (290)\ttotal: 1m 1s\tremaining: 2m 29s\n",
                        "291:\tlearn: 0.1565514\ttest: 0.1594691\tbest: 0.1594691 (291)\ttotal: 1m 1s\tremaining: 2m 28s\n",
                        "292:\tlearn: 0.1563230\ttest: 0.1593405\tbest: 0.1593405 (292)\ttotal: 1m 3s\tremaining: 2m 33s\n",
                        "293:\tlearn: 0.1562420\ttest: 0.1592782\tbest: 0.1592782 (293)\ttotal: 1m 3s\tremaining: 2m 32s\n",
                        "294:\tlearn: 0.1561510\ttest: 0.1592542\tbest: 0.1592542 (294)\ttotal: 1m 6s\tremaining: 2m 38s\n",
                        "295:\tlearn: 0.1560898\ttest: 0.1592109\tbest: 0.1592109 (295)\ttotal: 1m 6s\tremaining: 2m 37s\n",
                        "296:\tlearn: 0.1559892\ttest: 0.1591819\tbest: 0.1591819 (296)\ttotal: 1m 6s\tremaining: 2m 38s\n",
                        "297:\tlearn: 0.1558842\ttest: 0.1591373\tbest: 0.1591373 (297)\ttotal: 1m 8s\tremaining: 2m 40s\n",
                        "298:\tlearn: 0.1558665\ttest: 0.1591168\tbest: 0.1591168 (298)\ttotal: 1m 8s\tremaining: 2m 40s\n",
                        "299:\tlearn: 0.1558212\ttest: 0.1590840\tbest: 0.1590840 (299)\ttotal: 1m 8s\tremaining: 2m 39s\n",
                        "300:\tlearn: 0.1557972\ttest: 0.1590618\tbest: 0.1590618 (300)\ttotal: 1m 8s\tremaining: 2m 38s\n",
                        "301:\tlearn: 0.1556656\ttest: 0.1589925\tbest: 0.1589925 (301)\ttotal: 1m 8s\tremaining: 2m 39s\n",
                        "302:\tlearn: 0.1556000\ttest: 0.1589588\tbest: 0.1589588 (302)\ttotal: 1m 9s\tremaining: 2m 39s\n",
                        "303:\tlearn: 0.1555570\ttest: 0.1589329\tbest: 0.1589329 (303)\ttotal: 1m 9s\tremaining: 2m 38s\n",
                        "304:\tlearn: 0.1554789\ttest: 0.1588622\tbest: 0.1588622 (304)\ttotal: 1m 9s\tremaining: 2m 38s\n",
                        "305:\tlearn: 0.1553394\ttest: 0.1587125\tbest: 0.1587125 (305)\ttotal: 1m 9s\tremaining: 2m 37s\n",
                        "306:\tlearn: 0.1552389\ttest: 0.1586757\tbest: 0.1586757 (306)\ttotal: 1m 9s\tremaining: 2m 37s\n",
                        "307:\tlearn: 0.1551826\ttest: 0.1586456\tbest: 0.1586456 (307)\ttotal: 1m 9s\tremaining: 2m 36s\n",
                        "308:\tlearn: 0.1551019\ttest: 0.1586035\tbest: 0.1586035 (308)\ttotal: 1m 9s\tremaining: 2m 36s\n",
                        "309:\tlearn: 0.1551003\ttest: 0.1586023\tbest: 0.1586023 (309)\ttotal: 1m 9s\tremaining: 2m 35s\n",
                        "310:\tlearn: 0.1549642\ttest: 0.1584510\tbest: 0.1584510 (310)\ttotal: 1m 9s\tremaining: 2m 34s\n",
                        "311:\tlearn: 0.1549236\ttest: 0.1584266\tbest: 0.1584266 (311)\ttotal: 1m 10s\tremaining: 2m 34s\n",
                        "312:\tlearn: 0.1548789\ttest: 0.1583832\tbest: 0.1583832 (312)\ttotal: 1m 10s\tremaining: 2m 33s\n",
                        "313:\tlearn: 0.1548467\ttest: 0.1583578\tbest: 0.1583578 (313)\ttotal: 1m 10s\tremaining: 2m 33s\n",
                        "314:\tlearn: 0.1547750\ttest: 0.1583520\tbest: 0.1583520 (314)\ttotal: 1m 12s\tremaining: 2m 38s\n",
                        "315:\tlearn: 0.1545874\ttest: 0.1583343\tbest: 0.1583343 (315)\ttotal: 1m 15s\tremaining: 2m 42s\n",
                        "316:\tlearn: 0.1544710\ttest: 0.1583363\tbest: 0.1583343 (315)\ttotal: 1m 18s\tremaining: 2m 48s\n",
                        "317:\tlearn: 0.1544327\ttest: 0.1583307\tbest: 0.1583307 (317)\ttotal: 1m 18s\tremaining: 2m 48s\n",
                        "318:\tlearn: 0.1543084\ttest: 0.1582828\tbest: 0.1582828 (318)\ttotal: 1m 20s\tremaining: 2m 52s\n",
                        "319:\tlearn: 0.1542111\ttest: 0.1582433\tbest: 0.1582433 (319)\ttotal: 1m 23s\tremaining: 2m 57s\n",
                        "320:\tlearn: 0.1540912\ttest: 0.1581979\tbest: 0.1581979 (320)\ttotal: 1m 26s\tremaining: 3m 2s\n",
                        "321:\tlearn: 0.1540278\ttest: 0.1581546\tbest: 0.1581546 (321)\ttotal: 1m 26s\tremaining: 3m 1s\n",
                        "322:\tlearn: 0.1539465\ttest: 0.1581432\tbest: 0.1581432 (322)\ttotal: 1m 28s\tremaining: 3m 6s\n",
                        "323:\tlearn: 0.1538104\ttest: 0.1579940\tbest: 0.1579940 (323)\ttotal: 1m 29s\tremaining: 3m 5s\n",
                        "324:\tlearn: 0.1537294\ttest: 0.1579698\tbest: 0.1579698 (324)\ttotal: 1m 31s\tremaining: 3m 9s\n",
                        "325:\tlearn: 0.1536938\ttest: 0.1579608\tbest: 0.1579608 (325)\ttotal: 1m 31s\tremaining: 3m 8s\n",
                        "326:\tlearn: 0.1536525\ttest: 0.1579265\tbest: 0.1579265 (326)\ttotal: 1m 31s\tremaining: 3m 8s\n",
                        "327:\tlearn: 0.1535322\ttest: 0.1578642\tbest: 0.1578642 (327)\ttotal: 1m 34s\tremaining: 3m 13s\n",
                        "328:\tlearn: 0.1534764\ttest: 0.1578527\tbest: 0.1578527 (328)\ttotal: 1m 34s\tremaining: 3m 12s\n",
                        "329:\tlearn: 0.1533771\ttest: 0.1578374\tbest: 0.1578374 (329)\ttotal: 1m 34s\tremaining: 3m 12s\n",
                        "330:\tlearn: 0.1533640\ttest: 0.1578247\tbest: 0.1578247 (330)\ttotal: 1m 34s\tremaining: 3m 11s\n",
                        "331:\tlearn: 0.1533533\ttest: 0.1578106\tbest: 0.1578106 (331)\ttotal: 1m 34s\tremaining: 3m 10s\n",
                        "332:\tlearn: 0.1533180\ttest: 0.1577814\tbest: 0.1577814 (332)\ttotal: 1m 34s\tremaining: 3m 10s\n",
                        "333:\tlearn: 0.1531973\ttest: 0.1577665\tbest: 0.1577665 (333)\ttotal: 1m 35s\tremaining: 3m 9s\n",
                        "334:\tlearn: 0.1530946\ttest: 0.1577262\tbest: 0.1577262 (334)\ttotal: 1m 37s\tremaining: 3m 13s\n",
                        "335:\tlearn: 0.1530610\ttest: 0.1577122\tbest: 0.1577122 (335)\ttotal: 1m 37s\tremaining: 3m 13s\n",
                        "336:\tlearn: 0.1529361\ttest: 0.1575782\tbest: 0.1575782 (336)\ttotal: 1m 37s\tremaining: 3m 12s\n",
                        "337:\tlearn: 0.1527758\ttest: 0.1574457\tbest: 0.1574457 (337)\ttotal: 1m 40s\tremaining: 3m 17s\n",
                        "338:\tlearn: 0.1525647\ttest: 0.1573943\tbest: 0.1573943 (338)\ttotal: 1m 43s\tremaining: 3m 21s\n",
                        "339:\tlearn: 0.1525191\ttest: 0.1573671\tbest: 0.1573671 (339)\ttotal: 1m 43s\tremaining: 3m 20s\n",
                        "340:\tlearn: 0.1524543\ttest: 0.1573340\tbest: 0.1573340 (340)\ttotal: 1m 43s\tremaining: 3m 19s\n",
                        "341:\tlearn: 0.1522831\ttest: 0.1573329\tbest: 0.1573329 (341)\ttotal: 1m 45s\tremaining: 3m 23s\n",
                        "342:\tlearn: 0.1521680\ttest: 0.1572891\tbest: 0.1572891 (342)\ttotal: 1m 48s\tremaining: 3m 27s\n",
                        "343:\tlearn: 0.1519934\ttest: 0.1572548\tbest: 0.1572548 (343)\ttotal: 1m 51s\tremaining: 3m 32s\n",
                        "344:\tlearn: 0.1519584\ttest: 0.1572316\tbest: 0.1572316 (344)\ttotal: 1m 51s\tremaining: 3m 31s\n",
                        "345:\tlearn: 0.1518025\ttest: 0.1571539\tbest: 0.1571539 (345)\ttotal: 1m 51s\tremaining: 3m 30s\n",
                        "346:\tlearn: 0.1517803\ttest: 0.1571365\tbest: 0.1571365 (346)\ttotal: 1m 51s\tremaining: 3m 29s\n",
                        "347:\tlearn: 0.1516687\ttest: 0.1570820\tbest: 0.1570820 (347)\ttotal: 1m 53s\tremaining: 3m 33s\n",
                        "348:\tlearn: 0.1515803\ttest: 0.1570817\tbest: 0.1570817 (348)\ttotal: 1m 56s\tremaining: 3m 37s\n",
                        "349:\tlearn: 0.1514852\ttest: 0.1570467\tbest: 0.1570467 (349)\ttotal: 1m 57s\tremaining: 3m 38s\n",
                        "350:\tlearn: 0.1512417\ttest: 0.1570691\tbest: 0.1570467 (349)\ttotal: 2m\tremaining: 3m 43s\n",
                        "351:\tlearn: 0.1511611\ttest: 0.1570791\tbest: 0.1570467 (349)\ttotal: 2m 3s\tremaining: 3m 46s\n",
                        "352:\tlearn: 0.1510876\ttest: 0.1570819\tbest: 0.1570467 (349)\ttotal: 2m 3s\tremaining: 3m 46s\n",
                        "353:\tlearn: 0.1510345\ttest: 0.1570853\tbest: 0.1570467 (349)\ttotal: 2m 6s\tremaining: 3m 51s\n",
                        "354:\tlearn: 0.1509641\ttest: 0.1570958\tbest: 0.1570467 (349)\ttotal: 2m 7s\tremaining: 3m 51s\n",
                        "355:\tlearn: 0.1508982\ttest: 0.1571170\tbest: 0.1570467 (349)\ttotal: 2m 7s\tremaining: 3m 50s\n",
                        "356:\tlearn: 0.1508891\ttest: 0.1571132\tbest: 0.1570467 (349)\ttotal: 2m 7s\tremaining: 3m 49s\n",
                        "357:\tlearn: 0.1507813\ttest: 0.1570751\tbest: 0.1570467 (349)\ttotal: 2m 9s\tremaining: 3m 52s\n",
                        "358:\tlearn: 0.1506818\ttest: 0.1570686\tbest: 0.1570467 (349)\ttotal: 2m 9s\tremaining: 3m 52s\n",
                        "359:\tlearn: 0.1506778\ttest: 0.1570678\tbest: 0.1570467 (349)\ttotal: 2m 10s\tremaining: 3m 51s\n",
                        "360:\tlearn: 0.1506303\ttest: 0.1570409\tbest: 0.1570409 (360)\ttotal: 2m 10s\tremaining: 3m 50s\n",
                        "361:\tlearn: 0.1504511\ttest: 0.1569495\tbest: 0.1569495 (361)\ttotal: 2m 13s\tremaining: 3m 54s\n",
                        "362:\tlearn: 0.1503703\ttest: 0.1569483\tbest: 0.1569483 (362)\ttotal: 2m 13s\tremaining: 3m 54s\n",
                        "363:\tlearn: 0.1502081\ttest: 0.1569821\tbest: 0.1569483 (362)\ttotal: 2m 16s\tremaining: 3m 57s\n",
                        "364:\tlearn: 0.1501353\ttest: 0.1569372\tbest: 0.1569372 (364)\ttotal: 2m 16s\tremaining: 3m 57s\n",
                        "365:\tlearn: 0.1501030\ttest: 0.1569085\tbest: 0.1569085 (365)\ttotal: 2m 16s\tremaining: 3m 56s\n",
                        "366:\tlearn: 0.1500015\ttest: 0.1567988\tbest: 0.1567988 (366)\ttotal: 2m 16s\tremaining: 3m 55s\n"
                    ]
                },
                {
                    "name": "stdout",
                    "output_type": "stream",
                    "text": [
                        "367:\tlearn: 0.1499747\ttest: 0.1567891\tbest: 0.1567891 (367)\ttotal: 2m 16s\tremaining: 3m 54s\n",
                        "368:\tlearn: 0.1498791\ttest: 0.1567929\tbest: 0.1567891 (367)\ttotal: 2m 17s\tremaining: 3m 55s\n",
                        "369:\tlearn: 0.1497288\ttest: 0.1567891\tbest: 0.1567891 (367)\ttotal: 2m 19s\tremaining: 3m 58s\n",
                        "370:\tlearn: 0.1496964\ttest: 0.1567860\tbest: 0.1567860 (370)\ttotal: 2m 20s\tremaining: 3m 57s\n",
                        "371:\tlearn: 0.1496078\ttest: 0.1567090\tbest: 0.1567090 (371)\ttotal: 2m 20s\tremaining: 3m 56s\n",
                        "372:\tlearn: 0.1495964\ttest: 0.1566995\tbest: 0.1566995 (372)\ttotal: 2m 20s\tremaining: 3m 55s\n",
                        "373:\tlearn: 0.1494394\ttest: 0.1566299\tbest: 0.1566299 (373)\ttotal: 2m 20s\tremaining: 3m 55s\n",
                        "374:\tlearn: 0.1492875\ttest: 0.1565871\tbest: 0.1565871 (374)\ttotal: 2m 23s\tremaining: 3m 58s\n",
                        "375:\tlearn: 0.1492261\ttest: 0.1565407\tbest: 0.1565407 (375)\ttotal: 2m 23s\tremaining: 3m 57s\n",
                        "376:\tlearn: 0.1491524\ttest: 0.1564909\tbest: 0.1564909 (376)\ttotal: 2m 23s\tremaining: 3m 56s\n",
                        "377:\tlearn: 0.1491492\ttest: 0.1564861\tbest: 0.1564861 (377)\ttotal: 2m 23s\tremaining: 3m 55s\n",
                        "378:\tlearn: 0.1490709\ttest: 0.1564551\tbest: 0.1564551 (378)\ttotal: 2m 25s\tremaining: 3m 58s\n",
                        "379:\tlearn: 0.1489777\ttest: 0.1564475\tbest: 0.1564475 (379)\ttotal: 2m 28s\tremaining: 4m 1s\n",
                        "380:\tlearn: 0.1489576\ttest: 0.1564319\tbest: 0.1564319 (380)\ttotal: 2m 28s\tremaining: 4m\n",
                        "381:\tlearn: 0.1489073\ttest: 0.1564208\tbest: 0.1564208 (381)\ttotal: 2m 28s\tremaining: 3m 59s\n",
                        "382:\tlearn: 0.1488888\ttest: 0.1564081\tbest: 0.1564081 (382)\ttotal: 2m 28s\tremaining: 3m 58s\n",
                        "383:\tlearn: 0.1488838\ttest: 0.1564037\tbest: 0.1564037 (383)\ttotal: 2m 28s\tremaining: 3m 57s\n",
                        "384:\tlearn: 0.1488657\ttest: 0.1563976\tbest: 0.1563976 (384)\ttotal: 2m 28s\tremaining: 3m 57s\n",
                        "385:\tlearn: 0.1488433\ttest: 0.1563842\tbest: 0.1563842 (385)\ttotal: 2m 28s\tremaining: 3m 56s\n",
                        "386:\tlearn: 0.1488258\ttest: 0.1563745\tbest: 0.1563745 (386)\ttotal: 2m 28s\tremaining: 3m 55s\n",
                        "387:\tlearn: 0.1488055\ttest: 0.1563606\tbest: 0.1563606 (387)\ttotal: 2m 28s\tremaining: 3m 54s\n",
                        "388:\tlearn: 0.1487688\ttest: 0.1563542\tbest: 0.1563542 (388)\ttotal: 2m 28s\tremaining: 3m 53s\n",
                        "389:\tlearn: 0.1487546\ttest: 0.1563450\tbest: 0.1563450 (389)\ttotal: 2m 28s\tremaining: 3m 52s\n",
                        "390:\tlearn: 0.1487515\ttest: 0.1563402\tbest: 0.1563402 (390)\ttotal: 2m 28s\tremaining: 3m 52s\n",
                        "391:\tlearn: 0.1486955\ttest: 0.1563261\tbest: 0.1563261 (391)\ttotal: 2m 31s\tremaining: 3m 54s\n",
                        "392:\tlearn: 0.1486280\ttest: 0.1563132\tbest: 0.1563132 (392)\ttotal: 2m 32s\tremaining: 3m 55s\n",
                        "393:\tlearn: 0.1486019\ttest: 0.1563144\tbest: 0.1563132 (392)\ttotal: 2m 32s\tremaining: 3m 54s\n",
                        "394:\tlearn: 0.1485742\ttest: 0.1563094\tbest: 0.1563094 (394)\ttotal: 2m 32s\tremaining: 3m 54s\n",
                        "395:\tlearn: 0.1484876\ttest: 0.1562859\tbest: 0.1562859 (395)\ttotal: 2m 35s\tremaining: 3m 57s\n",
                        "396:\tlearn: 0.1484043\ttest: 0.1563149\tbest: 0.1562859 (395)\ttotal: 2m 35s\tremaining: 3m 56s\n",
                        "397:\tlearn: 0.1483012\ttest: 0.1563021\tbest: 0.1562859 (395)\ttotal: 2m 38s\tremaining: 3m 59s\n",
                        "398:\tlearn: 0.1482507\ttest: 0.1562924\tbest: 0.1562859 (395)\ttotal: 2m 39s\tremaining: 4m\n",
                        "399:\tlearn: 0.1482486\ttest: 0.1562917\tbest: 0.1562859 (395)\ttotal: 2m 39s\tremaining: 3m 59s\n",
                        "400:\tlearn: 0.1482144\ttest: 0.1562942\tbest: 0.1562859 (395)\ttotal: 2m 40s\tremaining: 3m 59s\n",
                        "401:\tlearn: 0.1482002\ttest: 0.1562887\tbest: 0.1562859 (395)\ttotal: 2m 40s\tremaining: 3m 58s\n",
                        "402:\tlearn: 0.1481102\ttest: 0.1562477\tbest: 0.1562477 (402)\ttotal: 2m 40s\tremaining: 3m 57s\n",
                        "403:\tlearn: 0.1480831\ttest: 0.1562356\tbest: 0.1562356 (403)\ttotal: 2m 40s\tremaining: 3m 56s\n",
                        "404:\tlearn: 0.1479662\ttest: 0.1562030\tbest: 0.1562030 (404)\ttotal: 2m 42s\tremaining: 3m 58s\n",
                        "405:\tlearn: 0.1478497\ttest: 0.1562027\tbest: 0.1562027 (405)\ttotal: 2m 43s\tremaining: 3m 58s\n",
                        "406:\tlearn: 0.1478349\ttest: 0.1561945\tbest: 0.1561945 (406)\ttotal: 2m 43s\tremaining: 3m 57s\n",
                        "407:\tlearn: 0.1478226\ttest: 0.1561845\tbest: 0.1561845 (407)\ttotal: 2m 43s\tremaining: 3m 56s\n",
                        "408:\tlearn: 0.1477238\ttest: 0.1561862\tbest: 0.1561845 (407)\ttotal: 2m 45s\tremaining: 3m 59s\n",
                        "409:\tlearn: 0.1475943\ttest: 0.1561823\tbest: 0.1561823 (409)\ttotal: 2m 48s\tremaining: 4m 1s\n",
                        "410:\tlearn: 0.1475777\ttest: 0.1561676\tbest: 0.1561676 (410)\ttotal: 2m 48s\tremaining: 4m\n",
                        "411:\tlearn: 0.1475678\ttest: 0.1561609\tbest: 0.1561609 (411)\ttotal: 2m 48s\tremaining: 4m\n",
                        "412:\tlearn: 0.1475218\ttest: 0.1561406\tbest: 0.1561406 (412)\ttotal: 2m 48s\tremaining: 3m 59s\n",
                        "413:\tlearn: 0.1473325\ttest: 0.1560876\tbest: 0.1560876 (413)\ttotal: 2m 50s\tremaining: 4m 1s\n",
                        "414:\tlearn: 0.1471035\ttest: 0.1560452\tbest: 0.1560452 (414)\ttotal: 2m 53s\tremaining: 4m 4s\n",
                        "415:\tlearn: 0.1470040\ttest: 0.1559865\tbest: 0.1559865 (415)\ttotal: 2m 53s\tremaining: 4m 4s\n",
                        "416:\tlearn: 0.1468173\ttest: 0.1559287\tbest: 0.1559287 (416)\ttotal: 2m 56s\tremaining: 4m 6s\n",
                        "417:\tlearn: 0.1465834\ttest: 0.1559588\tbest: 0.1559287 (416)\ttotal: 2m 59s\tremaining: 4m 9s\n",
                        "418:\tlearn: 0.1465784\ttest: 0.1559475\tbest: 0.1559287 (416)\ttotal: 2m 59s\tremaining: 4m 8s\n",
                        "419:\tlearn: 0.1465676\ttest: 0.1559348\tbest: 0.1559287 (416)\ttotal: 2m 59s\tremaining: 4m 7s\n",
                        "420:\tlearn: 0.1465308\ttest: 0.1559282\tbest: 0.1559282 (420)\ttotal: 3m 1s\tremaining: 4m 9s\n",
                        "421:\tlearn: 0.1464712\ttest: 0.1559319\tbest: 0.1559282 (420)\ttotal: 3m 4s\tremaining: 4m 12s\n",
                        "422:\tlearn: 0.1463821\ttest: 0.1558501\tbest: 0.1558501 (422)\ttotal: 3m 4s\tremaining: 4m 12s\n",
                        "423:\tlearn: 0.1462469\ttest: 0.1558297\tbest: 0.1558297 (423)\ttotal: 3m 7s\tremaining: 4m 14s\n",
                        "424:\tlearn: 0.1461919\ttest: 0.1558147\tbest: 0.1558147 (424)\ttotal: 3m 7s\tremaining: 4m 14s\n",
                        "425:\tlearn: 0.1461733\ttest: 0.1558319\tbest: 0.1558147 (424)\ttotal: 3m 7s\tremaining: 4m 13s\n",
                        "426:\tlearn: 0.1460661\ttest: 0.1558441\tbest: 0.1558147 (424)\ttotal: 3m 10s\tremaining: 4m 15s\n",
                        "427:\tlearn: 0.1460269\ttest: 0.1558186\tbest: 0.1558147 (424)\ttotal: 3m 10s\tremaining: 4m 14s\n",
                        "428:\tlearn: 0.1458889\ttest: 0.1557858\tbest: 0.1557858 (428)\ttotal: 3m 13s\tremaining: 4m 17s\n",
                        "429:\tlearn: 0.1458576\ttest: 0.1557779\tbest: 0.1557779 (429)\ttotal: 3m 13s\tremaining: 4m 16s\n",
                        "430:\tlearn: 0.1458286\ttest: 0.1557627\tbest: 0.1557627 (430)\ttotal: 3m 13s\tremaining: 4m 15s\n",
                        "431:\tlearn: 0.1458241\ttest: 0.1557567\tbest: 0.1557567 (431)\ttotal: 3m 13s\tremaining: 4m 14s\n",
                        "432:\tlearn: 0.1458109\ttest: 0.1557443\tbest: 0.1557443 (432)\ttotal: 3m 13s\tremaining: 4m 13s\n",
                        "433:\tlearn: 0.1457909\ttest: 0.1557340\tbest: 0.1557340 (433)\ttotal: 3m 13s\tremaining: 4m 12s\n",
                        "434:\tlearn: 0.1457815\ttest: 0.1557319\tbest: 0.1557319 (434)\ttotal: 3m 13s\tremaining: 4m 11s\n",
                        "435:\tlearn: 0.1456399\ttest: 0.1557474\tbest: 0.1557319 (434)\ttotal: 3m 14s\tremaining: 4m 12s\n",
                        "436:\tlearn: 0.1456234\ttest: 0.1557328\tbest: 0.1557319 (434)\ttotal: 3m 14s\tremaining: 4m 11s\n",
                        "437:\tlearn: 0.1456106\ttest: 0.1557285\tbest: 0.1557285 (437)\ttotal: 3m 14s\tremaining: 4m 10s\n",
                        "438:\tlearn: 0.1455600\ttest: 0.1557032\tbest: 0.1557032 (438)\ttotal: 3m 15s\tremaining: 4m 9s\n",
                        "439:\tlearn: 0.1455217\ttest: 0.1557037\tbest: 0.1557032 (438)\ttotal: 3m 15s\tremaining: 4m 8s\n",
                        "440:\tlearn: 0.1455188\ttest: 0.1556999\tbest: 0.1556999 (440)\ttotal: 3m 15s\tremaining: 4m 7s\n",
                        "441:\tlearn: 0.1454998\ttest: 0.1557093\tbest: 0.1556999 (440)\ttotal: 3m 15s\tremaining: 4m 6s\n",
                        "442:\tlearn: 0.1454900\ttest: 0.1557033\tbest: 0.1556999 (440)\ttotal: 3m 15s\tremaining: 4m 5s\n",
                        "443:\tlearn: 0.1454752\ttest: 0.1556944\tbest: 0.1556944 (443)\ttotal: 3m 15s\tremaining: 4m 5s\n",
                        "444:\tlearn: 0.1454628\ttest: 0.1556880\tbest: 0.1556880 (444)\ttotal: 3m 15s\tremaining: 4m 4s\n",
                        "445:\tlearn: 0.1454527\ttest: 0.1556803\tbest: 0.1556803 (445)\ttotal: 3m 15s\tremaining: 4m 3s\n",
                        "446:\tlearn: 0.1453205\ttest: 0.1556267\tbest: 0.1556267 (446)\ttotal: 3m 16s\tremaining: 4m 2s\n",
                        "447:\tlearn: 0.1453106\ttest: 0.1556173\tbest: 0.1556173 (447)\ttotal: 3m 16s\tremaining: 4m 1s\n",
                        "448:\tlearn: 0.1452881\ttest: 0.1556165\tbest: 0.1556165 (448)\ttotal: 3m 16s\tremaining: 4m\n",
                        "449:\tlearn: 0.1452835\ttest: 0.1556063\tbest: 0.1556063 (449)\ttotal: 3m 16s\tremaining: 4m\n",
                        "450:\tlearn: 0.1450950\ttest: 0.1555652\tbest: 0.1555652 (450)\ttotal: 3m 18s\tremaining: 4m 1s\n",
                        "451:\tlearn: 0.1450761\ttest: 0.1555637\tbest: 0.1555637 (451)\ttotal: 3m 18s\tremaining: 4m\n",
                        "452:\tlearn: 0.1449325\ttest: 0.1555692\tbest: 0.1555637 (451)\ttotal: 3m 22s\tremaining: 4m 4s\n",
                        "453:\tlearn: 0.1449029\ttest: 0.1555586\tbest: 0.1555586 (453)\ttotal: 3m 23s\tremaining: 4m 4s\n",
                        "454:\tlearn: 0.1447351\ttest: 0.1555565\tbest: 0.1555565 (454)\ttotal: 3m 26s\tremaining: 4m 7s\n",
                        "455:\tlearn: 0.1446980\ttest: 0.1555395\tbest: 0.1555395 (455)\ttotal: 3m 26s\tremaining: 4m 6s\n",
                        "456:\tlearn: 0.1445800\ttest: 0.1555697\tbest: 0.1555395 (455)\ttotal: 3m 29s\tremaining: 4m 9s\n"
                    ]
                },
                {
                    "name": "stdout",
                    "output_type": "stream",
                    "text": [
                        "457:\tlearn: 0.1445303\ttest: 0.1555645\tbest: 0.1555395 (455)\ttotal: 3m 32s\tremaining: 4m 11s\n",
                        "458:\tlearn: 0.1444077\ttest: 0.1555367\tbest: 0.1555367 (458)\ttotal: 3m 35s\tremaining: 4m 13s\n",
                        "459:\tlearn: 0.1443389\ttest: 0.1554962\tbest: 0.1554962 (459)\ttotal: 3m 38s\tremaining: 4m 16s\n",
                        "460:\tlearn: 0.1443211\ttest: 0.1554929\tbest: 0.1554929 (460)\ttotal: 3m 38s\tremaining: 4m 15s\n",
                        "461:\tlearn: 0.1442562\ttest: 0.1555139\tbest: 0.1554929 (460)\ttotal: 3m 38s\tremaining: 4m 14s\n",
                        "462:\tlearn: 0.1442487\ttest: 0.1555094\tbest: 0.1554929 (460)\ttotal: 3m 38s\tremaining: 4m 13s\n",
                        "463:\tlearn: 0.1442378\ttest: 0.1555072\tbest: 0.1554929 (460)\ttotal: 3m 38s\tremaining: 4m 12s\n",
                        "464:\tlearn: 0.1441893\ttest: 0.1554908\tbest: 0.1554908 (464)\ttotal: 3m 38s\tremaining: 4m 11s\n",
                        "465:\tlearn: 0.1441427\ttest: 0.1554892\tbest: 0.1554892 (465)\ttotal: 3m 39s\tremaining: 4m 11s\n",
                        "466:\tlearn: 0.1440638\ttest: 0.1554075\tbest: 0.1554075 (466)\ttotal: 3m 39s\tremaining: 4m 10s\n",
                        "467:\tlearn: 0.1440460\ttest: 0.1554163\tbest: 0.1554075 (466)\ttotal: 3m 39s\tremaining: 4m 9s\n",
                        "468:\tlearn: 0.1440191\ttest: 0.1554090\tbest: 0.1554075 (466)\ttotal: 3m 39s\tremaining: 4m 8s\n",
                        "469:\tlearn: 0.1440050\ttest: 0.1554099\tbest: 0.1554075 (466)\ttotal: 3m 39s\tremaining: 4m 7s\n",
                        "470:\tlearn: 0.1439925\ttest: 0.1553996\tbest: 0.1553996 (470)\ttotal: 3m 39s\tremaining: 4m 6s\n",
                        "471:\tlearn: 0.1439110\ttest: 0.1554087\tbest: 0.1553996 (470)\ttotal: 3m 42s\tremaining: 4m 9s\n",
                        "472:\tlearn: 0.1439042\ttest: 0.1554034\tbest: 0.1553996 (470)\ttotal: 3m 42s\tremaining: 4m 8s\n",
                        "473:\tlearn: 0.1438054\ttest: 0.1553727\tbest: 0.1553727 (473)\ttotal: 3m 45s\tremaining: 4m 10s\n",
                        "474:\tlearn: 0.1437314\ttest: 0.1553519\tbest: 0.1553519 (474)\ttotal: 3m 48s\tremaining: 4m 12s\n",
                        "475:\tlearn: 0.1436494\ttest: 0.1553452\tbest: 0.1553452 (475)\ttotal: 3m 51s\tremaining: 4m 14s\n",
                        "476:\tlearn: 0.1435569\ttest: 0.1553332\tbest: 0.1553332 (476)\ttotal: 3m 53s\tremaining: 4m 16s\n",
                        "477:\tlearn: 0.1435555\ttest: 0.1553305\tbest: 0.1553305 (477)\ttotal: 3m 53s\tremaining: 4m 15s\n",
                        "478:\tlearn: 0.1434594\ttest: 0.1553446\tbest: 0.1553305 (477)\ttotal: 3m 56s\tremaining: 4m 17s\n",
                        "479:\tlearn: 0.1434097\ttest: 0.1553334\tbest: 0.1553305 (477)\ttotal: 3m 56s\tremaining: 4m 16s\n",
                        "480:\tlearn: 0.1433318\ttest: 0.1553214\tbest: 0.1553214 (480)\ttotal: 4m\tremaining: 4m 19s\n",
                        "481:\tlearn: 0.1433256\ttest: 0.1553159\tbest: 0.1553159 (481)\ttotal: 4m\tremaining: 4m 18s\n",
                        "482:\tlearn: 0.1432409\ttest: 0.1553322\tbest: 0.1553159 (481)\ttotal: 4m\tremaining: 4m 17s\n",
                        "483:\tlearn: 0.1432302\ttest: 0.1553212\tbest: 0.1553159 (481)\ttotal: 4m\tremaining: 4m 16s\n",
                        "484:\tlearn: 0.1432156\ttest: 0.1553134\tbest: 0.1553134 (484)\ttotal: 4m\tremaining: 4m 15s\n",
                        "485:\tlearn: 0.1432030\ttest: 0.1553154\tbest: 0.1553134 (484)\ttotal: 4m\tremaining: 4m 14s\n",
                        "486:\tlearn: 0.1430625\ttest: 0.1553191\tbest: 0.1553134 (484)\ttotal: 4m 3s\tremaining: 4m 16s\n",
                        "487:\tlearn: 0.1430392\ttest: 0.1553157\tbest: 0.1553134 (484)\ttotal: 4m 3s\tremaining: 4m 15s\n",
                        "488:\tlearn: 0.1429948\ttest: 0.1553114\tbest: 0.1553114 (488)\ttotal: 4m 3s\tremaining: 4m 14s\n",
                        "489:\tlearn: 0.1428045\ttest: 0.1553011\tbest: 0.1553011 (489)\ttotal: 4m 6s\tremaining: 4m 16s\n",
                        "490:\tlearn: 0.1427703\ttest: 0.1553023\tbest: 0.1553011 (489)\ttotal: 4m 6s\tremaining: 4m 15s\n",
                        "491:\tlearn: 0.1427277\ttest: 0.1552983\tbest: 0.1552983 (491)\ttotal: 4m 6s\tremaining: 4m 14s\n",
                        "492:\tlearn: 0.1427188\ttest: 0.1553065\tbest: 0.1552983 (491)\ttotal: 4m 6s\tremaining: 4m 13s\n",
                        "493:\tlearn: 0.1426752\ttest: 0.1552728\tbest: 0.1552728 (493)\ttotal: 4m 9s\tremaining: 4m 15s\n",
                        "494:\tlearn: 0.1426055\ttest: 0.1551965\tbest: 0.1551965 (494)\ttotal: 4m 9s\tremaining: 4m 14s\n",
                        "495:\tlearn: 0.1425866\ttest: 0.1552028\tbest: 0.1551965 (494)\ttotal: 4m 9s\tremaining: 4m 13s\n",
                        "496:\tlearn: 0.1425379\ttest: 0.1551883\tbest: 0.1551883 (496)\ttotal: 4m 10s\tremaining: 4m 13s\n",
                        "497:\tlearn: 0.1424930\ttest: 0.1551821\tbest: 0.1551821 (497)\ttotal: 4m 11s\tremaining: 4m 13s\n",
                        "498:\tlearn: 0.1424733\ttest: 0.1551834\tbest: 0.1551821 (497)\ttotal: 4m 11s\tremaining: 4m 12s\n",
                        "499:\tlearn: 0.1424691\ttest: 0.1551786\tbest: 0.1551786 (499)\ttotal: 4m 11s\tremaining: 4m 11s\n",
                        "500:\tlearn: 0.1424670\ttest: 0.1551740\tbest: 0.1551740 (500)\ttotal: 4m 11s\tremaining: 4m 10s\n",
                        "501:\tlearn: 0.1424212\ttest: 0.1551611\tbest: 0.1551611 (501)\ttotal: 4m 13s\tremaining: 4m 11s\n",
                        "502:\tlearn: 0.1424147\ttest: 0.1551563\tbest: 0.1551563 (502)\ttotal: 4m 13s\tremaining: 4m 10s\n",
                        "503:\tlearn: 0.1423556\ttest: 0.1551319\tbest: 0.1551319 (503)\ttotal: 4m 15s\tremaining: 4m 11s\n",
                        "504:\tlearn: 0.1423023\ttest: 0.1551229\tbest: 0.1551229 (504)\ttotal: 4m 16s\tremaining: 4m 11s\n",
                        "505:\tlearn: 0.1422670\ttest: 0.1551104\tbest: 0.1551104 (505)\ttotal: 4m 16s\tremaining: 4m 10s\n",
                        "506:\tlearn: 0.1422629\ttest: 0.1551075\tbest: 0.1551075 (506)\ttotal: 4m 16s\tremaining: 4m 9s\n",
                        "507:\tlearn: 0.1422337\ttest: 0.1551127\tbest: 0.1551075 (506)\ttotal: 4m 18s\tremaining: 4m 10s\n",
                        "508:\tlearn: 0.1422198\ttest: 0.1551063\tbest: 0.1551063 (508)\ttotal: 4m 19s\tremaining: 4m 9s\n",
                        "509:\tlearn: 0.1421960\ttest: 0.1550987\tbest: 0.1550987 (509)\ttotal: 4m 19s\tremaining: 4m 8s\n",
                        "510:\tlearn: 0.1421415\ttest: 0.1551384\tbest: 0.1550987 (509)\ttotal: 4m 19s\tremaining: 4m 8s\n",
                        "511:\tlearn: 0.1421187\ttest: 0.1551474\tbest: 0.1550987 (509)\ttotal: 4m 20s\tremaining: 4m 8s\n",
                        "512:\tlearn: 0.1421003\ttest: 0.1551505\tbest: 0.1550987 (509)\ttotal: 4m 20s\tremaining: 4m 7s\n",
                        "513:\tlearn: 0.1420984\ttest: 0.1551486\tbest: 0.1550987 (509)\ttotal: 4m 20s\tremaining: 4m 6s\n",
                        "514:\tlearn: 0.1420347\ttest: 0.1551289\tbest: 0.1550987 (509)\ttotal: 4m 20s\tremaining: 4m 5s\n",
                        "515:\tlearn: 0.1419829\ttest: 0.1551398\tbest: 0.1550987 (509)\ttotal: 4m 20s\tremaining: 4m 4s\n",
                        "516:\tlearn: 0.1419001\ttest: 0.1551407\tbest: 0.1550987 (509)\ttotal: 4m 21s\tremaining: 4m 4s\n",
                        "517:\tlearn: 0.1418369\ttest: 0.1551541\tbest: 0.1550987 (509)\ttotal: 4m 24s\tremaining: 4m 5s\n",
                        "518:\tlearn: 0.1417896\ttest: 0.1551521\tbest: 0.1550987 (509)\ttotal: 4m 25s\tremaining: 4m 6s\n",
                        "519:\tlearn: 0.1417722\ttest: 0.1551496\tbest: 0.1550987 (509)\ttotal: 4m 25s\tremaining: 4m 5s\n",
                        "520:\tlearn: 0.1417053\ttest: 0.1551545\tbest: 0.1550987 (509)\ttotal: 4m 25s\tremaining: 4m 4s\n",
                        "521:\tlearn: 0.1417039\ttest: 0.1551525\tbest: 0.1550987 (509)\ttotal: 4m 25s\tremaining: 4m 3s\n",
                        "522:\tlearn: 0.1416661\ttest: 0.1551478\tbest: 0.1550987 (509)\ttotal: 4m 25s\tremaining: 4m 2s\n",
                        "523:\tlearn: 0.1416100\ttest: 0.1551584\tbest: 0.1550987 (509)\ttotal: 4m 26s\tremaining: 4m 1s\n",
                        "524:\tlearn: 0.1415549\ttest: 0.1551709\tbest: 0.1550987 (509)\ttotal: 4m 26s\tremaining: 4m 1s\n",
                        "525:\tlearn: 0.1415470\ttest: 0.1551679\tbest: 0.1550987 (509)\ttotal: 4m 26s\tremaining: 4m\n",
                        "526:\tlearn: 0.1414798\ttest: 0.1550982\tbest: 0.1550982 (526)\ttotal: 4m 26s\tremaining: 3m 59s\n",
                        "527:\tlearn: 0.1414362\ttest: 0.1550853\tbest: 0.1550853 (527)\ttotal: 4m 27s\tremaining: 3m 58s\n",
                        "528:\tlearn: 0.1413339\ttest: 0.1550920\tbest: 0.1550853 (527)\ttotal: 4m 29s\tremaining: 4m\n",
                        "529:\tlearn: 0.1413016\ttest: 0.1550988\tbest: 0.1550853 (527)\ttotal: 4m 30s\tremaining: 3m 59s\n",
                        "530:\tlearn: 0.1412365\ttest: 0.1550995\tbest: 0.1550853 (527)\ttotal: 4m 32s\tremaining: 4m\n",
                        "531:\tlearn: 0.1411640\ttest: 0.1551018\tbest: 0.1550853 (527)\ttotal: 4m 35s\tremaining: 4m 2s\n",
                        "532:\tlearn: 0.1411318\ttest: 0.1551108\tbest: 0.1550853 (527)\ttotal: 4m 35s\tremaining: 4m 1s\n",
                        "533:\tlearn: 0.1410328\ttest: 0.1551021\tbest: 0.1550853 (527)\ttotal: 4m 38s\tremaining: 4m 2s\n",
                        "534:\tlearn: 0.1409435\ttest: 0.1550408\tbest: 0.1550408 (534)\ttotal: 4m 38s\tremaining: 4m 2s\n",
                        "535:\tlearn: 0.1409209\ttest: 0.1550104\tbest: 0.1550104 (535)\ttotal: 4m 38s\tremaining: 4m 1s\n",
                        "536:\tlearn: 0.1408462\ttest: 0.1550205\tbest: 0.1550104 (535)\ttotal: 4m 41s\tremaining: 4m 2s\n",
                        "537:\tlearn: 0.1408460\ttest: 0.1550199\tbest: 0.1550104 (535)\ttotal: 4m 41s\tremaining: 4m 1s\n",
                        "538:\tlearn: 0.1408059\ttest: 0.1550043\tbest: 0.1550043 (538)\ttotal: 4m 42s\tremaining: 4m 1s\n",
                        "539:\tlearn: 0.1408043\ttest: 0.1550026\tbest: 0.1550026 (539)\ttotal: 4m 42s\tremaining: 4m\n",
                        "540:\tlearn: 0.1407517\ttest: 0.1549760\tbest: 0.1549760 (540)\ttotal: 4m 42s\tremaining: 3m 59s\n",
                        "541:\tlearn: 0.1406862\ttest: 0.1549154\tbest: 0.1549154 (541)\ttotal: 4m 42s\tremaining: 3m 58s\n",
                        "542:\tlearn: 0.1406040\ttest: 0.1549248\tbest: 0.1549154 (541)\ttotal: 4m 42s\tremaining: 3m 58s\n",
                        "543:\tlearn: 0.1404639\ttest: 0.1549104\tbest: 0.1549104 (543)\ttotal: 4m 45s\tremaining: 3m 59s\n",
                        "544:\tlearn: 0.1404488\ttest: 0.1549112\tbest: 0.1549104 (543)\ttotal: 4m 45s\tremaining: 3m 58s\n",
                        "545:\tlearn: 0.1404381\ttest: 0.1549033\tbest: 0.1549033 (545)\ttotal: 4m 45s\tremaining: 3m 57s\n",
                        "546:\tlearn: 0.1404103\ttest: 0.1549060\tbest: 0.1549033 (545)\ttotal: 4m 45s\tremaining: 3m 56s\n"
                    ]
                },
                {
                    "name": "stdout",
                    "output_type": "stream",
                    "text": [
                        "547:\tlearn: 0.1403960\ttest: 0.1549075\tbest: 0.1549033 (545)\ttotal: 4m 46s\tremaining: 3m 55s\n",
                        "548:\tlearn: 0.1403554\ttest: 0.1549034\tbest: 0.1549033 (545)\ttotal: 4m 47s\tremaining: 3m 56s\n",
                        "549:\tlearn: 0.1402844\ttest: 0.1549279\tbest: 0.1549033 (545)\ttotal: 4m 48s\tremaining: 3m 55s\n",
                        "550:\tlearn: 0.1402835\ttest: 0.1549264\tbest: 0.1549033 (545)\ttotal: 4m 48s\tremaining: 3m 54s\n",
                        "551:\tlearn: 0.1401893\ttest: 0.1549253\tbest: 0.1549033 (545)\ttotal: 4m 49s\tremaining: 3m 55s\n",
                        "552:\tlearn: 0.1401302\ttest: 0.1549000\tbest: 0.1549000 (552)\ttotal: 4m 49s\tremaining: 3m 54s\n",
                        "553:\tlearn: 0.1401098\ttest: 0.1548900\tbest: 0.1548900 (553)\ttotal: 4m 49s\tremaining: 3m 53s\n",
                        "554:\tlearn: 0.1401081\ttest: 0.1548898\tbest: 0.1548898 (554)\ttotal: 4m 50s\tremaining: 3m 52s\n",
                        "555:\tlearn: 0.1400222\ttest: 0.1548854\tbest: 0.1548854 (555)\ttotal: 4m 52s\tremaining: 3m 53s\n",
                        "556:\tlearn: 0.1399911\ttest: 0.1548798\tbest: 0.1548798 (556)\ttotal: 4m 52s\tremaining: 3m 52s\n",
                        "557:\tlearn: 0.1398880\ttest: 0.1548840\tbest: 0.1548798 (556)\ttotal: 4m 55s\tremaining: 3m 54s\n",
                        "558:\tlearn: 0.1398703\ttest: 0.1548909\tbest: 0.1548798 (556)\ttotal: 4m 55s\tremaining: 3m 53s\n",
                        "559:\tlearn: 0.1398527\ttest: 0.1548822\tbest: 0.1548798 (556)\ttotal: 4m 55s\tremaining: 3m 52s\n",
                        "560:\tlearn: 0.1397948\ttest: 0.1548890\tbest: 0.1548798 (556)\ttotal: 4m 56s\tremaining: 3m 51s\n",
                        "561:\tlearn: 0.1397877\ttest: 0.1548933\tbest: 0.1548798 (556)\ttotal: 4m 56s\tremaining: 3m 50s\n",
                        "562:\tlearn: 0.1397222\ttest: 0.1548916\tbest: 0.1548798 (556)\ttotal: 4m 58s\tremaining: 3m 51s\n",
                        "563:\tlearn: 0.1397211\ttest: 0.1548892\tbest: 0.1548798 (556)\ttotal: 4m 58s\tremaining: 3m 51s\n",
                        "564:\tlearn: 0.1396744\ttest: 0.1548846\tbest: 0.1548798 (556)\ttotal: 4m 59s\tremaining: 3m 50s\n",
                        "565:\tlearn: 0.1395826\ttest: 0.1548613\tbest: 0.1548613 (565)\ttotal: 5m 1s\tremaining: 3m 51s\n",
                        "566:\tlearn: 0.1395746\ttest: 0.1548598\tbest: 0.1548598 (566)\ttotal: 5m 1s\tremaining: 3m 50s\n",
                        "567:\tlearn: 0.1395700\ttest: 0.1548537\tbest: 0.1548537 (567)\ttotal: 5m 2s\tremaining: 3m 49s\n",
                        "568:\tlearn: 0.1395621\ttest: 0.1548528\tbest: 0.1548528 (568)\ttotal: 5m 2s\tremaining: 3m 48s\n",
                        "569:\tlearn: 0.1395574\ttest: 0.1548518\tbest: 0.1548518 (569)\ttotal: 5m 2s\tremaining: 3m 48s\n",
                        "570:\tlearn: 0.1395003\ttest: 0.1548679\tbest: 0.1548518 (569)\ttotal: 5m 4s\tremaining: 3m 49s\n",
                        "571:\tlearn: 0.1394924\ttest: 0.1548763\tbest: 0.1548518 (569)\ttotal: 5m 4s\tremaining: 3m 48s\n",
                        "572:\tlearn: 0.1394490\ttest: 0.1548601\tbest: 0.1548518 (569)\ttotal: 5m 7s\tremaining: 3m 49s\n",
                        "573:\tlearn: 0.1393926\ttest: 0.1548048\tbest: 0.1548048 (573)\ttotal: 5m 7s\tremaining: 3m 48s\n",
                        "574:\tlearn: 0.1393812\ttest: 0.1548034\tbest: 0.1548034 (574)\ttotal: 5m 7s\tremaining: 3m 47s\n",
                        "575:\tlearn: 0.1393064\ttest: 0.1547894\tbest: 0.1547894 (575)\ttotal: 5m 8s\tremaining: 3m 47s\n",
                        "576:\tlearn: 0.1392620\ttest: 0.1547822\tbest: 0.1547822 (576)\ttotal: 5m 9s\tremaining: 3m 46s\n",
                        "577:\tlearn: 0.1391769\ttest: 0.1547714\tbest: 0.1547714 (577)\ttotal: 5m 12s\tremaining: 3m 47s\n",
                        "578:\tlearn: 0.1391436\ttest: 0.1547680\tbest: 0.1547680 (578)\ttotal: 5m 13s\tremaining: 3m 47s\n",
                        "579:\tlearn: 0.1391053\ttest: 0.1547527\tbest: 0.1547527 (579)\ttotal: 5m 13s\tremaining: 3m 47s\n",
                        "580:\tlearn: 0.1390750\ttest: 0.1547506\tbest: 0.1547506 (580)\ttotal: 5m 16s\tremaining: 3m 48s\n",
                        "581:\tlearn: 0.1390512\ttest: 0.1547499\tbest: 0.1547499 (581)\ttotal: 5m 16s\tremaining: 3m 47s\n",
                        "582:\tlearn: 0.1390412\ttest: 0.1547440\tbest: 0.1547440 (582)\ttotal: 5m 16s\tremaining: 3m 46s\n",
                        "583:\tlearn: 0.1390330\ttest: 0.1547523\tbest: 0.1547440 (582)\ttotal: 5m 16s\tremaining: 3m 45s\n",
                        "584:\tlearn: 0.1390323\ttest: 0.1547511\tbest: 0.1547440 (582)\ttotal: 5m 16s\tremaining: 3m 44s\n",
                        "585:\tlearn: 0.1388834\ttest: 0.1547274\tbest: 0.1547274 (585)\ttotal: 5m 19s\tremaining: 3m 45s\n",
                        "586:\tlearn: 0.1388805\ttest: 0.1547269\tbest: 0.1547269 (586)\ttotal: 5m 19s\tremaining: 3m 44s\n",
                        "587:\tlearn: 0.1388672\ttest: 0.1547196\tbest: 0.1547196 (587)\ttotal: 5m 19s\tremaining: 3m 43s\n",
                        "588:\tlearn: 0.1387961\ttest: 0.1546943\tbest: 0.1546943 (588)\ttotal: 5m 22s\tremaining: 3m 45s\n",
                        "589:\tlearn: 0.1386672\ttest: 0.1546445\tbest: 0.1546445 (589)\ttotal: 5m 25s\tremaining: 3m 46s\n",
                        "590:\tlearn: 0.1386647\ttest: 0.1546438\tbest: 0.1546438 (590)\ttotal: 5m 25s\tremaining: 3m 45s\n",
                        "591:\tlearn: 0.1386483\ttest: 0.1546414\tbest: 0.1546414 (591)\ttotal: 5m 25s\tremaining: 3m 44s\n",
                        "592:\tlearn: 0.1386468\ttest: 0.1546391\tbest: 0.1546391 (592)\ttotal: 5m 25s\tremaining: 3m 43s\n",
                        "593:\tlearn: 0.1385592\ttest: 0.1546033\tbest: 0.1546033 (593)\ttotal: 5m 28s\tremaining: 3m 44s\n",
                        "594:\tlearn: 0.1385425\ttest: 0.1546054\tbest: 0.1546033 (593)\ttotal: 5m 29s\tremaining: 3m 43s\n",
                        "595:\tlearn: 0.1385355\ttest: 0.1546029\tbest: 0.1546029 (595)\ttotal: 5m 29s\tremaining: 3m 43s\n",
                        "596:\tlearn: 0.1383685\ttest: 0.1545918\tbest: 0.1545918 (596)\ttotal: 5m 31s\tremaining: 3m 43s\n",
                        "597:\tlearn: 0.1383373\ttest: 0.1545809\tbest: 0.1545809 (597)\ttotal: 5m 31s\tremaining: 3m 42s\n",
                        "598:\tlearn: 0.1382835\ttest: 0.1545811\tbest: 0.1545809 (597)\ttotal: 5m 32s\tremaining: 3m 42s\n",
                        "599:\tlearn: 0.1382650\ttest: 0.1545946\tbest: 0.1545809 (597)\ttotal: 5m 32s\tremaining: 3m 41s\n",
                        "600:\tlearn: 0.1382619\ttest: 0.1545971\tbest: 0.1545809 (597)\ttotal: 5m 32s\tremaining: 3m 40s\n",
                        "601:\tlearn: 0.1381610\ttest: 0.1545697\tbest: 0.1545697 (601)\ttotal: 5m 35s\tremaining: 3m 41s\n",
                        "602:\tlearn: 0.1380902\ttest: 0.1545342\tbest: 0.1545342 (602)\ttotal: 5m 35s\tremaining: 3m 41s\n",
                        "603:\tlearn: 0.1380891\ttest: 0.1545328\tbest: 0.1545328 (603)\ttotal: 5m 35s\tremaining: 3m 40s\n",
                        "604:\tlearn: 0.1380785\ttest: 0.1545267\tbest: 0.1545267 (604)\ttotal: 5m 35s\tremaining: 3m 39s\n",
                        "605:\tlearn: 0.1379508\ttest: 0.1545143\tbest: 0.1545143 (605)\ttotal: 5m 38s\tremaining: 3m 40s\n",
                        "606:\tlearn: 0.1379430\ttest: 0.1545092\tbest: 0.1545092 (606)\ttotal: 5m 38s\tremaining: 3m 39s\n",
                        "607:\tlearn: 0.1378986\ttest: 0.1545174\tbest: 0.1545092 (606)\ttotal: 5m 39s\tremaining: 3m 38s\n",
                        "608:\tlearn: 0.1378827\ttest: 0.1545209\tbest: 0.1545092 (606)\ttotal: 5m 39s\tremaining: 3m 37s\n",
                        "609:\tlearn: 0.1378375\ttest: 0.1545201\tbest: 0.1545092 (606)\ttotal: 5m 39s\tremaining: 3m 37s\n",
                        "610:\tlearn: 0.1377841\ttest: 0.1544992\tbest: 0.1544992 (610)\ttotal: 5m 41s\tremaining: 3m 37s\n",
                        "611:\tlearn: 0.1376941\ttest: 0.1545013\tbest: 0.1544992 (610)\ttotal: 5m 44s\tremaining: 3m 38s\n",
                        "612:\tlearn: 0.1375836\ttest: 0.1544728\tbest: 0.1544728 (612)\ttotal: 5m 46s\tremaining: 3m 38s\n",
                        "613:\tlearn: 0.1375775\ttest: 0.1544680\tbest: 0.1544680 (613)\ttotal: 5m 46s\tremaining: 3m 37s\n",
                        "614:\tlearn: 0.1374728\ttest: 0.1544641\tbest: 0.1544641 (614)\ttotal: 5m 47s\tremaining: 3m 37s\n",
                        "615:\tlearn: 0.1374348\ttest: 0.1544589\tbest: 0.1544589 (615)\ttotal: 5m 47s\tremaining: 3m 36s\n",
                        "616:\tlearn: 0.1374303\ttest: 0.1544554\tbest: 0.1544554 (616)\ttotal: 5m 47s\tremaining: 3m 35s\n",
                        "617:\tlearn: 0.1374208\ttest: 0.1544464\tbest: 0.1544464 (617)\ttotal: 5m 47s\tremaining: 3m 35s\n",
                        "618:\tlearn: 0.1374161\ttest: 0.1544366\tbest: 0.1544366 (618)\ttotal: 5m 48s\tremaining: 3m 34s\n",
                        "619:\tlearn: 0.1373393\ttest: 0.1543881\tbest: 0.1543881 (619)\ttotal: 5m 50s\tremaining: 3m 35s\n",
                        "620:\tlearn: 0.1373376\ttest: 0.1543893\tbest: 0.1543881 (619)\ttotal: 5m 51s\tremaining: 3m 34s\n",
                        "621:\tlearn: 0.1373219\ttest: 0.1543877\tbest: 0.1543877 (621)\ttotal: 5m 51s\tremaining: 3m 33s\n",
                        "622:\tlearn: 0.1371908\ttest: 0.1544269\tbest: 0.1543877 (621)\ttotal: 5m 51s\tremaining: 3m 32s\n",
                        "623:\tlearn: 0.1371684\ttest: 0.1544269\tbest: 0.1543877 (621)\ttotal: 5m 51s\tremaining: 3m 31s\n",
                        "624:\tlearn: 0.1371550\ttest: 0.1544331\tbest: 0.1543877 (621)\ttotal: 5m 51s\tremaining: 3m 31s\n",
                        "625:\tlearn: 0.1371355\ttest: 0.1544384\tbest: 0.1543877 (621)\ttotal: 5m 52s\tremaining: 3m 30s\n",
                        "626:\tlearn: 0.1370652\ttest: 0.1544197\tbest: 0.1543877 (621)\ttotal: 5m 52s\tremaining: 3m 29s\n",
                        "627:\tlearn: 0.1370530\ttest: 0.1544282\tbest: 0.1543877 (621)\ttotal: 5m 52s\tremaining: 3m 28s\n",
                        "628:\tlearn: 0.1370449\ttest: 0.1544404\tbest: 0.1543877 (621)\ttotal: 5m 52s\tremaining: 3m 27s\n",
                        "629:\tlearn: 0.1369328\ttest: 0.1544232\tbest: 0.1543877 (621)\ttotal: 5m 55s\tremaining: 3m 28s\n",
                        "630:\tlearn: 0.1367200\ttest: 0.1544134\tbest: 0.1543877 (621)\ttotal: 5m 57s\tremaining: 3m 28s\n",
                        "631:\tlearn: 0.1366273\ttest: 0.1544148\tbest: 0.1543877 (621)\ttotal: 5m 58s\tremaining: 3m 28s\n",
                        "632:\tlearn: 0.1365117\ttest: 0.1544003\tbest: 0.1543877 (621)\ttotal: 6m 1s\tremaining: 3m 29s\n",
                        "633:\tlearn: 0.1364065\ttest: 0.1544002\tbest: 0.1543877 (621)\ttotal: 6m 4s\tremaining: 3m 30s\n",
                        "634:\tlearn: 0.1363788\ttest: 0.1544032\tbest: 0.1543877 (621)\ttotal: 6m 4s\tremaining: 3m 29s\n",
                        "635:\tlearn: 0.1363136\ttest: 0.1543513\tbest: 0.1543513 (635)\ttotal: 6m 4s\tremaining: 3m 28s\n",
                        "636:\tlearn: 0.1362176\ttest: 0.1543459\tbest: 0.1543459 (636)\ttotal: 6m 5s\tremaining: 3m 28s\n"
                    ]
                },
                {
                    "name": "stdout",
                    "output_type": "stream",
                    "text": [
                        "637:\tlearn: 0.1362172\ttest: 0.1543451\tbest: 0.1543451 (637)\ttotal: 6m 5s\tremaining: 3m 27s\n",
                        "638:\tlearn: 0.1362083\ttest: 0.1543480\tbest: 0.1543451 (637)\ttotal: 6m 6s\tremaining: 3m 26s\n",
                        "639:\tlearn: 0.1362081\ttest: 0.1543472\tbest: 0.1543451 (637)\ttotal: 6m 6s\tremaining: 3m 25s\n",
                        "640:\tlearn: 0.1361990\ttest: 0.1543411\tbest: 0.1543411 (640)\ttotal: 6m 6s\tremaining: 3m 25s\n",
                        "641:\tlearn: 0.1361068\ttest: 0.1543345\tbest: 0.1543345 (641)\ttotal: 6m 6s\tremaining: 3m 24s\n",
                        "642:\tlearn: 0.1360391\ttest: 0.1543226\tbest: 0.1543226 (642)\ttotal: 6m 9s\tremaining: 3m 25s\n",
                        "643:\tlearn: 0.1360389\ttest: 0.1543218\tbest: 0.1543218 (643)\ttotal: 6m 9s\tremaining: 3m 24s\n",
                        "644:\tlearn: 0.1360302\ttest: 0.1543259\tbest: 0.1543218 (643)\ttotal: 6m 9s\tremaining: 3m 23s\n",
                        "645:\tlearn: 0.1359518\ttest: 0.1542955\tbest: 0.1542955 (645)\ttotal: 6m 11s\tremaining: 3m 23s\n",
                        "646:\tlearn: 0.1358641\ttest: 0.1543031\tbest: 0.1542955 (645)\ttotal: 6m 14s\tremaining: 3m 24s\n",
                        "647:\tlearn: 0.1357446\ttest: 0.1542817\tbest: 0.1542817 (647)\ttotal: 6m 15s\tremaining: 3m 24s\n",
                        "648:\tlearn: 0.1356919\ttest: 0.1542627\tbest: 0.1542627 (648)\ttotal: 6m 18s\tremaining: 3m 24s\n",
                        "649:\tlearn: 0.1356366\ttest: 0.1542010\tbest: 0.1542010 (649)\ttotal: 6m 18s\tremaining: 3m 23s\n",
                        "650:\tlearn: 0.1356016\ttest: 0.1541994\tbest: 0.1541994 (650)\ttotal: 6m 18s\tremaining: 3m 23s\n",
                        "651:\tlearn: 0.1355992\ttest: 0.1541962\tbest: 0.1541962 (651)\ttotal: 6m 18s\tremaining: 3m 22s\n",
                        "652:\tlearn: 0.1355413\ttest: 0.1541783\tbest: 0.1541783 (652)\ttotal: 6m 19s\tremaining: 3m 21s\n",
                        "653:\tlearn: 0.1354736\ttest: 0.1541838\tbest: 0.1541783 (652)\ttotal: 6m 21s\tremaining: 3m 22s\n",
                        "654:\tlearn: 0.1354561\ttest: 0.1541783\tbest: 0.1541783 (654)\ttotal: 6m 22s\tremaining: 3m 21s\n",
                        "655:\tlearn: 0.1353726\ttest: 0.1541716\tbest: 0.1541716 (655)\ttotal: 6m 24s\tremaining: 3m 21s\n",
                        "656:\tlearn: 0.1353428\ttest: 0.1541404\tbest: 0.1541404 (656)\ttotal: 6m 25s\tremaining: 3m 21s\n",
                        "657:\tlearn: 0.1353394\ttest: 0.1541419\tbest: 0.1541404 (656)\ttotal: 6m 25s\tremaining: 3m 20s\n",
                        "658:\tlearn: 0.1353014\ttest: 0.1541320\tbest: 0.1541320 (658)\ttotal: 6m 27s\tremaining: 3m 20s\n",
                        "659:\tlearn: 0.1352862\ttest: 0.1541379\tbest: 0.1541320 (658)\ttotal: 6m 28s\tremaining: 3m 19s\n",
                        "660:\tlearn: 0.1352859\ttest: 0.1541372\tbest: 0.1541320 (658)\ttotal: 6m 28s\tremaining: 3m 19s\n",
                        "661:\tlearn: 0.1352755\ttest: 0.1541317\tbest: 0.1541317 (661)\ttotal: 6m 28s\tremaining: 3m 18s\n",
                        "662:\tlearn: 0.1352102\ttest: 0.1541464\tbest: 0.1541317 (661)\ttotal: 6m 30s\tremaining: 3m 18s\n",
                        "663:\tlearn: 0.1351926\ttest: 0.1541294\tbest: 0.1541294 (663)\ttotal: 6m 30s\tremaining: 3m 17s\n",
                        "664:\tlearn: 0.1351911\ttest: 0.1541262\tbest: 0.1541262 (664)\ttotal: 6m 30s\tremaining: 3m 16s\n",
                        "665:\tlearn: 0.1351680\ttest: 0.1541027\tbest: 0.1541027 (665)\ttotal: 6m 31s\tremaining: 3m 16s\n",
                        "666:\tlearn: 0.1351638\ttest: 0.1541011\tbest: 0.1541011 (666)\ttotal: 6m 31s\tremaining: 3m 15s\n",
                        "667:\tlearn: 0.1351349\ttest: 0.1540858\tbest: 0.1540858 (667)\ttotal: 6m 31s\tremaining: 3m 14s\n",
                        "668:\tlearn: 0.1350358\ttest: 0.1540961\tbest: 0.1540858 (667)\ttotal: 6m 33s\tremaining: 3m 14s\n",
                        "669:\tlearn: 0.1350055\ttest: 0.1540684\tbest: 0.1540684 (669)\ttotal: 6m 33s\tremaining: 3m 13s\n",
                        "670:\tlearn: 0.1349940\ttest: 0.1540553\tbest: 0.1540553 (670)\ttotal: 6m 33s\tremaining: 3m 13s\n",
                        "671:\tlearn: 0.1349584\ttest: 0.1540615\tbest: 0.1540553 (670)\ttotal: 6m 33s\tremaining: 3m 12s\n",
                        "672:\tlearn: 0.1348720\ttest: 0.1540689\tbest: 0.1540553 (670)\ttotal: 6m 36s\tremaining: 3m 12s\n",
                        "673:\tlearn: 0.1348590\ttest: 0.1540640\tbest: 0.1540553 (670)\ttotal: 6m 36s\tremaining: 3m 11s\n",
                        "674:\tlearn: 0.1348584\ttest: 0.1540638\tbest: 0.1540553 (670)\ttotal: 6m 36s\tremaining: 3m 11s\n",
                        "675:\tlearn: 0.1348519\ttest: 0.1540619\tbest: 0.1540553 (670)\ttotal: 6m 36s\tremaining: 3m 10s\n",
                        "676:\tlearn: 0.1347835\ttest: 0.1540679\tbest: 0.1540553 (670)\ttotal: 6m 37s\tremaining: 3m 9s\n",
                        "677:\tlearn: 0.1347318\ttest: 0.1540662\tbest: 0.1540553 (670)\ttotal: 6m 38s\tremaining: 3m 9s\n",
                        "678:\tlearn: 0.1347244\ttest: 0.1540682\tbest: 0.1540553 (670)\ttotal: 6m 38s\tremaining: 3m 8s\n",
                        "679:\tlearn: 0.1346522\ttest: 0.1540450\tbest: 0.1540450 (679)\ttotal: 6m 41s\tremaining: 3m 9s\n",
                        "680:\tlearn: 0.1345836\ttest: 0.1540307\tbest: 0.1540307 (680)\ttotal: 6m 42s\tremaining: 3m 8s\n",
                        "681:\tlearn: 0.1345613\ttest: 0.1540038\tbest: 0.1540038 (681)\ttotal: 6m 42s\tremaining: 3m 7s\n",
                        "682:\tlearn: 0.1345580\ttest: 0.1540082\tbest: 0.1540038 (681)\ttotal: 6m 43s\tremaining: 3m 7s\n",
                        "683:\tlearn: 0.1345395\ttest: 0.1540046\tbest: 0.1540038 (681)\ttotal: 6m 43s\tremaining: 3m 6s\n",
                        "684:\tlearn: 0.1345271\ttest: 0.1539997\tbest: 0.1539997 (684)\ttotal: 6m 43s\tremaining: 3m 5s\n",
                        "685:\tlearn: 0.1343866\ttest: 0.1540216\tbest: 0.1539997 (684)\ttotal: 6m 45s\tremaining: 3m 5s\n",
                        "686:\tlearn: 0.1343743\ttest: 0.1540191\tbest: 0.1539997 (684)\ttotal: 6m 45s\tremaining: 3m 4s\n",
                        "687:\tlearn: 0.1343007\ttest: 0.1540294\tbest: 0.1539997 (684)\ttotal: 6m 49s\tremaining: 3m 5s\n",
                        "688:\tlearn: 0.1341879\ttest: 0.1540473\tbest: 0.1539997 (684)\ttotal: 6m 53s\tremaining: 3m 6s\n",
                        "689:\tlearn: 0.1341178\ttest: 0.1540439\tbest: 0.1539997 (684)\ttotal: 6m 56s\tremaining: 3m 6s\n",
                        "690:\tlearn: 0.1341001\ttest: 0.1540321\tbest: 0.1539997 (684)\ttotal: 6m 56s\tremaining: 3m 6s\n",
                        "691:\tlearn: 0.1340936\ttest: 0.1540404\tbest: 0.1539997 (684)\ttotal: 6m 56s\tremaining: 3m 5s\n",
                        "692:\tlearn: 0.1340929\ttest: 0.1540395\tbest: 0.1539997 (684)\ttotal: 6m 56s\tremaining: 3m 4s\n",
                        "693:\tlearn: 0.1339716\ttest: 0.1540315\tbest: 0.1539997 (684)\ttotal: 7m\tremaining: 3m 5s\n",
                        "694:\tlearn: 0.1339000\ttest: 0.1540046\tbest: 0.1539997 (684)\ttotal: 7m 1s\tremaining: 3m 4s\n",
                        "695:\tlearn: 0.1338324\ttest: 0.1540487\tbest: 0.1539997 (684)\ttotal: 7m 1s\tremaining: 3m 4s\n",
                        "696:\tlearn: 0.1338294\ttest: 0.1540501\tbest: 0.1539997 (684)\ttotal: 7m 1s\tremaining: 3m 3s\n",
                        "697:\tlearn: 0.1337506\ttest: 0.1540282\tbest: 0.1539997 (684)\ttotal: 7m 5s\tremaining: 3m 4s\n",
                        "698:\tlearn: 0.1336627\ttest: 0.1540177\tbest: 0.1539997 (684)\ttotal: 7m 8s\tremaining: 3m 4s\n",
                        "699:\tlearn: 0.1336539\ttest: 0.1540252\tbest: 0.1539997 (684)\ttotal: 7m 8s\tremaining: 3m 3s\n",
                        "700:\tlearn: 0.1336082\ttest: 0.1540069\tbest: 0.1539997 (684)\ttotal: 7m 8s\tremaining: 3m 2s\n",
                        "701:\tlearn: 0.1336037\ttest: 0.1540043\tbest: 0.1539997 (684)\ttotal: 7m 8s\tremaining: 3m 1s\n",
                        "702:\tlearn: 0.1335637\ttest: 0.1540139\tbest: 0.1539997 (684)\ttotal: 7m 11s\tremaining: 3m 2s\n",
                        "703:\tlearn: 0.1335204\ttest: 0.1540061\tbest: 0.1539997 (684)\ttotal: 7m 11s\tremaining: 3m 1s\n",
                        "704:\tlearn: 0.1335114\ttest: 0.1540102\tbest: 0.1539997 (684)\ttotal: 7m 12s\tremaining: 3m\n",
                        "705:\tlearn: 0.1334930\ttest: 0.1539971\tbest: 0.1539971 (705)\ttotal: 7m 12s\tremaining: 2m 59s\n",
                        "706:\tlearn: 0.1334649\ttest: 0.1539766\tbest: 0.1539766 (706)\ttotal: 7m 13s\tremaining: 2m 59s\n",
                        "707:\tlearn: 0.1333616\ttest: 0.1539660\tbest: 0.1539660 (707)\ttotal: 7m 16s\tremaining: 2m 59s\n",
                        "708:\tlearn: 0.1333091\ttest: 0.1539608\tbest: 0.1539608 (708)\ttotal: 7m 16s\tremaining: 2m 59s\n",
                        "709:\tlearn: 0.1332988\ttest: 0.1539610\tbest: 0.1539608 (708)\ttotal: 7m 17s\tremaining: 2m 58s\n",
                        "710:\tlearn: 0.1332948\ttest: 0.1539580\tbest: 0.1539580 (710)\ttotal: 7m 17s\tremaining: 2m 57s\n",
                        "711:\tlearn: 0.1332333\ttest: 0.1539021\tbest: 0.1539021 (711)\ttotal: 7m 17s\tremaining: 2m 56s\n",
                        "712:\tlearn: 0.1331610\ttest: 0.1538871\tbest: 0.1538871 (712)\ttotal: 7m 20s\tremaining: 2m 57s\n",
                        "713:\tlearn: 0.1331411\ttest: 0.1538941\tbest: 0.1538871 (712)\ttotal: 7m 20s\tremaining: 2m 56s\n",
                        "714:\tlearn: 0.1330458\ttest: 0.1538956\tbest: 0.1538871 (712)\ttotal: 7m 23s\tremaining: 2m 56s\n",
                        "715:\tlearn: 0.1330333\ttest: 0.1538971\tbest: 0.1538871 (712)\ttotal: 7m 23s\tremaining: 2m 56s\n",
                        "716:\tlearn: 0.1329912\ttest: 0.1539028\tbest: 0.1538871 (712)\ttotal: 7m 23s\tremaining: 2m 55s\n",
                        "717:\tlearn: 0.1329824\ttest: 0.1539025\tbest: 0.1538871 (712)\ttotal: 7m 24s\tremaining: 2m 54s\n",
                        "718:\tlearn: 0.1328351\ttest: 0.1538924\tbest: 0.1538871 (712)\ttotal: 7m 26s\tremaining: 2m 54s\n",
                        "719:\tlearn: 0.1328336\ttest: 0.1538914\tbest: 0.1538871 (712)\ttotal: 7m 26s\tremaining: 2m 53s\n",
                        "720:\tlearn: 0.1328307\ttest: 0.1538900\tbest: 0.1538871 (712)\ttotal: 7m 26s\tremaining: 2m 52s\n",
                        "721:\tlearn: 0.1328292\ttest: 0.1538888\tbest: 0.1538871 (712)\ttotal: 7m 26s\tremaining: 2m 51s\n",
                        "722:\tlearn: 0.1327141\ttest: 0.1539023\tbest: 0.1538871 (712)\ttotal: 7m 28s\tremaining: 2m 51s\n",
                        "723:\tlearn: 0.1327097\ttest: 0.1539006\tbest: 0.1538871 (712)\ttotal: 7m 28s\tremaining: 2m 51s\n",
                        "724:\tlearn: 0.1327089\ttest: 0.1538993\tbest: 0.1538871 (712)\ttotal: 7m 28s\tremaining: 2m 50s\n",
                        "725:\tlearn: 0.1327087\ttest: 0.1538986\tbest: 0.1538871 (712)\ttotal: 7m 28s\tremaining: 2m 49s\n",
                        "726:\tlearn: 0.1326932\ttest: 0.1539129\tbest: 0.1538871 (712)\ttotal: 7m 28s\tremaining: 2m 48s\n"
                    ]
                },
                {
                    "name": "stdout",
                    "output_type": "stream",
                    "text": [
                        "727:\tlearn: 0.1326263\ttest: 0.1539375\tbest: 0.1538871 (712)\ttotal: 7m 32s\tremaining: 2m 48s\n",
                        "728:\tlearn: 0.1325864\ttest: 0.1539285\tbest: 0.1538871 (712)\ttotal: 7m 34s\tremaining: 2m 49s\n",
                        "729:\tlearn: 0.1325826\ttest: 0.1539245\tbest: 0.1538871 (712)\ttotal: 7m 35s\tremaining: 2m 48s\n",
                        "730:\tlearn: 0.1325773\ttest: 0.1539199\tbest: 0.1538871 (712)\ttotal: 7m 35s\tremaining: 2m 47s\n",
                        "731:\tlearn: 0.1325338\ttest: 0.1539181\tbest: 0.1538871 (712)\ttotal: 7m 35s\tremaining: 2m 46s\n",
                        "732:\tlearn: 0.1324823\ttest: 0.1538800\tbest: 0.1538800 (732)\ttotal: 7m 35s\tremaining: 2m 45s\n",
                        "733:\tlearn: 0.1323733\ttest: 0.1538734\tbest: 0.1538734 (733)\ttotal: 7m 38s\tremaining: 2m 46s\n",
                        "734:\tlearn: 0.1323078\ttest: 0.1538720\tbest: 0.1538720 (734)\ttotal: 7m 41s\tremaining: 2m 46s\n",
                        "735:\tlearn: 0.1323062\ttest: 0.1538716\tbest: 0.1538716 (735)\ttotal: 7m 41s\tremaining: 2m 45s\n",
                        "736:\tlearn: 0.1322545\ttest: 0.1538797\tbest: 0.1538716 (735)\ttotal: 7m 43s\tremaining: 2m 45s\n",
                        "737:\tlearn: 0.1322446\ttest: 0.1538809\tbest: 0.1538716 (735)\ttotal: 7m 43s\tremaining: 2m 44s\n",
                        "738:\tlearn: 0.1321965\ttest: 0.1538828\tbest: 0.1538716 (735)\ttotal: 7m 43s\tremaining: 2m 43s\n",
                        "739:\tlearn: 0.1321511\ttest: 0.1538299\tbest: 0.1538299 (739)\ttotal: 7m 43s\tremaining: 2m 42s\n",
                        "740:\tlearn: 0.1320798\ttest: 0.1538549\tbest: 0.1538299 (739)\ttotal: 7m 44s\tremaining: 2m 42s\n",
                        "741:\tlearn: 0.1320633\ttest: 0.1538510\tbest: 0.1538299 (739)\ttotal: 7m 44s\tremaining: 2m 41s\n",
                        "742:\tlearn: 0.1320099\ttest: 0.1538562\tbest: 0.1538299 (739)\ttotal: 7m 45s\tremaining: 2m 41s\n",
                        "743:\tlearn: 0.1320094\ttest: 0.1538553\tbest: 0.1538299 (739)\ttotal: 7m 45s\tremaining: 2m 40s\n",
                        "744:\tlearn: 0.1317862\ttest: 0.1538605\tbest: 0.1538299 (739)\ttotal: 7m 48s\tremaining: 2m 40s\n",
                        "745:\tlearn: 0.1316983\ttest: 0.1538604\tbest: 0.1538299 (739)\ttotal: 7m 51s\tremaining: 2m 40s\n",
                        "746:\tlearn: 0.1316750\ttest: 0.1538655\tbest: 0.1538299 (739)\ttotal: 7m 51s\tremaining: 2m 39s\n",
                        "747:\tlearn: 0.1316588\ttest: 0.1538542\tbest: 0.1538299 (739)\ttotal: 7m 51s\tremaining: 2m 38s\n",
                        "748:\tlearn: 0.1316477\ttest: 0.1538452\tbest: 0.1538299 (739)\ttotal: 7m 52s\tremaining: 2m 38s\n",
                        "749:\tlearn: 0.1315710\ttest: 0.1538504\tbest: 0.1538299 (739)\ttotal: 7m 53s\tremaining: 2m 37s\n",
                        "750:\tlearn: 0.1315622\ttest: 0.1538572\tbest: 0.1538299 (739)\ttotal: 7m 53s\tremaining: 2m 36s\n",
                        "751:\tlearn: 0.1315395\ttest: 0.1538568\tbest: 0.1538299 (739)\ttotal: 7m 53s\tremaining: 2m 36s\n",
                        "752:\tlearn: 0.1314863\ttest: 0.1538898\tbest: 0.1538299 (739)\ttotal: 7m 53s\tremaining: 2m 35s\n",
                        "753:\tlearn: 0.1313957\ttest: 0.1538804\tbest: 0.1538299 (739)\ttotal: 7m 54s\tremaining: 2m 34s\n",
                        "754:\tlearn: 0.1313935\ttest: 0.1538785\tbest: 0.1538299 (739)\ttotal: 7m 54s\tremaining: 2m 33s\n",
                        "755:\tlearn: 0.1313847\ttest: 0.1538772\tbest: 0.1538299 (739)\ttotal: 7m 54s\tremaining: 2m 33s\n",
                        "756:\tlearn: 0.1313234\ttest: 0.1538863\tbest: 0.1538299 (739)\ttotal: 7m 57s\tremaining: 2m 33s\n",
                        "757:\tlearn: 0.1312372\ttest: 0.1538581\tbest: 0.1538299 (739)\ttotal: 8m\tremaining: 2m 33s\n",
                        "758:\tlearn: 0.1311852\ttest: 0.1538480\tbest: 0.1538299 (739)\ttotal: 8m 3s\tremaining: 2m 33s\n",
                        "759:\tlearn: 0.1311001\ttest: 0.1538467\tbest: 0.1538299 (739)\ttotal: 8m 6s\tremaining: 2m 33s\n",
                        "760:\tlearn: 0.1309989\ttest: 0.1538341\tbest: 0.1538299 (739)\ttotal: 8m 8s\tremaining: 2m 33s\n",
                        "761:\tlearn: 0.1309631\ttest: 0.1538084\tbest: 0.1538084 (761)\ttotal: 8m 8s\tremaining: 2m 32s\n",
                        "762:\tlearn: 0.1309628\ttest: 0.1538075\tbest: 0.1538075 (762)\ttotal: 8m 8s\tremaining: 2m 31s\n",
                        "763:\tlearn: 0.1309492\ttest: 0.1538054\tbest: 0.1538054 (763)\ttotal: 8m 8s\tremaining: 2m 30s\n",
                        "764:\tlearn: 0.1309010\ttest: 0.1537894\tbest: 0.1537894 (764)\ttotal: 8m 11s\tremaining: 2m 30s\n",
                        "765:\tlearn: 0.1308979\ttest: 0.1537892\tbest: 0.1537892 (765)\ttotal: 8m 11s\tremaining: 2m 30s\n",
                        "766:\tlearn: 0.1308910\ttest: 0.1537828\tbest: 0.1537828 (766)\ttotal: 8m 11s\tremaining: 2m 29s\n",
                        "767:\tlearn: 0.1307794\ttest: 0.1537974\tbest: 0.1537828 (766)\ttotal: 8m 14s\tremaining: 2m 29s\n",
                        "768:\tlearn: 0.1307717\ttest: 0.1537979\tbest: 0.1537828 (766)\ttotal: 8m 14s\tremaining: 2m 28s\n",
                        "769:\tlearn: 0.1307635\ttest: 0.1538027\tbest: 0.1537828 (766)\ttotal: 8m 14s\tremaining: 2m 27s\n",
                        "770:\tlearn: 0.1307491\ttest: 0.1538062\tbest: 0.1537828 (766)\ttotal: 8m 14s\tremaining: 2m 26s\n",
                        "771:\tlearn: 0.1306451\ttest: 0.1538034\tbest: 0.1537828 (766)\ttotal: 8m 17s\tremaining: 2m 26s\n",
                        "772:\tlearn: 0.1306314\ttest: 0.1537972\tbest: 0.1537828 (766)\ttotal: 8m 17s\tremaining: 2m 26s\n",
                        "773:\tlearn: 0.1306311\ttest: 0.1537969\tbest: 0.1537828 (766)\ttotal: 8m 17s\tremaining: 2m 25s\n",
                        "774:\tlearn: 0.1306236\ttest: 0.1538002\tbest: 0.1537828 (766)\ttotal: 8m 17s\tremaining: 2m 24s\n",
                        "775:\tlearn: 0.1306132\ttest: 0.1537936\tbest: 0.1537828 (766)\ttotal: 8m 17s\tremaining: 2m 23s\n",
                        "776:\tlearn: 0.1306036\ttest: 0.1537835\tbest: 0.1537828 (766)\ttotal: 8m 17s\tremaining: 2m 22s\n",
                        "777:\tlearn: 0.1305352\ttest: 0.1537790\tbest: 0.1537790 (777)\ttotal: 8m 20s\tremaining: 2m 22s\n",
                        "778:\tlearn: 0.1305088\ttest: 0.1537735\tbest: 0.1537735 (778)\ttotal: 8m 20s\tremaining: 2m 22s\n",
                        "779:\tlearn: 0.1305064\ttest: 0.1537712\tbest: 0.1537712 (779)\ttotal: 8m 20s\tremaining: 2m 21s\n",
                        "780:\tlearn: 0.1304691\ttest: 0.1537657\tbest: 0.1537657 (780)\ttotal: 8m 23s\tremaining: 2m 21s\n",
                        "781:\tlearn: 0.1304005\ttest: 0.1537931\tbest: 0.1537657 (780)\ttotal: 8m 23s\tremaining: 2m 20s\n",
                        "782:\tlearn: 0.1302583\ttest: 0.1537835\tbest: 0.1537657 (780)\ttotal: 8m 26s\tremaining: 2m 20s\n",
                        "783:\tlearn: 0.1302529\ttest: 0.1537808\tbest: 0.1537657 (780)\ttotal: 8m 26s\tremaining: 2m 19s\n",
                        "784:\tlearn: 0.1301475\ttest: 0.1537757\tbest: 0.1537657 (780)\ttotal: 8m 27s\tremaining: 2m 18s\n",
                        "785:\tlearn: 0.1300657\ttest: 0.1538093\tbest: 0.1537657 (780)\ttotal: 8m 30s\tremaining: 2m 18s\n",
                        "786:\tlearn: 0.1300093\ttest: 0.1538241\tbest: 0.1537657 (780)\ttotal: 8m 30s\tremaining: 2m 18s\n",
                        "787:\tlearn: 0.1299421\ttest: 0.1538213\tbest: 0.1537657 (780)\ttotal: 8m 31s\tremaining: 2m 17s\n",
                        "788:\tlearn: 0.1299265\ttest: 0.1538388\tbest: 0.1537657 (780)\ttotal: 8m 31s\tremaining: 2m 16s\n",
                        "789:\tlearn: 0.1298532\ttest: 0.1538443\tbest: 0.1537657 (780)\ttotal: 8m 34s\tremaining: 2m 16s\n",
                        "790:\tlearn: 0.1298304\ttest: 0.1538410\tbest: 0.1537657 (780)\ttotal: 8m 37s\tremaining: 2m 16s\n",
                        "791:\tlearn: 0.1297856\ttest: 0.1538402\tbest: 0.1537657 (780)\ttotal: 8m 38s\tremaining: 2m 16s\n",
                        "792:\tlearn: 0.1297815\ttest: 0.1538378\tbest: 0.1537657 (780)\ttotal: 8m 38s\tremaining: 2m 15s\n",
                        "793:\tlearn: 0.1297792\ttest: 0.1538365\tbest: 0.1537657 (780)\ttotal: 8m 38s\tremaining: 2m 14s\n",
                        "794:\tlearn: 0.1296316\ttest: 0.1538180\tbest: 0.1537657 (780)\ttotal: 8m 40s\tremaining: 2m 14s\n",
                        "795:\tlearn: 0.1295496\ttest: 0.1538377\tbest: 0.1537657 (780)\ttotal: 8m 41s\tremaining: 2m 13s\n",
                        "796:\tlearn: 0.1295472\ttest: 0.1538388\tbest: 0.1537657 (780)\ttotal: 8m 41s\tremaining: 2m 12s\n",
                        "797:\tlearn: 0.1294550\ttest: 0.1538086\tbest: 0.1537657 (780)\ttotal: 8m 44s\tremaining: 2m 12s\n",
                        "798:\tlearn: 0.1294158\ttest: 0.1537614\tbest: 0.1537614 (798)\ttotal: 8m 44s\tremaining: 2m 11s\n",
                        "799:\tlearn: 0.1294072\ttest: 0.1537610\tbest: 0.1537610 (799)\ttotal: 8m 44s\tremaining: 2m 11s\n",
                        "800:\tlearn: 0.1293229\ttest: 0.1537457\tbest: 0.1537457 (800)\ttotal: 8m 47s\tremaining: 2m 11s\n",
                        "801:\tlearn: 0.1292743\ttest: 0.1537616\tbest: 0.1537457 (800)\ttotal: 8m 51s\tremaining: 2m 11s\n",
                        "802:\tlearn: 0.1291908\ttest: 0.1537466\tbest: 0.1537457 (800)\ttotal: 8m 54s\tremaining: 2m 11s\n",
                        "803:\tlearn: 0.1290627\ttest: 0.1537416\tbest: 0.1537416 (803)\ttotal: 8m 57s\tremaining: 2m 11s\n",
                        "804:\tlearn: 0.1290577\ttest: 0.1537444\tbest: 0.1537416 (803)\ttotal: 8m 58s\tremaining: 2m 10s\n",
                        "805:\tlearn: 0.1290539\ttest: 0.1537433\tbest: 0.1537416 (803)\ttotal: 8m 58s\tremaining: 2m 9s\n",
                        "806:\tlearn: 0.1289533\ttest: 0.1537650\tbest: 0.1537416 (803)\ttotal: 9m 1s\tremaining: 2m 9s\n",
                        "807:\tlearn: 0.1289401\ttest: 0.1537619\tbest: 0.1537416 (803)\ttotal: 9m 1s\tremaining: 2m 8s\n",
                        "808:\tlearn: 0.1289393\ttest: 0.1537606\tbest: 0.1537416 (803)\ttotal: 9m 1s\tremaining: 2m 7s\n",
                        "809:\tlearn: 0.1289098\ttest: 0.1537648\tbest: 0.1537416 (803)\ttotal: 9m 2s\tremaining: 2m 7s\n",
                        "810:\tlearn: 0.1288950\ttest: 0.1537738\tbest: 0.1537416 (803)\ttotal: 9m 2s\tremaining: 2m 6s\n",
                        "811:\tlearn: 0.1288948\ttest: 0.1537730\tbest: 0.1537416 (803)\ttotal: 9m 2s\tremaining: 2m 5s\n",
                        "812:\tlearn: 0.1287991\ttest: 0.1538029\tbest: 0.1537416 (803)\ttotal: 9m 3s\tremaining: 2m 4s\n",
                        "813:\tlearn: 0.1287832\ttest: 0.1538085\tbest: 0.1537416 (803)\ttotal: 9m 3s\tremaining: 2m 4s\n",
                        "814:\tlearn: 0.1286760\ttest: 0.1538518\tbest: 0.1537416 (803)\ttotal: 9m 6s\tremaining: 2m 4s\n",
                        "815:\tlearn: 0.1285525\ttest: 0.1538402\tbest: 0.1537416 (803)\ttotal: 9m 9s\tremaining: 2m 3s\n",
                        "816:\tlearn: 0.1285160\ttest: 0.1538400\tbest: 0.1537416 (803)\ttotal: 9m 12s\tremaining: 2m 3s\n"
                    ]
                },
                {
                    "name": "stdout",
                    "output_type": "stream",
                    "text": [
                        "817:\tlearn: 0.1284582\ttest: 0.1538540\tbest: 0.1537416 (803)\ttotal: 9m 15s\tremaining: 2m 3s\n",
                        "818:\tlearn: 0.1283915\ttest: 0.1538592\tbest: 0.1537416 (803)\ttotal: 9m 17s\tremaining: 2m 3s\n",
                        "819:\tlearn: 0.1282762\ttest: 0.1538299\tbest: 0.1537416 (803)\ttotal: 9m 21s\tremaining: 2m 3s\n",
                        "820:\tlearn: 0.1282252\ttest: 0.1538308\tbest: 0.1537416 (803)\ttotal: 9m 23s\tremaining: 2m 2s\n",
                        "821:\tlearn: 0.1281739\ttest: 0.1538092\tbest: 0.1537416 (803)\ttotal: 9m 26s\tremaining: 2m 2s\n",
                        "822:\tlearn: 0.1281448\ttest: 0.1538158\tbest: 0.1537416 (803)\ttotal: 9m 26s\tremaining: 2m 1s\n",
                        "823:\tlearn: 0.1280310\ttest: 0.1538356\tbest: 0.1537416 (803)\ttotal: 9m 29s\tremaining: 2m 1s\n",
                        "824:\tlearn: 0.1279499\ttest: 0.1538160\tbest: 0.1537416 (803)\ttotal: 9m 32s\tremaining: 2m 1s\n",
                        "825:\tlearn: 0.1278271\ttest: 0.1537776\tbest: 0.1537416 (803)\ttotal: 9m 34s\tremaining: 2m 1s\n",
                        "826:\tlearn: 0.1277197\ttest: 0.1537569\tbest: 0.1537416 (803)\ttotal: 9m 36s\tremaining: 2m\n",
                        "827:\tlearn: 0.1277182\ttest: 0.1537567\tbest: 0.1537416 (803)\ttotal: 9m 36s\tremaining: 1m 59s\n",
                        "828:\tlearn: 0.1276715\ttest: 0.1537173\tbest: 0.1537173 (828)\ttotal: 9m 36s\tremaining: 1m 58s\n",
                        "829:\tlearn: 0.1276624\ttest: 0.1537174\tbest: 0.1537173 (828)\ttotal: 9m 36s\tremaining: 1m 58s\n",
                        "830:\tlearn: 0.1276373\ttest: 0.1537129\tbest: 0.1537129 (830)\ttotal: 9m 39s\tremaining: 1m 57s\n",
                        "831:\tlearn: 0.1275942\ttest: 0.1536876\tbest: 0.1536876 (831)\ttotal: 9m 40s\tremaining: 1m 57s\n",
                        "832:\tlearn: 0.1275887\ttest: 0.1536960\tbest: 0.1536876 (831)\ttotal: 9m 40s\tremaining: 1m 56s\n",
                        "833:\tlearn: 0.1274273\ttest: 0.1537110\tbest: 0.1536876 (831)\ttotal: 9m 43s\tremaining: 1m 56s\n",
                        "834:\tlearn: 0.1273742\ttest: 0.1537021\tbest: 0.1536876 (831)\ttotal: 9m 43s\tremaining: 1m 55s\n",
                        "835:\tlearn: 0.1273234\ttest: 0.1537108\tbest: 0.1536876 (831)\ttotal: 9m 46s\tremaining: 1m 55s\n",
                        "836:\tlearn: 0.1272609\ttest: 0.1537151\tbest: 0.1536876 (831)\ttotal: 9m 49s\tremaining: 1m 54s\n",
                        "837:\tlearn: 0.1272542\ttest: 0.1537146\tbest: 0.1536876 (831)\ttotal: 9m 49s\tremaining: 1m 53s\n",
                        "838:\tlearn: 0.1272457\ttest: 0.1537035\tbest: 0.1536876 (831)\ttotal: 9m 49s\tremaining: 1m 53s\n",
                        "839:\tlearn: 0.1272260\ttest: 0.1536998\tbest: 0.1536876 (831)\ttotal: 9m 49s\tremaining: 1m 52s\n",
                        "840:\tlearn: 0.1271766\ttest: 0.1536952\tbest: 0.1536876 (831)\ttotal: 9m 52s\tremaining: 1m 52s\n",
                        "841:\tlearn: 0.1271437\ttest: 0.1537281\tbest: 0.1536876 (831)\ttotal: 9m 53s\tremaining: 1m 51s\n",
                        "842:\tlearn: 0.1271155\ttest: 0.1537222\tbest: 0.1536876 (831)\ttotal: 9m 55s\tremaining: 1m 50s\n",
                        "843:\tlearn: 0.1270208\ttest: 0.1537303\tbest: 0.1536876 (831)\ttotal: 9m 57s\tremaining: 1m 50s\n",
                        "844:\tlearn: 0.1268911\ttest: 0.1537275\tbest: 0.1536876 (831)\ttotal: 10m 1s\tremaining: 1m 50s\n",
                        "845:\tlearn: 0.1268756\ttest: 0.1537345\tbest: 0.1536876 (831)\ttotal: 10m 1s\tremaining: 1m 49s\n",
                        "846:\tlearn: 0.1268406\ttest: 0.1537223\tbest: 0.1536876 (831)\ttotal: 10m 4s\tremaining: 1m 49s\n",
                        "847:\tlearn: 0.1267432\ttest: 0.1536997\tbest: 0.1536876 (831)\ttotal: 10m 7s\tremaining: 1m 48s\n",
                        "848:\tlearn: 0.1267068\ttest: 0.1536560\tbest: 0.1536560 (848)\ttotal: 10m 7s\tremaining: 1m 48s\n",
                        "849:\tlearn: 0.1267066\ttest: 0.1536551\tbest: 0.1536551 (849)\ttotal: 10m 7s\tremaining: 1m 47s\n",
                        "850:\tlearn: 0.1266502\ttest: 0.1536638\tbest: 0.1536551 (849)\ttotal: 10m 10s\tremaining: 1m 46s\n",
                        "851:\tlearn: 0.1266028\ttest: 0.1536846\tbest: 0.1536551 (849)\ttotal: 10m 10s\tremaining: 1m 46s\n",
                        "852:\tlearn: 0.1264677\ttest: 0.1536783\tbest: 0.1536551 (849)\ttotal: 10m 13s\tremaining: 1m 45s\n",
                        "853:\tlearn: 0.1264319\ttest: 0.1536677\tbest: 0.1536551 (849)\ttotal: 10m 14s\tremaining: 1m 44s\n",
                        "854:\tlearn: 0.1263815\ttest: 0.1536944\tbest: 0.1536551 (849)\ttotal: 10m 14s\tremaining: 1m 44s\n",
                        "855:\tlearn: 0.1262908\ttest: 0.1537006\tbest: 0.1536551 (849)\ttotal: 10m 18s\tremaining: 1m 43s\n",
                        "856:\tlearn: 0.1262733\ttest: 0.1536983\tbest: 0.1536551 (849)\ttotal: 10m 21s\tremaining: 1m 43s\n",
                        "857:\tlearn: 0.1262683\ttest: 0.1536980\tbest: 0.1536551 (849)\ttotal: 10m 21s\tremaining: 1m 42s\n",
                        "858:\tlearn: 0.1262604\ttest: 0.1536968\tbest: 0.1536551 (849)\ttotal: 10m 21s\tremaining: 1m 42s\n",
                        "859:\tlearn: 0.1262196\ttest: 0.1537200\tbest: 0.1536551 (849)\ttotal: 10m 22s\tremaining: 1m 41s\n",
                        "860:\tlearn: 0.1261989\ttest: 0.1537173\tbest: 0.1536551 (849)\ttotal: 10m 22s\tremaining: 1m 40s\n",
                        "861:\tlearn: 0.1259971\ttest: 0.1537059\tbest: 0.1536551 (849)\ttotal: 10m 25s\tremaining: 1m 40s\n",
                        "862:\tlearn: 0.1259745\ttest: 0.1537106\tbest: 0.1536551 (849)\ttotal: 10m 27s\tremaining: 1m 39s\n",
                        "863:\tlearn: 0.1258782\ttest: 0.1537234\tbest: 0.1536551 (849)\ttotal: 10m 29s\tremaining: 1m 39s\n",
                        "864:\tlearn: 0.1258284\ttest: 0.1537598\tbest: 0.1536551 (849)\ttotal: 10m 32s\tremaining: 1m 38s\n",
                        "865:\tlearn: 0.1258158\ttest: 0.1537799\tbest: 0.1536551 (849)\ttotal: 10m 32s\tremaining: 1m 37s\n",
                        "866:\tlearn: 0.1257393\ttest: 0.1537711\tbest: 0.1536551 (849)\ttotal: 10m 35s\tremaining: 1m 37s\n",
                        "867:\tlearn: 0.1256716\ttest: 0.1537598\tbest: 0.1536551 (849)\ttotal: 10m 37s\tremaining: 1m 36s\n",
                        "868:\tlearn: 0.1256360\ttest: 0.1537176\tbest: 0.1536551 (849)\ttotal: 10m 37s\tremaining: 1m 36s\n",
                        "869:\tlearn: 0.1256333\ttest: 0.1537198\tbest: 0.1536551 (849)\ttotal: 10m 37s\tremaining: 1m 35s\n",
                        "870:\tlearn: 0.1256305\ttest: 0.1537174\tbest: 0.1536551 (849)\ttotal: 10m 37s\tremaining: 1m 34s\n",
                        "871:\tlearn: 0.1255996\ttest: 0.1537236\tbest: 0.1536551 (849)\ttotal: 10m 40s\tremaining: 1m 33s\n",
                        "872:\tlearn: 0.1255238\ttest: 0.1537075\tbest: 0.1536551 (849)\ttotal: 10m 43s\tremaining: 1m 33s\n",
                        "873:\tlearn: 0.1255197\ttest: 0.1537160\tbest: 0.1536551 (849)\ttotal: 10m 43s\tremaining: 1m 32s\n",
                        "874:\tlearn: 0.1254858\ttest: 0.1537204\tbest: 0.1536551 (849)\ttotal: 10m 46s\tremaining: 1m 32s\n",
                        "875:\tlearn: 0.1254787\ttest: 0.1537341\tbest: 0.1536551 (849)\ttotal: 10m 46s\tremaining: 1m 31s\n",
                        "876:\tlearn: 0.1253968\ttest: 0.1537399\tbest: 0.1536551 (849)\ttotal: 10m 49s\tremaining: 1m 31s\n",
                        "877:\tlearn: 0.1253276\ttest: 0.1537421\tbest: 0.1536551 (849)\ttotal: 10m 52s\tremaining: 1m 30s\n",
                        "878:\tlearn: 0.1253078\ttest: 0.1537396\tbest: 0.1536551 (849)\ttotal: 10m 52s\tremaining: 1m 29s\n",
                        "879:\tlearn: 0.1251945\ttest: 0.1537263\tbest: 0.1536551 (849)\ttotal: 10m 55s\tremaining: 1m 29s\n",
                        "880:\tlearn: 0.1251775\ttest: 0.1537183\tbest: 0.1536551 (849)\ttotal: 10m 55s\tremaining: 1m 28s\n",
                        "881:\tlearn: 0.1250999\ttest: 0.1537033\tbest: 0.1536551 (849)\ttotal: 10m 58s\tremaining: 1m 28s\n",
                        "882:\tlearn: 0.1250016\ttest: 0.1537302\tbest: 0.1536551 (849)\ttotal: 11m 1s\tremaining: 1m 27s\n",
                        "883:\tlearn: 0.1248830\ttest: 0.1537135\tbest: 0.1536551 (849)\ttotal: 11m 3s\tremaining: 1m 27s\n",
                        "884:\tlearn: 0.1248717\ttest: 0.1537150\tbest: 0.1536551 (849)\ttotal: 11m 3s\tremaining: 1m 26s\n",
                        "885:\tlearn: 0.1247680\ttest: 0.1537422\tbest: 0.1536551 (849)\ttotal: 11m 7s\tremaining: 1m 25s\n",
                        "886:\tlearn: 0.1246973\ttest: 0.1537382\tbest: 0.1536551 (849)\ttotal: 11m 9s\tremaining: 1m 25s\n",
                        "887:\tlearn: 0.1246380\ttest: 0.1537508\tbest: 0.1536551 (849)\ttotal: 11m 11s\tremaining: 1m 24s\n",
                        "888:\tlearn: 0.1244746\ttest: 0.1537260\tbest: 0.1536551 (849)\ttotal: 11m 13s\tremaining: 1m 24s\n",
                        "889:\tlearn: 0.1243524\ttest: 0.1536999\tbest: 0.1536551 (849)\ttotal: 11m 16s\tremaining: 1m 23s\n",
                        "890:\tlearn: 0.1242843\ttest: 0.1537208\tbest: 0.1536551 (849)\ttotal: 11m 19s\tremaining: 1m 23s\n",
                        "891:\tlearn: 0.1241104\ttest: 0.1537156\tbest: 0.1536551 (849)\ttotal: 11m 22s\tremaining: 1m 22s\n",
                        "892:\tlearn: 0.1240541\ttest: 0.1537002\tbest: 0.1536551 (849)\ttotal: 11m 25s\tremaining: 1m 22s\n",
                        "893:\tlearn: 0.1239432\ttest: 0.1536832\tbest: 0.1536551 (849)\ttotal: 11m 29s\tremaining: 1m 21s\n",
                        "894:\tlearn: 0.1239373\ttest: 0.1536844\tbest: 0.1536551 (849)\ttotal: 11m 29s\tremaining: 1m 20s\n",
                        "895:\tlearn: 0.1239314\ttest: 0.1536844\tbest: 0.1536551 (849)\ttotal: 11m 29s\tremaining: 1m 20s\n",
                        "896:\tlearn: 0.1238264\ttest: 0.1536827\tbest: 0.1536551 (849)\ttotal: 11m 32s\tremaining: 1m 19s\n",
                        "897:\tlearn: 0.1237525\ttest: 0.1536955\tbest: 0.1536551 (849)\ttotal: 11m 35s\tremaining: 1m 19s\n",
                        "898:\tlearn: 0.1236930\ttest: 0.1536876\tbest: 0.1536551 (849)\ttotal: 11m 39s\tremaining: 1m 18s\n",
                        "899:\tlearn: 0.1236179\ttest: 0.1537227\tbest: 0.1536551 (849)\ttotal: 11m 41s\tremaining: 1m 17s\n",
                        "900:\tlearn: 0.1235189\ttest: 0.1537107\tbest: 0.1536551 (849)\ttotal: 11m 45s\tremaining: 1m 17s\n",
                        "901:\tlearn: 0.1233728\ttest: 0.1537102\tbest: 0.1536551 (849)\ttotal: 11m 47s\tremaining: 1m 16s\n",
                        "902:\tlearn: 0.1233096\ttest: 0.1537081\tbest: 0.1536551 (849)\ttotal: 11m 49s\tremaining: 1m 16s\n",
                        "903:\tlearn: 0.1232126\ttest: 0.1537112\tbest: 0.1536551 (849)\ttotal: 11m 52s\tremaining: 1m 15s\n",
                        "904:\tlearn: 0.1230994\ttest: 0.1537032\tbest: 0.1536551 (849)\ttotal: 11m 56s\tremaining: 1m 15s\n",
                        "905:\tlearn: 0.1230232\ttest: 0.1536894\tbest: 0.1536551 (849)\ttotal: 11m 58s\tremaining: 1m 14s\n"
                    ]
                },
                {
                    "name": "stdout",
                    "output_type": "stream",
                    "text": [
                        "906:\tlearn: 0.1229736\ttest: 0.1536933\tbest: 0.1536551 (849)\ttotal: 11m 58s\tremaining: 1m 13s\n",
                        "907:\tlearn: 0.1229423\ttest: 0.1537027\tbest: 0.1536551 (849)\ttotal: 11m 59s\tremaining: 1m 12s\n",
                        "908:\tlearn: 0.1227716\ttest: 0.1536827\tbest: 0.1536551 (849)\ttotal: 12m 2s\tremaining: 1m 12s\n",
                        "909:\tlearn: 0.1225520\ttest: 0.1536817\tbest: 0.1536551 (849)\ttotal: 12m 4s\tremaining: 1m 11s\n",
                        "910:\tlearn: 0.1224290\ttest: 0.1536943\tbest: 0.1536551 (849)\ttotal: 12m 7s\tremaining: 1m 11s\n",
                        "911:\tlearn: 0.1223590\ttest: 0.1536892\tbest: 0.1536551 (849)\ttotal: 12m 10s\tremaining: 1m 10s\n",
                        "912:\tlearn: 0.1222613\ttest: 0.1536831\tbest: 0.1536551 (849)\ttotal: 12m 13s\tremaining: 1m 9s\n",
                        "913:\tlearn: 0.1221591\ttest: 0.1536831\tbest: 0.1536551 (849)\ttotal: 12m 16s\tremaining: 1m 9s\n",
                        "914:\tlearn: 0.1221025\ttest: 0.1536944\tbest: 0.1536551 (849)\ttotal: 12m 19s\tremaining: 1m 8s\n",
                        "915:\tlearn: 0.1220523\ttest: 0.1536935\tbest: 0.1536551 (849)\ttotal: 12m 22s\tremaining: 1m 8s\n",
                        "916:\tlearn: 0.1219369\ttest: 0.1537065\tbest: 0.1536551 (849)\ttotal: 12m 25s\tremaining: 1m 7s\n",
                        "917:\tlearn: 0.1217661\ttest: 0.1536854\tbest: 0.1536551 (849)\ttotal: 12m 27s\tremaining: 1m 6s\n",
                        "918:\tlearn: 0.1216748\ttest: 0.1536930\tbest: 0.1536551 (849)\ttotal: 12m 30s\tremaining: 1m 6s\n",
                        "919:\tlearn: 0.1216036\ttest: 0.1536744\tbest: 0.1536551 (849)\ttotal: 12m 33s\tremaining: 1m 5s\n",
                        "920:\tlearn: 0.1215447\ttest: 0.1536742\tbest: 0.1536551 (849)\ttotal: 12m 36s\tremaining: 1m 4s\n",
                        "921:\tlearn: 0.1215378\ttest: 0.1536737\tbest: 0.1536551 (849)\ttotal: 12m 36s\tremaining: 1m 4s\n",
                        "922:\tlearn: 0.1214897\ttest: 0.1536757\tbest: 0.1536551 (849)\ttotal: 12m 39s\tremaining: 1m 3s\n",
                        "923:\tlearn: 0.1213730\ttest: 0.1536873\tbest: 0.1536551 (849)\ttotal: 12m 42s\tremaining: 1m 2s\n",
                        "924:\tlearn: 0.1213582\ttest: 0.1536906\tbest: 0.1536551 (849)\ttotal: 12m 42s\tremaining: 1m 1s\n",
                        "925:\tlearn: 0.1213327\ttest: 0.1536923\tbest: 0.1536551 (849)\ttotal: 12m 42s\tremaining: 1m\n",
                        "926:\tlearn: 0.1213053\ttest: 0.1536822\tbest: 0.1536551 (849)\ttotal: 12m 46s\tremaining: 1m\n",
                        "927:\tlearn: 0.1212711\ttest: 0.1537106\tbest: 0.1536551 (849)\ttotal: 12m 46s\tremaining: 59.5s\n",
                        "928:\tlearn: 0.1212619\ttest: 0.1537070\tbest: 0.1536551 (849)\ttotal: 12m 46s\tremaining: 58.6s\n",
                        "929:\tlearn: 0.1210554\ttest: 0.1537033\tbest: 0.1536551 (849)\ttotal: 12m 49s\tremaining: 57.9s\n",
                        "930:\tlearn: 0.1208838\ttest: 0.1537007\tbest: 0.1536551 (849)\ttotal: 12m 52s\tremaining: 57.2s\n",
                        "931:\tlearn: 0.1208640\ttest: 0.1536982\tbest: 0.1536551 (849)\ttotal: 12m 53s\tremaining: 56.4s\n",
                        "932:\tlearn: 0.1208053\ttest: 0.1536739\tbest: 0.1536551 (849)\ttotal: 12m 56s\tremaining: 55.7s\n",
                        "933:\tlearn: 0.1206784\ttest: 0.1536841\tbest: 0.1536551 (849)\ttotal: 12m 58s\tremaining: 55s\n",
                        "934:\tlearn: 0.1206706\ttest: 0.1536821\tbest: 0.1536551 (849)\ttotal: 12m 58s\tremaining: 54.1s\n",
                        "935:\tlearn: 0.1206046\ttest: 0.1536783\tbest: 0.1536551 (849)\ttotal: 12m 59s\tremaining: 53.3s\n",
                        "936:\tlearn: 0.1204214\ttest: 0.1536742\tbest: 0.1536551 (849)\ttotal: 13m 2s\tremaining: 52.6s\n",
                        "937:\tlearn: 0.1204124\ttest: 0.1536735\tbest: 0.1536551 (849)\ttotal: 13m 5s\tremaining: 52s\n",
                        "938:\tlearn: 0.1203699\ttest: 0.1536757\tbest: 0.1536551 (849)\ttotal: 13m 8s\tremaining: 51.2s\n",
                        "939:\tlearn: 0.1202969\ttest: 0.1536791\tbest: 0.1536551 (849)\ttotal: 13m 11s\tremaining: 50.5s\n",
                        "940:\tlearn: 0.1202254\ttest: 0.1536765\tbest: 0.1536551 (849)\ttotal: 13m 14s\tremaining: 49.8s\n",
                        "941:\tlearn: 0.1201819\ttest: 0.1537010\tbest: 0.1536551 (849)\ttotal: 13m 16s\tremaining: 49.1s\n",
                        "942:\tlearn: 0.1200276\ttest: 0.1537066\tbest: 0.1536551 (849)\ttotal: 13m 19s\tremaining: 48.3s\n",
                        "943:\tlearn: 0.1200026\ttest: 0.1537145\tbest: 0.1536551 (849)\ttotal: 13m 20s\tremaining: 47.5s\n",
                        "944:\tlearn: 0.1199300\ttest: 0.1537032\tbest: 0.1536551 (849)\ttotal: 13m 23s\tremaining: 46.7s\n",
                        "945:\tlearn: 0.1198104\ttest: 0.1536738\tbest: 0.1536551 (849)\ttotal: 13m 25s\tremaining: 46s\n",
                        "946:\tlearn: 0.1196670\ttest: 0.1536769\tbest: 0.1536551 (849)\ttotal: 13m 29s\tremaining: 45.3s\n",
                        "947:\tlearn: 0.1195340\ttest: 0.1536783\tbest: 0.1536551 (849)\ttotal: 13m 31s\tremaining: 44.5s\n",
                        "948:\tlearn: 0.1194803\ttest: 0.1536437\tbest: 0.1536437 (948)\ttotal: 13m 35s\tremaining: 43.8s\n",
                        "949:\tlearn: 0.1193612\ttest: 0.1536542\tbest: 0.1536437 (948)\ttotal: 13m 37s\tremaining: 43.1s\n",
                        "950:\tlearn: 0.1193011\ttest: 0.1536422\tbest: 0.1536422 (950)\ttotal: 13m 41s\tremaining: 42.3s\n",
                        "951:\tlearn: 0.1191730\ttest: 0.1536599\tbest: 0.1536422 (950)\ttotal: 13m 44s\tremaining: 41.6s\n",
                        "952:\tlearn: 0.1190809\ttest: 0.1536589\tbest: 0.1536422 (950)\ttotal: 13m 47s\tremaining: 40.8s\n",
                        "953:\tlearn: 0.1190531\ttest: 0.1536646\tbest: 0.1536422 (950)\ttotal: 13m 49s\tremaining: 40s\n",
                        "954:\tlearn: 0.1190067\ttest: 0.1536555\tbest: 0.1536422 (950)\ttotal: 13m 51s\tremaining: 39.2s\n",
                        "955:\tlearn: 0.1188644\ttest: 0.1536469\tbest: 0.1536422 (950)\ttotal: 13m 54s\tremaining: 38.4s\n",
                        "956:\tlearn: 0.1187039\ttest: 0.1536195\tbest: 0.1536195 (956)\ttotal: 13m 57s\tremaining: 37.6s\n",
                        "957:\tlearn: 0.1185982\ttest: 0.1535822\tbest: 0.1535822 (957)\ttotal: 14m\tremaining: 36.8s\n",
                        "958:\tlearn: 0.1184648\ttest: 0.1536235\tbest: 0.1535822 (957)\ttotal: 14m 3s\tremaining: 36.1s\n",
                        "959:\tlearn: 0.1183622\ttest: 0.1536287\tbest: 0.1535822 (957)\ttotal: 14m 6s\tremaining: 35.3s\n",
                        "960:\tlearn: 0.1182475\ttest: 0.1535953\tbest: 0.1535822 (957)\ttotal: 14m 9s\tremaining: 34.5s\n",
                        "961:\tlearn: 0.1180852\ttest: 0.1535712\tbest: 0.1535712 (961)\ttotal: 14m 13s\tremaining: 33.7s\n",
                        "962:\tlearn: 0.1179821\ttest: 0.1535531\tbest: 0.1535531 (962)\ttotal: 14m 16s\tremaining: 32.9s\n",
                        "963:\tlearn: 0.1179106\ttest: 0.1535597\tbest: 0.1535531 (962)\ttotal: 14m 18s\tremaining: 32.1s\n",
                        "964:\tlearn: 0.1178577\ttest: 0.1535427\tbest: 0.1535427 (964)\ttotal: 14m 22s\tremaining: 31.3s\n",
                        "965:\tlearn: 0.1177847\ttest: 0.1535538\tbest: 0.1535427 (964)\ttotal: 14m 25s\tremaining: 30.5s\n",
                        "966:\tlearn: 0.1177573\ttest: 0.1535196\tbest: 0.1535196 (966)\ttotal: 14m 25s\tremaining: 29.5s\n",
                        "967:\tlearn: 0.1176923\ttest: 0.1534718\tbest: 0.1534718 (967)\ttotal: 14m 28s\tremaining: 28.7s\n",
                        "968:\tlearn: 0.1175435\ttest: 0.1534540\tbest: 0.1534540 (968)\ttotal: 14m 31s\tremaining: 27.9s\n",
                        "969:\tlearn: 0.1173661\ttest: 0.1534101\tbest: 0.1534101 (969)\ttotal: 14m 34s\tremaining: 27s\n",
                        "970:\tlearn: 0.1173574\ttest: 0.1534003\tbest: 0.1534003 (970)\ttotal: 14m 34s\tremaining: 26.1s\n",
                        "971:\tlearn: 0.1173084\ttest: 0.1533950\tbest: 0.1533950 (971)\ttotal: 14m 37s\tremaining: 25.3s\n",
                        "972:\tlearn: 0.1172578\ttest: 0.1533913\tbest: 0.1533913 (972)\ttotal: 14m 40s\tremaining: 24.4s\n",
                        "973:\tlearn: 0.1172203\ttest: 0.1533960\tbest: 0.1533913 (972)\ttotal: 14m 43s\tremaining: 23.6s\n",
                        "974:\tlearn: 0.1171212\ttest: 0.1533734\tbest: 0.1533734 (974)\ttotal: 14m 46s\tremaining: 22.7s\n",
                        "975:\tlearn: 0.1170385\ttest: 0.1533476\tbest: 0.1533476 (975)\ttotal: 14m 48s\tremaining: 21.8s\n",
                        "976:\tlearn: 0.1169587\ttest: 0.1533115\tbest: 0.1533115 (976)\ttotal: 14m 51s\tremaining: 21s\n",
                        "977:\tlearn: 0.1169174\ttest: 0.1533056\tbest: 0.1533056 (977)\ttotal: 14m 54s\tremaining: 20.1s\n",
                        "978:\tlearn: 0.1168374\ttest: 0.1533429\tbest: 0.1533056 (977)\ttotal: 14m 57s\tremaining: 19.3s\n",
                        "979:\tlearn: 0.1166952\ttest: 0.1533717\tbest: 0.1533056 (977)\ttotal: 15m\tremaining: 18.4s\n",
                        "980:\tlearn: 0.1166203\ttest: 0.1533780\tbest: 0.1533056 (977)\ttotal: 15m 3s\tremaining: 17.5s\n",
                        "981:\tlearn: 0.1164116\ttest: 0.1533688\tbest: 0.1533056 (977)\ttotal: 15m 5s\tremaining: 16.6s\n",
                        "982:\tlearn: 0.1163590\ttest: 0.1533601\tbest: 0.1533056 (977)\ttotal: 15m 8s\tremaining: 15.7s\n",
                        "983:\tlearn: 0.1162936\ttest: 0.1533504\tbest: 0.1533056 (977)\ttotal: 15m 11s\tremaining: 14.8s\n",
                        "984:\tlearn: 0.1161653\ttest: 0.1533391\tbest: 0.1533056 (977)\ttotal: 15m 14s\tremaining: 13.9s\n",
                        "985:\tlearn: 0.1161328\ttest: 0.1533364\tbest: 0.1533056 (977)\ttotal: 15m 17s\tremaining: 13s\n",
                        "986:\tlearn: 0.1160693\ttest: 0.1533459\tbest: 0.1533056 (977)\ttotal: 15m 20s\tremaining: 12.1s\n",
                        "987:\tlearn: 0.1159499\ttest: 0.1533543\tbest: 0.1533056 (977)\ttotal: 15m 23s\tremaining: 11.2s\n",
                        "988:\tlearn: 0.1158548\ttest: 0.1533626\tbest: 0.1533056 (977)\ttotal: 15m 26s\tremaining: 10.3s\n",
                        "989:\tlearn: 0.1158011\ttest: 0.1533759\tbest: 0.1533056 (977)\ttotal: 15m 29s\tremaining: 9.39s\n",
                        "990:\tlearn: 0.1157582\ttest: 0.1533734\tbest: 0.1533056 (977)\ttotal: 15m 32s\tremaining: 8.47s\n",
                        "991:\tlearn: 0.1156320\ttest: 0.1533903\tbest: 0.1533056 (977)\ttotal: 15m 35s\tremaining: 7.54s\n",
                        "992:\tlearn: 0.1155852\ttest: 0.1533877\tbest: 0.1533056 (977)\ttotal: 15m 38s\tremaining: 6.61s\n",
                        "993:\tlearn: 0.1154667\ttest: 0.1533459\tbest: 0.1533056 (977)\ttotal: 15m 41s\tremaining: 5.68s\n",
                        "994:\tlearn: 0.1154376\ttest: 0.1533614\tbest: 0.1533056 (977)\ttotal: 15m 44s\tremaining: 4.75s\n",
                        "995:\tlearn: 0.1153142\ttest: 0.1533804\tbest: 0.1533056 (977)\ttotal: 15m 47s\tremaining: 3.81s\n"
                    ]
                },
                {
                    "name": "stdout",
                    "output_type": "stream",
                    "text": [
                        "996:\tlearn: 0.1152458\ttest: 0.1534024\tbest: 0.1533056 (977)\ttotal: 15m 50s\tremaining: 2.86s\n",
                        "997:\tlearn: 0.1151724\ttest: 0.1533871\tbest: 0.1533056 (977)\ttotal: 15m 53s\tremaining: 1.91s\n",
                        "998:\tlearn: 0.1150877\ttest: 0.1534009\tbest: 0.1533056 (977)\ttotal: 15m 56s\tremaining: 958ms\n",
                        "999:\tlearn: 0.1150566\ttest: 0.1534112\tbest: 0.1533056 (977)\ttotal: 15m 59s\tremaining: 0us\n",
                        "\n",
                        "bestTest = 0.1533056093\n",
                        "bestIteration = 977\n",
                        "\n"
                    ]
                },
                {
                    "data": {
                        "text/plain": [
                            "<catboost.core.CatBoostClassifier at 0x1419bcafba8>"
                        ]
                    },
                    "execution_count": 21,
                    "metadata": {},
                    "output_type": "execute_result"
                }
            ],
            "source": [
                "#importing library and building model\n",
                "from catboost import CatBoostClassifier\n",
                "model=CatBoostClassifier(iterations=1000, depth=13, learning_rate=0.01, loss_function='CrossEntropy',\\\n",
                "                         )\n",
                "model.fit(X_train, y_train,cat_features=categorical_features_indices,eval_set=(X_validation, y_validation))"
            ]
        },
        {
            "cell_type": "code",
            "execution_count": 22,
            "metadata": {
                "ExecuteTime": {
                    "end_time": "2018-03-18T17:38:32.804146Z",
                    "start_time": "2018-03-18T17:38:31.826368Z"
                }
            },
            "outputs": [],
            "source": [
                "test = pd.read_csv(f'{PATH}\\\\av_test_TQDFDgg.csv', low_memory=False, parse_dates=['incident_date'])"
            ]
        },
        {
            "cell_type": "code",
            "execution_count": 23,
            "metadata": {
                "ExecuteTime": {
                    "end_time": "2018-03-18T17:38:32.960376Z",
                    "start_time": "2018-03-18T17:38:32.804146Z"
                }
            },
            "outputs": [
                {
                    "data": {
                        "text/html": [
                            "<div>\n",
                            "<style>\n",
                            "    .dataframe thead tr:only-child th {\n",
                            "        text-align: right;\n",
                            "    }\n",
                            "\n",
                            "    .dataframe thead th {\n",
                            "        text-align: left;\n",
                            "    }\n",
                            "\n",
                            "    .dataframe tbody tr th {\n",
                            "        vertical-align: top;\n",
                            "    }\n",
                            "</style>\n",
                            "<table border=\"1\" class=\"dataframe\">\n",
                            "  <thead>\n",
                            "    <tr style=\"text-align: right;\">\n",
                            "      <th></th>\n",
                            "      <th>victim_id</th>\n",
                            "      <th>incident_time</th>\n",
                            "      <th>incident_date</th>\n",
                            "      <th>incident_location</th>\n",
                            "      <th>incident_tehsil</th>\n",
                            "      <th>cause_of_emergency</th>\n",
                            "      <th>base_to_scene_distance</th>\n",
                            "      <th>scene_to_hospital_distance</th>\n",
                            "      <th>roadway_feature</th>\n",
                            "      <th>road_type</th>\n",
                            "      <th>surrounding_area</th>\n",
                            "    </tr>\n",
                            "  </thead>\n",
                            "  <tbody>\n",
                            "    <tr>\n",
                            "      <th>0</th>\n",
                            "      <td>VIC20100001032706</td>\n",
                            "      <td>15:46:12</td>\n",
                            "      <td>2010-05-19</td>\n",
                            "      <td>Chc Sahaspur</td>\n",
                            "      <td>Sahaspur</td>\n",
                            "      <td>MVC - Pedestrian (Run Over/Hit &amp; Run)</td>\n",
                            "      <td>23</td>\n",
                            "      <td>27</td>\n",
                            "      <td>INT</td>\n",
                            "      <td>LOC</td>\n",
                            "      <td>MAR</td>\n",
                            "    </tr>\n",
                            "    <tr>\n",
                            "      <th>1</th>\n",
                            "      <td>VIC20120000441519</td>\n",
                            "      <td>16:55:28</td>\n",
                            "      <td>2012-03-18</td>\n",
                            "      <td>Doiwala Ambulance</td>\n",
                            "      <td>Doiwala</td>\n",
                            "      <td>Multiple Vehicular Incident</td>\n",
                            "      <td>5</td>\n",
                            "      <td>21</td>\n",
                            "      <td>CUR</td>\n",
                            "      <td>HIW</td>\n",
                            "      <td>AGL</td>\n",
                            "    </tr>\n",
                            "    <tr>\n",
                            "      <th>2</th>\n",
                            "      <td>VIC20130000014119</td>\n",
                            "      <td>18:49:35</td>\n",
                            "      <td>2013-04-01</td>\n",
                            "      <td>Race Course Chowk</td>\n",
                            "      <td>Raipur</td>\n",
                            "      <td>Multiple Vehicular Incident</td>\n",
                            "      <td>3</td>\n",
                            "      <td>1</td>\n",
                            "      <td>CUR</td>\n",
                            "      <td>HIW</td>\n",
                            "      <td>AGL</td>\n",
                            "    </tr>\n",
                            "  </tbody>\n",
                            "</table>\n",
                            "</div>"
                        ],
                        "text/plain": [
                            "           victim_id incident_time incident_date  incident_location  \\\n",
                            "0  VIC20100001032706      15:46:12    2010-05-19       Chc Sahaspur   \n",
                            "1  VIC20120000441519      16:55:28    2012-03-18  Doiwala Ambulance   \n",
                            "2  VIC20130000014119      18:49:35    2013-04-01  Race Course Chowk   \n",
                            "\n",
                            "  incident_tehsil                     cause_of_emergency  \\\n",
                            "0        Sahaspur  MVC - Pedestrian (Run Over/Hit & Run)   \n",
                            "1         Doiwala            Multiple Vehicular Incident   \n",
                            "2          Raipur            Multiple Vehicular Incident   \n",
                            "\n",
                            "   base_to_scene_distance  scene_to_hospital_distance roadway_feature  \\\n",
                            "0                      23                          27             INT   \n",
                            "1                       5                          21             CUR   \n",
                            "2                       3                           1             CUR   \n",
                            "\n",
                            "  road_type surrounding_area  \n",
                            "0       LOC              MAR  \n",
                            "1       HIW              AGL  \n",
                            "2       HIW              AGL  "
                        ]
                    },
                    "execution_count": 23,
                    "metadata": {},
                    "output_type": "execute_result"
                }
            ],
            "source": [
                "test.head(3)"
            ]
        },
        {
            "cell_type": "code",
            "execution_count": 28,
            "metadata": {
                "ExecuteTime": {
                    "end_time": "2018-03-18T17:38:34.150256Z",
                    "start_time": "2018-03-18T17:38:33.658652Z"
                }
            },
            "outputs": [],
            "source": [
                "prediction_proba = model.predict_proba(test)"
            ]
        },
        {
            "cell_type": "code",
            "execution_count": 29,
            "metadata": {
                "ExecuteTime": {
                    "end_time": "2018-03-18T17:38:35.170174Z",
                    "start_time": "2018-03-18T17:38:34.150256Z"
                },
                "scrolled": true
            },
            "outputs": [
                {
                    "data": {
                        "text/plain": [
                            "[0.0,\n",
                            " 1.1129709561865988,\n",
                            " 4.4016411556994965,\n",
                            " 6.1345647175531255,\n",
                            " 6.998560673937555,\n",
                            " 5.972310613916887,\n",
                            " 37.423568482713634,\n",
                            " 3.0380239859691693,\n",
                            " 1.622082743095675,\n",
                            " 3.1978542547884197,\n",
                            " 10.258152030191379,\n",
                            " 1.7966032786782968,\n",
                            " 2.3300737146483876,\n",
                            " 3.7255273601526704,\n",
                            " 3.442680584435092,\n",
                            " 3.327519385745386,\n",
                            " 0.8214413430669426,\n",
                            " 1.12442581884976,\n",
                            " 0.9372256309116047,\n",
                            " 0.9277285753608542,\n",
                            " 0.796284940893562,\n",
                            " 0.6107597532055076]"
                        ]
                    },
                    "execution_count": 29,
                    "metadata": {},
                    "output_type": "execute_result"
                }
            ],
            "source": [
                "model.get_feature_importance(X_train,y_train,cat_features=categorical_features_indices)"
            ]
        },
        {
            "cell_type": "code",
            "execution_count": 30,
            "metadata": {
                "ExecuteTime": {
                    "end_time": "2018-03-18T17:38:35.314439Z",
                    "start_time": "2018-03-18T17:38:35.170174Z"
                }
            },
            "outputs": [
                {
                    "data": {
                        "text/plain": [
                            "array([ 0.06831,  0.05915,  0.01654, ...,  0.03902,  0.0543 ,  0.04739])"
                        ]
                    },
                    "execution_count": 30,
                    "metadata": {},
                    "output_type": "execute_result"
                }
            ],
            "source": [
                "prediction_proba[:,1]"
            ]
        },
        {
            "cell_type": "code",
            "execution_count": 31,
            "metadata": {
                "ExecuteTime": {
                    "end_time": "2018-03-18T17:38:35.466778Z",
                    "start_time": "2018-03-18T17:38:35.314439Z"
                }
            },
            "outputs": [],
            "source": [
                "def make_submission(probs):\n",
                "    sample = pd.read_csv(f'{PATH}//av_sample_submission_n2Tyn0h.csv')\n",
                "    submit = sample.copy()\n",
                "    submit['criticality'] = probs\n",
                "    return submit"
            ]
        },
        {
            "cell_type": "code",
            "execution_count": 33,
            "metadata": {
                "ExecuteTime": {
                    "end_time": "2018-03-18T17:38:52.383180Z",
                    "start_time": "2018-03-18T17:38:51.975175Z"
                }
            },
            "outputs": [],
            "source": [
                "submit = make_submission(prediction_proba[:,1])"
            ]
        },
        {
            "cell_type": "code",
            "execution_count": 34,
            "metadata": {
                "ExecuteTime": {
                    "end_time": "2018-03-18T17:38:58.100529Z",
                    "start_time": "2018-03-18T17:38:57.870572Z"
                }
            },
            "outputs": [
                {
                    "data": {
                        "text/html": [
                            "<div>\n",
                            "<style>\n",
                            "    .dataframe thead tr:only-child th {\n",
                            "        text-align: right;\n",
                            "    }\n",
                            "\n",
                            "    .dataframe thead th {\n",
                            "        text-align: left;\n",
                            "    }\n",
                            "\n",
                            "    .dataframe tbody tr th {\n",
                            "        vertical-align: top;\n",
                            "    }\n",
                            "</style>\n",
                            "<table border=\"1\" class=\"dataframe\">\n",
                            "  <thead>\n",
                            "    <tr style=\"text-align: right;\">\n",
                            "      <th></th>\n",
                            "      <th>victim_id</th>\n",
                            "      <th>criticality</th>\n",
                            "    </tr>\n",
                            "  </thead>\n",
                            "  <tbody>\n",
                            "    <tr>\n",
                            "      <th>0</th>\n",
                            "      <td>VIC20100001032706</td>\n",
                            "      <td>0.068305</td>\n",
                            "    </tr>\n",
                            "    <tr>\n",
                            "      <th>1</th>\n",
                            "      <td>VIC20120000441519</td>\n",
                            "      <td>0.059148</td>\n",
                            "    </tr>\n",
                            "  </tbody>\n",
                            "</table>\n",
                            "</div>"
                        ],
                        "text/plain": [
                            "           victim_id  criticality\n",
                            "0  VIC20100001032706     0.068305\n",
                            "1  VIC20120000441519     0.059148"
                        ]
                    },
                    "execution_count": 34,
                    "metadata": {},
                    "output_type": "execute_result"
                }
            ],
            "source": [
                "submit.head(2)"
            ]
        },
        {
            "cell_type": "code",
            "execution_count": 35,
            "metadata": {
                "ExecuteTime": {
                    "end_time": "2018-03-18T17:38:59.826224Z",
                    "start_time": "2018-03-18T17:38:59.657418Z"
                }
            },
            "outputs": [],
            "source": [
                "submit.to_csv(PATH + 'av_cat_2.csv', index=False)"
            ]
        },
        {
            "cell_type": "code",
            "execution_count": 5,
            "metadata": {
                "ExecuteTime": {
                    "end_time": "2018-03-18T17:49:06.335301Z",
                    "start_time": "2018-03-18T17:49:05.945741Z"
                }
            },
            "outputs": [],
            "source": [
                "sub1 = pd.read_csv(PATH + 'av_cat_.csv')"
            ]
        },
        {
            "cell_type": "code",
            "execution_count": 6,
            "metadata": {
                "ExecuteTime": {
                    "end_time": "2018-03-18T17:49:17.721972Z",
                    "start_time": "2018-03-18T17:49:17.550569Z"
                }
            },
            "outputs": [],
            "source": [
                "sub2 = pd.read_csv(PATH + 'av_cat_2.csv')"
            ]
        },
        {
            "cell_type": "code",
            "execution_count": null,
            "metadata": {},
            "outputs": [],
            "source": [
                "sub3 = pd.read_csv(PATH)"
            ]
        },
        {
            "cell_type": "code",
            "execution_count": 7,
            "metadata": {
                "ExecuteTime": {
                    "end_time": "2018-03-18T17:49:22.998088Z",
                    "start_time": "2018-03-18T17:49:22.724489Z"
                }
            },
            "outputs": [
                {
                    "data": {
                        "text/html": [
                            "<div>\n",
                            "<style>\n",
                            "    .dataframe thead tr:only-child th {\n",
                            "        text-align: right;\n",
                            "    }\n",
                            "\n",
                            "    .dataframe thead th {\n",
                            "        text-align: left;\n",
                            "    }\n",
                            "\n",
                            "    .dataframe tbody tr th {\n",
                            "        vertical-align: top;\n",
                            "    }\n",
                            "</style>\n",
                            "<table border=\"1\" class=\"dataframe\">\n",
                            "  <thead>\n",
                            "    <tr style=\"text-align: right;\">\n",
                            "      <th></th>\n",
                            "      <th>victim_id</th>\n",
                            "      <th>criticality</th>\n",
                            "    </tr>\n",
                            "  </thead>\n",
                            "  <tbody>\n",
                            "    <tr>\n",
                            "      <th>0</th>\n",
                            "      <td>VIC20100001032706</td>\n",
                            "      <td>0.069681</td>\n",
                            "    </tr>\n",
                            "  </tbody>\n",
                            "</table>\n",
                            "</div>"
                        ],
                        "text/plain": [
                            "           victim_id  criticality\n",
                            "0  VIC20100001032706     0.069681"
                        ]
                    },
                    "execution_count": 7,
                    "metadata": {},
                    "output_type": "execute_result"
                }
            ],
            "source": [
                "sub1.head(1)"
            ]
        },
        {
            "cell_type": "code",
            "execution_count": 8,
            "metadata": {
                "ExecuteTime": {
                    "end_time": "2018-03-18T17:49:34.435593Z",
                    "start_time": "2018-03-18T17:49:34.243829Z"
                }
            },
            "outputs": [
                {
                    "data": {
                        "text/html": [
                            "<div>\n",
                            "<style>\n",
                            "    .dataframe thead tr:only-child th {\n",
                            "        text-align: right;\n",
                            "    }\n",
                            "\n",
                            "    .dataframe thead th {\n",
                            "        text-align: left;\n",
                            "    }\n",
                            "\n",
                            "    .dataframe tbody tr th {\n",
                            "        vertical-align: top;\n",
                            "    }\n",
                            "</style>\n",
                            "<table border=\"1\" class=\"dataframe\">\n",
                            "  <thead>\n",
                            "    <tr style=\"text-align: right;\">\n",
                            "      <th></th>\n",
                            "      <th>victim_id</th>\n",
                            "      <th>criticality</th>\n",
                            "    </tr>\n",
                            "  </thead>\n",
                            "  <tbody>\n",
                            "    <tr>\n",
                            "      <th>0</th>\n",
                            "      <td>VIC20100001032706</td>\n",
                            "      <td>0.068305</td>\n",
                            "    </tr>\n",
                            "    <tr>\n",
                            "      <th>1</th>\n",
                            "      <td>VIC20120000441519</td>\n",
                            "      <td>0.059148</td>\n",
                            "    </tr>\n",
                            "  </tbody>\n",
                            "</table>\n",
                            "</div>"
                        ],
                        "text/plain": [
                            "           victim_id  criticality\n",
                            "0  VIC20100001032706     0.068305\n",
                            "1  VIC20120000441519     0.059148"
                        ]
                    },
                    "execution_count": 8,
                    "metadata": {},
                    "output_type": "execute_result"
                }
            ],
            "source": [
                "sub2.head(2)"
            ]
        },
        {
            "cell_type": "code",
            "execution_count": 9,
            "metadata": {
                "ExecuteTime": {
                    "end_time": "2018-03-18T17:50:08.912784Z",
                    "start_time": "2018-03-18T17:50:08.728178Z"
                }
            },
            "outputs": [],
            "source": [
                "pred1 = sub1['criticality'];\n",
                "pred2 = sub2['criticality'];"
            ]
        },
        {
            "cell_type": "code",
            "execution_count": 11,
            "metadata": {
                "ExecuteTime": {
                    "end_time": "2018-03-18T17:50:52.705396Z",
                    "start_time": "2018-03-18T17:50:52.493301Z"
                }
            },
            "outputs": [],
            "source": [
                "pred3 = (.4*pred1 + .6*pred2)/2."
            ]
        },
        {
            "cell_type": "code",
            "execution_count": 12,
            "metadata": {
                "ExecuteTime": {
                    "end_time": "2018-03-18T17:51:09.743661Z",
                    "start_time": "2018-03-18T17:51:09.540212Z"
                }
            },
            "outputs": [],
            "source": [
                "sub1['criticality'] = pred3"
            ]
        },
        {
            "cell_type": "code",
            "execution_count": 13,
            "metadata": {
                "ExecuteTime": {
                    "end_time": "2018-03-18T17:51:33.067280Z",
                    "start_time": "2018-03-18T17:51:32.804454Z"
                }
            },
            "outputs": [],
            "source": [
                "sub1.to_csv(PATH + 'av_cat_1_2_.csv', index=False)"
            ]
        },
        {
            "cell_type": "markdown",
            "metadata": {
                "heading_collapsed": true
            },
            "source": [
                "### gridcv"
            ]
        },
        {
            "cell_type": "code",
            "execution_count": 204,
            "metadata": {
                "ExecuteTime": {
                    "end_time": "2018-03-18T08:38:41.096329Z",
                    "start_time": "2018-03-18T08:38:40.242693Z"
                },
                "hidden": true
            },
            "outputs": [
                {
                    "name": "stderr",
                    "output_type": "stream",
                    "text": [
                        "C:\\ProgramData\\Anaconda3\\lib\\site-packages\\sklearn\\cross_validation.py:41: DeprecationWarning: This module was deprecated in version 0.18 in favor of the model_selection module into which all the refactored classes and functions are moved. Also note that the interface of the new CV iterators are different from that of this module. This module will be removed in 0.20.\n",
                        "  \"This module will be removed in 0.20.\", DeprecationWarning)\n",
                        "C:\\ProgramData\\Anaconda3\\lib\\site-packages\\sklearn\\grid_search.py:42: DeprecationWarning: This module was deprecated in version 0.18 in favor of the model_selection module into which all the refactored classes and functions are moved. This module will be removed in 0.20.\n",
                        "  DeprecationWarning)\n"
                    ]
                }
            ],
            "source": [
                "from sklearn.ensemble import GradientBoostingClassifier  #GBM algorithm\n",
                "from sklearn import cross_validation, metrics   #Additional scklearn functions\n",
                "from sklearn.grid_search import GridSearchCV   #Perforing grid search"
            ]
        },
        {
            "cell_type": "code",
            "execution_count": 209,
            "metadata": {
                "ExecuteTime": {
                    "end_time": "2018-03-18T08:40:17.528168Z",
                    "start_time": "2018-03-18T08:40:17.297151Z"
                },
                "hidden": true
            },
            "outputs": [],
            "source": [
                "def modelfit(alg, dtrain, predictors, performCV=True, printFeatureImportance=True, cv_folds=5):\n",
                "    #Fit the algorithm on the data\n",
                "    alg.fit(dtrain[predictors], y)\n",
                "        \n",
                "    #Predict training set:\n",
                "    dtrain_predictions = alg.predict(dtrain[predictors])\n",
                "    dtrain_predprob = alg.predict_proba(dtrain[predictors])[:,1]\n",
                "    \n",
                "    #Perform cross-validation:\n",
                "    if performCV:\n",
                "        cv_score = cross_validation.cross_val_score(alg, dtrain[predictors], y, cv=cv_folds, scoring='roc_auc')\n",
                "    \n",
                "    #Print model report:\n",
                "    print (\"\\nModel Report\")\n",
                "    print (\"Accuracy : %.4g\" % metrics.accuracy_score(y , dtrain_predictions))\n",
                "    print (\"AUC Score (Train): %f\" % metrics.roc_auc_score(y , dtrain_predprob))\n",
                "    \n",
                "    if performCV:\n",
                "        print (\"CV Score : Mean - %.7g | Std - %.7g | Min - %.7g | Max - %.7g\" % (np.mean(cv_score),np.std(cv_score),np.min(cv_score),np.max(cv_score)))\n",
                "        \n",
                "    #Print Feature Importance:\n",
                "    if printFeatureImportance:\n",
                "        feat_imp = pd.Series(alg.feature_importances_, predictors).sort_values(ascending=False)\n",
                "        plt.figure(figsize=(20,20))\n",
                "        feat_imp.plot(kind='bar', title='Feature Importances')\n",
                "        plt.ylabel('Feature Importance Score')"
            ]
        },
        {
            "cell_type": "code",
            "execution_count": 210,
            "metadata": {
                "ExecuteTime": {
                    "end_time": "2018-03-18T08:40:27.070064Z",
                    "start_time": "2018-03-18T08:40:17.752605Z"
                },
                "collapsed": true,
                "hidden": true
            },
            "outputs": [
                {
                    "name": "stdout",
                    "output_type": "stream",
                    "text": [
                        "\n",
                        "Model Report\n",
                        "Accuracy : 0.9603\n",
                        "AUC Score (Train): 0.870501\n",
                        "CV Score : Mean - 0.7950892 | Std - 0.02467951 | Min - 0.7703814 | Max - 0.8424375\n"
                    ]
                },
                {
                    "data": {
                        "image/png": "[encoded data removed]",
                        "text/plain": [
                            "<matplotlib.figure.Figure at 0x17bc10fc358>"
                        ]
                    },
                    "metadata": {},
                    "output_type": "display_data"
                }
            ],
            "source": [
                "#Choose all predictors except target & IDcols\n",
                "predictors = df.columns\n",
                "gbm0 = GradientBoostingClassifier(random_state=10)\n",
                "modelfit(gbm0, df, predictors)"
            ]
        },
        {
            "cell_type": "code",
            "execution_count": 212,
            "metadata": {
                "ExecuteTime": {
                    "end_time": "2018-03-18T08:40:57.299564Z",
                    "start_time": "2018-03-18T08:40:41.982474Z"
                },
                "collapsed": true,
                "hidden": true
            },
            "outputs": [
                {
                    "data": {
                        "text/plain": [
                            "GridSearchCV(cv=5, error_score='raise',\n",
                            "       estimator=GradientBoostingClassifier(criterion='friedman_mse', init=None,\n",
                            "              learning_rate=0.05, loss='deviance', max_depth=8,\n",
                            "              max_features='sqrt', max_leaf_nodes=None,\n",
                            "              min_impurity_decrease=0.0, min_impurity_split=None,\n",
                            "              min_samples_leaf=50, min_samples_split=500,\n",
                            "              min_weight_fraction_leaf=0.0, n_estimators=100,\n",
                            "              presort='auto', random_state=10, subsample=0.8, verbose=0,\n",
                            "              warm_start=False),\n",
                            "       fit_params={}, iid=False, n_jobs=4,\n",
                            "       param_grid={'n_estimators': [20, 30, 40, 50, 60, 70, 80, 90]},\n",
                            "       pre_dispatch='2*n_jobs', refit=True, scoring='roc_auc', verbose=0)"
                        ]
                    },
                    "execution_count": 212,
                    "metadata": {},
                    "output_type": "execute_result"
                }
            ],
            "source": [
                "param_test1 = {'n_estimators':[20, 30, 40, 50, 60, 70, 80, 90]}\n",
                "gsearch1 = GridSearchCV(estimator = GradientBoostingClassifier(learning_rate=0.05, min_samples_split=500,\n",
                "                        min_samples_leaf=50,max_depth=8,max_features='sqrt',subsample=0.8,random_state=10), \n",
                "                        param_grid = param_test1, scoring='roc_auc',n_jobs=4,iid=False, cv=5)\n",
                "gsearch1.fit(df[predictors], y)"
            ]
        },
        {
            "cell_type": "code",
            "execution_count": 213,
            "metadata": {
                "ExecuteTime": {
                    "end_time": "2018-03-18T08:40:57.479566Z",
                    "start_time": "2018-03-18T08:40:57.303565Z"
                },
                "hidden": true
            },
            "outputs": [
                {
                    "data": {
                        "text/plain": [
                            "([mean: 0.76812, std: 0.02706, params: {'n_estimators': 20},\n",
                            "  mean: 0.77004, std: 0.02740, params: {'n_estimators': 30},\n",
                            "  mean: 0.77381, std: 0.02709, params: {'n_estimators': 40},\n",
                            "  mean: 0.77702, std: 0.02671, params: {'n_estimators': 50},\n",
                            "  mean: 0.78037, std: 0.02678, params: {'n_estimators': 60},\n",
                            "  mean: 0.78425, std: 0.02559, params: {'n_estimators': 70},\n",
                            "  mean: 0.78591, std: 0.02616, params: {'n_estimators': 80},\n",
                            "  mean: 0.78726, std: 0.02711, params: {'n_estimators': 90}],\n",
                            " {'n_estimators': 90},\n",
                            " 0.7872580277711331)"
                        ]
                    },
                    "execution_count": 213,
                    "metadata": {},
                    "output_type": "execute_result"
                }
            ],
            "source": [
                "gsearch1.grid_scores_, gsearch1.best_params_, gsearch1.best_score_"
            ]
        },
        {
            "cell_type": "code",
            "execution_count": 215,
            "metadata": {
                "ExecuteTime": {
                    "end_time": "2018-03-18T08:41:27.560711Z",
                    "start_time": "2018-03-18T08:41:27.321368Z"
                },
                "hidden": true
            },
            "outputs": [],
            "source": [
                "## Test 2\n",
                "param_test2 = {'max_depth':[5, 7, 9, 11, 13, 15] ,'min_samples_split': [200, 400, 600, 800, 1000]}\n",
                "gsearch2 = GridSearchCV(estimator = GradientBoostingClassifier(learning_rate=0.05, n_estimators=90, max_features='sqrt', subsample=0.8, random_state=10), \n",
                "param_grid = param_test2, scoring='roc_auc',n_jobs=4,iid=False, cv=5)"
            ]
        },
        {
            "cell_type": "code",
            "execution_count": 216,
            "metadata": {
                "ExecuteTime": {
                    "end_time": "2018-03-18T08:42:47.064337Z",
                    "start_time": "2018-03-18T08:41:40.089129Z"
                },
                "hidden": true
            },
            "outputs": [
                {
                    "data": {
                        "text/plain": [
                            "([mean: 0.78051, std: 0.02758, params: {'max_depth': 5, 'min_samples_split': 200},\n",
                            "  mean: 0.78206, std: 0.02766, params: {'max_depth': 5, 'min_samples_split': 400},\n",
                            "  mean: 0.78349, std: 0.02935, params: {'max_depth': 5, 'min_samples_split': 600},\n",
                            "  mean: 0.78399, std: 0.03035, params: {'max_depth': 5, 'min_samples_split': 800},\n",
                            "  mean: 0.78113, std: 0.02870, params: {'max_depth': 5, 'min_samples_split': 1000},\n",
                            "  mean: 0.78132, std: 0.03128, params: {'max_depth': 7, 'min_samples_split': 200},\n",
                            "  mean: 0.78252, std: 0.02891, params: {'max_depth': 7, 'min_samples_split': 400},\n",
                            "  mean: 0.78477, std: 0.02503, params: {'max_depth': 7, 'min_samples_split': 600},\n",
                            "  mean: 0.78607, std: 0.02890, params: {'max_depth': 7, 'min_samples_split': 800},\n",
                            "  mean: 0.78567, std: 0.02563, params: {'max_depth': 7, 'min_samples_split': 1000},\n",
                            "  mean: 0.78175, std: 0.03052, params: {'max_depth': 9, 'min_samples_split': 200},\n",
                            "  mean: 0.78102, std: 0.02997, params: {'max_depth': 9, 'min_samples_split': 400},\n",
                            "  mean: 0.77856, std: 0.02791, params: {'max_depth': 9, 'min_samples_split': 600},\n",
                            "  mean: 0.78273, std: 0.02939, params: {'max_depth': 9, 'min_samples_split': 800},\n",
                            "  mean: 0.78581, std: 0.02958, params: {'max_depth': 9, 'min_samples_split': 1000},\n",
                            "  mean: 0.77360, std: 0.02857, params: {'max_depth': 11, 'min_samples_split': 200},\n",
                            "  mean: 0.77661, std: 0.02433, params: {'max_depth': 11, 'min_samples_split': 400},\n",
                            "  mean: 0.78004, std: 0.02795, params: {'max_depth': 11, 'min_samples_split': 600},\n",
                            "  mean: 0.77862, std: 0.02773, params: {'max_depth': 11, 'min_samples_split': 800},\n",
                            "  mean: 0.78378, std: 0.02755, params: {'max_depth': 11, 'min_samples_split': 1000},\n",
                            "  mean: 0.77162, std: 0.02400, params: {'max_depth': 13, 'min_samples_split': 200},\n",
                            "  mean: 0.77339, std: 0.02792, params: {'max_depth': 13, 'min_samples_split': 400},\n",
                            "  mean: 0.78074, std: 0.02463, params: {'max_depth': 13, 'min_samples_split': 600},\n",
                            "  mean: 0.77830, std: 0.02768, params: {'max_depth': 13, 'min_samples_split': 800},\n",
                            "  mean: 0.78393, std: 0.02380, params: {'max_depth': 13, 'min_samples_split': 1000},\n",
                            "  mean: 0.77288, std: 0.02501, params: {'max_depth': 15, 'min_samples_split': 200},\n",
                            "  mean: 0.77532, std: 0.02042, params: {'max_depth': 15, 'min_samples_split': 400},\n",
                            "  mean: 0.77981, std: 0.02797, params: {'max_depth': 15, 'min_samples_split': 600},\n",
                            "  mean: 0.78247, std: 0.02535, params: {'max_depth': 15, 'min_samples_split': 800},\n",
                            "  mean: 0.78440, std: 0.02115, params: {'max_depth': 15, 'min_samples_split': 1000}],\n",
                            " {'max_depth': 7, 'min_samples_split': 800},\n",
                            " 0.7860716441858158)"
                        ]
                    },
                    "execution_count": 216,
                    "metadata": {},
                    "output_type": "execute_result"
                }
            ],
            "source": [
                "gsearch2.fit(df[predictors], y)\n",
                "gsearch2.grid_scores_, gsearch2.best_params_, gsearch2.best_score_"
            ]
        },
        {
            "cell_type": "code",
            "execution_count": 217,
            "metadata": {
                "ExecuteTime": {
                    "end_time": "2018-03-18T08:44:57.957349Z",
                    "start_time": "2018-03-18T08:44:57.739068Z"
                },
                "hidden": true
            },
            "outputs": [],
            "source": [
                "#test 3\n",
                "param_test3 = {'min_samples_split': [800, 1000, 1200, 1400, 1600] , 'min_samples_leaf': [30, 40, 50, 60, 70]}\n",
                "gsearch3 = GridSearchCV(estimator = GradientBoostingClassifier(learning_rate=0.05, n_estimators=90,\\\n",
                "                                    max_depth=7,max_features='sqrt', subsample=0.8, random_state=10), \n",
                "param_grid = param_test3, scoring='roc_auc',n_jobs=4,iid=False, cv=5)"
            ]
        },
        {
            "cell_type": "code",
            "execution_count": null,
            "metadata": {
                "ExecuteTime": {
                    "end_time": "2018-03-18T08:45:49.590098Z",
                    "start_time": "2018-03-18T08:45:09.392694Z"
                },
                "hidden": true
            },
            "outputs": [],
            "source": [
                "gsearch3.fit(df[predictors], y)"
            ]
        },
        {
            "cell_type": "code",
            "execution_count": 222,
            "metadata": {
                "ExecuteTime": {
                    "end_time": "2018-03-18T08:46:56.832510Z",
                    "start_time": "2018-03-18T08:46:56.608926Z"
                },
                "hidden": true
            },
            "outputs": [
                {
                    "data": {
                        "text/plain": [
                            "([mean: 0.78660, std: 0.02750, params: {'min_samples_leaf': 30, 'min_samples_split': 800},\n",
                            "  mean: 0.78640, std: 0.02748, params: {'min_samples_leaf': 30, 'min_samples_split': 1000},\n",
                            "  mean: 0.78510, std: 0.02794, params: {'min_samples_leaf': 30, 'min_samples_split': 1200},\n",
                            "  mean: 0.78463, std: 0.02771, params: {'min_samples_leaf': 30, 'min_samples_split': 1400},\n",
                            "  mean: 0.78187, std: 0.02797, params: {'min_samples_leaf': 30, 'min_samples_split': 1600},\n",
                            "  mean: 0.78615, std: 0.03011, params: {'min_samples_leaf': 40, 'min_samples_split': 800},\n",
                            "  mean: 0.78732, std: 0.02671, params: {'min_samples_leaf': 40, 'min_samples_split': 1000},\n",
                            "  mean: 0.78704, std: 0.02895, params: {'min_samples_leaf': 40, 'min_samples_split': 1200},\n",
                            "  mean: 0.78528, std: 0.02780, params: {'min_samples_leaf': 40, 'min_samples_split': 1400},\n",
                            "  mean: 0.78355, std: 0.02818, params: {'min_samples_leaf': 40, 'min_samples_split': 1600},\n",
                            "  mean: 0.78623, std: 0.02916, params: {'min_samples_leaf': 50, 'min_samples_split': 800},\n",
                            "  mean: 0.78951, std: 0.02649, params: {'min_samples_leaf': 50, 'min_samples_split': 1000},\n",
                            "  mean: 0.78605, std: 0.02696, params: {'min_samples_leaf': 50, 'min_samples_split': 1200},\n",
                            "  mean: 0.78511, std: 0.02805, params: {'min_samples_leaf': 50, 'min_samples_split': 1400},\n",
                            "  mean: 0.78514, std: 0.02908, params: {'min_samples_leaf': 50, 'min_samples_split': 1600},\n",
                            "  mean: 0.78508, std: 0.02920, params: {'min_samples_leaf': 60, 'min_samples_split': 800},\n",
                            "  mean: 0.78711, std: 0.02683, params: {'min_samples_leaf': 60, 'min_samples_split': 1000},\n",
                            "  mean: 0.78524, std: 0.02867, params: {'min_samples_leaf': 60, 'min_samples_split': 1200},\n",
                            "  mean: 0.78563, std: 0.02896, params: {'min_samples_leaf': 60, 'min_samples_split': 1400},\n",
                            "  mean: 0.78372, std: 0.03005, params: {'min_samples_leaf': 60, 'min_samples_split': 1600},\n",
                            "  mean: 0.78497, std: 0.02866, params: {'min_samples_leaf': 70, 'min_samples_split': 800},\n",
                            "  mean: 0.78627, std: 0.02649, params: {'min_samples_leaf': 70, 'min_samples_split': 1000},\n",
                            "  mean: 0.78524, std: 0.02805, params: {'min_samples_leaf': 70, 'min_samples_split': 1200},\n",
                            "  mean: 0.78399, std: 0.02894, params: {'min_samples_leaf': 70, 'min_samples_split': 1400},\n",
                            "  mean: 0.78280, std: 0.02959, params: {'min_samples_leaf': 70, 'min_samples_split': 1600}],\n",
                            " {'min_samples_leaf': 50, 'min_samples_split': 1000},\n",
                            " 0.7895124836661931)"
                        ]
                    },
                    "execution_count": 222,
                    "metadata": {},
                    "output_type": "execute_result"
                }
            ],
            "source": [
                "gsearch3.grid_scores_, gsearch3.best_params_, gsearch3.best_score_"
            ]
        },
        {
            "cell_type": "code",
            "execution_count": 221,
            "metadata": {
                "ExecuteTime": {
                    "end_time": "2018-03-18T08:46:00.461487Z",
                    "start_time": "2018-03-18T08:45:55.406169Z"
                },
                "collapsed": true,
                "hidden": true
            },
            "outputs": [
                {
                    "name": "stdout",
                    "output_type": "stream",
                    "text": [
                        "\n",
                        "Model Report\n",
                        "Accuracy : 0.9557\n",
                        "AUC Score (Train): 0.857750\n",
                        "CV Score : Mean - 0.7895125 | Std - 0.02649423 | Min - 0.768983 | Max - 0.8403744\n"
                    ]
                },
                {
                    "data": {
                        "image/png": "[encoded data removed]",
                        "text/plain": [
                            "<matplotlib.figure.Figure at 0x17bc0f2f2e8>"
                        ]
                    },
                    "metadata": {},
                    "output_type": "display_data"
                }
            ],
            "source": [
                "modelfit(gsearch3.best_estimator_, df, predictors)"
            ]
        },
        {
            "cell_type": "code",
            "execution_count": 223,
            "metadata": {
                "ExecuteTime": {
                    "end_time": "2018-03-18T08:47:26.843053Z",
                    "start_time": "2018-03-18T08:47:26.587397Z"
                },
                "hidden": true
            },
            "outputs": [],
            "source": [
                "#test 4\n",
                "param_test4 = {'max_features': [7, 9, 11, 13, 15, 17, 19, 21]}\n",
                "gsearch4 = GridSearchCV(estimator = GradientBoostingClassifier(learning_rate=0.05, min_samples_split = 1000, n_estimators=70,max_depth=7,\\\n",
                "                                                               max_features='sqrt', subsample=0.8, random_state=10,min_samples_leaf = 50), \n",
                "param_grid = param_test4, scoring='roc_auc',n_jobs=4,iid=False, cv=5)"
            ]
        },
        {
            "cell_type": "code",
            "execution_count": 224,
            "metadata": {
                "ExecuteTime": {
                    "end_time": "2018-03-18T08:47:48.991631Z",
                    "start_time": "2018-03-18T08:47:30.337512Z"
                },
                "hidden": true
            },
            "outputs": [
                {
                    "data": {
                        "text/plain": [
                            "([mean: 0.78744, std: 0.02699, params: {'max_features': 7},\n",
                            "  mean: 0.78831, std: 0.02603, params: {'max_features': 9},\n",
                            "  mean: 0.78990, std: 0.02486, params: {'max_features': 11},\n",
                            "  mean: 0.79034, std: 0.02486, params: {'max_features': 13},\n",
                            "  mean: 0.79478, std: 0.02473, params: {'max_features': 15},\n",
                            "  mean: 0.79731, std: 0.02469, params: {'max_features': 17},\n",
                            "  mean: 0.79403, std: 0.02776, params: {'max_features': 19},\n",
                            "  mean: 0.79541, std: 0.02483, params: {'max_features': 21}],\n",
                            " {'max_features': 17},\n",
                            " 0.7973140508980135)"
                        ]
                    },
                    "execution_count": 224,
                    "metadata": {},
                    "output_type": "execute_result"
                }
            ],
            "source": [
                "gsearch4.fit(df[predictors], y )\n",
                "gsearch4.grid_scores_, gsearch4.best_params_, gsearch4.best_score_"
            ]
        },
        {
            "cell_type": "code",
            "execution_count": 227,
            "metadata": {
                "ExecuteTime": {
                    "end_time": "2018-03-18T08:48:54.950370Z",
                    "start_time": "2018-03-18T08:48:54.746615Z"
                },
                "hidden": true
            },
            "outputs": [],
            "source": [
                "#test 5\n",
                "param_test5 = {'subsample':[0.6,0.7,0.75,0.8,0.85,0.9]}\n",
                "gsearch5 = GridSearchCV(estimator = GradientBoostingClassifier(learning_rate=0.05, min_samples_split = 1000, n_estimators=70,max_depth=7,\\\n",
                "                                                            subsample=0.8, \\\n",
                "                                                               random_state=10,min_samples_leaf = 50,max_features=17), \n",
                "param_grid = param_test5, scoring='roc_auc',n_jobs=4,iid=False, cv=5)"
            ]
        },
        {
            "cell_type": "code",
            "execution_count": 228,
            "metadata": {
                "ExecuteTime": {
                    "end_time": "2018-03-18T08:49:25.010034Z",
                    "start_time": "2018-03-18T08:49:08.232310Z"
                },
                "hidden": true
            },
            "outputs": [
                {
                    "data": {
                        "text/plain": [
                            "([mean: 0.79196, std: 0.02388, params: {'subsample': 0.6},\n",
                            "  mean: 0.79809, std: 0.02678, params: {'subsample': 0.7},\n",
                            "  mean: 0.79499, std: 0.02698, params: {'subsample': 0.75},\n",
                            "  mean: 0.79731, std: 0.02469, params: {'subsample': 0.8},\n",
                            "  mean: 0.79579, std: 0.02545, params: {'subsample': 0.85},\n",
                            "  mean: 0.79430, std: 0.02638, params: {'subsample': 0.9}],\n",
                            " {'subsample': 0.7},\n",
                            " 0.7980930249966234)"
                        ]
                    },
                    "execution_count": 228,
                    "metadata": {},
                    "output_type": "execute_result"
                }
            ],
            "source": [
                "gsearch5.fit(df[predictors], y )\n",
                "gsearch5.grid_scores_, gsearch5.best_params_, gsearch5.best_score_"
            ]
        },
        {
            "cell_type": "code",
            "execution_count": 232,
            "metadata": {
                "ExecuteTime": {
                    "end_time": "2018-03-18T09:07:23.010329Z",
                    "start_time": "2018-03-18T09:06:35.332375Z"
                },
                "hidden": true
            },
            "outputs": [
                {
                    "name": "stdout",
                    "output_type": "stream",
                    "text": [
                        "\n",
                        "Model Report\n",
                        "Accuracy : 0.9666\n",
                        "AUC Score (Train): 0.982117\n",
                        "CV Score : Mean - 0.7730332 | Std - 0.02045937 | Min - 0.7509213 | Max - 0.8020239\n"
                    ]
                },
                {
                    "data": {
                        "image/png": "[encoded data removed]",
                        "text/plain": [
                            "<matplotlib.figure.Figure at 0x17bc05fd2e8>"
                        ]
                    },
                    "metadata": {},
                    "output_type": "display_data"
                }
            ],
            "source": [
                "gbm_tuned_2 = GradientBoostingClassifier(learning_rate=0.05, min_samples_split = 1000, n_estimators=500,max_depth=10,\\\n",
                "                                        subsample=0.8, random_state=10,min_samples_leaf = 50,max_features=17)\n",
                "modelfit(gbm_tuned_2, df, predictors)"
            ]
        },
        {
            "cell_type": "code",
            "execution_count": 235,
            "metadata": {
                "ExecuteTime": {
                    "end_time": "2018-03-18T09:08:38.121312Z",
                    "start_time": "2018-03-18T09:08:37.904679Z"
                },
                "hidden": true
            },
            "outputs": [
                {
                    "name": "stdout",
                    "output_type": "stream",
                    "text": [
                        "<class 'pandas.core.frame.DataFrame'>\n",
                        "RangeIndex: 5048 entries, 0 to 5047\n",
                        "Data columns (total 22 columns):\n",
                        "victim_id                     5048 non-null category\n",
                        "incident_time                 5048 non-null category\n",
                        "incident_location             5048 non-null category\n",
                        "incident_tehsil               5048 non-null category\n",
                        "cause_of_emergency            5048 non-null category\n",
                        "base_to_scene_distance        5048 non-null int64\n",
                        "scene_to_hospital_distance    5048 non-null int64\n",
                        "roadway_feature               5048 non-null category\n",
                        "road_type                     5048 non-null category\n",
                        "surrounding_area              5048 non-null category\n",
                        "incident_Year                 5048 non-null int64\n",
                        "incident_Month                5048 non-null int64\n",
                        "incident_Week                 5048 non-null int64\n",
                        "incident_Day                  5048 non-null int64\n",
                        "incident_Dayofweek            5048 non-null int64\n",
                        "incident_Dayofyear            5048 non-null int64\n",
                        "incident_Is_month_end         5048 non-null bool\n",
                        "incident_Is_month_start       5048 non-null bool\n",
                        "incident_Is_quarter_end       5048 non-null bool\n",
                        "incident_Is_quarter_start     5048 non-null bool\n",
                        "incident_Is_year_end          5048 non-null bool\n",
                        "incident_Is_year_start        5048 non-null bool\n",
                        "dtypes: bool(6), category(8), int64(8)\n",
                        "memory usage: 899.9 KB\n"
                    ]
                }
            ],
            "source": [
                "test.info()"
            ]
        },
        {
            "cell_type": "code",
            "execution_count": 233,
            "metadata": {
                "ExecuteTime": {
                    "end_time": "2018-03-18T09:07:23.201960Z",
                    "start_time": "2018-03-18T09:07:23.010329Z"
                },
                "hidden": true
            },
            "outputs": [
                {
                    "ename": "ValueError",
                    "evalue": "could not convert string to float: 'AGL'",
                    "output_type": "error",
                    "traceback": [
                        "\u001b[1;31m---------------------------------------------------------------------------\u001b[0m",
                        "\u001b[1;31mValueError\u001b[0m                                Traceback (most recent call last)",
                        "\u001b[1;32m<ipython-input-233-5e1979a5407b>\u001b[0m in \u001b[0;36m<module>\u001b[1;34m()\u001b[0m\n\u001b[1;32m----> 1\u001b[1;33m \u001b[0mprediction_proba_2\u001b[0m \u001b[1;33m=\u001b[0m \u001b[0mgbm_tuned_2\u001b[0m\u001b[1;33m.\u001b[0m\u001b[0mpredict_proba\u001b[0m\u001b[1;33m(\u001b[0m\u001b[0mtest\u001b[0m\u001b[1;33m)\u001b[0m\u001b[1;33m\u001b[0m\u001b[0m\n\u001b[0m",
                        "\u001b[1;32mC:\\ProgramData\\Anaconda3\\lib\\site-packages\\sklearn\\ensemble\\gradient_boosting.py\u001b[0m in \u001b[0;36mpredict_proba\u001b[1;34m(self, X)\u001b[0m\n\u001b[0;32m   1577\u001b[0m             \u001b[0mclasses\u001b[0m \u001b[0mcorresponds\u001b[0m \u001b[0mto\u001b[0m \u001b[0mthat\u001b[0m \u001b[1;32min\u001b[0m \u001b[0mthe\u001b[0m \u001b[0mattribute\u001b[0m\u001b[0;31m \u001b[0m\u001b[0;31m`\u001b[0m\u001b[0mclasses_\u001b[0m\u001b[0;31m`\u001b[0m\u001b[1;33m.\u001b[0m\u001b[1;33m\u001b[0m\u001b[0m\n\u001b[0;32m   1578\u001b[0m         \"\"\"\n\u001b[1;32m-> 1579\u001b[1;33m         \u001b[0mscore\u001b[0m \u001b[1;33m=\u001b[0m \u001b[0mself\u001b[0m\u001b[1;33m.\u001b[0m\u001b[0mdecision_function\u001b[0m\u001b[1;33m(\u001b[0m\u001b[0mX\u001b[0m\u001b[1;33m)\u001b[0m\u001b[1;33m\u001b[0m\u001b[0m\n\u001b[0m\u001b[0;32m   1580\u001b[0m         \u001b[1;32mtry\u001b[0m\u001b[1;33m:\u001b[0m\u001b[1;33m\u001b[0m\u001b[0m\n\u001b[0;32m   1581\u001b[0m             \u001b[1;32mreturn\u001b[0m \u001b[0mself\u001b[0m\u001b[1;33m.\u001b[0m\u001b[0mloss_\u001b[0m\u001b[1;33m.\u001b[0m\u001b[0m_score_to_proba\u001b[0m\u001b[1;33m(\u001b[0m\u001b[0mscore\u001b[0m\u001b[1;33m)\u001b[0m\u001b[1;33m\u001b[0m\u001b[0m\n",
                        "\u001b[1;32mC:\\ProgramData\\Anaconda3\\lib\\site-packages\\sklearn\\ensemble\\gradient_boosting.py\u001b[0m in \u001b[0;36mdecision_function\u001b[1;34m(self, X)\u001b[0m\n\u001b[0;32m   1484\u001b[0m             \u001b[1;33m[\u001b[0m\u001b[0mn_samples\u001b[0m\u001b[1;33m]\u001b[0m\u001b[1;33m.\u001b[0m\u001b[1;33m\u001b[0m\u001b[0m\n\u001b[0;32m   1485\u001b[0m         \"\"\"\n\u001b[1;32m-> 1486\u001b[1;33m         \u001b[0mX\u001b[0m \u001b[1;33m=\u001b[0m \u001b[0mcheck_array\u001b[0m\u001b[1;33m(\u001b[0m\u001b[0mX\u001b[0m\u001b[1;33m,\u001b[0m \u001b[0mdtype\u001b[0m\u001b[1;33m=\u001b[0m\u001b[0mDTYPE\u001b[0m\u001b[1;33m,\u001b[0m \u001b[0morder\u001b[0m\u001b[1;33m=\u001b[0m\u001b[1;34m\"C\"\u001b[0m\u001b[1;33m,\u001b[0m  \u001b[0maccept_sparse\u001b[0m\u001b[1;33m=\u001b[0m\u001b[1;34m'csr'\u001b[0m\u001b[1;33m)\u001b[0m\u001b[1;33m\u001b[0m\u001b[0m\n\u001b[0m\u001b[0;32m   1487\u001b[0m         \u001b[0mscore\u001b[0m \u001b[1;33m=\u001b[0m \u001b[0mself\u001b[0m\u001b[1;33m.\u001b[0m\u001b[0m_decision_function\u001b[0m\u001b[1;33m(\u001b[0m\u001b[0mX\u001b[0m\u001b[1;33m)\u001b[0m\u001b[1;33m\u001b[0m\u001b[0m\n\u001b[0;32m   1488\u001b[0m         \u001b[1;32mif\u001b[0m \u001b[0mscore\u001b[0m\u001b[1;33m.\u001b[0m\u001b[0mshape\u001b[0m\u001b[1;33m[\u001b[0m\u001b[1;36m1\u001b[0m\u001b[1;33m]\u001b[0m \u001b[1;33m==\u001b[0m \u001b[1;36m1\u001b[0m\u001b[1;33m:\u001b[0m\u001b[1;33m\u001b[0m\u001b[0m\n",
                        "\u001b[1;32mC:\\ProgramData\\Anaconda3\\lib\\site-packages\\sklearn\\utils\\validation.py\u001b[0m in \u001b[0;36mcheck_array\u001b[1;34m(array, accept_sparse, dtype, order, copy, force_all_finite, ensure_2d, allow_nd, ensure_min_samples, ensure_min_features, warn_on_dtype, estimator)\u001b[0m\n\u001b[0;32m    431\u001b[0m                                       force_all_finite)\n\u001b[0;32m    432\u001b[0m     \u001b[1;32melse\u001b[0m\u001b[1;33m:\u001b[0m\u001b[1;33m\u001b[0m\u001b[0m\n\u001b[1;32m--> 433\u001b[1;33m         \u001b[0marray\u001b[0m \u001b[1;33m=\u001b[0m \u001b[0mnp\u001b[0m\u001b[1;33m.\u001b[0m\u001b[0marray\u001b[0m\u001b[1;33m(\u001b[0m\u001b[0marray\u001b[0m\u001b[1;33m,\u001b[0m \u001b[0mdtype\u001b[0m\u001b[1;33m=\u001b[0m\u001b[0mdtype\u001b[0m\u001b[1;33m,\u001b[0m \u001b[0morder\u001b[0m\u001b[1;33m=\u001b[0m\u001b[0morder\u001b[0m\u001b[1;33m,\u001b[0m \u001b[0mcopy\u001b[0m\u001b[1;33m=\u001b[0m\u001b[0mcopy\u001b[0m\u001b[1;33m)\u001b[0m\u001b[1;33m\u001b[0m\u001b[0m\n\u001b[0m\u001b[0;32m    434\u001b[0m \u001b[1;33m\u001b[0m\u001b[0m\n\u001b[0;32m    435\u001b[0m         \u001b[1;32mif\u001b[0m \u001b[0mensure_2d\u001b[0m\u001b[1;33m:\u001b[0m\u001b[1;33m\u001b[0m\u001b[0m\n",
                        "\u001b[1;31mValueError\u001b[0m: could not convert string to float: 'AGL'"
                    ]
                }
            ],
            "source": [
                "prediction_proba_2 = gbm_tuned_2.predict_proba(test)"
            ]
        },
        {
            "cell_type": "code",
            "execution_count": null,
            "metadata": {
                "hidden": true
            },
            "outputs": [],
            "source": [
                "submit = make_submission(prediction_proba_2[:,1])"
            ]
        }
    ],
    "metadata": {
        "kernelspec": {
            "display_name": "Python 3",
            "language": "python",
            "name": "python3"
        },
        "language_info": {
            "codemirror_mode": {
                "name": "ipython",
                "version": 3
            },
            "file_extension": ".py",
            "mimetype": "text/x-python",
            "name": "python",
            "nbconvert_exporter": "python",
            "pygments_lexer": "ipython3",
            "version": "3.6.3"
        },
        "nbTranslate": {
            "displayLangs": [
                "*"
            ],
            "hotkey": "alt-t",
            "langInMainMenu": true,
            "sourceLang": "en",
            "targetLang": "fr",
            "useGoogleTranslate": true
        }
    },
    "nbformat": 4,
    "nbformat_minor": 2
}