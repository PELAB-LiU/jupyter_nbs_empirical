{
    "cells": [
        {
            "cell_type": "markdown",
            "metadata": {},
            "source": [
                "# Pandas"
            ]
        },
        {
            "cell_type": "code",
            "execution_count": null,
            "metadata": {
                "ExecuteTime": {
                    "end_time": "2020-07-29T17:24:50.635718Z",
                    "start_time": "2020-07-29T17:24:47.808592Z"
                }
            },
            "outputs": [],
            "source": [
                "!pip install pandas \n",
                "\n",
                "# import sys\n",
                "# sys.executable\n",
                "# ! path/to/python -m pip install pandas"
            ]
        },
        {
            "cell_type": "code",
            "execution_count": null,
            "metadata": {
                "ExecuteTime": {
                    "end_time": "2021-11-30T22:09:54.266930Z",
                    "start_time": "2021-11-30T22:09:51.604535Z"
                }
            },
            "outputs": [],
            "source": [
                "%%capture\n",
                "!pip install jupyter_contrib_nbextensions;"
            ]
        },
        {
            "cell_type": "code",
            "execution_count": null,
            "metadata": {
                "ExecuteTime": {
                    "end_time": "2021-11-30T22:09:14.846052Z",
                    "start_time": "2021-11-30T22:09:12.827792Z"
                }
            },
            "outputs": [],
            "source": [
                "%%capture\n",
                "!jupyter contrib nbextension install;"
            ]
        },
        {
            "cell_type": "code",
            "execution_count": null,
            "metadata": {
                "ExecuteTime": {
                    "end_time": "2021-11-30T22:12:57.814049Z",
                    "start_time": "2021-11-30T22:12:57.659413Z"
                }
            },
            "outputs": [],
            "source": [
                "%%capture\n",
                "!pip install jupyterthemes"
            ]
        },
        {
            "cell_type": "code",
            "execution_count": 3,
            "metadata": {
                "ExecuteTime": {
                    "end_time": "2021-11-30T22:47:13.909790Z",
                    "start_time": "2021-11-30T22:47:13.469935Z"
                }
            },
            "outputs": [
                {
                    "name": "stdout",
                    "output_type": "stream",
                    "text": [
                        "Available Themes: \n",
                        "   chesterish\n",
                        "   grade3\n",
                        "   gruvboxd\n",
                        "   gruvboxl\n",
                        "   monokai\n",
                        "   oceans16\n",
                        "   onedork\n",
                        "   solarizedd\n",
                        "   solarizedl\n"
                    ]
                }
            ],
            "source": [
                "!jt -l"
            ]
        },
        {
            "cell_type": "code",
            "execution_count": null,
            "metadata": {
                "ExecuteTime": {
                    "end_time": "2021-11-30T22:18:26.939172Z",
                    "start_time": "2021-11-30T22:18:25.815101Z"
                }
            },
            "outputs": [],
            "source": [
                "!jt -t monokai"
            ]
        },
        {
            "cell_type": "code",
            "execution_count": null,
            "metadata": {
                "ExecuteTime": {
                    "end_time": "2021-11-30T22:09:22.652001Z",
                    "start_time": "2021-11-30T22:09:22.291935Z"
                }
            },
            "outputs": [],
            "source": [
                "%%capture\n",
                "!jupyter nbextension enable codefolding/main;"
            ]
        },
        {
            "cell_type": "code",
            "execution_count": null,
            "metadata": {
                "ExecuteTime": {
                    "end_time": "2020-07-30T22:55:47.291355Z",
                    "start_time": "2020-07-30T22:55:47.288357Z"
                }
            },
            "outputs": [],
            "source": [
                "import numpy as np\n",
                "import pandas as pd"
            ]
        },
        {
            "cell_type": "markdown",
            "metadata": {},
            "source": [
                "# What is Pandas?\n",
                "\n",
                "Pandas can be thought as an enhanced version of numpy arrays. In this case, the rows and columns can be identified with labels instead of just simple integer indices.\n",
                "\n",
                "\n",
                "* [Documentation](https://pandas.pydata.org/docs/reference/index.html#api)\n",
                "* [GitHub](https://github.com/pandas-dev/pandas/blob/master/pandas/core/base.py)\n",
                "\n",
                "There are **three** main pandas elements we **need** to understand.\n",
                "1. Pandas Series\n",
                "2. Pandas DataFrame\n",
                "3. Index\n",
                "----"
            ]
        },
        {
            "cell_type": "markdown",
            "metadata": {},
            "source": [
                "# 1. The Pandas Series"
            ]
        },
        {
            "cell_type": "markdown",
            "metadata": {},
            "source": [
                "**The primary building block of Pandas**. A pandas series is a one-dimensional (**1-D**) indexed array."
            ]
        },
        {
            "cell_type": "code",
            "execution_count": 5,
            "metadata": {
                "ExecuteTime": {
                    "end_time": "2021-11-30T22:57:14.191225Z",
                    "start_time": "2021-11-30T22:57:13.644686Z"
                }
            },
            "outputs": [],
            "source": [
                "import pandas as pd\n",
                "#from pandas import Series"
            ]
        },
        {
            "cell_type": "code",
            "execution_count": 6,
            "metadata": {
                "ExecuteTime": {
                    "end_time": "2021-11-30T22:57:14.238102Z",
                    "start_time": "2021-11-30T22:57:14.213166Z"
                }
            },
            "outputs": [
                {
                    "data": {
                        "text/plain": [
                            "type"
                        ]
                    },
                    "execution_count": 6,
                    "metadata": {},
                    "output_type": "execute_result"
                }
            ],
            "source": [
                "type(pd.Series)"
            ]
        },
        {
            "cell_type": "code",
            "execution_count": 7,
            "metadata": {
                "ExecuteTime": {
                    "end_time": "2021-11-30T22:57:23.970606Z",
                    "start_time": "2021-11-30T22:57:23.951658Z"
                }
            },
            "outputs": [
                {
                    "data": {
                        "text/plain": [
                            "pandas.core.series.Series"
                        ]
                    },
                    "execution_count": 7,
                    "metadata": {},
                    "output_type": "execute_result"
                }
            ],
            "source": [
                "pd.Series"
            ]
        },
        {
            "cell_type": "code",
            "execution_count": 8,
            "metadata": {
                "ExecuteTime": {
                    "end_time": "2021-11-30T22:57:44.778557Z",
                    "start_time": "2021-11-30T22:57:44.767588Z"
                }
            },
            "outputs": [
                {
                    "data": {
                        "text/plain": [
                            "Series([], dtype: int32)"
                        ]
                    },
                    "execution_count": 8,
                    "metadata": {},
                    "output_type": "execute_result"
                }
            ],
            "source": [
                "pd.Series(dtype='int')"
            ]
        },
        {
            "cell_type": "markdown",
            "metadata": {},
            "source": [
                "## 1.1 Creating a Pandas Series"
            ]
        },
        {
            "cell_type": "code",
            "execution_count": 9,
            "metadata": {
                "ExecuteTime": {
                    "end_time": "2021-11-30T22:58:21.142491Z",
                    "start_time": "2021-11-30T22:58:21.130496Z"
                }
            },
            "outputs": [
                {
                    "name": "stdout",
                    "output_type": "stream",
                    "text": [
                        "0    1\n",
                        "1    2\n",
                        "2    3\n",
                        "3    4\n",
                        "dtype: int64\n"
                    ]
                }
            ],
            "source": [
                "# From a list\n",
                "values = [1, 2, 3, 4]\n",
                "series1 = pd.Series(values)\n",
                "print(series1)"
            ]
        },
        {
            "cell_type": "code",
            "execution_count": 70,
            "metadata": {
                "ExecuteTime": {
                    "end_time": "2021-11-30T23:43:52.325558Z",
                    "start_time": "2021-11-30T23:43:52.305613Z"
                }
            },
            "outputs": [
                {
                    "ename": "ValueError",
                    "evalue": "Length of passed values is 4, index implies 5.",
                    "output_type": "error",
                    "traceback": [
                        "\u001b[1;31m---------------------------------------------------------------------------\u001b[0m",
                        "\u001b[1;31mValueError\u001b[0m                                Traceback (most recent call last)",
                        "\u001b[1;32m<ipython-input-70-bdef0ed2309f>\u001b[0m in \u001b[0;36m<module>\u001b[1;34m\u001b[0m\n\u001b[0;32m      1\u001b[0m \u001b[0mnome_linhas\u001b[0m \u001b[1;33m=\u001b[0m \u001b[1;33m[\u001b[0m\u001b[1;34m'I'\u001b[0m\u001b[1;33m,\u001b[0m \u001b[1;34m'II'\u001b[0m\u001b[1;33m,\u001b[0m \u001b[1;34m'III'\u001b[0m\u001b[1;33m,\u001b[0m \u001b[1;34m'IV'\u001b[0m\u001b[1;33m,\u001b[0m \u001b[1;34m'V'\u001b[0m\u001b[1;33m]\u001b[0m\u001b[1;33m\u001b[0m\u001b[1;33m\u001b[0m\u001b[0m\n\u001b[0;32m      2\u001b[0m \u001b[1;33m\u001b[0m\u001b[0m\n\u001b[1;32m----> 3\u001b[1;33m series2 = pd.Series(data = values, \n\u001b[0m\u001b[0;32m      4\u001b[0m                     index = nome_linhas)\n\u001b[0;32m      5\u001b[0m \u001b[1;33m\u001b[0m\u001b[0m\n",
                        "\u001b[1;32mC:\\ProgramData\\Anaconda3\\lib\\site-packages\\pandas\\core\\series.py\u001b[0m in \u001b[0;36m__init__\u001b[1;34m(self, data, index, dtype, name, copy, fastpath)\u001b[0m\n\u001b[0;32m    348\u001b[0m                 \u001b[1;32mtry\u001b[0m\u001b[1;33m:\u001b[0m\u001b[1;33m\u001b[0m\u001b[1;33m\u001b[0m\u001b[0m\n\u001b[0;32m    349\u001b[0m                     \u001b[1;32mif\u001b[0m \u001b[0mlen\u001b[0m\u001b[1;33m(\u001b[0m\u001b[0mindex\u001b[0m\u001b[1;33m)\u001b[0m \u001b[1;33m!=\u001b[0m \u001b[0mlen\u001b[0m\u001b[1;33m(\u001b[0m\u001b[0mdata\u001b[0m\u001b[1;33m)\u001b[0m\u001b[1;33m:\u001b[0m\u001b[1;33m\u001b[0m\u001b[1;33m\u001b[0m\u001b[0m\n\u001b[1;32m--> 350\u001b[1;33m                         raise ValueError(\n\u001b[0m\u001b[0;32m    351\u001b[0m                             \u001b[1;34mf\"Length of passed values is {len(data)}, \"\u001b[0m\u001b[1;33m\u001b[0m\u001b[1;33m\u001b[0m\u001b[0m\n\u001b[0;32m    352\u001b[0m                             \u001b[1;34mf\"index implies {len(index)}.\"\u001b[0m\u001b[1;33m\u001b[0m\u001b[1;33m\u001b[0m\u001b[0m\n",
                        "\u001b[1;31mValueError\u001b[0m: Length of passed values is 4, index implies 5."
                    ]
                }
            ],
            "source": [
                "nome_linhas = ['I', 'II', 'III', 'IV', 'V']\n",
                "\n",
                "series2 = pd.Series(data = values, \n",
                "                    index = nome_linhas)\n",
                "\n",
                "print(series2)"
            ]
        },
        {
            "cell_type": "code",
            "execution_count": 13,
            "metadata": {
                "ExecuteTime": {
                    "end_time": "2021-11-30T23:03:30.117843Z",
                    "start_time": "2021-11-30T23:03:30.109866Z"
                }
            },
            "outputs": [
                {
                    "name": "stdout",
                    "output_type": "stream",
                    "text": [
                        "[I, II]    1\n",
                        "II         2\n",
                        "II         3\n",
                        "IV         4\n",
                        "dtype: int64\n"
                    ]
                }
            ],
            "source": [
                "nome_linhas = [['I', 'II'], 'II', 'II', 'IV']\n",
                "series2 = pd.Series(data = values, \n",
                "                    index = nome_linhas)\n",
                "print(series2)"
            ]
        },
        {
            "cell_type": "code",
            "execution_count": 12,
            "metadata": {
                "ExecuteTime": {
                    "end_time": "2021-11-30T23:01:28.646770Z",
                    "start_time": "2021-11-30T23:01:28.628791Z"
                }
            },
            "outputs": [
                {
                    "data": {
                        "text/plain": [
                            "0      1\n",
                            "1      2\n",
                            "2      3\n",
                            "3    abc\n",
                            "dtype: object"
                        ]
                    },
                    "execution_count": 12,
                    "metadata": {},
                    "output_type": "execute_result"
                }
            ],
            "source": [
                "pd.Series([1,2,3,'abc'])"
            ]
        },
        {
            "cell_type": "code",
            "execution_count": 14,
            "metadata": {
                "ExecuteTime": {
                    "end_time": "2021-11-30T23:05:36.991136Z",
                    "start_time": "2021-11-30T23:05:36.978169Z"
                }
            },
            "outputs": [
                {
                    "name": "stdout",
                    "output_type": "stream",
                    "text": [
                        "Titanic               7.8\n",
                        "Dune                  8.2\n",
                        "Dune (David Lynch)    6.4\n",
                        "House of Gucci        7.0\n",
                        "Joker                 8.4\n",
                        "Alien                 8.4\n",
                        "Name: nota_imdb, dtype: float64\n"
                    ]
                }
            ],
            "source": [
                "# From a dict\n",
                "\n",
                "dict_notas = dict({'Titanic' : 7.8,\n",
                "                  'Dune' : 8.2,\n",
                "                  'Dune (David Lynch)' : 6.4,\n",
                "                  'House of Gucci' : 7.0,\n",
                "                  'Joker' : 8.4,\n",
                "                  'Alien' : 8.4})\n",
                "notas_imdb = pd.Series(dict_notas, name = 'nota_imdb')\n",
                "print(notas_imdb)"
            ]
        },
        {
            "cell_type": "code",
            "execution_count": 15,
            "metadata": {
                "ExecuteTime": {
                    "end_time": "2021-11-30T23:07:36.149708Z",
                    "start_time": "2021-11-30T23:07:36.127755Z"
                }
            },
            "outputs": [
                {
                    "data": {
                        "text/plain": [
                            "Dune       8.2\n",
                            "Dune DL    NaN\n",
                            "Titanic    7.8\n",
                            "Coringa    NaN\n",
                            "Gucci      NaN\n",
                            "Name: nota_imdb, dtype: float64"
                        ]
                    },
                    "execution_count": 15,
                    "metadata": {},
                    "output_type": "execute_result"
                }
            ],
            "source": [
                "# From a dict\n",
                "\n",
                "dict_notas = dict({'Titanic' : 7.8,\n",
                "                  'Dune' : 8.2,\n",
                "                  'Dune (David Lynch)' : 6.4,\n",
                "                  'House of Gucci' : 7.0,\n",
                "                  'Joker' : 8.4,\n",
                "                  'Alien' : 8.4})\n",
                "nomes_errados = ['Dune', 'Dune DL', 'Titanic', 'Coringa', 'Gucci']\n",
                "\n",
                "pd.Series(dict_notas, index = nomes_errados, name = 'nota_imdb')"
            ]
        },
        {
            "cell_type": "code",
            "execution_count": 16,
            "metadata": {
                "ExecuteTime": {
                    "end_time": "2021-11-30T23:10:38.828731Z",
                    "start_time": "2021-11-30T23:10:38.806790Z"
                }
            },
            "outputs": [
                {
                    "name": "stdout",
                    "output_type": "stream",
                    "text": [
                        "Titanic                 [Kate Winslet, Leonardo DiCaprio]\n",
                        "Dune                         [Timothée Chalamet, Zendaya]\n",
                        "Dune (David Lynch)                                [Sting]\n",
                        "House of Gucci        [Lady Gaga, Adam Driver, Al Pacino]\n",
                        "Joker                                   [Joaquin Phoenix]\n",
                        "Alien                        [Sigourney Weaver, Ian Holm]\n",
                        "Aliens                    [Sigourney Weaver, Paul Reiser]\n",
                        "Name: elenco, dtype: object\n"
                    ]
                }
            ],
            "source": [
                "dict_cast = dict({'Titanic' : ['Kate Winslet', 'Leonardo DiCaprio'],\n",
                "                  'Dune' : ['Timothée Chalamet', 'Zendaya'],\n",
                "                  'Dune (David Lynch)' : ['Sting'],\n",
                "                  'House of Gucci' : ['Lady Gaga', 'Adam Driver', 'Al Pacino'],\n",
                "                  'Joker' : ['Joaquin Phoenix'],\n",
                "                  'Alien' : ['Sigourney Weaver', 'Ian Holm'],\n",
                "                  'Aliens' : ['Sigourney Weaver', 'Paul Reiser']})\n",
                "\n",
                "elenco = pd.Series(dict_cast, name = 'elenco')\n",
                "print(elenco)"
            ]
        },
        {
            "cell_type": "code",
            "execution_count": 18,
            "metadata": {
                "ExecuteTime": {
                    "end_time": "2021-11-30T23:12:43.082327Z",
                    "start_time": "2021-11-30T23:12:43.062353Z"
                }
            },
            "outputs": [
                {
                    "name": "stdout",
                    "output_type": "stream",
                    "text": [
                        "Titanic                  James Cameron\n",
                        "Dune                  Denis Villeneuve\n",
                        "Dune (David Lynch)         David Lynch\n",
                        "House of Gucci            Ridley Scott\n",
                        "Joker                    Todd Phillips\n",
                        "Alien                     Ridley Scott\n",
                        "Aliens                   James Cameron\n",
                        "Name: diretor, dtype: string\n"
                    ]
                }
            ],
            "source": [
                "dict_diretor = dict({'Titanic' : 'James Cameron',\n",
                "                     'Dune' : 'Denis Villeneuve',\n",
                "                     'Dune (David Lynch)' : 'David Lynch',\n",
                "                     'House of Gucci' : 'Ridley Scott',\n",
                "                     'Joker' : 'Todd Phillips',\n",
                "                     'Alien' : 'Ridley Scott',\n",
                "                     'Aliens' : 'James Cameron'})\n",
                "#diretor = pd.Series(dict_diretor, name = 'diretor')\n",
                "diretor = pd.Series(dict_diretor, name = 'diretor', dtype = pd.StringDtype())\n",
                "print(diretor)"
            ]
        },
        {
            "cell_type": "markdown",
            "metadata": {},
            "source": [
                "## 1.2 Some methods and attributes\n",
                "* Check Type\n",
                "* Check Size\n",
                "* `.describe()`\n",
                "* `.values`\n",
                "* `.index`"
            ]
        },
        {
            "cell_type": "code",
            "execution_count": 19,
            "metadata": {
                "ExecuteTime": {
                    "end_time": "2021-11-30T23:13:18.105296Z",
                    "start_time": "2021-11-30T23:13:18.099310Z"
                }
            },
            "outputs": [
                {
                    "name": "stdout",
                    "output_type": "stream",
                    "text": [
                        "<class 'pandas.core.series.Series'>\n"
                    ]
                }
            ],
            "source": [
                "print(type(notas_imdb))"
            ]
        },
        {
            "cell_type": "markdown",
            "metadata": {},
            "source": [
                "So, the `type` of `data` is a `pandas...Series` and the types of the data inside the `pandas.Series` is `float64`"
            ]
        },
        {
            "cell_type": "code",
            "execution_count": 20,
            "metadata": {
                "ExecuteTime": {
                    "end_time": "2021-11-30T23:13:51.963693Z",
                    "start_time": "2021-11-30T23:13:51.957710Z"
                }
            },
            "outputs": [
                {
                    "name": "stdout",
                    "output_type": "stream",
                    "text": [
                        "Titanic               7.8\n",
                        "Dune                  8.2\n",
                        "Dune (David Lynch)    6.4\n",
                        "House of Gucci        7.0\n",
                        "Joker                 8.4\n",
                        "Alien                 8.4\n",
                        "Name: nota_imdb, dtype: float64\n"
                    ]
                }
            ],
            "source": [
                "print(notas_imdb)"
            ]
        },
        {
            "cell_type": "markdown",
            "metadata": {},
            "source": [
                "When you see `dtype: object`, it usually means you have a `str` inside your `Series` - you should always work to specify string `Series` as a `pd.StringDtype()`!"
            ]
        },
        {
            "cell_type": "code",
            "execution_count": 21,
            "metadata": {
                "ExecuteTime": {
                    "end_time": "2021-11-30T23:15:00.454827Z",
                    "start_time": "2021-11-30T23:15:00.446848Z"
                }
            },
            "outputs": [
                {
                    "name": "stdout",
                    "output_type": "stream",
                    "text": [
                        "6\n"
                    ]
                }
            ],
            "source": [
                "print(len(notas_imdb))"
            ]
        },
        {
            "cell_type": "code",
            "execution_count": 27,
            "metadata": {
                "ExecuteTime": {
                    "end_time": "2021-11-30T23:17:09.219507Z",
                    "start_time": "2021-11-30T23:17:09.198564Z"
                }
            },
            "outputs": [
                {
                    "name": "stdout",
                    "output_type": "stream",
                    "text": [
                        "count    6.000000\n",
                        "mean     7.700000\n",
                        "std      0.827043\n",
                        "min      6.400000\n",
                        "10%      6.700000\n",
                        "50%      8.000000\n",
                        "90%      8.400000\n",
                        "max      8.400000\n",
                        "Name: nota_imdb, dtype: float64\n"
                    ]
                }
            ],
            "source": [
                "print(notas_imdb.describe(percentiles = [0.1, 0.9]))"
            ]
        },
        {
            "cell_type": "code",
            "execution_count": 28,
            "metadata": {
                "ExecuteTime": {
                    "end_time": "2021-11-30T23:18:28.476894Z",
                    "start_time": "2021-11-30T23:18:28.453388Z"
                }
            },
            "outputs": [
                {
                    "name": "stdout",
                    "output_type": "stream",
                    "text": [
                        "count                                7\n",
                        "unique                               7\n",
                        "top       [Timothée Chalamet, Zendaya]\n",
                        "freq                                 1\n",
                        "Name: elenco, dtype: object\n"
                    ]
                }
            ],
            "source": [
                "print(elenco.describe())"
            ]
        },
        {
            "cell_type": "code",
            "execution_count": 29,
            "metadata": {
                "ExecuteTime": {
                    "end_time": "2021-11-30T23:19:06.900251Z",
                    "start_time": "2021-11-30T23:19:06.879308Z"
                }
            },
            "outputs": [
                {
                    "name": "stdout",
                    "output_type": "stream",
                    "text": [
                        "count                 7\n",
                        "unique                5\n",
                        "top       James Cameron\n",
                        "freq                  2\n",
                        "Name: diretor, dtype: object\n"
                    ]
                }
            ],
            "source": [
                "print(diretor.describe())"
            ]
        },
        {
            "cell_type": "code",
            "execution_count": 30,
            "metadata": {
                "ExecuteTime": {
                    "end_time": "2021-11-30T23:20:06.415820Z",
                    "start_time": "2021-11-30T23:20:06.410837Z"
                }
            },
            "outputs": [
                {
                    "name": "stdout",
                    "output_type": "stream",
                    "text": [
                        "[7.8 8.2 6.4 7.  8.4 8.4]\n"
                    ]
                }
            ],
            "source": [
                "print(notas_imdb.values)"
            ]
        },
        {
            "cell_type": "code",
            "execution_count": 32,
            "metadata": {
                "ExecuteTime": {
                    "end_time": "2021-11-30T23:20:55.138274Z",
                    "start_time": "2021-11-30T23:20:55.126309Z"
                }
            },
            "outputs": [
                {
                    "data": {
                        "text/plain": [
                            "pandas.core.arrays.string_.StringArray"
                        ]
                    },
                    "execution_count": 32,
                    "metadata": {},
                    "output_type": "execute_result"
                }
            ],
            "source": [
                "type(diretor.values)"
            ]
        },
        {
            "cell_type": "code",
            "execution_count": 33,
            "metadata": {
                "ExecuteTime": {
                    "end_time": "2021-11-30T23:21:29.165995Z",
                    "start_time": "2021-11-30T23:21:29.151026Z"
                }
            },
            "outputs": [
                {
                    "name": "stdout",
                    "output_type": "stream",
                    "text": [
                        "Index(['Titanic', 'Dune', 'Dune (David Lynch)', 'House of Gucci', 'Joker',\n",
                        "       'Alien'],\n",
                        "      dtype='object')\n"
                    ]
                }
            ],
            "source": [
                "print(notas_imdb.index)"
            ]
        },
        {
            "cell_type": "code",
            "execution_count": 34,
            "metadata": {
                "ExecuteTime": {
                    "end_time": "2021-11-30T23:22:04.709938Z",
                    "start_time": "2021-11-30T23:22:04.693952Z"
                }
            },
            "outputs": [
                {
                    "data": {
                        "text/plain": [
                            "pandas.core.indexes.base.Index"
                        ]
                    },
                    "execution_count": 34,
                    "metadata": {},
                    "output_type": "execute_result"
                }
            ],
            "source": [
                "type(notas_imdb.index)"
            ]
        },
        {
            "cell_type": "code",
            "execution_count": null,
            "metadata": {},
            "outputs": [],
            "source": []
        },
        {
            "cell_type": "markdown",
            "metadata": {},
            "source": [
                "## 1.3 Accessing elements \n",
                "\n",
                "Can be done like a numpy array. "
            ]
        },
        {
            "cell_type": "code",
            "execution_count": 36,
            "metadata": {
                "ExecuteTime": {
                    "end_time": "2021-11-30T23:24:05.601895Z",
                    "start_time": "2021-11-30T23:24:05.582945Z"
                }
            },
            "outputs": [
                {
                    "data": {
                        "text/plain": [
                            "7.8"
                        ]
                    },
                    "execution_count": 36,
                    "metadata": {},
                    "output_type": "execute_result"
                }
            ],
            "source": [
                "notas_imdb[0]"
            ]
        },
        {
            "cell_type": "code",
            "execution_count": 37,
            "metadata": {
                "ExecuteTime": {
                    "end_time": "2021-11-30T23:24:36.696750Z",
                    "start_time": "2021-11-30T23:24:36.679795Z"
                }
            },
            "outputs": [
                {
                    "data": {
                        "text/plain": [
                            "Titanic               7.8\n",
                            "Dune                  8.2\n",
                            "Dune (David Lynch)    6.4\n",
                            "Name: nota_imdb, dtype: float64"
                        ]
                    },
                    "execution_count": 37,
                    "metadata": {},
                    "output_type": "execute_result"
                }
            ],
            "source": [
                "notas_imdb[0:3]"
            ]
        },
        {
            "cell_type": "code",
            "execution_count": 38,
            "metadata": {
                "ExecuteTime": {
                    "end_time": "2021-11-30T23:24:45.891977Z",
                    "start_time": "2021-11-30T23:24:45.883998Z"
                }
            },
            "outputs": [
                {
                    "data": {
                        "text/plain": [
                            "Dune                  8.2\n",
                            "Dune (David Lynch)    6.4\n",
                            "House of Gucci        7.0\n",
                            "Joker                 8.4\n",
                            "Alien                 8.4\n",
                            "Name: nota_imdb, dtype: float64"
                        ]
                    },
                    "execution_count": 38,
                    "metadata": {},
                    "output_type": "execute_result"
                }
            ],
            "source": [
                "notas_imdb[1:]"
            ]
        },
        {
            "cell_type": "code",
            "execution_count": 39,
            "metadata": {
                "ExecuteTime": {
                    "end_time": "2021-11-30T23:25:12.312473Z",
                    "start_time": "2021-11-30T23:25:12.302498Z"
                }
            },
            "outputs": [
                {
                    "data": {
                        "text/plain": [
                            "8.2"
                        ]
                    },
                    "execution_count": 39,
                    "metadata": {},
                    "output_type": "execute_result"
                }
            ],
            "source": [
                "notas_imdb['Dune']"
            ]
        },
        {
            "cell_type": "code",
            "execution_count": 40,
            "metadata": {
                "ExecuteTime": {
                    "end_time": "2021-11-30T23:25:46.259701Z",
                    "start_time": "2021-11-30T23:25:46.244715Z"
                }
            },
            "outputs": [
                {
                    "data": {
                        "text/plain": [
                            "True"
                        ]
                    },
                    "execution_count": 40,
                    "metadata": {},
                    "output_type": "execute_result"
                }
            ],
            "source": [
                "notas_imdb.iloc[1] == notas_imdb['Dune'] == notas_imdb[1]"
            ]
        },
        {
            "cell_type": "markdown",
            "metadata": {},
            "source": [
                "# 2. The Pandas DataFrame\n"
            ]
        },
        {
            "cell_type": "markdown",
            "metadata": {},
            "source": [
                "Pandas DataFrame can be thought as\n",
                "* A group of Pandas Series\n",
                "* A generalization of **2-D** numpy arrays (However, again, they bring flexibility on both the indices and column names)\n",
                "* A tabular, spreadsheet-like data structure"
            ]
        },
        {
            "cell_type": "code",
            "execution_count": 41,
            "metadata": {
                "ExecuteTime": {
                    "end_time": "2021-11-30T23:27:22.175187Z",
                    "start_time": "2021-11-30T23:27:22.163194Z"
                }
            },
            "outputs": [
                {
                    "data": {
                        "text/plain": [
                            "pandas.core.frame.DataFrame"
                        ]
                    },
                    "execution_count": 41,
                    "metadata": {},
                    "output_type": "execute_result"
                }
            ],
            "source": [
                "pd.DataFrame"
            ]
        },
        {
            "cell_type": "code",
            "execution_count": 43,
            "metadata": {
                "ExecuteTime": {
                    "end_time": "2021-11-30T23:27:35.334446Z",
                    "start_time": "2021-11-30T23:27:35.323449Z"
                }
            },
            "outputs": [
                {
                    "data": {
                        "text/plain": [
                            "type"
                        ]
                    },
                    "execution_count": 43,
                    "metadata": {},
                    "output_type": "execute_result"
                }
            ],
            "source": [
                "type(pd.DataFrame)"
            ]
        },
        {
            "cell_type": "code",
            "execution_count": 42,
            "metadata": {
                "ExecuteTime": {
                    "end_time": "2021-11-30T23:27:30.587053Z",
                    "start_time": "2021-11-30T23:27:30.563122Z"
                }
            },
            "outputs": [
                {
                    "data": {
                        "text/html": [
                            "<div>\n",
                            "<style scoped>\n",
                            "    .dataframe tbody tr th:only-of-type {\n",
                            "        vertical-align: middle;\n",
                            "    }\n",
                            "\n",
                            "    .dataframe tbody tr th {\n",
                            "        vertical-align: top;\n",
                            "    }\n",
                            "\n",
                            "    .dataframe thead th {\n",
                            "        text-align: right;\n",
                            "    }\n",
                            "</style>\n",
                            "<table border=\"1\" class=\"dataframe\">\n",
                            "  <thead>\n",
                            "    <tr style=\"text-align: right;\">\n",
                            "      <th></th>\n",
                            "    </tr>\n",
                            "  </thead>\n",
                            "  <tbody>\n",
                            "  </tbody>\n",
                            "</table>\n",
                            "</div>"
                        ],
                        "text/plain": [
                            "Empty DataFrame\n",
                            "Columns: []\n",
                            "Index: []"
                        ]
                    },
                    "execution_count": 42,
                    "metadata": {},
                    "output_type": "execute_result"
                }
            ],
            "source": [
                "pd.DataFrame()"
            ]
        },
        {
            "cell_type": "markdown",
            "metadata": {},
            "source": [
                "## 2.1 Creating a Pandas DataFrame\n",
                "* From a .csv, excel, query, json, from an API...\n",
                "Today we'll check how to create from a 1-D array, 2-D array and from a dictionary"
            ]
        },
        {
            "cell_type": "code",
            "execution_count": 47,
            "metadata": {
                "ExecuteTime": {
                    "end_time": "2021-11-30T23:30:32.679065Z",
                    "start_time": "2021-11-30T23:30:32.668094Z"
                }
            },
            "outputs": [
                {
                    "data": {
                        "text/plain": [
                            "Titanic               7.8\n",
                            "Dune                  8.2\n",
                            "Dune (David Lynch)    6.4\n",
                            "House of Gucci        7.0\n",
                            "Joker                 8.4\n",
                            "Alien                 8.4\n",
                            "Name: nota_imdb, dtype: float64"
                        ]
                    },
                    "execution_count": 47,
                    "metadata": {},
                    "output_type": "execute_result"
                }
            ],
            "source": [
                "notas_imdb"
            ]
        },
        {
            "cell_type": "code",
            "execution_count": 48,
            "metadata": {
                "ExecuteTime": {
                    "end_time": "2021-11-30T23:30:38.793158Z",
                    "start_time": "2021-11-30T23:30:38.782189Z"
                }
            },
            "outputs": [
                {
                    "data": {
                        "text/plain": [
                            "Titanic                 [Kate Winslet, Leonardo DiCaprio]\n",
                            "Dune                         [Timothée Chalamet, Zendaya]\n",
                            "Dune (David Lynch)                                [Sting]\n",
                            "House of Gucci        [Lady Gaga, Adam Driver, Al Pacino]\n",
                            "Joker                                   [Joaquin Phoenix]\n",
                            "Alien                        [Sigourney Weaver, Ian Holm]\n",
                            "Aliens                    [Sigourney Weaver, Paul Reiser]\n",
                            "Name: elenco, dtype: object"
                        ]
                    },
                    "execution_count": 48,
                    "metadata": {},
                    "output_type": "execute_result"
                }
            ],
            "source": [
                "elenco"
            ]
        },
        {
            "cell_type": "code",
            "execution_count": 49,
            "metadata": {
                "ExecuteTime": {
                    "end_time": "2021-11-30T23:30:50.387328Z",
                    "start_time": "2021-11-30T23:30:50.375333Z"
                }
            },
            "outputs": [
                {
                    "data": {
                        "text/plain": [
                            "Titanic                  James Cameron\n",
                            "Dune                  Denis Villeneuve\n",
                            "Dune (David Lynch)         David Lynch\n",
                            "House of Gucci            Ridley Scott\n",
                            "Joker                    Todd Phillips\n",
                            "Alien                     Ridley Scott\n",
                            "Aliens                   James Cameron\n",
                            "Name: diretor, dtype: string"
                        ]
                    },
                    "execution_count": 49,
                    "metadata": {},
                    "output_type": "execute_result"
                }
            ],
            "source": [
                "diretor"
            ]
        },
        {
            "cell_type": "code",
            "execution_count": 55,
            "metadata": {
                "ExecuteTime": {
                    "end_time": "2021-11-30T23:34:16.711370Z",
                    "start_time": "2021-11-30T23:34:16.698406Z"
                }
            },
            "outputs": [
                {
                    "name": "stdout",
                    "output_type": "stream",
                    "text": [
                        "dict_keys(['notas', 'elenco', 'diretor'])\n",
                        "<class 'pandas.core.series.Series'>\n"
                    ]
                }
            ],
            "source": [
                "dict_series = {'notas' : notas_imdb,\n",
                "               'elenco' : elenco,\n",
                "               'diretor' : diretor}\n",
                "print(dict_series.keys())\n",
                "print(type(dict_series['notas']))"
            ]
        },
        {
            "cell_type": "code",
            "execution_count": 46,
            "metadata": {
                "ExecuteTime": {
                    "end_time": "2021-11-30T23:28:42.038563Z",
                    "start_time": "2021-11-30T23:28:42.017622Z"
                }
            },
            "outputs": [
                {
                    "data": {
                        "text/html": [
                            "<div>\n",
                            "<style scoped>\n",
                            "    .dataframe tbody tr th:only-of-type {\n",
                            "        vertical-align: middle;\n",
                            "    }\n",
                            "\n",
                            "    .dataframe tbody tr th {\n",
                            "        vertical-align: top;\n",
                            "    }\n",
                            "\n",
                            "    .dataframe thead th {\n",
                            "        text-align: right;\n",
                            "    }\n",
                            "</style>\n",
                            "<table border=\"1\" class=\"dataframe\">\n",
                            "  <thead>\n",
                            "    <tr style=\"text-align: right;\">\n",
                            "      <th></th>\n",
                            "      <th>notas</th>\n",
                            "      <th>elenco</th>\n",
                            "      <th>diretor</th>\n",
                            "    </tr>\n",
                            "  </thead>\n",
                            "  <tbody>\n",
                            "    <tr>\n",
                            "      <th>Alien</th>\n",
                            "      <td>8.4</td>\n",
                            "      <td>[Sigourney Weaver, Ian Holm]</td>\n",
                            "      <td>Ridley Scott</td>\n",
                            "    </tr>\n",
                            "    <tr>\n",
                            "      <th>Aliens</th>\n",
                            "      <td>NaN</td>\n",
                            "      <td>[Sigourney Weaver, Paul Reiser]</td>\n",
                            "      <td>James Cameron</td>\n",
                            "    </tr>\n",
                            "    <tr>\n",
                            "      <th>Dune</th>\n",
                            "      <td>8.2</td>\n",
                            "      <td>[Timothée Chalamet, Zendaya]</td>\n",
                            "      <td>Denis Villeneuve</td>\n",
                            "    </tr>\n",
                            "    <tr>\n",
                            "      <th>Dune (David Lynch)</th>\n",
                            "      <td>6.4</td>\n",
                            "      <td>[Sting]</td>\n",
                            "      <td>David Lynch</td>\n",
                            "    </tr>\n",
                            "    <tr>\n",
                            "      <th>House of Gucci</th>\n",
                            "      <td>7.0</td>\n",
                            "      <td>[Lady Gaga, Adam Driver, Al Pacino]</td>\n",
                            "      <td>Ridley Scott</td>\n",
                            "    </tr>\n",
                            "    <tr>\n",
                            "      <th>Joker</th>\n",
                            "      <td>8.4</td>\n",
                            "      <td>[Joaquin Phoenix]</td>\n",
                            "      <td>Todd Phillips</td>\n",
                            "    </tr>\n",
                            "    <tr>\n",
                            "      <th>Titanic</th>\n",
                            "      <td>7.8</td>\n",
                            "      <td>[Kate Winslet, Leonardo DiCaprio]</td>\n",
                            "      <td>James Cameron</td>\n",
                            "    </tr>\n",
                            "  </tbody>\n",
                            "</table>\n",
                            "</div>"
                        ],
                        "text/plain": [
                            "                    notas                               elenco  \\\n",
                            "Alien                 8.4         [Sigourney Weaver, Ian Holm]   \n",
                            "Aliens                NaN      [Sigourney Weaver, Paul Reiser]   \n",
                            "Dune                  8.2         [Timothée Chalamet, Zendaya]   \n",
                            "Dune (David Lynch)    6.4                              [Sting]   \n",
                            "House of Gucci        7.0  [Lady Gaga, Adam Driver, Al Pacino]   \n",
                            "Joker                 8.4                    [Joaquin Phoenix]   \n",
                            "Titanic               7.8    [Kate Winslet, Leonardo DiCaprio]   \n",
                            "\n",
                            "                             diretor  \n",
                            "Alien                   Ridley Scott  \n",
                            "Aliens                 James Cameron  \n",
                            "Dune                Denis Villeneuve  \n",
                            "Dune (David Lynch)       David Lynch  \n",
                            "House of Gucci          Ridley Scott  \n",
                            "Joker                  Todd Phillips  \n",
                            "Titanic                James Cameron  "
                        ]
                    },
                    "execution_count": 46,
                    "metadata": {},
                    "output_type": "execute_result"
                }
            ],
            "source": [
                "pd.DataFrame(dict_series)"
            ]
        },
        {
            "cell_type": "code",
            "execution_count": 57,
            "metadata": {
                "ExecuteTime": {
                    "end_time": "2021-11-30T23:37:48.039038Z",
                    "start_time": "2021-11-30T23:37:48.030051Z"
                }
            },
            "outputs": [
                {
                    "name": "stdout",
                    "output_type": "stream",
                    "text": [
                        "{'Titanic': 7.8, 'Dune': 8.2, 'Dune (David Lynch)': 6.4, 'House of Gucci': 7.0, 'Joker': 8.4, 'Alien': 8.4}\n"
                    ]
                }
            ],
            "source": [
                "print(dict_notas)"
            ]
        },
        {
            "cell_type": "code",
            "execution_count": 59,
            "metadata": {
                "ExecuteTime": {
                    "end_time": "2021-11-30T23:38:03.646310Z",
                    "start_time": "2021-11-30T23:38:03.632347Z"
                }
            },
            "outputs": [
                {
                    "data": {
                        "text/plain": [
                            "Titanic               7.8\n",
                            "Dune                  8.2\n",
                            "Dune (David Lynch)    6.4\n",
                            "House of Gucci        7.0\n",
                            "Joker                 8.4\n",
                            "Alien                 8.4\n",
                            "dtype: float64"
                        ]
                    },
                    "execution_count": 59,
                    "metadata": {},
                    "output_type": "execute_result"
                }
            ],
            "source": [
                "pd.Series(dict_notas)"
            ]
        },
        {
            "cell_type": "code",
            "execution_count": 60,
            "metadata": {
                "ExecuteTime": {
                    "end_time": "2021-11-30T23:38:55.555896Z",
                    "start_time": "2021-11-30T23:38:55.550908Z"
                }
            },
            "outputs": [
                {
                    "name": "stdout",
                    "output_type": "stream",
                    "text": [
                        "{'notas': {'Titanic': 7.8, 'Dune': 8.2, 'Dune (David Lynch)': 6.4, 'House of Gucci': 7.0, 'Joker': 8.4, 'Alien': 8.4}, 'elenco': {'Titanic': ['Kate Winslet', 'Leonardo DiCaprio'], 'Dune': ['Timothée Chalamet', 'Zendaya'], 'Dune (David Lynch)': ['Sting'], 'House of Gucci': ['Lady Gaga', 'Adam Driver', 'Al Pacino'], 'Joker': ['Joaquin Phoenix'], 'Alien': ['Sigourney Weaver', 'Ian Holm'], 'Aliens': ['Sigourney Weaver', 'Paul Reiser']}, 'diretor': {'Titanic': 'James Cameron', 'Dune': 'Denis Villeneuve', 'Dune (David Lynch)': 'David Lynch', 'House of Gucci': 'Ridley Scott', 'Joker': 'Todd Phillips', 'Alien': 'Ridley Scott', 'Aliens': 'James Cameron'}}\n"
                    ]
                }
            ],
            "source": [
                "dict_dicts = {'notas' : dict_notas,\n",
                "              'elenco' : dict_cast,\n",
                "              'diretor' : dict_diretor}\n",
                "print(dict_dicts)"
            ]
        },
        {
            "cell_type": "code",
            "execution_count": 61,
            "metadata": {
                "ExecuteTime": {
                    "end_time": "2021-11-30T23:39:31.708288Z",
                    "start_time": "2021-11-30T23:39:31.686316Z"
                }
            },
            "outputs": [
                {
                    "data": {
                        "text/html": [
                            "<div>\n",
                            "<style scoped>\n",
                            "    .dataframe tbody tr th:only-of-type {\n",
                            "        vertical-align: middle;\n",
                            "    }\n",
                            "\n",
                            "    .dataframe tbody tr th {\n",
                            "        vertical-align: top;\n",
                            "    }\n",
                            "\n",
                            "    .dataframe thead th {\n",
                            "        text-align: right;\n",
                            "    }\n",
                            "</style>\n",
                            "<table border=\"1\" class=\"dataframe\">\n",
                            "  <thead>\n",
                            "    <tr style=\"text-align: right;\">\n",
                            "      <th></th>\n",
                            "      <th>notas</th>\n",
                            "      <th>elenco</th>\n",
                            "      <th>diretor</th>\n",
                            "    </tr>\n",
                            "  </thead>\n",
                            "  <tbody>\n",
                            "    <tr>\n",
                            "      <th>Titanic</th>\n",
                            "      <td>7.8</td>\n",
                            "      <td>[Kate Winslet, Leonardo DiCaprio]</td>\n",
                            "      <td>James Cameron</td>\n",
                            "    </tr>\n",
                            "    <tr>\n",
                            "      <th>Dune</th>\n",
                            "      <td>8.2</td>\n",
                            "      <td>[Timothée Chalamet, Zendaya]</td>\n",
                            "      <td>Denis Villeneuve</td>\n",
                            "    </tr>\n",
                            "    <tr>\n",
                            "      <th>Dune (David Lynch)</th>\n",
                            "      <td>6.4</td>\n",
                            "      <td>[Sting]</td>\n",
                            "      <td>David Lynch</td>\n",
                            "    </tr>\n",
                            "    <tr>\n",
                            "      <th>House of Gucci</th>\n",
                            "      <td>7.0</td>\n",
                            "      <td>[Lady Gaga, Adam Driver, Al Pacino]</td>\n",
                            "      <td>Ridley Scott</td>\n",
                            "    </tr>\n",
                            "    <tr>\n",
                            "      <th>Joker</th>\n",
                            "      <td>8.4</td>\n",
                            "      <td>[Joaquin Phoenix]</td>\n",
                            "      <td>Todd Phillips</td>\n",
                            "    </tr>\n",
                            "    <tr>\n",
                            "      <th>Alien</th>\n",
                            "      <td>8.4</td>\n",
                            "      <td>[Sigourney Weaver, Ian Holm]</td>\n",
                            "      <td>Ridley Scott</td>\n",
                            "    </tr>\n",
                            "    <tr>\n",
                            "      <th>Aliens</th>\n",
                            "      <td>NaN</td>\n",
                            "      <td>[Sigourney Weaver, Paul Reiser]</td>\n",
                            "      <td>James Cameron</td>\n",
                            "    </tr>\n",
                            "  </tbody>\n",
                            "</table>\n",
                            "</div>"
                        ],
                        "text/plain": [
                            "                    notas                               elenco  \\\n",
                            "Titanic               7.8    [Kate Winslet, Leonardo DiCaprio]   \n",
                            "Dune                  8.2         [Timothée Chalamet, Zendaya]   \n",
                            "Dune (David Lynch)    6.4                              [Sting]   \n",
                            "House of Gucci        7.0  [Lady Gaga, Adam Driver, Al Pacino]   \n",
                            "Joker                 8.4                    [Joaquin Phoenix]   \n",
                            "Alien                 8.4         [Sigourney Weaver, Ian Holm]   \n",
                            "Aliens                NaN      [Sigourney Weaver, Paul Reiser]   \n",
                            "\n",
                            "                             diretor  \n",
                            "Titanic                James Cameron  \n",
                            "Dune                Denis Villeneuve  \n",
                            "Dune (David Lynch)       David Lynch  \n",
                            "House of Gucci          Ridley Scott  \n",
                            "Joker                  Todd Phillips  \n",
                            "Alien                   Ridley Scott  \n",
                            "Aliens                 James Cameron  "
                        ]
                    },
                    "execution_count": 61,
                    "metadata": {},
                    "output_type": "execute_result"
                }
            ],
            "source": [
                "pd.DataFrame(dict_dicts)"
            ]
        },
        {
            "cell_type": "code",
            "execution_count": 65,
            "metadata": {
                "ExecuteTime": {
                    "end_time": "2021-11-30T23:41:31.677571Z",
                    "start_time": "2021-11-30T23:41:31.660619Z"
                }
            },
            "outputs": [
                {
                    "data": {
                        "text/plain": [
                            "['James Cameron',\n",
                            " 'Denis Villeneuve',\n",
                            " 'David Lynch',\n",
                            " 'Ridley Scott',\n",
                            " 'Todd Phillips',\n",
                            " 'Ridley Scott',\n",
                            " 'James Cameron']"
                        ]
                    },
                    "execution_count": 65,
                    "metadata": {},
                    "output_type": "execute_result"
                }
            ],
            "source": [
                "list(dict_diretor.values())"
            ]
        },
        {
            "cell_type": "code",
            "execution_count": 66,
            "metadata": {
                "ExecuteTime": {
                    "end_time": "2021-11-30T23:42:01.227828Z",
                    "start_time": "2021-11-30T23:42:01.209889Z"
                }
            },
            "outputs": [
                {
                    "name": "stdout",
                    "output_type": "stream",
                    "text": [
                        "[7.8, 8.2, 6.4, 7.0, 8.4, 8.4]\n"
                    ]
                }
            ],
            "source": [
                "lista_notas = list(dict_notas.values())\n",
                "lista_elenco = list(dict_cast.values())\n",
                "lista_diretor = list(dict_diretor.values())\n",
                "print(lista_notas)"
            ]
        },
        {
            "cell_type": "code",
            "execution_count": 67,
            "metadata": {
                "ExecuteTime": {
                    "end_time": "2021-11-30T23:42:03.840632Z",
                    "start_time": "2021-11-30T23:42:03.832653Z"
                }
            },
            "outputs": [
                {
                    "name": "stdout",
                    "output_type": "stream",
                    "text": [
                        "[['Kate Winslet', 'Leonardo DiCaprio'], ['Timothée Chalamet', 'Zendaya'], ['Sting'], ['Lady Gaga', 'Adam Driver', 'Al Pacino'], ['Joaquin Phoenix'], ['Sigourney Weaver', 'Ian Holm'], ['Sigourney Weaver', 'Paul Reiser']]\n"
                    ]
                }
            ],
            "source": [
                "print(lista_elenco)"
            ]
        },
        {
            "cell_type": "code",
            "execution_count": 68,
            "metadata": {
                "ExecuteTime": {
                    "end_time": "2021-11-30T23:42:05.511478Z",
                    "start_time": "2021-11-30T23:42:05.503501Z"
                }
            },
            "outputs": [
                {
                    "name": "stdout",
                    "output_type": "stream",
                    "text": [
                        "['James Cameron', 'Denis Villeneuve', 'David Lynch', 'Ridley Scott', 'Todd Phillips', 'Ridley Scott', 'James Cameron']\n"
                    ]
                }
            ],
            "source": [
                "print(lista_diretor)"
            ]
        },
        {
            "cell_type": "code",
            "execution_count": 72,
            "metadata": {
                "ExecuteTime": {
                    "end_time": "2021-11-30T23:47:25.800427Z",
                    "start_time": "2021-11-30T23:47:25.774508Z"
                }
            },
            "outputs": [
                {
                    "data": {
                        "text/html": [
                            "<div>\n",
                            "<style scoped>\n",
                            "    .dataframe tbody tr th:only-of-type {\n",
                            "        vertical-align: middle;\n",
                            "    }\n",
                            "\n",
                            "    .dataframe tbody tr th {\n",
                            "        vertical-align: top;\n",
                            "    }\n",
                            "\n",
                            "    .dataframe thead th {\n",
                            "        text-align: right;\n",
                            "    }\n",
                            "</style>\n",
                            "<table border=\"1\" class=\"dataframe\">\n",
                            "  <thead>\n",
                            "    <tr style=\"text-align: right;\">\n",
                            "      <th></th>\n",
                            "      <th>notas</th>\n",
                            "      <th>elenco</th>\n",
                            "      <th>diretor</th>\n",
                            "    </tr>\n",
                            "  </thead>\n",
                            "  <tbody>\n",
                            "    <tr>\n",
                            "      <th>0</th>\n",
                            "      <td>7.8</td>\n",
                            "      <td>[Timothée Chalamet, Zendaya]</td>\n",
                            "      <td>Denis Villeneuve</td>\n",
                            "    </tr>\n",
                            "    <tr>\n",
                            "      <th>1</th>\n",
                            "      <td>8.2</td>\n",
                            "      <td>[Sting]</td>\n",
                            "      <td>David Lynch</td>\n",
                            "    </tr>\n",
                            "    <tr>\n",
                            "      <th>2</th>\n",
                            "      <td>6.4</td>\n",
                            "      <td>[Lady Gaga, Adam Driver, Al Pacino]</td>\n",
                            "      <td>Ridley Scott</td>\n",
                            "    </tr>\n",
                            "    <tr>\n",
                            "      <th>3</th>\n",
                            "      <td>7.0</td>\n",
                            "      <td>[Joaquin Phoenix]</td>\n",
                            "      <td>Todd Phillips</td>\n",
                            "    </tr>\n",
                            "    <tr>\n",
                            "      <th>4</th>\n",
                            "      <td>8.4</td>\n",
                            "      <td>[Sigourney Weaver, Ian Holm]</td>\n",
                            "      <td>Ridley Scott</td>\n",
                            "    </tr>\n",
                            "    <tr>\n",
                            "      <th>5</th>\n",
                            "      <td>8.4</td>\n",
                            "      <td>[Sigourney Weaver, Paul Reiser]</td>\n",
                            "      <td>James Cameron</td>\n",
                            "    </tr>\n",
                            "  </tbody>\n",
                            "</table>\n",
                            "</div>"
                        ],
                        "text/plain": [
                            "   notas                               elenco           diretor\n",
                            "0    7.8         [Timothée Chalamet, Zendaya]  Denis Villeneuve\n",
                            "1    8.2                              [Sting]       David Lynch\n",
                            "2    6.4  [Lady Gaga, Adam Driver, Al Pacino]      Ridley Scott\n",
                            "3    7.0                    [Joaquin Phoenix]     Todd Phillips\n",
                            "4    8.4         [Sigourney Weaver, Ian Holm]      Ridley Scott\n",
                            "5    8.4      [Sigourney Weaver, Paul Reiser]     James Cameron"
                        ]
                    },
                    "execution_count": 72,
                    "metadata": {},
                    "output_type": "execute_result"
                }
            ],
            "source": [
                "dict_listas = {'notas' : lista_notas,\n",
                "               'elenco' : lista_elenco[1:],\n",
                "               'diretor' : lista_diretor[1:]}\n",
                "pd.DataFrame(dict_listas)"
            ]
        },
        {
            "cell_type": "code",
            "execution_count": 73,
            "metadata": {
                "ExecuteTime": {
                    "end_time": "2021-11-30T23:48:17.447508Z",
                    "start_time": "2021-11-30T23:48:17.430532Z"
                }
            },
            "outputs": [
                {
                    "data": {
                        "text/html": [
                            "<div>\n",
                            "<style scoped>\n",
                            "    .dataframe tbody tr th:only-of-type {\n",
                            "        vertical-align: middle;\n",
                            "    }\n",
                            "\n",
                            "    .dataframe tbody tr th {\n",
                            "        vertical-align: top;\n",
                            "    }\n",
                            "\n",
                            "    .dataframe thead th {\n",
                            "        text-align: right;\n",
                            "    }\n",
                            "</style>\n",
                            "<table border=\"1\" class=\"dataframe\">\n",
                            "  <thead>\n",
                            "    <tr style=\"text-align: right;\">\n",
                            "      <th></th>\n",
                            "      <th>elenco</th>\n",
                            "      <th>diretor</th>\n",
                            "    </tr>\n",
                            "  </thead>\n",
                            "  <tbody>\n",
                            "    <tr>\n",
                            "      <th>0</th>\n",
                            "      <td>[Kate Winslet, Leonardo DiCaprio]</td>\n",
                            "      <td>James Cameron</td>\n",
                            "    </tr>\n",
                            "    <tr>\n",
                            "      <th>1</th>\n",
                            "      <td>[Timothée Chalamet, Zendaya]</td>\n",
                            "      <td>Denis Villeneuve</td>\n",
                            "    </tr>\n",
                            "    <tr>\n",
                            "      <th>2</th>\n",
                            "      <td>[Sting]</td>\n",
                            "      <td>David Lynch</td>\n",
                            "    </tr>\n",
                            "    <tr>\n",
                            "      <th>3</th>\n",
                            "      <td>[Lady Gaga, Adam Driver, Al Pacino]</td>\n",
                            "      <td>Ridley Scott</td>\n",
                            "    </tr>\n",
                            "    <tr>\n",
                            "      <th>4</th>\n",
                            "      <td>[Joaquin Phoenix]</td>\n",
                            "      <td>Todd Phillips</td>\n",
                            "    </tr>\n",
                            "    <tr>\n",
                            "      <th>5</th>\n",
                            "      <td>[Sigourney Weaver, Ian Holm]</td>\n",
                            "      <td>Ridley Scott</td>\n",
                            "    </tr>\n",
                            "    <tr>\n",
                            "      <th>6</th>\n",
                            "      <td>[Sigourney Weaver, Paul Reiser]</td>\n",
                            "      <td>James Cameron</td>\n",
                            "    </tr>\n",
                            "  </tbody>\n",
                            "</table>\n",
                            "</div>"
                        ],
                        "text/plain": [
                            "                                elenco           diretor\n",
                            "0    [Kate Winslet, Leonardo DiCaprio]     James Cameron\n",
                            "1         [Timothée Chalamet, Zendaya]  Denis Villeneuve\n",
                            "2                              [Sting]       David Lynch\n",
                            "3  [Lady Gaga, Adam Driver, Al Pacino]      Ridley Scott\n",
                            "4                    [Joaquin Phoenix]     Todd Phillips\n",
                            "5         [Sigourney Weaver, Ian Holm]      Ridley Scott\n",
                            "6      [Sigourney Weaver, Paul Reiser]     James Cameron"
                        ]
                    },
                    "execution_count": 73,
                    "metadata": {},
                    "output_type": "execute_result"
                }
            ],
            "source": [
                "dict_listas = {'elenco' : lista_elenco,\n",
                "               'diretor' : lista_diretor}\n",
                "pd.DataFrame(dict_listas)"
            ]
        },
        {
            "cell_type": "markdown",
            "metadata": {},
            "source": [
                "## 2.2 Some methods and attributes\n",
                "* `describe()`\n",
                "* `info()`\n",
                "* `transpose()`"
            ]
        },
        {
            "cell_type": "code",
            "execution_count": 74,
            "metadata": {
                "ExecuteTime": {
                    "end_time": "2021-11-30T23:50:54.698979Z",
                    "start_time": "2021-11-30T23:50:54.680003Z"
                }
            },
            "outputs": [
                {
                    "data": {
                        "text/html": [
                            "<div>\n",
                            "<style scoped>\n",
                            "    .dataframe tbody tr th:only-of-type {\n",
                            "        vertical-align: middle;\n",
                            "    }\n",
                            "\n",
                            "    .dataframe tbody tr th {\n",
                            "        vertical-align: top;\n",
                            "    }\n",
                            "\n",
                            "    .dataframe thead th {\n",
                            "        text-align: right;\n",
                            "    }\n",
                            "</style>\n",
                            "<table border=\"1\" class=\"dataframe\">\n",
                            "  <thead>\n",
                            "    <tr style=\"text-align: right;\">\n",
                            "      <th></th>\n",
                            "      <th>notas</th>\n",
                            "      <th>elenco</th>\n",
                            "      <th>diretor</th>\n",
                            "    </tr>\n",
                            "  </thead>\n",
                            "  <tbody>\n",
                            "    <tr>\n",
                            "      <th>Alien</th>\n",
                            "      <td>8.4</td>\n",
                            "      <td>[Sigourney Weaver, Ian Holm]</td>\n",
                            "      <td>Ridley Scott</td>\n",
                            "    </tr>\n",
                            "    <tr>\n",
                            "      <th>Aliens</th>\n",
                            "      <td>NaN</td>\n",
                            "      <td>[Sigourney Weaver, Paul Reiser]</td>\n",
                            "      <td>James Cameron</td>\n",
                            "    </tr>\n",
                            "    <tr>\n",
                            "      <th>Dune</th>\n",
                            "      <td>8.2</td>\n",
                            "      <td>[Timothée Chalamet, Zendaya]</td>\n",
                            "      <td>Denis Villeneuve</td>\n",
                            "    </tr>\n",
                            "    <tr>\n",
                            "      <th>Dune (David Lynch)</th>\n",
                            "      <td>6.4</td>\n",
                            "      <td>[Sting]</td>\n",
                            "      <td>David Lynch</td>\n",
                            "    </tr>\n",
                            "    <tr>\n",
                            "      <th>House of Gucci</th>\n",
                            "      <td>7.0</td>\n",
                            "      <td>[Lady Gaga, Adam Driver, Al Pacino]</td>\n",
                            "      <td>Ridley Scott</td>\n",
                            "    </tr>\n",
                            "    <tr>\n",
                            "      <th>Joker</th>\n",
                            "      <td>8.4</td>\n",
                            "      <td>[Joaquin Phoenix]</td>\n",
                            "      <td>Todd Phillips</td>\n",
                            "    </tr>\n",
                            "    <tr>\n",
                            "      <th>Titanic</th>\n",
                            "      <td>7.8</td>\n",
                            "      <td>[Kate Winslet, Leonardo DiCaprio]</td>\n",
                            "      <td>James Cameron</td>\n",
                            "    </tr>\n",
                            "  </tbody>\n",
                            "</table>\n",
                            "</div>"
                        ],
                        "text/plain": [
                            "                    notas                               elenco  \\\n",
                            "Alien                 8.4         [Sigourney Weaver, Ian Holm]   \n",
                            "Aliens                NaN      [Sigourney Weaver, Paul Reiser]   \n",
                            "Dune                  8.2         [Timothée Chalamet, Zendaya]   \n",
                            "Dune (David Lynch)    6.4                              [Sting]   \n",
                            "House of Gucci        7.0  [Lady Gaga, Adam Driver, Al Pacino]   \n",
                            "Joker                 8.4                    [Joaquin Phoenix]   \n",
                            "Titanic               7.8    [Kate Winslet, Leonardo DiCaprio]   \n",
                            "\n",
                            "                             diretor  \n",
                            "Alien                   Ridley Scott  \n",
                            "Aliens                 James Cameron  \n",
                            "Dune                Denis Villeneuve  \n",
                            "Dune (David Lynch)       David Lynch  \n",
                            "House of Gucci          Ridley Scott  \n",
                            "Joker                  Todd Phillips  \n",
                            "Titanic                James Cameron  "
                        ]
                    },
                    "execution_count": 74,
                    "metadata": {},
                    "output_type": "execute_result"
                }
            ],
            "source": [
                "tb_filmes = pd.DataFrame(dict_series)\n",
                "tb_filmes"
            ]
        },
        {
            "cell_type": "code",
            "execution_count": 75,
            "metadata": {
                "ExecuteTime": {
                    "end_time": "2021-11-30T23:50:57.727285Z",
                    "start_time": "2021-11-30T23:50:57.706215Z"
                }
            },
            "outputs": [
                {
                    "data": {
                        "text/html": [
                            "<div>\n",
                            "<style scoped>\n",
                            "    .dataframe tbody tr th:only-of-type {\n",
                            "        vertical-align: middle;\n",
                            "    }\n",
                            "\n",
                            "    .dataframe tbody tr th {\n",
                            "        vertical-align: top;\n",
                            "    }\n",
                            "\n",
                            "    .dataframe thead th {\n",
                            "        text-align: right;\n",
                            "    }\n",
                            "</style>\n",
                            "<table border=\"1\" class=\"dataframe\">\n",
                            "  <thead>\n",
                            "    <tr style=\"text-align: right;\">\n",
                            "      <th></th>\n",
                            "      <th>notas</th>\n",
                            "    </tr>\n",
                            "  </thead>\n",
                            "  <tbody>\n",
                            "    <tr>\n",
                            "      <th>count</th>\n",
                            "      <td>6.000000</td>\n",
                            "    </tr>\n",
                            "    <tr>\n",
                            "      <th>mean</th>\n",
                            "      <td>7.700000</td>\n",
                            "    </tr>\n",
                            "    <tr>\n",
                            "      <th>std</th>\n",
                            "      <td>0.827043</td>\n",
                            "    </tr>\n",
                            "    <tr>\n",
                            "      <th>min</th>\n",
                            "      <td>6.400000</td>\n",
                            "    </tr>\n",
                            "    <tr>\n",
                            "      <th>25%</th>\n",
                            "      <td>7.200000</td>\n",
                            "    </tr>\n",
                            "    <tr>\n",
                            "      <th>50%</th>\n",
                            "      <td>8.000000</td>\n",
                            "    </tr>\n",
                            "    <tr>\n",
                            "      <th>75%</th>\n",
                            "      <td>8.350000</td>\n",
                            "    </tr>\n",
                            "    <tr>\n",
                            "      <th>max</th>\n",
                            "      <td>8.400000</td>\n",
                            "    </tr>\n",
                            "  </tbody>\n",
                            "</table>\n",
                            "</div>"
                        ],
                        "text/plain": [
                            "          notas\n",
                            "count  6.000000\n",
                            "mean   7.700000\n",
                            "std    0.827043\n",
                            "min    6.400000\n",
                            "25%    7.200000\n",
                            "50%    8.000000\n",
                            "75%    8.350000\n",
                            "max    8.400000"
                        ]
                    },
                    "execution_count": 75,
                    "metadata": {},
                    "output_type": "execute_result"
                }
            ],
            "source": [
                "tb_filmes.describe()"
            ]
        },
        {
            "cell_type": "code",
            "execution_count": 76,
            "metadata": {
                "ExecuteTime": {
                    "end_time": "2021-11-30T23:51:21.397901Z",
                    "start_time": "2021-11-30T23:51:21.378302Z"
                }
            },
            "outputs": [
                {
                    "data": {
                        "text/html": [
                            "<div>\n",
                            "<style scoped>\n",
                            "    .dataframe tbody tr th:only-of-type {\n",
                            "        vertical-align: middle;\n",
                            "    }\n",
                            "\n",
                            "    .dataframe tbody tr th {\n",
                            "        vertical-align: top;\n",
                            "    }\n",
                            "\n",
                            "    .dataframe thead th {\n",
                            "        text-align: right;\n",
                            "    }\n",
                            "</style>\n",
                            "<table border=\"1\" class=\"dataframe\">\n",
                            "  <thead>\n",
                            "    <tr style=\"text-align: right;\">\n",
                            "      <th></th>\n",
                            "      <th>notas</th>\n",
                            "    </tr>\n",
                            "  </thead>\n",
                            "  <tbody>\n",
                            "    <tr>\n",
                            "      <th>count</th>\n",
                            "      <td>6.000000</td>\n",
                            "    </tr>\n",
                            "    <tr>\n",
                            "      <th>mean</th>\n",
                            "      <td>7.700000</td>\n",
                            "    </tr>\n",
                            "    <tr>\n",
                            "      <th>std</th>\n",
                            "      <td>0.827043</td>\n",
                            "    </tr>\n",
                            "    <tr>\n",
                            "      <th>min</th>\n",
                            "      <td>6.400000</td>\n",
                            "    </tr>\n",
                            "    <tr>\n",
                            "      <th>1%</th>\n",
                            "      <td>6.430000</td>\n",
                            "    </tr>\n",
                            "    <tr>\n",
                            "      <th>50%</th>\n",
                            "      <td>8.000000</td>\n",
                            "    </tr>\n",
                            "    <tr>\n",
                            "      <th>99%</th>\n",
                            "      <td>8.400000</td>\n",
                            "    </tr>\n",
                            "    <tr>\n",
                            "      <th>max</th>\n",
                            "      <td>8.400000</td>\n",
                            "    </tr>\n",
                            "  </tbody>\n",
                            "</table>\n",
                            "</div>"
                        ],
                        "text/plain": [
                            "          notas\n",
                            "count  6.000000\n",
                            "mean   7.700000\n",
                            "std    0.827043\n",
                            "min    6.400000\n",
                            "1%     6.430000\n",
                            "50%    8.000000\n",
                            "99%    8.400000\n",
                            "max    8.400000"
                        ]
                    },
                    "execution_count": 76,
                    "metadata": {},
                    "output_type": "execute_result"
                }
            ],
            "source": [
                "tb_filmes.describe(percentiles = [0.01, 0.99])"
            ]
        },
        {
            "cell_type": "code",
            "execution_count": 77,
            "metadata": {
                "ExecuteTime": {
                    "end_time": "2021-11-30T23:51:29.405609Z",
                    "start_time": "2021-11-30T23:51:29.383667Z"
                }
            },
            "outputs": [
                {
                    "name": "stdout",
                    "output_type": "stream",
                    "text": [
                        "<class 'pandas.core.frame.DataFrame'>\n",
                        "Index: 7 entries, Alien to Titanic\n",
                        "Data columns (total 3 columns):\n",
                        " #   Column   Non-Null Count  Dtype  \n",
                        "---  ------   --------------  -----  \n",
                        " 0   notas    6 non-null      float64\n",
                        " 1   elenco   7 non-null      object \n",
                        " 2   diretor  7 non-null      string \n",
                        "dtypes: float64(1), object(1), string(1)\n",
                        "memory usage: 224.0+ bytes\n"
                    ]
                }
            ],
            "source": [
                "tb_filmes.info()"
            ]
        },
        {
            "cell_type": "code",
            "execution_count": 78,
            "metadata": {
                "ExecuteTime": {
                    "end_time": "2021-11-30T23:52:09.564789Z",
                    "start_time": "2021-11-30T23:52:09.547833Z"
                }
            },
            "outputs": [
                {
                    "data": {
                        "text/html": [
                            "<div>\n",
                            "<style scoped>\n",
                            "    .dataframe tbody tr th:only-of-type {\n",
                            "        vertical-align: middle;\n",
                            "    }\n",
                            "\n",
                            "    .dataframe tbody tr th {\n",
                            "        vertical-align: top;\n",
                            "    }\n",
                            "\n",
                            "    .dataframe thead th {\n",
                            "        text-align: right;\n",
                            "    }\n",
                            "</style>\n",
                            "<table border=\"1\" class=\"dataframe\">\n",
                            "  <thead>\n",
                            "    <tr style=\"text-align: right;\">\n",
                            "      <th></th>\n",
                            "      <th>Alien</th>\n",
                            "      <th>Aliens</th>\n",
                            "      <th>Dune</th>\n",
                            "      <th>Dune (David Lynch)</th>\n",
                            "      <th>House of Gucci</th>\n",
                            "      <th>Joker</th>\n",
                            "      <th>Titanic</th>\n",
                            "    </tr>\n",
                            "  </thead>\n",
                            "  <tbody>\n",
                            "    <tr>\n",
                            "      <th>notas</th>\n",
                            "      <td>8.4</td>\n",
                            "      <td>NaN</td>\n",
                            "      <td>8.2</td>\n",
                            "      <td>6.4</td>\n",
                            "      <td>7.0</td>\n",
                            "      <td>8.4</td>\n",
                            "      <td>7.8</td>\n",
                            "    </tr>\n",
                            "    <tr>\n",
                            "      <th>elenco</th>\n",
                            "      <td>[Sigourney Weaver, Ian Holm]</td>\n",
                            "      <td>[Sigourney Weaver, Paul Reiser]</td>\n",
                            "      <td>[Timothée Chalamet, Zendaya]</td>\n",
                            "      <td>[Sting]</td>\n",
                            "      <td>[Lady Gaga, Adam Driver, Al Pacino]</td>\n",
                            "      <td>[Joaquin Phoenix]</td>\n",
                            "      <td>[Kate Winslet, Leonardo DiCaprio]</td>\n",
                            "    </tr>\n",
                            "    <tr>\n",
                            "      <th>diretor</th>\n",
                            "      <td>Ridley Scott</td>\n",
                            "      <td>James Cameron</td>\n",
                            "      <td>Denis Villeneuve</td>\n",
                            "      <td>David Lynch</td>\n",
                            "      <td>Ridley Scott</td>\n",
                            "      <td>Todd Phillips</td>\n",
                            "      <td>James Cameron</td>\n",
                            "    </tr>\n",
                            "  </tbody>\n",
                            "</table>\n",
                            "</div>"
                        ],
                        "text/plain": [
                            "                                Alien                           Aliens  \\\n",
                            "notas                             8.4                              NaN   \n",
                            "elenco   [Sigourney Weaver, Ian Holm]  [Sigourney Weaver, Paul Reiser]   \n",
                            "diretor                  Ridley Scott                    James Cameron   \n",
                            "\n",
                            "                                 Dune Dune (David Lynch)  \\\n",
                            "notas                             8.2                6.4   \n",
                            "elenco   [Timothée Chalamet, Zendaya]            [Sting]   \n",
                            "diretor              Denis Villeneuve        David Lynch   \n",
                            "\n",
                            "                              House of Gucci              Joker  \\\n",
                            "notas                                    7.0                8.4   \n",
                            "elenco   [Lady Gaga, Adam Driver, Al Pacino]  [Joaquin Phoenix]   \n",
                            "diretor                         Ridley Scott      Todd Phillips   \n",
                            "\n",
                            "                                   Titanic  \n",
                            "notas                                  7.8  \n",
                            "elenco   [Kate Winslet, Leonardo DiCaprio]  \n",
                            "diretor                      James Cameron  "
                        ]
                    },
                    "execution_count": 78,
                    "metadata": {},
                    "output_type": "execute_result"
                }
            ],
            "source": [
                "tb_filmes.transpose()"
            ]
        },
        {
            "cell_type": "markdown",
            "metadata": {},
            "source": [
                "## 2.3 Accessing elements \n",
                "\n",
                "These are the correct way to access data in a dataframe. You can specify both row and column. You can also specify only row."
            ]
        },
        {
            "cell_type": "markdown",
            "metadata": {
                "ExecuteTime": {
                    "end_time": "2020-07-29T17:52:37.678499Z",
                    "start_time": "2020-07-29T17:52:37.676498Z"
                }
            },
            "source": [
                "`dataframe.loc[row_name, col_name]`"
            ]
        },
        {
            "cell_type": "code",
            "execution_count": 79,
            "metadata": {
                "ExecuteTime": {
                    "end_time": "2021-11-30T23:53:53.755115Z",
                    "start_time": "2021-11-30T23:53:53.742149Z"
                }
            },
            "outputs": [
                {
                    "data": {
                        "text/plain": [
                            "8.4"
                        ]
                    },
                    "execution_count": 79,
                    "metadata": {},
                    "output_type": "execute_result"
                }
            ],
            "source": [
                "tb_filmes.loc['Alien', 'notas']"
            ]
        },
        {
            "cell_type": "code",
            "execution_count": 80,
            "metadata": {
                "ExecuteTime": {
                    "end_time": "2021-11-30T23:54:02.010512Z",
                    "start_time": "2021-11-30T23:54:01.990557Z"
                }
            },
            "outputs": [
                {
                    "data": {
                        "text/plain": [
                            "numpy.float64"
                        ]
                    },
                    "execution_count": 80,
                    "metadata": {},
                    "output_type": "execute_result"
                }
            ],
            "source": [
                "type(tb_filmes.loc['Alien', 'notas'])"
            ]
        },
        {
            "cell_type": "code",
            "execution_count": 81,
            "metadata": {
                "ExecuteTime": {
                    "end_time": "2021-11-30T23:54:24.277448Z",
                    "start_time": "2021-11-30T23:54:24.263508Z"
                }
            },
            "outputs": [
                {
                    "data": {
                        "text/plain": [
                            "notas                               8.4\n",
                            "elenco     [Sigourney Weaver, Ian Holm]\n",
                            "diretor                    Ridley Scott\n",
                            "Name: Alien, dtype: object"
                        ]
                    },
                    "execution_count": 81,
                    "metadata": {},
                    "output_type": "execute_result"
                }
            ],
            "source": [
                "tb_filmes.loc['Alien', :]"
            ]
        },
        {
            "cell_type": "code",
            "execution_count": 82,
            "metadata": {
                "ExecuteTime": {
                    "end_time": "2021-11-30T23:54:42.106697Z",
                    "start_time": "2021-11-30T23:54:42.086759Z"
                }
            },
            "outputs": [
                {
                    "data": {
                        "text/plain": [
                            "pandas.core.series.Series"
                        ]
                    },
                    "execution_count": 82,
                    "metadata": {},
                    "output_type": "execute_result"
                }
            ],
            "source": [
                "type(tb_filmes.loc['Alien', :])"
            ]
        },
        {
            "cell_type": "code",
            "execution_count": 83,
            "metadata": {
                "ExecuteTime": {
                    "end_time": "2021-11-30T23:55:07.238735Z",
                    "start_time": "2021-11-30T23:55:07.225761Z"
                }
            },
            "outputs": [
                {
                    "data": {
                        "text/plain": [
                            "Alien                 8.4\n",
                            "Aliens                NaN\n",
                            "Dune                  8.2\n",
                            "Dune (David Lynch)    6.4\n",
                            "House of Gucci        7.0\n",
                            "Joker                 8.4\n",
                            "Titanic               7.8\n",
                            "Name: notas, dtype: float64"
                        ]
                    },
                    "execution_count": 83,
                    "metadata": {},
                    "output_type": "execute_result"
                }
            ],
            "source": [
                "tb_filmes.loc[:, 'notas']"
            ]
        },
        {
            "cell_type": "code",
            "execution_count": 84,
            "metadata": {
                "ExecuteTime": {
                    "end_time": "2021-11-30T23:56:34.651767Z",
                    "start_time": "2021-11-30T23:56:34.636807Z"
                }
            },
            "outputs": [
                {
                    "data": {
                        "text/html": [
                            "<div>\n",
                            "<style scoped>\n",
                            "    .dataframe tbody tr th:only-of-type {\n",
                            "        vertical-align: middle;\n",
                            "    }\n",
                            "\n",
                            "    .dataframe tbody tr th {\n",
                            "        vertical-align: top;\n",
                            "    }\n",
                            "\n",
                            "    .dataframe thead th {\n",
                            "        text-align: right;\n",
                            "    }\n",
                            "</style>\n",
                            "<table border=\"1\" class=\"dataframe\">\n",
                            "  <thead>\n",
                            "    <tr style=\"text-align: right;\">\n",
                            "      <th></th>\n",
                            "      <th>notas</th>\n",
                            "      <th>elenco</th>\n",
                            "      <th>diretor</th>\n",
                            "    </tr>\n",
                            "  </thead>\n",
                            "  <tbody>\n",
                            "    <tr>\n",
                            "      <th>Alien</th>\n",
                            "      <td>8.4</td>\n",
                            "      <td>[Sigourney Weaver, Ian Holm]</td>\n",
                            "      <td>Ridley Scott</td>\n",
                            "    </tr>\n",
                            "    <tr>\n",
                            "      <th>Aliens</th>\n",
                            "      <td>NaN</td>\n",
                            "      <td>[Sigourney Weaver, Paul Reiser]</td>\n",
                            "      <td>James Cameron</td>\n",
                            "    </tr>\n",
                            "  </tbody>\n",
                            "</table>\n",
                            "</div>"
                        ],
                        "text/plain": [
                            "        notas                           elenco        diretor\n",
                            "Alien     8.4     [Sigourney Weaver, Ian Holm]   Ridley Scott\n",
                            "Aliens    NaN  [Sigourney Weaver, Paul Reiser]  James Cameron"
                        ]
                    },
                    "execution_count": 84,
                    "metadata": {},
                    "output_type": "execute_result"
                }
            ],
            "source": [
                "tb_filmes.loc[['Alien', 'Aliens'], :]"
            ]
        },
        {
            "cell_type": "code",
            "execution_count": 85,
            "metadata": {
                "ExecuteTime": {
                    "end_time": "2021-11-30T23:56:56.885777Z",
                    "start_time": "2021-11-30T23:56:56.866800Z"
                }
            },
            "outputs": [
                {
                    "data": {
                        "text/html": [
                            "<div>\n",
                            "<style scoped>\n",
                            "    .dataframe tbody tr th:only-of-type {\n",
                            "        vertical-align: middle;\n",
                            "    }\n",
                            "\n",
                            "    .dataframe tbody tr th {\n",
                            "        vertical-align: top;\n",
                            "    }\n",
                            "\n",
                            "    .dataframe thead th {\n",
                            "        text-align: right;\n",
                            "    }\n",
                            "</style>\n",
                            "<table border=\"1\" class=\"dataframe\">\n",
                            "  <thead>\n",
                            "    <tr style=\"text-align: right;\">\n",
                            "      <th></th>\n",
                            "      <th>notas</th>\n",
                            "      <th>elenco</th>\n",
                            "    </tr>\n",
                            "  </thead>\n",
                            "  <tbody>\n",
                            "    <tr>\n",
                            "      <th>Alien</th>\n",
                            "      <td>8.4</td>\n",
                            "      <td>[Sigourney Weaver, Ian Holm]</td>\n",
                            "    </tr>\n",
                            "    <tr>\n",
                            "      <th>Aliens</th>\n",
                            "      <td>NaN</td>\n",
                            "      <td>[Sigourney Weaver, Paul Reiser]</td>\n",
                            "    </tr>\n",
                            "    <tr>\n",
                            "      <th>Dune</th>\n",
                            "      <td>8.2</td>\n",
                            "      <td>[Timothée Chalamet, Zendaya]</td>\n",
                            "    </tr>\n",
                            "    <tr>\n",
                            "      <th>Dune (David Lynch)</th>\n",
                            "      <td>6.4</td>\n",
                            "      <td>[Sting]</td>\n",
                            "    </tr>\n",
                            "    <tr>\n",
                            "      <th>House of Gucci</th>\n",
                            "      <td>7.0</td>\n",
                            "      <td>[Lady Gaga, Adam Driver, Al Pacino]</td>\n",
                            "    </tr>\n",
                            "    <tr>\n",
                            "      <th>Joker</th>\n",
                            "      <td>8.4</td>\n",
                            "      <td>[Joaquin Phoenix]</td>\n",
                            "    </tr>\n",
                            "    <tr>\n",
                            "      <th>Titanic</th>\n",
                            "      <td>7.8</td>\n",
                            "      <td>[Kate Winslet, Leonardo DiCaprio]</td>\n",
                            "    </tr>\n",
                            "  </tbody>\n",
                            "</table>\n",
                            "</div>"
                        ],
                        "text/plain": [
                            "                    notas                               elenco\n",
                            "Alien                 8.4         [Sigourney Weaver, Ian Holm]\n",
                            "Aliens                NaN      [Sigourney Weaver, Paul Reiser]\n",
                            "Dune                  8.2         [Timothée Chalamet, Zendaya]\n",
                            "Dune (David Lynch)    6.4                              [Sting]\n",
                            "House of Gucci        7.0  [Lady Gaga, Adam Driver, Al Pacino]\n",
                            "Joker                 8.4                    [Joaquin Phoenix]\n",
                            "Titanic               7.8    [Kate Winslet, Leonardo DiCaprio]"
                        ]
                    },
                    "execution_count": 85,
                    "metadata": {},
                    "output_type": "execute_result"
                }
            ],
            "source": [
                "tb_filmes.loc[:, ['notas', 'elenco']]"
            ]
        },
        {
            "cell_type": "code",
            "execution_count": 86,
            "metadata": {
                "ExecuteTime": {
                    "end_time": "2021-11-30T23:57:20.069835Z",
                    "start_time": "2021-11-30T23:57:20.044877Z"
                }
            },
            "outputs": [
                {
                    "data": {
                        "text/html": [
                            "<div>\n",
                            "<style scoped>\n",
                            "    .dataframe tbody tr th:only-of-type {\n",
                            "        vertical-align: middle;\n",
                            "    }\n",
                            "\n",
                            "    .dataframe tbody tr th {\n",
                            "        vertical-align: top;\n",
                            "    }\n",
                            "\n",
                            "    .dataframe thead th {\n",
                            "        text-align: right;\n",
                            "    }\n",
                            "</style>\n",
                            "<table border=\"1\" class=\"dataframe\">\n",
                            "  <thead>\n",
                            "    <tr style=\"text-align: right;\">\n",
                            "      <th></th>\n",
                            "      <th>notas</th>\n",
                            "      <th>elenco</th>\n",
                            "      <th>diretor</th>\n",
                            "    </tr>\n",
                            "  </thead>\n",
                            "  <tbody>\n",
                            "    <tr>\n",
                            "      <th>Alien</th>\n",
                            "      <td>8.4</td>\n",
                            "      <td>[Sigourney Weaver, Ian Holm]</td>\n",
                            "      <td>Ridley Scott</td>\n",
                            "    </tr>\n",
                            "    <tr>\n",
                            "      <th>Aliens</th>\n",
                            "      <td>NaN</td>\n",
                            "      <td>[Sigourney Weaver, Paul Reiser]</td>\n",
                            "      <td>James Cameron</td>\n",
                            "    </tr>\n",
                            "    <tr>\n",
                            "      <th>Dune</th>\n",
                            "      <td>8.2</td>\n",
                            "      <td>[Timothée Chalamet, Zendaya]</td>\n",
                            "      <td>Denis Villeneuve</td>\n",
                            "    </tr>\n",
                            "  </tbody>\n",
                            "</table>\n",
                            "</div>"
                        ],
                        "text/plain": [
                            "        notas                           elenco           diretor\n",
                            "Alien     8.4     [Sigourney Weaver, Ian Holm]      Ridley Scott\n",
                            "Aliens    NaN  [Sigourney Weaver, Paul Reiser]     James Cameron\n",
                            "Dune      8.2     [Timothée Chalamet, Zendaya]  Denis Villeneuve"
                        ]
                    },
                    "execution_count": 86,
                    "metadata": {},
                    "output_type": "execute_result"
                }
            ],
            "source": [
                "tb_filmes.loc['Alien':'Dune', :]"
            ]
        },
        {
            "cell_type": "code",
            "execution_count": 88,
            "metadata": {
                "ExecuteTime": {
                    "end_time": "2021-11-30T23:58:04.636485Z",
                    "start_time": "2021-11-30T23:58:04.624530Z"
                }
            },
            "outputs": [
                {
                    "data": {
                        "text/html": [
                            "<div>\n",
                            "<style scoped>\n",
                            "    .dataframe tbody tr th:only-of-type {\n",
                            "        vertical-align: middle;\n",
                            "    }\n",
                            "\n",
                            "    .dataframe tbody tr th {\n",
                            "        vertical-align: top;\n",
                            "    }\n",
                            "\n",
                            "    .dataframe thead th {\n",
                            "        text-align: right;\n",
                            "    }\n",
                            "</style>\n",
                            "<table border=\"1\" class=\"dataframe\">\n",
                            "  <thead>\n",
                            "    <tr style=\"text-align: right;\">\n",
                            "      <th></th>\n",
                            "      <th>notas</th>\n",
                            "      <th>elenco</th>\n",
                            "    </tr>\n",
                            "  </thead>\n",
                            "  <tbody>\n",
                            "    <tr>\n",
                            "      <th>Alien</th>\n",
                            "      <td>8.4</td>\n",
                            "      <td>[Sigourney Weaver, Ian Holm]</td>\n",
                            "    </tr>\n",
                            "    <tr>\n",
                            "      <th>Aliens</th>\n",
                            "      <td>NaN</td>\n",
                            "      <td>[Sigourney Weaver, Paul Reiser]</td>\n",
                            "    </tr>\n",
                            "    <tr>\n",
                            "      <th>Dune</th>\n",
                            "      <td>8.2</td>\n",
                            "      <td>[Timothée Chalamet, Zendaya]</td>\n",
                            "    </tr>\n",
                            "  </tbody>\n",
                            "</table>\n",
                            "</div>"
                        ],
                        "text/plain": [
                            "        notas                           elenco\n",
                            "Alien     8.4     [Sigourney Weaver, Ian Holm]\n",
                            "Aliens    NaN  [Sigourney Weaver, Paul Reiser]\n",
                            "Dune      8.2     [Timothée Chalamet, Zendaya]"
                        ]
                    },
                    "execution_count": 88,
                    "metadata": {},
                    "output_type": "execute_result"
                }
            ],
            "source": [
                "tb_filmes.loc['Alien':'Dune', 'notas':'elenco']"
            ]
        },
        {
            "cell_type": "code",
            "execution_count": 89,
            "metadata": {
                "ExecuteTime": {
                    "end_time": "2021-12-01T00:00:29.820981Z",
                    "start_time": "2021-12-01T00:00:29.776072Z"
                }
            },
            "outputs": [
                {
                    "ename": "KeyError",
                    "evalue": "1",
                    "output_type": "error",
                    "traceback": [
                        "\u001b[1;31m---------------------------------------------------------------------------\u001b[0m",
                        "\u001b[1;31mKeyError\u001b[0m                                  Traceback (most recent call last)",
                        "\u001b[1;32mC:\\ProgramData\\Anaconda3\\lib\\site-packages\\pandas\\core\\indexes\\base.py\u001b[0m in \u001b[0;36mget_loc\u001b[1;34m(self, key, method, tolerance)\u001b[0m\n\u001b[0;32m   3079\u001b[0m             \u001b[1;32mtry\u001b[0m\u001b[1;33m:\u001b[0m\u001b[1;33m\u001b[0m\u001b[1;33m\u001b[0m\u001b[0m\n\u001b[1;32m-> 3080\u001b[1;33m                 \u001b[1;32mreturn\u001b[0m \u001b[0mself\u001b[0m\u001b[1;33m.\u001b[0m\u001b[0m_engine\u001b[0m\u001b[1;33m.\u001b[0m\u001b[0mget_loc\u001b[0m\u001b[1;33m(\u001b[0m\u001b[0mcasted_key\u001b[0m\u001b[1;33m)\u001b[0m\u001b[1;33m\u001b[0m\u001b[1;33m\u001b[0m\u001b[0m\n\u001b[0m\u001b[0;32m   3081\u001b[0m             \u001b[1;32mexcept\u001b[0m \u001b[0mKeyError\u001b[0m \u001b[1;32mas\u001b[0m \u001b[0merr\u001b[0m\u001b[1;33m:\u001b[0m\u001b[1;33m\u001b[0m\u001b[1;33m\u001b[0m\u001b[0m\n",
                        "\u001b[1;32mpandas\\_libs\\index.pyx\u001b[0m in \u001b[0;36mpandas._libs.index.IndexEngine.get_loc\u001b[1;34m()\u001b[0m\n",
                        "\u001b[1;32mpandas\\_libs\\index.pyx\u001b[0m in \u001b[0;36mpandas._libs.index.IndexEngine.get_loc\u001b[1;34m()\u001b[0m\n",
                        "\u001b[1;32mpandas\\_libs\\hashtable_class_helper.pxi\u001b[0m in \u001b[0;36mpandas._libs.hashtable.PyObjectHashTable.get_item\u001b[1;34m()\u001b[0m\n",
                        "\u001b[1;32mpandas\\_libs\\hashtable_class_helper.pxi\u001b[0m in \u001b[0;36mpandas._libs.hashtable.PyObjectHashTable.get_item\u001b[1;34m()\u001b[0m\n",
                        "\u001b[1;31mKeyError\u001b[0m: 1",
                        "\nThe above exception was the direct cause of the following exception:\n",
                        "\u001b[1;31mKeyError\u001b[0m                                  Traceback (most recent call last)",
                        "\u001b[1;32m<ipython-input-89-9145211171a1>\u001b[0m in \u001b[0;36m<module>\u001b[1;34m\u001b[0m\n\u001b[1;32m----> 1\u001b[1;33m \u001b[0mtb_filmes\u001b[0m\u001b[1;33m.\u001b[0m\u001b[0mloc\u001b[0m\u001b[1;33m[\u001b[0m\u001b[1;33m[\u001b[0m\u001b[1;34m'Alien'\u001b[0m\u001b[1;33m,\u001b[0m \u001b[1;34m'Titanic'\u001b[0m\u001b[1;33m]\u001b[0m\u001b[1;33m,\u001b[0m \u001b[1;36m1\u001b[0m\u001b[1;33m]\u001b[0m\u001b[1;33m\u001b[0m\u001b[1;33m\u001b[0m\u001b[0m\n\u001b[0m",
                        "\u001b[1;32mC:\\ProgramData\\Anaconda3\\lib\\site-packages\\pandas\\core\\indexing.py\u001b[0m in \u001b[0;36m__getitem__\u001b[1;34m(self, key)\u001b[0m\n\u001b[0;32m    887\u001b[0m                     \u001b[1;31m# AttributeError for IntervalTree get_value\u001b[0m\u001b[1;33m\u001b[0m\u001b[1;33m\u001b[0m\u001b[1;33m\u001b[0m\u001b[0m\n\u001b[0;32m    888\u001b[0m                     \u001b[1;32mreturn\u001b[0m \u001b[0mself\u001b[0m\u001b[1;33m.\u001b[0m\u001b[0mobj\u001b[0m\u001b[1;33m.\u001b[0m\u001b[0m_get_value\u001b[0m\u001b[1;33m(\u001b[0m\u001b[1;33m*\u001b[0m\u001b[0mkey\u001b[0m\u001b[1;33m,\u001b[0m \u001b[0mtakeable\u001b[0m\u001b[1;33m=\u001b[0m\u001b[0mself\u001b[0m\u001b[1;33m.\u001b[0m\u001b[0m_takeable\u001b[0m\u001b[1;33m)\u001b[0m\u001b[1;33m\u001b[0m\u001b[1;33m\u001b[0m\u001b[0m\n\u001b[1;32m--> 889\u001b[1;33m             \u001b[1;32mreturn\u001b[0m \u001b[0mself\u001b[0m\u001b[1;33m.\u001b[0m\u001b[0m_getitem_tuple\u001b[0m\u001b[1;33m(\u001b[0m\u001b[0mkey\u001b[0m\u001b[1;33m)\u001b[0m\u001b[1;33m\u001b[0m\u001b[1;33m\u001b[0m\u001b[0m\n\u001b[0m\u001b[0;32m    890\u001b[0m         \u001b[1;32melse\u001b[0m\u001b[1;33m:\u001b[0m\u001b[1;33m\u001b[0m\u001b[1;33m\u001b[0m\u001b[0m\n\u001b[0;32m    891\u001b[0m             \u001b[1;31m# we by definition only have the 0th axis\u001b[0m\u001b[1;33m\u001b[0m\u001b[1;33m\u001b[0m\u001b[1;33m\u001b[0m\u001b[0m\n",
                        "\u001b[1;32mC:\\ProgramData\\Anaconda3\\lib\\site-packages\\pandas\\core\\indexing.py\u001b[0m in \u001b[0;36m_getitem_tuple\u001b[1;34m(self, tup)\u001b[0m\n\u001b[0;32m   1058\u001b[0m     \u001b[1;32mdef\u001b[0m \u001b[0m_getitem_tuple\u001b[0m\u001b[1;33m(\u001b[0m\u001b[0mself\u001b[0m\u001b[1;33m,\u001b[0m \u001b[0mtup\u001b[0m\u001b[1;33m:\u001b[0m \u001b[0mTuple\u001b[0m\u001b[1;33m)\u001b[0m\u001b[1;33m:\u001b[0m\u001b[1;33m\u001b[0m\u001b[1;33m\u001b[0m\u001b[0m\n\u001b[0;32m   1059\u001b[0m         \u001b[1;32mwith\u001b[0m \u001b[0msuppress\u001b[0m\u001b[1;33m(\u001b[0m\u001b[0mIndexingError\u001b[0m\u001b[1;33m)\u001b[0m\u001b[1;33m:\u001b[0m\u001b[1;33m\u001b[0m\u001b[1;33m\u001b[0m\u001b[0m\n\u001b[1;32m-> 1060\u001b[1;33m             \u001b[1;32mreturn\u001b[0m \u001b[0mself\u001b[0m\u001b[1;33m.\u001b[0m\u001b[0m_getitem_lowerdim\u001b[0m\u001b[1;33m(\u001b[0m\u001b[0mtup\u001b[0m\u001b[1;33m)\u001b[0m\u001b[1;33m\u001b[0m\u001b[1;33m\u001b[0m\u001b[0m\n\u001b[0m\u001b[0;32m   1061\u001b[0m \u001b[1;33m\u001b[0m\u001b[0m\n\u001b[0;32m   1062\u001b[0m         \u001b[1;31m# no multi-index, so validate all of the indexers\u001b[0m\u001b[1;33m\u001b[0m\u001b[1;33m\u001b[0m\u001b[1;33m\u001b[0m\u001b[0m\n",
                        "\u001b[1;32mC:\\ProgramData\\Anaconda3\\lib\\site-packages\\pandas\\core\\indexing.py\u001b[0m in \u001b[0;36m_getitem_lowerdim\u001b[1;34m(self, tup)\u001b[0m\n\u001b[0;32m    805\u001b[0m                 \u001b[1;31m# We don't need to check for tuples here because those are\u001b[0m\u001b[1;33m\u001b[0m\u001b[1;33m\u001b[0m\u001b[1;33m\u001b[0m\u001b[0m\n\u001b[0;32m    806\u001b[0m                 \u001b[1;31m#  caught by the _is_nested_tuple_indexer check above.\u001b[0m\u001b[1;33m\u001b[0m\u001b[1;33m\u001b[0m\u001b[1;33m\u001b[0m\u001b[0m\n\u001b[1;32m--> 807\u001b[1;33m                 \u001b[0msection\u001b[0m \u001b[1;33m=\u001b[0m \u001b[0mself\u001b[0m\u001b[1;33m.\u001b[0m\u001b[0m_getitem_axis\u001b[0m\u001b[1;33m(\u001b[0m\u001b[0mkey\u001b[0m\u001b[1;33m,\u001b[0m \u001b[0maxis\u001b[0m\u001b[1;33m=\u001b[0m\u001b[0mi\u001b[0m\u001b[1;33m)\u001b[0m\u001b[1;33m\u001b[0m\u001b[1;33m\u001b[0m\u001b[0m\n\u001b[0m\u001b[0;32m    808\u001b[0m \u001b[1;33m\u001b[0m\u001b[0m\n\u001b[0;32m    809\u001b[0m                 \u001b[1;31m# We should never have a scalar section here, because\u001b[0m\u001b[1;33m\u001b[0m\u001b[1;33m\u001b[0m\u001b[1;33m\u001b[0m\u001b[0m\n",
                        "\u001b[1;32mC:\\ProgramData\\Anaconda3\\lib\\site-packages\\pandas\\core\\indexing.py\u001b[0m in \u001b[0;36m_getitem_axis\u001b[1;34m(self, key, axis)\u001b[0m\n\u001b[0;32m   1122\u001b[0m         \u001b[1;31m# fall thru to straight lookup\u001b[0m\u001b[1;33m\u001b[0m\u001b[1;33m\u001b[0m\u001b[1;33m\u001b[0m\u001b[0m\n\u001b[0;32m   1123\u001b[0m         \u001b[0mself\u001b[0m\u001b[1;33m.\u001b[0m\u001b[0m_validate_key\u001b[0m\u001b[1;33m(\u001b[0m\u001b[0mkey\u001b[0m\u001b[1;33m,\u001b[0m \u001b[0maxis\u001b[0m\u001b[1;33m)\u001b[0m\u001b[1;33m\u001b[0m\u001b[1;33m\u001b[0m\u001b[0m\n\u001b[1;32m-> 1124\u001b[1;33m         \u001b[1;32mreturn\u001b[0m \u001b[0mself\u001b[0m\u001b[1;33m.\u001b[0m\u001b[0m_get_label\u001b[0m\u001b[1;33m(\u001b[0m\u001b[0mkey\u001b[0m\u001b[1;33m,\u001b[0m \u001b[0maxis\u001b[0m\u001b[1;33m=\u001b[0m\u001b[0maxis\u001b[0m\u001b[1;33m)\u001b[0m\u001b[1;33m\u001b[0m\u001b[1;33m\u001b[0m\u001b[0m\n\u001b[0m\u001b[0;32m   1125\u001b[0m \u001b[1;33m\u001b[0m\u001b[0m\n\u001b[0;32m   1126\u001b[0m     \u001b[1;32mdef\u001b[0m \u001b[0m_get_slice_axis\u001b[0m\u001b[1;33m(\u001b[0m\u001b[0mself\u001b[0m\u001b[1;33m,\u001b[0m \u001b[0mslice_obj\u001b[0m\u001b[1;33m:\u001b[0m \u001b[0mslice\u001b[0m\u001b[1;33m,\u001b[0m \u001b[0maxis\u001b[0m\u001b[1;33m:\u001b[0m \u001b[0mint\u001b[0m\u001b[1;33m)\u001b[0m\u001b[1;33m:\u001b[0m\u001b[1;33m\u001b[0m\u001b[1;33m\u001b[0m\u001b[0m\n",
                        "\u001b[1;32mC:\\ProgramData\\Anaconda3\\lib\\site-packages\\pandas\\core\\indexing.py\u001b[0m in \u001b[0;36m_get_label\u001b[1;34m(self, label, axis)\u001b[0m\n\u001b[0;32m   1071\u001b[0m     \u001b[1;32mdef\u001b[0m \u001b[0m_get_label\u001b[0m\u001b[1;33m(\u001b[0m\u001b[0mself\u001b[0m\u001b[1;33m,\u001b[0m \u001b[0mlabel\u001b[0m\u001b[1;33m,\u001b[0m \u001b[0maxis\u001b[0m\u001b[1;33m:\u001b[0m \u001b[0mint\u001b[0m\u001b[1;33m)\u001b[0m\u001b[1;33m:\u001b[0m\u001b[1;33m\u001b[0m\u001b[1;33m\u001b[0m\u001b[0m\n\u001b[0;32m   1072\u001b[0m         \u001b[1;31m# GH#5667 this will fail if the label is not present in the axis.\u001b[0m\u001b[1;33m\u001b[0m\u001b[1;33m\u001b[0m\u001b[1;33m\u001b[0m\u001b[0m\n\u001b[1;32m-> 1073\u001b[1;33m         \u001b[1;32mreturn\u001b[0m \u001b[0mself\u001b[0m\u001b[1;33m.\u001b[0m\u001b[0mobj\u001b[0m\u001b[1;33m.\u001b[0m\u001b[0mxs\u001b[0m\u001b[1;33m(\u001b[0m\u001b[0mlabel\u001b[0m\u001b[1;33m,\u001b[0m \u001b[0maxis\u001b[0m\u001b[1;33m=\u001b[0m\u001b[0maxis\u001b[0m\u001b[1;33m)\u001b[0m\u001b[1;33m\u001b[0m\u001b[1;33m\u001b[0m\u001b[0m\n\u001b[0m\u001b[0;32m   1074\u001b[0m \u001b[1;33m\u001b[0m\u001b[0m\n\u001b[0;32m   1075\u001b[0m     \u001b[1;32mdef\u001b[0m \u001b[0m_handle_lowerdim_multi_index_axis0\u001b[0m\u001b[1;33m(\u001b[0m\u001b[0mself\u001b[0m\u001b[1;33m,\u001b[0m \u001b[0mtup\u001b[0m\u001b[1;33m:\u001b[0m \u001b[0mTuple\u001b[0m\u001b[1;33m)\u001b[0m\u001b[1;33m:\u001b[0m\u001b[1;33m\u001b[0m\u001b[1;33m\u001b[0m\u001b[0m\n",
                        "\u001b[1;32mC:\\ProgramData\\Anaconda3\\lib\\site-packages\\pandas\\core\\generic.py\u001b[0m in \u001b[0;36mxs\u001b[1;34m(self, key, axis, level, drop_level)\u001b[0m\n\u001b[0;32m   3722\u001b[0m         \u001b[1;32mif\u001b[0m \u001b[0maxis\u001b[0m \u001b[1;33m==\u001b[0m \u001b[1;36m1\u001b[0m\u001b[1;33m:\u001b[0m\u001b[1;33m\u001b[0m\u001b[1;33m\u001b[0m\u001b[0m\n\u001b[0;32m   3723\u001b[0m             \u001b[1;32mif\u001b[0m \u001b[0mdrop_level\u001b[0m\u001b[1;33m:\u001b[0m\u001b[1;33m\u001b[0m\u001b[1;33m\u001b[0m\u001b[0m\n\u001b[1;32m-> 3724\u001b[1;33m                 \u001b[1;32mreturn\u001b[0m \u001b[0mself\u001b[0m\u001b[1;33m[\u001b[0m\u001b[0mkey\u001b[0m\u001b[1;33m]\u001b[0m\u001b[1;33m\u001b[0m\u001b[1;33m\u001b[0m\u001b[0m\n\u001b[0m\u001b[0;32m   3725\u001b[0m             \u001b[0mindex\u001b[0m \u001b[1;33m=\u001b[0m \u001b[0mself\u001b[0m\u001b[1;33m.\u001b[0m\u001b[0mcolumns\u001b[0m\u001b[1;33m\u001b[0m\u001b[1;33m\u001b[0m\u001b[0m\n\u001b[0;32m   3726\u001b[0m         \u001b[1;32melse\u001b[0m\u001b[1;33m:\u001b[0m\u001b[1;33m\u001b[0m\u001b[1;33m\u001b[0m\u001b[0m\n",
                        "\u001b[1;32mC:\\ProgramData\\Anaconda3\\lib\\site-packages\\pandas\\core\\frame.py\u001b[0m in \u001b[0;36m__getitem__\u001b[1;34m(self, key)\u001b[0m\n\u001b[0;32m   3022\u001b[0m             \u001b[1;32mif\u001b[0m \u001b[0mself\u001b[0m\u001b[1;33m.\u001b[0m\u001b[0mcolumns\u001b[0m\u001b[1;33m.\u001b[0m\u001b[0mnlevels\u001b[0m \u001b[1;33m>\u001b[0m \u001b[1;36m1\u001b[0m\u001b[1;33m:\u001b[0m\u001b[1;33m\u001b[0m\u001b[1;33m\u001b[0m\u001b[0m\n\u001b[0;32m   3023\u001b[0m                 \u001b[1;32mreturn\u001b[0m \u001b[0mself\u001b[0m\u001b[1;33m.\u001b[0m\u001b[0m_getitem_multilevel\u001b[0m\u001b[1;33m(\u001b[0m\u001b[0mkey\u001b[0m\u001b[1;33m)\u001b[0m\u001b[1;33m\u001b[0m\u001b[1;33m\u001b[0m\u001b[0m\n\u001b[1;32m-> 3024\u001b[1;33m             \u001b[0mindexer\u001b[0m \u001b[1;33m=\u001b[0m \u001b[0mself\u001b[0m\u001b[1;33m.\u001b[0m\u001b[0mcolumns\u001b[0m\u001b[1;33m.\u001b[0m\u001b[0mget_loc\u001b[0m\u001b[1;33m(\u001b[0m\u001b[0mkey\u001b[0m\u001b[1;33m)\u001b[0m\u001b[1;33m\u001b[0m\u001b[1;33m\u001b[0m\u001b[0m\n\u001b[0m\u001b[0;32m   3025\u001b[0m             \u001b[1;32mif\u001b[0m \u001b[0mis_integer\u001b[0m\u001b[1;33m(\u001b[0m\u001b[0mindexer\u001b[0m\u001b[1;33m)\u001b[0m\u001b[1;33m:\u001b[0m\u001b[1;33m\u001b[0m\u001b[1;33m\u001b[0m\u001b[0m\n\u001b[0;32m   3026\u001b[0m                 \u001b[0mindexer\u001b[0m \u001b[1;33m=\u001b[0m \u001b[1;33m[\u001b[0m\u001b[0mindexer\u001b[0m\u001b[1;33m]\u001b[0m\u001b[1;33m\u001b[0m\u001b[1;33m\u001b[0m\u001b[0m\n",
                        "\u001b[1;32mC:\\ProgramData\\Anaconda3\\lib\\site-packages\\pandas\\core\\indexes\\base.py\u001b[0m in \u001b[0;36mget_loc\u001b[1;34m(self, key, method, tolerance)\u001b[0m\n\u001b[0;32m   3080\u001b[0m                 \u001b[1;32mreturn\u001b[0m \u001b[0mself\u001b[0m\u001b[1;33m.\u001b[0m\u001b[0m_engine\u001b[0m\u001b[1;33m.\u001b[0m\u001b[0mget_loc\u001b[0m\u001b[1;33m(\u001b[0m\u001b[0mcasted_key\u001b[0m\u001b[1;33m)\u001b[0m\u001b[1;33m\u001b[0m\u001b[1;33m\u001b[0m\u001b[0m\n\u001b[0;32m   3081\u001b[0m             \u001b[1;32mexcept\u001b[0m \u001b[0mKeyError\u001b[0m \u001b[1;32mas\u001b[0m \u001b[0merr\u001b[0m\u001b[1;33m:\u001b[0m\u001b[1;33m\u001b[0m\u001b[1;33m\u001b[0m\u001b[0m\n\u001b[1;32m-> 3082\u001b[1;33m                 \u001b[1;32mraise\u001b[0m \u001b[0mKeyError\u001b[0m\u001b[1;33m(\u001b[0m\u001b[0mkey\u001b[0m\u001b[1;33m)\u001b[0m \u001b[1;32mfrom\u001b[0m \u001b[0merr\u001b[0m\u001b[1;33m\u001b[0m\u001b[1;33m\u001b[0m\u001b[0m\n\u001b[0m\u001b[0;32m   3083\u001b[0m \u001b[1;33m\u001b[0m\u001b[0m\n\u001b[0;32m   3084\u001b[0m         \u001b[1;32mif\u001b[0m \u001b[0mtolerance\u001b[0m \u001b[1;32mis\u001b[0m \u001b[1;32mnot\u001b[0m \u001b[1;32mNone\u001b[0m\u001b[1;33m:\u001b[0m\u001b[1;33m\u001b[0m\u001b[1;33m\u001b[0m\u001b[0m\n",
                        "\u001b[1;31mKeyError\u001b[0m: 1"
                    ]
                }
            ],
            "source": [
                "tb_filmes.loc[['Alien', 'Titanic'], 1]"
            ]
        },
        {
            "cell_type": "markdown",
            "metadata": {},
            "source": [
                "`dataframe.iloc[row_number, col_number]`"
            ]
        },
        {
            "cell_type": "code",
            "execution_count": 90,
            "metadata": {
                "ExecuteTime": {
                    "end_time": "2021-12-01T00:01:02.368538Z",
                    "start_time": "2021-12-01T00:01:02.354546Z"
                }
            },
            "outputs": [
                {
                    "data": {
                        "text/plain": [
                            "8.4"
                        ]
                    },
                    "execution_count": 90,
                    "metadata": {},
                    "output_type": "execute_result"
                }
            ],
            "source": [
                "tb_filmes.iloc[0, 0]"
            ]
        },
        {
            "cell_type": "code",
            "execution_count": 91,
            "metadata": {
                "ExecuteTime": {
                    "end_time": "2021-12-01T00:01:13.226810Z",
                    "start_time": "2021-12-01T00:01:13.209855Z"
                }
            },
            "outputs": [
                {
                    "data": {
                        "text/plain": [
                            "notas                               8.4\n",
                            "elenco     [Sigourney Weaver, Ian Holm]\n",
                            "diretor                    Ridley Scott\n",
                            "Name: Alien, dtype: object"
                        ]
                    },
                    "execution_count": 91,
                    "metadata": {},
                    "output_type": "execute_result"
                }
            ],
            "source": [
                "tb_filmes.iloc[0, :]"
            ]
        },
        {
            "cell_type": "code",
            "execution_count": 92,
            "metadata": {
                "ExecuteTime": {
                    "end_time": "2021-12-01T00:01:18.433763Z",
                    "start_time": "2021-12-01T00:01:18.414840Z"
                }
            },
            "outputs": [
                {
                    "data": {
                        "text/plain": [
                            "Alien                 8.4\n",
                            "Aliens                NaN\n",
                            "Dune                  8.2\n",
                            "Dune (David Lynch)    6.4\n",
                            "House of Gucci        7.0\n",
                            "Joker                 8.4\n",
                            "Titanic               7.8\n",
                            "Name: notas, dtype: float64"
                        ]
                    },
                    "execution_count": 92,
                    "metadata": {},
                    "output_type": "execute_result"
                }
            ],
            "source": [
                "tb_filmes.iloc[:, 0]"
            ]
        },
        {
            "cell_type": "code",
            "execution_count": 93,
            "metadata": {
                "ExecuteTime": {
                    "end_time": "2021-12-01T00:01:37.473151Z",
                    "start_time": "2021-12-01T00:01:37.463177Z"
                }
            },
            "outputs": [
                {
                    "data": {
                        "text/plain": [
                            "Alien                 8.4\n",
                            "Aliens                NaN\n",
                            "Dune                  8.2\n",
                            "Dune (David Lynch)    6.4\n",
                            "House of Gucci        7.0\n",
                            "Joker                 8.4\n",
                            "Titanic               7.8\n",
                            "Name: notas, dtype: float64"
                        ]
                    },
                    "execution_count": 93,
                    "metadata": {},
                    "output_type": "execute_result"
                }
            ],
            "source": [
                "tb_filmes.iloc[:, 0]"
            ]
        },
        {
            "cell_type": "code",
            "execution_count": 94,
            "metadata": {
                "ExecuteTime": {
                    "end_time": "2021-12-01T00:01:46.399958Z",
                    "start_time": "2021-12-01T00:01:46.384997Z"
                }
            },
            "outputs": [
                {
                    "data": {
                        "text/html": [
                            "<div>\n",
                            "<style scoped>\n",
                            "    .dataframe tbody tr th:only-of-type {\n",
                            "        vertical-align: middle;\n",
                            "    }\n",
                            "\n",
                            "    .dataframe tbody tr th {\n",
                            "        vertical-align: top;\n",
                            "    }\n",
                            "\n",
                            "    .dataframe thead th {\n",
                            "        text-align: right;\n",
                            "    }\n",
                            "</style>\n",
                            "<table border=\"1\" class=\"dataframe\">\n",
                            "  <thead>\n",
                            "    <tr style=\"text-align: right;\">\n",
                            "      <th></th>\n",
                            "      <th>notas</th>\n",
                            "      <th>elenco</th>\n",
                            "    </tr>\n",
                            "  </thead>\n",
                            "  <tbody>\n",
                            "    <tr>\n",
                            "      <th>Alien</th>\n",
                            "      <td>8.4</td>\n",
                            "      <td>[Sigourney Weaver, Ian Holm]</td>\n",
                            "    </tr>\n",
                            "    <tr>\n",
                            "      <th>Aliens</th>\n",
                            "      <td>NaN</td>\n",
                            "      <td>[Sigourney Weaver, Paul Reiser]</td>\n",
                            "    </tr>\n",
                            "    <tr>\n",
                            "      <th>Dune</th>\n",
                            "      <td>8.2</td>\n",
                            "      <td>[Timothée Chalamet, Zendaya]</td>\n",
                            "    </tr>\n",
                            "    <tr>\n",
                            "      <th>Dune (David Lynch)</th>\n",
                            "      <td>6.4</td>\n",
                            "      <td>[Sting]</td>\n",
                            "    </tr>\n",
                            "    <tr>\n",
                            "      <th>House of Gucci</th>\n",
                            "      <td>7.0</td>\n",
                            "      <td>[Lady Gaga, Adam Driver, Al Pacino]</td>\n",
                            "    </tr>\n",
                            "    <tr>\n",
                            "      <th>Joker</th>\n",
                            "      <td>8.4</td>\n",
                            "      <td>[Joaquin Phoenix]</td>\n",
                            "    </tr>\n",
                            "    <tr>\n",
                            "      <th>Titanic</th>\n",
                            "      <td>7.8</td>\n",
                            "      <td>[Kate Winslet, Leonardo DiCaprio]</td>\n",
                            "    </tr>\n",
                            "  </tbody>\n",
                            "</table>\n",
                            "</div>"
                        ],
                        "text/plain": [
                            "                    notas                               elenco\n",
                            "Alien                 8.4         [Sigourney Weaver, Ian Holm]\n",
                            "Aliens                NaN      [Sigourney Weaver, Paul Reiser]\n",
                            "Dune                  8.2         [Timothée Chalamet, Zendaya]\n",
                            "Dune (David Lynch)    6.4                              [Sting]\n",
                            "House of Gucci        7.0  [Lady Gaga, Adam Driver, Al Pacino]\n",
                            "Joker                 8.4                    [Joaquin Phoenix]\n",
                            "Titanic               7.8    [Kate Winslet, Leonardo DiCaprio]"
                        ]
                    },
                    "execution_count": 94,
                    "metadata": {},
                    "output_type": "execute_result"
                }
            ],
            "source": [
                "tb_filmes.iloc[:, [0, 1]]"
            ]
        },
        {
            "cell_type": "code",
            "execution_count": 95,
            "metadata": {
                "ExecuteTime": {
                    "end_time": "2021-12-01T00:01:53.673131Z",
                    "start_time": "2021-12-01T00:01:53.659140Z"
                }
            },
            "outputs": [
                {
                    "data": {
                        "text/html": [
                            "<div>\n",
                            "<style scoped>\n",
                            "    .dataframe tbody tr th:only-of-type {\n",
                            "        vertical-align: middle;\n",
                            "    }\n",
                            "\n",
                            "    .dataframe tbody tr th {\n",
                            "        vertical-align: top;\n",
                            "    }\n",
                            "\n",
                            "    .dataframe thead th {\n",
                            "        text-align: right;\n",
                            "    }\n",
                            "</style>\n",
                            "<table border=\"1\" class=\"dataframe\">\n",
                            "  <thead>\n",
                            "    <tr style=\"text-align: right;\">\n",
                            "      <th></th>\n",
                            "      <th>notas</th>\n",
                            "      <th>elenco</th>\n",
                            "      <th>diretor</th>\n",
                            "    </tr>\n",
                            "  </thead>\n",
                            "  <tbody>\n",
                            "    <tr>\n",
                            "      <th>Alien</th>\n",
                            "      <td>8.4</td>\n",
                            "      <td>[Sigourney Weaver, Ian Holm]</td>\n",
                            "      <td>Ridley Scott</td>\n",
                            "    </tr>\n",
                            "    <tr>\n",
                            "      <th>Aliens</th>\n",
                            "      <td>NaN</td>\n",
                            "      <td>[Sigourney Weaver, Paul Reiser]</td>\n",
                            "      <td>James Cameron</td>\n",
                            "    </tr>\n",
                            "    <tr>\n",
                            "      <th>Dune</th>\n",
                            "      <td>8.2</td>\n",
                            "      <td>[Timothée Chalamet, Zendaya]</td>\n",
                            "      <td>Denis Villeneuve</td>\n",
                            "    </tr>\n",
                            "  </tbody>\n",
                            "</table>\n",
                            "</div>"
                        ],
                        "text/plain": [
                            "        notas                           elenco           diretor\n",
                            "Alien     8.4     [Sigourney Weaver, Ian Holm]      Ridley Scott\n",
                            "Aliens    NaN  [Sigourney Weaver, Paul Reiser]     James Cameron\n",
                            "Dune      8.2     [Timothée Chalamet, Zendaya]  Denis Villeneuve"
                        ]
                    },
                    "execution_count": 95,
                    "metadata": {},
                    "output_type": "execute_result"
                }
            ],
            "source": [
                "tb_filmes.iloc[0:3, :]"
            ]
        },
        {
            "cell_type": "code",
            "execution_count": 96,
            "metadata": {
                "ExecuteTime": {
                    "end_time": "2021-12-01T00:05:08.009242Z",
                    "start_time": "2021-12-01T00:05:07.986324Z"
                }
            },
            "outputs": [
                {
                    "ename": "ValueError",
                    "evalue": "Location based indexing can only have [integer, integer slice (START point is INCLUDED, END point is EXCLUDED), listlike of integers, boolean array] types",
                    "output_type": "error",
                    "traceback": [
                        "\u001b[1;31m---------------------------------------------------------------------------\u001b[0m",
                        "\u001b[1;31mValueError\u001b[0m                                Traceback (most recent call last)",
                        "\u001b[1;32mC:\\ProgramData\\Anaconda3\\lib\\site-packages\\pandas\\core\\indexing.py\u001b[0m in \u001b[0;36m_has_valid_tuple\u001b[1;34m(self, key)\u001b[0m\n\u001b[0;32m    722\u001b[0m             \u001b[1;32mtry\u001b[0m\u001b[1;33m:\u001b[0m\u001b[1;33m\u001b[0m\u001b[1;33m\u001b[0m\u001b[0m\n\u001b[1;32m--> 723\u001b[1;33m                 \u001b[0mself\u001b[0m\u001b[1;33m.\u001b[0m\u001b[0m_validate_key\u001b[0m\u001b[1;33m(\u001b[0m\u001b[0mk\u001b[0m\u001b[1;33m,\u001b[0m \u001b[0mi\u001b[0m\u001b[1;33m)\u001b[0m\u001b[1;33m\u001b[0m\u001b[1;33m\u001b[0m\u001b[0m\n\u001b[0m\u001b[0;32m    724\u001b[0m             \u001b[1;32mexcept\u001b[0m \u001b[0mValueError\u001b[0m \u001b[1;32mas\u001b[0m \u001b[0merr\u001b[0m\u001b[1;33m:\u001b[0m\u001b[1;33m\u001b[0m\u001b[1;33m\u001b[0m\u001b[0m\n",
                        "\u001b[1;32mC:\\ProgramData\\Anaconda3\\lib\\site-packages\\pandas\\core\\indexing.py\u001b[0m in \u001b[0;36m_validate_key\u001b[1;34m(self, key, axis)\u001b[0m\n\u001b[0;32m   1374\u001b[0m         \u001b[1;32melse\u001b[0m\u001b[1;33m:\u001b[0m\u001b[1;33m\u001b[0m\u001b[1;33m\u001b[0m\u001b[0m\n\u001b[1;32m-> 1375\u001b[1;33m             \u001b[1;32mraise\u001b[0m \u001b[0mValueError\u001b[0m\u001b[1;33m(\u001b[0m\u001b[1;34mf\"Can only index by location with a [{self._valid_types}]\"\u001b[0m\u001b[1;33m)\u001b[0m\u001b[1;33m\u001b[0m\u001b[1;33m\u001b[0m\u001b[0m\n\u001b[0m\u001b[0;32m   1376\u001b[0m \u001b[1;33m\u001b[0m\u001b[0m\n",
                        "\u001b[1;31mValueError\u001b[0m: Can only index by location with a [integer, integer slice (START point is INCLUDED, END point is EXCLUDED), listlike of integers, boolean array]",
                        "\nThe above exception was the direct cause of the following exception:\n",
                        "\u001b[1;31mValueError\u001b[0m                                Traceback (most recent call last)",
                        "\u001b[1;32m<ipython-input-96-6d8ab7b2048b>\u001b[0m in \u001b[0;36m<module>\u001b[1;34m\u001b[0m\n\u001b[1;32m----> 1\u001b[1;33m \u001b[0mtb_filmes\u001b[0m\u001b[1;33m.\u001b[0m\u001b[0miloc\u001b[0m\u001b[1;33m[\u001b[0m\u001b[1;34m'Alien'\u001b[0m\u001b[1;33m,\u001b[0m \u001b[1;36m1\u001b[0m\u001b[1;33m]\u001b[0m\u001b[1;33m\u001b[0m\u001b[1;33m\u001b[0m\u001b[0m\n\u001b[0m",
                        "\u001b[1;32mC:\\ProgramData\\Anaconda3\\lib\\site-packages\\pandas\\core\\indexing.py\u001b[0m in \u001b[0;36m__getitem__\u001b[1;34m(self, key)\u001b[0m\n\u001b[0;32m    887\u001b[0m                     \u001b[1;31m# AttributeError for IntervalTree get_value\u001b[0m\u001b[1;33m\u001b[0m\u001b[1;33m\u001b[0m\u001b[1;33m\u001b[0m\u001b[0m\n\u001b[0;32m    888\u001b[0m                     \u001b[1;32mreturn\u001b[0m \u001b[0mself\u001b[0m\u001b[1;33m.\u001b[0m\u001b[0mobj\u001b[0m\u001b[1;33m.\u001b[0m\u001b[0m_get_value\u001b[0m\u001b[1;33m(\u001b[0m\u001b[1;33m*\u001b[0m\u001b[0mkey\u001b[0m\u001b[1;33m,\u001b[0m \u001b[0mtakeable\u001b[0m\u001b[1;33m=\u001b[0m\u001b[0mself\u001b[0m\u001b[1;33m.\u001b[0m\u001b[0m_takeable\u001b[0m\u001b[1;33m)\u001b[0m\u001b[1;33m\u001b[0m\u001b[1;33m\u001b[0m\u001b[0m\n\u001b[1;32m--> 889\u001b[1;33m             \u001b[1;32mreturn\u001b[0m \u001b[0mself\u001b[0m\u001b[1;33m.\u001b[0m\u001b[0m_getitem_tuple\u001b[0m\u001b[1;33m(\u001b[0m\u001b[0mkey\u001b[0m\u001b[1;33m)\u001b[0m\u001b[1;33m\u001b[0m\u001b[1;33m\u001b[0m\u001b[0m\n\u001b[0m\u001b[0;32m    890\u001b[0m         \u001b[1;32melse\u001b[0m\u001b[1;33m:\u001b[0m\u001b[1;33m\u001b[0m\u001b[1;33m\u001b[0m\u001b[0m\n\u001b[0;32m    891\u001b[0m             \u001b[1;31m# we by definition only have the 0th axis\u001b[0m\u001b[1;33m\u001b[0m\u001b[1;33m\u001b[0m\u001b[1;33m\u001b[0m\u001b[0m\n",
                        "\u001b[1;32mC:\\ProgramData\\Anaconda3\\lib\\site-packages\\pandas\\core\\indexing.py\u001b[0m in \u001b[0;36m_getitem_tuple\u001b[1;34m(self, tup)\u001b[0m\n\u001b[0;32m   1448\u001b[0m     \u001b[1;32mdef\u001b[0m \u001b[0m_getitem_tuple\u001b[0m\u001b[1;33m(\u001b[0m\u001b[0mself\u001b[0m\u001b[1;33m,\u001b[0m \u001b[0mtup\u001b[0m\u001b[1;33m:\u001b[0m \u001b[0mTuple\u001b[0m\u001b[1;33m)\u001b[0m\u001b[1;33m:\u001b[0m\u001b[1;33m\u001b[0m\u001b[1;33m\u001b[0m\u001b[0m\n\u001b[0;32m   1449\u001b[0m \u001b[1;33m\u001b[0m\u001b[0m\n\u001b[1;32m-> 1450\u001b[1;33m         \u001b[0mself\u001b[0m\u001b[1;33m.\u001b[0m\u001b[0m_has_valid_tuple\u001b[0m\u001b[1;33m(\u001b[0m\u001b[0mtup\u001b[0m\u001b[1;33m)\u001b[0m\u001b[1;33m\u001b[0m\u001b[1;33m\u001b[0m\u001b[0m\n\u001b[0m\u001b[0;32m   1451\u001b[0m         \u001b[1;32mwith\u001b[0m \u001b[0msuppress\u001b[0m\u001b[1;33m(\u001b[0m\u001b[0mIndexingError\u001b[0m\u001b[1;33m)\u001b[0m\u001b[1;33m:\u001b[0m\u001b[1;33m\u001b[0m\u001b[1;33m\u001b[0m\u001b[0m\n\u001b[0;32m   1452\u001b[0m             \u001b[1;32mreturn\u001b[0m \u001b[0mself\u001b[0m\u001b[1;33m.\u001b[0m\u001b[0m_getitem_lowerdim\u001b[0m\u001b[1;33m(\u001b[0m\u001b[0mtup\u001b[0m\u001b[1;33m)\u001b[0m\u001b[1;33m\u001b[0m\u001b[1;33m\u001b[0m\u001b[0m\n",
                        "\u001b[1;32mC:\\ProgramData\\Anaconda3\\lib\\site-packages\\pandas\\core\\indexing.py\u001b[0m in \u001b[0;36m_has_valid_tuple\u001b[1;34m(self, key)\u001b[0m\n\u001b[0;32m    723\u001b[0m                 \u001b[0mself\u001b[0m\u001b[1;33m.\u001b[0m\u001b[0m_validate_key\u001b[0m\u001b[1;33m(\u001b[0m\u001b[0mk\u001b[0m\u001b[1;33m,\u001b[0m \u001b[0mi\u001b[0m\u001b[1;33m)\u001b[0m\u001b[1;33m\u001b[0m\u001b[1;33m\u001b[0m\u001b[0m\n\u001b[0;32m    724\u001b[0m             \u001b[1;32mexcept\u001b[0m \u001b[0mValueError\u001b[0m \u001b[1;32mas\u001b[0m \u001b[0merr\u001b[0m\u001b[1;33m:\u001b[0m\u001b[1;33m\u001b[0m\u001b[1;33m\u001b[0m\u001b[0m\n\u001b[1;32m--> 725\u001b[1;33m                 raise ValueError(\n\u001b[0m\u001b[0;32m    726\u001b[0m                     \u001b[1;34m\"Location based indexing can only have \"\u001b[0m\u001b[1;33m\u001b[0m\u001b[1;33m\u001b[0m\u001b[0m\n\u001b[0;32m    727\u001b[0m                     \u001b[1;34mf\"[{self._valid_types}] types\"\u001b[0m\u001b[1;33m\u001b[0m\u001b[1;33m\u001b[0m\u001b[0m\n",
                        "\u001b[1;31mValueError\u001b[0m: Location based indexing can only have [integer, integer slice (START point is INCLUDED, END point is EXCLUDED), listlike of integers, boolean array] types"
                    ]
                }
            ],
            "source": [
                "tb_filmes.iloc['Alien', 1]"
            ]
        },
        {
            "cell_type": "markdown",
            "metadata": {},
            "source": [
                "What is the difference of selecting a column via: `dataframe['column']` vs `dataframe.loc[:, 'column']`?"
            ]
        },
        {
            "cell_type": "code",
            "execution_count": 97,
            "metadata": {
                "ExecuteTime": {
                    "end_time": "2021-12-01T00:05:29.114109Z",
                    "start_time": "2021-12-01T00:05:29.099149Z"
                }
            },
            "outputs": [
                {
                    "data": {
                        "text/plain": [
                            "pandas.core.series.Series"
                        ]
                    },
                    "execution_count": 97,
                    "metadata": {},
                    "output_type": "execute_result"
                }
            ],
            "source": [
                "type(tb_filmes['notas'])"
            ]
        },
        {
            "cell_type": "code",
            "execution_count": 98,
            "metadata": {
                "ExecuteTime": {
                    "end_time": "2021-12-01T00:05:33.261812Z",
                    "start_time": "2021-12-01T00:05:33.251841Z"
                }
            },
            "outputs": [
                {
                    "data": {
                        "text/plain": [
                            "pandas.core.series.Series"
                        ]
                    },
                    "execution_count": 98,
                    "metadata": {},
                    "output_type": "execute_result"
                }
            ],
            "source": [
                "type(tb_filmes.loc[:,'notas'])"
            ]
        },
        {
            "cell_type": "markdown",
            "metadata": {},
            "source": [
                "Selecting by a sample"
            ]
        },
        {
            "cell_type": "code",
            "execution_count": 103,
            "metadata": {
                "ExecuteTime": {
                    "end_time": "2021-12-01T00:07:39.581924Z",
                    "start_time": "2021-12-01T00:07:39.559995Z"
                }
            },
            "outputs": [
                {
                    "data": {
                        "text/html": [
                            "<div>\n",
                            "<style scoped>\n",
                            "    .dataframe tbody tr th:only-of-type {\n",
                            "        vertical-align: middle;\n",
                            "    }\n",
                            "\n",
                            "    .dataframe tbody tr th {\n",
                            "        vertical-align: top;\n",
                            "    }\n",
                            "\n",
                            "    .dataframe thead th {\n",
                            "        text-align: right;\n",
                            "    }\n",
                            "</style>\n",
                            "<table border=\"1\" class=\"dataframe\">\n",
                            "  <thead>\n",
                            "    <tr style=\"text-align: right;\">\n",
                            "      <th></th>\n",
                            "      <th>notas</th>\n",
                            "      <th>elenco</th>\n",
                            "      <th>diretor</th>\n",
                            "    </tr>\n",
                            "  </thead>\n",
                            "  <tbody>\n",
                            "    <tr>\n",
                            "      <th>Titanic</th>\n",
                            "      <td>7.8</td>\n",
                            "      <td>[Kate Winslet, Leonardo DiCaprio]</td>\n",
                            "      <td>James Cameron</td>\n",
                            "    </tr>\n",
                            "    <tr>\n",
                            "      <th>Aliens</th>\n",
                            "      <td>NaN</td>\n",
                            "      <td>[Sigourney Weaver, Paul Reiser]</td>\n",
                            "      <td>James Cameron</td>\n",
                            "    </tr>\n",
                            "  </tbody>\n",
                            "</table>\n",
                            "</div>"
                        ],
                        "text/plain": [
                            "         notas                             elenco        diretor\n",
                            "Titanic    7.8  [Kate Winslet, Leonardo DiCaprio]  James Cameron\n",
                            "Aliens     NaN    [Sigourney Weaver, Paul Reiser]  James Cameron"
                        ]
                    },
                    "execution_count": 103,
                    "metadata": {},
                    "output_type": "execute_result"
                }
            ],
            "source": [
                "tb_filmes.sample(n=2)"
            ]
        },
        {
            "cell_type": "markdown",
            "metadata": {},
            "source": [
                "## 2.4 Filtering"
            ]
        },
        {
            "cell_type": "code",
            "execution_count": 105,
            "metadata": {
                "ExecuteTime": {
                    "end_time": "2021-12-01T00:15:02.669684Z",
                    "start_time": "2021-12-01T00:15:02.660680Z"
                }
            },
            "outputs": [
                {
                    "name": "stdout",
                    "output_type": "stream",
                    "text": [
                        "Alien                  True\n",
                        "Aliens                False\n",
                        "Dune                   True\n",
                        "Dune (David Lynch)    False\n",
                        "House of Gucci        False\n",
                        "Joker                  True\n",
                        "Titanic               False\n",
                        "Name: notas, dtype: bool\n"
                    ]
                }
            ],
            "source": [
                "print(tb_filmes['notas'] > 8)"
            ]
        },
        {
            "cell_type": "code",
            "execution_count": 106,
            "metadata": {
                "ExecuteTime": {
                    "end_time": "2021-12-01T00:15:25.714988Z",
                    "start_time": "2021-12-01T00:15:25.699033Z"
                }
            },
            "outputs": [
                {
                    "data": {
                        "text/plain": [
                            "Alien                  True\n",
                            "Aliens                False\n",
                            "Dune                  False\n",
                            "Dune (David Lynch)    False\n",
                            "House of Gucci         True\n",
                            "Joker                 False\n",
                            "Titanic               False\n",
                            "Name: diretor, dtype: boolean"
                        ]
                    },
                    "execution_count": 106,
                    "metadata": {},
                    "output_type": "execute_result"
                }
            ],
            "source": [
                "tb_filmes['diretor'] == 'Ridley Scott'"
            ]
        },
        {
            "cell_type": "code",
            "execution_count": 107,
            "metadata": {
                "ExecuteTime": {
                    "end_time": "2021-12-01T00:15:48.843961Z",
                    "start_time": "2021-12-01T00:15:48.828000Z"
                }
            },
            "outputs": [],
            "source": [
                "filmes_bons = tb_filmes['notas'] > 8"
            ]
        },
        {
            "cell_type": "code",
            "execution_count": 108,
            "metadata": {
                "ExecuteTime": {
                    "end_time": "2021-12-01T00:15:51.189397Z",
                    "start_time": "2021-12-01T00:15:51.178426Z"
                }
            },
            "outputs": [
                {
                    "data": {
                        "text/plain": [
                            "Alien                  True\n",
                            "Aliens                False\n",
                            "Dune                   True\n",
                            "Dune (David Lynch)    False\n",
                            "House of Gucci        False\n",
                            "Joker                  True\n",
                            "Titanic               False\n",
                            "Name: notas, dtype: bool"
                        ]
                    },
                    "execution_count": 108,
                    "metadata": {},
                    "output_type": "execute_result"
                }
            ],
            "source": [
                "filmes_bons"
            ]
        },
        {
            "cell_type": "code",
            "execution_count": 109,
            "metadata": {
                "ExecuteTime": {
                    "end_time": "2021-12-01T00:16:09.175482Z",
                    "start_time": "2021-12-01T00:16:09.151543Z"
                }
            },
            "outputs": [
                {
                    "data": {
                        "text/html": [
                            "<div>\n",
                            "<style scoped>\n",
                            "    .dataframe tbody tr th:only-of-type {\n",
                            "        vertical-align: middle;\n",
                            "    }\n",
                            "\n",
                            "    .dataframe tbody tr th {\n",
                            "        vertical-align: top;\n",
                            "    }\n",
                            "\n",
                            "    .dataframe thead th {\n",
                            "        text-align: right;\n",
                            "    }\n",
                            "</style>\n",
                            "<table border=\"1\" class=\"dataframe\">\n",
                            "  <thead>\n",
                            "    <tr style=\"text-align: right;\">\n",
                            "      <th></th>\n",
                            "      <th>notas</th>\n",
                            "      <th>elenco</th>\n",
                            "      <th>diretor</th>\n",
                            "    </tr>\n",
                            "  </thead>\n",
                            "  <tbody>\n",
                            "    <tr>\n",
                            "      <th>Alien</th>\n",
                            "      <td>8.4</td>\n",
                            "      <td>[Sigourney Weaver, Ian Holm]</td>\n",
                            "      <td>Ridley Scott</td>\n",
                            "    </tr>\n",
                            "    <tr>\n",
                            "      <th>Dune</th>\n",
                            "      <td>8.2</td>\n",
                            "      <td>[Timothée Chalamet, Zendaya]</td>\n",
                            "      <td>Denis Villeneuve</td>\n",
                            "    </tr>\n",
                            "    <tr>\n",
                            "      <th>Joker</th>\n",
                            "      <td>8.4</td>\n",
                            "      <td>[Joaquin Phoenix]</td>\n",
                            "      <td>Todd Phillips</td>\n",
                            "    </tr>\n",
                            "  </tbody>\n",
                            "</table>\n",
                            "</div>"
                        ],
                        "text/plain": [
                            "       notas                        elenco           diretor\n",
                            "Alien    8.4  [Sigourney Weaver, Ian Holm]      Ridley Scott\n",
                            "Dune     8.2  [Timothée Chalamet, Zendaya]  Denis Villeneuve\n",
                            "Joker    8.4             [Joaquin Phoenix]     Todd Phillips"
                        ]
                    },
                    "execution_count": 109,
                    "metadata": {},
                    "output_type": "execute_result"
                }
            ],
            "source": [
                "tb_filmes[filmes_bons]"
            ]
        },
        {
            "cell_type": "code",
            "execution_count": 110,
            "metadata": {
                "ExecuteTime": {
                    "end_time": "2021-12-01T00:16:40.909134Z",
                    "start_time": "2021-12-01T00:16:40.892200Z"
                }
            },
            "outputs": [
                {
                    "data": {
                        "text/html": [
                            "<div>\n",
                            "<style scoped>\n",
                            "    .dataframe tbody tr th:only-of-type {\n",
                            "        vertical-align: middle;\n",
                            "    }\n",
                            "\n",
                            "    .dataframe tbody tr th {\n",
                            "        vertical-align: top;\n",
                            "    }\n",
                            "\n",
                            "    .dataframe thead th {\n",
                            "        text-align: right;\n",
                            "    }\n",
                            "</style>\n",
                            "<table border=\"1\" class=\"dataframe\">\n",
                            "  <thead>\n",
                            "    <tr style=\"text-align: right;\">\n",
                            "      <th></th>\n",
                            "      <th>notas</th>\n",
                            "      <th>elenco</th>\n",
                            "      <th>diretor</th>\n",
                            "    </tr>\n",
                            "  </thead>\n",
                            "  <tbody>\n",
                            "    <tr>\n",
                            "      <th>Alien</th>\n",
                            "      <td>8.4</td>\n",
                            "      <td>[Sigourney Weaver, Ian Holm]</td>\n",
                            "      <td>Ridley Scott</td>\n",
                            "    </tr>\n",
                            "    <tr>\n",
                            "      <th>Dune</th>\n",
                            "      <td>8.2</td>\n",
                            "      <td>[Timothée Chalamet, Zendaya]</td>\n",
                            "      <td>Denis Villeneuve</td>\n",
                            "    </tr>\n",
                            "    <tr>\n",
                            "      <th>Joker</th>\n",
                            "      <td>8.4</td>\n",
                            "      <td>[Joaquin Phoenix]</td>\n",
                            "      <td>Todd Phillips</td>\n",
                            "    </tr>\n",
                            "  </tbody>\n",
                            "</table>\n",
                            "</div>"
                        ],
                        "text/plain": [
                            "       notas                        elenco           diretor\n",
                            "Alien    8.4  [Sigourney Weaver, Ian Holm]      Ridley Scott\n",
                            "Dune     8.2  [Timothée Chalamet, Zendaya]  Denis Villeneuve\n",
                            "Joker    8.4             [Joaquin Phoenix]     Todd Phillips"
                        ]
                    },
                    "execution_count": 110,
                    "metadata": {},
                    "output_type": "execute_result"
                }
            ],
            "source": [
                "tb_filmes[tb_filmes['notas'] > 8]"
            ]
        },
        {
            "cell_type": "code",
            "execution_count": 111,
            "metadata": {
                "ExecuteTime": {
                    "end_time": "2021-12-01T00:17:09.528049Z",
                    "start_time": "2021-12-01T00:17:09.514069Z"
                }
            },
            "outputs": [
                {
                    "data": {
                        "text/html": [
                            "<div>\n",
                            "<style scoped>\n",
                            "    .dataframe tbody tr th:only-of-type {\n",
                            "        vertical-align: middle;\n",
                            "    }\n",
                            "\n",
                            "    .dataframe tbody tr th {\n",
                            "        vertical-align: top;\n",
                            "    }\n",
                            "\n",
                            "    .dataframe thead th {\n",
                            "        text-align: right;\n",
                            "    }\n",
                            "</style>\n",
                            "<table border=\"1\" class=\"dataframe\">\n",
                            "  <thead>\n",
                            "    <tr style=\"text-align: right;\">\n",
                            "      <th></th>\n",
                            "      <th>notas</th>\n",
                            "      <th>elenco</th>\n",
                            "      <th>diretor</th>\n",
                            "    </tr>\n",
                            "  </thead>\n",
                            "  <tbody>\n",
                            "    <tr>\n",
                            "      <th>Alien</th>\n",
                            "      <td>8.4</td>\n",
                            "      <td>[Sigourney Weaver, Ian Holm]</td>\n",
                            "      <td>Ridley Scott</td>\n",
                            "    </tr>\n",
                            "  </tbody>\n",
                            "</table>\n",
                            "</div>"
                        ],
                        "text/plain": [
                            "       notas                        elenco       diretor\n",
                            "Alien    8.4  [Sigourney Weaver, Ian Holm]  Ridley Scott"
                        ]
                    },
                    "execution_count": 111,
                    "metadata": {},
                    "output_type": "execute_result"
                }
            ],
            "source": [
                "tb_filmes[(tb_filmes['notas'] > 8) & (tb_filmes['diretor'] == 'Ridley Scott')]"
            ]
        },
        {
            "cell_type": "code",
            "execution_count": 114,
            "metadata": {
                "ExecuteTime": {
                    "end_time": "2021-12-01T00:17:52.580433Z",
                    "start_time": "2021-12-01T00:17:52.564455Z"
                }
            },
            "outputs": [
                {
                    "data": {
                        "text/html": [
                            "<div>\n",
                            "<style scoped>\n",
                            "    .dataframe tbody tr th:only-of-type {\n",
                            "        vertical-align: middle;\n",
                            "    }\n",
                            "\n",
                            "    .dataframe tbody tr th {\n",
                            "        vertical-align: top;\n",
                            "    }\n",
                            "\n",
                            "    .dataframe thead th {\n",
                            "        text-align: right;\n",
                            "    }\n",
                            "</style>\n",
                            "<table border=\"1\" class=\"dataframe\">\n",
                            "  <thead>\n",
                            "    <tr style=\"text-align: right;\">\n",
                            "      <th></th>\n",
                            "      <th>notas</th>\n",
                            "      <th>elenco</th>\n",
                            "      <th>diretor</th>\n",
                            "    </tr>\n",
                            "  </thead>\n",
                            "  <tbody>\n",
                            "    <tr>\n",
                            "      <th>House of Gucci</th>\n",
                            "      <td>7.0</td>\n",
                            "      <td>[Lady Gaga, Adam Driver, Al Pacino]</td>\n",
                            "      <td>Ridley Scott</td>\n",
                            "    </tr>\n",
                            "  </tbody>\n",
                            "</table>\n",
                            "</div>"
                        ],
                        "text/plain": [
                            "                notas                               elenco       diretor\n",
                            "House of Gucci    7.0  [Lady Gaga, Adam Driver, Al Pacino]  Ridley Scott"
                        ]
                    },
                    "execution_count": 114,
                    "metadata": {},
                    "output_type": "execute_result"
                }
            ],
            "source": [
                "tb_filmes.loc[(tb_filmes['notas'] < 8) & (tb_filmes['diretor'] == 'Ridley Scott'), :]"
            ]
        },
        {
            "cell_type": "code",
            "execution_count": 118,
            "metadata": {
                "ExecuteTime": {
                    "end_time": "2021-12-01T00:21:01.742904Z",
                    "start_time": "2021-12-01T00:21:01.730937Z"
                }
            },
            "outputs": [
                {
                    "data": {
                        "text/plain": [
                            "Alien                        [Sigourney Weaver, Ian Holm]\n",
                            "Aliens                    [Sigourney Weaver, Paul Reiser]\n",
                            "Dune                         [Timothée Chalamet, Zendaya]\n",
                            "Dune (David Lynch)                                [Sting]\n",
                            "House of Gucci        [Lady Gaga, Adam Driver, Al Pacino]\n",
                            "Joker                                   [Joaquin Phoenix]\n",
                            "Titanic                 [Kate Winslet, Leonardo DiCaprio]\n",
                            "Name: elenco, dtype: object"
                        ]
                    },
                    "execution_count": 118,
                    "metadata": {},
                    "output_type": "execute_result"
                }
            ],
            "source": [
                "tb_filmes.iloc[:,1]"
            ]
        },
        {
            "cell_type": "code",
            "execution_count": 119,
            "metadata": {
                "ExecuteTime": {
                    "end_time": "2021-12-01T00:21:15.142501Z",
                    "start_time": "2021-12-01T00:21:15.126547Z"
                }
            },
            "outputs": [
                {
                    "data": {
                        "text/plain": [
                            "Index(['Alien', 'Aliens', 'Dune', 'Dune (David Lynch)', 'House of Gucci',\n",
                            "       'Joker', 'Titanic'],\n",
                            "      dtype='object')"
                        ]
                    },
                    "execution_count": 119,
                    "metadata": {},
                    "output_type": "execute_result"
                }
            ],
            "source": [
                "tb_filmes.index"
            ]
        },
        {
            "cell_type": "code",
            "execution_count": 120,
            "metadata": {
                "ExecuteTime": {
                    "end_time": "2021-12-01T00:21:35.241868Z",
                    "start_time": "2021-12-01T00:21:35.235883Z"
                }
            },
            "outputs": [
                {
                    "data": {
                        "text/plain": [
                            "array([ True,  True, False, False, False, False, False])"
                        ]
                    },
                    "execution_count": 120,
                    "metadata": {},
                    "output_type": "execute_result"
                }
            ],
            "source": [
                "tb_filmes.index.isin(['Alien', 'Aliens'])"
            ]
        },
        {
            "cell_type": "markdown",
            "metadata": {},
            "source": [
                "# Voltamos 21h37"
            ]
        },
        {
            "cell_type": "code",
            "execution_count": 122,
            "metadata": {
                "ExecuteTime": {
                    "end_time": "2021-12-01T01:04:51.008976Z",
                    "start_time": "2021-12-01T01:04:50.992023Z"
                }
            },
            "outputs": [
                {
                    "data": {
                        "text/plain": [
                            "{0: 1, 1: 2, 2: 3, 3: 4, 4: 5}"
                        ]
                    },
                    "execution_count": 122,
                    "metadata": {},
                    "output_type": "execute_result"
                }
            ],
            "source": [
                "colnames = [1,2,3,4,5]\n",
                "{x : colnames[x] for x in range(5)}"
            ]
        },
        {
            "cell_type": "code",
            "execution_count": null,
            "metadata": {},
            "outputs": [],
            "source": []
        }
    ],
    "metadata": {
        "hide_input": false,
        "kernelspec": {
            "display_name": "Python 3",
            "language": "python",
            "name": "python3"
        },
        "language_info": {
            "codemirror_mode": {
                "name": "ipython",
                "version": 3
            },
            "file_extension": ".py",
            "mimetype": "text/x-python",
            "name": "python",
            "nbconvert_exporter": "python",
            "pygments_lexer": "ipython3",
            "version": "3.8.8"
        },
        "toc": {
            "base_numbering": 1,
            "nav_menu": {
                "height": "298px",
                "width": "274px"
            },
            "number_sections": true,
            "sideBar": false,
            "skip_h1_title": false,
            "title_cell": "Table of Contents",
            "title_sidebar": "Contents",
            "toc_cell": false,
            "toc_position": {
                "height": "466px",
                "left": "1258px",
                "top": "172px",
                "width": "256px"
            },
            "toc_section_display": true,
            "toc_window_display": true
        }
    },
    "nbformat": 4,
    "nbformat_minor": 4
}