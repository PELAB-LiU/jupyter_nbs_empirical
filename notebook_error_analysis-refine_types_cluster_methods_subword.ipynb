{
 "cells": [
  {
   "cell_type": "markdown",
   "id": "4566c1f6",
   "metadata": {},
   "source": [
    "# Notebook error analysis \n",
    "\n",
    "## Refining error types - Vectorization and clustering method selection\n",
    "\n",
    "\n",
    "use a subset of the GitHub error dataset --> ename == valueerror"
   ]
  },
  {
   "cell_type": "markdown",
   "id": "7af3f2db",
   "metadata": {},
   "source": [
    "### Clustering value errors\n",
    "\n",
    "load tokenized error dataset, evalue_tokenized"
   ]
  },
  {
   "cell_type": "code",
   "execution_count": 4,
   "id": "e2bdfbe2",
   "metadata": {},
   "outputs": [],
   "source": [
    "import pandas as pd \n",
    "import cluster_util\n",
    "\n",
    "path = r\"C:\\Users\\yirwa29\\Downloads\\Dataset-Nb\\nbdata_g_error\\analysis_gerr\"\n",
    "\n",
    "df2_err = pd.read_excel(path + '/nberror_g_all_p6_evaluetokenized.xlsx')\n",
    "df2_err_ename = df2_err[df2_err['ename']=='valueerror']\n",
    "err_descs = df2_err_ename['evalue_tokenized'].values.astype('U')"
   ]
  },
  {
   "cell_type": "markdown",
   "id": "96a1a12a",
   "metadata": {},
   "source": [
    "### 1 Vectorization\n",
    "##### 1. tfidf\n",
    "too high dimension - 7069"
   ]
  },
  {
   "cell_type": "code",
   "execution_count": 6,
   "id": "7d5d13c7",
   "metadata": {},
   "outputs": [
    {
     "data": {
      "text/plain": [
       "(15570, 7069)"
      ]
     },
     "execution_count": 6,
     "metadata": {},
     "output_type": "execute_result"
    }
   ],
   "source": [
    "X_tfidf = cluster_util.vectorizer_tfidf(err_descs)\n",
    "X_tfidf.shape"
   ]
  },
  {
   "cell_type": "code",
   "execution_count": 7,
   "id": "0193955a",
   "metadata": {},
   "outputs": [],
   "source": [
    "import numpy as np\n",
    "\n",
    "with open(path+'/cluster_selection_g_valueerror/nberror_g_valueerror_embeddings_tfidf.txt', 'wb') as f:\n",
    "    np.save(f, X_tfidf)"
   ]
  },
  {
   "cell_type": "markdown",
   "id": "c2f75ef1",
   "metadata": {},
   "source": [
    "##### 2. sentence transformers\n",
    "\n",
    "https://github.com/UKPLab/sentence-transformers\n",
    "\n",
    "https://huggingface.co/sentence-transformers/all-MiniLM-L6-v2\n",
    "\n",
    "sentence to vector, dimension -384\n",
    "\n",
    "2 embeddings with different preprocessing"
   ]
  },
  {
   "cell_type": "code",
   "execution_count": 8,
   "id": "71d2af37",
   "metadata": {
    "scrolled": false
   },
   "outputs": [
    {
     "data": {
      "text/plain": [
       "(15570, 384)"
      ]
     },
     "execution_count": 8,
     "metadata": {},
     "output_type": "execute_result"
    }
   ],
   "source": [
    "X_transformers = cluster_util.vectorizer_sentence2vec(err_descs)\n",
    "X_transformers.shape"
   ]
  },
  {
   "cell_type": "code",
   "execution_count": 9,
   "id": "0c3fa66d",
   "metadata": {},
   "outputs": [],
   "source": [
    "with open(path+'/cluster_selection_g_valueerror/nberror_g_valueerror_embeddings_transformers.txt', 'wb') as f:\n",
    "    np.save(f, X_transformers)"
   ]
  },
  {
   "cell_type": "code",
   "execution_count": 10,
   "id": "2be86b73",
   "metadata": {},
   "outputs": [
    {
     "name": "stderr",
     "output_type": "stream",
     "text": [
      "C:\\Users\\yirwa29\\AppData\\Local\\Temp\\ipykernel_23652\\700486951.py:1: SettingWithCopyWarning: \n",
      "A value is trying to be set on a copy of a slice from a DataFrame.\n",
      "Try using .loc[row_indexer,col_indexer] = value instead\n",
      "\n",
      "See the caveats in the documentation: https://pandas.pydata.org/pandas-docs/stable/user_guide/indexing.html#returning-a-view-versus-a-copy\n",
      "  df2_err_ename['evalue_tokenized_transformer'] = df2_err_ename['evalue'].apply(cluster_util.preprocess_text_transformer)\n"
     ]
    }
   ],
   "source": [
    "df2_err_ename['evalue_tokenized_transformer'] = df2_err_ename['evalue'].apply(cluster_util.preprocess_text_transformer)\n",
    "err_descs1 = df2_err_ename['evalue_tokenized_transformer'].values.astype('U')\n",
    "\n",
    "X_transformers1 = cluster_util.vectorizer_sentence2vec(err_descs1)\n",
    "\n",
    "with open(path+'/cluster_selection_g_valueerror/nberror_g_valueerror_embeddings_transformers_1.txt', 'wb') as f:\n",
    "    np.save(f, X_transformers1)"
   ]
  },
  {
   "cell_type": "markdown",
   "id": "21a98de7",
   "metadata": {},
   "source": [
    "##### 3. word embeddings - GloVe\n",
    "\n",
    "Turn sentences to vectors via word embeddings by taking the mean/sum of all word embeddings of the sentence\n",
    "\n",
    "using GloVe with dimension 200"
   ]
  },
  {
   "cell_type": "code",
   "execution_count": 11,
   "id": "7d04b665",
   "metadata": {},
   "outputs": [
    {
     "name": "stdout",
     "output_type": "stream",
     "text": [
      "Loaded 400000 word vectors from GloVe.\n"
     ]
    },
    {
     "data": {
      "text/plain": [
       "(15570, 200)"
      ]
     },
     "execution_count": 11,
     "metadata": {},
     "output_type": "execute_result"
    }
   ],
   "source": [
    "glove_vectors = cluster_util.load_glove(\"C:/Users/yirwa29/Downloads/Dataset-Nb/glove.6B/glove.6B.200d.txt\")\n",
    "X_glove = np.array([cluster_util.vectorizer_word2vec(xi, glove_vectors, 200) for xi in err_descs])\n",
    "X_glove.shape"
   ]
  },
  {
   "cell_type": "code",
   "execution_count": 12,
   "id": "1628b255",
   "metadata": {},
   "outputs": [],
   "source": [
    "with open(path+'/cluster_selection_g_valueerror/nberror_g_valueerror_embeddings_glove.txt', 'wb') as f:\n",
    "    np.save(f, X_glove)"
   ]
  },
  {
   "cell_type": "code",
   "execution_count": 13,
   "id": "78b13d1f",
   "metadata": {},
   "outputs": [],
   "source": [
    "df2_err_ename.to_excel(path+\"/cluster_selection_g_valueerror/nberror_g_cluster_valueerror.xlsx\", index=False, engine='xlsxwriter')"
   ]
  },
  {
   "cell_type": "markdown",
   "id": "3be22434",
   "metadata": {},
   "source": [
    "### 2. Clustering with vectorized error values\n"
   ]
  },
  {
   "cell_type": "code",
   "execution_count": 14,
   "id": "f3063a52",
   "metadata": {},
   "outputs": [],
   "source": [
    "import pandas as pd\n",
    "import numpy as np \n",
    "import cluster_util\n",
    "\n",
    "path = r\"C:\\Users\\yirwa29\\Downloads\\Dataset-Nb\\nbdata_g_error\\analysis_gerr/cluster_selection_g_valueerror\"\n",
    "path_file = path+\"/nberror_g_cluster_valueerror.xlsx\""
   ]
  },
  {
   "cell_type": "markdown",
   "id": "bdc77b18",
   "metadata": {},
   "source": [
    "##### 1. tfidf"
   ]
  },
  {
   "cell_type": "code",
   "execution_count": 15,
   "id": "d4ef3ab8",
   "metadata": {},
   "outputs": [],
   "source": [
    "df2_err_ename = pd.read_excel(path_file)\n",
    "with open(path+'/nberror_g_valueerror_embeddings_tfidf.txt', 'rb') as f:\n",
    "    X_tfidf = np.load(f)"
   ]
  },
  {
   "cell_type": "code",
   "execution_count": 62,
   "id": "0fffdef1",
   "metadata": {},
   "outputs": [],
   "source": [
    "## kmeans"
   ]
  },
  {
   "cell_type": "code",
   "execution_count": 63,
   "id": "4a47ff1b",
   "metadata": {},
   "outputs": [],
   "source": [
    "K_range = range(1,100)\n",
    "inertias = cluster_util.elbow_for_kmean(X_tfidf, K_range = K_range)"
   ]
  },
  {
   "cell_type": "code",
   "execution_count": 64,
   "id": "0db5896f",
   "metadata": {},
   "outputs": [
    {
     "data": {
      "image/png": "[encoded data removed]",
      "text/plain": [
       "<Figure size 640x480 with 1 Axes>"
      ]
     },
     "metadata": {},
     "output_type": "display_data"
    }
   ],
   "source": [
    "import matplotlib.pyplot as plt \n",
    "\n",
    "plt.plot(K_range, inertias, 'bx-')\n",
    "plt.xlabel('Values of K')\n",
    "plt.ylabel('Inertias')\n",
    "plt.title('The Elbow Method using Inertias')\n",
    "plt.show()"
   ]
  },
  {
   "cell_type": "code",
   "execution_count": 67,
   "id": "7467c53d",
   "metadata": {},
   "outputs": [],
   "source": [
    "num_clusters = 80\n",
    "res = cluster_util.cluster_kmeans(X_tfidf, n_clusters=num_clusters)\n",
    "df2_err_ename.loc[:,\"cluster\"] = res\n",
    "#cluster_util.print_clusters(num_clusters, df2_err_ename[['evalue','cluster']])"
   ]
  },
  {
   "cell_type": "code",
   "execution_count": 17,
   "id": "71c7f06a",
   "metadata": {},
   "outputs": [],
   "source": [
    "df2_err_ename = df2_err_ename.rename(columns={\"cluster\": \"cluster_km_tfidf\"})\n",
    "df2_err_ename.to_excel(path_file, index=False, engine='xlsxwriter')"
   ]
  },
  {
   "cell_type": "code",
   "execution_count": 18,
   "id": "99da1db1",
   "metadata": {},
   "outputs": [],
   "source": [
    "## dbscan"
   ]
  },
  {
   "cell_type": "code",
   "execution_count": 19,
   "id": "7ac8fc72",
   "metadata": {},
   "outputs": [
    {
     "name": "stdout",
     "output_type": "stream",
     "text": [
      "0.7671202045161813\n",
      "Estimated no. of clusters: 80\n",
      "Estimated no. of noise points: 6361\n"
     ]
    }
   ],
   "source": [
    "eps_tfidf = cluster_util.epsilon_search_dbscan(X_tfidf)\n",
    "print(eps_tfidf)\n",
    "res = cluster_util.cluster_dbscan(X_tfidf, eps=eps_tfidf, min_samples=30)"
   ]
  },
  {
   "cell_type": "code",
   "execution_count": 20,
   "id": "baeeb381",
   "metadata": {},
   "outputs": [],
   "source": [
    "df2_err_ename.loc[:,\"cluster\"] = res\n",
    "#cluster_util.print_clusters(20, df2_err_ename[['evalue','cluster']])"
   ]
  },
  {
   "cell_type": "code",
   "execution_count": 21,
   "id": "e0472a99",
   "metadata": {},
   "outputs": [],
   "source": [
    "df2_err_ename = df2_err_ename.rename(columns={\"cluster\": \"cluster_dbscan_tfidf\"})\n",
    "df2_err_ename.to_excel(path_file, index=False, engine='xlsxwriter')"
   ]
  },
  {
   "cell_type": "code",
   "execution_count": 22,
   "id": "850aaee3",
   "metadata": {},
   "outputs": [],
   "source": [
    "## OPTICS"
   ]
  },
  {
   "cell_type": "code",
   "execution_count": 23,
   "id": "fe34b3a2",
   "metadata": {},
   "outputs": [
    {
     "name": "stdout",
     "output_type": "stream",
     "text": [
      "Estimated no. of clusters: 89\n",
      "Estimated no. of noise points: 6696\n"
     ]
    },
    {
     "name": "stderr",
     "output_type": "stream",
     "text": [
      "C:\\Users\\yirwa29\\AppData\\Local\\anaconda3\\envs\\chatgpt\\Lib\\site-packages\\sklearn\\cluster\\_optics.py:1081: RuntimeWarning: divide by zero encountered in divide\n",
      "  ratio = reachability_plot[:-1] / reachability_plot[1:]\n"
     ]
    }
   ],
   "source": [
    "res = cluster_util.cluster_optics(X_tfidf, min_samples = 30)"
   ]
  },
  {
   "cell_type": "code",
   "execution_count": 24,
   "id": "26de0a93",
   "metadata": {},
   "outputs": [],
   "source": [
    "df2_err_ename.loc[:,\"cluster\"] = res\n",
    "#cluster_util.print_clusters(20, df2_err_ename[['evalue','cluster']])"
   ]
  },
  {
   "cell_type": "code",
   "execution_count": 25,
   "id": "184f68fe",
   "metadata": {},
   "outputs": [],
   "source": [
    "df2_err_ename = df2_err_ename.rename(columns={\"cluster\": \"cluster_optics_tfidf\"})\n",
    "df2_err_ename.to_excel(path_file, index=False, engine='xlsxwriter')"
   ]
  },
  {
   "cell_type": "markdown",
   "id": "583cff52",
   "metadata": {},
   "source": [
    "##### 2. sentence transformers"
   ]
  },
  {
   "cell_type": "code",
   "execution_count": 26,
   "id": "d6977afe",
   "metadata": {},
   "outputs": [],
   "source": [
    "df2_err_ename = pd.read_excel(path_file)\n",
    "with open(path+'/nberror_g_valueerror_embeddings_transformers.txt', 'rb') as f:\n",
    "    X_transformers = np.load(f)\n",
    "with open(path+'/nberror_g_valueerror_embeddings_transformers_1.txt', 'rb') as f:\n",
    "    X_transformers1 = np.load(f)"
   ]
  },
  {
   "cell_type": "code",
   "execution_count": 27,
   "id": "4a6d2220",
   "metadata": {},
   "outputs": [],
   "source": [
    "## kmeans"
   ]
  },
  {
   "cell_type": "code",
   "execution_count": 65,
   "id": "7fd501e2",
   "metadata": {},
   "outputs": [
    {
     "data": {
      "image/png": "[encoded data removed]",
      "text/plain": [
       "<Figure size 640x480 with 1 Axes>"
      ]
     },
     "metadata": {},
     "output_type": "display_data"
    }
   ],
   "source": [
    "K_range = range(1,100)\n",
    "inertias = cluster_util.elbow_for_kmean(X_transformers, K_range = K_range) # X_transformers1\n",
    "\n",
    "import matplotlib.pyplot as plt \n",
    "\n",
    "plt.plot(K_range, inertias, 'bx-')\n",
    "plt.xlabel('Values of K')\n",
    "plt.ylabel('Inertias')\n",
    "plt.title('The Elbow Method using Inertias')\n",
    "plt.show()"
   ]
  },
  {
   "cell_type": "code",
   "execution_count": 68,
   "id": "37fef48f",
   "metadata": {},
   "outputs": [],
   "source": [
    "num_clusters = 80\n",
    "res = cluster_util.cluster_kmeans(X_transformers, n_clusters=num_clusters)\n",
    "df2_err_ename.loc[:,\"cluster\"] = res\n",
    "#cluster_util.print_clusters(num_clusters, df2_err_ename[['evalue','cluster']])"
   ]
  },
  {
   "cell_type": "code",
   "execution_count": 29,
   "id": "25ab801d",
   "metadata": {},
   "outputs": [],
   "source": [
    "df2_err_ename = df2_err_ename.rename(columns={\"cluster\": \"cluster_km_transformers\"})\n",
    "df2_err_ename.to_excel(path_file, index=False, engine='xlsxwriter')"
   ]
  },
  {
   "cell_type": "code",
   "execution_count": 69,
   "id": "2dc7f3f9",
   "metadata": {},
   "outputs": [],
   "source": [
    "# transformer1\n",
    "num_clusters = 80\n",
    "res = cluster_util.cluster_kmeans(X_transformers1, n_clusters=num_clusters)\n",
    "df2_err_ename.loc[:,\"cluster\"] = res\n",
    "#cluster_util.print_clusters(num_clusters, df2_err_ename[['evalue','cluster']])"
   ]
  },
  {
   "cell_type": "code",
   "execution_count": 31,
   "id": "a3c2a4c3",
   "metadata": {},
   "outputs": [],
   "source": [
    "df2_err_ename = df2_err_ename.rename(columns={\"cluster\": \"cluster_km_transformers1\"})\n",
    "df2_err_ename.to_excel(path_file, index=False, engine='xlsxwriter')"
   ]
  },
  {
   "cell_type": "code",
   "execution_count": 32,
   "id": "e0a83605",
   "metadata": {},
   "outputs": [],
   "source": [
    "## dbscan"
   ]
  },
  {
   "cell_type": "code",
   "execution_count": 33,
   "id": "1cc580b2",
   "metadata": {
    "scrolled": true
   },
   "outputs": [
    {
     "name": "stdout",
     "output_type": "stream",
     "text": [
      "0.6600872979744651\n",
      "Estimated no. of clusters: 73\n",
      "Estimated no. of noise points: 6313\n"
     ]
    }
   ],
   "source": [
    "eps_transformers = cluster_util.epsilon_search_dbscan(X_transformers)\n",
    "print(eps_transformers)\n",
    "res = cluster_util.cluster_dbscan(X_transformers, eps=eps_transformers, min_samples=30)"
   ]
  },
  {
   "cell_type": "code",
   "execution_count": 34,
   "id": "0c5e064c",
   "metadata": {},
   "outputs": [],
   "source": [
    "df2_err_ename.loc[:,\"cluster\"] = res\n",
    "#cluster_util.print_clusters(20, df2_err_ename[['evalue','cluster']])"
   ]
  },
  {
   "cell_type": "code",
   "execution_count": 35,
   "id": "06a6530c",
   "metadata": {},
   "outputs": [],
   "source": [
    "df2_err_ename = df2_err_ename.rename(columns={\"cluster\": \"cluster_dbscan_transformers\"})\n",
    "df2_err_ename.to_excel(path_file, index=False, engine='xlsxwriter')"
   ]
  },
  {
   "cell_type": "code",
   "execution_count": 36,
   "id": "ff0f8e27",
   "metadata": {},
   "outputs": [
    {
     "name": "stdout",
     "output_type": "stream",
     "text": [
      "0.4621702878316836\n",
      "Estimated no. of clusters: 59\n",
      "Estimated no. of noise points: 8309\n"
     ]
    }
   ],
   "source": [
    "# transformer 1\n",
    "eps_transformers1 = cluster_util.epsilon_search_dbscan(X_transformers1)\n",
    "print(eps_transformers1)\n",
    "res = cluster_util.cluster_dbscan(X_transformers1, eps=eps_transformers1, min_samples=30)"
   ]
  },
  {
   "cell_type": "code",
   "execution_count": 37,
   "id": "19d32473",
   "metadata": {},
   "outputs": [],
   "source": [
    "df2_err_ename.loc[:,\"cluster\"] = res\n",
    "#cluster_util.print_clusters(20, df2_err_ename[['evalue','cluster']])"
   ]
  },
  {
   "cell_type": "code",
   "execution_count": 38,
   "id": "612c930d",
   "metadata": {},
   "outputs": [],
   "source": [
    "df2_err_ename = df2_err_ename.rename(columns={\"cluster\": \"cluster_dbscan_transformers1\"})\n",
    "df2_err_ename.to_excel(path_file, index=False, engine='xlsxwriter')"
   ]
  },
  {
   "cell_type": "code",
   "execution_count": 39,
   "id": "16987692",
   "metadata": {},
   "outputs": [],
   "source": [
    "## OPTICS"
   ]
  },
  {
   "cell_type": "code",
   "execution_count": 40,
   "id": "ba3ef797",
   "metadata": {},
   "outputs": [
    {
     "name": "stdout",
     "output_type": "stream",
     "text": [
      "Estimated no. of clusters: 83\n",
      "Estimated no. of noise points: 7017\n"
     ]
    },
    {
     "name": "stderr",
     "output_type": "stream",
     "text": [
      "C:\\Users\\yirwa29\\AppData\\Local\\anaconda3\\envs\\chatgpt\\Lib\\site-packages\\sklearn\\cluster\\_optics.py:1081: RuntimeWarning: divide by zero encountered in divide\n",
      "  ratio = reachability_plot[:-1] / reachability_plot[1:]\n"
     ]
    }
   ],
   "source": [
    "res = cluster_util.cluster_optics(X_transformers, min_samples = 30)"
   ]
  },
  {
   "cell_type": "code",
   "execution_count": 41,
   "id": "499df77b",
   "metadata": {},
   "outputs": [],
   "source": [
    "df2_err_ename.loc[:,\"cluster\"] = res\n",
    "#cluster_util.print_clusters(49, df2_err_ename[['evalue','cluster']])"
   ]
  },
  {
   "cell_type": "code",
   "execution_count": 42,
   "id": "1579c7c8",
   "metadata": {},
   "outputs": [],
   "source": [
    "df2_err_ename = df2_err_ename.rename(columns={\"cluster\": \"cluster_optics_transformers\"})\n",
    "df2_err_ename.to_excel(path_file, index=False, engine='xlsxwriter')"
   ]
  },
  {
   "cell_type": "code",
   "execution_count": 43,
   "id": "92a492df",
   "metadata": {},
   "outputs": [
    {
     "name": "stdout",
     "output_type": "stream",
     "text": [
      "Estimated no. of clusters: 89\n",
      "Estimated no. of noise points: 9213\n"
     ]
    },
    {
     "name": "stderr",
     "output_type": "stream",
     "text": [
      "C:\\Users\\yirwa29\\AppData\\Local\\anaconda3\\envs\\chatgpt\\Lib\\site-packages\\sklearn\\cluster\\_optics.py:1081: RuntimeWarning: divide by zero encountered in divide\n",
      "  ratio = reachability_plot[:-1] / reachability_plot[1:]\n"
     ]
    }
   ],
   "source": [
    "# transformer 1\n",
    "res = cluster_util.cluster_optics(X_transformers1, min_samples = 30)"
   ]
  },
  {
   "cell_type": "code",
   "execution_count": 44,
   "id": "553b9afb",
   "metadata": {},
   "outputs": [],
   "source": [
    "df2_err_ename.loc[:,\"cluster\"] = res\n",
    "#cluster_util.print_clusters(20, df2_err_ename[['evalue','cluster']])"
   ]
  },
  {
   "cell_type": "code",
   "execution_count": 45,
   "id": "30001dba",
   "metadata": {},
   "outputs": [],
   "source": [
    "df2_err_ename = df2_err_ename.rename(columns={\"cluster\": \"cluster_optics_transformers1\"})\n",
    "df2_err_ename.to_excel(path_file, index=False, engine='xlsxwriter')"
   ]
  },
  {
   "cell_type": "markdown",
   "id": "9b8fdf5b",
   "metadata": {},
   "source": [
    "##### 3. word embeddings - GloVe"
   ]
  },
  {
   "cell_type": "code",
   "execution_count": 46,
   "id": "6f0092fb",
   "metadata": {},
   "outputs": [],
   "source": [
    "df2_err_ename = pd.read_excel(path_file)\n",
    "with open(path+'/nberror_g_valueerror_embeddings_glove.txt', 'rb') as f:\n",
    "    X_glove = np.load(f)"
   ]
  },
  {
   "cell_type": "code",
   "execution_count": 39,
   "id": "327d50a4",
   "metadata": {},
   "outputs": [],
   "source": [
    "## kmeans"
   ]
  },
  {
   "cell_type": "code",
   "execution_count": 66,
   "id": "fff2bf1d",
   "metadata": {},
   "outputs": [
    {
     "data": {
      "image/png": "[encoded data removed]",
      "text/plain": [
       "<Figure size 640x480 with 1 Axes>"
      ]
     },
     "metadata": {},
     "output_type": "display_data"
    }
   ],
   "source": [
    "K_range = range(1,100)\n",
    "inertias = cluster_util.elbow_for_kmean(X_glove, K_range = K_range)\n",
    "\n",
    "import matplotlib.pyplot as plt \n",
    "\n",
    "plt.plot(K_range, inertias, 'bx-')\n",
    "plt.xlabel('Values of K')\n",
    "plt.ylabel('Inertias')\n",
    "plt.title('The Elbow Method using Inertias')\n",
    "plt.show()"
   ]
  },
  {
   "cell_type": "code",
   "execution_count": 70,
   "id": "7d9886b3",
   "metadata": {},
   "outputs": [],
   "source": [
    "num_clusters = 80\n",
    "res = cluster_util.cluster_kmeans(X_glove, n_clusters=num_clusters)\n",
    "df2_err_ename.loc[:,\"cluster\"] = res\n",
    "#cluster_util.print_clusters(num_clusters, df2_err_ename[['evalue','cluster']])"
   ]
  },
  {
   "cell_type": "code",
   "execution_count": 48,
   "id": "57c2196d",
   "metadata": {},
   "outputs": [],
   "source": [
    "df2_err_ename = df2_err_ename.rename(columns={\"cluster\": \"cluster_km_glove\"})\n",
    "df2_err_ename.to_excel(path_file, index=False, engine='xlsxwriter')"
   ]
  },
  {
   "cell_type": "code",
   "execution_count": 49,
   "id": "21865225",
   "metadata": {},
   "outputs": [],
   "source": [
    "## dbscan"
   ]
  },
  {
   "cell_type": "code",
   "execution_count": 50,
   "id": "5652e91c",
   "metadata": {},
   "outputs": [
    {
     "name": "stdout",
     "output_type": "stream",
     "text": [
      "0.9936201597249292\n",
      "Estimated no. of clusters: 76\n",
      "Estimated no. of noise points: 6354\n"
     ]
    }
   ],
   "source": [
    "eps_glove = cluster_util.epsilon_search_dbscan(X_glove)\n",
    "print(eps_glove)\n",
    "res = cluster_util.cluster_dbscan(X_glove, eps=eps_glove, min_samples=30)"
   ]
  },
  {
   "cell_type": "code",
   "execution_count": 51,
   "id": "532e8eee",
   "metadata": {},
   "outputs": [],
   "source": [
    "df2_err_ename.loc[:,\"cluster\"] = res\n",
    "#cluster_util.print_clusters(20, df2_err_ename[['evalue','cluster']])"
   ]
  },
  {
   "cell_type": "code",
   "execution_count": 52,
   "id": "8b4242bd",
   "metadata": {},
   "outputs": [],
   "source": [
    "df2_err_ename = df2_err_ename.rename(columns={\"cluster\": \"cluster_dbscan_glove\"})\n",
    "df2_err_ename.to_excel(path_file, index=False, engine='xlsxwriter')"
   ]
  },
  {
   "cell_type": "code",
   "execution_count": 53,
   "id": "0cbf23c7",
   "metadata": {},
   "outputs": [],
   "source": [
    "## OPTICS"
   ]
  },
  {
   "cell_type": "code",
   "execution_count": 54,
   "id": "fc1a661d",
   "metadata": {},
   "outputs": [
    {
     "name": "stdout",
     "output_type": "stream",
     "text": [
      "Estimated no. of clusters: 87\n",
      "Estimated no. of noise points: 7068\n"
     ]
    },
    {
     "name": "stderr",
     "output_type": "stream",
     "text": [
      "C:\\Users\\yirwa29\\AppData\\Local\\anaconda3\\envs\\chatgpt\\Lib\\site-packages\\sklearn\\cluster\\_optics.py:1081: RuntimeWarning: divide by zero encountered in divide\n",
      "  ratio = reachability_plot[:-1] / reachability_plot[1:]\n"
     ]
    }
   ],
   "source": [
    "res = cluster_util.cluster_optics(X_glove, min_samples = 30)"
   ]
  },
  {
   "cell_type": "code",
   "execution_count": 55,
   "id": "e4f8469d",
   "metadata": {},
   "outputs": [],
   "source": [
    "df2_err_ename.loc[:,\"cluster\"] = res\n",
    "#cluster_util.print_clusters(20, df2_err_ename[['evalue','cluster']])"
   ]
  },
  {
   "cell_type": "code",
   "execution_count": 56,
   "id": "2553a357",
   "metadata": {},
   "outputs": [],
   "source": [
    "df2_err_ename = df2_err_ename.rename(columns={\"cluster\": \"cluster_optics_glove\"})\n",
    "df2_err_ename.to_excel(path_file, index=False, engine='xlsxwriter')"
   ]
  },
  {
   "cell_type": "markdown",
   "id": "60113cc0",
   "metadata": {},
   "source": [
    "### 3. Evaluate vectorization and clustering methods"
   ]
  },
  {
   "cell_type": "code",
   "execution_count": 57,
   "id": "eb8915c9",
   "metadata": {},
   "outputs": [
    {
     "data": {
      "text/plain": [
       "Index(['fname', 'ename', 'evalue', 'evalue_tokenized', 'traceback',\n",
       "       'lib_parsed', 'evalue_tokenized_transformer', 'cluster_km_tfidf',\n",
       "       'cluster_dbscan_tfidf', 'cluster_optics_tfidf',\n",
       "       'cluster_km_transformers', 'cluster_km_transformers1',\n",
       "       'cluster_dbscan_transformers', 'cluster_dbscan_transformers1',\n",
       "       'cluster_optics_transformers', 'cluster_optics_transformers1',\n",
       "       'cluster_km_glove', 'cluster_dbscan_glove', 'cluster_optics_glove'],\n",
       "      dtype='object')"
      ]
     },
     "execution_count": 57,
     "metadata": {},
     "output_type": "execute_result"
    }
   ],
   "source": [
    "df2_err_ename.columns"
   ]
  },
  {
   "cell_type": "code",
   "execution_count": 58,
   "id": "70c2046f",
   "metadata": {},
   "outputs": [],
   "source": [
    "import pandas as pd\n",
    "import numpy as np\n",
    "import cluster_util\n",
    "\n",
    "path = r'C:\\Users\\yirwa29\\Downloads\\Dataset-Nb\\nbdata_g_error\\analysis_gerr\\cluster_selection_g_valueerror'\n",
    "path_file = path+\"/nberror_g_cluster_valueerror.xlsx\"\n",
    "\n",
    "df2_err_ename = pd.read_excel(path_file)\n",
    "with open(path+'/nberror_g_valueerror_embeddings_tfidf.txt', 'rb') as f:\n",
    "    X_tfidf = np.load(f)\n",
    "with open(path+'/nberror_g_valueerror_embeddings_transformers.txt', 'rb') as f:\n",
    "    X_transformers = np.load(f)\n",
    "with open(path+'/nberror_g_valueerror_embeddings_transformers_1.txt', 'rb') as f:\n",
    "    X_transformers1 = np.load(f)\n",
    "with open(path+'/nberror_g_valueerror_embeddings_glove.txt', 'rb') as f:\n",
    "    X_glove = np.load(f)"
   ]
  },
  {
   "cell_type": "code",
   "execution_count": 74,
   "id": "f6678d1c",
   "metadata": {},
   "outputs": [],
   "source": [
    "arr_eval = np.zeros((3,4))\n",
    "name_cols = ['tfidf','word2vec','transformer','transformer1']\n",
    "name_rows = ['kmeans','dbscan','optics']\n",
    "\n",
    "#ss_km_tfidf\n",
    "arr_eval[0,0] = cluster_util.eval_cluster_silhouette(X_tfidf, df2_err_ename['cluster_km_tfidf'])\n",
    "#ss_km_glove\n",
    "arr_eval[0,1] = cluster_util.eval_cluster_silhouette(X_glove, df2_err_ename['cluster_km_glove'])\n",
    "#ss_km_transformers\n",
    "arr_eval[0,2] = cluster_util.eval_cluster_silhouette(X_transformers, df2_err_ename['cluster_km_transformers'])\n",
    "#ss_km_transformers1\n",
    "arr_eval[0,3] = cluster_util.eval_cluster_silhouette(X_transformers1, df2_err_ename['cluster_km_transformers1'])\n",
    "\n",
    "#ss_dbscan_tfidf\n",
    "arr_eval[1,0] = cluster_util.eval_cluster_silhouette(X_tfidf[df2_err_ename['cluster_dbscan_tfidf']!=-1], \n",
    "                                        df2_err_ename.loc[df2_err_ename['cluster_dbscan_tfidf']!=-1, 'cluster_dbscan_tfidf'])\n",
    "#ss_dbscan_glove\n",
    "arr_eval[1,1] = cluster_util.eval_cluster_silhouette(X_glove[df2_err_ename['cluster_dbscan_glove']!=-1],\n",
    "                                        df2_err_ename.loc[df2_err_ename['cluster_dbscan_glove']!=-1, 'cluster_dbscan_glove'])\n",
    "#ss_dbscan_transformers\n",
    "arr_eval[1,2] = cluster_util.eval_cluster_silhouette(X_transformers[df2_err_ename['cluster_dbscan_transformers']!=-1],\n",
    "                                        df2_err_ename.loc[df2_err_ename['cluster_dbscan_transformers']!=-1, 'cluster_dbscan_transformers'])\n",
    "#ss_dbscan_transformers1\n",
    "arr_eval[1,3] = cluster_util.eval_cluster_silhouette(X_transformers1[df2_err_ename['cluster_dbscan_transformers1']!=-1],\n",
    "                                        df2_err_ename.loc[df2_err_ename['cluster_dbscan_transformers1']!=-1, 'cluster_dbscan_transformers1'])\n",
    "#ss_optics_tfidf\n",
    "arr_eval[2,0] = cluster_util.eval_cluster_silhouette(X_tfidf[df2_err_ename['cluster_optics_tfidf']!=-1],\n",
    "                                        df2_err_ename.loc[df2_err_ename['cluster_optics_tfidf']!=-1, 'cluster_optics_tfidf'])\n",
    "#ss_optics_glove\n",
    "arr_eval[2,1] = cluster_util.eval_cluster_silhouette(X_glove[df2_err_ename['cluster_optics_glove']!=-1],\n",
    "                                        df2_err_ename.loc[df2_err_ename['cluster_optics_glove']!=-1, 'cluster_optics_glove'])\n",
    "#ss_optics_transformers\n",
    "arr_eval[2,2] = cluster_util.eval_cluster_silhouette(X_transformers[df2_err_ename['cluster_optics_transformers']!=-1],\n",
    "                                        df2_err_ename.loc[df2_err_ename['cluster_optics_transformers']!=-1, 'cluster_optics_transformers'])\n",
    "#ss_optics_transformers1\n",
    "arr_eval[2,3] = cluster_util.eval_cluster_silhouette(X_transformers1[df2_err_ename['cluster_optics_transformers1']!=-1],\n",
    "                                        df2_err_ename.loc[df2_err_ename['cluster_optics_transformers1']!=-1, 'cluster_optics_transformers1'])"
   ]
  },
  {
   "cell_type": "code",
   "execution_count": 75,
   "id": "13b943ee",
   "metadata": {},
   "outputs": [
    {
     "data": {
      "text/html": [
       "<div>\n",
       "<style scoped>\n",
       "    .dataframe tbody tr th:only-of-type {\n",
       "        vertical-align: middle;\n",
       "    }\n",
       "\n",
       "    .dataframe tbody tr th {\n",
       "        vertical-align: top;\n",
       "    }\n",
       "\n",
       "    .dataframe thead th {\n",
       "        text-align: right;\n",
       "    }\n",
       "</style>\n",
       "<table border=\"1\" class=\"dataframe\">\n",
       "  <thead>\n",
       "    <tr style=\"text-align: right;\">\n",
       "      <th></th>\n",
       "      <th>tfidf</th>\n",
       "      <th>word2vec</th>\n",
       "      <th>transformer</th>\n",
       "      <th>transformer1</th>\n",
       "    </tr>\n",
       "  </thead>\n",
       "  <tbody>\n",
       "    <tr>\n",
       "      <th>kmeans</th>\n",
       "      <td>0.448367</td>\n",
       "      <td>0.391797</td>\n",
       "      <td>0.425322</td>\n",
       "      <td>0.252347</td>\n",
       "    </tr>\n",
       "    <tr>\n",
       "      <th>dbscan</th>\n",
       "      <td>0.852318</td>\n",
       "      <td>0.859828</td>\n",
       "      <td>0.806426</td>\n",
       "      <td>0.672226</td>\n",
       "    </tr>\n",
       "    <tr>\n",
       "      <th>optics</th>\n",
       "      <td>0.909886</td>\n",
       "      <td>0.950594</td>\n",
       "      <td>0.917535</td>\n",
       "      <td>0.758300</td>\n",
       "    </tr>\n",
       "  </tbody>\n",
       "</table>\n",
       "</div>"
      ],
      "text/plain": [
       "           tfidf  word2vec  transformer  transformer1\n",
       "kmeans  0.448367  0.391797     0.425322      0.252347\n",
       "dbscan  0.852318  0.859828     0.806426      0.672226\n",
       "optics  0.909886  0.950594     0.917535      0.758300"
      ]
     },
     "execution_count": 75,
     "metadata": {},
     "output_type": "execute_result"
    }
   ],
   "source": [
    "df_eval = pd.DataFrame(arr_eval, index=name_rows, columns=name_cols)\n",
    "df_eval"
   ]
  },
  {
   "cell_type": "code",
   "execution_count": 76,
   "id": "a19129a5",
   "metadata": {},
   "outputs": [],
   "source": [
    "df_eval.to_excel(path+\"/nberror_g_cluster_valueerror_eval.xlsx\", index=False, engine='xlsxwriter')"
   ]
  },
  {
   "cell_type": "markdown",
   "id": "7a3a8733",
   "metadata": {},
   "source": [
    "selected optimal clustering method + wordembeddings = optics + word2vec(GloVe)"
   ]
  },
  {
   "cell_type": "markdown",
   "id": "99b0cc24",
   "metadata": {},
   "source": [
    "## Test the retrained word2vec vs. GloVe\n",
    "\n",
    "on Optics"
   ]
  },
  {
   "cell_type": "code",
   "execution_count": 1,
   "id": "5e9fe4b5",
   "metadata": {},
   "outputs": [
    {
     "name": "stdout",
     "output_type": "stream",
     "text": [
      "path_default=WindowsPath('C:/Users/yirwa29/Downloads/Dataset-Nb')\n"
     ]
    },
    {
     "name": "stderr",
     "output_type": "stream",
     "text": [
      "C:\\Users\\yirwa29\\AppData\\Local\\anaconda3\\envs\\chatgpt\\Lib\\site-packages\\tqdm\\auto.py:21: TqdmWarning: IProgress not found. Please update jupyter and ipywidgets. See https://ipywidgets.readthedocs.io/en/stable/user_install.html\n",
      "  from .autonotebook import tqdm as notebook_tqdm\n"
     ]
    }
   ],
   "source": [
    "import pandas as pd \n",
    "import config\n",
    "import cluster_util\n",
    "import numpy as np\n",
    "\n",
    "path_gvalue = config.path_github_error_process.joinpath(\"nberror_g_all_eid_p_mlbugs.xlsx\")\n",
    "df_err_gvalue = pd.read_excel(path_gvalue)"
   ]
  },
  {
   "cell_type": "code",
   "execution_count": 2,
   "id": "8ea4be2d",
   "metadata": {},
   "outputs": [],
   "source": [
    "df_err_gvalue = df_err_gvalue[(~df_err_gvalue.evalue.isnull()) & (~df_err_gvalue.exp_mllib.isnull()) & (df_err_gvalue.ename==\"valueerror\")]\n",
    "df_err_gvalue[\"evalue_tokenized\"] = df_err_gvalue.evalue.apply(cluster_util.preprocess_text)\n",
    "df_err_gvalue = df_err_gvalue[df_err_gvalue[\"evalue_tokenized\"]!=\"\"]\n",
    "err_descs = df_err_gvalue['evalue_tokenized'].values.astype('U')"
   ]
  },
  {
   "cell_type": "code",
   "execution_count": 3,
   "id": "06bbbf96",
   "metadata": {},
   "outputs": [
    {
     "name": "stdout",
     "output_type": "stream",
     "text": [
      "Loaded 400000 word vectors from GloVe.\n",
      "Estimated no. of clusters: 756\n",
      "Estimated no. of noise points: 1147\n"
     ]
    },
    {
     "name": "stderr",
     "output_type": "stream",
     "text": [
      "C:\\Users\\yirwa29\\AppData\\Local\\anaconda3\\envs\\chatgpt\\Lib\\site-packages\\sklearn\\cluster\\_optics.py:1081: RuntimeWarning: divide by zero encountered in divide\n",
      "  ratio = reachability_plot[:-1] / reachability_plot[1:]\n"
     ]
    }
   ],
   "source": [
    "glove_vectors = cluster_util.load_glove(config.path_default.joinpath(\"glove.6B/glove.6B.200d.txt\"))\n",
    "X_glove = np.array([cluster_util.vectorizer_word2vec(xi, glove_vectors, 200) for xi in err_descs])\n",
    "X_glove_rd = cluster_util.pca(X_glove, n_component=20)\n",
    "df_err_gvalue.loc[:,\"cluster_optics_glove\"] = cluster_util.cluster_optics(X_glove_rd, min_samples = 2)"
   ]
  },
  {
   "cell_type": "code",
   "execution_count": null,
   "id": "cd0a630d",
   "metadata": {},
   "outputs": [],
   "source": [
    "import importlib\n",
    "importlib.reload(cluster_util)\n",
    "import cluster_util"
   ]
  },
  {
   "cell_type": "code",
   "execution_count": 4,
   "id": "c072ad0f",
   "metadata": {},
   "outputs": [
    {
     "name": "stderr",
     "output_type": "stream",
     "text": [
      "C:\\Users\\yirwa29\\AppData\\Local\\anaconda3\\envs\\chatgpt\\Lib\\site-packages\\sklearn\\cluster\\_optics.py:1081: RuntimeWarning: divide by zero encountered in divide\n",
      "  ratio = reachability_plot[:-1] / reachability_plot[1:]\n"
     ]
    },
    {
     "name": "stdout",
     "output_type": "stream",
     "text": [
      "Estimated no. of clusters: 815\n",
      "Estimated no. of noise points: 771\n"
     ]
    },
    {
     "name": "stderr",
     "output_type": "stream",
     "text": [
      "C:\\Users\\yirwa29\\AppData\\Local\\anaconda3\\envs\\chatgpt\\Lib\\site-packages\\sklearn\\cluster\\_optics.py:1081: RuntimeWarning: divide by zero encountered in divide\n",
      "  ratio = reachability_plot[:-1] / reachability_plot[1:]\n"
     ]
    },
    {
     "name": "stdout",
     "output_type": "stream",
     "text": [
      "Estimated no. of clusters: 806\n",
      "Estimated no. of noise points: 784\n"
     ]
    },
    {
     "name": "stderr",
     "output_type": "stream",
     "text": [
      "C:\\Users\\yirwa29\\AppData\\Local\\anaconda3\\envs\\chatgpt\\Lib\\site-packages\\sklearn\\cluster\\_optics.py:1081: RuntimeWarning: divide by zero encountered in divide\n",
      "  ratio = reachability_plot[:-1] / reachability_plot[1:]\n"
     ]
    },
    {
     "name": "stdout",
     "output_type": "stream",
     "text": [
      "Estimated no. of clusters: 812\n",
      "Estimated no. of noise points: 799\n"
     ]
    },
    {
     "name": "stderr",
     "output_type": "stream",
     "text": [
      "C:\\Users\\yirwa29\\AppData\\Local\\anaconda3\\envs\\chatgpt\\Lib\\site-packages\\sklearn\\cluster\\_optics.py:1081: RuntimeWarning: divide by zero encountered in divide\n",
      "  ratio = reachability_plot[:-1] / reachability_plot[1:]\n"
     ]
    },
    {
     "name": "stdout",
     "output_type": "stream",
     "text": [
      "Estimated no. of clusters: 813\n",
      "Estimated no. of noise points: 1040\n"
     ]
    },
    {
     "name": "stderr",
     "output_type": "stream",
     "text": [
      "C:\\Users\\yirwa29\\AppData\\Local\\anaconda3\\envs\\chatgpt\\Lib\\site-packages\\sklearn\\cluster\\_optics.py:1081: RuntimeWarning: divide by zero encountered in divide\n",
      "  ratio = reachability_plot[:-1] / reachability_plot[1:]\n"
     ]
    },
    {
     "name": "stdout",
     "output_type": "stream",
     "text": [
      "Estimated no. of clusters: 806\n",
      "Estimated no. of noise points: 839\n"
     ]
    }
   ],
   "source": [
    "import retrain_word2vec,config\n",
    "\n",
    "def cluster_with_w2v(model_name=\"nberr_word2vec.model\", res_col_name=\"cluster_optics_w2v\", n_comp=20, min_sam=2, is_subword=False):\n",
    "    w2v_model = retrain_word2vec.load_word2vec(config.path_w2v_models, model_name)\n",
    "    X_w2v = np.array([cluster_util.vectorizer_word2vec(xi, w2v_model.wv, w2v_model.vector_size, is_subword=is_subword) for xi in err_descs])\n",
    "    X_w2v_rd = cluster_util.pca(X_w2v, n_component=n_comp)\n",
    "    df_err_gvalue.loc[:,res_col_name] = cluster_util.cluster_optics(X_w2v_rd, min_samples = min_sam)\n",
    "    \n",
    "    return cluster_util.eval_cluster_silhouette(X_w2v_rd[df_err_gvalue[res_col_name]!=-1],\n",
    "                                        df_err_gvalue.loc[df_err_gvalue[res_col_name]!=-1, res_col_name])\n",
    "\n",
    "sq_w2v = cluster_with_w2v()\n",
    "sq_w2v_sg = cluster_with_w2v(model_name=\"nberr_word2vec_sg.model\", res_col_name=\"cluster_optics_w2v_sg\")\n",
    "sq_w2v_finetune = cluster_with_w2v(model_name=\"nberr_word2vec_glove_finetune.model\", res_col_name=\"cluster_optics_w2v_finetune\")\n",
    "sq_w2v_subword2vec = cluster_with_w2v(model_name=\"nberr_subword2vec.model\", res_col_name=\"cluster_optics_w2v_subword2vec\", is_subword=True)\n",
    "sq_w2v_subword2vec_finetune = cluster_with_w2v(model_name=\"nberr_subword2vec_finetune.model\", res_col_name=\"cluster_optics_w2v_subword2vec_finetune\", is_subword=True)"
   ]
  },
  {
   "cell_type": "code",
   "execution_count": 5,
   "id": "bfc8a7ab",
   "metadata": {},
   "outputs": [],
   "source": [
    "df_err_gvalue_optics_w2v = df_err_gvalue[['fname','evalue','evalue_tokenized','traceback',\n",
    "               'cluster_optics_glove','cluster_optics_w2v','cluster_optics_w2v_sg',\n",
    "               'cluster_optics_w2v_finetune','cluster_optics_w2v_subword2vec','cluster_optics_w2v_subword2vec_finetune']]\n",
    "# df_err_gvalue_optics_w2v.to_excel(config.path_w2v_models.joinpath(\"nberror_gvalueerror_w2v.xlsx\"), index=False, engine='xlsxwriter')"
   ]
  },
  {
   "cell_type": "code",
   "execution_count": 6,
   "id": "1b30ce2f",
   "metadata": {},
   "outputs": [],
   "source": [
    "ss_lev_glove, sum_lev_glove = cluster_util.statistics_lev(df_err_gvalue_optics_w2v, \"cluster_optics_glove\",\"evalue\")\n",
    "ss_lev_w2v, sum_lev_w2v = cluster_util.statistics_lev(df_err_gvalue_optics_w2v, \"cluster_optics_w2v\",\"evalue\")\n",
    "ss_lev_w2v_sg, sum_lev_w2v_sg = cluster_util.statistics_lev(df_err_gvalue_optics_w2v, \"cluster_optics_w2v_sg\",\"evalue\")\n",
    "ss_lev_w2v_finetune, sum_lev_w2v_finetune = cluster_util.statistics_lev(df_err_gvalue_optics_w2v, \"cluster_optics_w2v_finetune\",\"evalue\")\n",
    "ss_lev_subword2vec, sum_lev_subword2vec = cluster_util.statistics_lev(df_err_gvalue_optics_w2v, \"cluster_optics_w2v_subword2vec\",\"evalue\")\n",
    "ss_lev_subword2vec_finetune, sum_lev_subword2vec_finetune = cluster_util.statistics_lev(df_err_gvalue_optics_w2v, \"cluster_optics_w2v_subword2vec_finetune\",\"evalue\")"
   ]
  },
  {
   "cell_type": "code",
   "execution_count": 7,
   "id": "ccb7e248",
   "metadata": {},
   "outputs": [
    {
     "data": {
      "text/html": [
       "<div>\n",
       "<style scoped>\n",
       "    .dataframe tbody tr th:only-of-type {\n",
       "        vertical-align: middle;\n",
       "    }\n",
       "\n",
       "    .dataframe tbody tr th {\n",
       "        vertical-align: top;\n",
       "    }\n",
       "\n",
       "    .dataframe thead th {\n",
       "        text-align: right;\n",
       "    }\n",
       "</style>\n",
       "<table border=\"1\" class=\"dataframe\">\n",
       "  <thead>\n",
       "    <tr style=\"text-align: right;\">\n",
       "      <th></th>\n",
       "      <th>word2vec_glove</th>\n",
       "      <th>word2vec_retrain</th>\n",
       "      <th>word2vec_retrain_sg</th>\n",
       "      <th>word2vec_finetune</th>\n",
       "      <th>word2vec_subword</th>\n",
       "      <th>word2vec_subword_finetune</th>\n",
       "    </tr>\n",
       "  </thead>\n",
       "  <tbody>\n",
       "    <tr>\n",
       "      <th>optics_sh</th>\n",
       "      <td>0.936553</td>\n",
       "      <td>0.931412</td>\n",
       "      <td>0.930538</td>\n",
       "      <td>0.930297</td>\n",
       "      <td>0.929681</td>\n",
       "      <td>0.938684</td>\n",
       "    </tr>\n",
       "    <tr>\n",
       "      <th>optics_lev</th>\n",
       "      <td>0.907255</td>\n",
       "      <td>0.908449</td>\n",
       "      <td>0.905401</td>\n",
       "      <td>0.907124</td>\n",
       "      <td>0.901610</td>\n",
       "      <td>0.911209</td>\n",
       "    </tr>\n",
       "    <tr>\n",
       "      <th>optics_lev_std</th>\n",
       "      <td>0.043713</td>\n",
       "      <td>0.041224</td>\n",
       "      <td>0.043879</td>\n",
       "      <td>0.039849</td>\n",
       "      <td>0.043788</td>\n",
       "      <td>0.040501</td>\n",
       "    </tr>\n",
       "    <tr>\n",
       "      <th>n_noise</th>\n",
       "      <td>0.150446</td>\n",
       "      <td>0.101128</td>\n",
       "      <td>0.102833</td>\n",
       "      <td>0.104801</td>\n",
       "      <td>0.136411</td>\n",
       "      <td>0.110047</td>\n",
       "    </tr>\n",
       "  </tbody>\n",
       "</table>\n",
       "</div>"
      ],
      "text/plain": [
       "                word2vec_glove  word2vec_retrain  word2vec_retrain_sg  \\\n",
       "optics_sh             0.936553          0.931412             0.930538   \n",
       "optics_lev            0.907255          0.908449             0.905401   \n",
       "optics_lev_std        0.043713          0.041224             0.043879   \n",
       "n_noise               0.150446          0.101128             0.102833   \n",
       "\n",
       "                word2vec_finetune  word2vec_subword  word2vec_subword_finetune  \n",
       "optics_sh                0.930297          0.929681                   0.938684  \n",
       "optics_lev               0.907124          0.901610                   0.911209  \n",
       "optics_lev_std           0.039849          0.043788                   0.040501  \n",
       "n_noise                  0.104801          0.136411                   0.110047  "
      ]
     },
     "execution_count": 7,
     "metadata": {},
     "output_type": "execute_result"
    }
   ],
   "source": [
    "arr_eval = np.zeros((4,6))\n",
    "name_cols = ['word2vec_glove','word2vec_retrain','word2vec_retrain_sg','word2vec_finetune','word2vec_subword','word2vec_subword_finetune']\n",
    "name_rows = ['optics_sh','optics_lev','optics_lev_std','n_noise']\n",
    "\n",
    "#ss_optics_glove\n",
    "sh_glove = cluster_util.eval_cluster_silhouette(X_glove_rd[df_err_gvalue_optics_w2v['cluster_optics_glove']!=-1],\n",
    "                                                df_err_gvalue_optics_w2v.loc[df_err_gvalue_optics_w2v['cluster_optics_glove']!=-1, 'cluster_optics_glove'])\n",
    "arr_eval[:,0] = [sh_glove]+sum_lev_glove\n",
    "\n",
    "#ss_optics_retrain\n",
    "arr_eval[:,1] = [sq_w2v]+sum_lev_w2v\n",
    "arr_eval[:,2] = [sq_w2v_sg]+sum_lev_w2v_sg\n",
    "arr_eval[:,3] = [sq_w2v_finetune]+sum_lev_w2v_finetune\n",
    "arr_eval[:,4] = [sq_w2v_subword2vec]+sum_lev_subword2vec\n",
    "arr_eval[:,5] = [sq_w2v_subword2vec_finetune]+sum_lev_subword2vec_finetune\n",
    "\n",
    "pd.DataFrame(arr_eval, index=name_rows, columns=name_cols)"
   ]
  },
  {
   "cell_type": "code",
   "execution_count": 8,
   "id": "bf5b82e8",
   "metadata": {},
   "outputs": [
    {
     "data": {
      "image/png": "[encoded data removed]",
      "text/plain": [
       "<Figure size 1500x700 with 1 Axes>"
      ]
     },
     "metadata": {},
     "output_type": "display_data"
    }
   ],
   "source": [
    "import matplotlib.pyplot as plt\n",
    "import math\n",
    "\n",
    "fig, ax = plt.subplots(figsize=(15, 7))\n",
    "ax.scatter(ss_lev_glove['mean_similarity'], ss_lev_glove.cluster_size, \n",
    "           label = 'glove', s=4,color =(0.0,0.0,1.0,0.5))\n",
    "# ax.errorbar(ss_lev_glove['mean_similarity'], ss_lev_glove.cluster_size, xerr=ss_lev_glove['std_similarity'], \n",
    "#              lw=1, capsize=3, ecolor=(0.0,0.0,1.0,0.1), ls='none')\n",
    "\n",
    "ax.scatter(ss_lev_subword2vec_finetune['mean_similarity'], ss_lev_subword2vec_finetune.cluster_size, \n",
    "           label = 'subword_finetune', s=4, color=(1.0,0.0,0.0,0.5))\n",
    "# ax.errorbar(ss_lev_subword2vec_finetune['mean_similarity'], ss_lev_subword2vec_finetune.cluster_size, xerr=ss_lev_subword2vec_finetune['std_similarity'], \n",
    "#              lw=1, capsize=3, ecolor=(1.0,0.0,0.0,0.1), ls='none')\n",
    "ax.legend()\n",
    "plt.show()"
   ]
  },
  {
   "cell_type": "code",
   "execution_count": null,
   "id": "5cc612e2",
   "metadata": {},
   "outputs": [],
   "source": []
  },
  {
   "cell_type": "code",
   "execution_count": null,
   "id": "3e088ca9",
   "metadata": {},
   "outputs": [],
   "source": []
  }
 ],
 "metadata": {
  "kernelspec": {
   "display_name": "Python 3 (ipykernel)",
   "language": "python",
   "name": "python3"
  },
  "language_info": {
   "codemirror_mode": {
    "name": "ipython",
    "version": 3
   },
   "file_extension": ".py",
   "mimetype": "text/x-python",
   "name": "python",
   "nbconvert_exporter": "python",
   "pygments_lexer": "ipython3",
   "version": "3.11.5"
  }
 },
 "nbformat": 4,
 "nbformat_minor": 5
}
