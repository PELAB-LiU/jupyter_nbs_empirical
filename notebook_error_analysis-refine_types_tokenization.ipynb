{
 "cells": [
  {
   "cell_type": "markdown",
   "id": "4566c1f6",
   "metadata": {},
   "source": [
    "# Notebook error analysis \n",
    "\n",
    "## Refining error types - tokenization\n",
    "\n",
    "Tokenize the processed error dataset"
   ]
  },
  {
   "cell_type": "markdown",
   "id": "0e237a83",
   "metadata": {},
   "source": [
    "### 1. GitHub errors"
   ]
  },
  {
   "cell_type": "code",
   "execution_count": 1,
   "id": "9583dc76",
   "metadata": {},
   "outputs": [
    {
     "name": "stderr",
     "output_type": "stream",
     "text": [
      "C:\\Users\\yirwa29\\AppData\\Local\\anaconda3\\envs\\chatgpt\\Lib\\site-packages\\tqdm\\auto.py:21: TqdmWarning: IProgress not found. Please update jupyter and ipywidgets. See https://ipywidgets.readthedocs.io/en/stable/user_install.html\n",
      "  from .autonotebook import tqdm as notebook_tqdm\n"
     ]
    }
   ],
   "source": [
    "import pandas as pd \n",
    "import cluster_util\n",
    "\n",
    "path = r\"C:\\Users\\yirwa29\\Downloads\\Dataset-Nb\\nbdata_g_error\\analysis_gerr\"\n",
    "\n",
    "df2_err = pd.read_excel(path+'/nberror_g_all_p6.xlsx')\n",
    "df2_err['evalue_tokenized'] = df2_err['evalue'].apply(cluster_util.preprocess_text)"
   ]
  },
  {
   "cell_type": "code",
   "execution_count": 4,
   "id": "3feff374",
   "metadata": {},
   "outputs": [],
   "source": [
    "df2_err = df2_err.reindex(columns=['fname', 'ename', 'evalue', 'evalue_tokenized', 'traceback', 'lib_parsed'])\n",
    "df2_err.to_excel(path+\"/nberror_g_all_p6_evaluetokenized.xlsx\", index=False, engine='xlsxwriter')"
   ]
  },
  {
   "cell_type": "markdown",
   "id": "7af3f2db",
   "metadata": {},
   "source": [
    "### 2. Kaggle errors"
   ]
  },
  {
   "cell_type": "code",
   "execution_count": 1,
   "id": "e2bdfbe2",
   "metadata": {},
   "outputs": [
    {
     "name": "stderr",
     "output_type": "stream",
     "text": [
      "C:\\Users\\yirwa29\\AppData\\Local\\anaconda3\\envs\\chatgpt\\Lib\\site-packages\\tqdm\\auto.py:21: TqdmWarning: IProgress not found. Please update jupyter and ipywidgets. See https://ipywidgets.readthedocs.io/en/stable/user_install.html\n",
      "  from .autonotebook import tqdm as notebook_tqdm\n"
     ]
    }
   ],
   "source": [
    "import pandas as pd \n",
    "import cluster_util\n",
    "\n",
    "path = r\"C:\\Users\\yirwa29\\Downloads\\Dataset-Nb\\nbdata_k_error\\analysis_kerr\"\n",
    "\n",
    "df_err = pd.read_excel(path+'/nberror_k_p5.xlsx')\n",
    "df_err['evalue_tokenized'] = df_err['evalue'].apply(cluster_util.preprocess_text)\n",
    "df_err = df_err.reindex(columns=['fname', 'ename', 'evalue', 'evalue_tokenized', 'traceback', 'lib_parsed'])\n",
    "df_err.to_excel(path+\"/nberror_k_p5_evaluetokenized.xlsx\", index=False, engine='xlsxwriter')"
   ]
  },
  {
   "cell_type": "code",
   "execution_count": null,
   "id": "eaf9d82b",
   "metadata": {},
   "outputs": [],
   "source": []
  }
 ],
 "metadata": {
  "kernelspec": {
   "display_name": "Python 3 (ipykernel)",
   "language": "python",
   "name": "python3"
  },
  "language_info": {
   "codemirror_mode": {
    "name": "ipython",
    "version": 3
   },
   "file_extension": ".py",
   "mimetype": "text/x-python",
   "name": "python",
   "nbconvert_exporter": "python",
   "pygments_lexer": "ipython3",
   "version": "3.11.5"
  }
 },
 "nbformat": 4,
 "nbformat_minor": 5
}
