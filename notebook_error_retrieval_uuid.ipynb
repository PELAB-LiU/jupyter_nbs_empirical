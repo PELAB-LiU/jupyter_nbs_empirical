{
 "cells": [
  {
   "cell_type": "markdown",
   "id": "1f60e92b",
   "metadata": {},
   "source": [
    "## 1. Filter notebooks in Kaggle containing errors in their outputs\n",
    "\n",
    "Adding the error id (file name + cell index + exception name)"
   ]
  },
  {
   "cell_type": "code",
   "execution_count": 1,
   "id": "1dbd939b",
   "metadata": {
    "scrolled": true
   },
   "outputs": [
    {
     "name": "stdout",
     "output_type": "stream",
     "text": [
      "path_default=WindowsPath('C:/Users/yirwa29/Downloads/Dataset-Nb')\n",
      "\n",
      "Started filtering:\n",
      "\n",
      "Total number of notebooks containing error: 4349\n",
      "Total number of notebooks that cannot be decoded: 0\n"
     ]
    }
   ],
   "source": [
    "import util\n",
    "import pandas as pd\n",
    "import config\n",
    "from pathlib import Path\n",
    "\n",
    "# regenerate, include uuid for errors\n",
    "df_err = util.filter_notebooks_with_errors(config.path_kaggle_error_process.joinpath(\"k_error_nbs\"))"
   ]
  },
  {
   "cell_type": "code",
   "execution_count": 7,
   "id": "a67b082b",
   "metadata": {},
   "outputs": [],
   "source": [
    "df_err.to_excel(config.path_kaggle_error_process.joinpath(\"nberror_k_eid.xlsx\"), index=False, engine='xlsxwriter')"
   ]
  },
  {
   "cell_type": "markdown",
   "id": "32e802be",
   "metadata": {},
   "source": [
    "## 2. Filter notebooks in Github containing errors in their outputs\n",
    "\n",
    "Adding the error id (file name + cell index + exception name)"
   ]
  },
  {
   "cell_type": "code",
   "execution_count": 11,
   "id": "24b55cb8",
   "metadata": {},
   "outputs": [
    {
     "name": "stdout",
     "output_type": "stream",
     "text": [
      "\n",
      "Started filtering:\n",
      "\n",
      "Total number of notebooks containing error: 112430\n",
      "Total number of notebooks that cannot be decoded: 0\n"
     ]
    }
   ],
   "source": [
    "import util\n",
    "import pandas as pd\n",
    "import config\n",
    "from pathlib import Path\n",
    "\n",
    "# regenerate, include uuid for errors\n",
    "df2_err = util.filter_notebooks_with_errors(config.path_github_error_process.joinpath(\"nbs\"))\n",
    "df2_err.to_excel(config.path_github_error_process.joinpath(\"nberror_g_all_eid.xlsx\"), index=False, engine='xlsxwriter')"
   ]
  },
  {
   "cell_type": "code",
   "execution_count": 12,
   "id": "eef4ba9e",
   "metadata": {},
   "outputs": [
    {
     "data": {
      "text/plain": [
       "fname        184961\n",
       "eid          184961\n",
       "ename        184961\n",
       "evalue       184961\n",
       "traceback    184961\n",
       "dtype: int64"
      ]
     },
     "execution_count": 12,
     "metadata": {},
     "output_type": "execute_result"
    }
   ],
   "source": [
    "df2_err.count() #184961"
   ]
  },
  {
   "cell_type": "code",
   "execution_count": 13,
   "id": "201bec69",
   "metadata": {},
   "outputs": [
    {
     "data": {
      "text/plain": [
       "112430"
      ]
     },
     "execution_count": 13,
     "metadata": {},
     "output_type": "execute_result"
    }
   ],
   "source": [
    "df2_err[\"fname\"].nunique() #112430"
   ]
  },
  {
   "cell_type": "markdown",
   "id": "6e26a0f5",
   "metadata": {},
   "source": [
    "### Filter only the error notebooks in Python language"
   ]
  },
  {
   "cell_type": "code",
   "execution_count": 15,
   "id": "e249e3ff",
   "metadata": {},
   "outputs": [],
   "source": [
    "import pandas as pd\n",
    "import util\n",
    "import config\n",
    "\n",
    "df2_err = pd.read_excel(config.path_github_error_process.joinpath(\"nberror_g_all_eid.xlsx\"))\n",
    "df2_python = pd.read_excel(config.path_default.joinpath('nbdata_g/nbdata_g_language_python.xlsx'))"
   ]
  },
  {
   "cell_type": "code",
   "execution_count": 16,
   "id": "cf2b7d2d",
   "metadata": {},
   "outputs": [],
   "source": [
    "df2_err_python = df2_err[df2_err.fname.isin(df2_python.fname)]"
   ]
  },
  {
   "cell_type": "code",
   "execution_count": 17,
   "id": "64bf6a2e",
   "metadata": {},
   "outputs": [
    {
     "data": {
      "text/plain": [
       "177258"
      ]
     },
     "execution_count": 17,
     "metadata": {},
     "output_type": "execute_result"
    }
   ],
   "source": [
    "len(df2_err_python) # 177258"
   ]
  },
  {
   "cell_type": "code",
   "execution_count": 18,
   "id": "d3144fbd",
   "metadata": {},
   "outputs": [
    {
     "data": {
      "text/plain": [
       "108925"
      ]
     },
     "execution_count": 18,
     "metadata": {},
     "output_type": "execute_result"
    }
   ],
   "source": [
    "df2_err_python.fname.nunique() #108925"
   ]
  },
  {
   "cell_type": "code",
   "execution_count": 19,
   "id": "9078bd1c",
   "metadata": {},
   "outputs": [
    {
     "data": {
      "text/plain": [
       "1020540"
      ]
     },
     "execution_count": 19,
     "metadata": {},
     "output_type": "execute_result"
    }
   ],
   "source": [
    "len(df2_python) #1020540"
   ]
  },
  {
   "cell_type": "code",
   "execution_count": 20,
   "id": "5fb4de41",
   "metadata": {},
   "outputs": [
    {
     "data": {
      "text/plain": [
       "0.1067327101338507"
      ]
     },
     "execution_count": 20,
     "metadata": {},
     "output_type": "execute_result"
    }
   ],
   "source": [
    "df2_err_python.fname.nunique()/len(df2_python) #0.1067327101338507"
   ]
  },
  {
   "cell_type": "code",
   "execution_count": 21,
   "id": "322eb632",
   "metadata": {},
   "outputs": [
    {
     "data": {
      "text/html": [
       "<div>\n",
       "<style scoped>\n",
       "    .dataframe tbody tr th:only-of-type {\n",
       "        vertical-align: middle;\n",
       "    }\n",
       "\n",
       "    .dataframe tbody tr th {\n",
       "        vertical-align: top;\n",
       "    }\n",
       "\n",
       "    .dataframe thead th {\n",
       "        text-align: right;\n",
       "    }\n",
       "</style>\n",
       "<table border=\"1\" class=\"dataframe\">\n",
       "  <thead>\n",
       "    <tr style=\"text-align: right;\">\n",
       "      <th></th>\n",
       "      <th>fname</th>\n",
       "      <th>eid</th>\n",
       "      <th>ename</th>\n",
       "      <th>evalue</th>\n",
       "      <th>traceback</th>\n",
       "    </tr>\n",
       "  </thead>\n",
       "  <tbody>\n",
       "    <tr>\n",
       "      <th>0</th>\n",
       "      <td>00000-101-cookie-clicker-v2-checkpoint.ipynb</td>\n",
       "      <td>ee96dec2-5fe1-3987-ba58-07e512554c00</td>\n",
       "      <td>KeyboardInterrupt</td>\n",
       "      <td>NaN</td>\n",
       "      <td>['\\x1b[0;31m----------------------------------...</td>\n",
       "    </tr>\n",
       "    <tr>\n",
       "      <th>1</th>\n",
       "      <td>00000-1012-demand-forecasting-data-prep-from-s...</td>\n",
       "      <td>b4f66669-4871-3fee-a363-f66dbdb4d1e6</td>\n",
       "      <td>OperationalError</td>\n",
       "      <td>FATAL:  no pg_hba.conf entry for host \"75.166....</td>\n",
       "      <td>['\\x1b[0;31m----------------------------------...</td>\n",
       "    </tr>\n",
       "    <tr>\n",
       "      <th>2</th>\n",
       "      <td>00000-1017-heatmapseq2seq.ipynb</td>\n",
       "      <td>043d8058-a3ec-329f-b336-8e33c5aa13af</td>\n",
       "      <td>ValueError</td>\n",
       "      <td>x and y must have same first dimension, but ha...</td>\n",
       "      <td>['\\x1b[0;31m----------------------------------...</td>\n",
       "    </tr>\n",
       "    <tr>\n",
       "      <th>3</th>\n",
       "      <td>00000-1023-crawler-20190515-20190516.ipynb</td>\n",
       "      <td>eae0a7a6-1c3a-381e-838c-9c450abccba9</td>\n",
       "      <td>ConnectionError</td>\n",
       "      <td>HTTPSConnectionPool(host='www.backpackers.com....</td>\n",
       "      <td>['\\x1b[1;31m----------------------------------...</td>\n",
       "    </tr>\n",
       "    <tr>\n",
       "      <th>4</th>\n",
       "      <td>00000-1033-peer-solution-predicting-survival-t...</td>\n",
       "      <td>b3d8e543-07dd-3c04-b122-3d6981b1564c</td>\n",
       "      <td>URLError</td>\n",
       "      <td>&lt;urlopen error [Errno 11001] getaddrinfo failed&gt;</td>\n",
       "      <td>['\\x1b[1;31m----------------------------------...</td>\n",
       "    </tr>\n",
       "    <tr>\n",
       "      <th>...</th>\n",
       "      <td>...</td>\n",
       "      <td>...</td>\n",
       "      <td>...</td>\n",
       "      <td>...</td>\n",
       "      <td>...</td>\n",
       "    </tr>\n",
       "    <tr>\n",
       "      <th>184955</th>\n",
       "      <td>00311-934-untitled.ipynb</td>\n",
       "      <td>50535efd-a8bf-3a92-a601-1765bf5f06c5</td>\n",
       "      <td>SyntaxError</td>\n",
       "      <td>invalid syntax (&lt;unknown&gt;, line 1)</td>\n",
       "      <td>['\\x1b[0;36m  File \\x1b[0;32m\"&lt;unknown&gt;\"\\x1b[0...</td>\n",
       "    </tr>\n",
       "    <tr>\n",
       "      <th>184956</th>\n",
       "      <td>00311-934-untitled.ipynb</td>\n",
       "      <td>e355287b-9fe4-30fe-8d6d-b64dbd1221bf</td>\n",
       "      <td>TypeError</td>\n",
       "      <td>'NoneType' object is not iterable</td>\n",
       "      <td>['\\x1b[0;31m----------------------------------...</td>\n",
       "    </tr>\n",
       "    <tr>\n",
       "      <th>184958</th>\n",
       "      <td>00311-984-working-with-mask-during-horizontal-...</td>\n",
       "      <td>e4f3c856-5baa-38b7-b845-c2a375684c80</td>\n",
       "      <td>ValueError</td>\n",
       "      <td>Input matrix must have some non-missing values</td>\n",
       "      <td>['\\x1b[0;31m----------------------------------...</td>\n",
       "    </tr>\n",
       "    <tr>\n",
       "      <th>184959</th>\n",
       "      <td>00311-987-titanic.ipynb</td>\n",
       "      <td>35ddb5fc-328e-3ddc-a89d-c560aee297b8</td>\n",
       "      <td>NameError</td>\n",
       "      <td>ignored</td>\n",
       "      <td>['\\x1b[0;31m----------------------------------...</td>\n",
       "    </tr>\n",
       "    <tr>\n",
       "      <th>184960</th>\n",
       "      <td>00311-992-p1.ipynb</td>\n",
       "      <td>621e8c51-62b6-3233-9c53-4e1a16f36260</td>\n",
       "      <td>TypeError</td>\n",
       "      <td>expected non-empty vector for x</td>\n",
       "      <td>['\\x1b[0;31m----------------------------------...</td>\n",
       "    </tr>\n",
       "  </tbody>\n",
       "</table>\n",
       "<p>177258 rows × 5 columns</p>\n",
       "</div>"
      ],
      "text/plain": [
       "                                                    fname  \\\n",
       "0            00000-101-cookie-clicker-v2-checkpoint.ipynb   \n",
       "1       00000-1012-demand-forecasting-data-prep-from-s...   \n",
       "2                         00000-1017-heatmapseq2seq.ipynb   \n",
       "3              00000-1023-crawler-20190515-20190516.ipynb   \n",
       "4       00000-1033-peer-solution-predicting-survival-t...   \n",
       "...                                                   ...   \n",
       "184955                           00311-934-untitled.ipynb   \n",
       "184956                           00311-934-untitled.ipynb   \n",
       "184958  00311-984-working-with-mask-during-horizontal-...   \n",
       "184959                            00311-987-titanic.ipynb   \n",
       "184960                                 00311-992-p1.ipynb   \n",
       "\n",
       "                                         eid              ename  \\\n",
       "0       ee96dec2-5fe1-3987-ba58-07e512554c00  KeyboardInterrupt   \n",
       "1       b4f66669-4871-3fee-a363-f66dbdb4d1e6   OperationalError   \n",
       "2       043d8058-a3ec-329f-b336-8e33c5aa13af         ValueError   \n",
       "3       eae0a7a6-1c3a-381e-838c-9c450abccba9    ConnectionError   \n",
       "4       b3d8e543-07dd-3c04-b122-3d6981b1564c           URLError   \n",
       "...                                      ...                ...   \n",
       "184955  50535efd-a8bf-3a92-a601-1765bf5f06c5        SyntaxError   \n",
       "184956  e355287b-9fe4-30fe-8d6d-b64dbd1221bf          TypeError   \n",
       "184958  e4f3c856-5baa-38b7-b845-c2a375684c80         ValueError   \n",
       "184959  35ddb5fc-328e-3ddc-a89d-c560aee297b8          NameError   \n",
       "184960  621e8c51-62b6-3233-9c53-4e1a16f36260          TypeError   \n",
       "\n",
       "                                                   evalue  \\\n",
       "0                                                     NaN   \n",
       "1       FATAL:  no pg_hba.conf entry for host \"75.166....   \n",
       "2       x and y must have same first dimension, but ha...   \n",
       "3       HTTPSConnectionPool(host='www.backpackers.com....   \n",
       "4        <urlopen error [Errno 11001] getaddrinfo failed>   \n",
       "...                                                   ...   \n",
       "184955                 invalid syntax (<unknown>, line 1)   \n",
       "184956                  'NoneType' object is not iterable   \n",
       "184958     Input matrix must have some non-missing values   \n",
       "184959                                            ignored   \n",
       "184960                    expected non-empty vector for x   \n",
       "\n",
       "                                                traceback  \n",
       "0       ['\\x1b[0;31m----------------------------------...  \n",
       "1       ['\\x1b[0;31m----------------------------------...  \n",
       "2       ['\\x1b[0;31m----------------------------------...  \n",
       "3       ['\\x1b[1;31m----------------------------------...  \n",
       "4       ['\\x1b[1;31m----------------------------------...  \n",
       "...                                                   ...  \n",
       "184955  ['\\x1b[0;36m  File \\x1b[0;32m\"<unknown>\"\\x1b[0...  \n",
       "184956  ['\\x1b[0;31m----------------------------------...  \n",
       "184958  ['\\x1b[0;31m----------------------------------...  \n",
       "184959  ['\\x1b[0;31m----------------------------------...  \n",
       "184960  ['\\x1b[0;31m----------------------------------...  \n",
       "\n",
       "[177258 rows x 5 columns]"
      ]
     },
     "execution_count": 21,
     "metadata": {},
     "output_type": "execute_result"
    }
   ],
   "source": [
    "df2_err_python"
   ]
  },
  {
   "cell_type": "code",
   "execution_count": 22,
   "id": "ef2d3750",
   "metadata": {},
   "outputs": [],
   "source": [
    "df2_err_python.to_excel(config.path_github_error_process.joinpath(\"nberror_g_all_eid.xlsx\"), index=False, engine='xlsxwriter')"
   ]
  },
  {
   "cell_type": "code",
   "execution_count": null,
   "id": "0f871a57",
   "metadata": {},
   "outputs": [],
   "source": []
  }
 ],
 "metadata": {
  "kernelspec": {
   "display_name": "Python 3 (ipykernel)",
   "language": "python",
   "name": "python3"
  },
  "language_info": {
   "codemirror_mode": {
    "name": "ipython",
    "version": 3
   },
   "file_extension": ".py",
   "mimetype": "text/x-python",
   "name": "python",
   "nbconvert_exporter": "python",
   "pygments_lexer": "ipython3",
   "version": "3.11.5"
  }
 },
 "nbformat": 4,
 "nbformat_minor": 5
}
